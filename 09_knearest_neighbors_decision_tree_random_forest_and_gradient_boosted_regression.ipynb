{
 "cells": [
  {
   "cell_type": "markdown",
   "id": "12d78126-9c3d-48b9-8dc3-eb30a1b77f6f",
   "metadata": {},
   "source": [
    "# K-Nearest Neighbors, Decision Tree, Random Forest, and Gradient Boosted Regression\n",
    "\n",
    "\n",
    "- K-nearest neighbors and decision tree can be used for classification and regression\n",
    "- they can handle nonlinearity well and no assumptions regarding the Gaussian distribution of features need to be made\n",
    "- the value of _k_, the maximal depth of decision tree can be adjusted to avoid overfitting\n",
    "\n",
    "In this chapter, we will cover the following\n",
    "- key concepts for k-nearest neighbors regression\n",
    "- k-nearest neighbors regression\n",
    "- key concepts for decision trees and random forest regression\n",
    "- decision tree and random forest regression\n",
    "- using gradient boosted regression"
   ]
  },
  {
   "cell_type": "markdown",
   "id": "be15ebb5-b8bf-4cff-b515-9257897f47b7",
   "metadata": {},
   "source": [
    "## Q/A"
   ]
  },
  {
   "cell_type": "markdown",
   "id": "cae1151c-dcdd-4a01-a0ea-feabaf1d4a28",
   "metadata": {
    "jp-MarkdownHeadingCollapsed": true,
    "tags": []
   },
   "source": [
    "<details>\n",
    "<summary>How does KNN works</summary>\n",
    "\n",
    "### How does KNN works\n",
    "\n",
    "K-nearest neighbors (KNN) is a machine learning algorithm that can be used for both classification and regression tasks. It works by finding the k most similar training examples to a new data point, and then using the labels of those training examples to predict the label of the new data point.\n",
    "\n",
    "In the context of text classification, KNN can be used to classify words into different categories. For example, you could use KNN to classify words into nouns, verbs, adjectives, and adverbs.\n",
    "\n",
    "To use KNN for text classification, you first need to train the algorithm on a dataset of words that have already been classified. This dataset is called the training set. Once the algorithm has been trained, you can use it to classify new words.\n",
    "\n",
    "To classify a new word, you first need to find the k most similar words in the training set. This can be done using a variety of distance metrics, such as the Euclidean distance or the cosine similarity. Once you have found the k most similar words, you can use the labels of those words to predict the label of the new word.\n",
    "\n",
    "For example, let's say you want to classify the word \"dog\". You could use KNN to find the k most similar words in the training set. Let's say that the k most similar words are \"cat\", \"pet\", \"animal\", and \"mammal\". All of these words are nouns, so KNN would predict that the word \"dog\" is also a noun.\n",
    "\n",
    "KNN is a simple and effective machine learning algorithm that can be used for a variety of text classification tasks. It is a good choice for tasks where you do not have a lot of training data, or where the training data is noisy.\n",
    "    </details>"
   ]
  },
  {
   "cell_type": "markdown",
   "id": "d0a04088-23d7-44f0-8abe-428428b99aa1",
   "metadata": {
    "tags": []
   },
   "source": [
    "### How does the value of `k` affects KNN algorithm?\n",
    "The value of k in the KNN algorithm is the number of nearest neighbors that are used to predict the label of a new data point. The value of k can have a significant impact on the performance of the KNN algorithm.\n",
    "\n",
    "If the value of k is too small, the KNN algorithm may be overfit to the training data. This means that the algorithm will perform well on the training data, but it will not perform well on new data.\n",
    "\n",
    "If the value of k is too large, the KNN algorithm may be underfit to the training data. This means that the algorithm will not perform well on either the training data or new data.\n",
    "\n",
    "The optimal value of k will depend on the specific dataset that is being used. In general, it is a good idea to start with a small value of k and then increase the value of k until the performance of the KNN algorithm starts to degrade.\n",
    "\n",
    "Here are some additional tips for choosing the value of k:\n",
    "\n",
    "- Use a cross-validation set to evaluate the performance of the KNN algorithm for different values of k.\n",
    "- Use a grid search to find the optimal value of k.\n",
    "- Use a holdout set to evaluate the performance of the KNN algorithm on new data.\n",
    "\n",
    "Ultimately, the best way to choose the value of k will depend on the specific needs of your application."
   ]
  },
  {
   "cell_type": "markdown",
   "id": "367bf1c5-c2fc-4228-a036-69e38b67e24e",
   "metadata": {
    "jp-MarkdownHeadingCollapsed": true,
    "tags": []
   },
   "source": [
    "### What are the similarity measures that are used for KNN?\n",
    "\n",
    "There are many similarity measures that can be used for KNN. Some of the most common similarity measures include:\n",
    "\n",
    "- Euclidean distance: This is the most common similarity measure. It measures the distance between two points in a Euclidean space.\n",
    "- Manhattan distance: This similarity measure measures the distance between two points in a Manhattan space.\n",
    "- Minkowski distance: This similarity measure is a generalization of the Euclidean and Manhattan distances. It allows for different weights to be applied to each dimension.\n",
    "- Cosine similarity: This similarity measure measures the cosine of the angle between two vectors. It is often used for text classification tasks.\n",
    "- Jaccard similarity: This similarity measure measures the intersection of two sets divided by the union of the two sets. It is often used for document similarity tasks.\n",
    "\n",
    "The choice of similarity measure will depend on the specific data that is being used. In general, it is a good idea to experiment with different similarity measures to see which one produces the best results."
   ]
  },
  {
   "cell_type": "markdown",
   "id": "1aeb64e3-3113-406d-b76f-f91b010a319d",
   "metadata": {},
   "source": [
    "### How to pick the best value of `k`\n",
    "\n",
    "There is no one-size-fits-all answer to this question, as the optimal value of k will vary depending on the specific dataset and application. However, there are a few general guidelines that can be followed:\n",
    "\n",
    "- Start with a small value of k. A small value of k will make the KNN algorithm more sensitive to noise in the data, but it will also make the algorithm less likely to overfit the training data.\n",
    "- Increase the value of k until the performance of the algorithm starts to plateau. Once the performance of the algorithm starts to plateau, increasing the value of k will not improve the performance of the algorithm.\n",
    "- Use a cross-validation set to evaluate the performance of the algorithm for different values of k. A cross-validation set is a set of data that is held out from the training set and used to evaluate the performance of the algorithm. Using a cross-validation set will help you to choose the value of k that produces the best results on unseen data.\n",
    "\n",
    "Here are some additional tips for choosing the value of k:\n",
    "\n",
    "- Use a grid search to find the optimal value of k. A grid search is a technique that can be used to find the optimal values of hyperparameters, such as the value of k.\n",
    "- Use a holdout set to evaluate the performance of the algorithm on new data. A holdout set is a set of data that is held out from the training set and used to evaluate the performance of the algorithm on new data. Using a holdout set will help you to get a more accurate estimate of the performance of the algorithm on new data.\n",
    "\n",
    "Ultimately, the best way to choose the value of k will depend on the specific needs of your application."
   ]
  },
  {
   "cell_type": "markdown",
   "id": "99acf639-88f0-4826-b30c-a34f77c03dc3",
   "metadata": {},
   "source": [
    "## K-nearest neighbors regression\n",
    "\n",
    "\n",
    "We will use KNN to build a model of the ratio of female to male incomes at the level of country. "
   ]
  },
  {
   "cell_type": "code",
   "execution_count": 1,
   "id": "ce054478-1eee-4443-8631-49e9c0b1ce0a",
   "metadata": {
    "tags": []
   },
   "outputs": [],
   "source": [
    "import matplotlib.pyplot as plt\n",
    "import numpy as np\n",
    "import pandas as pd\n",
    "import seaborn as sns\n",
    "from sklearn.feature_selection import SelectFromModel\n",
    "from sklearn.impute import SimpleImputer\n",
    "from sklearn.linear_model import LinearRegression\n",
    "from sklearn.model_selection import RandomizedSearchCV, train_test_split\n",
    "from sklearn.neighbors import KNeighborsRegressor\n",
    "from sklearn.pipeline import make_pipeline\n",
    "from sklearn.preprocessing import StandardScaler\n",
    "\n",
    "from data.load import load_un_income\n",
    "from preprocfunc import OutlierTrans"
   ]
  },
  {
   "cell_type": "code",
   "execution_count": 2,
   "id": "b6084066-7e98-4b33-b0be-eb5b03b1060f",
   "metadata": {
    "tags": []
   },
   "outputs": [
    {
     "data": {
      "text/plain": [
       "Index(['gdirank', 'genderdev', 'femalehumandevelopment',\n",
       "       'malehumandevelopment', 'femalelifeexpectancy', 'malelifeexpectancy',\n",
       "       'femaleexpectededucation', 'maleexpectededucation',\n",
       "       'femaleyearseducation', 'maleyearseducation', 'femaleincomepercapita',\n",
       "       'maleincomepercapita', 'giirank', 'genderinequality',\n",
       "       'maternalmortality', 'adolescentbirthrate', 'femaleperparliament',\n",
       "       'femalepersecondaryeducation', 'malepersecondaryeducation',\n",
       "       'femalelaborforceparticipation', 'malelaborforceparticipation',\n",
       "       'hdirank', 'hdi', 'lifeexpectancy', 'expectededucation', 'education',\n",
       "       'incomepercapita', 'incomerank', 'incomeratio', 'educratio',\n",
       "       'laborforcepartratio', 'humandevratio'],\n",
       "      dtype='object')"
      ]
     },
     "execution_count": 2,
     "metadata": {},
     "output_type": "execute_result"
    }
   ],
   "source": [
    "df = load_un_income()\n",
    "df.columns"
   ]
  },
  {
   "cell_type": "code",
   "execution_count": 4,
   "id": "ac5c011c-f9a7-4415-8496-3b4454a9a9d6",
   "metadata": {
    "tags": []
   },
   "outputs": [
    {
     "data": {
      "text/html": [
       "<div>\n",
       "<style scoped>\n",
       "    .dataframe tbody tr th:only-of-type {\n",
       "        vertical-align: middle;\n",
       "    }\n",
       "\n",
       "    .dataframe tbody tr th {\n",
       "        vertical-align: top;\n",
       "    }\n",
       "\n",
       "    .dataframe thead th {\n",
       "        text-align: right;\n",
       "    }\n",
       "</style>\n",
       "<table border=\"1\" class=\"dataframe\">\n",
       "  <thead>\n",
       "    <tr style=\"text-align: right;\">\n",
       "      <th></th>\n",
       "      <th>incomeratio</th>\n",
       "      <th>educratio</th>\n",
       "      <th>laborforcepartratio</th>\n",
       "      <th>humandevratio</th>\n",
       "      <th>genderinequality</th>\n",
       "      <th>maternalmortality</th>\n",
       "      <th>adolescentbirthrate</th>\n",
       "      <th>femaleperparliament</th>\n",
       "      <th>incomepercapita</th>\n",
       "    </tr>\n",
       "    <tr>\n",
       "      <th>country</th>\n",
       "      <th></th>\n",
       "      <th></th>\n",
       "      <th></th>\n",
       "      <th></th>\n",
       "      <th></th>\n",
       "      <th></th>\n",
       "      <th></th>\n",
       "      <th></th>\n",
       "      <th></th>\n",
       "    </tr>\n",
       "  </thead>\n",
       "  <tbody>\n",
       "    <tr>\n",
       "      <th>Norway</th>\n",
       "      <td>0.784621</td>\n",
       "      <td>1.016000</td>\n",
       "      <td>0.890830</td>\n",
       "      <td>0.995763</td>\n",
       "      <td>0.067</td>\n",
       "      <td>4.0</td>\n",
       "      <td>7.8</td>\n",
       "      <td>39.6</td>\n",
       "      <td>64992</td>\n",
       "    </tr>\n",
       "    <tr>\n",
       "      <th>Australia</th>\n",
       "      <td>0.661665</td>\n",
       "      <td>1.015504</td>\n",
       "      <td>0.818942</td>\n",
       "      <td>0.975661</td>\n",
       "      <td>0.110</td>\n",
       "      <td>6.0</td>\n",
       "      <td>12.1</td>\n",
       "      <td>30.5</td>\n",
       "      <td>42261</td>\n",
       "    </tr>\n",
       "    <tr>\n",
       "      <th>Switzerland</th>\n",
       "      <td>0.638881</td>\n",
       "      <td>0.877863</td>\n",
       "      <td>0.825100</td>\n",
       "      <td>0.950265</td>\n",
       "      <td>0.028</td>\n",
       "      <td>6.0</td>\n",
       "      <td>1.9</td>\n",
       "      <td>28.5</td>\n",
       "      <td>56431</td>\n",
       "    </tr>\n",
       "    <tr>\n",
       "      <th>Denmark</th>\n",
       "      <td>0.704448</td>\n",
       "      <td>1.007874</td>\n",
       "      <td>0.884036</td>\n",
       "      <td>0.976445</td>\n",
       "      <td>0.048</td>\n",
       "      <td>5.0</td>\n",
       "      <td>5.1</td>\n",
       "      <td>38.0</td>\n",
       "      <td>44025</td>\n",
       "    </tr>\n",
       "    <tr>\n",
       "      <th>Netherlands</th>\n",
       "      <td>0.478578</td>\n",
       "      <td>0.950820</td>\n",
       "      <td>0.828612</td>\n",
       "      <td>0.946978</td>\n",
       "      <td>0.062</td>\n",
       "      <td>6.0</td>\n",
       "      <td>6.2</td>\n",
       "      <td>36.9</td>\n",
       "      <td>45435</td>\n",
       "    </tr>\n",
       "  </tbody>\n",
       "</table>\n",
       "</div>"
      ],
      "text/plain": [
       "             incomeratio  educratio  laborforcepartratio  humandevratio  \\\n",
       "country                                                                   \n",
       "Norway          0.784621   1.016000             0.890830       0.995763   \n",
       "Australia       0.661665   1.015504             0.818942       0.975661   \n",
       "Switzerland     0.638881   0.877863             0.825100       0.950265   \n",
       "Denmark         0.704448   1.007874             0.884036       0.976445   \n",
       "Netherlands     0.478578   0.950820             0.828612       0.946978   \n",
       "\n",
       "             genderinequality  maternalmortality  adolescentbirthrate  \\\n",
       "country                                                                 \n",
       "Norway                  0.067                4.0                  7.8   \n",
       "Australia               0.110                6.0                 12.1   \n",
       "Switzerland             0.028                6.0                  1.9   \n",
       "Denmark                 0.048                5.0                  5.1   \n",
       "Netherlands             0.062                6.0                  6.2   \n",
       "\n",
       "             femaleperparliament  incomepercapita  \n",
       "country                                            \n",
       "Norway                      39.6            64992  \n",
       "Australia                   30.5            42261  \n",
       "Switzerland                 28.5            56431  \n",
       "Denmark                     38.0            44025  \n",
       "Netherlands                 36.9            45435  "
      ]
     },
     "execution_count": 4,
     "metadata": {},
     "output_type": "execute_result"
    }
   ],
   "source": [
    "num_cols = [\n",
    "    \"educratio\",\n",
    "    \"laborforcepartratio\",\n",
    "    \"humandevratio\",\n",
    "    \"genderinequality\",\n",
    "    \"maternalmortality\",\n",
    "    \"adolescentbirthrate\",\n",
    "    \"femaleperparliament\",\n",
    "    \"incomepercapita\",\n",
    "]\n",
    "\n",
    "gap_sub = df[[\"incomeratio\"] + num_cols]\n",
    "gap_sub.head()"
   ]
  },
  {
   "cell_type": "markdown",
   "id": "324ee9c7-aa79-4fda-8fbc-f6648d0db1c4",
   "metadata": {},
   "source": [
    "Let's look at some descriptive statistics"
   ]
  },
  {
   "cell_type": "code",
   "execution_count": 6,
   "id": "041736a5-879b-4835-bc67-6fb1280d3241",
   "metadata": {
    "tags": []
   },
   "outputs": [
    {
     "data": {
      "text/html": [
       "<div>\n",
       "<style scoped>\n",
       "    .dataframe tbody tr th:only-of-type {\n",
       "        vertical-align: middle;\n",
       "    }\n",
       "\n",
       "    .dataframe tbody tr th {\n",
       "        vertical-align: top;\n",
       "    }\n",
       "\n",
       "    .dataframe thead th {\n",
       "        text-align: right;\n",
       "    }\n",
       "</style>\n",
       "<table border=\"1\" class=\"dataframe\">\n",
       "  <thead>\n",
       "    <tr style=\"text-align: right;\">\n",
       "      <th></th>\n",
       "      <th>count</th>\n",
       "      <th>min</th>\n",
       "      <th>median</th>\n",
       "      <th>max</th>\n",
       "    </tr>\n",
       "  </thead>\n",
       "  <tbody>\n",
       "    <tr>\n",
       "      <th>incomeratio</th>\n",
       "      <td>177.0</td>\n",
       "      <td>0.156802</td>\n",
       "      <td>0.604965</td>\n",
       "      <td>0.927258</td>\n",
       "    </tr>\n",
       "    <tr>\n",
       "      <th>educratio</th>\n",
       "      <td>169.0</td>\n",
       "      <td>0.235294</td>\n",
       "      <td>0.931818</td>\n",
       "      <td>1.348485</td>\n",
       "    </tr>\n",
       "    <tr>\n",
       "      <th>laborforcepartratio</th>\n",
       "      <td>177.0</td>\n",
       "      <td>0.185695</td>\n",
       "      <td>0.753467</td>\n",
       "      <td>1.038037</td>\n",
       "    </tr>\n",
       "    <tr>\n",
       "      <th>humandevratio</th>\n",
       "      <td>161.0</td>\n",
       "      <td>0.600733</td>\n",
       "      <td>0.949728</td>\n",
       "      <td>1.030708</td>\n",
       "    </tr>\n",
       "    <tr>\n",
       "      <th>genderinequality</th>\n",
       "      <td>155.0</td>\n",
       "      <td>0.016000</td>\n",
       "      <td>0.385000</td>\n",
       "      <td>0.744000</td>\n",
       "    </tr>\n",
       "    <tr>\n",
       "      <th>maternalmortality</th>\n",
       "      <td>174.0</td>\n",
       "      <td>1.000000</td>\n",
       "      <td>60.000000</td>\n",
       "      <td>1100.000000</td>\n",
       "    </tr>\n",
       "    <tr>\n",
       "      <th>adolescentbirthrate</th>\n",
       "      <td>177.0</td>\n",
       "      <td>0.600000</td>\n",
       "      <td>40.900000</td>\n",
       "      <td>204.800000</td>\n",
       "    </tr>\n",
       "    <tr>\n",
       "      <th>femaleperparliament</th>\n",
       "      <td>174.0</td>\n",
       "      <td>0.000000</td>\n",
       "      <td>19.350000</td>\n",
       "      <td>57.500000</td>\n",
       "    </tr>\n",
       "    <tr>\n",
       "      <th>incomepercapita</th>\n",
       "      <td>177.0</td>\n",
       "      <td>581.000000</td>\n",
       "      <td>10512.000000</td>\n",
       "      <td>123124.000000</td>\n",
       "    </tr>\n",
       "  </tbody>\n",
       "</table>\n",
       "</div>"
      ],
      "text/plain": [
       "                     count         min        median            max\n",
       "incomeratio          177.0    0.156802      0.604965       0.927258\n",
       "educratio            169.0    0.235294      0.931818       1.348485\n",
       "laborforcepartratio  177.0    0.185695      0.753467       1.038037\n",
       "humandevratio        161.0    0.600733      0.949728       1.030708\n",
       "genderinequality     155.0    0.016000      0.385000       0.744000\n",
       "maternalmortality    174.0    1.000000     60.000000    1100.000000\n",
       "adolescentbirthrate  177.0    0.600000     40.900000     204.800000\n",
       "femaleperparliament  174.0    0.000000     19.350000      57.500000\n",
       "incomepercapita      177.0  581.000000  10512.000000  123124.000000"
      ]
     },
     "execution_count": 6,
     "metadata": {},
     "output_type": "execute_result"
    }
   ],
   "source": [
    "gap_sub.agg([\"count\", \"min\", \"median\", \"max\"]).T"
   ]
  },
  {
   "cell_type": "markdown",
   "id": "543e4a6c-5773-4ff2-9500-1b131db7636a",
   "metadata": {},
   "source": [
    "^ We have 177 observations with our target variable, `incomeratio`. \n",
    "\n",
    "A couple of features, `humandevratio` and `genderinequality` have more than 15 missing values. We will need to impute some reasonable values there.\n",
    "\n",
    "We will also need to do some scaling as some features have very different ranges than others, from `incomeratio` and `incomepercapita` on one end to `educratio` and `humandevratio` on the other."
   ]
  },
  {
   "cell_type": "code",
   "execution_count": 7,
   "id": "b6f06126-af17-4b12-800e-560a40a17fcb",
   "metadata": {
    "tags": []
   },
   "outputs": [
    {
     "data": {
      "text/html": [
       "<div>\n",
       "<style scoped>\n",
       "    .dataframe tbody tr th:only-of-type {\n",
       "        vertical-align: middle;\n",
       "    }\n",
       "\n",
       "    .dataframe tbody tr th {\n",
       "        vertical-align: top;\n",
       "    }\n",
       "\n",
       "    .dataframe thead th {\n",
       "        text-align: right;\n",
       "    }\n",
       "</style>\n",
       "<table border=\"1\" class=\"dataframe\">\n",
       "  <thead>\n",
       "    <tr style=\"text-align: right;\">\n",
       "      <th></th>\n",
       "      <th>incomeratio</th>\n",
       "      <th>educratio</th>\n",
       "      <th>laborforcepartratio</th>\n",
       "      <th>humandevratio</th>\n",
       "      <th>genderinequality</th>\n",
       "      <th>maternalmortality</th>\n",
       "      <th>adolescentbirthrate</th>\n",
       "      <th>femaleperparliament</th>\n",
       "      <th>incomepercapita</th>\n",
       "    </tr>\n",
       "  </thead>\n",
       "  <tbody>\n",
       "    <tr>\n",
       "      <th>incomeratio</th>\n",
       "      <td>1.000000</td>\n",
       "      <td>0.087804</td>\n",
       "      <td>0.932622</td>\n",
       "      <td>0.401849</td>\n",
       "      <td>-0.105435</td>\n",
       "      <td>0.244453</td>\n",
       "      <td>0.181539</td>\n",
       "      <td>0.217681</td>\n",
       "      <td>-0.075852</td>\n",
       "    </tr>\n",
       "    <tr>\n",
       "      <th>educratio</th>\n",
       "      <td>0.087804</td>\n",
       "      <td>1.000000</td>\n",
       "      <td>0.065784</td>\n",
       "      <td>0.869849</td>\n",
       "      <td>-0.566815</td>\n",
       "      <td>-0.635926</td>\n",
       "      <td>-0.479240</td>\n",
       "      <td>0.118240</td>\n",
       "      <td>0.427663</td>\n",
       "    </tr>\n",
       "    <tr>\n",
       "      <th>laborforcepartratio</th>\n",
       "      <td>0.932622</td>\n",
       "      <td>0.065784</td>\n",
       "      <td>1.000000</td>\n",
       "      <td>0.360905</td>\n",
       "      <td>-0.157266</td>\n",
       "      <td>0.250906</td>\n",
       "      <td>0.157855</td>\n",
       "      <td>0.237262</td>\n",
       "      <td>-0.014077</td>\n",
       "    </tr>\n",
       "    <tr>\n",
       "      <th>humandevratio</th>\n",
       "      <td>0.401849</td>\n",
       "      <td>0.869849</td>\n",
       "      <td>0.360905</td>\n",
       "      <td>1.000000</td>\n",
       "      <td>-0.654029</td>\n",
       "      <td>-0.651312</td>\n",
       "      <td>-0.505989</td>\n",
       "      <td>0.206926</td>\n",
       "      <td>0.423466</td>\n",
       "    </tr>\n",
       "    <tr>\n",
       "      <th>genderinequality</th>\n",
       "      <td>-0.105435</td>\n",
       "      <td>-0.566815</td>\n",
       "      <td>-0.157266</td>\n",
       "      <td>-0.654029</td>\n",
       "      <td>1.000000</td>\n",
       "      <td>0.723024</td>\n",
       "      <td>0.791822</td>\n",
       "      <td>-0.361259</td>\n",
       "      <td>-0.616109</td>\n",
       "    </tr>\n",
       "    <tr>\n",
       "      <th>maternalmortality</th>\n",
       "      <td>0.244453</td>\n",
       "      <td>-0.635926</td>\n",
       "      <td>0.250906</td>\n",
       "      <td>-0.651312</td>\n",
       "      <td>0.723024</td>\n",
       "      <td>1.000000</td>\n",
       "      <td>0.764804</td>\n",
       "      <td>-0.085453</td>\n",
       "      <td>-0.494633</td>\n",
       "    </tr>\n",
       "    <tr>\n",
       "      <th>adolescentbirthrate</th>\n",
       "      <td>0.181539</td>\n",
       "      <td>-0.479240</td>\n",
       "      <td>0.157855</td>\n",
       "      <td>-0.505989</td>\n",
       "      <td>0.791822</td>\n",
       "      <td>0.764804</td>\n",
       "      <td>1.000000</td>\n",
       "      <td>-0.056025</td>\n",
       "      <td>-0.545689</td>\n",
       "    </tr>\n",
       "    <tr>\n",
       "      <th>femaleperparliament</th>\n",
       "      <td>0.217681</td>\n",
       "      <td>0.118240</td>\n",
       "      <td>0.237262</td>\n",
       "      <td>0.206926</td>\n",
       "      <td>-0.361259</td>\n",
       "      <td>-0.085453</td>\n",
       "      <td>-0.056025</td>\n",
       "      <td>1.000000</td>\n",
       "      <td>0.108014</td>\n",
       "    </tr>\n",
       "    <tr>\n",
       "      <th>incomepercapita</th>\n",
       "      <td>-0.075852</td>\n",
       "      <td>0.427663</td>\n",
       "      <td>-0.014077</td>\n",
       "      <td>0.423466</td>\n",
       "      <td>-0.616109</td>\n",
       "      <td>-0.494633</td>\n",
       "      <td>-0.545689</td>\n",
       "      <td>0.108014</td>\n",
       "      <td>1.000000</td>\n",
       "    </tr>\n",
       "  </tbody>\n",
       "</table>\n",
       "</div>"
      ],
      "text/plain": [
       "                     incomeratio  educratio  laborforcepartratio  \\\n",
       "incomeratio             1.000000   0.087804             0.932622   \n",
       "educratio               0.087804   1.000000             0.065784   \n",
       "laborforcepartratio     0.932622   0.065784             1.000000   \n",
       "humandevratio           0.401849   0.869849             0.360905   \n",
       "genderinequality       -0.105435  -0.566815            -0.157266   \n",
       "maternalmortality       0.244453  -0.635926             0.250906   \n",
       "adolescentbirthrate     0.181539  -0.479240             0.157855   \n",
       "femaleperparliament     0.217681   0.118240             0.237262   \n",
       "incomepercapita        -0.075852   0.427663            -0.014077   \n",
       "\n",
       "                     humandevratio  genderinequality  maternalmortality  \\\n",
       "incomeratio               0.401849         -0.105435           0.244453   \n",
       "educratio                 0.869849         -0.566815          -0.635926   \n",
       "laborforcepartratio       0.360905         -0.157266           0.250906   \n",
       "humandevratio             1.000000         -0.654029          -0.651312   \n",
       "genderinequality         -0.654029          1.000000           0.723024   \n",
       "maternalmortality        -0.651312          0.723024           1.000000   \n",
       "adolescentbirthrate      -0.505989          0.791822           0.764804   \n",
       "femaleperparliament       0.206926         -0.361259          -0.085453   \n",
       "incomepercapita           0.423466         -0.616109          -0.494633   \n",
       "\n",
       "                     adolescentbirthrate  femaleperparliament  incomepercapita  \n",
       "incomeratio                     0.181539             0.217681        -0.075852  \n",
       "educratio                      -0.479240             0.118240         0.427663  \n",
       "laborforcepartratio             0.157855             0.237262        -0.014077  \n",
       "humandevratio                  -0.505989             0.206926         0.423466  \n",
       "genderinequality                0.791822            -0.361259        -0.616109  \n",
       "maternalmortality               0.764804            -0.085453        -0.494633  \n",
       "adolescentbirthrate             1.000000            -0.056025        -0.545689  \n",
       "femaleperparliament            -0.056025             1.000000         0.108014  \n",
       "incomepercapita                -0.545689             0.108014         1.000000  "
      ]
     },
     "execution_count": 7,
     "metadata": {},
     "output_type": "execute_result"
    }
   ],
   "source": [
    "corr_matrix = gap_sub.corr(method=\"pearson\")\n",
    "corr_matrix"
   ]
  },
  {
   "cell_type": "code",
   "execution_count": 9,
   "id": "1968d3ae-c3ff-4f18-9ac4-df34ca0b5665",
   "metadata": {
    "tags": []
   },
   "outputs": [
    {
     "data": {
      "image/png": "[encoded data removed]",
      "text/plain": [
       "<Figure size 432x288 with 2 Axes>"
      ]
     },
     "metadata": {
      "needs_background": "light"
     },
     "output_type": "display_data"
    }
   ],
   "source": [
    "sns.heatmap(\n",
    "    corr_matrix,\n",
    "    xticklabels=corr_matrix.columns,\n",
    "    yticklabels=corr_matrix.columns,\n",
    "    cmap=\"coolwarm\",\n",
    ")\n",
    "plt.title(\"Heat Map of Correlation Matrix\")\n",
    "plt.tight_layout()"
   ]
  },
  {
   "cell_type": "markdown",
   "id": "c1bf7c5c-8b2e-4149-bfef-4748d0a2196a",
   "metadata": {},
   "source": [
    "Setup training and testing DataFrames:"
   ]
  },
  {
   "cell_type": "code",
   "execution_count": 10,
   "id": "957d8311-f2c2-40a9-b570-6197f0e2a07f",
   "metadata": {
    "tags": []
   },
   "outputs": [],
   "source": [
    "X_train, X_test, y_train, y_test = train_test_split(\n",
    "    gap_sub[num_cols], gap_sub[[\"incomeratio\"]], test_size=0.2, random_state=0\n",
    ")"
   ]
  },
  {
   "cell_type": "markdown",
   "id": "a844d230-02d9-4989-a256-a02087856113",
   "metadata": {},
   "source": [
    "We will use linear regression for our feature selection, but we can choose any algorithm that will return feature importance values.\n",
    "\n",
    "We will set the feature importance threshold to 80% of the mean feature importance."
   ]
  },
  {
   "cell_type": "code",
   "execution_count": 15,
   "id": "5c726742-94bb-4377-a705-b787e90ca801",
   "metadata": {
    "tags": []
   },
   "outputs": [],
   "source": [
    "feature_sel = SelectFromModel(LinearRegression(), threshold=\"0.8 * mean\")\n",
    "\n",
    "knn_reg = KNeighborsRegressor()\n",
    "\n",
    "pipe1 = make_pipeline(\n",
    "    OutlierTrans(3),\n",
    "    SimpleImputer(strategy=\"median\"),\n",
    "    StandardScaler(),\n",
    "    feature_sel,\n",
    "    knn_reg,\n",
    ")"
   ]
  },
  {
   "cell_type": "markdown",
   "id": "d10172a6-db3d-4ecd-ba4b-38caac744988",
   "metadata": {},
   "source": [
    "We will do grid search to find the best parameters. We only find values for `k` from 3 to 19, skipping even numbers.\n",
    "\n",
    "We also want the grid search to find the best distance measure - Euclidean, Manhattan, or Minkowski:"
   ]
  },
  {
   "cell_type": "code",
   "execution_count": 16,
   "id": "4427244c-3010-4526-b444-8ad7da9c9825",
   "metadata": {
    "tags": []
   },
   "outputs": [],
   "source": [
    "knn_reg_params = {\n",
    "    \"kneighborsregressor__n_neighbors\": np.arange(3, 21, 2),\n",
    "    \"kneighborsregressor__metric\": [\"euclidean\", \"manhattan\", \"minkowski\"],\n",
    "}"
   ]
  },
  {
   "cell_type": "code",
   "execution_count": 17,
   "id": "aeb285e8-62cc-4e0b-b66a-263d9e631569",
   "metadata": {
    "tags": []
   },
   "outputs": [
    {
     "data": {
      "text/plain": [
       "{'kneighborsregressor__n_neighbors': 11,\n",
       " 'kneighborsregressor__metric': 'manhattan'}"
      ]
     },
     "execution_count": 17,
     "metadata": {},
     "output_type": "execute_result"
    }
   ],
   "source": [
    "rs = RandomizedSearchCV(\n",
    "    pipe1,\n",
    "    knn_reg_params,\n",
    "    cv=4,\n",
    "    n_iter=20,\n",
    "    scoring=\"neg_mean_absolute_error\",\n",
    "    random_state=1,\n",
    ")\n",
    "rs.fit(X_train, y_train)\n",
    "\n",
    "rs.best_params_"
   ]
  },
  {
   "cell_type": "code",
   "execution_count": 18,
   "id": "514b57ce-6bb2-406d-9362-5622b7d89d52",
   "metadata": {
    "tags": []
   },
   "outputs": [
    {
     "data": {
      "text/plain": [
       "-0.05419731104389228"
      ]
     },
     "execution_count": 18,
     "metadata": {},
     "output_type": "execute_result"
    }
   ],
   "source": [
    "rs.best_score_"
   ]
  },
  {
   "cell_type": "markdown",
   "id": "6af71c9e-7fc1-4b4f-90eb-02f29464ea40",
   "metadata": {},
   "source": [
    "^ These results suggest that the best hyperparameter values are 11 for `k` for KNN and Manhattan for the distance metric.\n",
    "\n",
    "The best model has a negative mean squared error of -0.05. This is fairly decent, given the small sample size. It is less than 10% of the median value of `incomeratio`, which is 0.6."
   ]
  },
  {
   "cell_type": "markdown",
   "id": "36a3bc90-d7f6-43af-886e-741870c2e696",
   "metadata": {},
   "source": [
    "To see the features that weere selected:"
   ]
  },
  {
   "cell_type": "code",
   "execution_count": 21,
   "id": "934bd7c0-9963-424d-9ed7-f71ee4db0fbd",
   "metadata": {
    "tags": []
   },
   "outputs": [
    {
     "data": {
      "text/plain": [
       "array(['laborforcepartratio', 'humandevratio'], dtype=object)"
      ]
     },
     "execution_count": 21,
     "metadata": {},
     "output_type": "execute_result"
    }
   ],
   "source": [
    "rs.best_estimator_[\"selectfrommodel\"].get_feature_names_out(num_cols)"
   ]
  },
  {
   "cell_type": "markdown",
   "id": "db59cbde-84c0-4450-96bc-09fd26fc98a0",
   "metadata": {},
   "source": [
    "^ Only two features were selected."
   ]
  },
  {
   "cell_type": "markdown",
   "id": "348b12c8-ca6b-4555-b4f2-75fc13a618b0",
   "metadata": {},
   "source": [
    "To see the performance of other models:"
   ]
  },
  {
   "cell_type": "code",
   "execution_count": 26,
   "id": "ee7568c0-132d-4130-88b9-1b580ec9201b",
   "metadata": {
    "tags": []
   },
   "outputs": [
    {
     "data": {
      "text/html": [
       "<div>\n",
       "<style scoped>\n",
       "    .dataframe tbody tr th:only-of-type {\n",
       "        vertical-align: middle;\n",
       "    }\n",
       "\n",
       "    .dataframe tbody tr th {\n",
       "        vertical-align: top;\n",
       "    }\n",
       "\n",
       "    .dataframe thead th {\n",
       "        text-align: right;\n",
       "    }\n",
       "</style>\n",
       "<table border=\"1\" class=\"dataframe\">\n",
       "  <thead>\n",
       "    <tr style=\"text-align: right;\">\n",
       "      <th></th>\n",
       "      <th>13</th>\n",
       "      <th>1</th>\n",
       "      <th>3</th>\n",
       "    </tr>\n",
       "  </thead>\n",
       "  <tbody>\n",
       "    <tr>\n",
       "      <th>meanscore</th>\n",
       "      <td>-0.054197</td>\n",
       "      <td>-0.054811</td>\n",
       "      <td>-0.054918</td>\n",
       "    </tr>\n",
       "    <tr>\n",
       "      <th>kneighborsregressor__n_neighbors</th>\n",
       "      <td>11</td>\n",
       "      <td>13</td>\n",
       "      <td>9</td>\n",
       "    </tr>\n",
       "    <tr>\n",
       "      <th>kneighborsregressor__metric</th>\n",
       "      <td>manhattan</td>\n",
       "      <td>manhattan</td>\n",
       "      <td>euclidean</td>\n",
       "    </tr>\n",
       "  </tbody>\n",
       "</table>\n",
       "</div>"
      ],
      "text/plain": [
       "                                         13         1          3 \n",
       "meanscore                         -0.054197  -0.054811  -0.054918\n",
       "kneighborsregressor__n_neighbors         11         13          9\n",
       "kneighborsregressor__metric       manhattan  manhattan  euclidean"
      ]
     },
     "execution_count": 26,
     "metadata": {},
     "output_type": "execute_result"
    }
   ],
   "source": [
    "results = (\n",
    "    pd.DataFrame(rs.cv_results_[\"mean_test_score\"], columns=[\"meanscore\"])\n",
    "    .join(pd.DataFrame(rs.cv_results_[\"params\"]))\n",
    "    .sort_values([\"meanscore\"], ascending=False)\n",
    ")\n",
    "results.head(3).T"
   ]
  },
  {
   "cell_type": "markdown",
   "id": "ac29acb3-3c00-4bb2-954b-be85a136f937",
   "metadata": {},
   "source": [
    "^ There is a model that uses `euclidean` distance that performs nearly as well as the best model."
   ]
  },
  {
   "cell_type": "code",
   "execution_count": 27,
   "id": "447cf909-b2c7-4e91-8721-32e7ee49861d",
   "metadata": {
    "tags": []
   },
   "outputs": [
    {
     "data": {
      "text/plain": [
       "mean       -0.009897\n",
       "median     -0.009718\n",
       "skew       -0.606682\n",
       "kurtosis    0.233874\n",
       "Name: resid, dtype: float64"
      ]
     },
     "execution_count": 27,
     "metadata": {},
     "output_type": "execute_result"
    }
   ],
   "source": [
    "pred = rs.predict(X_test)\n",
    "pred_df = (\n",
    "    pd.DataFrame(pred, columns=[\"prediction\"], index=X_test.index)\n",
    "    .join(X_test)\n",
    "    .join(y_test)\n",
    ")\n",
    "pred_df[\"resid\"] = pred_df.incomeratio - pred_df.prediction\n",
    "pred_df.resid.agg([\"mean\", \"median\", \"skew\", \"kurtosis\"])"
   ]
  },
  {
   "cell_type": "markdown",
   "id": "8e68c6d6-255c-4e96-8ed7-cce0292617ae",
   "metadata": {},
   "source": [
    "^ The residuals are nicely balanced around 0. There is a little bit of negative skew but that's not bad either. Tehre is low kurtosis"
   ]
  },
  {
   "cell_type": "markdown",
   "id": "79ab67ca-72b3-4f07-8d1c-90d9c7f1f21f",
   "metadata": {},
   "source": [
    "Let's plot the residual."
   ]
  },
  {
   "cell_type": "code",
   "execution_count": 29,
   "id": "1e727f9a-1921-43b6-968b-2448536ec05c",
   "metadata": {},
   "outputs": [
    {
     "data": {
      "image/png": "[encoded data removed]",
      "text/plain": [
       "<Figure size 432x288 with 1 Axes>"
      ]
     },
     "metadata": {
      "needs_background": "light"
     },
     "output_type": "display_data"
    }
   ],
   "source": [
    "plt.hist(pred_df.resid, color=\"blue\")\n",
    "plt.axvline(pred_df.resid.mean(), color=\"red\", linestyle=\"dashed\", linewidth=1)\n",
    "plt.title(\"Histogram of Residuals for Gas Tax Model\")\n",
    "plt.xlabel(\"Residuals\")\n",
    "plt.ylabel(\"Frequency\")\n",
    "plt.xlim()\n",
    "plt.show()"
   ]
  },
  {
   "cell_type": "markdown",
   "id": "7d71db8e-0245-46d6-8a1d-970125a3e7e3",
   "metadata": {},
   "source": [
    "^ The residuals also look pretty decent when we plot them. There are a couple of countries, however, were we are more than 0.1 off in our prediction. We over-predict in both of the cases. (The dashed red line is the average residual amount)."
   ]
  },
  {
   "cell_type": "code",
   "execution_count": 31,
   "id": "8d5683a4-3421-407a-84c1-917cc0962381",
   "metadata": {
    "tags": []
   },
   "outputs": [
    {
     "data": {
      "text/plain": [
       "Text(0, 0.5, 'Residuals')"
      ]
     },
     "execution_count": 31,
     "metadata": {},
     "output_type": "execute_result"
    },
    {
     "data": {
      "image/png": "[encoded data removed]",
      "text/plain": [
       "<Figure size 432x288 with 1 Axes>"
      ]
     },
     "metadata": {
      "needs_background": "light"
     },
     "output_type": "display_data"
    }
   ],
   "source": [
    "plt.scatter(pred_df.prediction, pred_df.resid, color=\"blue\")\n",
    "plt.axhline(0, color=\"red\", linestyle=\"dashed\", linewidth=1)\n",
    "plt.title(\"Scatterplot of Predictions and Residuals\")\n",
    "plt.xlabel(\"Predicted Income Gap\")\n",
    "plt.ylabel(\"Residuals\")"
   ]
  },
  {
   "cell_type": "markdown",
   "id": "7b4a18b4-1375-4250-8db5-15b72cc4399e",
   "metadata": {},
   "source": [
    "^ Here we can see that the two large over-predictions are at different ends of the predicted range. In general, the residuals are fairly constant across the predicted income ratio range."
   ]
  },
  {
   "cell_type": "markdown",
   "id": "29e1b3d9-9346-45f6-9bce-bfc35df30464",
   "metadata": {},
   "source": [
    "<details>\n",
    "\n",
    "<summary> How to interpret the scatterplot of predictions and residuals? </summary>\n",
    "    \n",
    "#### Interpreting scatterplot results\n",
    "    \n",
    "A scatterplot of predictions and residuals is a useful tool for evaluating the performance of a regression model. The scatterplot shows the relationship between the predicted values and the residuals. The residuals are the differences between the predicted values and the actual values.\n",
    "\n",
    "A good regression model will have a scatterplot that is randomly scattered around the line y=0. This means that the model is not systematically over- or under-predicting the values. If the scatterplot shows a pattern, such as a curved line, then it means that the model is not a good fit for the data.\n",
    "\n",
    "Here is an example of a scatterplot of predictions and residuals:\n",
    "\n",
    "\n",
    "Here are some things to look for when interpreting a scatterplot of predictions and residuals:\n",
    "\n",
    "- **The overall shape of the scatterplot**: A good regression model will have a scatterplot that is randomly scattered around the line y=0. If the scatterplot shows a pattern, such as a curved line, then it means that the model is not a good fit for the data.\n",
    "- **The spread of the residuals**: The residuals should be evenly spread around the line y=0. If the residuals are not evenly spread, then it means that the model is not a good fit for the data.\n",
    "- **The presence of outliers**: Outliers are points that are far away from the rest of the data. Outliers can be caused by errors in the data or by the model not being able to fit the data well.\n",
    "    \n",
    "If you see any of these problems in a scatterplot of predictions and residuals, then you should consider improving the model. You can do this by changing the model parameters, adding more features to the model, or removing outliers from the data.\n",
    "</details>"
   ]
  }
 ],
 "metadata": {
  "kernelspec": {
   "display_name": "Python 3 (ipykernel)",
   "language": "python",
   "name": "python3"
  },
  "language_info": {
   "codemirror_mode": {
    "name": "ipython",
    "version": 3
   },
   "file_extension": ".py",
   "mimetype": "text/x-python",
   "name": "python",
   "nbconvert_exporter": "python",
   "pygments_lexer": "ipython3",
   "version": "3.9.16"
  }
 },
 "nbformat": 4,
 "nbformat_minor": 5
}
