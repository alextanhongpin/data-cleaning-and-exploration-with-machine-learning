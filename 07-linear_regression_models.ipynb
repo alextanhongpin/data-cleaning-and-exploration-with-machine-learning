{
 "cells": [
  {
   "cell_type": "markdown",
   "id": "669c1548-cec7-41bb-9f6a-2d317a683666",
   "metadata": {},
   "source": [
    "# Linear Regression Models\n",
    "\n",
    "\n",
    "Linear regression is a very good choice for modeling a continuous target, assuming that our features and target have certain qualities.\n",
    "\n",
    "In this chapter, we will cover the following topics:\n",
    "- key concepts\n",
    "- linear regression and gradient descent\n",
    "- using classical linear regression\n",
    "- using lasso regression\n",
    "- using non-linear regression\n",
    "- regression with gradient descent"
   ]
  },
  {
   "cell_type": "markdown",
   "id": "b5e18d4c-0db3-4d81-b1e6-3224721efb94",
   "metadata": {},
   "source": [
    "## Key Concepts"
   ]
  },
  {
   "cell_type": "markdown",
   "id": "39875706-ad6e-4ae1-a947-17a2ec27de3a",
   "metadata": {},
   "source": [
    "### Key assumptions of linear regression models\n",
    "\n",
    "- there is a linear relationship between features (independent variables) and the target (dependent variable)\n",
    "- the residuals (the difference between actual and predicted values) are normally distributed\n",
    "- the residuals are independent across observations\n",
    "- the variance of residuals is constant\n",
    "\n",
    "\n",
    "Our residuals are sometimes not normally distributed. This can indicate that our model is less accurate along certain ranges of our target. This can happen when the relationship with the target is __nonlinear__.\n",
    "\n",
    "There are several reasons why residuals may not be independent. This is often the case with time series data. For a model of daily stock price, the residuals may be correlated for adjacent days. This is referred to as __autocorrelation__.\n",
    "\n",
    "It is not uncommon for our residuals to have greater variability along different ranges of a feature. __Heteroscedasticity__ is a condition where the variance of the residuals is not constant across the range of the independent variable. Heteroscedasticity can lead to non-normally distributed residuals because the variance of the residuals is not constant."
   ]
  },
  {
   "cell_type": "markdown",
   "id": "b7a068d1-0530-410e-9800-279856ed7cc1",
   "metadata": {},
   "source": [
    "## Linear regression and ordinary least squares\n",
    "\n",
    "OLS selects coefficients that minimize the sum of the squared distance between the actual target values and the predicted values."
   ]
  },
  {
   "cell_type": "markdown",
   "id": "765a26ca-da82-4bfb-b19f-ee15d0da222c",
   "metadata": {},
   "source": [
    "## Linear regresion and gradient descent\n",
    "\n",
    "We can use gradient descent, rather than OLS, to estimate our linear regression parameters. Gradient descent iterates over possible coefficient values to find those that minimize the residual sum of squares. \n",
    "\n",
    "It starts with with random coefficient values and calculate the sum of the squared errors for that iteration. Then, it generates new values for coefficients that yield smaller residuals that those from the previous step. \n",
    "\n",
    "We specify a learning rate when using gradient descent. The learning rate determines the amount of improvement in residuals at each step.\n",
    "\n",
    "Gradient descent can often be a good choice when working with very large datasets. It may be the the only choice if the full dataset does not fit into your machine's memory."
   ]
  },
  {
   "cell_type": "markdown",
   "id": "5070f4d9-9dc4-4404-a321-c038b82b981b",
   "metadata": {},
   "source": [
    "## Using classical linear regression"
   ]
  },
  {
   "cell_type": "code",
   "execution_count": 1,
   "id": "f7ddc886-20a0-416b-bdbe-fe6fcd5ff4ee",
   "metadata": {
    "tags": []
   },
   "outputs": [],
   "source": [
    "import matplotlib.pyplot as plt\n",
    "import numpy as np\n",
    "import pandas as pd\n",
    "import sklearn.metrics as skmet\n",
    "from sklearn.compose import ColumnTransformer, TransformedTargetRegressor\n",
    "from sklearn.feature_selection import RFE\n",
    "from sklearn.impute import KNNImputer, SimpleImputer\n",
    "from sklearn.linear_model import LinearRegression\n",
    "from sklearn.model_selection import KFold, cross_validate, train_test_split\n",
    "from sklearn.pipeline import make_pipeline\n",
    "from sklearn.preprocessing import StandardScaler\n",
    "\n",
    "from data.load import load_fossilfueltaxrate14\n",
    "from preprocfunc import OutlierTrans"
   ]
  },
  {
   "cell_type": "code",
   "execution_count": 2,
   "id": "890e7bd3-d2a2-4445-82ab-e1101dadf5b9",
   "metadata": {
    "tags": []
   },
   "outputs": [
    {
     "name": "stdout",
     "output_type": "stream",
     "text": [
      "<class 'pandas.core.frame.DataFrame'>\n",
      "Index: 154 entries, AFG to ZWE\n",
      "Data columns (total 19 columns):\n",
      " #   Column                     Non-Null Count  Dtype  \n",
      "---  ------                     --------------  -----  \n",
      " 0   country                    154 non-null    object \n",
      " 1   region                     154 non-null    object \n",
      " 2   region_wb                  154 non-null    object \n",
      " 3   year                       154 non-null    int64  \n",
      " 4   gas_tax_imp                154 non-null    float64\n",
      " 5   bmgap_diesel_spotprice_la  146 non-null    float64\n",
      " 6   fuel_income_dependence     152 non-null    float64\n",
      " 7   national_income_per_cap    152 non-null    float64\n",
      " 8   VAT_Rate                   151 non-null    float64\n",
      " 9   gov_debt_per_gdp           139 non-null    float64\n",
      " 10  polity                     151 non-null    float64\n",
      " 11  democracy_polity           151 non-null    float64\n",
      " 12  autocracy_polity           151 non-null    float64\n",
      " 13  goveffect                  154 non-null    float64\n",
      " 14  democracy_index            152 non-null    float64\n",
      " 15  democracy                  154 non-null    int64  \n",
      " 16  nat_oil_comp               152 non-null    float64\n",
      " 17  nat_oil_comp_state         152 non-null    float64\n",
      " 18  motorization_rate          127 non-null    float64\n",
      "dtypes: float64(14), int64(2), object(3)\n",
      "memory usage: 24.1+ KB\n"
     ]
    }
   ],
   "source": [
    "ff_tax_rate14 = load_fossilfueltaxrate14()\n",
    "ff_tax_rate14.info()"
   ]
  },
  {
   "cell_type": "code",
   "execution_count": 3,
   "id": "2e92a59e-6c04-470b-8522-266e123b86f4",
   "metadata": {
    "tags": []
   },
   "outputs": [
    {
     "data": {
      "text/html": [
       "<div>\n",
       "<style scoped>\n",
       "    .dataframe tbody tr th:only-of-type {\n",
       "        vertical-align: middle;\n",
       "    }\n",
       "\n",
       "    .dataframe tbody tr th {\n",
       "        vertical-align: top;\n",
       "    }\n",
       "\n",
       "    .dataframe thead th {\n",
       "        text-align: right;\n",
       "    }\n",
       "</style>\n",
       "<table border=\"1\" class=\"dataframe\">\n",
       "  <thead>\n",
       "    <tr style=\"text-align: right;\">\n",
       "      <th></th>\n",
       "      <th>country</th>\n",
       "      <th>region</th>\n",
       "      <th>region_wb</th>\n",
       "      <th>year</th>\n",
       "      <th>gas_tax_imp</th>\n",
       "      <th>bmgap_diesel_spotprice_la</th>\n",
       "      <th>fuel_income_dependence</th>\n",
       "      <th>national_income_per_cap</th>\n",
       "      <th>VAT_Rate</th>\n",
       "      <th>gov_debt_per_gdp</th>\n",
       "      <th>polity</th>\n",
       "      <th>democracy_polity</th>\n",
       "      <th>autocracy_polity</th>\n",
       "      <th>goveffect</th>\n",
       "      <th>democracy_index</th>\n",
       "      <th>democracy</th>\n",
       "      <th>nat_oil_comp</th>\n",
       "      <th>nat_oil_comp_state</th>\n",
       "      <th>motorization_rate</th>\n",
       "    </tr>\n",
       "    <tr>\n",
       "      <th>countrycode</th>\n",
       "      <th></th>\n",
       "      <th></th>\n",
       "      <th></th>\n",
       "      <th></th>\n",
       "      <th></th>\n",
       "      <th></th>\n",
       "      <th></th>\n",
       "      <th></th>\n",
       "      <th></th>\n",
       "      <th></th>\n",
       "      <th></th>\n",
       "      <th></th>\n",
       "      <th></th>\n",
       "      <th></th>\n",
       "      <th></th>\n",
       "      <th></th>\n",
       "      <th></th>\n",
       "      <th></th>\n",
       "      <th></th>\n",
       "    </tr>\n",
       "  </thead>\n",
       "  <tbody>\n",
       "    <tr>\n",
       "      <th>AFG</th>\n",
       "      <td>Afghanistan</td>\n",
       "      <td>Asia + Pacific</td>\n",
       "      <td>South Asia</td>\n",
       "      <td>2014</td>\n",
       "      <td>0.272083</td>\n",
       "      <td>0.454003</td>\n",
       "      <td>0.000000</td>\n",
       "      <td>630.0</td>\n",
       "      <td>3.5</td>\n",
       "      <td>8.700291</td>\n",
       "      <td>-1.0</td>\n",
       "      <td>0.0</td>\n",
       "      <td>0.0</td>\n",
       "      <td>-1.33</td>\n",
       "      <td>0.374292</td>\n",
       "      <td>0</td>\n",
       "      <td>0.0</td>\n",
       "      <td>0.0</td>\n",
       "      <td>0.046837</td>\n",
       "    </tr>\n",
       "    <tr>\n",
       "      <th>AGO</th>\n",
       "      <td>Angola</td>\n",
       "      <td>Africa</td>\n",
       "      <td>Sub-Saharan Africa</td>\n",
       "      <td>2014</td>\n",
       "      <td>-0.150713</td>\n",
       "      <td>-0.225997</td>\n",
       "      <td>32.499064</td>\n",
       "      <td>5010.0</td>\n",
       "      <td>10.0</td>\n",
       "      <td>39.809857</td>\n",
       "      <td>-2.0</td>\n",
       "      <td>0.0</td>\n",
       "      <td>0.0</td>\n",
       "      <td>-1.12</td>\n",
       "      <td>0.220831</td>\n",
       "      <td>0</td>\n",
       "      <td>1.0</td>\n",
       "      <td>1.0</td>\n",
       "      <td>0.031178</td>\n",
       "    </tr>\n",
       "    <tr>\n",
       "      <th>ALB</th>\n",
       "      <td>Albania</td>\n",
       "      <td>Europe + North America</td>\n",
       "      <td>Europe &amp; Central Asia</td>\n",
       "      <td>2014</td>\n",
       "      <td>1.099843</td>\n",
       "      <td>0.974003</td>\n",
       "      <td>2.292260</td>\n",
       "      <td>4540.0</td>\n",
       "      <td>20.0</td>\n",
       "      <td>70.027863</td>\n",
       "      <td>9.0</td>\n",
       "      <td>1.0</td>\n",
       "      <td>0.0</td>\n",
       "      <td>-0.09</td>\n",
       "      <td>0.529352</td>\n",
       "      <td>1</td>\n",
       "      <td>1.0</td>\n",
       "      <td>1.0</td>\n",
       "      <td>0.156796</td>\n",
       "    </tr>\n",
       "    <tr>\n",
       "      <th>ARE</th>\n",
       "      <td>UAE</td>\n",
       "      <td>Middle East</td>\n",
       "      <td>Middle East &amp; North Africa</td>\n",
       "      <td>2014</td>\n",
       "      <td>-0.334680</td>\n",
       "      <td>-0.095997</td>\n",
       "      <td>18.048514</td>\n",
       "      <td>44370.0</td>\n",
       "      <td>0.0</td>\n",
       "      <td>NaN</td>\n",
       "      <td>-8.0</td>\n",
       "      <td>0.0</td>\n",
       "      <td>1.0</td>\n",
       "      <td>1.44</td>\n",
       "      <td>0.120726</td>\n",
       "      <td>0</td>\n",
       "      <td>1.0</td>\n",
       "      <td>1.0</td>\n",
       "      <td>0.212716</td>\n",
       "    </tr>\n",
       "    <tr>\n",
       "      <th>ARG</th>\n",
       "      <td>Argentina</td>\n",
       "      <td>Latin America &amp; Caribbean</td>\n",
       "      <td>Latin America &amp; Caribbean</td>\n",
       "      <td>2014</td>\n",
       "      <td>0.705042</td>\n",
       "      <td>0.594003</td>\n",
       "      <td>2.954761</td>\n",
       "      <td>12350.0</td>\n",
       "      <td>21.0</td>\n",
       "      <td>43.586674</td>\n",
       "      <td>8.0</td>\n",
       "      <td>1.0</td>\n",
       "      <td>0.0</td>\n",
       "      <td>-0.16</td>\n",
       "      <td>0.782024</td>\n",
       "      <td>1</td>\n",
       "      <td>1.0</td>\n",
       "      <td>0.0</td>\n",
       "      <td>0.313479</td>\n",
       "    </tr>\n",
       "  </tbody>\n",
       "</table>\n",
       "</div>"
      ],
      "text/plain": [
       "                 country                     region  \\\n",
       "countrycode                                           \n",
       "AFG          Afghanistan             Asia + Pacific   \n",
       "AGO               Angola                     Africa   \n",
       "ALB              Albania     Europe + North America   \n",
       "ARE                  UAE                Middle East   \n",
       "ARG            Argentina  Latin America & Caribbean   \n",
       "\n",
       "                              region_wb  year  gas_tax_imp  \\\n",
       "countrycode                                                  \n",
       "AFG                          South Asia  2014     0.272083   \n",
       "AGO                  Sub-Saharan Africa  2014    -0.150713   \n",
       "ALB               Europe & Central Asia  2014     1.099843   \n",
       "ARE          Middle East & North Africa  2014    -0.334680   \n",
       "ARG           Latin America & Caribbean  2014     0.705042   \n",
       "\n",
       "             bmgap_diesel_spotprice_la  fuel_income_dependence  \\\n",
       "countrycode                                                      \n",
       "AFG                           0.454003                0.000000   \n",
       "AGO                          -0.225997               32.499064   \n",
       "ALB                           0.974003                2.292260   \n",
       "ARE                          -0.095997               18.048514   \n",
       "ARG                           0.594003                2.954761   \n",
       "\n",
       "             national_income_per_cap  VAT_Rate  gov_debt_per_gdp  polity  \\\n",
       "countrycode                                                                \n",
       "AFG                            630.0       3.5          8.700291    -1.0   \n",
       "AGO                           5010.0      10.0         39.809857    -2.0   \n",
       "ALB                           4540.0      20.0         70.027863     9.0   \n",
       "ARE                          44370.0       0.0               NaN    -8.0   \n",
       "ARG                          12350.0      21.0         43.586674     8.0   \n",
       "\n",
       "             democracy_polity  autocracy_polity  goveffect  democracy_index  \\\n",
       "countrycode                                                                   \n",
       "AFG                       0.0               0.0      -1.33         0.374292   \n",
       "AGO                       0.0               0.0      -1.12         0.220831   \n",
       "ALB                       1.0               0.0      -0.09         0.529352   \n",
       "ARE                       0.0               1.0       1.44         0.120726   \n",
       "ARG                       1.0               0.0      -0.16         0.782024   \n",
       "\n",
       "             democracy  nat_oil_comp  nat_oil_comp_state  motorization_rate  \n",
       "countrycode                                                                  \n",
       "AFG                  0           0.0                 0.0           0.046837  \n",
       "AGO                  0           1.0                 1.0           0.031178  \n",
       "ALB                  1           1.0                 1.0           0.156796  \n",
       "ARE                  0           1.0                 1.0           0.212716  \n",
       "ARG                  1           1.0                 0.0           0.313479  "
      ]
     },
     "execution_count": 3,
     "metadata": {},
     "output_type": "execute_result"
    }
   ],
   "source": [
    "ff_tax_rate14.head()"
   ]
  },
  {
   "cell_type": "markdown",
   "id": "877635f7-e1b0-4dae-9675-44374d824273",
   "metadata": {},
   "source": [
    "### Pre-processing the data for our regression model\n",
    "\n",
    "We separate the features into numerical and binary features. We will put `motorization_rate` into a special category because we anticipate having to do a little more with it than with the other features:"
   ]
  },
  {
   "cell_type": "code",
   "execution_count": 4,
   "id": "1303f99b-3cd6-456e-bd4a-2892e02b21cc",
   "metadata": {
    "tags": []
   },
   "outputs": [],
   "source": [
    "num_cols = [\n",
    "    \"fuel_income_dependence\",\n",
    "    \"national_income_per_cap\",\n",
    "    \"VAT_Rate\",\n",
    "    \"gov_debt_per_gdp\",\n",
    "    \"polity\",\n",
    "    \"goveffect\",\n",
    "    \"democracy_index\",\n",
    "]\n",
    "dummy_cols = [\n",
    "    \"democracy_polity\",\n",
    "    \"autocracy_polity\",\n",
    "    \"democracy\",\n",
    "    \"nat_oil_comp\",\n",
    "    \"nat_oil_comp_state\",\n",
    "]\n",
    "spec_cols = [\"motorization_rate\"]\n",
    "target_col = [\"gas_tax_imp\"]"
   ]
  },
  {
   "cell_type": "code",
   "execution_count": 5,
   "id": "2bb2e9ed-5269-4a8c-ad34-5cbac9871872",
   "metadata": {
    "tags": []
   },
   "outputs": [
    {
     "data": {
      "text/html": [
       "<div>\n",
       "<style scoped>\n",
       "    .dataframe tbody tr th:only-of-type {\n",
       "        vertical-align: middle;\n",
       "    }\n",
       "\n",
       "    .dataframe tbody tr th {\n",
       "        vertical-align: top;\n",
       "    }\n",
       "\n",
       "    .dataframe thead th {\n",
       "        text-align: right;\n",
       "    }\n",
       "</style>\n",
       "<table border=\"1\" class=\"dataframe\">\n",
       "  <thead>\n",
       "    <tr style=\"text-align: right;\">\n",
       "      <th></th>\n",
       "      <th>count</th>\n",
       "      <th>min</th>\n",
       "      <th>median</th>\n",
       "      <th>max</th>\n",
       "    </tr>\n",
       "  </thead>\n",
       "  <tbody>\n",
       "    <tr>\n",
       "      <th>gas_tax_imp</th>\n",
       "      <td>154.0</td>\n",
       "      <td>-0.800521</td>\n",
       "      <td>0.524398</td>\n",
       "      <td>1.734047</td>\n",
       "    </tr>\n",
       "    <tr>\n",
       "      <th>fuel_income_dependence</th>\n",
       "      <td>152.0</td>\n",
       "      <td>0.000000</td>\n",
       "      <td>0.135366</td>\n",
       "      <td>34.428455</td>\n",
       "    </tr>\n",
       "    <tr>\n",
       "      <th>national_income_per_cap</th>\n",
       "      <td>152.0</td>\n",
       "      <td>260.000000</td>\n",
       "      <td>6050.000000</td>\n",
       "      <td>104540.000000</td>\n",
       "    </tr>\n",
       "    <tr>\n",
       "      <th>VAT_Rate</th>\n",
       "      <td>151.0</td>\n",
       "      <td>0.000000</td>\n",
       "      <td>16.500000</td>\n",
       "      <td>27.000000</td>\n",
       "    </tr>\n",
       "    <tr>\n",
       "      <th>gov_debt_per_gdp</th>\n",
       "      <td>139.0</td>\n",
       "      <td>0.545311</td>\n",
       "      <td>39.301174</td>\n",
       "      <td>194.755470</td>\n",
       "    </tr>\n",
       "    <tr>\n",
       "      <th>polity</th>\n",
       "      <td>151.0</td>\n",
       "      <td>-10.000000</td>\n",
       "      <td>7.000000</td>\n",
       "      <td>10.000000</td>\n",
       "    </tr>\n",
       "    <tr>\n",
       "      <th>goveffect</th>\n",
       "      <td>154.0</td>\n",
       "      <td>-2.040000</td>\n",
       "      <td>-0.145000</td>\n",
       "      <td>2.180000</td>\n",
       "    </tr>\n",
       "    <tr>\n",
       "      <th>democracy_index</th>\n",
       "      <td>152.0</td>\n",
       "      <td>0.025098</td>\n",
       "      <td>0.572551</td>\n",
       "      <td>0.930208</td>\n",
       "    </tr>\n",
       "    <tr>\n",
       "      <th>motorization_rate</th>\n",
       "      <td>127.0</td>\n",
       "      <td>0.002870</td>\n",
       "      <td>0.198289</td>\n",
       "      <td>0.810421</td>\n",
       "    </tr>\n",
       "  </tbody>\n",
       "</table>\n",
       "</div>"
      ],
      "text/plain": [
       "                         count         min       median            max\n",
       "gas_tax_imp              154.0   -0.800521     0.524398       1.734047\n",
       "fuel_income_dependence   152.0    0.000000     0.135366      34.428455\n",
       "national_income_per_cap  152.0  260.000000  6050.000000  104540.000000\n",
       "VAT_Rate                 151.0    0.000000    16.500000      27.000000\n",
       "gov_debt_per_gdp         139.0    0.545311    39.301174     194.755470\n",
       "polity                   151.0  -10.000000     7.000000      10.000000\n",
       "goveffect                154.0   -2.040000    -0.145000       2.180000\n",
       "democracy_index          152.0    0.025098     0.572551       0.930208\n",
       "motorization_rate        127.0    0.002870     0.198289       0.810421"
      ]
     },
     "execution_count": 5,
     "metadata": {},
     "output_type": "execute_result"
    }
   ],
   "source": [
    "ff_tax_rate14[target_col + num_cols + spec_cols].agg(\n",
    "    [\"count\", \"min\", \"median\", \"max\"]\n",
    ").T"
   ]
  },
  {
   "cell_type": "markdown",
   "id": "32792c47-8b19-492e-b006-ff51666f42f9",
   "metadata": {},
   "source": [
    "^ Our target `gax_tax_imp` has a median value of 0.52.\n",
    "\n",
    "- more than half of the countries have a `polity` score of 7 or higher; 10 is the highest possible `polity` score, meaning most democratic\n",
    "- most countries have a negative value for government effectiveness (`goveffect`)\n",
    "`democracy_index` is a very similar measure to `polity`, though there is more variation"
   ]
  },
  {
   "cell_type": "markdown",
   "id": "611021f3-a139-4020-9880-8343770d2326",
   "metadata": {},
   "source": [
    "Let's also look at tehe distribution of the binary features. We must set `normalize` to `True` to generate ratios rather than counts.\n"
   ]
  },
  {
   "cell_type": "code",
   "execution_count": 6,
   "id": "ace0db77-735b-4a49-a635-88845e5650c4",
   "metadata": {
    "tags": []
   },
   "outputs": [
    {
     "data": {
      "text/html": [
       "<div>\n",
       "<style scoped>\n",
       "    .dataframe tbody tr th:only-of-type {\n",
       "        vertical-align: middle;\n",
       "    }\n",
       "\n",
       "    .dataframe tbody tr th {\n",
       "        vertical-align: top;\n",
       "    }\n",
       "\n",
       "    .dataframe thead th {\n",
       "        text-align: right;\n",
       "    }\n",
       "</style>\n",
       "<table border=\"1\" class=\"dataframe\">\n",
       "  <thead>\n",
       "    <tr style=\"text-align: right;\">\n",
       "      <th></th>\n",
       "      <th>0.0</th>\n",
       "      <th>1.0</th>\n",
       "    </tr>\n",
       "  </thead>\n",
       "  <tbody>\n",
       "    <tr>\n",
       "      <th>democracy_polity</th>\n",
       "      <td>0.410596</td>\n",
       "      <td>0.589404</td>\n",
       "    </tr>\n",
       "    <tr>\n",
       "      <th>autocracy_polity</th>\n",
       "      <td>0.887417</td>\n",
       "      <td>0.112583</td>\n",
       "    </tr>\n",
       "    <tr>\n",
       "      <th>democracy</th>\n",
       "      <td>0.415584</td>\n",
       "      <td>0.584416</td>\n",
       "    </tr>\n",
       "    <tr>\n",
       "      <th>nat_oil_comp</th>\n",
       "      <td>0.539474</td>\n",
       "      <td>0.460526</td>\n",
       "    </tr>\n",
       "    <tr>\n",
       "      <th>nat_oil_comp_state</th>\n",
       "      <td>0.769737</td>\n",
       "      <td>0.230263</td>\n",
       "    </tr>\n",
       "  </tbody>\n",
       "</table>\n",
       "</div>"
      ],
      "text/plain": [
       "                         0.0       1.0\n",
       "democracy_polity    0.410596  0.589404\n",
       "autocracy_polity    0.887417  0.112583\n",
       "democracy           0.415584  0.584416\n",
       "nat_oil_comp        0.539474  0.460526\n",
       "nat_oil_comp_state  0.769737  0.230263"
      ]
     },
     "execution_count": 6,
     "metadata": {},
     "output_type": "execute_result"
    }
   ],
   "source": [
    "ff_tax_rate14[dummy_cols].apply(pd.value_counts, normalize=True).T"
   ]
  },
  {
   "cell_type": "markdown",
   "id": "0de83173-c675-4064-b785-2cea99279819",
   "metadata": {},
   "source": [
    "^ observations:\n",
    "- the `democracy_polity` and `autocracy_polity` featuers are just binarized versions of the `polity` feature; very high `polity` scores get `democracy_polity` values of 1, while very low `polity` scores get `autocracy_polity` values of 1.\n",
    "- similarly, `democracy` is a dummy feature of those countries with high `democracy_index` values.\n",
    "- interestingly, nearly half of the countries (0.46) have a national oil company, and almost a quarter (0.23) have a state-owned national oil company"
   ]
  },
  {
   "cell_type": "markdown",
   "id": "df2b4e3f-a21c-4a2f-ac0a-53a7fd329d1b",
   "metadata": {},
   "source": [
    "Preprocessing steps:\n",
    "- we need to do some work on the missing values for several features\n",
    "- we also need to do some scaling, but there is no need to do any encoding because we can use the binary featuers as they are\n",
    "- some features are correlated, so we need to do some feature elimination"
   ]
  },
  {
   "cell_type": "code",
   "execution_count": 7,
   "id": "cb45b3a6-5e0d-4485-a016-64c81bfb6e4b",
   "metadata": {
    "tags": []
   },
   "outputs": [],
   "source": [
    "target = ff_tax_rate14[target_col]\n",
    "features = ff_tax_rate14[num_cols + dummy_cols + spec_cols]\n",
    "\n",
    "X_train, X_test, y_train, y_test = train_test_split(\n",
    "    features, target, test_size=0.2, random_state=0\n",
    ")"
   ]
  },
  {
   "cell_type": "code",
   "execution_count": 8,
   "id": "d3510ae3-4c3b-4842-80ca-1b6b29ba63ec",
   "metadata": {
    "tags": []
   },
   "outputs": [],
   "source": [
    "std_trans = make_pipeline(\n",
    "    OutlierTrans(2), SimpleImputer(strategy=\"median\"), StandardScaler()\n",
    ")\n",
    "cat_trans = make_pipeline(SimpleImputer(strategy=\"most_frequent\"))\n",
    "spc_trans = make_pipeline(OutlierTrans(2), StandardScaler())\n",
    "col_trans = ColumnTransformer(\n",
    "    [\n",
    "        (\"stand\", std_trans, num_cols),\n",
    "        (\"cat\", cat_trans, dummy_cols),\n",
    "        (\"spec\", spc_trans, spec_cols),\n",
    "    ],\n",
    "    verbose_feature_names_out=False,\n",
    ")"
   ]
  },
  {
   "cell_type": "markdown",
   "id": "ddfca00f-9519-4b1f-ba68-b306cb1a18a6",
   "metadata": {},
   "source": [
    "### Running and evaluating our linear model"
   ]
  },
  {
   "cell_type": "code",
   "execution_count": 10,
   "id": "4d5bb281-3787-4dd7-88e1-898cdea38448",
   "metadata": {
    "tags": []
   },
   "outputs": [
    {
     "data": {
      "text/plain": [
       "[('VAT_Rate', 0.44753064726665703),\n",
       " ('gov_debt_per_gdp', 0.12368913577287777),\n",
       " ('goveffect', 0.17926454403985637),\n",
       " ('autocracy_polity', -0.22100930246392825),\n",
       " ('nat_oil_comp', -0.15726572731003757),\n",
       " ('nat_oil_comp_state', -0.701345468663265),\n",
       " ('motorization_rate', 0.13855012574945397)]"
      ]
     },
     "execution_count": 10,
     "metadata": {},
     "output_type": "execute_result"
    }
   ],
   "source": [
    "lr = LinearRegression()\n",
    "rfe = RFE(estimator=lr, n_features_to_select=7)\n",
    "\n",
    "pipe1 = make_pipeline(col_trans, KNNImputer(n_neighbors=5), rfe, lr)\n",
    "\n",
    "ttr = TransformedTargetRegressor(regressor=pipe1, transformer=StandardScaler())\n",
    "ttr.fit(X_train, y_train)\n",
    "\n",
    "sel_cols = X_train.columns[ttr.regressor_.named_steps[\"rfe\"].support_]\n",
    "coefs = ttr.regressor_.named_steps[\"linearregression\"].coef_\n",
    "\n",
    "list(zip(sel_cols, coefs))"
   ]
  },
  {
   "cell_type": "code",
   "execution_count": 11,
   "id": "2f390ab5-64df-49ea-8903-ef8a33f90b1e",
   "metadata": {
    "tags": []
   },
   "outputs": [],
   "source": [
    "y_pred = ttr.predict(X_test)\n",
    "pred_df = (\n",
    "    pd.DataFrame(y_pred, columns=[\"prediction\"], index=X_test.index)\n",
    "    .join(X_test)\n",
    "    .join(y_test)\n",
    ")\n",
    "pred_df[\"resid\"] = pred_df.gas_tax_imp - pred_df.prediction"
   ]
  },
  {
   "cell_type": "code",
   "execution_count": 12,
   "id": "e5773d6b-5671-49d6-a666-e848d14cae9c",
   "metadata": {
    "tags": []
   },
   "outputs": [
    {
     "data": {
      "text/plain": [
       "mean       -0.088965\n",
       "median     -0.128688\n",
       "skew        0.613088\n",
       "kurtosis    0.037539\n",
       "Name: resid, dtype: float64"
      ]
     },
     "execution_count": 12,
     "metadata": {},
     "output_type": "execute_result"
    }
   ],
   "source": [
    "pred_df.resid.agg([\"mean\", \"median\", \"skew\", \"kurtosis\"])"
   ]
  },
  {
   "cell_type": "markdown",
   "id": "92f82424-dad0-4d6e-9425-c180dcdd1b11",
   "metadata": {},
   "source": [
    "^ There is a little positive skew and some overall bias; the residuals are negative overall."
   ]
  },
  {
   "cell_type": "markdown",
   "id": "a8b659b5-52b8-4448-889b-a63c60955138",
   "metadata": {},
   "source": [
    "#### Metrics"
   ]
  },
  {
   "cell_type": "code",
   "execution_count": 13,
   "id": "d36d34d5-c340-4f35-a199-dd921c6c5c02",
   "metadata": {
    "tags": []
   },
   "outputs": [
    {
     "name": "stdout",
     "output_type": "stream",
     "text": [
      "MAE: 0.23, R-squared: 0.75\n"
     ]
    }
   ],
   "source": [
    "print(\n",
    "    \"Mean Absolute Error: {:.2f}, R-squared: {:.2f}\".format(\n",
    "        skmet.mean_absolute_error(y_test, y_pred), skmet.r2_score(y_test, y_pred)\n",
    "    )\n",
    ")"
   ]
  },
  {
   "cell_type": "markdown",
   "id": "151db959-df7c-47e0-82c3-919e07613c48",
   "metadata": {},
   "source": [
    "^ We get a mean absolute error of 0.23. That's not a great average error, given that the median value for the gas tax price is 0.52. The r-squared is decent, however."
   ]
  },
  {
   "cell_type": "markdown",
   "id": "a2b349cb-6610-4a5a-b2d0-46f149dcc64c",
   "metadata": {},
   "source": [
    "It is usually helpful to look at a plot of the residuals. "
   ]
  },
  {
   "cell_type": "code",
   "execution_count": 14,
   "id": "494eafd8-5b0c-4c92-8d52-89961f0fc0f7",
   "metadata": {
    "tags": []
   },
   "outputs": [
    {
     "data": {
      "text/plain": [
       "(-0.5625, 0.8125)"
      ]
     },
     "execution_count": 14,
     "metadata": {},
     "output_type": "execute_result"
    },
    {
     "data": {
      "image/png": "[encoded data removed]",
      "text/plain": [
       "<Figure size 432x288 with 1 Axes>"
      ]
     },
     "metadata": {
      "needs_background": "light"
     },
     "output_type": "display_data"
    }
   ],
   "source": [
    "plt.hist(pred_df.resid, color=\"blue\", bins=np.arange(-0.5, 1.0, 0.25))\n",
    "plt.axvline(pred_df.resid.mean(), color=\"red\", linestyle=\"dashed\", linewidth=1)\n",
    "plt.title(\"Histogram of Residuals for Gas Tax Model\")\n",
    "plt.xlabel(\"Residual\")\n",
    "plt.ylabel(\"Frequency\")\n",
    "plt.xlim()"
   ]
  },
  {
   "cell_type": "markdown",
   "id": "a929b2be-facc-4272-b243-c0340da7dab6",
   "metadata": {},
   "source": [
    "^ This plot shows the positive skew. Morever, our model is somewhat more likely to over-predict the gas tax than under-predict it. (The residual is negative when the prediction is greater than the actual target value). "
   ]
  },
  {
   "cell_type": "code",
   "execution_count": 15,
   "id": "cc98a4f4-a0ac-4405-94d9-a18ee4f4798a",
   "metadata": {
    "tags": []
   },
   "outputs": [
    {
     "data": {
      "text/plain": [
       "Text(0, 0.5, 'Residuals')"
      ]
     },
     "execution_count": 15,
     "metadata": {},
     "output_type": "execute_result"
    },
    {
     "data": {
      "image/png": "[encoded data removed]",
      "text/plain": [
       "<Figure size 432x288 with 1 Axes>"
      ]
     },
     "metadata": {
      "needs_background": "light"
     },
     "output_type": "display_data"
    }
   ],
   "source": [
    "plt.scatter(pred_df.prediction, pred_df.resid, color=\"blue\")\n",
    "plt.axhline(0, color=\"red\", linestyle=\"dashed\", linewidth=1)\n",
    "plt.title(\"Scatterplot of Predictions and Residuals\")\n",
    "plt.xlabel(\"Predicted Gas Tax\")\n",
    "plt.ylabel(\"Residuals\")"
   ]
  },
  {
   "cell_type": "markdown",
   "id": "628e72dd-cd0b-4531-8ca3-82c5dc664767",
   "metadata": {},
   "source": [
    "^ Here, overprediction occurs throughout the range of predicted values, but there are no underprediction (positive residuals) with predictions below 0 or above 1. This should give us some doubts about our assumption of linearity."
   ]
  },
  {
   "cell_type": "markdown",
   "id": "e371b88f-4024-4315-bb53-341e3b920181",
   "metadata": {},
   "source": [
    "### Improving our model evaluation\n",
    "\n",
    "Instead of using 80% of our data, we will use 90%, and k-fold cross-validation."
   ]
  },
  {
   "cell_type": "code",
   "execution_count": 19,
   "id": "b3fe7077-951c-4f47-be58-11b46a0d53d4",
   "metadata": {
    "tags": []
   },
   "outputs": [],
   "source": [
    "X_train, X_test, y_train, y_test = train_test_split(\n",
    "    features, target, test_size=0.1, random_state=1\n",
    ")"
   ]
  },
  {
   "cell_type": "code",
   "execution_count": 23,
   "id": "5e9f56cf-4678-4b1e-8821-1f81c59757a4",
   "metadata": {
    "tags": []
   },
   "outputs": [],
   "source": [
    "kf = KFold(n_splits=3, shuffle=True, random_state=0)"
   ]
  },
  {
   "cell_type": "code",
   "execution_count": 24,
   "id": "0e61b4f7-a10b-48bb-8329-c6a53f567a6f",
   "metadata": {
    "tags": []
   },
   "outputs": [],
   "source": [
    "scores = cross_validate(\n",
    "    ttr,\n",
    "    X=X_train,\n",
    "    y=y_train,\n",
    "    cv=kf,\n",
    "    scoring=(\"r2\", \"neg_mean_absolute_error\"),\n",
    "    n_jobs=1,\n",
    ")"
   ]
  },
  {
   "cell_type": "markdown",
   "id": "32ec99b8-5c7d-4df1-a8b1-b15e3ecfa444",
   "metadata": {},
   "source": [
    "#### Metrics"
   ]
  },
  {
   "cell_type": "code",
   "execution_count": 27,
   "id": "143cbc98-c291-4307-a047-ac876fa96d01",
   "metadata": {
    "tags": []
   },
   "outputs": [
    {
     "name": "stdout",
     "output_type": "stream",
     "text": [
      "Mean Absolute Error: -0.26, R-squared: 0.59\n"
     ]
    }
   ],
   "source": [
    "print(\n",
    "    \"Mean Absolute Error: {:.2f}, R-squared: {:.2f}\".format(\n",
    "        scores[\"test_neg_mean_absolute_error\"].mean(), scores[\"test_r2\"].mean()\n",
    "    )\n",
    ")"
   ]
  },
  {
   "cell_type": "markdown",
   "id": "c64402e2-6929-4697-a6cd-ba2fef527d58",
   "metadata": {},
   "source": [
    "^ The scores are not very impressive. We do not end up explaining as much of the variance as we would like."
   ]
  },
  {
   "cell_type": "markdown",
   "id": "bf73378c-852f-40b4-82a5-63ff6bb1b3ba",
   "metadata": {},
   "source": [
    "## Using lasso regression\n",
    "\n",
    "One strategy to reduce the likelihood of overfitting is to use __regularization__.\n",
    "\n",
    "Lasso regression uses L1 regularization, which penalizes the absolute value of the coefficients. Ridge regression is similar. It uses L2 regularization, which penalizes the squared values of the coefficients Elastic net regression uses both L1 and L2 regularization."
   ]
  },
  {
   "cell_type": "code",
   "execution_count": 41,
   "id": "b653f64d-f946-405b-b1a8-cfb5d036e1aa",
   "metadata": {
    "tags": []
   },
   "outputs": [],
   "source": [
    "import matplotlib.pyplot as plt\n",
    "import numpy as np\n",
    "import pandas as pd\n",
    "import sklearn.metrics as skmet\n",
    "from sklearn.compose import ColumnTransformer, TransformedTargetRegressor\n",
    "from sklearn.feature_selection import RFE\n",
    "from sklearn.impute import KNNImputer, SimpleImputer\n",
    "from sklearn.linear_model import Lasso  # Instead of LinearRegression\n",
    "from sklearn.model_selection import KFold, cross_validate, train_test_split\n",
    "from sklearn.pipeline import make_pipeline\n",
    "from sklearn.preprocessing import StandardScaler\n",
    "\n",
    "from data.load import load_fossilfueltaxrate14\n",
    "from preprocfunc import OutlierTrans"
   ]
  },
  {
   "cell_type": "code",
   "execution_count": 30,
   "id": "700d7945-541a-4847-a307-c2005acf6e7c",
   "metadata": {
    "tags": []
   },
   "outputs": [],
   "source": [
    "ff_tax_rate14 = load_fossilfueltaxrate14()"
   ]
  },
  {
   "cell_type": "code",
   "execution_count": 31,
   "id": "f8e3051c-f3ea-4348-b569-9522bd219764",
   "metadata": {
    "tags": []
   },
   "outputs": [],
   "source": [
    "num_cols = [\n",
    "    \"fuel_income_dependence\",\n",
    "    \"national_income_per_cap\",\n",
    "    \"VAT_Rate\",\n",
    "    \"gov_debt_per_gdp\",\n",
    "    \"polity\",\n",
    "    \"goveffect\",\n",
    "    \"democracy_index\",\n",
    "]\n",
    "dummy_cols = [\n",
    "    \"democracy_polity\",\n",
    "    \"autocracy_polity\",\n",
    "    \"democracy\",\n",
    "    \"nat_oil_comp\",\n",
    "    \"nat_oil_comp_state\",\n",
    "]\n",
    "spec_cols = [\"motorization_rate\"]\n",
    "target_col = [\"gas_tax_imp\"]"
   ]
  },
  {
   "cell_type": "code",
   "execution_count": 32,
   "id": "6b641b00-defb-46bc-ba30-d3daac61d534",
   "metadata": {
    "tags": []
   },
   "outputs": [],
   "source": [
    "target = ff_tax_rate14[target_col]\n",
    "features = ff_tax_rate14[num_cols + dummy_cols + spec_cols]\n",
    "\n",
    "X_train, X_test, y_train, y_test = train_test_split(\n",
    "    features, target, test_size=0.2, random_state=0\n",
    ")"
   ]
  },
  {
   "cell_type": "code",
   "execution_count": 39,
   "id": "a790a779-dd28-4f3d-8267-c29b93754862",
   "metadata": {
    "tags": []
   },
   "outputs": [],
   "source": [
    "std_trans = make_pipeline(\n",
    "    OutlierTrans(2), SimpleImputer(strategy=\"median\"), StandardScaler()\n",
    ")\n",
    "cat_trans = make_pipeline(SimpleImputer(strategy=\"most_frequent\"))\n",
    "spec_trans = make_pipeline(OutlierTrans(2), StandardScaler())\n",
    "col_trans = ColumnTransformer(\n",
    "    [\n",
    "        (\"std\", std_trans, num_cols),\n",
    "        (\"cat\", cat_trans, dummy_cols),\n",
    "        (\"spec\", spec_trans, spec_cols),\n",
    "    ],\n",
    "    verbose_feature_names_out=False,\n",
    ")"
   ]
  },
  {
   "cell_type": "markdown",
   "id": "86afe920-dce6-44eb-aaee-2ee308f76eb3",
   "metadata": {},
   "source": [
    "Now, we are ready to fit our model. We will start with a fairly conservative alpha of 0.1.\n",
    "The higher the alpha, the greater the penalties for our coefficients. \n",
    "At 0, we get the same results as with linear regression. \n",
    "\n",
    "\n",
    "In addition to column transformation and lasso regression, our pieline uses KNN imputation for missing values,. We will also use the target transformer to scale the gasoline tax target. We will pass the pipeline we just created to the regressor parameter of the target transformer before we fit it:"
   ]
  },
  {
   "cell_type": "code",
   "execution_count": 43,
   "id": "d8ec7683-7278-4d13-919b-65d8948c2dc8",
   "metadata": {
    "tags": []
   },
   "outputs": [
    {
     "data": {
      "text/html": [
       "<style>#sk-container-id-1 {color: black;background-color: white;}#sk-container-id-1 pre{padding: 0;}#sk-container-id-1 div.sk-toggleable {background-color: white;}#sk-container-id-1 label.sk-toggleable__label {cursor: pointer;display: block;width: 100%;margin-bottom: 0;padding: 0.3em;box-sizing: border-box;text-align: center;}#sk-container-id-1 label.sk-toggleable__label-arrow:before {content: \"▸\";float: left;margin-right: 0.25em;color: #696969;}#sk-container-id-1 label.sk-toggleable__label-arrow:hover:before {color: black;}#sk-container-id-1 div.sk-estimator:hover label.sk-toggleable__label-arrow:before {color: black;}#sk-container-id-1 div.sk-toggleable__content {max-height: 0;max-width: 0;overflow: hidden;text-align: left;background-color: #f0f8ff;}#sk-container-id-1 div.sk-toggleable__content pre {margin: 0.2em;color: black;border-radius: 0.25em;background-color: #f0f8ff;}#sk-container-id-1 input.sk-toggleable__control:checked~div.sk-toggleable__content {max-height: 200px;max-width: 100%;overflow: auto;}#sk-container-id-1 input.sk-toggleable__control:checked~label.sk-toggleable__label-arrow:before {content: \"▾\";}#sk-container-id-1 div.sk-estimator input.sk-toggleable__control:checked~label.sk-toggleable__label {background-color: #d4ebff;}#sk-container-id-1 div.sk-label input.sk-toggleable__control:checked~label.sk-toggleable__label {background-color: #d4ebff;}#sk-container-id-1 input.sk-hidden--visually {border: 0;clip: rect(1px 1px 1px 1px);clip: rect(1px, 1px, 1px, 1px);height: 1px;margin: -1px;overflow: hidden;padding: 0;position: absolute;width: 1px;}#sk-container-id-1 div.sk-estimator {font-family: monospace;background-color: #f0f8ff;border: 1px dotted black;border-radius: 0.25em;box-sizing: border-box;margin-bottom: 0.5em;}#sk-container-id-1 div.sk-estimator:hover {background-color: #d4ebff;}#sk-container-id-1 div.sk-parallel-item::after {content: \"\";width: 100%;border-bottom: 1px solid gray;flex-grow: 1;}#sk-container-id-1 div.sk-label:hover label.sk-toggleable__label {background-color: #d4ebff;}#sk-container-id-1 div.sk-serial::before {content: \"\";position: absolute;border-left: 1px solid gray;box-sizing: border-box;top: 0;bottom: 0;left: 50%;z-index: 0;}#sk-container-id-1 div.sk-serial {display: flex;flex-direction: column;align-items: center;background-color: white;padding-right: 0.2em;padding-left: 0.2em;position: relative;}#sk-container-id-1 div.sk-item {position: relative;z-index: 1;}#sk-container-id-1 div.sk-parallel {display: flex;align-items: stretch;justify-content: center;background-color: white;position: relative;}#sk-container-id-1 div.sk-item::before, #sk-container-id-1 div.sk-parallel-item::before {content: \"\";position: absolute;border-left: 1px solid gray;box-sizing: border-box;top: 0;bottom: 0;left: 50%;z-index: -1;}#sk-container-id-1 div.sk-parallel-item {display: flex;flex-direction: column;z-index: 1;position: relative;background-color: white;}#sk-container-id-1 div.sk-parallel-item:first-child::after {align-self: flex-end;width: 50%;}#sk-container-id-1 div.sk-parallel-item:last-child::after {align-self: flex-start;width: 50%;}#sk-container-id-1 div.sk-parallel-item:only-child::after {width: 0;}#sk-container-id-1 div.sk-dashed-wrapped {border: 1px dashed gray;margin: 0 0.4em 0.5em 0.4em;box-sizing: border-box;padding-bottom: 0.4em;background-color: white;}#sk-container-id-1 div.sk-label label {font-family: monospace;font-weight: bold;display: inline-block;line-height: 1.2em;}#sk-container-id-1 div.sk-label-container {text-align: center;}#sk-container-id-1 div.sk-container {/* jupyter's `normalize.less` sets `[hidden] { display: none; }` but bootstrap.min.css set `[hidden] { display: none !important; }` so we also need the `!important` here to be able to override the default hidden behavior on the sphinx rendered scikit-learn.org. See: https://github.com/scikit-learn/scikit-learn/issues/21755 */display: inline-block !important;position: relative;}#sk-container-id-1 div.sk-text-repr-fallback {display: none;}</style><div id=\"sk-container-id-1\" class=\"sk-top-container\"><div class=\"sk-text-repr-fallback\"><pre>TransformedTargetRegressor(regressor=Pipeline(steps=[(&#x27;columntransformer&#x27;,\n",
       "                                                      ColumnTransformer(transformers=[(&#x27;std&#x27;,\n",
       "                                                                                       Pipeline(steps=[(&#x27;outliertrans&#x27;,\n",
       "                                                                                                        OutlierTrans(threshold=2)),\n",
       "                                                                                                       (&#x27;simpleimputer&#x27;,\n",
       "                                                                                                        SimpleImputer(strategy=&#x27;median&#x27;)),\n",
       "                                                                                                       (&#x27;standardscaler&#x27;,\n",
       "                                                                                                        StandardScaler())]),\n",
       "                                                                                       [&#x27;fuel_income_dependence&#x27;,\n",
       "                                                                                        &#x27;national_income_per_cap&#x27;,\n",
       "                                                                                        &#x27;VAT_Rate&#x27;,\n",
       "                                                                                        &#x27;gov_debt_per_gdp&#x27;,\n",
       "                                                                                        &#x27;polity...\n",
       "                                                                                       [&#x27;democracy_polity&#x27;,\n",
       "                                                                                        &#x27;autocracy_polity&#x27;,\n",
       "                                                                                        &#x27;democracy&#x27;,\n",
       "                                                                                        &#x27;nat_oil_comp&#x27;,\n",
       "                                                                                        &#x27;nat_oil_comp_state&#x27;]),\n",
       "                                                                                      (&#x27;spec&#x27;,\n",
       "                                                                                       Pipeline(steps=[(&#x27;outliertrans&#x27;,\n",
       "                                                                                                        OutlierTrans(threshold=2)),\n",
       "                                                                                                       (&#x27;standardscaler&#x27;,\n",
       "                                                                                                        StandardScaler())]),\n",
       "                                                                                       [&#x27;motorization_rate&#x27;])],\n",
       "                                                                        verbose_feature_names_out=False)),\n",
       "                                                     (&#x27;knnimputer&#x27;,\n",
       "                                                      KNNImputer()),\n",
       "                                                     (&#x27;lasso&#x27;,\n",
       "                                                      Lasso(alpha=0.1,\n",
       "                                                            fit_intercept=False))]),\n",
       "                           transformer=StandardScaler())</pre><b>In a Jupyter environment, please rerun this cell to show the HTML representation or trust the notebook. <br />On GitHub, the HTML representation is unable to render, please try loading this page with nbviewer.org.</b></div><div class=\"sk-container\" hidden><div class=\"sk-item sk-dashed-wrapped\"><div class=\"sk-label-container\"><div class=\"sk-label sk-toggleable\"><input class=\"sk-toggleable__control sk-hidden--visually\" id=\"sk-estimator-id-1\" type=\"checkbox\" ><label for=\"sk-estimator-id-1\" class=\"sk-toggleable__label sk-toggleable__label-arrow\">TransformedTargetRegressor</label><div class=\"sk-toggleable__content\"><pre>TransformedTargetRegressor(regressor=Pipeline(steps=[(&#x27;columntransformer&#x27;,\n",
       "                                                      ColumnTransformer(transformers=[(&#x27;std&#x27;,\n",
       "                                                                                       Pipeline(steps=[(&#x27;outliertrans&#x27;,\n",
       "                                                                                                        OutlierTrans(threshold=2)),\n",
       "                                                                                                       (&#x27;simpleimputer&#x27;,\n",
       "                                                                                                        SimpleImputer(strategy=&#x27;median&#x27;)),\n",
       "                                                                                                       (&#x27;standardscaler&#x27;,\n",
       "                                                                                                        StandardScaler())]),\n",
       "                                                                                       [&#x27;fuel_income_dependence&#x27;,\n",
       "                                                                                        &#x27;national_income_per_cap&#x27;,\n",
       "                                                                                        &#x27;VAT_Rate&#x27;,\n",
       "                                                                                        &#x27;gov_debt_per_gdp&#x27;,\n",
       "                                                                                        &#x27;polity...\n",
       "                                                                                       [&#x27;democracy_polity&#x27;,\n",
       "                                                                                        &#x27;autocracy_polity&#x27;,\n",
       "                                                                                        &#x27;democracy&#x27;,\n",
       "                                                                                        &#x27;nat_oil_comp&#x27;,\n",
       "                                                                                        &#x27;nat_oil_comp_state&#x27;]),\n",
       "                                                                                      (&#x27;spec&#x27;,\n",
       "                                                                                       Pipeline(steps=[(&#x27;outliertrans&#x27;,\n",
       "                                                                                                        OutlierTrans(threshold=2)),\n",
       "                                                                                                       (&#x27;standardscaler&#x27;,\n",
       "                                                                                                        StandardScaler())]),\n",
       "                                                                                       [&#x27;motorization_rate&#x27;])],\n",
       "                                                                        verbose_feature_names_out=False)),\n",
       "                                                     (&#x27;knnimputer&#x27;,\n",
       "                                                      KNNImputer()),\n",
       "                                                     (&#x27;lasso&#x27;,\n",
       "                                                      Lasso(alpha=0.1,\n",
       "                                                            fit_intercept=False))]),\n",
       "                           transformer=StandardScaler())</pre></div></div></div><div class=\"sk-parallel\"><div class=\"sk-parallel-item\"><div class=\"sk-item\"><div class=\"sk-label-container\"><div class=\"sk-label sk-toggleable\"><input class=\"sk-toggleable__control sk-hidden--visually\" id=\"sk-estimator-id-2\" type=\"checkbox\" ><label for=\"sk-estimator-id-2\" class=\"sk-toggleable__label sk-toggleable__label-arrow\">regressor: Pipeline</label><div class=\"sk-toggleable__content\"><pre>Pipeline(steps=[(&#x27;columntransformer&#x27;,\n",
       "                 ColumnTransformer(transformers=[(&#x27;std&#x27;,\n",
       "                                                  Pipeline(steps=[(&#x27;outliertrans&#x27;,\n",
       "                                                                   OutlierTrans(threshold=2)),\n",
       "                                                                  (&#x27;simpleimputer&#x27;,\n",
       "                                                                   SimpleImputer(strategy=&#x27;median&#x27;)),\n",
       "                                                                  (&#x27;standardscaler&#x27;,\n",
       "                                                                   StandardScaler())]),\n",
       "                                                  [&#x27;fuel_income_dependence&#x27;,\n",
       "                                                   &#x27;national_income_per_cap&#x27;,\n",
       "                                                   &#x27;VAT_Rate&#x27;,\n",
       "                                                   &#x27;gov_debt_per_gdp&#x27;, &#x27;polity&#x27;,\n",
       "                                                   &#x27;goveffect&#x27;,\n",
       "                                                   &#x27;democracy_index&#x27;]),\n",
       "                                                 (&#x27;c...\n",
       "                                                                   SimpleImputer(strategy=&#x27;most_frequent&#x27;))]),\n",
       "                                                  [&#x27;democracy_polity&#x27;,\n",
       "                                                   &#x27;autocracy_polity&#x27;,\n",
       "                                                   &#x27;democracy&#x27;, &#x27;nat_oil_comp&#x27;,\n",
       "                                                   &#x27;nat_oil_comp_state&#x27;]),\n",
       "                                                 (&#x27;spec&#x27;,\n",
       "                                                  Pipeline(steps=[(&#x27;outliertrans&#x27;,\n",
       "                                                                   OutlierTrans(threshold=2)),\n",
       "                                                                  (&#x27;standardscaler&#x27;,\n",
       "                                                                   StandardScaler())]),\n",
       "                                                  [&#x27;motorization_rate&#x27;])],\n",
       "                                   verbose_feature_names_out=False)),\n",
       "                (&#x27;knnimputer&#x27;, KNNImputer()),\n",
       "                (&#x27;lasso&#x27;, Lasso(alpha=0.1, fit_intercept=False))])</pre></div></div></div><div class=\"sk-serial\"><div class=\"sk-item\"><div class=\"sk-serial\"><div class=\"sk-item sk-dashed-wrapped\"><div class=\"sk-label-container\"><div class=\"sk-label sk-toggleable\"><input class=\"sk-toggleable__control sk-hidden--visually\" id=\"sk-estimator-id-3\" type=\"checkbox\" ><label for=\"sk-estimator-id-3\" class=\"sk-toggleable__label sk-toggleable__label-arrow\">columntransformer: ColumnTransformer</label><div class=\"sk-toggleable__content\"><pre>ColumnTransformer(transformers=[(&#x27;std&#x27;,\n",
       "                                 Pipeline(steps=[(&#x27;outliertrans&#x27;,\n",
       "                                                  OutlierTrans(threshold=2)),\n",
       "                                                 (&#x27;simpleimputer&#x27;,\n",
       "                                                  SimpleImputer(strategy=&#x27;median&#x27;)),\n",
       "                                                 (&#x27;standardscaler&#x27;,\n",
       "                                                  StandardScaler())]),\n",
       "                                 [&#x27;fuel_income_dependence&#x27;,\n",
       "                                  &#x27;national_income_per_cap&#x27;, &#x27;VAT_Rate&#x27;,\n",
       "                                  &#x27;gov_debt_per_gdp&#x27;, &#x27;polity&#x27;, &#x27;goveffect&#x27;,\n",
       "                                  &#x27;democracy_index&#x27;]),\n",
       "                                (&#x27;cat&#x27;,\n",
       "                                 Pipeline(steps=[(&#x27;simpleimputer&#x27;,\n",
       "                                                  SimpleImputer(strategy=&#x27;most_frequent&#x27;))]),\n",
       "                                 [&#x27;democracy_polity&#x27;, &#x27;autocracy_polity&#x27;,\n",
       "                                  &#x27;democracy&#x27;, &#x27;nat_oil_comp&#x27;,\n",
       "                                  &#x27;nat_oil_comp_state&#x27;]),\n",
       "                                (&#x27;spec&#x27;,\n",
       "                                 Pipeline(steps=[(&#x27;outliertrans&#x27;,\n",
       "                                                  OutlierTrans(threshold=2)),\n",
       "                                                 (&#x27;standardscaler&#x27;,\n",
       "                                                  StandardScaler())]),\n",
       "                                 [&#x27;motorization_rate&#x27;])],\n",
       "                  verbose_feature_names_out=False)</pre></div></div></div><div class=\"sk-parallel\"><div class=\"sk-parallel-item\"><div class=\"sk-item\"><div class=\"sk-label-container\"><div class=\"sk-label sk-toggleable\"><input class=\"sk-toggleable__control sk-hidden--visually\" id=\"sk-estimator-id-4\" type=\"checkbox\" ><label for=\"sk-estimator-id-4\" class=\"sk-toggleable__label sk-toggleable__label-arrow\">std</label><div class=\"sk-toggleable__content\"><pre>[&#x27;fuel_income_dependence&#x27;, &#x27;national_income_per_cap&#x27;, &#x27;VAT_Rate&#x27;, &#x27;gov_debt_per_gdp&#x27;, &#x27;polity&#x27;, &#x27;goveffect&#x27;, &#x27;democracy_index&#x27;]</pre></div></div></div><div class=\"sk-serial\"><div class=\"sk-item\"><div class=\"sk-serial\"><div class=\"sk-item\"><div class=\"sk-estimator sk-toggleable\"><input class=\"sk-toggleable__control sk-hidden--visually\" id=\"sk-estimator-id-5\" type=\"checkbox\" ><label for=\"sk-estimator-id-5\" class=\"sk-toggleable__label sk-toggleable__label-arrow\">OutlierTrans</label><div class=\"sk-toggleable__content\"><pre>OutlierTrans(threshold=2)</pre></div></div></div><div class=\"sk-item\"><div class=\"sk-estimator sk-toggleable\"><input class=\"sk-toggleable__control sk-hidden--visually\" id=\"sk-estimator-id-6\" type=\"checkbox\" ><label for=\"sk-estimator-id-6\" class=\"sk-toggleable__label sk-toggleable__label-arrow\">SimpleImputer</label><div class=\"sk-toggleable__content\"><pre>SimpleImputer(strategy=&#x27;median&#x27;)</pre></div></div></div><div class=\"sk-item\"><div class=\"sk-estimator sk-toggleable\"><input class=\"sk-toggleable__control sk-hidden--visually\" id=\"sk-estimator-id-7\" type=\"checkbox\" ><label for=\"sk-estimator-id-7\" class=\"sk-toggleable__label sk-toggleable__label-arrow\">StandardScaler</label><div class=\"sk-toggleable__content\"><pre>StandardScaler()</pre></div></div></div></div></div></div></div></div><div class=\"sk-parallel-item\"><div class=\"sk-item\"><div class=\"sk-label-container\"><div class=\"sk-label sk-toggleable\"><input class=\"sk-toggleable__control sk-hidden--visually\" id=\"sk-estimator-id-8\" type=\"checkbox\" ><label for=\"sk-estimator-id-8\" class=\"sk-toggleable__label sk-toggleable__label-arrow\">cat</label><div class=\"sk-toggleable__content\"><pre>[&#x27;democracy_polity&#x27;, &#x27;autocracy_polity&#x27;, &#x27;democracy&#x27;, &#x27;nat_oil_comp&#x27;, &#x27;nat_oil_comp_state&#x27;]</pre></div></div></div><div class=\"sk-serial\"><div class=\"sk-item\"><div class=\"sk-serial\"><div class=\"sk-item\"><div class=\"sk-estimator sk-toggleable\"><input class=\"sk-toggleable__control sk-hidden--visually\" id=\"sk-estimator-id-9\" type=\"checkbox\" ><label for=\"sk-estimator-id-9\" class=\"sk-toggleable__label sk-toggleable__label-arrow\">SimpleImputer</label><div class=\"sk-toggleable__content\"><pre>SimpleImputer(strategy=&#x27;most_frequent&#x27;)</pre></div></div></div></div></div></div></div></div><div class=\"sk-parallel-item\"><div class=\"sk-item\"><div class=\"sk-label-container\"><div class=\"sk-label sk-toggleable\"><input class=\"sk-toggleable__control sk-hidden--visually\" id=\"sk-estimator-id-10\" type=\"checkbox\" ><label for=\"sk-estimator-id-10\" class=\"sk-toggleable__label sk-toggleable__label-arrow\">spec</label><div class=\"sk-toggleable__content\"><pre>[&#x27;motorization_rate&#x27;]</pre></div></div></div><div class=\"sk-serial\"><div class=\"sk-item\"><div class=\"sk-serial\"><div class=\"sk-item\"><div class=\"sk-estimator sk-toggleable\"><input class=\"sk-toggleable__control sk-hidden--visually\" id=\"sk-estimator-id-11\" type=\"checkbox\" ><label for=\"sk-estimator-id-11\" class=\"sk-toggleable__label sk-toggleable__label-arrow\">OutlierTrans</label><div class=\"sk-toggleable__content\"><pre>OutlierTrans(threshold=2)</pre></div></div></div><div class=\"sk-item\"><div class=\"sk-estimator sk-toggleable\"><input class=\"sk-toggleable__control sk-hidden--visually\" id=\"sk-estimator-id-12\" type=\"checkbox\" ><label for=\"sk-estimator-id-12\" class=\"sk-toggleable__label sk-toggleable__label-arrow\">StandardScaler</label><div class=\"sk-toggleable__content\"><pre>StandardScaler()</pre></div></div></div></div></div></div></div></div></div></div><div class=\"sk-item\"><div class=\"sk-estimator sk-toggleable\"><input class=\"sk-toggleable__control sk-hidden--visually\" id=\"sk-estimator-id-13\" type=\"checkbox\" ><label for=\"sk-estimator-id-13\" class=\"sk-toggleable__label sk-toggleable__label-arrow\">KNNImputer</label><div class=\"sk-toggleable__content\"><pre>KNNImputer()</pre></div></div></div><div class=\"sk-item\"><div class=\"sk-estimator sk-toggleable\"><input class=\"sk-toggleable__control sk-hidden--visually\" id=\"sk-estimator-id-14\" type=\"checkbox\" ><label for=\"sk-estimator-id-14\" class=\"sk-toggleable__label sk-toggleable__label-arrow\">Lasso</label><div class=\"sk-toggleable__content\"><pre>Lasso(alpha=0.1, fit_intercept=False)</pre></div></div></div></div></div></div></div></div><div class=\"sk-parallel-item\"><div class=\"sk-item\"><div class=\"sk-label-container\"><div class=\"sk-label sk-toggleable\"><input class=\"sk-toggleable__control sk-hidden--visually\" id=\"sk-estimator-id-15\" type=\"checkbox\" ><label for=\"sk-estimator-id-15\" class=\"sk-toggleable__label sk-toggleable__label-arrow\">transformer: StandardScaler</label><div class=\"sk-toggleable__content\"><pre>StandardScaler()</pre></div></div></div><div class=\"sk-serial\"><div class=\"sk-item\"><div class=\"sk-estimator sk-toggleable\"><input class=\"sk-toggleable__control sk-hidden--visually\" id=\"sk-estimator-id-16\" type=\"checkbox\" ><label for=\"sk-estimator-id-16\" class=\"sk-toggleable__label sk-toggleable__label-arrow\">StandardScaler</label><div class=\"sk-toggleable__content\"><pre>StandardScaler()</pre></div></div></div></div></div></div></div></div></div></div>"
      ],
      "text/plain": [
       "TransformedTargetRegressor(regressor=Pipeline(steps=[('columntransformer',\n",
       "                                                      ColumnTransformer(transformers=[('std',\n",
       "                                                                                       Pipeline(steps=[('outliertrans',\n",
       "                                                                                                        OutlierTrans(threshold=2)),\n",
       "                                                                                                       ('simpleimputer',\n",
       "                                                                                                        SimpleImputer(strategy='median')),\n",
       "                                                                                                       ('standardscaler',\n",
       "                                                                                                        StandardScaler())]),\n",
       "                                                                                       ['fuel_income_dependence',\n",
       "                                                                                        'national_income_per_cap',\n",
       "                                                                                        'VAT_Rate',\n",
       "                                                                                        'gov_debt_per_gdp',\n",
       "                                                                                        'polity...\n",
       "                                                                                       ['democracy_polity',\n",
       "                                                                                        'autocracy_polity',\n",
       "                                                                                        'democracy',\n",
       "                                                                                        'nat_oil_comp',\n",
       "                                                                                        'nat_oil_comp_state']),\n",
       "                                                                                      ('spec',\n",
       "                                                                                       Pipeline(steps=[('outliertrans',\n",
       "                                                                                                        OutlierTrans(threshold=2)),\n",
       "                                                                                                       ('standardscaler',\n",
       "                                                                                                        StandardScaler())]),\n",
       "                                                                                       ['motorization_rate'])],\n",
       "                                                                        verbose_feature_names_out=False)),\n",
       "                                                     ('knnimputer',\n",
       "                                                      KNNImputer()),\n",
       "                                                     ('lasso',\n",
       "                                                      Lasso(alpha=0.1,\n",
       "                                                            fit_intercept=False))]),\n",
       "                           transformer=StandardScaler())"
      ]
     },
     "execution_count": 43,
     "metadata": {},
     "output_type": "execute_result"
    }
   ],
   "source": [
    "lasso = Lasso(alpha=0.1, fit_intercept=False)\n",
    "pipe1 = make_pipeline(col_trans, KNNImputer(n_neighbors=5), lasso)\n",
    "\n",
    "ttr = TransformedTargetRegressor(regressor=pipe1, transformer=StandardScaler())\n",
    "ttr.fit(X_train, y_train)"
   ]
  },
  {
   "cell_type": "code",
   "execution_count": 44,
   "id": "d1a48491-5743-4c99-b536-6b8ab6ccd8f7",
   "metadata": {
    "tags": []
   },
   "outputs": [
    {
     "data": {
      "text/plain": [
       "[(-0.0026505240129232185, 'fuel_income_dependence'),\n",
       " (0.0, 'national_income_per_cap'),\n",
       " (0.43472262042825904, 'VAT_Rate'),\n",
       " (0.10927136643326679, 'gov_debt_per_gdp'),\n",
       " (0.006825858127837552, 'polity'),\n",
       " (0.15823493727828816, 'goveffect'),\n",
       " (0.09622123660935214, 'democracy_index'),\n",
       " (0.0, 'democracy_polity'),\n",
       " (-0.0, 'autocracy_polity'),\n",
       " (0.0, 'democracy'),\n",
       " (-0.0, 'nat_oil_comp'),\n",
       " (-0.21996382457812438, 'nat_oil_comp_state'),\n",
       " (0.016680304258453117, 'motorization_rate')]"
      ]
     },
     "execution_count": 44,
     "metadata": {},
     "output_type": "execute_result"
    }
   ],
   "source": [
    "coefs = ttr.regressor_[\"lasso\"].coef_\n",
    "list(zip(coefs, num_cols + dummy_cols + spec_cols))"
   ]
  },
  {
   "cell_type": "markdown",
   "id": "f2c1f3d2-21bb-4478-8f1d-c9acfa52a516",
   "metadata": {},
   "source": [
    "^ Let's take a look at the coefficients from lasso regression. If we compare them to the coefficients from lienar regression in the previous section, we notice that we end up selecting the same features. Those features that were eliminated with recursive feature selection are largely the same ones that get near zero values with lasso regression."
   ]
  },
  {
   "cell_type": "code",
   "execution_count": 50,
   "id": "c67d1514-e84e-4766-86d4-91925bec7f77",
   "metadata": {
    "tags": []
   },
   "outputs": [
    {
     "data": {
      "text/plain": [
       "mean       -0.058844\n",
       "median     -0.066457\n",
       "skew        0.329402\n",
       "kurtosis    0.095229\n",
       "Name: resid, dtype: float64"
      ]
     },
     "execution_count": 50,
     "metadata": {},
     "output_type": "execute_result"
    }
   ],
   "source": [
    "y_pred = ttr.predict(X_test)\n",
    "pred_df = (\n",
    "    pd.DataFrame(y_pred, columns=[\"prediction\"], index=X_test.index)\n",
    "    .join(X_test)\n",
    "    .join(y_test)\n",
    ")\n",
    "\n",
    "\n",
    "pred_df[\"resid\"] = pred_df.gas_tax_imp - pred_df.prediction\n",
    "pred_df.resid.agg([\"mean\", \"median\", \"skew\", \"kurtosis\"])"
   ]
  },
  {
   "cell_type": "markdown",
   "id": "24abe934-39c5-490d-95ff-e85d4ee1fd97",
   "metadata": {},
   "source": [
    "^ Let's look at the predictions and residuals of this model. The residuals looks decent, with little bias and not much skew."
   ]
  },
  {
   "cell_type": "markdown",
   "id": "8d1a683c-3ace-4ea3-bb73-668558c46c00",
   "metadata": {},
   "source": [
    "#### Metrics"
   ]
  },
  {
   "cell_type": "code",
   "execution_count": 52,
   "id": "58be807e-cafe-46b1-aef3-d26e06997485",
   "metadata": {
    "tags": []
   },
   "outputs": [
    {
     "name": "stdout",
     "output_type": "stream",
     "text": [
      "Mean Absolute Error: 0.24, R-squared: 0.68\n"
     ]
    }
   ],
   "source": [
    "print(\n",
    "    \"Mean Absolute Error: {:.2f}, R-squared: {:.2f}\".format(\n",
    "        skmet.mean_absolute_error(y_test, y_pred), skmet.r2_score(y_test, y_pred)\n",
    "    )\n",
    ")"
   ]
  },
  {
   "cell_type": "markdown",
   "id": "a518f3a3-afd1-4025-9aec-03974834cc11",
   "metadata": {},
   "source": [
    "^ Let's also generate the mean absolute error and r-squared. These are not impressive scores. The r-square is lower than with linear regression, but the mean absolute error is about the same."
   ]
  },
  {
   "cell_type": "code",
   "execution_count": 55,
   "id": "9a14cd5f-6f0e-4642-bdc4-2d7ea9b36b61",
   "metadata": {
    "tags": []
   },
   "outputs": [
    {
     "data": {
      "text/plain": [
       "(-0.5625, 0.8125)"
      ]
     },
     "execution_count": 55,
     "metadata": {},
     "output_type": "execute_result"
    },
    {
     "data": {
      "image/png": "[encoded data removed]",
      "text/plain": [
       "<Figure size 432x288 with 1 Axes>"
      ]
     },
     "metadata": {
      "needs_background": "light"
     },
     "output_type": "display_data"
    }
   ],
   "source": [
    "plt.hist(pred_df.resid, color=\"blue\", bins=np.arange(-0.5, 1.0, 0.25))\n",
    "plt.axvline(pred_df.resid.mean(), color=\"red\", linestyle=\"dashed\", linewidth=1)\n",
    "plt.title(\"Histogram of Residuals for Gas Tax Model\")\n",
    "plt.xlabel(\"Residual\")\n",
    "plt.ylabel(\"Frequency\")\n",
    "plt.xlim()"
   ]
  },
  {
   "cell_type": "markdown",
   "id": "522094f1-cba6-4d0d-9c08-f5c6c614f024",
   "metadata": {},
   "source": [
    "^ The distribution of the residuals is quite similar to the linear regression model."
   ]
  },
  {
   "cell_type": "code",
   "execution_count": 54,
   "id": "c6a0b3ef-c330-4380-9924-620db36f3e5d",
   "metadata": {
    "tags": []
   },
   "outputs": [
    {
     "data": {
      "text/plain": [
       "Text(0, 0.5, 'Residuals')"
      ]
     },
     "execution_count": 54,
     "metadata": {},
     "output_type": "execute_result"
    },
    {
     "data": {
      "image/png": "[encoded data removed]",
      "text/plain": [
       "<Figure size 432x288 with 1 Axes>"
      ]
     },
     "metadata": {
      "needs_background": "light"
     },
     "output_type": "display_data"
    }
   ],
   "source": [
    "plt.scatter(pred_df.prediction, pred_df.resid, color=\"blue\")\n",
    "plt.axhline(0, color=\"red\", linestyle=\"dashed\", linewidth=1)\n",
    "plt.title(\"Scatterplot of Predictions and Residuals\")\n",
    "plt.xlabel(\"Predicted Gas Tax\")\n",
    "plt.ylabel(\"Residuals\")"
   ]
  },
  {
   "cell_type": "markdown",
   "id": "54021fe1-18bb-4be1-a5d6-82496af2a380",
   "metadata": {},
   "source": [
    "^ Our model is likely to over-predict at the lower ranges and under-predict at the upper range. This is a change from the linear model, where we consistently over predicted at both extremes."
   ]
  },
  {
   "cell_type": "code",
   "execution_count": 56,
   "id": "8560bf9e-e0e0-4958-aac4-366e97639db5",
   "metadata": {
    "tags": []
   },
   "outputs": [
    {
     "name": "stdout",
     "output_type": "stream",
     "text": [
      "Mean Absolute Error: -0.28, R-squared: 0.52\n"
     ]
    }
   ],
   "source": [
    "kf = KFold(n_splits=4, shuffle=True, random_state=0)\n",
    "scores = cross_validate(\n",
    "    ttr,\n",
    "    X=X_train,\n",
    "    y=y_train,\n",
    "    cv=kf,\n",
    "    scoring=(\"r2\", \"neg_mean_absolute_error\"),\n",
    "    n_jobs=1,\n",
    ")\n",
    "print(\n",
    "    \"Mean Absolute Error: {:.2f}, R-squared: {:.2f}\".format(\n",
    "        scores[\"test_neg_mean_absolute_error\"].mean(), scores[\"test_r2\"].mean()\n",
    "    )\n",
    ")"
   ]
  },
  {
   "cell_type": "markdown",
   "id": "6996cc4c-c9cb-4507-a03f-7c9b3f2536e5",
   "metadata": {},
   "source": [
    "^ The scores are lower than but close to those of the linear regression model.\n",
    "\n",
    "This gives us a model that is not any better than our original model, but it at least handles the feature selection process more efficiently. "
   ]
  },
  {
   "cell_type": "markdown",
   "id": "9bda088d-d21b-4388-8f5e-78c29c641070",
   "metadata": {},
   "source": [
    "## Tuning hyperparameters with grid searches"
   ]
  },
  {
   "cell_type": "code",
   "execution_count": 57,
   "id": "f853f934-f76d-4c3e-b09f-2368091cb125",
   "metadata": {
    "tags": []
   },
   "outputs": [
    {
     "data": {
      "text/plain": [
       "{'regressor__lasso__alpha': 0.05}"
      ]
     },
     "execution_count": 57,
     "metadata": {},
     "output_type": "execute_result"
    }
   ],
   "source": [
    "from sklearn.model_selection import GridSearchCV\n",
    "\n",
    "lasso = Lasso()\n",
    "lasso_params = {\"regressor__lasso__alpha\": np.arange(0.05, 1, 0.05)}\n",
    "\n",
    "gs = GridSearchCV(ttr, param_grid=lasso_params, cv=5)\n",
    "gs.fit(X_train, y_train)\n",
    "gs.best_params_"
   ]
  },
  {
   "cell_type": "code",
   "execution_count": 58,
   "id": "11ec3dad-65a7-414d-945a-15bbebae8a00",
   "metadata": {
    "tags": []
   },
   "outputs": [
    {
     "data": {
      "text/plain": [
       "0.4939585522059745"
      ]
     },
     "execution_count": 58,
     "metadata": {},
     "output_type": "execute_result"
    }
   ],
   "source": [
    "gs.best_score_"
   ]
  },
  {
   "cell_type": "markdown",
   "id": "c03e9da7-dcf2-43e2-a0e3-9d8912a51098",
   "metadata": {},
   "source": [
    "^ The lasso regression model comes close to but does not do quite as well as the linear model in terms of mean absolute error and r-squared.\n",
    "\n",
    "One benefit of lasso regression is that we do not need to do a feature selection step before training our model."
   ]
  },
  {
   "cell_type": "markdown",
   "id": "d211ec24-5a8a-4923-8ac4-599dfe87902c",
   "metadata": {},
   "source": [
    "## Using non-linear regression\n",
    "\n",
    "In this section, we will experiment with both a linear model and a non-linear model of average annual temperatures at weather stations across the world. "
   ]
  },
  {
   "cell_type": "code",
   "execution_count": 63,
   "id": "4dd153ff-44c4-44b2-a2a8-222b9e30b2cb",
   "metadata": {
    "tags": []
   },
   "outputs": [],
   "source": [
    "import matplotlib.pyplot as plt\n",
    "import numpy as np\n",
    "import pandas as pd\n",
    "from sklearn.impute import KNNImputer\n",
    "from sklearn.linear_model import LinearRegression\n",
    "from sklearn.model_selection import KFold, cross_validate, train_test_split\n",
    "from sklearn.pipeline import make_pipeline\n",
    "from sklearn.preprocessing import PolynomialFeatures, StandardScaler\n",
    "\n",
    "from data.load import load_landtemps2019avgs\n",
    "from preprocfunc import OutlierTrans"
   ]
  },
  {
   "cell_type": "markdown",
   "id": "12678e29-e59b-40cd-bb77-6aee87466a23",
   "metadata": {},
   "source": [
    "#### Load data"
   ]
  },
  {
   "cell_type": "code",
   "execution_count": 64,
   "id": "e7025076-2963-4ebb-902b-3360e9f7b851",
   "metadata": {
    "tags": []
   },
   "outputs": [],
   "source": [
    "land_temps = load_landtemps2019avgs()"
   ]
  },
  {
   "cell_type": "markdown",
   "id": "645d10c0-d7ba-4771-8781-475eee1b9882",
   "metadata": {},
   "source": [
    "#### Feature selection"
   ]
  },
  {
   "cell_type": "code",
   "execution_count": 66,
   "id": "76946241-2ee0-47ea-b1df-432e46224a5b",
   "metadata": {
    "tags": []
   },
   "outputs": [
    {
     "data": {
      "text/html": [
       "<div>\n",
       "<style scoped>\n",
       "    .dataframe tbody tr th:only-of-type {\n",
       "        vertical-align: middle;\n",
       "    }\n",
       "\n",
       "    .dataframe tbody tr th {\n",
       "        vertical-align: top;\n",
       "    }\n",
       "\n",
       "    .dataframe thead th {\n",
       "        text-align: right;\n",
       "    }\n",
       "</style>\n",
       "<table border=\"1\" class=\"dataframe\">\n",
       "  <thead>\n",
       "    <tr style=\"text-align: right;\">\n",
       "      <th></th>\n",
       "      <th>min</th>\n",
       "      <th>median</th>\n",
       "      <th>max</th>\n",
       "    </tr>\n",
       "  </thead>\n",
       "  <tbody>\n",
       "    <tr>\n",
       "      <th>avgtemp</th>\n",
       "      <td>-60.821</td>\n",
       "      <td>10.4500</td>\n",
       "      <td>33.93</td>\n",
       "    </tr>\n",
       "    <tr>\n",
       "      <th>latabs</th>\n",
       "      <td>0.017</td>\n",
       "      <td>40.6703</td>\n",
       "      <td>90.00</td>\n",
       "    </tr>\n",
       "    <tr>\n",
       "      <th>elevation</th>\n",
       "      <td>-350.000</td>\n",
       "      <td>271.3000</td>\n",
       "      <td>9999.00</td>\n",
       "    </tr>\n",
       "  </tbody>\n",
       "</table>\n",
       "</div>"
      ],
      "text/plain": [
       "               min    median      max\n",
       "avgtemp    -60.821   10.4500    33.93\n",
       "latabs       0.017   40.6703    90.00\n",
       "elevation -350.000  271.3000  9999.00"
      ]
     },
     "execution_count": 66,
     "metadata": {},
     "output_type": "execute_result"
    }
   ],
   "source": [
    "feature_cols = [\"latabs\", \"elevation\"]\n",
    "target_col = [\"avgtemp\"]\n",
    "land_temps[target_col + feature_cols].agg([\"min\", \"median\", \"max\"]).T"
   ]
  },
  {
   "cell_type": "markdown",
   "id": "362d7fcd-d526-4c10-a457-5065d75eacbb",
   "metadata": {},
   "source": [
    "#### Train-test split"
   ]
  },
  {
   "cell_type": "code",
   "execution_count": 67,
   "id": "d4d78e7c-72bb-4858-bc6e-5e5cda3e175b",
   "metadata": {
    "tags": []
   },
   "outputs": [],
   "source": [
    "X_train, X_test, y_train, y_test = train_test_split(\n",
    "    land_temps[feature_cols], land_temps[target_col], test_size=0.1, random_state=0\n",
    ")"
   ]
  },
  {
   "cell_type": "markdown",
   "id": "7190f4d3-9d8f-4a7c-bee3-cd9932918958",
   "metadata": {},
   "source": [
    "#### Pipeline"
   ]
  },
  {
   "cell_type": "code",
   "execution_count": 68,
   "id": "5c01c0ef-ae43-4f43-b6a9-e35068d9f0a2",
   "metadata": {
    "tags": []
   },
   "outputs": [
    {
     "data": {
      "text/plain": [
       "(0.7945217704794733, -2.803264175755446)"
      ]
     },
     "execution_count": 68,
     "metadata": {},
     "output_type": "execute_result"
    }
   ],
   "source": [
    "lr = LinearRegression()\n",
    "\n",
    "knn_imp = KNNImputer(n_neighbors=45)\n",
    "pipe1 = make_pipeline(OutlierTrans(3), knn_imp, StandardScaler(), lr)\n",
    "\n",
    "ttr = TransformedTargetRegressor(regressor=pipe1, transformer=StandardScaler())\n",
    "\n",
    "kf = KFold(n_splits=10, shuffle=True, random_state=0)\n",
    "scores = cross_validate(\n",
    "    ttr,\n",
    "    X=X_train,\n",
    "    y=y_train,\n",
    "    cv=kf,\n",
    "    scoring=(\"r2\", \"neg_mean_absolute_error\"),\n",
    "    n_jobs=1,\n",
    ")\n",
    "scores[\"test_r2\"].mean(), scores[\"test_neg_mean_absolute_error\"].mean()"
   ]
  },
  {
   "cell_type": "markdown",
   "id": "9beff4f5-daec-4ad5-aed8-be0c6187753f",
   "metadata": {},
   "source": [
    "#### Prediction"
   ]
  },
  {
   "cell_type": "code",
   "execution_count": 71,
   "id": "2a6fe1f7-e049-4508-bee3-dc6ca21527e6",
   "metadata": {
    "tags": []
   },
   "outputs": [
    {
     "data": {
      "text/plain": [
       "mean        0.004047\n",
       "median      0.495530\n",
       "skew       -1.133521\n",
       "kurtosis    3.480461\n",
       "Name: resid, dtype: float64"
      ]
     },
     "execution_count": 71,
     "metadata": {},
     "output_type": "execute_result"
    }
   ],
   "source": [
    "ttr.fit(X_train, y_train)\n",
    "y_pred = ttr.predict(X_test)\n",
    "\n",
    "pred_df = (\n",
    "    pd.DataFrame(y_pred, columns=[\"prediction\"], index=X_test.index)\n",
    "    .join(X_test)\n",
    "    .join(y_test)\n",
    ")\n",
    "pred_df[\"resid\"] = pred_df.avgtemp - pred_df.prediction\n",
    "pred_df.resid.agg([\"mean\", \"median\", \"skew\", \"kurtosis\"])"
   ]
  },
  {
   "cell_type": "markdown",
   "id": "8f92f7cc-6401-449c-96e7-51aadb75dc47",
   "metadata": {},
   "source": [
    "^ There is almost no bias overall (the average of the residuals is 0), but there is some negative skew.\n",
    "It is easy to see this skew if we create a histogram of the residuals. There are some extreme negative residuals - that is, times when we over-predict the average temperature by a lot."
   ]
  },
  {
   "cell_type": "code",
   "execution_count": 75,
   "id": "a78782db-9d53-4fc5-824a-53c15041da56",
   "metadata": {
    "tags": []
   },
   "outputs": [
    {
     "data": {
      "image/png": "[encoded data removed]",
      "text/plain": [
       "<Figure size 432x288 with 1 Axes>"
      ]
     },
     "metadata": {
      "needs_background": "light"
     },
     "output_type": "display_data"
    }
   ],
   "source": [
    "ax = pred_df.resid.hist(color=\"blue\", grid=False)\n",
    "ax.axvline(pred_df.resid.mean(), color=\"red\", linestyle=\"dashed\", linewidth=1)\n",
    "_ = ax.set(\n",
    "    title=\"Histogram of Residuals for Linear Model of Temperature\",\n",
    "    xlabel=\"Residuals\",\n",
    "    ylabel=\"Frequency\",\n",
    ")"
   ]
  },
  {
   "cell_type": "code",
   "execution_count": 79,
   "id": "1a15cabc-84ba-4a98-a044-a3bf085ea6e6",
   "metadata": {
    "tags": []
   },
   "outputs": [
    {
     "data": {
      "image/png": "[encoded data removed]",
      "text/plain": [
       "<Figure size 432x288 with 1 Axes>"
      ]
     },
     "metadata": {
      "needs_background": "light"
     },
     "output_type": "display_data"
    }
   ],
   "source": [
    "ax = pred_df.plot.scatter(x=\"prediction\", y=\"resid\", color=\"blue\")\n",
    "ax.axhline(0, color=\"red\", linestyle=\"dashed\", linewidth=1)\n",
    "_ = ax.set(\n",
    "    title=\"Scatterplot of Predictions and Residuals\",\n",
    "    xlabel=\"Predicted Temperature\",\n",
    "    ylabel=\"Residuals\",\n",
    "    xlim=(-20, 40),\n",
    "    ylim=(-27, 10),\n",
    ")"
   ]
  },
  {
   "cell_type": "markdown",
   "id": "0af7637d-82b6-4ef1-867d-ed28d116dbc0",
   "metadata": {},
   "source": [
    "^ Our model over-predicts all predictions above approximately 28 degree Celsius. It is also likely to underpredict when it predicts value between 18 and 28.\n",
    "\n",
    "Let's see if we get any better results with polynomial regression."
   ]
  },
  {
   "cell_type": "markdown",
   "id": "1c91f231-832e-48f0-af9a-a8855a7098c8",
   "metadata": {},
   "source": [
    "### Using polynomial regression"
   ]
  },
  {
   "cell_type": "code",
   "execution_count": 80,
   "id": "7e959272-ee76-43c3-902b-d8e4433b23ce",
   "metadata": {
    "tags": []
   },
   "outputs": [
    {
     "data": {
      "text/html": [
       "<style>#sk-container-id-2 {color: black;background-color: white;}#sk-container-id-2 pre{padding: 0;}#sk-container-id-2 div.sk-toggleable {background-color: white;}#sk-container-id-2 label.sk-toggleable__label {cursor: pointer;display: block;width: 100%;margin-bottom: 0;padding: 0.3em;box-sizing: border-box;text-align: center;}#sk-container-id-2 label.sk-toggleable__label-arrow:before {content: \"▸\";float: left;margin-right: 0.25em;color: #696969;}#sk-container-id-2 label.sk-toggleable__label-arrow:hover:before {color: black;}#sk-container-id-2 div.sk-estimator:hover label.sk-toggleable__label-arrow:before {color: black;}#sk-container-id-2 div.sk-toggleable__content {max-height: 0;max-width: 0;overflow: hidden;text-align: left;background-color: #f0f8ff;}#sk-container-id-2 div.sk-toggleable__content pre {margin: 0.2em;color: black;border-radius: 0.25em;background-color: #f0f8ff;}#sk-container-id-2 input.sk-toggleable__control:checked~div.sk-toggleable__content {max-height: 200px;max-width: 100%;overflow: auto;}#sk-container-id-2 input.sk-toggleable__control:checked~label.sk-toggleable__label-arrow:before {content: \"▾\";}#sk-container-id-2 div.sk-estimator input.sk-toggleable__control:checked~label.sk-toggleable__label {background-color: #d4ebff;}#sk-container-id-2 div.sk-label input.sk-toggleable__control:checked~label.sk-toggleable__label {background-color: #d4ebff;}#sk-container-id-2 input.sk-hidden--visually {border: 0;clip: rect(1px 1px 1px 1px);clip: rect(1px, 1px, 1px, 1px);height: 1px;margin: -1px;overflow: hidden;padding: 0;position: absolute;width: 1px;}#sk-container-id-2 div.sk-estimator {font-family: monospace;background-color: #f0f8ff;border: 1px dotted black;border-radius: 0.25em;box-sizing: border-box;margin-bottom: 0.5em;}#sk-container-id-2 div.sk-estimator:hover {background-color: #d4ebff;}#sk-container-id-2 div.sk-parallel-item::after {content: \"\";width: 100%;border-bottom: 1px solid gray;flex-grow: 1;}#sk-container-id-2 div.sk-label:hover label.sk-toggleable__label {background-color: #d4ebff;}#sk-container-id-2 div.sk-serial::before {content: \"\";position: absolute;border-left: 1px solid gray;box-sizing: border-box;top: 0;bottom: 0;left: 50%;z-index: 0;}#sk-container-id-2 div.sk-serial {display: flex;flex-direction: column;align-items: center;background-color: white;padding-right: 0.2em;padding-left: 0.2em;position: relative;}#sk-container-id-2 div.sk-item {position: relative;z-index: 1;}#sk-container-id-2 div.sk-parallel {display: flex;align-items: stretch;justify-content: center;background-color: white;position: relative;}#sk-container-id-2 div.sk-item::before, #sk-container-id-2 div.sk-parallel-item::before {content: \"\";position: absolute;border-left: 1px solid gray;box-sizing: border-box;top: 0;bottom: 0;left: 50%;z-index: -1;}#sk-container-id-2 div.sk-parallel-item {display: flex;flex-direction: column;z-index: 1;position: relative;background-color: white;}#sk-container-id-2 div.sk-parallel-item:first-child::after {align-self: flex-end;width: 50%;}#sk-container-id-2 div.sk-parallel-item:last-child::after {align-self: flex-start;width: 50%;}#sk-container-id-2 div.sk-parallel-item:only-child::after {width: 0;}#sk-container-id-2 div.sk-dashed-wrapped {border: 1px dashed gray;margin: 0 0.4em 0.5em 0.4em;box-sizing: border-box;padding-bottom: 0.4em;background-color: white;}#sk-container-id-2 div.sk-label label {font-family: monospace;font-weight: bold;display: inline-block;line-height: 1.2em;}#sk-container-id-2 div.sk-label-container {text-align: center;}#sk-container-id-2 div.sk-container {/* jupyter's `normalize.less` sets `[hidden] { display: none; }` but bootstrap.min.css set `[hidden] { display: none !important; }` so we also need the `!important` here to be able to override the default hidden behavior on the sphinx rendered scikit-learn.org. See: https://github.com/scikit-learn/scikit-learn/issues/21755 */display: inline-block !important;position: relative;}#sk-container-id-2 div.sk-text-repr-fallback {display: none;}</style><div id=\"sk-container-id-2\" class=\"sk-top-container\"><div class=\"sk-text-repr-fallback\"><pre>PolynomialFeatures(degree=4, include_bias=False)</pre><b>In a Jupyter environment, please rerun this cell to show the HTML representation or trust the notebook. <br />On GitHub, the HTML representation is unable to render, please try loading this page with nbviewer.org.</b></div><div class=\"sk-container\" hidden><div class=\"sk-item\"><div class=\"sk-estimator sk-toggleable\"><input class=\"sk-toggleable__control sk-hidden--visually\" id=\"sk-estimator-id-17\" type=\"checkbox\" checked><label for=\"sk-estimator-id-17\" class=\"sk-toggleable__label sk-toggleable__label-arrow\">PolynomialFeatures</label><div class=\"sk-toggleable__content\"><pre>PolynomialFeatures(degree=4, include_bias=False)</pre></div></div></div></div></div>"
      ],
      "text/plain": [
       "PolynomialFeatures(degree=4, include_bias=False)"
      ]
     },
     "execution_count": 80,
     "metadata": {},
     "output_type": "execute_result"
    }
   ],
   "source": [
    "poly_trans = PolynomialFeatures(degree=4, include_bias=False)\n",
    "poly_trans.fit(X_train.dropna())"
   ]
  },
  {
   "cell_type": "code",
   "execution_count": 82,
   "id": "02e7e9b9-b962-4d73-bd3b-623e64c3a68d",
   "metadata": {
    "tags": []
   },
   "outputs": [
    {
     "data": {
      "text/plain": [
       "['latabs',\n",
       " 'elevation',\n",
       " 'latabs^2',\n",
       " 'latabs elevation',\n",
       " 'elevation^2',\n",
       " 'latabs^3',\n",
       " 'latabs^2 elevation',\n",
       " 'latabs elevation^2',\n",
       " 'elevation^3',\n",
       " 'latabs^4',\n",
       " 'latabs^3 elevation',\n",
       " 'latabs^2 elevation^2',\n",
       " 'latabs elevation^3',\n",
       " 'elevation^4']"
      ]
     },
     "execution_count": 82,
     "metadata": {},
     "output_type": "execute_result"
    }
   ],
   "source": [
    "feature_names = poly_trans.get_feature_names(feature_cols)\n",
    "feature_names"
   ]
  },
  {
   "cell_type": "markdown",
   "id": "2150cb49-a01a-4bd2-ad96-4ae58a0d7b56",
   "metadata": {},
   "source": [
    "#### Pipeline"
   ]
  },
  {
   "cell_type": "code",
   "execution_count": 85,
   "id": "10a0bd8c-211d-4191-b4f6-d214918d74ce",
   "metadata": {
    "tags": []
   },
   "outputs": [
    {
     "data": {
      "text/html": [
       "<style>#sk-container-id-3 {color: black;background-color: white;}#sk-container-id-3 pre{padding: 0;}#sk-container-id-3 div.sk-toggleable {background-color: white;}#sk-container-id-3 label.sk-toggleable__label {cursor: pointer;display: block;width: 100%;margin-bottom: 0;padding: 0.3em;box-sizing: border-box;text-align: center;}#sk-container-id-3 label.sk-toggleable__label-arrow:before {content: \"▸\";float: left;margin-right: 0.25em;color: #696969;}#sk-container-id-3 label.sk-toggleable__label-arrow:hover:before {color: black;}#sk-container-id-3 div.sk-estimator:hover label.sk-toggleable__label-arrow:before {color: black;}#sk-container-id-3 div.sk-toggleable__content {max-height: 0;max-width: 0;overflow: hidden;text-align: left;background-color: #f0f8ff;}#sk-container-id-3 div.sk-toggleable__content pre {margin: 0.2em;color: black;border-radius: 0.25em;background-color: #f0f8ff;}#sk-container-id-3 input.sk-toggleable__control:checked~div.sk-toggleable__content {max-height: 200px;max-width: 100%;overflow: auto;}#sk-container-id-3 input.sk-toggleable__control:checked~label.sk-toggleable__label-arrow:before {content: \"▾\";}#sk-container-id-3 div.sk-estimator input.sk-toggleable__control:checked~label.sk-toggleable__label {background-color: #d4ebff;}#sk-container-id-3 div.sk-label input.sk-toggleable__control:checked~label.sk-toggleable__label {background-color: #d4ebff;}#sk-container-id-3 input.sk-hidden--visually {border: 0;clip: rect(1px 1px 1px 1px);clip: rect(1px, 1px, 1px, 1px);height: 1px;margin: -1px;overflow: hidden;padding: 0;position: absolute;width: 1px;}#sk-container-id-3 div.sk-estimator {font-family: monospace;background-color: #f0f8ff;border: 1px dotted black;border-radius: 0.25em;box-sizing: border-box;margin-bottom: 0.5em;}#sk-container-id-3 div.sk-estimator:hover {background-color: #d4ebff;}#sk-container-id-3 div.sk-parallel-item::after {content: \"\";width: 100%;border-bottom: 1px solid gray;flex-grow: 1;}#sk-container-id-3 div.sk-label:hover label.sk-toggleable__label {background-color: #d4ebff;}#sk-container-id-3 div.sk-serial::before {content: \"\";position: absolute;border-left: 1px solid gray;box-sizing: border-box;top: 0;bottom: 0;left: 50%;z-index: 0;}#sk-container-id-3 div.sk-serial {display: flex;flex-direction: column;align-items: center;background-color: white;padding-right: 0.2em;padding-left: 0.2em;position: relative;}#sk-container-id-3 div.sk-item {position: relative;z-index: 1;}#sk-container-id-3 div.sk-parallel {display: flex;align-items: stretch;justify-content: center;background-color: white;position: relative;}#sk-container-id-3 div.sk-item::before, #sk-container-id-3 div.sk-parallel-item::before {content: \"\";position: absolute;border-left: 1px solid gray;box-sizing: border-box;top: 0;bottom: 0;left: 50%;z-index: -1;}#sk-container-id-3 div.sk-parallel-item {display: flex;flex-direction: column;z-index: 1;position: relative;background-color: white;}#sk-container-id-3 div.sk-parallel-item:first-child::after {align-self: flex-end;width: 50%;}#sk-container-id-3 div.sk-parallel-item:last-child::after {align-self: flex-start;width: 50%;}#sk-container-id-3 div.sk-parallel-item:only-child::after {width: 0;}#sk-container-id-3 div.sk-dashed-wrapped {border: 1px dashed gray;margin: 0 0.4em 0.5em 0.4em;box-sizing: border-box;padding-bottom: 0.4em;background-color: white;}#sk-container-id-3 div.sk-label label {font-family: monospace;font-weight: bold;display: inline-block;line-height: 1.2em;}#sk-container-id-3 div.sk-label-container {text-align: center;}#sk-container-id-3 div.sk-container {/* jupyter's `normalize.less` sets `[hidden] { display: none; }` but bootstrap.min.css set `[hidden] { display: none !important; }` so we also need the `!important` here to be able to override the default hidden behavior on the sphinx rendered scikit-learn.org. See: https://github.com/scikit-learn/scikit-learn/issues/21755 */display: inline-block !important;position: relative;}#sk-container-id-3 div.sk-text-repr-fallback {display: none;}</style><div id=\"sk-container-id-3\" class=\"sk-top-container\"><div class=\"sk-text-repr-fallback\"><pre>TransformedTargetRegressor(regressor=Pipeline(steps=[(&#x27;outliertrans&#x27;,\n",
       "                                                      OutlierTrans(threshold=3)),\n",
       "                                                     (&#x27;knnimputer&#x27;,\n",
       "                                                      KNNImputer(n_neighbors=45)),\n",
       "                                                     (&#x27;polynomialfeatures&#x27;,\n",
       "                                                      PolynomialFeatures(degree=4,\n",
       "                                                                         include_bias=False)),\n",
       "                                                     (&#x27;standardscaler&#x27;,\n",
       "                                                      StandardScaler()),\n",
       "                                                     (&#x27;linearregression&#x27;,\n",
       "                                                      LinearRegression())]),\n",
       "                           transformer=StandardScaler())</pre><b>In a Jupyter environment, please rerun this cell to show the HTML representation or trust the notebook. <br />On GitHub, the HTML representation is unable to render, please try loading this page with nbviewer.org.</b></div><div class=\"sk-container\" hidden><div class=\"sk-item sk-dashed-wrapped\"><div class=\"sk-label-container\"><div class=\"sk-label sk-toggleable\"><input class=\"sk-toggleable__control sk-hidden--visually\" id=\"sk-estimator-id-18\" type=\"checkbox\" ><label for=\"sk-estimator-id-18\" class=\"sk-toggleable__label sk-toggleable__label-arrow\">TransformedTargetRegressor</label><div class=\"sk-toggleable__content\"><pre>TransformedTargetRegressor(regressor=Pipeline(steps=[(&#x27;outliertrans&#x27;,\n",
       "                                                      OutlierTrans(threshold=3)),\n",
       "                                                     (&#x27;knnimputer&#x27;,\n",
       "                                                      KNNImputer(n_neighbors=45)),\n",
       "                                                     (&#x27;polynomialfeatures&#x27;,\n",
       "                                                      PolynomialFeatures(degree=4,\n",
       "                                                                         include_bias=False)),\n",
       "                                                     (&#x27;standardscaler&#x27;,\n",
       "                                                      StandardScaler()),\n",
       "                                                     (&#x27;linearregression&#x27;,\n",
       "                                                      LinearRegression())]),\n",
       "                           transformer=StandardScaler())</pre></div></div></div><div class=\"sk-parallel\"><div class=\"sk-parallel-item\"><div class=\"sk-item\"><div class=\"sk-label-container\"><div class=\"sk-label sk-toggleable\"><input class=\"sk-toggleable__control sk-hidden--visually\" id=\"sk-estimator-id-19\" type=\"checkbox\" ><label for=\"sk-estimator-id-19\" class=\"sk-toggleable__label sk-toggleable__label-arrow\">regressor: Pipeline</label><div class=\"sk-toggleable__content\"><pre>Pipeline(steps=[(&#x27;outliertrans&#x27;, OutlierTrans(threshold=3)),\n",
       "                (&#x27;knnimputer&#x27;, KNNImputer(n_neighbors=45)),\n",
       "                (&#x27;polynomialfeatures&#x27;,\n",
       "                 PolynomialFeatures(degree=4, include_bias=False)),\n",
       "                (&#x27;standardscaler&#x27;, StandardScaler()),\n",
       "                (&#x27;linearregression&#x27;, LinearRegression())])</pre></div></div></div><div class=\"sk-serial\"><div class=\"sk-item\"><div class=\"sk-serial\"><div class=\"sk-item\"><div class=\"sk-estimator sk-toggleable\"><input class=\"sk-toggleable__control sk-hidden--visually\" id=\"sk-estimator-id-20\" type=\"checkbox\" ><label for=\"sk-estimator-id-20\" class=\"sk-toggleable__label sk-toggleable__label-arrow\">OutlierTrans</label><div class=\"sk-toggleable__content\"><pre>OutlierTrans(threshold=3)</pre></div></div></div><div class=\"sk-item\"><div class=\"sk-estimator sk-toggleable\"><input class=\"sk-toggleable__control sk-hidden--visually\" id=\"sk-estimator-id-21\" type=\"checkbox\" ><label for=\"sk-estimator-id-21\" class=\"sk-toggleable__label sk-toggleable__label-arrow\">KNNImputer</label><div class=\"sk-toggleable__content\"><pre>KNNImputer(n_neighbors=45)</pre></div></div></div><div class=\"sk-item\"><div class=\"sk-estimator sk-toggleable\"><input class=\"sk-toggleable__control sk-hidden--visually\" id=\"sk-estimator-id-22\" type=\"checkbox\" ><label for=\"sk-estimator-id-22\" class=\"sk-toggleable__label sk-toggleable__label-arrow\">PolynomialFeatures</label><div class=\"sk-toggleable__content\"><pre>PolynomialFeatures(degree=4, include_bias=False)</pre></div></div></div><div class=\"sk-item\"><div class=\"sk-estimator sk-toggleable\"><input class=\"sk-toggleable__control sk-hidden--visually\" id=\"sk-estimator-id-23\" type=\"checkbox\" ><label for=\"sk-estimator-id-23\" class=\"sk-toggleable__label sk-toggleable__label-arrow\">StandardScaler</label><div class=\"sk-toggleable__content\"><pre>StandardScaler()</pre></div></div></div><div class=\"sk-item\"><div class=\"sk-estimator sk-toggleable\"><input class=\"sk-toggleable__control sk-hidden--visually\" id=\"sk-estimator-id-24\" type=\"checkbox\" ><label for=\"sk-estimator-id-24\" class=\"sk-toggleable__label sk-toggleable__label-arrow\">LinearRegression</label><div class=\"sk-toggleable__content\"><pre>LinearRegression()</pre></div></div></div></div></div></div></div></div><div class=\"sk-parallel-item\"><div class=\"sk-item\"><div class=\"sk-label-container\"><div class=\"sk-label sk-toggleable\"><input class=\"sk-toggleable__control sk-hidden--visually\" id=\"sk-estimator-id-25\" type=\"checkbox\" ><label for=\"sk-estimator-id-25\" class=\"sk-toggleable__label sk-toggleable__label-arrow\">transformer: StandardScaler</label><div class=\"sk-toggleable__content\"><pre>StandardScaler()</pre></div></div></div><div class=\"sk-serial\"><div class=\"sk-item\"><div class=\"sk-estimator sk-toggleable\"><input class=\"sk-toggleable__control sk-hidden--visually\" id=\"sk-estimator-id-26\" type=\"checkbox\" ><label for=\"sk-estimator-id-26\" class=\"sk-toggleable__label sk-toggleable__label-arrow\">StandardScaler</label><div class=\"sk-toggleable__content\"><pre>StandardScaler()</pre></div></div></div></div></div></div></div></div></div></div>"
      ],
      "text/plain": [
       "TransformedTargetRegressor(regressor=Pipeline(steps=[('outliertrans',\n",
       "                                                      OutlierTrans(threshold=3)),\n",
       "                                                     ('knnimputer',\n",
       "                                                      KNNImputer(n_neighbors=45)),\n",
       "                                                     ('polynomialfeatures',\n",
       "                                                      PolynomialFeatures(degree=4,\n",
       "                                                                         include_bias=False)),\n",
       "                                                     ('standardscaler',\n",
       "                                                      StandardScaler()),\n",
       "                                                     ('linearregression',\n",
       "                                                      LinearRegression())]),\n",
       "                           transformer=StandardScaler())"
      ]
     },
     "execution_count": 85,
     "metadata": {},
     "output_type": "execute_result"
    }
   ],
   "source": [
    "pipe2 = make_pipeline(OutlierTrans(3), knn_imp, poly_trans, StandardScaler(), lr)\n",
    "ttr2 = TransformedTargetRegressor(regressor=pipe2, transformer=StandardScaler())\n",
    "ttr2.fit(X_train, y_train)"
   ]
  },
  {
   "cell_type": "markdown",
   "id": "6780093b-f01f-4c21-bffb-11cf9739c2af",
   "metadata": {},
   "source": [
    "#### Prediction"
   ]
  },
  {
   "cell_type": "code",
   "execution_count": 86,
   "id": "ad5118ff-53dd-4b41-8da2-ff38b606183b",
   "metadata": {
    "tags": []
   },
   "outputs": [
    {
     "data": {
      "text/plain": [
       "mean        0.011820\n",
       "median      0.197552\n",
       "skew       -0.978774\n",
       "kurtosis    3.342115\n",
       "Name: resid, dtype: float64"
      ]
     },
     "execution_count": 86,
     "metadata": {},
     "output_type": "execute_result"
    }
   ],
   "source": [
    "y_pred = ttr2.predict(X_test)\n",
    "pred_df = (\n",
    "    pd.DataFrame(y_pred, columns=[\"prediction\"], index=X_test.index)\n",
    "    .join(X_test)\n",
    "    .join(y_test)\n",
    ")\n",
    "pred_df[\"resid\"] = pred_df.avgtemp - pred_df.prediction\n",
    "\n",
    "pred_df.resid.agg([\"mean\", \"median\", \"skew\", \"kurtosis\"])"
   ]
  },
  {
   "cell_type": "markdown",
   "id": "8ab6cb00-fd64-4e60-b9ce-7c0d548514fa",
   "metadata": {},
   "source": [
    "^ There is a little less skew in the residuals than with the linear model.\n",
    "\n",
    "We should take a look at a histogram of the residuals."
   ]
  },
  {
   "cell_type": "code",
   "execution_count": 87,
   "id": "47e53ab7-45cb-4ce6-bc87-0a114389c669",
   "metadata": {
    "tags": []
   },
   "outputs": [
    {
     "data": {
      "text/plain": [
       "Text(0, 0.5, 'Frequency')"
      ]
     },
     "execution_count": 87,
     "metadata": {},
     "output_type": "execute_result"
    },
    {
     "data": {
      "image/png": "[encoded data removed]",
      "text/plain": [
       "<Figure size 432x288 with 1 Axes>"
      ]
     },
     "metadata": {
      "needs_background": "light"
     },
     "output_type": "display_data"
    }
   ],
   "source": [
    "plt.hist(pred_df.resid, color=\"blue\")\n",
    "plt.axvline(pred_df.resid.mean(), color=\"red\", linestyle=\"dashed\", linewidth=1)\n",
    "plt.title(\"Histogram of Residulas for Temperature Model\")\n",
    "plt.xlabel(\"Residuals\")\n",
    "plt.ylabel(\"Frequency\")"
   ]
  },
  {
   "cell_type": "code",
   "execution_count": 89,
   "id": "953e25d1-fc81-450b-b197-3c80c61d8c04",
   "metadata": {
    "tags": []
   },
   "outputs": [
    {
     "data": {
      "image/png": "[encoded data removed]",
      "text/plain": [
       "<Figure size 432x288 with 1 Axes>"
      ]
     },
     "metadata": {
      "needs_background": "light"
     },
     "output_type": "display_data"
    }
   ],
   "source": [
    "ax = pred_df.plot.scatter(\"prediction\", \"resid\", color=\"blue\")\n",
    "ax.axhline(0, color=\"red\", linestyle=\"dashed\", linewidth=1)\n",
    "_ = ax.set(\n",
    "    title=\"Scatterplot of Predictions and Residuals\",\n",
    "    xlabel=\"Predicted Temperature\",\n",
    "    ylabel=\"Residuals\",\n",
    "    xlim=(-20, 40),\n",
    "    ylim=(-27, 10),\n",
    ")"
   ]
  },
  {
   "cell_type": "code",
   "execution_count": 92,
   "id": "11de2b7b-063a-44fd-a316-36e51e74cae5",
   "metadata": {
    "tags": []
   },
   "outputs": [
    {
     "data": {
      "text/plain": [
       "(0.8339878897078581, -2.4005376748949887)"
      ]
     },
     "execution_count": 92,
     "metadata": {},
     "output_type": "execute_result"
    }
   ],
   "source": [
    "scores = cross_validate(\n",
    "    ttr2,\n",
    "    X=X_train,\n",
    "    y=y_train,\n",
    "    cv=kf,\n",
    "    scoring=(\"r2\", \"neg_mean_absolute_error\"),\n",
    "    n_jobs=1,\n",
    ")\n",
    "scores[\"test_r2\"].mean(), scores[\"test_neg_mean_absolute_error\"].mean()"
   ]
  },
  {
   "cell_type": "markdown",
   "id": "75fe1529-e1e3-4185-87b7-d34bdc70059a",
   "metadata": {},
   "source": [
    "^ The polynomial transformation improved our overall results, particularly with certain rangoes of our predictors. The residuals at high temperatures were noticeably lower. It is often a good idea to try a polynomial transformation when our residuals suggest that there might be a nonlinear relationship between our features and our target."
   ]
  },
  {
   "cell_type": "markdown",
   "id": "ea354fa9-02e6-4d81-a428-c52e34f2beac",
   "metadata": {},
   "source": [
    "## Regression with gradient descent"
   ]
  },
  {
   "cell_type": "code",
   "execution_count": 99,
   "id": "65c3df38-8da1-4a50-85e7-89b79646bb2a",
   "metadata": {
    "tags": []
   },
   "outputs": [],
   "source": [
    "import matplotlib.pyplot as plt\n",
    "import numpy as np\n",
    "import pandas as pd\n",
    "from sklearn.impute import KNNImputer\n",
    "from sklearn.linear_model import SGDRegressor\n",
    "from sklearn.model_selection import KFold, cross_validate, train_test_split\n",
    "from sklearn.pipeline import make_pipeline\n",
    "from sklearn.preprocessing import PolynomialFeatures, StandardScaler\n",
    "\n",
    "from data.load import load_landtemps2019avgs\n",
    "from preprocfunc import OutlierTrans"
   ]
  },
  {
   "cell_type": "markdown",
   "id": "f9267fd4-2e07-483b-9f7b-22a9fbd747a3",
   "metadata": {},
   "source": [
    "#### Load data"
   ]
  },
  {
   "cell_type": "code",
   "execution_count": 94,
   "id": "37439ea3-5994-4796-8f26-3fdae2e00f8b",
   "metadata": {
    "tags": []
   },
   "outputs": [],
   "source": [
    "land_temps = load_landtemps2019avgs()"
   ]
  },
  {
   "cell_type": "markdown",
   "id": "e15976d7-bc14-4c0d-a7c9-2b1c8aabb16a",
   "metadata": {},
   "source": [
    "#### Feature selection"
   ]
  },
  {
   "cell_type": "code",
   "execution_count": 95,
   "id": "e228f58f-25cb-424f-935f-80acfafe0026",
   "metadata": {
    "tags": []
   },
   "outputs": [
    {
     "data": {
      "text/html": [
       "<div>\n",
       "<style scoped>\n",
       "    .dataframe tbody tr th:only-of-type {\n",
       "        vertical-align: middle;\n",
       "    }\n",
       "\n",
       "    .dataframe tbody tr th {\n",
       "        vertical-align: top;\n",
       "    }\n",
       "\n",
       "    .dataframe thead th {\n",
       "        text-align: right;\n",
       "    }\n",
       "</style>\n",
       "<table border=\"1\" class=\"dataframe\">\n",
       "  <thead>\n",
       "    <tr style=\"text-align: right;\">\n",
       "      <th></th>\n",
       "      <th>min</th>\n",
       "      <th>median</th>\n",
       "      <th>max</th>\n",
       "    </tr>\n",
       "  </thead>\n",
       "  <tbody>\n",
       "    <tr>\n",
       "      <th>avgtemp</th>\n",
       "      <td>-60.821</td>\n",
       "      <td>10.4500</td>\n",
       "      <td>33.93</td>\n",
       "    </tr>\n",
       "    <tr>\n",
       "      <th>latabs</th>\n",
       "      <td>0.017</td>\n",
       "      <td>40.6703</td>\n",
       "      <td>90.00</td>\n",
       "    </tr>\n",
       "    <tr>\n",
       "      <th>elevation</th>\n",
       "      <td>-350.000</td>\n",
       "      <td>271.3000</td>\n",
       "      <td>9999.00</td>\n",
       "    </tr>\n",
       "  </tbody>\n",
       "</table>\n",
       "</div>"
      ],
      "text/plain": [
       "               min    median      max\n",
       "avgtemp    -60.821   10.4500    33.93\n",
       "latabs       0.017   40.6703    90.00\n",
       "elevation -350.000  271.3000  9999.00"
      ]
     },
     "execution_count": 95,
     "metadata": {},
     "output_type": "execute_result"
    }
   ],
   "source": [
    "feature_cols = [\"latabs\", \"elevation\"]\n",
    "target_col = [\"avgtemp\"]\n",
    "land_temps[target_col + feature_cols].agg([\"min\", \"median\", \"max\"]).T"
   ]
  },
  {
   "cell_type": "markdown",
   "id": "ab1e94dc-3b30-40e4-a1a2-9bb579a832a7",
   "metadata": {},
   "source": [
    "#### Train-test split"
   ]
  },
  {
   "cell_type": "code",
   "execution_count": 96,
   "id": "9847af68-b1eb-4b5f-9c2c-318fe4cc33bc",
   "metadata": {
    "tags": []
   },
   "outputs": [],
   "source": [
    "X_train, X_test, y_train, y_test = train_test_split(\n",
    "    land_temps[feature_cols], land_temps[target_col], test_size=0.1, random_state=0\n",
    ")"
   ]
  },
  {
   "cell_type": "markdown",
   "id": "f93b8c24-a457-4180-bb90-7668714c12ce",
   "metadata": {
    "tags": []
   },
   "source": [
    "#### Pipeline"
   ]
  },
  {
   "cell_type": "code",
   "execution_count": 100,
   "id": "a63c8238-d621-4eab-be5b-8a9f1ddc3e3c",
   "metadata": {
    "tags": []
   },
   "outputs": [],
   "source": [
    "knn_imp = KNNImputer(n_neighbors=45)\n",
    "sgdr = SGDRegressor()\n",
    "pipe1 = make_pipeline(OutlierTrans(3), knn_imp, StandardScaler(), sgdr)\n",
    "\n",
    "ttr = TransformedTargetRegressor(regressor=pipe1, transformer=StandardScaler())"
   ]
  },
  {
   "cell_type": "markdown",
   "id": "6cbb2e06-b1c1-4936-8fb8-bb37a41d3db0",
   "metadata": {},
   "source": [
    "#### Hyperparameter Tuning\n",
    "\n",
    "The `huber` loss function is less sensitive to outliers than is OLS. How sensitive it is, is based on the value of epsilon we speicfy. With the `epsilon_insensitive` loss function, errors within a given range (epsilon) are not penalized. "
   ]
  },
  {
   "cell_type": "code",
   "execution_count": 101,
   "id": "583d3ff4-df7a-45dc-b2f0-cd9b0c4578b9",
   "metadata": {
    "tags": []
   },
   "outputs": [
    {
     "data": {
      "text/plain": [
       "{'regressor__sgdregressor__alpha': 0.0001,\n",
       " 'regressor__sgdregressor__epsilon': 1.3000000000000003,\n",
       " 'regressor__sgdregressor__loss': 'huber',\n",
       " 'regressor__sgdregressor__penalty': 'l2'}"
      ]
     },
     "execution_count": 101,
     "metadata": {},
     "output_type": "execute_result"
    }
   ],
   "source": [
    "sgdr_params = {\n",
    "    \"regressor__sgdregressor__alpha\": 10.0 ** -np.arange(1, 7),\n",
    "    \"regressor__sgdregressor__loss\": [\"huber\", \"epsilon_insensitive\"],\n",
    "    \"regressor__sgdregressor__penalty\": [\"l2\", \"l1\", \"elasticnet\"],\n",
    "    \"regressor__sgdregressor__epsilon\": np.arange(0.1, 1.6, 0.1),\n",
    "}\n",
    "\n",
    "gs = GridSearchCV(ttr, param_grid=sgdr_params, cv=5, scoring=\"r2\")\n",
    "gs.fit(X_train, y_train)\n",
    "gs.best_params_"
   ]
  },
  {
   "cell_type": "code",
   "execution_count": 103,
   "id": "0c05f47b-0e44-4120-ac4b-407bc25f3e79",
   "metadata": {
    "tags": []
   },
   "outputs": [
    {
     "data": {
      "text/plain": [
       "0.7942575347708081"
      ]
     },
     "execution_count": 103,
     "metadata": {},
     "output_type": "execute_result"
    }
   ],
   "source": [
    "gs.best_score_"
   ]
  },
  {
   "cell_type": "code",
   "execution_count": 104,
   "id": "3af494ef-2a0d-4c75-a357-62d0adc580b2",
   "metadata": {
    "tags": []
   },
   "outputs": [
    {
     "data": {
      "text/html": [
       "<div>\n",
       "<style scoped>\n",
       "    .dataframe tbody tr th:only-of-type {\n",
       "        vertical-align: middle;\n",
       "    }\n",
       "\n",
       "    .dataframe tbody tr th {\n",
       "        vertical-align: top;\n",
       "    }\n",
       "\n",
       "    .dataframe thead th {\n",
       "        text-align: right;\n",
       "    }\n",
       "</style>\n",
       "<table border=\"1\" class=\"dataframe\">\n",
       "  <thead>\n",
       "    <tr style=\"text-align: right;\">\n",
       "      <th></th>\n",
       "      <th>342</th>\n",
       "      <th>536</th>\n",
       "      <th>260</th>\n",
       "      <th>241</th>\n",
       "      <th>258</th>\n",
       "      <th>356</th>\n",
       "      <th>433</th>\n",
       "      <th>354</th>\n",
       "      <th>343</th>\n",
       "      <th>446</th>\n",
       "      <th>...</th>\n",
       "      <th>7</th>\n",
       "      <th>81</th>\n",
       "      <th>83</th>\n",
       "      <th>87</th>\n",
       "      <th>70</th>\n",
       "      <th>89</th>\n",
       "      <th>76</th>\n",
       "      <th>82</th>\n",
       "      <th>88</th>\n",
       "      <th>1</th>\n",
       "    </tr>\n",
       "  </thead>\n",
       "  <tbody>\n",
       "    <tr>\n",
       "      <th>meanscore</th>\n",
       "      <td>0.794258</td>\n",
       "      <td>0.794223</td>\n",
       "      <td>0.794153</td>\n",
       "      <td>0.794141</td>\n",
       "      <td>0.794125</td>\n",
       "      <td>0.794122</td>\n",
       "      <td>0.794122</td>\n",
       "      <td>0.794116</td>\n",
       "      <td>0.794115</td>\n",
       "      <td>0.794115</td>\n",
       "      <td>...</td>\n",
       "      <td>0.534775</td>\n",
       "      <td>0.534281</td>\n",
       "      <td>0.505582</td>\n",
       "      <td>0.4929</td>\n",
       "      <td>0.487796</td>\n",
       "      <td>0.462564</td>\n",
       "      <td>0.429271</td>\n",
       "      <td>0.36297</td>\n",
       "      <td>0.296066</td>\n",
       "      <td>-0.00822</td>\n",
       "    </tr>\n",
       "    <tr>\n",
       "      <th>regressor__sgdregressor__alpha</th>\n",
       "      <td>0.0001</td>\n",
       "      <td>0.000001</td>\n",
       "      <td>0.001</td>\n",
       "      <td>0.001</td>\n",
       "      <td>0.001</td>\n",
       "      <td>0.0001</td>\n",
       "      <td>0.00001</td>\n",
       "      <td>0.0001</td>\n",
       "      <td>0.0001</td>\n",
       "      <td>0.00001</td>\n",
       "      <td>...</td>\n",
       "      <td>0.1</td>\n",
       "      <td>0.1</td>\n",
       "      <td>0.1</td>\n",
       "      <td>0.1</td>\n",
       "      <td>0.1</td>\n",
       "      <td>0.1</td>\n",
       "      <td>0.1</td>\n",
       "      <td>0.1</td>\n",
       "      <td>0.1</td>\n",
       "      <td>0.1</td>\n",
       "    </tr>\n",
       "    <tr>\n",
       "      <th>regressor__sgdregressor__epsilon</th>\n",
       "      <td>1.3</td>\n",
       "      <td>1.5</td>\n",
       "      <td>1.4</td>\n",
       "      <td>1.1</td>\n",
       "      <td>1.4</td>\n",
       "      <td>1.5</td>\n",
       "      <td>1.3</td>\n",
       "      <td>1.5</td>\n",
       "      <td>1.3</td>\n",
       "      <td>1.5</td>\n",
       "      <td>...</td>\n",
       "      <td>0.2</td>\n",
       "      <td>1.4</td>\n",
       "      <td>1.4</td>\n",
       "      <td>1.5</td>\n",
       "      <td>1.2</td>\n",
       "      <td>1.5</td>\n",
       "      <td>1.3</td>\n",
       "      <td>1.4</td>\n",
       "      <td>1.5</td>\n",
       "      <td>0.1</td>\n",
       "    </tr>\n",
       "    <tr>\n",
       "      <th>regressor__sgdregressor__loss</th>\n",
       "      <td>huber</td>\n",
       "      <td>huber</td>\n",
       "      <td>huber</td>\n",
       "      <td>huber</td>\n",
       "      <td>huber</td>\n",
       "      <td>huber</td>\n",
       "      <td>huber</td>\n",
       "      <td>huber</td>\n",
       "      <td>huber</td>\n",
       "      <td>huber</td>\n",
       "      <td>...</td>\n",
       "      <td>huber</td>\n",
       "      <td>epsilon_insensitive</td>\n",
       "      <td>epsilon_insensitive</td>\n",
       "      <td>epsilon_insensitive</td>\n",
       "      <td>epsilon_insensitive</td>\n",
       "      <td>epsilon_insensitive</td>\n",
       "      <td>epsilon_insensitive</td>\n",
       "      <td>epsilon_insensitive</td>\n",
       "      <td>epsilon_insensitive</td>\n",
       "      <td>huber</td>\n",
       "    </tr>\n",
       "    <tr>\n",
       "      <th>regressor__sgdregressor__penalty</th>\n",
       "      <td>l2</td>\n",
       "      <td>elasticnet</td>\n",
       "      <td>elasticnet</td>\n",
       "      <td>l1</td>\n",
       "      <td>l2</td>\n",
       "      <td>elasticnet</td>\n",
       "      <td>l1</td>\n",
       "      <td>l2</td>\n",
       "      <td>l1</td>\n",
       "      <td>elasticnet</td>\n",
       "      <td>...</td>\n",
       "      <td>l1</td>\n",
       "      <td>l2</td>\n",
       "      <td>elasticnet</td>\n",
       "      <td>l2</td>\n",
       "      <td>l1</td>\n",
       "      <td>elasticnet</td>\n",
       "      <td>l1</td>\n",
       "      <td>l1</td>\n",
       "      <td>l1</td>\n",
       "      <td>l1</td>\n",
       "    </tr>\n",
       "  </tbody>\n",
       "</table>\n",
       "<p>5 rows × 540 columns</p>\n",
       "</div>"
      ],
      "text/plain": [
       "                                       342         536         260       241  \\\n",
       "meanscore                         0.794258    0.794223    0.794153  0.794141   \n",
       "regressor__sgdregressor__alpha      0.0001    0.000001       0.001     0.001   \n",
       "regressor__sgdregressor__epsilon       1.3         1.5         1.4       1.1   \n",
       "regressor__sgdregressor__loss        huber       huber       huber     huber   \n",
       "regressor__sgdregressor__penalty        l2  elasticnet  elasticnet        l1   \n",
       "\n",
       "                                       258         356       433       354  \\\n",
       "meanscore                         0.794125    0.794122  0.794122  0.794116   \n",
       "regressor__sgdregressor__alpha       0.001      0.0001   0.00001    0.0001   \n",
       "regressor__sgdregressor__epsilon       1.4         1.5       1.3       1.5   \n",
       "regressor__sgdregressor__loss        huber       huber     huber     huber   \n",
       "regressor__sgdregressor__penalty        l2  elasticnet        l1        l2   \n",
       "\n",
       "                                       343         446  ...       7    \\\n",
       "meanscore                         0.794115    0.794115  ...  0.534775   \n",
       "regressor__sgdregressor__alpha      0.0001     0.00001  ...       0.1   \n",
       "regressor__sgdregressor__epsilon       1.3         1.5  ...       0.2   \n",
       "regressor__sgdregressor__loss        huber       huber  ...     huber   \n",
       "regressor__sgdregressor__penalty        l1  elasticnet  ...        l1   \n",
       "\n",
       "                                                  81                   83   \\\n",
       "meanscore                                    0.534281             0.505582   \n",
       "regressor__sgdregressor__alpha                    0.1                  0.1   \n",
       "regressor__sgdregressor__epsilon                  1.4                  1.4   \n",
       "regressor__sgdregressor__loss     epsilon_insensitive  epsilon_insensitive   \n",
       "regressor__sgdregressor__penalty                   l2           elasticnet   \n",
       "\n",
       "                                                  87                   70   \\\n",
       "meanscore                                      0.4929             0.487796   \n",
       "regressor__sgdregressor__alpha                    0.1                  0.1   \n",
       "regressor__sgdregressor__epsilon                  1.5                  1.2   \n",
       "regressor__sgdregressor__loss     epsilon_insensitive  epsilon_insensitive   \n",
       "regressor__sgdregressor__penalty                   l2                   l1   \n",
       "\n",
       "                                                  89                   76   \\\n",
       "meanscore                                    0.462564             0.429271   \n",
       "regressor__sgdregressor__alpha                    0.1                  0.1   \n",
       "regressor__sgdregressor__epsilon                  1.5                  1.3   \n",
       "regressor__sgdregressor__loss     epsilon_insensitive  epsilon_insensitive   \n",
       "regressor__sgdregressor__penalty           elasticnet                   l1   \n",
       "\n",
       "                                                  82                   88   \\\n",
       "meanscore                                     0.36297             0.296066   \n",
       "regressor__sgdregressor__alpha                    0.1                  0.1   \n",
       "regressor__sgdregressor__epsilon                  1.4                  1.5   \n",
       "regressor__sgdregressor__loss     epsilon_insensitive  epsilon_insensitive   \n",
       "regressor__sgdregressor__penalty                   l1                   l1   \n",
       "\n",
       "                                      1    \n",
       "meanscore                        -0.00822  \n",
       "regressor__sgdregressor__alpha        0.1  \n",
       "regressor__sgdregressor__epsilon      0.1  \n",
       "regressor__sgdregressor__loss       huber  \n",
       "regressor__sgdregressor__penalty       l1  \n",
       "\n",
       "[5 rows x 540 columns]"
      ]
     },
     "execution_count": 104,
     "metadata": {},
     "output_type": "execute_result"
    }
   ],
   "source": [
    "pd.DataFrame(gs.cv_results_[\"mean_test_score\"], columns=[\"meanscore\"]).join(\n",
    "    pd.DataFrame(gs.cv_results_[\"params\"])\n",
    ").sort_values([\"meanscore\"], ascending=False).T"
   ]
  }
 ],
 "metadata": {
  "kernelspec": {
   "display_name": "Python 3 (ipykernel)",
   "language": "python",
   "name": "python3"
  },
  "language_info": {
   "codemirror_mode": {
    "name": "ipython",
    "version": 3
   },
   "file_extension": ".py",
   "mimetype": "text/x-python",
   "name": "python",
   "nbconvert_exporter": "python",
   "pygments_lexer": "ipython3",
   "version": "3.9.16"
  }
 },
 "nbformat": 4,
 "nbformat_minor": 5
}
