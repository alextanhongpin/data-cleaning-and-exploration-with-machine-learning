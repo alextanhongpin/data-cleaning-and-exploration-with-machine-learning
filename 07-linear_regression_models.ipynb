{
 "cells": [
  {
   "cell_type": "markdown",
   "id": "669c1548-cec7-41bb-9f6a-2d317a683666",
   "metadata": {},
   "source": [
    "# Linear Regression Models\n",
    "\n",
    "\n",
    "Linear regression is a very good choice for modeling a continuous target, assuming that our features and target have certain qualities.\n",
    "\n",
    "In this chapter, we will cover the following topics:\n",
    "- key concepts\n",
    "- linear regression and gradient descent\n",
    "- using classical linear regression\n",
    "- using lasso regression\n",
    "- using non-linear regression\n",
    "- regression with gradient descent"
   ]
  },
  {
   "cell_type": "markdown",
   "id": "b5e18d4c-0db3-4d81-b1e6-3224721efb94",
   "metadata": {},
   "source": [
    "## Key Concepts"
   ]
  },
  {
   "cell_type": "markdown",
   "id": "39875706-ad6e-4ae1-a947-17a2ec27de3a",
   "metadata": {},
   "source": [
    "### Key assumptions of linear regression models\n",
    "\n",
    "- there is a linear relationship between features (independent variables) and the target (dependent variable)\n",
    "- the residuals (the difference between actual and predicted valeus) are normally distributed\n",
    "- the residuals are independent across observations\n",
    "- the variance of residuals is constant\n",
    "\n",
    "\n",
    "Our residuals are sometimes not normally distributed. This can indicate that our model is less accurate along certain ranges of our target. This can happen when the relationship with the target is __nonlinear__.\n",
    "\n",
    "There are several reasons why residuals may not be independent. This is often the case with time series data. For a model of daily stock price, the residuals may be correlated for adjacent days. This is referred to as __autocorrelation__.\n",
    "\n",
    "It is not uncommon for our residuals to have greater variability along different ranges of a feature. __Heteroscedasticity__ is a condition where the variance of the residuals is not constant across the range of the independent variable. Heteroscedasticity can lead to non-normally distributed residuals because the variance of the residuals is not constant."
   ]
  },
  {
   "cell_type": "markdown",
   "id": "b7a068d1-0530-410e-9800-279856ed7cc1",
   "metadata": {},
   "source": [
    "## Linear regression and ordinary least squares\n",
    "\n",
    "OLS selects coefficients that minimize the sum of the squared distance between the actual target values and the predicted values."
   ]
  },
  {
   "cell_type": "markdown",
   "id": "765a26ca-da82-4bfb-b19f-ee15d0da222c",
   "metadata": {},
   "source": [
    "## Linear regresion and gradient descent\n",
    "\n",
    "We can use gradient descent, rather than OLS, to estimate our linear regression parameters. Gradient descent iterates over possible coefficient values to find those that minimize the residual sum of squares. \n",
    "\n",
    "It starts with with random coefficient valeus and calculate the sum of the squared errors for that iteration. Then, it generates new values for coefficients that yield smaller residuals that those from the previous step. \n",
    "\n",
    "We specify a learning rate when using gradient descent. The learning rate determines the amount of improvement in residuals at each step.\n",
    "\n",
    "Gradient descent can often be a good choice when working with very large datasets. It may be the the only choice if the full dataset does not fit into your machine's memory."
   ]
  },
  {
   "cell_type": "markdown",
   "id": "5070f4d9-9dc4-4404-a321-c038b82b981b",
   "metadata": {},
   "source": [
    "## Using classical linear regression"
   ]
  },
  {
   "cell_type": "code",
   "execution_count": 1,
   "id": "f7ddc886-20a0-416b-bdbe-fe6fcd5ff4ee",
   "metadata": {
    "tags": []
   },
   "outputs": [],
   "source": [
    "import matplotlib.pyplot as plt\n",
    "import numpy as np\n",
    "import pandas as pd\n",
    "import sklearn.metrics as skmet\n",
    "from sklearn.compose import ColumnTransformer, TransformedTargetRegressor\n",
    "from sklearn.feature_selection import RFE\n",
    "from sklearn.impute import KNNImputer, SimpleImputer\n",
    "from sklearn.linear_model import LinearRegression\n",
    "from sklearn.model_selection import KFold, cross_validate, train_test_split\n",
    "from sklearn.pipeline import make_pipeline\n",
    "from sklearn.preprocessing import StandardScaler\n",
    "\n",
    "from data.load import load_fossilfueltaxrate14\n",
    "from preprocfunc import OutlierTrans"
   ]
  },
  {
   "cell_type": "code",
   "execution_count": 2,
   "id": "890e7bd3-d2a2-4445-82ab-e1101dadf5b9",
   "metadata": {
    "tags": []
   },
   "outputs": [
    {
     "name": "stdout",
     "output_type": "stream",
     "text": [
      "<class 'pandas.core.frame.DataFrame'>\n",
      "Index: 154 entries, AFG to ZWE\n",
      "Data columns (total 19 columns):\n",
      " #   Column                     Non-Null Count  Dtype  \n",
      "---  ------                     --------------  -----  \n",
      " 0   country                    154 non-null    object \n",
      " 1   region                     154 non-null    object \n",
      " 2   region_wb                  154 non-null    object \n",
      " 3   year                       154 non-null    int64  \n",
      " 4   gas_tax_imp                154 non-null    float64\n",
      " 5   bmgap_diesel_spotprice_la  146 non-null    float64\n",
      " 6   fuel_income_dependence     152 non-null    float64\n",
      " 7   national_income_per_cap    152 non-null    float64\n",
      " 8   VAT_Rate                   151 non-null    float64\n",
      " 9   gov_debt_per_gdp           139 non-null    float64\n",
      " 10  polity                     151 non-null    float64\n",
      " 11  democracy_polity           151 non-null    float64\n",
      " 12  autocracy_polity           151 non-null    float64\n",
      " 13  goveffect                  154 non-null    float64\n",
      " 14  democracy_index            152 non-null    float64\n",
      " 15  democracy                  154 non-null    int64  \n",
      " 16  nat_oil_comp               152 non-null    float64\n",
      " 17  nat_oil_comp_state         152 non-null    float64\n",
      " 18  motorization_rate          127 non-null    float64\n",
      "dtypes: float64(14), int64(2), object(3)\n",
      "memory usage: 24.1+ KB\n"
     ]
    }
   ],
   "source": [
    "ff_tax_rate14 = load_fossilfueltaxrate14()\n",
    "ff_tax_rate14.info()"
   ]
  },
  {
   "cell_type": "code",
   "execution_count": 3,
   "id": "2e92a59e-6c04-470b-8522-266e123b86f4",
   "metadata": {
    "tags": []
   },
   "outputs": [
    {
     "data": {
      "text/html": [
       "<div>\n",
       "<style scoped>\n",
       "    .dataframe tbody tr th:only-of-type {\n",
       "        vertical-align: middle;\n",
       "    }\n",
       "\n",
       "    .dataframe tbody tr th {\n",
       "        vertical-align: top;\n",
       "    }\n",
       "\n",
       "    .dataframe thead th {\n",
       "        text-align: right;\n",
       "    }\n",
       "</style>\n",
       "<table border=\"1\" class=\"dataframe\">\n",
       "  <thead>\n",
       "    <tr style=\"text-align: right;\">\n",
       "      <th></th>\n",
       "      <th>country</th>\n",
       "      <th>region</th>\n",
       "      <th>region_wb</th>\n",
       "      <th>year</th>\n",
       "      <th>gas_tax_imp</th>\n",
       "      <th>bmgap_diesel_spotprice_la</th>\n",
       "      <th>fuel_income_dependence</th>\n",
       "      <th>national_income_per_cap</th>\n",
       "      <th>VAT_Rate</th>\n",
       "      <th>gov_debt_per_gdp</th>\n",
       "      <th>polity</th>\n",
       "      <th>democracy_polity</th>\n",
       "      <th>autocracy_polity</th>\n",
       "      <th>goveffect</th>\n",
       "      <th>democracy_index</th>\n",
       "      <th>democracy</th>\n",
       "      <th>nat_oil_comp</th>\n",
       "      <th>nat_oil_comp_state</th>\n",
       "      <th>motorization_rate</th>\n",
       "    </tr>\n",
       "    <tr>\n",
       "      <th>countrycode</th>\n",
       "      <th></th>\n",
       "      <th></th>\n",
       "      <th></th>\n",
       "      <th></th>\n",
       "      <th></th>\n",
       "      <th></th>\n",
       "      <th></th>\n",
       "      <th></th>\n",
       "      <th></th>\n",
       "      <th></th>\n",
       "      <th></th>\n",
       "      <th></th>\n",
       "      <th></th>\n",
       "      <th></th>\n",
       "      <th></th>\n",
       "      <th></th>\n",
       "      <th></th>\n",
       "      <th></th>\n",
       "      <th></th>\n",
       "    </tr>\n",
       "  </thead>\n",
       "  <tbody>\n",
       "    <tr>\n",
       "      <th>AFG</th>\n",
       "      <td>Afghanistan</td>\n",
       "      <td>Asia + Pacific</td>\n",
       "      <td>South Asia</td>\n",
       "      <td>2014</td>\n",
       "      <td>0.272083</td>\n",
       "      <td>0.454003</td>\n",
       "      <td>0.000000</td>\n",
       "      <td>630.0</td>\n",
       "      <td>3.5</td>\n",
       "      <td>8.700291</td>\n",
       "      <td>-1.0</td>\n",
       "      <td>0.0</td>\n",
       "      <td>0.0</td>\n",
       "      <td>-1.33</td>\n",
       "      <td>0.374292</td>\n",
       "      <td>0</td>\n",
       "      <td>0.0</td>\n",
       "      <td>0.0</td>\n",
       "      <td>0.046837</td>\n",
       "    </tr>\n",
       "    <tr>\n",
       "      <th>AGO</th>\n",
       "      <td>Angola</td>\n",
       "      <td>Africa</td>\n",
       "      <td>Sub-Saharan Africa</td>\n",
       "      <td>2014</td>\n",
       "      <td>-0.150713</td>\n",
       "      <td>-0.225997</td>\n",
       "      <td>32.499064</td>\n",
       "      <td>5010.0</td>\n",
       "      <td>10.0</td>\n",
       "      <td>39.809857</td>\n",
       "      <td>-2.0</td>\n",
       "      <td>0.0</td>\n",
       "      <td>0.0</td>\n",
       "      <td>-1.12</td>\n",
       "      <td>0.220831</td>\n",
       "      <td>0</td>\n",
       "      <td>1.0</td>\n",
       "      <td>1.0</td>\n",
       "      <td>0.031178</td>\n",
       "    </tr>\n",
       "    <tr>\n",
       "      <th>ALB</th>\n",
       "      <td>Albania</td>\n",
       "      <td>Europe + North America</td>\n",
       "      <td>Europe &amp; Central Asia</td>\n",
       "      <td>2014</td>\n",
       "      <td>1.099843</td>\n",
       "      <td>0.974003</td>\n",
       "      <td>2.292260</td>\n",
       "      <td>4540.0</td>\n",
       "      <td>20.0</td>\n",
       "      <td>70.027863</td>\n",
       "      <td>9.0</td>\n",
       "      <td>1.0</td>\n",
       "      <td>0.0</td>\n",
       "      <td>-0.09</td>\n",
       "      <td>0.529352</td>\n",
       "      <td>1</td>\n",
       "      <td>1.0</td>\n",
       "      <td>1.0</td>\n",
       "      <td>0.156796</td>\n",
       "    </tr>\n",
       "    <tr>\n",
       "      <th>ARE</th>\n",
       "      <td>UAE</td>\n",
       "      <td>Middle East</td>\n",
       "      <td>Middle East &amp; North Africa</td>\n",
       "      <td>2014</td>\n",
       "      <td>-0.334680</td>\n",
       "      <td>-0.095997</td>\n",
       "      <td>18.048514</td>\n",
       "      <td>44370.0</td>\n",
       "      <td>0.0</td>\n",
       "      <td>NaN</td>\n",
       "      <td>-8.0</td>\n",
       "      <td>0.0</td>\n",
       "      <td>1.0</td>\n",
       "      <td>1.44</td>\n",
       "      <td>0.120726</td>\n",
       "      <td>0</td>\n",
       "      <td>1.0</td>\n",
       "      <td>1.0</td>\n",
       "      <td>0.212716</td>\n",
       "    </tr>\n",
       "    <tr>\n",
       "      <th>ARG</th>\n",
       "      <td>Argentina</td>\n",
       "      <td>Latin America &amp; Caribbean</td>\n",
       "      <td>Latin America &amp; Caribbean</td>\n",
       "      <td>2014</td>\n",
       "      <td>0.705042</td>\n",
       "      <td>0.594003</td>\n",
       "      <td>2.954761</td>\n",
       "      <td>12350.0</td>\n",
       "      <td>21.0</td>\n",
       "      <td>43.586674</td>\n",
       "      <td>8.0</td>\n",
       "      <td>1.0</td>\n",
       "      <td>0.0</td>\n",
       "      <td>-0.16</td>\n",
       "      <td>0.782024</td>\n",
       "      <td>1</td>\n",
       "      <td>1.0</td>\n",
       "      <td>0.0</td>\n",
       "      <td>0.313479</td>\n",
       "    </tr>\n",
       "  </tbody>\n",
       "</table>\n",
       "</div>"
      ],
      "text/plain": [
       "                 country                     region  \\\n",
       "countrycode                                           \n",
       "AFG          Afghanistan             Asia + Pacific   \n",
       "AGO               Angola                     Africa   \n",
       "ALB              Albania     Europe + North America   \n",
       "ARE                  UAE                Middle East   \n",
       "ARG            Argentina  Latin America & Caribbean   \n",
       "\n",
       "                              region_wb  year  gas_tax_imp  \\\n",
       "countrycode                                                  \n",
       "AFG                          South Asia  2014     0.272083   \n",
       "AGO                  Sub-Saharan Africa  2014    -0.150713   \n",
       "ALB               Europe & Central Asia  2014     1.099843   \n",
       "ARE          Middle East & North Africa  2014    -0.334680   \n",
       "ARG           Latin America & Caribbean  2014     0.705042   \n",
       "\n",
       "             bmgap_diesel_spotprice_la  fuel_income_dependence  \\\n",
       "countrycode                                                      \n",
       "AFG                           0.454003                0.000000   \n",
       "AGO                          -0.225997               32.499064   \n",
       "ALB                           0.974003                2.292260   \n",
       "ARE                          -0.095997               18.048514   \n",
       "ARG                           0.594003                2.954761   \n",
       "\n",
       "             national_income_per_cap  VAT_Rate  gov_debt_per_gdp  polity  \\\n",
       "countrycode                                                                \n",
       "AFG                            630.0       3.5          8.700291    -1.0   \n",
       "AGO                           5010.0      10.0         39.809857    -2.0   \n",
       "ALB                           4540.0      20.0         70.027863     9.0   \n",
       "ARE                          44370.0       0.0               NaN    -8.0   \n",
       "ARG                          12350.0      21.0         43.586674     8.0   \n",
       "\n",
       "             democracy_polity  autocracy_polity  goveffect  democracy_index  \\\n",
       "countrycode                                                                   \n",
       "AFG                       0.0               0.0      -1.33         0.374292   \n",
       "AGO                       0.0               0.0      -1.12         0.220831   \n",
       "ALB                       1.0               0.0      -0.09         0.529352   \n",
       "ARE                       0.0               1.0       1.44         0.120726   \n",
       "ARG                       1.0               0.0      -0.16         0.782024   \n",
       "\n",
       "             democracy  nat_oil_comp  nat_oil_comp_state  motorization_rate  \n",
       "countrycode                                                                  \n",
       "AFG                  0           0.0                 0.0           0.046837  \n",
       "AGO                  0           1.0                 1.0           0.031178  \n",
       "ALB                  1           1.0                 1.0           0.156796  \n",
       "ARE                  0           1.0                 1.0           0.212716  \n",
       "ARG                  1           1.0                 0.0           0.313479  "
      ]
     },
     "execution_count": 3,
     "metadata": {},
     "output_type": "execute_result"
    }
   ],
   "source": [
    "ff_tax_rate14.head()"
   ]
  },
  {
   "cell_type": "markdown",
   "id": "877635f7-e1b0-4dae-9675-44374d824273",
   "metadata": {},
   "source": [
    "We separate the features into numerical and binary features. We will put `motorization_rate` into a special category because we anticipate having to do a little more with it than with the other features:"
   ]
  },
  {
   "cell_type": "code",
   "execution_count": 4,
   "id": "1303f99b-3cd6-456e-bd4a-2892e02b21cc",
   "metadata": {
    "tags": []
   },
   "outputs": [],
   "source": [
    "num_cols = [\n",
    "    \"fuel_income_dependence\",\n",
    "    \"national_income_per_cap\",\n",
    "    \"VAT_Rate\",\n",
    "    \"gov_debt_per_gdp\",\n",
    "    \"polity\",\n",
    "    \"goveffect\",\n",
    "    \"democracy_index\",\n",
    "]\n",
    "dummy_cols = [\n",
    "    \"democracy_polity\",\n",
    "    \"autocracy_polity\",\n",
    "    \"democracy\",\n",
    "    \"nat_oil_comp\",\n",
    "    \"nat_oil_comp_state\",\n",
    "]\n",
    "spec_cols = [\"motorization_rate\"]\n",
    "target_col = [\"gas_tax_imp\"]"
   ]
  },
  {
   "cell_type": "code",
   "execution_count": 5,
   "id": "2bb2e9ed-5269-4a8c-ad34-5cbac9871872",
   "metadata": {
    "tags": []
   },
   "outputs": [
    {
     "data": {
      "text/html": [
       "<div>\n",
       "<style scoped>\n",
       "    .dataframe tbody tr th:only-of-type {\n",
       "        vertical-align: middle;\n",
       "    }\n",
       "\n",
       "    .dataframe tbody tr th {\n",
       "        vertical-align: top;\n",
       "    }\n",
       "\n",
       "    .dataframe thead th {\n",
       "        text-align: right;\n",
       "    }\n",
       "</style>\n",
       "<table border=\"1\" class=\"dataframe\">\n",
       "  <thead>\n",
       "    <tr style=\"text-align: right;\">\n",
       "      <th></th>\n",
       "      <th>count</th>\n",
       "      <th>min</th>\n",
       "      <th>median</th>\n",
       "      <th>max</th>\n",
       "    </tr>\n",
       "  </thead>\n",
       "  <tbody>\n",
       "    <tr>\n",
       "      <th>gas_tax_imp</th>\n",
       "      <td>154.0</td>\n",
       "      <td>-0.800521</td>\n",
       "      <td>0.524398</td>\n",
       "      <td>1.734047</td>\n",
       "    </tr>\n",
       "    <tr>\n",
       "      <th>fuel_income_dependence</th>\n",
       "      <td>152.0</td>\n",
       "      <td>0.000000</td>\n",
       "      <td>0.135366</td>\n",
       "      <td>34.428455</td>\n",
       "    </tr>\n",
       "    <tr>\n",
       "      <th>national_income_per_cap</th>\n",
       "      <td>152.0</td>\n",
       "      <td>260.000000</td>\n",
       "      <td>6050.000000</td>\n",
       "      <td>104540.000000</td>\n",
       "    </tr>\n",
       "    <tr>\n",
       "      <th>VAT_Rate</th>\n",
       "      <td>151.0</td>\n",
       "      <td>0.000000</td>\n",
       "      <td>16.500000</td>\n",
       "      <td>27.000000</td>\n",
       "    </tr>\n",
       "    <tr>\n",
       "      <th>gov_debt_per_gdp</th>\n",
       "      <td>139.0</td>\n",
       "      <td>0.545311</td>\n",
       "      <td>39.301174</td>\n",
       "      <td>194.755470</td>\n",
       "    </tr>\n",
       "    <tr>\n",
       "      <th>polity</th>\n",
       "      <td>151.0</td>\n",
       "      <td>-10.000000</td>\n",
       "      <td>7.000000</td>\n",
       "      <td>10.000000</td>\n",
       "    </tr>\n",
       "    <tr>\n",
       "      <th>goveffect</th>\n",
       "      <td>154.0</td>\n",
       "      <td>-2.040000</td>\n",
       "      <td>-0.145000</td>\n",
       "      <td>2.180000</td>\n",
       "    </tr>\n",
       "    <tr>\n",
       "      <th>democracy_index</th>\n",
       "      <td>152.0</td>\n",
       "      <td>0.025098</td>\n",
       "      <td>0.572551</td>\n",
       "      <td>0.930208</td>\n",
       "    </tr>\n",
       "    <tr>\n",
       "      <th>motorization_rate</th>\n",
       "      <td>127.0</td>\n",
       "      <td>0.002870</td>\n",
       "      <td>0.198289</td>\n",
       "      <td>0.810421</td>\n",
       "    </tr>\n",
       "  </tbody>\n",
       "</table>\n",
       "</div>"
      ],
      "text/plain": [
       "                         count         min       median            max\n",
       "gas_tax_imp              154.0   -0.800521     0.524398       1.734047\n",
       "fuel_income_dependence   152.0    0.000000     0.135366      34.428455\n",
       "national_income_per_cap  152.0  260.000000  6050.000000  104540.000000\n",
       "VAT_Rate                 151.0    0.000000    16.500000      27.000000\n",
       "gov_debt_per_gdp         139.0    0.545311    39.301174     194.755470\n",
       "polity                   151.0  -10.000000     7.000000      10.000000\n",
       "goveffect                154.0   -2.040000    -0.145000       2.180000\n",
       "democracy_index          152.0    0.025098     0.572551       0.930208\n",
       "motorization_rate        127.0    0.002870     0.198289       0.810421"
      ]
     },
     "execution_count": 5,
     "metadata": {},
     "output_type": "execute_result"
    }
   ],
   "source": [
    "ff_tax_rate14[target_col + num_cols + spec_cols].agg(\n",
    "    [\"count\", \"min\", \"median\", \"max\"]\n",
    ").T"
   ]
  },
  {
   "cell_type": "markdown",
   "id": "32792c47-8b19-492e-b006-ff51666f42f9",
   "metadata": {},
   "source": [
    "^ Our target `gax_tax_imp` has a median value of 0.52.\n",
    "\n",
    "- more than half of the countries have a `polity` score of 7 or higher; 10 is the highest possible `polity` score, meaning most democratic\n",
    "- most countries have a negative value for government effectiveness (`goveffect`)\n",
    "`democracy_index` is a very similar measure to `polity`, though there is more variation"
   ]
  },
  {
   "cell_type": "markdown",
   "id": "611021f3-a139-4020-9880-8343770d2326",
   "metadata": {},
   "source": [
    "Let's also look at tehe distribution of the binary features. We must set `normalize` to `True` to generate ratios rather than counts.\n"
   ]
  },
  {
   "cell_type": "code",
   "execution_count": 6,
   "id": "ace0db77-735b-4a49-a635-88845e5650c4",
   "metadata": {
    "tags": []
   },
   "outputs": [
    {
     "data": {
      "text/html": [
       "<div>\n",
       "<style scoped>\n",
       "    .dataframe tbody tr th:only-of-type {\n",
       "        vertical-align: middle;\n",
       "    }\n",
       "\n",
       "    .dataframe tbody tr th {\n",
       "        vertical-align: top;\n",
       "    }\n",
       "\n",
       "    .dataframe thead th {\n",
       "        text-align: right;\n",
       "    }\n",
       "</style>\n",
       "<table border=\"1\" class=\"dataframe\">\n",
       "  <thead>\n",
       "    <tr style=\"text-align: right;\">\n",
       "      <th></th>\n",
       "      <th>0.0</th>\n",
       "      <th>1.0</th>\n",
       "    </tr>\n",
       "  </thead>\n",
       "  <tbody>\n",
       "    <tr>\n",
       "      <th>democracy_polity</th>\n",
       "      <td>0.410596</td>\n",
       "      <td>0.589404</td>\n",
       "    </tr>\n",
       "    <tr>\n",
       "      <th>autocracy_polity</th>\n",
       "      <td>0.887417</td>\n",
       "      <td>0.112583</td>\n",
       "    </tr>\n",
       "    <tr>\n",
       "      <th>democracy</th>\n",
       "      <td>0.415584</td>\n",
       "      <td>0.584416</td>\n",
       "    </tr>\n",
       "    <tr>\n",
       "      <th>nat_oil_comp</th>\n",
       "      <td>0.539474</td>\n",
       "      <td>0.460526</td>\n",
       "    </tr>\n",
       "    <tr>\n",
       "      <th>nat_oil_comp_state</th>\n",
       "      <td>0.769737</td>\n",
       "      <td>0.230263</td>\n",
       "    </tr>\n",
       "  </tbody>\n",
       "</table>\n",
       "</div>"
      ],
      "text/plain": [
       "                         0.0       1.0\n",
       "democracy_polity    0.410596  0.589404\n",
       "autocracy_polity    0.887417  0.112583\n",
       "democracy           0.415584  0.584416\n",
       "nat_oil_comp        0.539474  0.460526\n",
       "nat_oil_comp_state  0.769737  0.230263"
      ]
     },
     "execution_count": 6,
     "metadata": {},
     "output_type": "execute_result"
    }
   ],
   "source": [
    "ff_tax_rate14[dummy_cols].apply(pd.value_counts, normalize=True).T"
   ]
  },
  {
   "cell_type": "markdown",
   "id": "0de83173-c675-4064-b785-2cea99279819",
   "metadata": {},
   "source": [
    "^ observations:\n",
    "- the `democracy_polity` and `autocracy_polity` featuers are just binarized versions of the `polity` feature; very high `polity` scores get `democracy_polity` values of 1, while very low `polity` scores get `autocracy_polity` values of 1.\n",
    "- similarly, `democracy` is a dummy feature of those countries with high `democracy_index` values.\n",
    "- interestingly, nearly half of the countries (0.46) have a national oil company, and almost a quarter (0.23) have a state-owned national oil company"
   ]
  },
  {
   "cell_type": "markdown",
   "id": "df2b4e3f-a21c-4a2f-ac0a-53a7fd329d1b",
   "metadata": {},
   "source": [
    "Preprocessing steps:\n",
    "- we need to do some work on the missing values for several features\n",
    "- we also need to do some scaling, but there is no need to do any encoding because we can use the binary featuers as they are\n",
    "- some features are correlated, so we need to do some feature elimination"
   ]
  },
  {
   "cell_type": "code",
   "execution_count": 7,
   "id": "cb45b3a6-5e0d-4485-a016-64c81bfb6e4b",
   "metadata": {
    "tags": []
   },
   "outputs": [],
   "source": [
    "target = ff_tax_rate14[target_col]\n",
    "features = ff_tax_rate14[num_cols + dummy_cols + spec_cols]\n",
    "\n",
    "X_train, X_test, y_train, y_test = train_test_split(\n",
    "    features, target, test_size=0.2, random_state=0\n",
    ")"
   ]
  },
  {
   "cell_type": "code",
   "execution_count": 8,
   "id": "d3510ae3-4c3b-4842-80ca-1b6b29ba63ec",
   "metadata": {
    "tags": []
   },
   "outputs": [],
   "source": [
    "std_trans = make_pipeline(\n",
    "    OutlierTrans(2), SimpleImputer(strategy=\"median\"), StandardScaler()\n",
    ")\n",
    "cat_trans = make_pipeline(SimpleImputer(strategy=\"most_frequent\"))\n",
    "spc_trans = make_pipeline(OutlierTrans(2), StandardScaler())\n",
    "col_trans = ColumnTransformer(\n",
    "    [\n",
    "        (\"stand\", std_trans, num_cols),\n",
    "        (\"cat\", cat_trans, dummy_cols),\n",
    "        (\"spec\", spc_trans, spec_cols),\n",
    "    ],\n",
    "    verbose_feature_names_out=False,\n",
    ")"
   ]
  },
  {
   "cell_type": "code",
   "execution_count": 9,
   "id": "4d5bb281-3787-4dd7-88e1-898cdea38448",
   "metadata": {
    "tags": []
   },
   "outputs": [
    {
     "data": {
      "text/plain": [
       "[('VAT_Rate', 0.44753064726665703),\n",
       " ('gov_debt_per_gdp', 0.12368913577287777),\n",
       " ('goveffect', 0.17926454403985637),\n",
       " ('autocracy_polity', -0.22100930246392825),\n",
       " ('nat_oil_comp', -0.15726572731003757),\n",
       " ('nat_oil_comp_state', -0.701345468663265),\n",
       " ('motorization_rate', 0.13855012574945397)]"
      ]
     },
     "execution_count": 9,
     "metadata": {},
     "output_type": "execute_result"
    }
   ],
   "source": [
    "lr = LinearRegression()\n",
    "rfe = RFE(estimator=lr, n_features_to_select=7)\n",
    "\n",
    "pipe1 = make_pipeline(col_trans, KNNImputer(n_neighbors=5), rfe, lr)\n",
    "\n",
    "ttr = TransformedTargetRegressor(regressor=pipe1, transformer=StandardScaler())\n",
    "ttr.fit(X_train, y_train)\n",
    "\n",
    "sel_cols = X_train.columns[ttr.regressor_.named_steps[\"rfe\"].support_]\n",
    "coefs = ttr.regressor_.named_steps[\"linearregression\"].coef_\n",
    "\n",
    "list(zip(sel_cols, coefs))"
   ]
  },
  {
   "cell_type": "code",
   "execution_count": 10,
   "id": "2f390ab5-64df-49ea-8903-ef8a33f90b1e",
   "metadata": {
    "tags": []
   },
   "outputs": [],
   "source": [
    "y_pred = ttr.predict(X_test)\n",
    "pred_df = (\n",
    "    pd.DataFrame(y_pred, columns=[\"prediction\"], index=X_test.index)\n",
    "    .join(X_test)\n",
    "    .join(y_test)\n",
    ")\n",
    "pred_df[\"resid\"] = pred_df.gas_tax_imp - pred_df.prediction"
   ]
  },
  {
   "cell_type": "code",
   "execution_count": 11,
   "id": "e5773d6b-5671-49d6-a666-e848d14cae9c",
   "metadata": {
    "tags": []
   },
   "outputs": [
    {
     "data": {
      "text/plain": [
       "mean       -0.088965\n",
       "median     -0.128688\n",
       "skew        0.613088\n",
       "kurtosis    0.037539\n",
       "Name: resid, dtype: float64"
      ]
     },
     "execution_count": 11,
     "metadata": {},
     "output_type": "execute_result"
    }
   ],
   "source": [
    "pred_df.resid.agg([\"mean\", \"median\", \"skew\", \"kurtosis\"])"
   ]
  },
  {
   "cell_type": "markdown",
   "id": "92f82424-dad0-4d6e-9425-c180dcdd1b11",
   "metadata": {},
   "source": [
    "^ There is a little positive skew and some overall bias; the residuals are negative overall."
   ]
  },
  {
   "cell_type": "code",
   "execution_count": 17,
   "id": "d36d34d5-c340-4f35-a199-dd921c6c5c02",
   "metadata": {
    "tags": []
   },
   "outputs": [
    {
     "name": "stdout",
     "output_type": "stream",
     "text": [
      "MAE: 0.23, R-squared: 0.75\n"
     ]
    }
   ],
   "source": [
    "print(\n",
    "    \"MAE: {:.2f}, R-squared: {:.2f}\".format(\n",
    "        skmet.mean_absolute_error(y_test, y_pred), skmet.r2_score(y_test, y_pred)\n",
    "    )\n",
    ")"
   ]
  },
  {
   "cell_type": "markdown",
   "id": "151db959-df7c-47e0-82c3-919e07613c48",
   "metadata": {},
   "source": [
    "^ We get a mean absolute error of 0.23. That's not a great average error, given that the median svalue for the gas tax price is 0.52. The r-squared is decent, however."
   ]
  },
  {
   "cell_type": "markdown",
   "id": "a2b349cb-6610-4a5a-b2d0-46f149dcc64c",
   "metadata": {},
   "source": [
    "It is usually helpful to look at a plot of the residuals. "
   ]
  },
  {
   "cell_type": "code",
   "execution_count": 19,
   "id": "494eafd8-5b0c-4c92-8d52-89961f0fc0f7",
   "metadata": {
    "tags": []
   },
   "outputs": [
    {
     "data": {
      "text/plain": [
       "(-0.5625, 0.8125)"
      ]
     },
     "execution_count": 19,
     "metadata": {},
     "output_type": "execute_result"
    },
    {
     "data": {
      "image/png": "[encoded data removed]",
      "text/plain": [
       "<Figure size 432x288 with 1 Axes>"
      ]
     },
     "metadata": {
      "needs_background": "light"
     },
     "output_type": "display_data"
    }
   ],
   "source": [
    "plt.hist(pred_df.resid, color=\"blue\", bins=np.arange(-0.5, 1.0, 0.25))\n",
    "plt.axvline(pred_df.resid.mean(), color=\"red\", linestyle=\"dashed\", linewidth=1)\n",
    "plt.title(\"Histogram of Residuals for Gas Tax Model\")\n",
    "plt.xlabel(\"Residual\")\n",
    "plt.ylabel(\"Frequency\")\n",
    "plt.xlim()"
   ]
  },
  {
   "cell_type": "markdown",
   "id": "a929b2be-facc-4272-b243-c0340da7dab6",
   "metadata": {},
   "source": [
    "^ This plot shows the positive skew. Morever, our model is somewhat more likely to over-predict the gas tax than under-predict it. (The residual is negative when the prediction is greater than the actual target value). "
   ]
  },
  {
   "cell_type": "code",
   "execution_count": 21,
   "id": "cc98a4f4-a0ac-4405-94d9-a18ee4f4798a",
   "metadata": {
    "tags": []
   },
   "outputs": [
    {
     "data": {
      "text/plain": [
       "Text(0, 0.5, 'Residuals')"
      ]
     },
     "execution_count": 21,
     "metadata": {},
     "output_type": "execute_result"
    },
    {
     "data": {
      "image/png": "[encoded data removed]",
      "text/plain": [
       "<Figure size 432x288 with 1 Axes>"
      ]
     },
     "metadata": {
      "needs_background": "light"
     },
     "output_type": "display_data"
    }
   ],
   "source": [
    "plt.scatter(pred_df.prediction, pred_df.resid, color=\"blue\")\n",
    "plt.axhline(0, color=\"red\", linestyle=\"dashed\", linewidth=1)\n",
    "plt.title(\"Scatterplot of Predictions and Residuals\")\n",
    "plt.xlabel(\"Predicted Gas Tax\")\n",
    "plt.ylabel(\"Residuals\")"
   ]
  },
  {
   "cell_type": "markdown",
   "id": "628e72dd-cd0b-4531-8ca3-82c5dc664767",
   "metadata": {},
   "source": [
    "^ Here, overprediction occurs throughout the range of predicted values, but there are no underprediction (positive residuals) with predictions below 0 or above 1. This should give us some doubts about our assumption of linearity."
   ]
  },
  {
   "cell_type": "code",
   "execution_count": null,
   "id": "5d7c77cb-33cd-49b9-84b6-045e554aac78",
   "metadata": {},
   "outputs": [],
   "source": []
  }
 ],
 "metadata": {
  "kernelspec": {
   "display_name": "Python 3 (ipykernel)",
   "language": "python",
   "name": "python3"
  },
  "language_info": {
   "codemirror_mode": {
    "name": "ipython",
    "version": 3
   },
   "file_extension": ".py",
   "mimetype": "text/x-python",
   "name": "python",
   "nbconvert_exporter": "python",
   "pygments_lexer": "ipython3",
   "version": "3.9.16"
  }
 },
 "nbformat": 4,
 "nbformat_minor": 5
}
