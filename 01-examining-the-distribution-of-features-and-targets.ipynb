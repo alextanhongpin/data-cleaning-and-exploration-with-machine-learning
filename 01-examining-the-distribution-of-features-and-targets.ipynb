{
 "cells": [
  {
   "cell_type": "markdown",
   "id": "69595cb4-3300-4283-a877-c976d0f3b205",
   "metadata": {},
   "source": [
    "# Examining the Distribution of Features and Targets\n",
    "\n",
    "- learn and understand how the features and targets used are distributed \n",
    "- study the distribution of variables, identifying anomalies and examining bivariante relationships\n",
    "\n",
    "This chapter covers the following topics\n",
    "- subsetting data\n",
    "- generating frequencies for categorical features\n",
    "- generating summary statistics for continuous features\n",
    "- identifying extreme values and outliers in univariante analysis\n",
    "- using histograms, boxplots and violin plots to examine the distribution of continuous features"
   ]
  },
  {
   "cell_type": "markdown",
   "id": "ff4a7843-4f20-4f47-8b67-9306bac124e2",
   "metadata": {},
   "source": [
    "## Subsetting data\n",
    "\n",
    "Subsetting data is selecting only part of the data for analysis. Usually data with missing values or outliers are removed from analysis."
   ]
  },
  {
   "cell_type": "code",
   "execution_count": 19,
   "id": "transparent-bolivia",
   "metadata": {
    "tags": []
   },
   "outputs": [
    {
     "name": "stdout",
     "output_type": "stream",
     "text": [
      "numpy version: 1.24.2\n",
      "pandas version: 1.2.4\n"
     ]
    }
   ],
   "source": [
    "import numpy as np\n",
    "import pandas as pd\n",
    "\n",
    "print(\"numpy version: {}\".format(np.__version__))\n",
    "print(\"pandas version: {}\".format(pd.__version__))"
   ]
  },
  {
   "cell_type": "markdown",
   "id": "58efd7ee-14f8-4a41-a90f-aea23ee39a05",
   "metadata": {},
   "source": [
    "We will start by loading the NLS data. We also set an index:"
   ]
  },
  {
   "cell_type": "code",
   "execution_count": 8,
   "id": "ede94568-4695-42ef-be27-585793f39642",
   "metadata": {
    "tags": []
   },
   "outputs": [
    {
     "data": {
      "text/plain": [
       "(8984, 88)"
      ]
     },
     "execution_count": 8,
     "metadata": {},
     "output_type": "execute_result"
    }
   ],
   "source": [
    "# National Longitudinal Survey (NLS) dataset.\n",
    "nls97 = pd.read_csv(\"data/nls97.csv\")\n",
    "nls97.set_index(\"personid\", inplace=True)\n",
    "nls97.shape"
   ]
  },
  {
   "cell_type": "code",
   "execution_count": 11,
   "id": "unexpected-start",
   "metadata": {
    "tags": []
   },
   "outputs": [
    {
     "data": {
      "text/html": [
       "<div>\n",
       "<style scoped>\n",
       "    .dataframe tbody tr th:only-of-type {\n",
       "        vertical-align: middle;\n",
       "    }\n",
       "\n",
       "    .dataframe tbody tr th {\n",
       "        vertical-align: top;\n",
       "    }\n",
       "\n",
       "    .dataframe thead th {\n",
       "        text-align: right;\n",
       "    }\n",
       "</style>\n",
       "<table border=\"1\" class=\"dataframe\">\n",
       "  <thead>\n",
       "    <tr style=\"text-align: right;\">\n",
       "      <th>personid</th>\n",
       "      <th>355000</th>\n",
       "      <th>387027</th>\n",
       "      <th>264469</th>\n",
       "      <th>871279</th>\n",
       "      <th>668370</th>\n",
       "    </tr>\n",
       "  </thead>\n",
       "  <tbody>\n",
       "    <tr>\n",
       "      <th>gender</th>\n",
       "      <td>Female</td>\n",
       "      <td>Female</td>\n",
       "      <td>Male</td>\n",
       "      <td>Female</td>\n",
       "      <td>Male</td>\n",
       "    </tr>\n",
       "    <tr>\n",
       "      <th>birthmonth</th>\n",
       "      <td>8</td>\n",
       "      <td>12</td>\n",
       "      <td>7</td>\n",
       "      <td>3</td>\n",
       "      <td>11</td>\n",
       "    </tr>\n",
       "    <tr>\n",
       "      <th>birthyear</th>\n",
       "      <td>1983</td>\n",
       "      <td>1980</td>\n",
       "      <td>1980</td>\n",
       "      <td>1984</td>\n",
       "      <td>1981</td>\n",
       "    </tr>\n",
       "    <tr>\n",
       "      <th>highestgradecompleted</th>\n",
       "      <td>12.0</td>\n",
       "      <td>12.0</td>\n",
       "      <td>20.0</td>\n",
       "      <td>12.0</td>\n",
       "      <td>NaN</td>\n",
       "    </tr>\n",
       "    <tr>\n",
       "      <th>maritalstatus</th>\n",
       "      <td>Never-married</td>\n",
       "      <td>Never-married</td>\n",
       "      <td>Married</td>\n",
       "      <td>Never-married</td>\n",
       "      <td>NaN</td>\n",
       "    </tr>\n",
       "    <tr>\n",
       "      <th>...</th>\n",
       "      <td>...</td>\n",
       "      <td>...</td>\n",
       "      <td>...</td>\n",
       "      <td>...</td>\n",
       "      <td>...</td>\n",
       "    </tr>\n",
       "    <tr>\n",
       "      <th>colenroct15</th>\n",
       "      <td>1. Not enrolled</td>\n",
       "      <td>1. Not enrolled</td>\n",
       "      <td>1. Not enrolled</td>\n",
       "      <td>1. Not enrolled</td>\n",
       "      <td>1. Not enrolled</td>\n",
       "    </tr>\n",
       "    <tr>\n",
       "      <th>colenrfeb16</th>\n",
       "      <td>1. Not enrolled</td>\n",
       "      <td>1. Not enrolled</td>\n",
       "      <td>1. Not enrolled</td>\n",
       "      <td>1. Not enrolled</td>\n",
       "      <td>1. Not enrolled</td>\n",
       "    </tr>\n",
       "    <tr>\n",
       "      <th>colenroct16</th>\n",
       "      <td>1. Not enrolled</td>\n",
       "      <td>1. Not enrolled</td>\n",
       "      <td>1. Not enrolled</td>\n",
       "      <td>1. Not enrolled</td>\n",
       "      <td>NaN</td>\n",
       "    </tr>\n",
       "    <tr>\n",
       "      <th>colenrfeb17</th>\n",
       "      <td>1. Not enrolled</td>\n",
       "      <td>1. Not enrolled</td>\n",
       "      <td>1. Not enrolled</td>\n",
       "      <td>1. Not enrolled</td>\n",
       "      <td>NaN</td>\n",
       "    </tr>\n",
       "    <tr>\n",
       "      <th>colenroct17</th>\n",
       "      <td>1. Not enrolled</td>\n",
       "      <td>1. Not enrolled</td>\n",
       "      <td>1. Not enrolled</td>\n",
       "      <td>1. Not enrolled</td>\n",
       "      <td>NaN</td>\n",
       "    </tr>\n",
       "  </tbody>\n",
       "</table>\n",
       "<p>88 rows × 5 columns</p>\n",
       "</div>"
      ],
      "text/plain": [
       "personid                        355000           387027           264469  \\\n",
       "gender                          Female           Female             Male   \n",
       "birthmonth                           8               12                7   \n",
       "birthyear                         1983             1980             1980   \n",
       "highestgradecompleted             12.0             12.0             20.0   \n",
       "maritalstatus            Never-married    Never-married          Married   \n",
       "...                                ...              ...              ...   \n",
       "colenroct15            1. Not enrolled  1. Not enrolled  1. Not enrolled   \n",
       "colenrfeb16            1. Not enrolled  1. Not enrolled  1. Not enrolled   \n",
       "colenroct16            1. Not enrolled  1. Not enrolled  1. Not enrolled   \n",
       "colenrfeb17            1. Not enrolled  1. Not enrolled  1. Not enrolled   \n",
       "colenroct17            1. Not enrolled  1. Not enrolled  1. Not enrolled   \n",
       "\n",
       "personid                        871279           668370  \n",
       "gender                          Female             Male  \n",
       "birthmonth                           3               11  \n",
       "birthyear                         1984             1981  \n",
       "highestgradecompleted             12.0              NaN  \n",
       "maritalstatus            Never-married              NaN  \n",
       "...                                ...              ...  \n",
       "colenroct15            1. Not enrolled  1. Not enrolled  \n",
       "colenrfeb16            1. Not enrolled  1. Not enrolled  \n",
       "colenroct16            1. Not enrolled              NaN  \n",
       "colenrfeb17            1. Not enrolled              NaN  \n",
       "colenroct17            1. Not enrolled              NaN  \n",
       "\n",
       "[88 rows x 5 columns]"
      ]
     },
     "execution_count": 11,
     "metadata": {},
     "output_type": "execute_result"
    }
   ],
   "source": [
    "# Prefer using sample() versus head()\n",
    "nls97.sample(5).T"
   ]
  },
  {
   "cell_type": "code",
   "execution_count": 14,
   "id": "excess-current",
   "metadata": {
    "tags": []
   },
   "outputs": [
    {
     "name": "stdout",
     "output_type": "stream",
     "text": [
      "<class 'pandas.core.frame.DataFrame'>\n",
      "Int64Index: 8984 entries, 100061 to 999963\n",
      "Data columns (total 88 columns):\n",
      " #   Column                 Non-Null Count  Dtype  \n",
      "---  ------                 --------------  -----  \n",
      " 0   gender                 8984 non-null   object \n",
      " 1   birthmonth             8984 non-null   int64  \n",
      " 2   birthyear              8984 non-null   int64  \n",
      " 3   highestgradecompleted  6663 non-null   float64\n",
      " 4   maritalstatus          6672 non-null   object \n",
      " 5   childathome            4791 non-null   float64\n",
      " 6   childnotathome         4791 non-null   float64\n",
      " 7   wageincome             5091 non-null   float64\n",
      " 8   weeklyhrscomputer      6710 non-null   object \n",
      " 9   weeklyhrstv            6711 non-null   object \n",
      " 10  nightlyhrssleep        6706 non-null   float64\n",
      " 11  satverbal              1406 non-null   float64\n",
      " 12  satmath                1407 non-null   float64\n",
      " 13  gpaoverall             6004 non-null   float64\n",
      " 14  gpaenglish             5798 non-null   float64\n",
      " 15  gpamath                5766 non-null   float64\n",
      " 16  gpascience             5684 non-null   float64\n",
      " 17  highestdegree          8953 non-null   object \n",
      " 18  govprovidejobs         1833 non-null   object \n",
      " 19  govpricecontrols       1859 non-null   object \n",
      " 20  govhealthcare          1874 non-null   object \n",
      " 21  govelderliving         1872 non-null   object \n",
      " 22  govindhelp             1815 non-null   object \n",
      " 23  govunemp               1811 non-null   object \n",
      " 24  govincomediff          1775 non-null   object \n",
      " 25  govcollegefinance      1875 non-null   object \n",
      " 26  govdecenthousing       1847 non-null   object \n",
      " 27  govprotectenvironment  1860 non-null   object \n",
      " 28  weeksworked00          8603 non-null   float64\n",
      " 29  weeksworked01          8564 non-null   float64\n",
      " 30  weeksworked02          8556 non-null   float64\n",
      " 31  weeksworked03          8490 non-null   float64\n",
      " 32  weeksworked04          8458 non-null   float64\n",
      " 33  weeksworked05          8403 non-null   float64\n",
      " 34  weeksworked06          8340 non-null   float64\n",
      " 35  weeksworked07          8272 non-null   float64\n",
      " 36  weeksworked08          8186 non-null   float64\n",
      " 37  weeksworked09          8146 non-null   float64\n",
      " 38  weeksworked10          8054 non-null   float64\n",
      " 39  weeksworked11          7968 non-null   float64\n",
      " 40  weeksworked12          7747 non-null   float64\n",
      " 41  weeksworked13          7680 non-null   float64\n",
      " 42  weeksworked14          7612 non-null   float64\n",
      " 43  weeksworked15          7389 non-null   float64\n",
      " 44  weeksworked16          7068 non-null   float64\n",
      " 45  weeksworked17          6670 non-null   float64\n",
      " 46  colenrfeb97            1250 non-null   object \n",
      " 47  colenroct97            8501 non-null   object \n",
      " 48  colenrfeb98            8501 non-null   object \n",
      " 49  colenroct98            8888 non-null   object \n",
      " 50  colenrfeb99            8865 non-null   object \n",
      " 51  colenroct99            8851 non-null   object \n",
      " 52  colenrfeb00            8820 non-null   object \n",
      " 53  colenroct00            8805 non-null   object \n",
      " 54  colenrfeb01            8786 non-null   object \n",
      " 55  colenroct01            8758 non-null   object \n",
      " 56  colenrfeb02            8732 non-null   object \n",
      " 57  colenroct02            8698 non-null   object \n",
      " 58  colenrfeb03            8658 non-null   object \n",
      " 59  colenroct03            8622 non-null   object \n",
      " 60  colenrfeb04            8578 non-null   object \n",
      " 61  colenroct04            8546 non-null   object \n",
      " 62  colenrfeb05            8508 non-null   object \n",
      " 63  colenroct05            8471 non-null   object \n",
      " 64  colenrfeb06            8426 non-null   object \n",
      " 65  colenroct06            8407 non-null   object \n",
      " 66  colenrfeb07            8352 non-null   object \n",
      " 67  colenroct07            8331 non-null   object \n",
      " 68  colenrfeb08            8289 non-null   object \n",
      " 69  colenroct08            8280 non-null   object \n",
      " 70  colenrfeb09            8236 non-null   object \n",
      " 71  colenroct09            8193 non-null   object \n",
      " 72  colenrfeb10            8116 non-null   object \n",
      " 73  colenroct10            8091 non-null   object \n",
      " 74  colenrfeb11            8037 non-null   object \n",
      " 75  colenroct11            7972 non-null   object \n",
      " 76  colenrfeb12            7794 non-null   object \n",
      " 77  colenroct12            7754 non-null   object \n",
      " 78  colenrfeb13            7754 non-null   object \n",
      " 79  colenroct13            7754 non-null   object \n",
      " 80  colenrfeb14            7624 non-null   object \n",
      " 81  colenroct14            7469 non-null   object \n",
      " 82  colenrfeb15            7469 non-null   object \n",
      " 83  colenroct15            7469 non-null   object \n",
      " 84  colenrfeb16            7036 non-null   object \n",
      " 85  colenroct16            6733 non-null   object \n",
      " 86  colenrfeb17            6733 non-null   object \n",
      " 87  colenroct17            6734 non-null   object \n",
      "dtypes: float64(29), int64(2), object(57)\n",
      "memory usage: 6.1+ MB\n"
     ]
    }
   ],
   "source": [
    "nls97.info()"
   ]
  },
  {
   "cell_type": "code",
   "execution_count": 20,
   "id": "spread-amateur",
   "metadata": {
    "tags": []
   },
   "outputs": [
    {
     "data": {
      "text/html": [
       "<div>\n",
       "<style scoped>\n",
       "    .dataframe tbody tr th:only-of-type {\n",
       "        vertical-align: middle;\n",
       "    }\n",
       "\n",
       "    .dataframe tbody tr th {\n",
       "        vertical-align: top;\n",
       "    }\n",
       "\n",
       "    .dataframe thead th {\n",
       "        text-align: right;\n",
       "    }\n",
       "</style>\n",
       "<table border=\"1\" class=\"dataframe\">\n",
       "  <thead>\n",
       "    <tr style=\"text-align: right;\">\n",
       "      <th></th>\n",
       "      <th>count</th>\n",
       "      <th>mean</th>\n",
       "      <th>std</th>\n",
       "      <th>min</th>\n",
       "      <th>25%</th>\n",
       "      <th>50%</th>\n",
       "      <th>75%</th>\n",
       "      <th>max</th>\n",
       "    </tr>\n",
       "  </thead>\n",
       "  <tbody>\n",
       "    <tr>\n",
       "      <th>birthmonth</th>\n",
       "      <td>8984.0</td>\n",
       "      <td>6.555988</td>\n",
       "      <td>3.469429</td>\n",
       "      <td>1.0</td>\n",
       "      <td>3.0</td>\n",
       "      <td>7.0</td>\n",
       "      <td>10.0</td>\n",
       "      <td>12.0</td>\n",
       "    </tr>\n",
       "    <tr>\n",
       "      <th>birthyear</th>\n",
       "      <td>8984.0</td>\n",
       "      <td>1982.010352</td>\n",
       "      <td>1.396870</td>\n",
       "      <td>1980.0</td>\n",
       "      <td>1981.0</td>\n",
       "      <td>1982.0</td>\n",
       "      <td>1983.0</td>\n",
       "      <td>1984.0</td>\n",
       "    </tr>\n",
       "    <tr>\n",
       "      <th>highestgradecompleted</th>\n",
       "      <td>6663.0</td>\n",
       "      <td>14.059883</td>\n",
       "      <td>4.507592</td>\n",
       "      <td>5.0</td>\n",
       "      <td>12.0</td>\n",
       "      <td>14.0</td>\n",
       "      <td>16.0</td>\n",
       "      <td>95.0</td>\n",
       "    </tr>\n",
       "    <tr>\n",
       "      <th>childathome</th>\n",
       "      <td>4791.0</td>\n",
       "      <td>1.859320</td>\n",
       "      <td>1.259053</td>\n",
       "      <td>0.0</td>\n",
       "      <td>1.0</td>\n",
       "      <td>2.0</td>\n",
       "      <td>3.0</td>\n",
       "      <td>9.0</td>\n",
       "    </tr>\n",
       "    <tr>\n",
       "      <th>childnotathome</th>\n",
       "      <td>4791.0</td>\n",
       "      <td>0.410144</td>\n",
       "      <td>0.947590</td>\n",
       "      <td>0.0</td>\n",
       "      <td>0.0</td>\n",
       "      <td>0.0</td>\n",
       "      <td>0.0</td>\n",
       "      <td>12.0</td>\n",
       "    </tr>\n",
       "    <tr>\n",
       "      <th>wageincome</th>\n",
       "      <td>5091.0</td>\n",
       "      <td>49477.022196</td>\n",
       "      <td>40677.696798</td>\n",
       "      <td>0.0</td>\n",
       "      <td>25000.0</td>\n",
       "      <td>40000.0</td>\n",
       "      <td>62000.0</td>\n",
       "      <td>235884.0</td>\n",
       "    </tr>\n",
       "    <tr>\n",
       "      <th>nightlyhrssleep</th>\n",
       "      <td>6706.0</td>\n",
       "      <td>6.637340</td>\n",
       "      <td>1.364404</td>\n",
       "      <td>0.0</td>\n",
       "      <td>6.0</td>\n",
       "      <td>7.0</td>\n",
       "      <td>8.0</td>\n",
       "      <td>20.0</td>\n",
       "    </tr>\n",
       "    <tr>\n",
       "      <th>satverbal</th>\n",
       "      <td>1406.0</td>\n",
       "      <td>499.724040</td>\n",
       "      <td>112.166256</td>\n",
       "      <td>14.0</td>\n",
       "      <td>430.0</td>\n",
       "      <td>500.0</td>\n",
       "      <td>570.0</td>\n",
       "      <td>800.0</td>\n",
       "    </tr>\n",
       "    <tr>\n",
       "      <th>satmath</th>\n",
       "      <td>1407.0</td>\n",
       "      <td>500.590618</td>\n",
       "      <td>114.953309</td>\n",
       "      <td>7.0</td>\n",
       "      <td>430.0</td>\n",
       "      <td>500.0</td>\n",
       "      <td>580.0</td>\n",
       "      <td>800.0</td>\n",
       "    </tr>\n",
       "    <tr>\n",
       "      <th>gpaoverall</th>\n",
       "      <td>6004.0</td>\n",
       "      <td>281.840773</td>\n",
       "      <td>61.635667</td>\n",
       "      <td>10.0</td>\n",
       "      <td>243.0</td>\n",
       "      <td>286.0</td>\n",
       "      <td>326.0</td>\n",
       "      <td>417.0</td>\n",
       "    </tr>\n",
       "    <tr>\n",
       "      <th>gpaenglish</th>\n",
       "      <td>5798.0</td>\n",
       "      <td>272.628838</td>\n",
       "      <td>74.062200</td>\n",
       "      <td>0.0</td>\n",
       "      <td>227.0</td>\n",
       "      <td>284.0</td>\n",
       "      <td>323.0</td>\n",
       "      <td>418.0</td>\n",
       "    </tr>\n",
       "    <tr>\n",
       "      <th>gpamath</th>\n",
       "      <td>5766.0</td>\n",
       "      <td>260.562955</td>\n",
       "      <td>74.651580</td>\n",
       "      <td>0.0</td>\n",
       "      <td>213.0</td>\n",
       "      <td>278.0</td>\n",
       "      <td>310.0</td>\n",
       "      <td>423.0</td>\n",
       "    </tr>\n",
       "    <tr>\n",
       "      <th>gpascience</th>\n",
       "      <td>5684.0</td>\n",
       "      <td>264.422942</td>\n",
       "      <td>77.825813</td>\n",
       "      <td>0.0</td>\n",
       "      <td>218.0</td>\n",
       "      <td>280.0</td>\n",
       "      <td>316.0</td>\n",
       "      <td>424.0</td>\n",
       "    </tr>\n",
       "    <tr>\n",
       "      <th>weeksworked00</th>\n",
       "      <td>8603.0</td>\n",
       "      <td>26.417761</td>\n",
       "      <td>20.684319</td>\n",
       "      <td>0.0</td>\n",
       "      <td>5.0</td>\n",
       "      <td>26.0</td>\n",
       "      <td>50.0</td>\n",
       "      <td>53.0</td>\n",
       "    </tr>\n",
       "    <tr>\n",
       "      <th>weeksworked01</th>\n",
       "      <td>8564.0</td>\n",
       "      <td>29.784096</td>\n",
       "      <td>20.092033</td>\n",
       "      <td>0.0</td>\n",
       "      <td>10.0</td>\n",
       "      <td>33.0</td>\n",
       "      <td>51.0</td>\n",
       "      <td>52.0</td>\n",
       "    </tr>\n",
       "    <tr>\n",
       "      <th>weeksworked02</th>\n",
       "      <td>8556.0</td>\n",
       "      <td>31.805400</td>\n",
       "      <td>20.099411</td>\n",
       "      <td>0.0</td>\n",
       "      <td>13.0</td>\n",
       "      <td>38.0</td>\n",
       "      <td>52.0</td>\n",
       "      <td>52.0</td>\n",
       "    </tr>\n",
       "    <tr>\n",
       "      <th>weeksworked03</th>\n",
       "      <td>8490.0</td>\n",
       "      <td>33.469611</td>\n",
       "      <td>20.122937</td>\n",
       "      <td>0.0</td>\n",
       "      <td>14.0</td>\n",
       "      <td>43.0</td>\n",
       "      <td>52.0</td>\n",
       "      <td>52.0</td>\n",
       "    </tr>\n",
       "    <tr>\n",
       "      <th>weeksworked04</th>\n",
       "      <td>8458.0</td>\n",
       "      <td>35.104635</td>\n",
       "      <td>20.050676</td>\n",
       "      <td>0.0</td>\n",
       "      <td>18.0</td>\n",
       "      <td>46.0</td>\n",
       "      <td>52.0</td>\n",
       "      <td>52.0</td>\n",
       "    </tr>\n",
       "    <tr>\n",
       "      <th>weeksworked05</th>\n",
       "      <td>8403.0</td>\n",
       "      <td>37.316435</td>\n",
       "      <td>19.958835</td>\n",
       "      <td>0.0</td>\n",
       "      <td>22.0</td>\n",
       "      <td>50.0</td>\n",
       "      <td>53.0</td>\n",
       "      <td>53.0</td>\n",
       "    </tr>\n",
       "    <tr>\n",
       "      <th>weeksworked06</th>\n",
       "      <td>8340.0</td>\n",
       "      <td>38.429976</td>\n",
       "      <td>18.921281</td>\n",
       "      <td>0.0</td>\n",
       "      <td>27.0</td>\n",
       "      <td>51.0</td>\n",
       "      <td>52.0</td>\n",
       "      <td>52.0</td>\n",
       "    </tr>\n",
       "    <tr>\n",
       "      <th>weeksworked07</th>\n",
       "      <td>8272.0</td>\n",
       "      <td>39.241296</td>\n",
       "      <td>18.854874</td>\n",
       "      <td>0.0</td>\n",
       "      <td>30.0</td>\n",
       "      <td>52.0</td>\n",
       "      <td>52.0</td>\n",
       "      <td>52.0</td>\n",
       "    </tr>\n",
       "    <tr>\n",
       "      <th>weeksworked08</th>\n",
       "      <td>8186.0</td>\n",
       "      <td>39.287564</td>\n",
       "      <td>19.041225</td>\n",
       "      <td>0.0</td>\n",
       "      <td>30.0</td>\n",
       "      <td>52.0</td>\n",
       "      <td>52.0</td>\n",
       "      <td>52.0</td>\n",
       "    </tr>\n",
       "    <tr>\n",
       "      <th>weeksworked09</th>\n",
       "      <td>8146.0</td>\n",
       "      <td>37.419961</td>\n",
       "      <td>20.338602</td>\n",
       "      <td>0.0</td>\n",
       "      <td>22.0</td>\n",
       "      <td>52.0</td>\n",
       "      <td>52.0</td>\n",
       "      <td>52.0</td>\n",
       "    </tr>\n",
       "    <tr>\n",
       "      <th>weeksworked10</th>\n",
       "      <td>8054.0</td>\n",
       "      <td>37.029923</td>\n",
       "      <td>20.822536</td>\n",
       "      <td>0.0</td>\n",
       "      <td>20.0</td>\n",
       "      <td>52.0</td>\n",
       "      <td>52.0</td>\n",
       "      <td>52.0</td>\n",
       "    </tr>\n",
       "    <tr>\n",
       "      <th>weeksworked11</th>\n",
       "      <td>7968.0</td>\n",
       "      <td>37.911270</td>\n",
       "      <td>21.043442</td>\n",
       "      <td>0.0</td>\n",
       "      <td>22.0</td>\n",
       "      <td>53.0</td>\n",
       "      <td>53.0</td>\n",
       "      <td>53.0</td>\n",
       "    </tr>\n",
       "    <tr>\n",
       "      <th>weeksworked12</th>\n",
       "      <td>7747.0</td>\n",
       "      <td>38.036918</td>\n",
       "      <td>21.115012</td>\n",
       "      <td>0.0</td>\n",
       "      <td>22.0</td>\n",
       "      <td>52.0</td>\n",
       "      <td>52.0</td>\n",
       "      <td>52.0</td>\n",
       "    </tr>\n",
       "    <tr>\n",
       "      <th>weeksworked13</th>\n",
       "      <td>7680.0</td>\n",
       "      <td>38.791016</td>\n",
       "      <td>20.511653</td>\n",
       "      <td>0.0</td>\n",
       "      <td>28.0</td>\n",
       "      <td>52.0</td>\n",
       "      <td>52.0</td>\n",
       "      <td>52.0</td>\n",
       "    </tr>\n",
       "    <tr>\n",
       "      <th>weeksworked14</th>\n",
       "      <td>7612.0</td>\n",
       "      <td>38.316999</td>\n",
       "      <td>21.000103</td>\n",
       "      <td>0.0</td>\n",
       "      <td>23.0</td>\n",
       "      <td>52.0</td>\n",
       "      <td>52.0</td>\n",
       "      <td>52.0</td>\n",
       "    </tr>\n",
       "    <tr>\n",
       "      <th>weeksworked15</th>\n",
       "      <td>7389.0</td>\n",
       "      <td>39.605630</td>\n",
       "      <td>19.926533</td>\n",
       "      <td>0.0</td>\n",
       "      <td>33.0</td>\n",
       "      <td>52.0</td>\n",
       "      <td>52.0</td>\n",
       "      <td>52.0</td>\n",
       "    </tr>\n",
       "    <tr>\n",
       "      <th>weeksworked16</th>\n",
       "      <td>7068.0</td>\n",
       "      <td>39.127476</td>\n",
       "      <td>21.336629</td>\n",
       "      <td>0.0</td>\n",
       "      <td>23.0</td>\n",
       "      <td>53.0</td>\n",
       "      <td>53.0</td>\n",
       "      <td>53.0</td>\n",
       "    </tr>\n",
       "    <tr>\n",
       "      <th>weeksworked17</th>\n",
       "      <td>6670.0</td>\n",
       "      <td>39.016642</td>\n",
       "      <td>19.465974</td>\n",
       "      <td>0.0</td>\n",
       "      <td>37.0</td>\n",
       "      <td>49.0</td>\n",
       "      <td>52.0</td>\n",
       "      <td>52.0</td>\n",
       "    </tr>\n",
       "  </tbody>\n",
       "</table>\n",
       "</div>"
      ],
      "text/plain": [
       "                        count          mean           std     min      25%  \\\n",
       "birthmonth             8984.0      6.555988      3.469429     1.0      3.0   \n",
       "birthyear              8984.0   1982.010352      1.396870  1980.0   1981.0   \n",
       "highestgradecompleted  6663.0     14.059883      4.507592     5.0     12.0   \n",
       "childathome            4791.0      1.859320      1.259053     0.0      1.0   \n",
       "childnotathome         4791.0      0.410144      0.947590     0.0      0.0   \n",
       "wageincome             5091.0  49477.022196  40677.696798     0.0  25000.0   \n",
       "nightlyhrssleep        6706.0      6.637340      1.364404     0.0      6.0   \n",
       "satverbal              1406.0    499.724040    112.166256    14.0    430.0   \n",
       "satmath                1407.0    500.590618    114.953309     7.0    430.0   \n",
       "gpaoverall             6004.0    281.840773     61.635667    10.0    243.0   \n",
       "gpaenglish             5798.0    272.628838     74.062200     0.0    227.0   \n",
       "gpamath                5766.0    260.562955     74.651580     0.0    213.0   \n",
       "gpascience             5684.0    264.422942     77.825813     0.0    218.0   \n",
       "weeksworked00          8603.0     26.417761     20.684319     0.0      5.0   \n",
       "weeksworked01          8564.0     29.784096     20.092033     0.0     10.0   \n",
       "weeksworked02          8556.0     31.805400     20.099411     0.0     13.0   \n",
       "weeksworked03          8490.0     33.469611     20.122937     0.0     14.0   \n",
       "weeksworked04          8458.0     35.104635     20.050676     0.0     18.0   \n",
       "weeksworked05          8403.0     37.316435     19.958835     0.0     22.0   \n",
       "weeksworked06          8340.0     38.429976     18.921281     0.0     27.0   \n",
       "weeksworked07          8272.0     39.241296     18.854874     0.0     30.0   \n",
       "weeksworked08          8186.0     39.287564     19.041225     0.0     30.0   \n",
       "weeksworked09          8146.0     37.419961     20.338602     0.0     22.0   \n",
       "weeksworked10          8054.0     37.029923     20.822536     0.0     20.0   \n",
       "weeksworked11          7968.0     37.911270     21.043442     0.0     22.0   \n",
       "weeksworked12          7747.0     38.036918     21.115012     0.0     22.0   \n",
       "weeksworked13          7680.0     38.791016     20.511653     0.0     28.0   \n",
       "weeksworked14          7612.0     38.316999     21.000103     0.0     23.0   \n",
       "weeksworked15          7389.0     39.605630     19.926533     0.0     33.0   \n",
       "weeksworked16          7068.0     39.127476     21.336629     0.0     23.0   \n",
       "weeksworked17          6670.0     39.016642     19.465974     0.0     37.0   \n",
       "\n",
       "                           50%      75%       max  \n",
       "birthmonth                 7.0     10.0      12.0  \n",
       "birthyear               1982.0   1983.0    1984.0  \n",
       "highestgradecompleted     14.0     16.0      95.0  \n",
       "childathome                2.0      3.0       9.0  \n",
       "childnotathome             0.0      0.0      12.0  \n",
       "wageincome             40000.0  62000.0  235884.0  \n",
       "nightlyhrssleep            7.0      8.0      20.0  \n",
       "satverbal                500.0    570.0     800.0  \n",
       "satmath                  500.0    580.0     800.0  \n",
       "gpaoverall               286.0    326.0     417.0  \n",
       "gpaenglish               284.0    323.0     418.0  \n",
       "gpamath                  278.0    310.0     423.0  \n",
       "gpascience               280.0    316.0     424.0  \n",
       "weeksworked00             26.0     50.0      53.0  \n",
       "weeksworked01             33.0     51.0      52.0  \n",
       "weeksworked02             38.0     52.0      52.0  \n",
       "weeksworked03             43.0     52.0      52.0  \n",
       "weeksworked04             46.0     52.0      52.0  \n",
       "weeksworked05             50.0     53.0      53.0  \n",
       "weeksworked06             51.0     52.0      52.0  \n",
       "weeksworked07             52.0     52.0      52.0  \n",
       "weeksworked08             52.0     52.0      52.0  \n",
       "weeksworked09             52.0     52.0      52.0  \n",
       "weeksworked10             52.0     52.0      52.0  \n",
       "weeksworked11             53.0     53.0      53.0  \n",
       "weeksworked12             52.0     52.0      52.0  \n",
       "weeksworked13             52.0     52.0      52.0  \n",
       "weeksworked14             52.0     52.0      52.0  \n",
       "weeksworked15             52.0     52.0      52.0  \n",
       "weeksworked16             53.0     53.0      53.0  \n",
       "weeksworked17             49.0     52.0      52.0  "
      ]
     },
     "execution_count": 20,
     "metadata": {},
     "output_type": "execute_result"
    }
   ],
   "source": [
    "nls97.describe().T"
   ]
  },
  {
   "cell_type": "markdown",
   "id": "0c77786e-5ba9-4c95-acf6-a61efa02004e",
   "metadata": {},
   "source": [
    "The following code creates a new DataFrame that contains some demographic and employment data."
   ]
  },
  {
   "cell_type": "code",
   "execution_count": 21,
   "id": "orange-burke",
   "metadata": {
    "tags": []
   },
   "outputs": [
    {
     "data": {
      "text/plain": [
       "'personid'"
      ]
     },
     "execution_count": 21,
     "metadata": {},
     "output_type": "execute_result"
    }
   ],
   "source": [
    "# Demographic and employment data columns.\n",
    "demo_cols = [\n",
    "    \"gender\",\n",
    "    \"birthyear\",\n",
    "    \"maritalstatus\",\n",
    "    \"weeksworked16\",\n",
    "    \"wageincome\",\n",
    "    \"highestdegree\",\n",
    "]\n",
    "\n",
    "nls97demo = nls97[demo_cols]\n",
    "nls97demo.index.name  # New dataframe retains the index of old data frame."
   ]
  },
  {
   "cell_type": "code",
   "execution_count": 6,
   "id": "domestic-pricing",
   "metadata": {},
   "outputs": [
    {
     "data": {
      "text/html": [
       "<div>\n",
       "<style scoped>\n",
       "    .dataframe tbody tr th:only-of-type {\n",
       "        vertical-align: middle;\n",
       "    }\n",
       "\n",
       "    .dataframe tbody tr th {\n",
       "        vertical-align: top;\n",
       "    }\n",
       "\n",
       "    .dataframe thead th {\n",
       "        text-align: right;\n",
       "    }\n",
       "</style>\n",
       "<table border=\"1\" class=\"dataframe\">\n",
       "  <thead>\n",
       "    <tr style=\"text-align: right;\">\n",
       "      <th>personid</th>\n",
       "      <th>195884</th>\n",
       "      <th>195891</th>\n",
       "      <th>195970</th>\n",
       "      <th>195996</th>\n",
       "    </tr>\n",
       "  </thead>\n",
       "  <tbody>\n",
       "    <tr>\n",
       "      <th>gender</th>\n",
       "      <td>Male</td>\n",
       "      <td>Male</td>\n",
       "      <td>Female</td>\n",
       "      <td>Female</td>\n",
       "    </tr>\n",
       "    <tr>\n",
       "      <th>birthyear</th>\n",
       "      <td>1981</td>\n",
       "      <td>1980</td>\n",
       "      <td>1982</td>\n",
       "      <td>1980</td>\n",
       "    </tr>\n",
       "    <tr>\n",
       "      <th>maritalstatus</th>\n",
       "      <td>NaN</td>\n",
       "      <td>Never-married</td>\n",
       "      <td>Never-married</td>\n",
       "      <td>NaN</td>\n",
       "    </tr>\n",
       "    <tr>\n",
       "      <th>weeksworked16</th>\n",
       "      <td>NaN</td>\n",
       "      <td>53.0</td>\n",
       "      <td>53.0</td>\n",
       "      <td>NaN</td>\n",
       "    </tr>\n",
       "    <tr>\n",
       "      <th>wageincome</th>\n",
       "      <td>NaN</td>\n",
       "      <td>14000.0</td>\n",
       "      <td>52000.0</td>\n",
       "      <td>NaN</td>\n",
       "    </tr>\n",
       "    <tr>\n",
       "      <th>highestdegree</th>\n",
       "      <td>4. Bachelors</td>\n",
       "      <td>2. High School</td>\n",
       "      <td>4. Bachelors</td>\n",
       "      <td>3. Associates</td>\n",
       "    </tr>\n",
       "  </tbody>\n",
       "</table>\n",
       "</div>"
      ],
      "text/plain": [
       "personid             195884          195891         195970         195996\n",
       "gender                 Male            Male         Female         Female\n",
       "birthyear              1981            1980           1982           1980\n",
       "maritalstatus           NaN   Never-married  Never-married            NaN\n",
       "weeksworked16           NaN            53.0           53.0            NaN\n",
       "wageincome              NaN         14000.0        52000.0            NaN\n",
       "highestdegree  4. Bachelors  2. High School   4. Bachelors  3. Associates"
      ]
     },
     "execution_count": 6,
     "metadata": {},
     "output_type": "execute_result"
    }
   ],
   "source": [
    "# Select row 1000, 1001, 1002, 1003. Row 1004 is not included.\n",
    "nls97demo[1000:1004].T"
   ]
  },
  {
   "cell_type": "code",
   "execution_count": 7,
   "id": "operating-alpha",
   "metadata": {},
   "outputs": [
    {
     "data": {
      "text/html": [
       "<div>\n",
       "<style scoped>\n",
       "    .dataframe tbody tr th:only-of-type {\n",
       "        vertical-align: middle;\n",
       "    }\n",
       "\n",
       "    .dataframe tbody tr th {\n",
       "        vertical-align: top;\n",
       "    }\n",
       "\n",
       "    .dataframe thead th {\n",
       "        text-align: right;\n",
       "    }\n",
       "</style>\n",
       "<table border=\"1\" class=\"dataframe\">\n",
       "  <thead>\n",
       "    <tr style=\"text-align: right;\">\n",
       "      <th>personid</th>\n",
       "      <th>195884</th>\n",
       "      <th>195970</th>\n",
       "    </tr>\n",
       "  </thead>\n",
       "  <tbody>\n",
       "    <tr>\n",
       "      <th>gender</th>\n",
       "      <td>Male</td>\n",
       "      <td>Female</td>\n",
       "    </tr>\n",
       "    <tr>\n",
       "      <th>birthyear</th>\n",
       "      <td>1981</td>\n",
       "      <td>1982</td>\n",
       "    </tr>\n",
       "    <tr>\n",
       "      <th>maritalstatus</th>\n",
       "      <td>NaN</td>\n",
       "      <td>Never-married</td>\n",
       "    </tr>\n",
       "    <tr>\n",
       "      <th>weeksworked16</th>\n",
       "      <td>NaN</td>\n",
       "      <td>53.0</td>\n",
       "    </tr>\n",
       "    <tr>\n",
       "      <th>wageincome</th>\n",
       "      <td>NaN</td>\n",
       "      <td>52000.0</td>\n",
       "    </tr>\n",
       "    <tr>\n",
       "      <th>highestdegree</th>\n",
       "      <td>4. Bachelors</td>\n",
       "      <td>4. Bachelors</td>\n",
       "    </tr>\n",
       "  </tbody>\n",
       "</table>\n",
       "</div>"
      ],
      "text/plain": [
       "personid             195884         195970\n",
       "gender                 Male         Female\n",
       "birthyear              1981           1982\n",
       "maritalstatus           NaN  Never-married\n",
       "weeksworked16           NaN           53.0\n",
       "wageincome              NaN        52000.0\n",
       "highestdegree  4. Bachelors   4. Bachelors"
      ]
     },
     "execution_count": 7,
     "metadata": {},
     "output_type": "execute_result"
    }
   ],
   "source": [
    "# Every 2 steps instead of 1. So only row 1000, 1002 will be selected.\n",
    "nls97demo[1000:1004:2].T"
   ]
  },
  {
   "cell_type": "code",
   "execution_count": 22,
   "id": "suburban-bandwidth",
   "metadata": {
    "tags": []
   },
   "outputs": [
    {
     "data": {
      "text/html": [
       "<div>\n",
       "<style scoped>\n",
       "    .dataframe tbody tr th:only-of-type {\n",
       "        vertical-align: middle;\n",
       "    }\n",
       "\n",
       "    .dataframe tbody tr th {\n",
       "        vertical-align: top;\n",
       "    }\n",
       "\n",
       "    .dataframe thead th {\n",
       "        text-align: right;\n",
       "    }\n",
       "</style>\n",
       "<table border=\"1\" class=\"dataframe\">\n",
       "  <thead>\n",
       "    <tr style=\"text-align: right;\">\n",
       "      <th></th>\n",
       "      <th>gender</th>\n",
       "      <th>birthyear</th>\n",
       "      <th>maritalstatus</th>\n",
       "      <th>weeksworked16</th>\n",
       "      <th>wageincome</th>\n",
       "      <th>highestdegree</th>\n",
       "    </tr>\n",
       "    <tr>\n",
       "      <th>personid</th>\n",
       "      <th></th>\n",
       "      <th></th>\n",
       "      <th></th>\n",
       "      <th></th>\n",
       "      <th></th>\n",
       "      <th></th>\n",
       "    </tr>\n",
       "  </thead>\n",
       "  <tbody>\n",
       "    <tr>\n",
       "      <th>100061</th>\n",
       "      <td>Female</td>\n",
       "      <td>1980</td>\n",
       "      <td>Married</td>\n",
       "      <td>48.0</td>\n",
       "      <td>12500.0</td>\n",
       "      <td>2. High School</td>\n",
       "    </tr>\n",
       "    <tr>\n",
       "      <th>100139</th>\n",
       "      <td>Male</td>\n",
       "      <td>1983</td>\n",
       "      <td>Married</td>\n",
       "      <td>53.0</td>\n",
       "      <td>120000.0</td>\n",
       "      <td>2. High School</td>\n",
       "    </tr>\n",
       "    <tr>\n",
       "      <th>100284</th>\n",
       "      <td>Male</td>\n",
       "      <td>1984</td>\n",
       "      <td>Never-married</td>\n",
       "      <td>47.0</td>\n",
       "      <td>58000.0</td>\n",
       "      <td>0. None</td>\n",
       "    </tr>\n",
       "  </tbody>\n",
       "</table>\n",
       "</div>"
      ],
      "text/plain": [
       "          gender  birthyear  maritalstatus  weeksworked16  wageincome  \\\n",
       "personid                                                                \n",
       "100061    Female       1980        Married           48.0     12500.0   \n",
       "100139      Male       1983        Married           53.0    120000.0   \n",
       "100284      Male       1984  Never-married           47.0     58000.0   \n",
       "\n",
       "           highestdegree  \n",
       "personid                  \n",
       "100061    2. High School  \n",
       "100139    2. High School  \n",
       "100284           0. None  "
      ]
     },
     "execution_count": 22,
     "metadata": {},
     "output_type": "execute_result"
    }
   ],
   "source": [
    "## Select first N rows.\n",
    "# nls97demo[:3]\n",
    "# nls97demo.head(3)\n",
    "\n",
    "## Select last N rows.\n",
    "# nls97demo[-3:]\n",
    "# nls97demo.tail(3)\n",
    "\n",
    "## Select by index personid\n",
    "# nls97demo.loc[[195884, 195891, 195970]]\n",
    "# nls97demo.loc[[195884:195970]]\n",
    "\n",
    "## Select by position (similar as array)\n",
    "nls97demo.iloc[[0, 1, 2]]"
   ]
  },
  {
   "cell_type": "markdown",
   "id": "5e103727-6eb2-45b0-a6c2-e638b871c395",
   "metadata": {},
   "source": [
    "We want a Boolean Series that is `True` for people who sleep 6 or fewer hours a night (the 33rd percentile) and `False` if `nightlyhrssleep` is greater than 6 or is missing."
   ]
  },
  {
   "cell_type": "code",
   "execution_count": 31,
   "id": "interpreted-logan",
   "metadata": {
    "tags": []
   },
   "outputs": [
    {
     "data": {
      "text/plain": [
       "personid\n",
       "100061    6.0\n",
       "100139    8.0\n",
       "100284    7.0\n",
       "100292    NaN\n",
       "100583    6.0\n",
       "Name: nightlyhrssleep, dtype: float64"
      ]
     },
     "execution_count": 31,
     "metadata": {},
     "output_type": "execute_result"
    }
   ],
   "source": [
    "nls97[\"nightlyhrssleep\"].head()"
   ]
  },
  {
   "cell_type": "code",
   "execution_count": 25,
   "id": "chicken-parks",
   "metadata": {
    "tags": []
   },
   "outputs": [
    {
     "data": {
      "text/plain": [
       "6.0"
      ]
     },
     "execution_count": 25,
     "metadata": {},
     "output_type": "execute_result"
    }
   ],
   "source": [
    "low_sleep_threshold = nls97[\"nightlyhrssleep\"].quantile(0.33)\n",
    "low_sleep_threshold  # 33% sleep less than 6 hours."
   ]
  },
  {
   "cell_type": "code",
   "execution_count": 27,
   "id": "taken-expression",
   "metadata": {
    "tags": []
   },
   "outputs": [
    {
     "data": {
      "text/plain": [
       "personid\n",
       "100061     True\n",
       "100139    False\n",
       "100284    False\n",
       "100292    False\n",
       "100583     True\n",
       "Name: nightlyhrssleep, dtype: bool"
      ]
     },
     "execution_count": 27,
     "metadata": {},
     "output_type": "execute_result"
    }
   ],
   "source": [
    "sleep_check_bool = nls97.nightlyhrssleep <= low_sleep_threshold\n",
    "sleep_check_bool.head()"
   ]
  },
  {
   "cell_type": "code",
   "execution_count": 28,
   "id": "0cea5801-9877-4ac2-9134-b8149e9c2f04",
   "metadata": {
    "tags": []
   },
   "outputs": [
    {
     "data": {
      "text/plain": [
       "True"
      ]
     },
     "execution_count": 28,
     "metadata": {},
     "output_type": "execute_result"
    }
   ],
   "source": [
    "# Both should share the same index.\n",
    "sleep_check_bool.index.equals(nls97.index)"
   ]
  },
  {
   "cell_type": "code",
   "execution_count": 29,
   "id": "seeing-essay",
   "metadata": {
    "tags": []
   },
   "outputs": [
    {
     "data": {
      "text/plain": [
       "(3067, 88)"
      ]
     },
     "execution_count": 29,
     "metadata": {},
     "output_type": "execute_result"
    }
   ],
   "source": [
    "# Boolean indexing.\n",
    "low_sleep = nls97.loc[sleep_check_bool]\n",
    "low_sleep.shape"
   ]
  },
  {
   "cell_type": "code",
   "execution_count": 13,
   "id": "overhead-smile",
   "metadata": {},
   "outputs": [
    {
     "data": {
      "text/plain": [
       "(3067, 88)"
      ]
     },
     "execution_count": 13,
     "metadata": {},
     "output_type": "execute_result"
    }
   ],
   "source": [
    "# We can create it in a single step.\n",
    "low_sleep = nls97.loc[nls97.nightlyhrssleep <= low_sleep_threshold]\n",
    "low_sleep.shape"
   ]
  },
  {
   "cell_type": "code",
   "execution_count": 14,
   "id": "numerical-reasoning",
   "metadata": {},
   "outputs": [
    {
     "data": {
      "text/plain": [
       "(623, 88)"
      ]
     },
     "execution_count": 14,
     "metadata": {},
     "output_type": "execute_result"
    }
   ],
   "source": [
    "# Passing complex condition. The & (AND) indicates both conditions have to be true.\n",
    "# Using | (OR) means either condition can be true.\n",
    "low_sleep_3plus_children = nls97.loc[\n",
    "    (nls97.nightlyhrssleep <= low_sleep_threshold) & (nls97.childathome >= 3)\n",
    "]\n",
    "low_sleep_3plus_children.shape"
   ]
  },
  {
   "cell_type": "code",
   "execution_count": 15,
   "id": "virgin-rebel",
   "metadata": {},
   "outputs": [
    {
     "data": {
      "text/plain": [
       "(623, 2)"
      ]
     },
     "execution_count": 15,
     "metadata": {},
     "output_type": "execute_result"
    }
   ],
   "source": [
    "# Select both rows and columns.\n",
    "low_sleep_3plus_children = nls97.loc[\n",
    "    (nls97.nightlyhrssleep <= low_sleep_threshold) & (nls97.childathome >= 3),\n",
    "    [\"nightlyhrssleep\", \"childathome\"],\n",
    "]\n",
    "low_sleep_3plus_children.shape"
   ]
  },
  {
   "cell_type": "markdown",
   "id": "following-favorite",
   "metadata": {},
   "source": [
    "## Generating frequencies for categorical features\n",
    "\n",
    "Categorical features\n",
    "- can be __nominal__ or __ordinal__\n",
    "- __nominal__ (e.g. gender, country) have a limited number of possible values, can be numeric or string but has no intrinsic numerical meaning\n",
    "- __ordinal__ also have a limited number of possible values but are different from __nominal__ features in that the order of the values matters (e.g. __Likert scale__ rating, ranging from 1 for very unlikely to 5 for very likely). Arithmetic operations would not make sense for __ordinal__ values."
   ]
  },
  {
   "cell_type": "markdown",
   "id": "5c1f6845-c35e-46f4-946b-98cbcc5e3526",
   "metadata": {},
   "source": [
    "Create a `one-way frequency distribution` to count all the possible values for the categorical features we may use.\n",
    "\n",
    "We create a DataFrame that contains just the first 20 columns of the data, and look at the data types. All the `object` type columns in the preceding code are __categorical__."
   ]
  },
  {
   "cell_type": "code",
   "execution_count": 32,
   "id": "cordless-highland",
   "metadata": {
    "tags": []
   },
   "outputs": [
    {
     "data": {
      "text/plain": [
       "gender                    object\n",
       "birthmonth                 int64\n",
       "birthyear                  int64\n",
       "highestgradecompleted    float64\n",
       "maritalstatus             object\n",
       "childathome              float64\n",
       "childnotathome           float64\n",
       "wageincome               float64\n",
       "weeklyhrscomputer         object\n",
       "weeklyhrstv               object\n",
       "nightlyhrssleep          float64\n",
       "satverbal                float64\n",
       "satmath                  float64\n",
       "gpaoverall               float64\n",
       "gpaenglish               float64\n",
       "gpamath                  float64\n",
       "gpascience               float64\n",
       "highestdegree             object\n",
       "govprovidejobs            object\n",
       "govpricecontrols          object\n",
       "dtype: object"
      ]
     },
     "execution_count": 32,
     "metadata": {},
     "output_type": "execute_result"
    }
   ],
   "source": [
    "nls97 = pd.read_csv(\"./data/nls97.csv\")\n",
    "nls97.set_index(\"personid\", inplace=True)\n",
    "nls97abb = nls97.iloc[:, :20]\n",
    "nls97abb.dtypes"
   ]
  },
  {
   "cell_type": "code",
   "execution_count": 35,
   "id": "patent-moisture",
   "metadata": {
    "tags": []
   },
   "outputs": [
    {
     "data": {
      "text/plain": [
       "Married          3066\n",
       "Never-married    2766\n",
       "NaN              2312\n",
       "Divorced          663\n",
       "Separated         154\n",
       "Widowed            23\n",
       "Name: maritalstatus, dtype: int64"
      ]
     },
     "execution_count": 35,
     "metadata": {},
     "output_type": "execute_result"
    }
   ],
   "source": [
    "# By default, NaN are excluded.\n",
    "# But when analysing data, it is important to show it.\n",
    "nls97abb.maritalstatus.value_counts(dropna=False)"
   ]
  },
  {
   "cell_type": "markdown",
   "id": "02971f47-f3a5-439c-a082-b8287e067140",
   "metadata": {},
   "source": [
    "We can find the number of missing values by chaining `isnull` and `sum`."
   ]
  },
  {
   "cell_type": "code",
   "execution_count": 37,
   "id": "uniform-optimization",
   "metadata": {
    "tags": []
   },
   "outputs": [
    {
     "data": {
      "text/plain": [
       "2312"
      ]
     },
     "execution_count": 37,
     "metadata": {},
     "output_type": "execute_result"
    }
   ],
   "source": [
    "nls97abb.maritalstatus.isnull().sum()"
   ]
  },
  {
   "cell_type": "markdown",
   "id": "bf4fd0a3-2724-449e-8495-41e788f927b2",
   "metadata": {},
   "source": [
    "The `maritalstatus` values were sorted by frequency by default. You can sort them alphabetically by values by sorting the index.\n",
    "\n",
    "The `value_counts` returns a Series with the values as the index."
   ]
  },
  {
   "cell_type": "code",
   "execution_count": 41,
   "id": "trying-priority",
   "metadata": {
    "tags": []
   },
   "outputs": [
    {
     "data": {
      "text/plain": [
       "pandas.core.series.Series"
      ]
     },
     "execution_count": 41,
     "metadata": {},
     "output_type": "execute_result"
    }
   ],
   "source": [
    "marital_status_counts = nls97abb.maritalstatus.value_counts(dropna=False)\n",
    "type(marital_status_counts)  # Series type."
   ]
  },
  {
   "cell_type": "code",
   "execution_count": 43,
   "id": "08aa5d3a-7a9d-4169-a408-993997be698d",
   "metadata": {
    "tags": []
   },
   "outputs": [
    {
     "data": {
      "text/plain": [
       "Index(['Married', 'Never-married', nan, 'Divorced', 'Separated', 'Widowed'], dtype='object')"
      ]
     },
     "execution_count": 43,
     "metadata": {},
     "output_type": "execute_result"
    }
   ],
   "source": [
    "marital_status_counts.index  # Values are index."
   ]
  },
  {
   "cell_type": "code",
   "execution_count": 44,
   "id": "editorial-evolution",
   "metadata": {
    "tags": []
   },
   "outputs": [
    {
     "data": {
      "text/plain": [
       "Divorced          663\n",
       "Married          3066\n",
       "Never-married    2766\n",
       "Separated         154\n",
       "Widowed            23\n",
       "NaN              2312\n",
       "Name: maritalstatus, dtype: int64"
      ]
     },
     "execution_count": 44,
     "metadata": {},
     "output_type": "execute_result"
    }
   ],
   "source": [
    "# Sort alphabetically.\n",
    "marital_status_counts.sort_index()"
   ]
  },
  {
   "cell_type": "code",
   "execution_count": 47,
   "id": "connected-graduate",
   "metadata": {
    "tags": []
   },
   "outputs": [
    {
     "data": {
      "text/plain": [
       "Divorced         0.073798\n",
       "Married          0.341273\n",
       "Never-married    0.307881\n",
       "Separated        0.017142\n",
       "Widowed          0.002560\n",
       "NaN              0.257346\n",
       "Name: maritalstatus, dtype: float64"
      ]
     },
     "execution_count": 47,
     "metadata": {},
     "output_type": "execute_result"
    }
   ],
   "source": [
    "# To display the ratio, set \"normalize=True\"\n",
    "nls97abb.maritalstatus.value_counts(dropna=False, normalize=True).sort_index()"
   ]
  },
  {
   "cell_type": "markdown",
   "id": "a0f8882a-427a-4223-bdbc-9b728d413daa",
   "metadata": {},
   "source": [
    "^ We observe that 34% of the responses were `Married`. Note that `dropna=False`, so this includes responses with missing values."
   ]
  },
  {
   "cell_type": "markdown",
   "id": "d71d9233-c80a-4414-9cc2-4c1619264370",
   "metadata": {},
   "source": [
    "`pandas` has a `category` data type that can store data much more efficiently that the `object` data type when a column has a limited number of values.\n",
    "\n",
    "Since all `object` columns contains categorical data, we should convert those columns into the `category` data type.\n",
    "\n",
    "In the following code, we are creating a list that contains the column names for the object columns, `catcols`. Then we loop through those columns and using `astype` to change the data type to `category`:"
   ]
  },
  {
   "cell_type": "code",
   "execution_count": 48,
   "id": "separate-store",
   "metadata": {
    "tags": []
   },
   "outputs": [
    {
     "data": {
      "text/plain": [
       "Index(['gender', 'maritalstatus', 'weeklyhrscomputer', 'weeklyhrstv',\n",
       "       'highestdegree', 'govprovidejobs', 'govpricecontrols'],\n",
       "      dtype='object')"
      ]
     },
     "execution_count": 48,
     "metadata": {},
     "output_type": "execute_result"
    }
   ],
   "source": [
    "category_columns = nls97abb.select_dtypes(include=[\"object\"]).columns\n",
    "category_columns"
   ]
  },
  {
   "cell_type": "code",
   "execution_count": 49,
   "id": "round-sound",
   "metadata": {},
   "outputs": [],
   "source": [
    "for col in category_columns:\n",
    "    nls97abb[col] = nls97abb[col].astype(\"category\")"
   ]
  },
  {
   "cell_type": "code",
   "execution_count": 53,
   "id": "operational-republic",
   "metadata": {
    "tags": []
   },
   "outputs": [
    {
     "data": {
      "text/plain": [
       "gender               category\n",
       "maritalstatus        category\n",
       "weeklyhrscomputer    category\n",
       "weeklyhrstv          category\n",
       "highestdegree        category\n",
       "govprovidejobs       category\n",
       "govpricecontrols     category\n",
       "dtype: object"
      ]
     },
     "execution_count": 53,
     "metadata": {},
     "output_type": "execute_result"
    }
   ],
   "source": [
    "nls97abb[category_columns].dtypes"
   ]
  },
  {
   "cell_type": "markdown",
   "id": "a6a779e0-c104-4e66-a583-f16cd9f4dbe5",
   "metadata": {},
   "source": [
    "We then check our category features for missing values."
   ]
  },
  {
   "cell_type": "code",
   "execution_count": 54,
   "id": "useful-slave",
   "metadata": {
    "tags": []
   },
   "outputs": [
    {
     "data": {
      "text/plain": [
       "gender                  0\n",
       "maritalstatus        2312\n",
       "weeklyhrscomputer    2274\n",
       "weeklyhrstv          2273\n",
       "highestdegree          31\n",
       "govprovidejobs       7151\n",
       "govpricecontrols     7125\n",
       "dtype: int64"
      ]
     },
     "execution_count": 54,
     "metadata": {},
     "output_type": "execute_result"
    }
   ],
   "source": [
    "nls97abb[category_columns].isnull().sum()"
   ]
  },
  {
   "cell_type": "markdown",
   "id": "515ce7b0-a873-4a9a-b4f8-3b1a7ab85889",
   "metadata": {},
   "source": [
    "^ There are no missing values for `gender`. But the majority of values for `govprovidejobs` and `govpricecontrols` are missing. Those features are not useful for modeling."
   ]
  },
  {
   "cell_type": "code",
   "execution_count": 57,
   "id": "91837d51-2439-4081-ba3d-56e299479bc8",
   "metadata": {
    "tags": []
   },
   "outputs": [
    {
     "data": {
      "text/html": [
       "<div>\n",
       "<style scoped>\n",
       "    .dataframe tbody tr th:only-of-type {\n",
       "        vertical-align: middle;\n",
       "    }\n",
       "\n",
       "    .dataframe tbody tr th {\n",
       "        vertical-align: top;\n",
       "    }\n",
       "\n",
       "    .dataframe thead th {\n",
       "        text-align: right;\n",
       "    }\n",
       "</style>\n",
       "<table border=\"1\" class=\"dataframe\">\n",
       "  <thead>\n",
       "    <tr style=\"text-align: right;\">\n",
       "      <th></th>\n",
       "      <th>govprovidejobs</th>\n",
       "      <th>govpricecontrols</th>\n",
       "    </tr>\n",
       "  </thead>\n",
       "  <tbody>\n",
       "    <tr>\n",
       "      <th>1. Definitely</th>\n",
       "      <td>0.247681</td>\n",
       "      <td>0.541689</td>\n",
       "    </tr>\n",
       "    <tr>\n",
       "      <th>2. Probably</th>\n",
       "      <td>0.336607</td>\n",
       "      <td>0.334051</td>\n",
       "    </tr>\n",
       "    <tr>\n",
       "      <th>3. Probably not</th>\n",
       "      <td>0.252046</td>\n",
       "      <td>0.086606</td>\n",
       "    </tr>\n",
       "    <tr>\n",
       "      <th>4. Definitely not</th>\n",
       "      <td>0.163666</td>\n",
       "      <td>0.037655</td>\n",
       "    </tr>\n",
       "  </tbody>\n",
       "</table>\n",
       "</div>"
      ],
      "text/plain": [
       "                   govprovidejobs  govpricecontrols\n",
       "1. Definitely            0.247681          0.541689\n",
       "2. Probably              0.336607          0.334051\n",
       "3. Probably not          0.252046          0.086606\n",
       "4. Definitely not        0.163666          0.037655"
      ]
     },
     "execution_count": 57,
     "metadata": {},
     "output_type": "execute_result"
    }
   ],
   "source": [
    "nls97abb.filter(like=\"gov\").apply(pd.value_counts, normalize=True)"
   ]
  },
  {
   "cell_type": "code",
   "execution_count": 26,
   "id": "confident-airline",
   "metadata": {},
   "outputs": [
    {
     "data": {
      "text/html": [
       "<div>\n",
       "<style scoped>\n",
       "    .dataframe tbody tr th:only-of-type {\n",
       "        vertical-align: middle;\n",
       "    }\n",
       "\n",
       "    .dataframe tbody tr th {\n",
       "        vertical-align: top;\n",
       "    }\n",
       "\n",
       "    .dataframe thead th {\n",
       "        text-align: right;\n",
       "    }\n",
       "</style>\n",
       "<table border=\"1\" class=\"dataframe\">\n",
       "  <thead>\n",
       "    <tr style=\"text-align: right;\">\n",
       "      <th></th>\n",
       "      <th>govprovidejobs</th>\n",
       "      <th>govpricecontrols</th>\n",
       "    </tr>\n",
       "  </thead>\n",
       "  <tbody>\n",
       "    <tr>\n",
       "      <th>1. Definitely</th>\n",
       "      <td>0.173315</td>\n",
       "      <td>0.459864</td>\n",
       "    </tr>\n",
       "    <tr>\n",
       "      <th>2. Probably</th>\n",
       "      <td>0.328748</td>\n",
       "      <td>0.380952</td>\n",
       "    </tr>\n",
       "    <tr>\n",
       "      <th>3. Probably not</th>\n",
       "      <td>0.314993</td>\n",
       "      <td>0.112925</td>\n",
       "    </tr>\n",
       "    <tr>\n",
       "      <th>4. Definitely not</th>\n",
       "      <td>0.182944</td>\n",
       "      <td>0.046259</td>\n",
       "    </tr>\n",
       "  </tbody>\n",
       "</table>\n",
       "</div>"
      ],
      "text/plain": [
       "                   govprovidejobs  govpricecontrols\n",
       "1. Definitely            0.173315          0.459864\n",
       "2. Probably              0.328748          0.380952\n",
       "3. Probably not          0.314993          0.112925\n",
       "4. Definitely not        0.182944          0.046259"
      ]
     },
     "execution_count": 26,
     "metadata": {},
     "output_type": "execute_result"
    }
   ],
   "source": [
    "# To filter columns by pattern `like`\n",
    "nls97abb.loc[nls97abb.maritalstatus == \"Married\"].filter(like=\"gov\").apply(\n",
    "    pd.value_counts, normalize=True\n",
    ")"
   ]
  },
  {
   "cell_type": "code",
   "execution_count": 27,
   "id": "continent-venice",
   "metadata": {},
   "outputs": [
    {
     "data": {
      "text/html": [
       "<div>\n",
       "<style scoped>\n",
       "    .dataframe tbody tr th:only-of-type {\n",
       "        vertical-align: middle;\n",
       "    }\n",
       "\n",
       "    .dataframe tbody tr th {\n",
       "        vertical-align: top;\n",
       "    }\n",
       "\n",
       "    .dataframe thead th {\n",
       "        text-align: right;\n",
       "    }\n",
       "</style>\n",
       "<table border=\"1\" class=\"dataframe\">\n",
       "  <thead>\n",
       "    <tr style=\"text-align: right;\">\n",
       "      <th></th>\n",
       "      <th>govprovidejobs</th>\n",
       "      <th>govpricecontrols</th>\n",
       "    </tr>\n",
       "  </thead>\n",
       "  <tbody>\n",
       "    <tr>\n",
       "      <th>1. Definitely</th>\n",
       "      <td>0.173315</td>\n",
       "      <td>0.459864</td>\n",
       "    </tr>\n",
       "    <tr>\n",
       "      <th>2. Probably</th>\n",
       "      <td>0.328748</td>\n",
       "      <td>0.380952</td>\n",
       "    </tr>\n",
       "    <tr>\n",
       "      <th>3. Probably not</th>\n",
       "      <td>0.314993</td>\n",
       "      <td>0.112925</td>\n",
       "    </tr>\n",
       "    <tr>\n",
       "      <th>4. Definitely not</th>\n",
       "      <td>0.182944</td>\n",
       "      <td>0.046259</td>\n",
       "    </tr>\n",
       "  </tbody>\n",
       "</table>\n",
       "</div>"
      ],
      "text/plain": [
       "                   govprovidejobs  govpricecontrols\n",
       "1. Definitely            0.173315          0.459864\n",
       "2. Probably              0.328748          0.380952\n",
       "3. Probably not          0.314993          0.112925\n",
       "4. Definitely not        0.182944          0.046259"
      ]
     },
     "execution_count": 27,
     "metadata": {},
     "output_type": "execute_result"
    }
   ],
   "source": [
    "# Filter the columns directly.\n",
    "nls97abb.loc[\n",
    "    nls97abb.maritalstatus == \"Married\", [\"govprovidejobs\", \"govpricecontrols\"]\n",
    "].apply(pd.value_counts, normalize=True)"
   ]
  },
  {
   "cell_type": "code",
   "execution_count": 28,
   "id": "sought-ecology",
   "metadata": {},
   "outputs": [],
   "source": [
    "# 95 is used as the missing value, hence we replace it with NaN.\n",
    "nls97abb.highestgradecompleted.replace(95, np.nan, inplace=True)"
   ]
  },
  {
   "cell_type": "code",
   "execution_count": 58,
   "id": "destroyed-ireland",
   "metadata": {},
   "outputs": [],
   "source": [
    "# Create a dichotomous feature.\n",
    "nls97abb[\"highschoolgrad\"] = np.where(\n",
    "    nls97abb.highestgradecompleted.isnull(),\n",
    "    np.nan,\n",
    "    np.where(nls97abb.highestgradecompleted < 12, 0, 1),\n",
    ")"
   ]
  },
  {
   "cell_type": "code",
   "execution_count": 59,
   "id": "cosmetic-austria",
   "metadata": {
    "tags": []
   },
   "outputs": [
    {
     "data": {
      "text/html": [
       "<div>\n",
       "<style scoped>\n",
       "    .dataframe tbody tr th:only-of-type {\n",
       "        vertical-align: middle;\n",
       "    }\n",
       "\n",
       "    .dataframe tbody tr th {\n",
       "        vertical-align: top;\n",
       "    }\n",
       "\n",
       "    .dataframe thead th {\n",
       "        text-align: right;\n",
       "    }\n",
       "</style>\n",
       "<table border=\"1\" class=\"dataframe\">\n",
       "  <thead>\n",
       "    <tr style=\"text-align: right;\">\n",
       "      <th></th>\n",
       "      <th>min</th>\n",
       "      <th>max</th>\n",
       "      <th>size</th>\n",
       "    </tr>\n",
       "    <tr>\n",
       "      <th>highschoolgrad</th>\n",
       "      <th></th>\n",
       "      <th></th>\n",
       "      <th></th>\n",
       "    </tr>\n",
       "  </thead>\n",
       "  <tbody>\n",
       "    <tr>\n",
       "      <th>0.0</th>\n",
       "      <td>5.0</td>\n",
       "      <td>11.0</td>\n",
       "      <td>1231</td>\n",
       "    </tr>\n",
       "    <tr>\n",
       "      <th>1.0</th>\n",
       "      <td>12.0</td>\n",
       "      <td>95.0</td>\n",
       "      <td>5432</td>\n",
       "    </tr>\n",
       "    <tr>\n",
       "      <th>NaN</th>\n",
       "      <td>NaN</td>\n",
       "      <td>NaN</td>\n",
       "      <td>2321</td>\n",
       "    </tr>\n",
       "  </tbody>\n",
       "</table>\n",
       "</div>"
      ],
      "text/plain": [
       "                 min   max  size\n",
       "highschoolgrad                  \n",
       "0.0              5.0  11.0  1231\n",
       "1.0             12.0  95.0  5432\n",
       "NaN              NaN   NaN  2321"
      ]
     },
     "execution_count": 59,
     "metadata": {},
     "output_type": "execute_result"
    }
   ],
   "source": [
    "# The highschoolgrad is pretty imbalanced.\n",
    "nls97abb.groupby([\"highschoolgrad\"], dropna=False)[\"highestgradecompleted\"].agg(\n",
    "    [\"min\", \"max\", \"size\"]\n",
    ")"
   ]
  },
  {
   "cell_type": "markdown",
   "id": "63384a69-0650-488c-ba93-2869021e2095",
   "metadata": {
    "tags": []
   },
   "source": [
    "We should explore using more groups to represent `highestgradecompleted`. We use pandas `qcut` with `q` set to 6 to create six groups that are as evenly distributed as possible."
   ]
  },
  {
   "cell_type": "code",
   "execution_count": 63,
   "id": "beginning-korean",
   "metadata": {
    "tags": []
   },
   "outputs": [
    {
     "data": {
      "text/html": [
       "<div>\n",
       "<style scoped>\n",
       "    .dataframe tbody tr th:only-of-type {\n",
       "        vertical-align: middle;\n",
       "    }\n",
       "\n",
       "    .dataframe tbody tr th {\n",
       "        vertical-align: top;\n",
       "    }\n",
       "\n",
       "    .dataframe thead th {\n",
       "        text-align: right;\n",
       "    }\n",
       "</style>\n",
       "<table border=\"1\" class=\"dataframe\">\n",
       "  <thead>\n",
       "    <tr style=\"text-align: right;\">\n",
       "      <th></th>\n",
       "      <th>min</th>\n",
       "      <th>max</th>\n",
       "      <th>size</th>\n",
       "    </tr>\n",
       "    <tr>\n",
       "      <th>highgradegroup</th>\n",
       "      <th></th>\n",
       "      <th></th>\n",
       "      <th></th>\n",
       "    </tr>\n",
       "  </thead>\n",
       "  <tbody>\n",
       "    <tr>\n",
       "      <th>1</th>\n",
       "      <td>5.0</td>\n",
       "      <td>11.0</td>\n",
       "      <td>1231</td>\n",
       "    </tr>\n",
       "    <tr>\n",
       "      <th>2</th>\n",
       "      <td>12.0</td>\n",
       "      <td>12.0</td>\n",
       "      <td>1389</td>\n",
       "    </tr>\n",
       "    <tr>\n",
       "      <th>3</th>\n",
       "      <td>13.0</td>\n",
       "      <td>14.0</td>\n",
       "      <td>1288</td>\n",
       "    </tr>\n",
       "    <tr>\n",
       "      <th>4</th>\n",
       "      <td>15.0</td>\n",
       "      <td>16.0</td>\n",
       "      <td>1413</td>\n",
       "    </tr>\n",
       "    <tr>\n",
       "      <th>5</th>\n",
       "      <td>17.0</td>\n",
       "      <td>17.0</td>\n",
       "      <td>388</td>\n",
       "    </tr>\n",
       "    <tr>\n",
       "      <th>6</th>\n",
       "      <td>18.0</td>\n",
       "      <td>95.0</td>\n",
       "      <td>954</td>\n",
       "    </tr>\n",
       "  </tbody>\n",
       "</table>\n",
       "</div>"
      ],
      "text/plain": [
       "                 min   max  size\n",
       "highgradegroup                  \n",
       "1                5.0  11.0  1231\n",
       "2               12.0  12.0  1389\n",
       "3               13.0  14.0  1288\n",
       "4               15.0  16.0  1413\n",
       "5               17.0  17.0   388\n",
       "6               18.0  95.0   954"
      ]
     },
     "execution_count": 63,
     "metadata": {},
     "output_type": "execute_result"
    }
   ],
   "source": [
    "nls97abb[\"highgradegroup\"] = pd.qcut(\n",
    "    nls97abb[\"highestgradecompleted\"], q=6, labels=[1, 2, 3, 4, 5, 6]\n",
    ")\n",
    "nls97abb.groupby([\"highgradegroup\"])[\"highestgradecompleted\"].agg(\n",
    "    [\"min\", \"max\", \"size\"]\n",
    ")"
   ]
  },
  {
   "cell_type": "code",
   "execution_count": 65,
   "id": "after-event",
   "metadata": {},
   "outputs": [],
   "source": [
    "nls97abb[\"highgradegroup\"] = nls97abb[\"highgradegroup\"].astype(\"category\")"
   ]
  },
  {
   "cell_type": "markdown",
   "id": "dd06dc25-6575-4047-8b74-70bdec9f8316",
   "metadata": {},
   "source": [
    "Generate frequencies for all categorical features."
   ]
  },
  {
   "cell_type": "code",
   "execution_count": 71,
   "id": "6bbe5a73-b2f6-4de6-a9c5-e87a5e962fa1",
   "metadata": {
    "tags": []
   },
   "outputs": [
    {
     "name": "stdout",
     "output_type": "stream",
     "text": [
      "-------------------------------------\n",
      "Female    4385\n",
      "Male      4599\n",
      "Name: gender, dtype: int64\n",
      "-------------------------------------\n",
      "Divorced          663\n",
      "Married          3066\n",
      "Never-married    2766\n",
      "Separated         154\n",
      "Widowed            23\n",
      "NaN              2312\n",
      "Name: maritalstatus, dtype: int64\n",
      "-------------------------------------\n",
      "1 to 3 hours a week         733\n",
      "10 hours or more a week    3669\n",
      "4 to 6 hours a week         726\n",
      "7 to 9 hours a week         368\n",
      "Less than 1 hour a week     296\n",
      "None                        918\n",
      "NaN                        2274\n",
      "Name: weeklyhrscomputer, dtype: int64\n",
      "-------------------------------------\n",
      "11 to 20 hours a week         1145\n",
      "21 to 30 hours a week          299\n",
      "3 to 10 hours a week          3625\n",
      "31 to 40 hours a week          116\n",
      "Less than 2 hours per week    1350\n",
      "More than 40 hours a week      176\n",
      "NaN                           2273\n",
      "Name: weeklyhrstv, dtype: int64\n",
      "-------------------------------------\n",
      "0. None             953\n",
      "1. GED             1146\n",
      "2. High School     3667\n",
      "3. Associates       737\n",
      "4. Bachelors       1673\n",
      "5. Masters          603\n",
      "6. PhD               54\n",
      "7. Professional     120\n",
      "NaN                  31\n",
      "Name: highestdegree, dtype: int64\n",
      "-------------------------------------\n",
      "1. Definitely         454\n",
      "2. Probably           617\n",
      "3. Probably not       462\n",
      "4. Definitely not     300\n",
      "NaN                  7151\n",
      "Name: govprovidejobs, dtype: int64\n",
      "-------------------------------------\n",
      "NaN                  7125\n",
      "1. Definitely        1007\n",
      "2. Probably           621\n",
      "3. Probably not       161\n",
      "4. Definitely not      70\n",
      "Name: govpricecontrols, dtype: int64\n",
      "-------------------------------------\n",
      "1      1231\n",
      "2      1389\n",
      "3      1288\n",
      "4      1413\n",
      "5       388\n",
      "6       954\n",
      "NaN    2321\n",
      "Name: highgradegroup, dtype: int64\n"
     ]
    }
   ],
   "source": [
    "for col in nls97abb.select_dtypes(include=[\"category\"]):\n",
    "    print(\"-------------------------------------\")\n",
    "    print(nls97abb[col].value_counts(dropna=False).sort_index())"
   ]
  },
  {
   "cell_type": "markdown",
   "id": "1211de71-84e1-4a45-9878-14fc3846a44b",
   "metadata": {},
   "source": [
    "### Summary\n",
    "\n",
    "- generate one-way frequencies for the categorical features in your data\n",
    "- convert data type from `object` to `category`\n",
    "- use `values_counts(dropna=False)` to understand the distribution of data"
   ]
  },
  {
   "cell_type": "markdown",
   "id": "other-wales",
   "metadata": {},
   "source": [
    "## Generating summary statistics for continuous and discrete features\n",
    "\n",
    "- continuous feature can take an infinite number of values (e.g. a person's weight)\n",
    "- discrete features have a finite number of values (e.g. number of birds sighted, or the number of apples purchased)\n",
    "- discrete feauture is typically something that can be counted, while a continuous feature is usually captured by measurement, weighing and timekeeping\n",
    "\n",
    "To understand how continuous feature (or discrete feature) is distributed, we examine the following:\n",
    "- central tendency (mean and median)\n",
    "- shape (skewness and kurtosis)\n",
    "- spread (range, interquartile range, variance and standard deviation)"
   ]
  },
  {
   "cell_type": "code",
   "execution_count": 108,
   "id": "boolean-prevention",
   "metadata": {
    "tags": []
   },
   "outputs": [
    {
     "data": {
      "text/plain": [
       "(221, 16)"
      ]
     },
     "execution_count": 108,
     "metadata": {},
     "output_type": "execute_result"
    }
   ],
   "source": [
    "import numpy as np\n",
    "import pandas as pd\n",
    "import scipy.stats as scistat\n",
    "\n",
    "covid_totals = pd.read_csv(\"./data/covidtotals.csv\", parse_dates=[\"lastdate\"])\n",
    "covid_totals.set_index(\"iso_code\", inplace=True)  # iso_code is unique per row.\n",
    "covid_totals.shape"
   ]
  },
  {
   "cell_type": "code",
   "execution_count": 109,
   "id": "metropolitan-strength",
   "metadata": {
    "tags": []
   },
   "outputs": [
    {
     "data": {
      "text/plain": [
       "Index(['AFG', 'ALB', 'DZA', 'AND', 'AGO', 'AIA', 'ATG', 'ARG', 'ARM', 'ABW',\n",
       "       ...\n",
       "       'URY', 'UZB', 'VUT', 'VAT', 'VEN', 'VNM', 'WLF', 'YEM', 'ZMB', 'ZWE'],\n",
       "      dtype='object', name='iso_code', length=221)"
      ]
     },
     "execution_count": 109,
     "metadata": {},
     "output_type": "execute_result"
    }
   ],
   "source": [
    "covid_totals.index.unique()"
   ]
  },
  {
   "cell_type": "code",
   "execution_count": 82,
   "id": "administrative-browser",
   "metadata": {
    "tags": []
   },
   "outputs": [
    {
     "data": {
      "text/html": [
       "<div>\n",
       "<style scoped>\n",
       "    .dataframe tbody tr th:only-of-type {\n",
       "        vertical-align: middle;\n",
       "    }\n",
       "\n",
       "    .dataframe tbody tr th {\n",
       "        vertical-align: top;\n",
       "    }\n",
       "\n",
       "    .dataframe thead th {\n",
       "        text-align: right;\n",
       "    }\n",
       "</style>\n",
       "<table border=\"1\" class=\"dataframe\">\n",
       "  <thead>\n",
       "    <tr style=\"text-align: right;\">\n",
       "      <th>iso_code</th>\n",
       "      <th>ISL</th>\n",
       "      <th>CZE</th>\n",
       "    </tr>\n",
       "  </thead>\n",
       "  <tbody>\n",
       "    <tr>\n",
       "      <th>lastdate</th>\n",
       "      <td>2021-07-07 00:00:00</td>\n",
       "      <td>2021-07-07 00:00:00</td>\n",
       "    </tr>\n",
       "    <tr>\n",
       "      <th>location</th>\n",
       "      <td>Iceland</td>\n",
       "      <td>Czechia</td>\n",
       "    </tr>\n",
       "    <tr>\n",
       "      <th>total_cases</th>\n",
       "      <td>6555.0</td>\n",
       "      <td>1668277.0</td>\n",
       "    </tr>\n",
       "    <tr>\n",
       "      <th>total_deaths</th>\n",
       "      <td>29.0</td>\n",
       "      <td>30311.0</td>\n",
       "    </tr>\n",
       "    <tr>\n",
       "      <th>total_cases_mill</th>\n",
       "      <td>19208.791</td>\n",
       "      <td>155782.968</td>\n",
       "    </tr>\n",
       "    <tr>\n",
       "      <th>total_deaths_mill</th>\n",
       "      <td>84.982</td>\n",
       "      <td>2830.428</td>\n",
       "    </tr>\n",
       "    <tr>\n",
       "      <th>population</th>\n",
       "      <td>341250.0</td>\n",
       "      <td>10708982.0</td>\n",
       "    </tr>\n",
       "    <tr>\n",
       "      <th>population_density</th>\n",
       "      <td>3.404</td>\n",
       "      <td>137.176</td>\n",
       "    </tr>\n",
       "    <tr>\n",
       "      <th>median_age</th>\n",
       "      <td>37.3</td>\n",
       "      <td>43.3</td>\n",
       "    </tr>\n",
       "    <tr>\n",
       "      <th>gdp_per_capita</th>\n",
       "      <td>46482.958</td>\n",
       "      <td>32605.906</td>\n",
       "    </tr>\n",
       "    <tr>\n",
       "      <th>aged_65_older</th>\n",
       "      <td>14.431</td>\n",
       "      <td>19.027</td>\n",
       "    </tr>\n",
       "    <tr>\n",
       "      <th>total_tests_thous</th>\n",
       "      <td>NaN</td>\n",
       "      <td>NaN</td>\n",
       "    </tr>\n",
       "    <tr>\n",
       "      <th>life_expectancy</th>\n",
       "      <td>82.99</td>\n",
       "      <td>79.38</td>\n",
       "    </tr>\n",
       "    <tr>\n",
       "      <th>hospital_beds_thous</th>\n",
       "      <td>2.91</td>\n",
       "      <td>6.63</td>\n",
       "    </tr>\n",
       "    <tr>\n",
       "      <th>diabetes_prevalence</th>\n",
       "      <td>5.31</td>\n",
       "      <td>6.82</td>\n",
       "    </tr>\n",
       "    <tr>\n",
       "      <th>region</th>\n",
       "      <td>Western Europe</td>\n",
       "      <td>Western Europe</td>\n",
       "    </tr>\n",
       "  </tbody>\n",
       "</table>\n",
       "</div>"
      ],
      "text/plain": [
       "iso_code                             ISL                  CZE\n",
       "lastdate             2021-07-07 00:00:00  2021-07-07 00:00:00\n",
       "location                         Iceland              Czechia\n",
       "total_cases                       6555.0            1668277.0\n",
       "total_deaths                        29.0              30311.0\n",
       "total_cases_mill               19208.791           155782.968\n",
       "total_deaths_mill                 84.982             2830.428\n",
       "population                      341250.0           10708982.0\n",
       "population_density                 3.404              137.176\n",
       "median_age                          37.3                 43.3\n",
       "gdp_per_capita                 46482.958            32605.906\n",
       "aged_65_older                     14.431               19.027\n",
       "total_tests_thous                    NaN                  NaN\n",
       "life_expectancy                    82.99                79.38\n",
       "hospital_beds_thous                 2.91                 6.63\n",
       "diabetes_prevalence                 5.31                 6.82\n",
       "region                    Western Europe       Western Europe"
      ]
     },
     "execution_count": 82,
     "metadata": {},
     "output_type": "execute_result"
    }
   ],
   "source": [
    "covid_totals.sample(2, random_state=6).T"
   ]
  },
  {
   "cell_type": "code",
   "execution_count": 89,
   "id": "scientific-patent",
   "metadata": {
    "tags": []
   },
   "outputs": [
    {
     "name": "stdout",
     "output_type": "stream",
     "text": [
      "<class 'pandas.core.frame.DataFrame'>\n",
      "Index: 221 entries, AFG to ZWE\n",
      "Data columns (total 16 columns):\n",
      " #   Column               Non-Null Count  Dtype         \n",
      "---  ------               --------------  -----         \n",
      " 0   lastdate             221 non-null    datetime64[ns]\n",
      " 1   location             221 non-null    object        \n",
      " 2   total_cases          192 non-null    float64       \n",
      " 3   total_deaths         185 non-null    float64       \n",
      " 4   total_cases_mill     192 non-null    float64       \n",
      " 5   total_deaths_mill    185 non-null    float64       \n",
      " 6   population           221 non-null    float64       \n",
      " 7   population_density   206 non-null    float64       \n",
      " 8   median_age           190 non-null    float64       \n",
      " 9   gdp_per_capita       193 non-null    float64       \n",
      " 10  aged_65_older        188 non-null    float64       \n",
      " 11  total_tests_thous    13 non-null     float64       \n",
      " 12  life_expectancy      217 non-null    float64       \n",
      " 13  hospital_beds_thous  170 non-null    float64       \n",
      " 14  diabetes_prevalence  200 non-null    float64       \n",
      " 15  region               221 non-null    object        \n",
      "dtypes: datetime64[ns](1), float64(13), object(2)\n",
      "memory usage: 37.5+ KB\n"
     ]
    }
   ],
   "source": [
    "covid_totals.info()"
   ]
  },
  {
   "cell_type": "markdown",
   "id": "5aca7455-0c03-47ba-a3da-f853545f1fd7",
   "metadata": {},
   "source": [
    "^ Look at the data types and the number of non-null values for each column. Almost all the columns are continuous or discrete."
   ]
  },
  {
   "cell_type": "code",
   "execution_count": 124,
   "id": "a5c90a92-8398-4d23-b045-18b4817a053d",
   "metadata": {
    "tags": []
   },
   "outputs": [
    {
     "data": {
      "text/html": [
       "<div>\n",
       "<style scoped>\n",
       "    .dataframe tbody tr th:only-of-type {\n",
       "        vertical-align: middle;\n",
       "    }\n",
       "\n",
       "    .dataframe tbody tr th {\n",
       "        vertical-align: top;\n",
       "    }\n",
       "\n",
       "    .dataframe thead th {\n",
       "        text-align: right;\n",
       "    }\n",
       "</style>\n",
       "<table border=\"1\" class=\"dataframe\">\n",
       "  <thead>\n",
       "    <tr style=\"text-align: right;\">\n",
       "      <th></th>\n",
       "      <th>count</th>\n",
       "      <th>mean</th>\n",
       "      <th>std</th>\n",
       "      <th>min</th>\n",
       "      <th>25%</th>\n",
       "      <th>50%</th>\n",
       "      <th>75%</th>\n",
       "      <th>max</th>\n",
       "    </tr>\n",
       "  </thead>\n",
       "  <tbody>\n",
       "    <tr>\n",
       "      <th>total_cases</th>\n",
       "      <td>192</td>\n",
       "      <td>963933</td>\n",
       "      <td>3652892</td>\n",
       "      <td>1</td>\n",
       "      <td>13489</td>\n",
       "      <td>110929</td>\n",
       "      <td>437022</td>\n",
       "      <td>33770444</td>\n",
       "    </tr>\n",
       "    <tr>\n",
       "      <th>total_deaths</th>\n",
       "      <td>185</td>\n",
       "      <td>21631</td>\n",
       "      <td>72076</td>\n",
       "      <td>1</td>\n",
       "      <td>212</td>\n",
       "      <td>2012</td>\n",
       "      <td>9341</td>\n",
       "      <td>606218</td>\n",
       "    </tr>\n",
       "    <tr>\n",
       "      <th>total_cases_mill</th>\n",
       "      <td>192</td>\n",
       "      <td>36649</td>\n",
       "      <td>41404</td>\n",
       "      <td>9</td>\n",
       "      <td>2500</td>\n",
       "      <td>19526</td>\n",
       "      <td>64835</td>\n",
       "      <td>181466</td>\n",
       "    </tr>\n",
       "    <tr>\n",
       "      <th>total_deaths_mill</th>\n",
       "      <td>185</td>\n",
       "      <td>683</td>\n",
       "      <td>862</td>\n",
       "      <td>0</td>\n",
       "      <td>44</td>\n",
       "      <td>293</td>\n",
       "      <td>1088</td>\n",
       "      <td>5876</td>\n",
       "    </tr>\n",
       "    <tr>\n",
       "      <th>population</th>\n",
       "      <td>221</td>\n",
       "      <td>35134957</td>\n",
       "      <td>139131595</td>\n",
       "      <td>47</td>\n",
       "      <td>628062</td>\n",
       "      <td>6486201</td>\n",
       "      <td>23816775</td>\n",
       "      <td>1439323774</td>\n",
       "    </tr>\n",
       "    <tr>\n",
       "      <th>population_density</th>\n",
       "      <td>206</td>\n",
       "      <td>453</td>\n",
       "      <td>2094</td>\n",
       "      <td>0</td>\n",
       "      <td>37</td>\n",
       "      <td>87</td>\n",
       "      <td>214</td>\n",
       "      <td>20547</td>\n",
       "    </tr>\n",
       "    <tr>\n",
       "      <th>median_age</th>\n",
       "      <td>190</td>\n",
       "      <td>30</td>\n",
       "      <td>9</td>\n",
       "      <td>15</td>\n",
       "      <td>22</td>\n",
       "      <td>30</td>\n",
       "      <td>39</td>\n",
       "      <td>48</td>\n",
       "    </tr>\n",
       "    <tr>\n",
       "      <th>gdp_per_capita</th>\n",
       "      <td>193</td>\n",
       "      <td>19141</td>\n",
       "      <td>20488</td>\n",
       "      <td>661</td>\n",
       "      <td>3823</td>\n",
       "      <td>12237</td>\n",
       "      <td>27216</td>\n",
       "      <td>116936</td>\n",
       "    </tr>\n",
       "    <tr>\n",
       "      <th>aged_65_older</th>\n",
       "      <td>188</td>\n",
       "      <td>9</td>\n",
       "      <td>6</td>\n",
       "      <td>1</td>\n",
       "      <td>3</td>\n",
       "      <td>6</td>\n",
       "      <td>14</td>\n",
       "      <td>27</td>\n",
       "    </tr>\n",
       "    <tr>\n",
       "      <th>total_tests_thous</th>\n",
       "      <td>13</td>\n",
       "      <td>535</td>\n",
       "      <td>770</td>\n",
       "      <td>67</td>\n",
       "      <td>171</td>\n",
       "      <td>392</td>\n",
       "      <td>471</td>\n",
       "      <td>3005</td>\n",
       "    </tr>\n",
       "    <tr>\n",
       "      <th>life_expectancy</th>\n",
       "      <td>217</td>\n",
       "      <td>73</td>\n",
       "      <td>7</td>\n",
       "      <td>53</td>\n",
       "      <td>68</td>\n",
       "      <td>75</td>\n",
       "      <td>79</td>\n",
       "      <td>87</td>\n",
       "    </tr>\n",
       "    <tr>\n",
       "      <th>hospital_beds_thous</th>\n",
       "      <td>170</td>\n",
       "      <td>3</td>\n",
       "      <td>2</td>\n",
       "      <td>0</td>\n",
       "      <td>1</td>\n",
       "      <td>2</td>\n",
       "      <td>4</td>\n",
       "      <td>14</td>\n",
       "    </tr>\n",
       "    <tr>\n",
       "      <th>diabetes_prevalence</th>\n",
       "      <td>200</td>\n",
       "      <td>8</td>\n",
       "      <td>5</td>\n",
       "      <td>1</td>\n",
       "      <td>5</td>\n",
       "      <td>7</td>\n",
       "      <td>11</td>\n",
       "      <td>31</td>\n",
       "    </tr>\n",
       "  </tbody>\n",
       "</table>\n",
       "</div>"
      ],
      "text/plain": [
       "                    count      mean        std  min     25%      50%  \\\n",
       "total_cases           192    963933    3652892    1   13489   110929   \n",
       "total_deaths          185     21631      72076    1     212     2012   \n",
       "total_cases_mill      192     36649      41404    9    2500    19526   \n",
       "total_deaths_mill     185       683        862    0      44      293   \n",
       "population            221  35134957  139131595   47  628062  6486201   \n",
       "population_density    206       453       2094    0      37       87   \n",
       "median_age            190        30          9   15      22       30   \n",
       "gdp_per_capita        193     19141      20488  661    3823    12237   \n",
       "aged_65_older         188         9          6    1       3        6   \n",
       "total_tests_thous      13       535        770   67     171      392   \n",
       "life_expectancy       217        73          7   53      68       75   \n",
       "hospital_beds_thous   170         3          2    0       1        2   \n",
       "diabetes_prevalence   200         8          5    1       5        7   \n",
       "\n",
       "                          75%         max  \n",
       "total_cases            437022    33770444  \n",
       "total_deaths             9341      606218  \n",
       "total_cases_mill        64835      181466  \n",
       "total_deaths_mill        1088        5876  \n",
       "population           23816775  1439323774  \n",
       "population_density        214       20547  \n",
       "median_age                 39          48  \n",
       "gdp_per_capita          27216      116936  \n",
       "aged_65_older              14          27  \n",
       "total_tests_thous         471        3005  \n",
       "life_expectancy            79          87  \n",
       "hospital_beds_thous         4          14  \n",
       "diabetes_prevalence        11          31  "
      ]
     },
     "execution_count": 124,
     "metadata": {},
     "output_type": "execute_result"
    }
   ],
   "source": [
    "# Round and display full values instead of scientific notation.\n",
    "covid_totals.describe().applymap(\"{:.0f}\".format).T"
   ]
  },
  {
   "cell_type": "markdown",
   "id": "a0141053-8377-4a9c-a052-03b96c7355c9",
   "metadata": {},
   "source": [
    "^ The mean and median (50%) are good indicators of the center of the distribution. There are substancial differences between the mean and median, as an indication of skewness. \n",
    "\n",
    "For example, we can see that the mean `total_cases_mill` is almost twice the median (36.6 thousand versus 19.5 thousand). This is a clear indicator of _positive skew_.\n",
    "\n",
    "The interquartile range is also quite large for cases and deaths with the 75th percentile value being about 25 times larger than the 25th percentile value in both cases."
   ]
  },
  {
   "cell_type": "code",
   "execution_count": 95,
   "id": "double-philippines",
   "metadata": {
    "tags": []
   },
   "outputs": [
    {
     "data": {
      "text/html": [
       "<div>\n",
       "<style scoped>\n",
       "    .dataframe tbody tr th:only-of-type {\n",
       "        vertical-align: middle;\n",
       "    }\n",
       "\n",
       "    .dataframe tbody tr th {\n",
       "        vertical-align: top;\n",
       "    }\n",
       "\n",
       "    .dataframe thead th {\n",
       "        text-align: right;\n",
       "    }\n",
       "</style>\n",
       "<table border=\"1\" class=\"dataframe\">\n",
       "  <thead>\n",
       "    <tr style=\"text-align: right;\">\n",
       "      <th></th>\n",
       "      <th>total_cases_mill</th>\n",
       "      <th>total_deaths_mill</th>\n",
       "      <th>aged_65_older</th>\n",
       "      <th>diabetes_prevalence</th>\n",
       "    </tr>\n",
       "  </thead>\n",
       "  <tbody>\n",
       "    <tr>\n",
       "      <th>count</th>\n",
       "      <td>192.000000</td>\n",
       "      <td>185.000000</td>\n",
       "      <td>188.000000</td>\n",
       "      <td>200.000000</td>\n",
       "    </tr>\n",
       "    <tr>\n",
       "      <th>mean</th>\n",
       "      <td>36649.371823</td>\n",
       "      <td>683.136995</td>\n",
       "      <td>8.606995</td>\n",
       "      <td>8.442500</td>\n",
       "    </tr>\n",
       "    <tr>\n",
       "      <th>std</th>\n",
       "      <td>41403.975473</td>\n",
       "      <td>861.729323</td>\n",
       "      <td>6.122553</td>\n",
       "      <td>4.886392</td>\n",
       "    </tr>\n",
       "    <tr>\n",
       "      <th>min</th>\n",
       "      <td>8.521000</td>\n",
       "      <td>0.352000</td>\n",
       "      <td>1.144000</td>\n",
       "      <td>0.990000</td>\n",
       "    </tr>\n",
       "    <tr>\n",
       "      <th>25%</th>\n",
       "      <td>2499.746000</td>\n",
       "      <td>43.987000</td>\n",
       "      <td>3.496750</td>\n",
       "      <td>5.340000</td>\n",
       "    </tr>\n",
       "    <tr>\n",
       "      <th>50%</th>\n",
       "      <td>19525.726500</td>\n",
       "      <td>293.498000</td>\n",
       "      <td>6.217500</td>\n",
       "      <td>7.200000</td>\n",
       "    </tr>\n",
       "    <tr>\n",
       "      <th>75%</th>\n",
       "      <td>64834.619750</td>\n",
       "      <td>1087.893000</td>\n",
       "      <td>13.917500</td>\n",
       "      <td>10.612500</td>\n",
       "    </tr>\n",
       "    <tr>\n",
       "      <th>max</th>\n",
       "      <td>181466.382000</td>\n",
       "      <td>5876.013000</td>\n",
       "      <td>27.049000</td>\n",
       "      <td>30.530000</td>\n",
       "    </tr>\n",
       "  </tbody>\n",
       "</table>\n",
       "</div>"
      ],
      "text/plain": [
       "       total_cases_mill  total_deaths_mill  aged_65_older  diabetes_prevalence\n",
       "count        192.000000         185.000000     188.000000           200.000000\n",
       "mean       36649.371823         683.136995       8.606995             8.442500\n",
       "std        41403.975473         861.729323       6.122553             4.886392\n",
       "min            8.521000           0.352000       1.144000             0.990000\n",
       "25%         2499.746000          43.987000       3.496750             5.340000\n",
       "50%        19525.726500         293.498000       6.217500             7.200000\n",
       "75%        64834.619750        1087.893000      13.917500            10.612500\n",
       "max       181466.382000        5876.013000      27.049000            30.530000"
      ]
     },
     "execution_count": 95,
     "metadata": {},
     "output_type": "execute_result"
    }
   ],
   "source": [
    "key_vars = [\n",
    "    \"location\",\n",
    "    \"total_cases_mill\",\n",
    "    \"total_deaths_mill\",\n",
    "    \"aged_65_older\",\n",
    "    \"diabetes_prevalence\",\n",
    "]\n",
    "\n",
    "covid_keys = covid_totals[key_vars]\n",
    "covid_keys.describe()"
   ]
  },
  {
   "cell_type": "markdown",
   "id": "011e590e-1a2d-4bc9-8878-75cbac452f64",
   "metadata": {},
   "source": [
    "The decile values (0, 10%, 20% ... to 100%) provides a better sense of the distribution."
   ]
  },
  {
   "cell_type": "code",
   "execution_count": 96,
   "id": "normal-dakota",
   "metadata": {
    "tags": []
   },
   "outputs": [
    {
     "data": {
      "text/html": [
       "<div>\n",
       "<style scoped>\n",
       "    .dataframe tbody tr th:only-of-type {\n",
       "        vertical-align: middle;\n",
       "    }\n",
       "\n",
       "    .dataframe tbody tr th {\n",
       "        vertical-align: top;\n",
       "    }\n",
       "\n",
       "    .dataframe thead th {\n",
       "        text-align: right;\n",
       "    }\n",
       "</style>\n",
       "<table border=\"1\" class=\"dataframe\">\n",
       "  <thead>\n",
       "    <tr style=\"text-align: right;\">\n",
       "      <th></th>\n",
       "      <th>total_cases_mill</th>\n",
       "      <th>total_deaths_mill</th>\n",
       "      <th>aged_65_older</th>\n",
       "      <th>diabetes_prevalence</th>\n",
       "    </tr>\n",
       "  </thead>\n",
       "  <tbody>\n",
       "    <tr>\n",
       "      <th>0.0</th>\n",
       "      <td>8.5210</td>\n",
       "      <td>0.3520</td>\n",
       "      <td>1.1440</td>\n",
       "      <td>0.990</td>\n",
       "    </tr>\n",
       "    <tr>\n",
       "      <th>0.1</th>\n",
       "      <td>682.1292</td>\n",
       "      <td>10.6834</td>\n",
       "      <td>2.8007</td>\n",
       "      <td>3.298</td>\n",
       "    </tr>\n",
       "    <tr>\n",
       "      <th>0.2</th>\n",
       "      <td>1717.3932</td>\n",
       "      <td>30.2154</td>\n",
       "      <td>3.1600</td>\n",
       "      <td>4.788</td>\n",
       "    </tr>\n",
       "    <tr>\n",
       "      <th>0.3</th>\n",
       "      <td>3241.8389</td>\n",
       "      <td>66.2710</td>\n",
       "      <td>3.8572</td>\n",
       "      <td>5.741</td>\n",
       "    </tr>\n",
       "    <tr>\n",
       "      <th>0.4</th>\n",
       "      <td>9403.5800</td>\n",
       "      <td>145.0608</td>\n",
       "      <td>4.6856</td>\n",
       "      <td>6.698</td>\n",
       "    </tr>\n",
       "    <tr>\n",
       "      <th>0.5</th>\n",
       "      <td>19525.7265</td>\n",
       "      <td>293.4980</td>\n",
       "      <td>6.2175</td>\n",
       "      <td>7.200</td>\n",
       "    </tr>\n",
       "    <tr>\n",
       "      <th>0.6</th>\n",
       "      <td>33636.4690</td>\n",
       "      <td>556.4328</td>\n",
       "      <td>7.9346</td>\n",
       "      <td>8.318</td>\n",
       "    </tr>\n",
       "    <tr>\n",
       "      <th>0.7</th>\n",
       "      <td>55801.3275</td>\n",
       "      <td>949.7140</td>\n",
       "      <td>11.1869</td>\n",
       "      <td>10.080</td>\n",
       "    </tr>\n",
       "    <tr>\n",
       "      <th>0.8</th>\n",
       "      <td>74017.8108</td>\n",
       "      <td>1333.7872</td>\n",
       "      <td>14.9168</td>\n",
       "      <td>11.620</td>\n",
       "    </tr>\n",
       "    <tr>\n",
       "      <th>0.9</th>\n",
       "      <td>94072.1780</td>\n",
       "      <td>1868.8862</td>\n",
       "      <td>18.8459</td>\n",
       "      <td>13.752</td>\n",
       "    </tr>\n",
       "    <tr>\n",
       "      <th>1.0</th>\n",
       "      <td>181466.3820</td>\n",
       "      <td>5876.0130</td>\n",
       "      <td>27.0490</td>\n",
       "      <td>30.530</td>\n",
       "    </tr>\n",
       "  </tbody>\n",
       "</table>\n",
       "</div>"
      ],
      "text/plain": [
       "     total_cases_mill  total_deaths_mill  aged_65_older  diabetes_prevalence\n",
       "0.0            8.5210             0.3520         1.1440                0.990\n",
       "0.1          682.1292            10.6834         2.8007                3.298\n",
       "0.2         1717.3932            30.2154         3.1600                4.788\n",
       "0.3         3241.8389            66.2710         3.8572                5.741\n",
       "0.4         9403.5800           145.0608         4.6856                6.698\n",
       "0.5        19525.7265           293.4980         6.2175                7.200\n",
       "0.6        33636.4690           556.4328         7.9346                8.318\n",
       "0.7        55801.3275           949.7140        11.1869               10.080\n",
       "0.8        74017.8108          1333.7872        14.9168               11.620\n",
       "0.9        94072.1780          1868.8862        18.8459               13.752\n",
       "1.0       181466.3820          5876.0130        27.0490               30.530"
      ]
     },
     "execution_count": 96,
     "metadata": {},
     "output_type": "execute_result"
    }
   ],
   "source": [
    "covid_keys.quantile(np.arange(0.0, 1.1, 0.1))"
   ]
  },
  {
   "cell_type": "markdown",
   "id": "018b9c5f-4ed7-44e5-9aa5-32457a7b455e",
   "metadata": {},
   "source": [
    "Some machine learning algorithms assume that our features have normal (aka Gaussian) distributions, meaning \n",
    "- they are distributed symmetrically (have low skew) and is shaped like a bell\n",
    "- they have relatively normal tails (neither excessively high nor excessively low kurtosis)\n",
    "\n",
    "For Gaussian distribution, we expect a value near 0 for skew and 3 for kurtosis.\n",
    "\n",
    "Definition from other external sources:\n",
    "\n",
    "- _Skewness_ is a measure of symmetry, or more precisely, the lack of symmetry. A distribution, or data set, is symmetric if it looks the same to the left and right of the center point. [^1]\n",
    "- _Kurtosis_ is a measure of whether the data are heavy-tailed or light-tailed relative to a normal distribution. [^1]\n",
    "\n",
    "[^1]: https://www.itl.nist.gov/div898/handbook/eda/section3/eda35b.htm#:~:text=Skewness%20is%20a%20measure%20of,relative%20to%20a%20normal%20distribution."
   ]
  },
  {
   "cell_type": "code",
   "execution_count": 98,
   "id": "increased-charter",
   "metadata": {
    "tags": []
   },
   "outputs": [
    {
     "data": {
      "text/plain": [
       "total_cases_mill       1.210127\n",
       "total_deaths_mill      2.004572\n",
       "aged_65_older          0.839370\n",
       "diabetes_prevalence    1.524562\n",
       "dtype: float64"
      ]
     },
     "execution_count": 98,
     "metadata": {},
     "output_type": "execute_result"
    }
   ],
   "source": [
    "# For Gaussian distribution, we expect a value near 0 for skew.\n",
    "covid_keys.skew()"
   ]
  },
  {
   "cell_type": "code",
   "execution_count": 99,
   "id": "massive-sally",
   "metadata": {
    "tags": []
   },
   "outputs": [
    {
     "data": {
      "text/plain": [
       "total_cases_mill       0.905631\n",
       "total_deaths_mill      6.580832\n",
       "aged_65_older         -0.557025\n",
       "diabetes_prevalence    3.308697\n",
       "dtype: float64"
      ]
     },
     "execution_count": 99,
     "metadata": {},
     "output_type": "execute_result"
    }
   ],
   "source": [
    "# For Gaussian distribution, we expect a value near 3 for kurtosis.\n",
    "covid_keys.kurtosis()"
   ]
  },
  {
   "cell_type": "markdown",
   "id": "b592c828-0382-4a4f-a5bd-5ca2443ffd11",
   "metadata": {
    "tags": []
   },
   "source": [
    "We can explicitly test each distribution's normality by looping over the features in the `key_vars` list and running a __Shapiro-Wilk__ test on the distribution.\n",
    "\n",
    "Notice that we need to _drop missing values_ with `dropna` for the test to run.\n",
    "\n",
    "`p-value` less than 0.05 indicates that we can reject the null hypothesis of normal."
   ]
  },
  {
   "cell_type": "code",
   "execution_count": 107,
   "id": "spatial-former",
   "metadata": {
    "tags": []
   },
   "outputs": [
    {
     "name": "stdout",
     "output_type": "stream",
     "text": [
      "feature=total_cases_mill\tp-value=0.000000\n",
      "feature=total_deaths_mill\tp-value=0.000000\n",
      "feature=aged_65_older\tp-value=0.000000\n",
      "feature=diabetes_prevalence\tp-value=0.000000\n"
     ]
    }
   ],
   "source": [
    "for var in key_vars[1:]:\n",
    "    stat, p = scistat.shapiro(covid_keys[var].dropna())\n",
    "    print(f\"feature={var}\\tp-value={p:.6f}\")"
   ]
  },
  {
   "cell_type": "markdown",
   "id": "008d91e0-9992-469f-868d-dd045ac64f80",
   "metadata": {},
   "source": [
    "^ All four features have `p-value` less than 0.05, so we reject the null hypothesis of normal. None of the distribution approximates a normal distribution."
   ]
  },
  {
   "cell_type": "markdown",
   "id": "96a5a54b-10bb-4611-ae02-20366c58c246",
   "metadata": {},
   "source": [
    "\n",
    "### Summary\n",
    "\n",
    "- understand how continuous and discrete features are distributed, including their central tendency, shape and spread.\n",
    "- check _skewness_ and _kurtosis_\n",
    "- use **Shapiro-Wilk** test to test if a distribution is normal"
   ]
  },
  {
   "cell_type": "markdown",
   "id": "behind-reply",
   "metadata": {},
   "source": [
    "## Identifying extreme values and outliers in univariante analysis\n",
    "\n",
    "- outliers are unusual observations\n",
    "- extreme values are not outliers\n",
    "- extreme values can be identified by looking at its distance from the middle of the distribution (e.g. interquartile range **IQR**, which is the distance between teh first quartile value and the third quartile value)\n",
    "- values more than 1.5 times the interquartile range above the third quartile or below the first quartile can be flag as extreme"
   ]
  },
  {
   "cell_type": "code",
   "execution_count": 111,
   "id": "valuable-depression",
   "metadata": {
    "tags": []
   },
   "outputs": [
    {
     "data": {
      "text/html": [
       "<div>\n",
       "<style scoped>\n",
       "    .dataframe tbody tr th:only-of-type {\n",
       "        vertical-align: middle;\n",
       "    }\n",
       "\n",
       "    .dataframe tbody tr th {\n",
       "        vertical-align: top;\n",
       "    }\n",
       "\n",
       "    .dataframe thead th {\n",
       "        text-align: right;\n",
       "    }\n",
       "</style>\n",
       "<table border=\"1\" class=\"dataframe\">\n",
       "  <thead>\n",
       "    <tr style=\"text-align: right;\">\n",
       "      <th></th>\n",
       "      <th>location</th>\n",
       "      <th>total_cases_mill</th>\n",
       "      <th>total_deaths_mill</th>\n",
       "      <th>aged_65_older</th>\n",
       "      <th>diabetes_prevalence</th>\n",
       "      <th>gdp_per_capita</th>\n",
       "    </tr>\n",
       "    <tr>\n",
       "      <th>iso_code</th>\n",
       "      <th></th>\n",
       "      <th></th>\n",
       "      <th></th>\n",
       "      <th></th>\n",
       "      <th></th>\n",
       "      <th></th>\n",
       "    </tr>\n",
       "  </thead>\n",
       "  <tbody>\n",
       "    <tr>\n",
       "      <th>AFG</th>\n",
       "      <td>Afghanistan</td>\n",
       "      <td>3314.321</td>\n",
       "      <td>139.102</td>\n",
       "      <td>2.581</td>\n",
       "      <td>9.59</td>\n",
       "      <td>1803.987</td>\n",
       "    </tr>\n",
       "    <tr>\n",
       "      <th>ALB</th>\n",
       "      <td>Albania</td>\n",
       "      <td>46061.922</td>\n",
       "      <td>853.430</td>\n",
       "      <td>13.188</td>\n",
       "      <td>10.08</td>\n",
       "      <td>11803.431</td>\n",
       "    </tr>\n",
       "    <tr>\n",
       "      <th>DZA</th>\n",
       "      <td>Algeria</td>\n",
       "      <td>3261.770</td>\n",
       "      <td>86.338</td>\n",
       "      <td>6.211</td>\n",
       "      <td>6.73</td>\n",
       "      <td>13913.839</td>\n",
       "    </tr>\n",
       "    <tr>\n",
       "      <th>AND</th>\n",
       "      <td>Andorra</td>\n",
       "      <td>181466.382</td>\n",
       "      <td>1643.694</td>\n",
       "      <td>NaN</td>\n",
       "      <td>7.97</td>\n",
       "      <td>NaN</td>\n",
       "    </tr>\n",
       "    <tr>\n",
       "      <th>AGO</th>\n",
       "      <td>Angola</td>\n",
       "      <td>1201.566</td>\n",
       "      <td>28.144</td>\n",
       "      <td>2.405</td>\n",
       "      <td>3.94</td>\n",
       "      <td>5819.495</td>\n",
       "    </tr>\n",
       "  </tbody>\n",
       "</table>\n",
       "</div>"
      ],
      "text/plain": [
       "             location  total_cases_mill  total_deaths_mill  aged_65_older  \\\n",
       "iso_code                                                                    \n",
       "AFG       Afghanistan          3314.321            139.102          2.581   \n",
       "ALB           Albania         46061.922            853.430         13.188   \n",
       "DZA           Algeria          3261.770             86.338          6.211   \n",
       "AND           Andorra        181466.382           1643.694            NaN   \n",
       "AGO            Angola          1201.566             28.144          2.405   \n",
       "\n",
       "          diabetes_prevalence  gdp_per_capita  \n",
       "iso_code                                       \n",
       "AFG                      9.59        1803.987  \n",
       "ALB                     10.08       11803.431  \n",
       "DZA                      6.73       13913.839  \n",
       "AND                      7.97             NaN  \n",
       "AGO                      3.94        5819.495  "
      ]
     },
     "execution_count": 111,
     "metadata": {},
     "output_type": "execute_result"
    }
   ],
   "source": [
    "covid_totals = pd.read_csv(\"./data/covidtotals.csv\")\n",
    "covid_totals.set_index(\"iso_code\", inplace=True)\n",
    "\n",
    "key_vars = [\n",
    "    \"location\",\n",
    "    \"total_cases_mill\",\n",
    "    \"total_deaths_mill\",\n",
    "    \"aged_65_older\",\n",
    "    \"diabetes_prevalence\",\n",
    "    \"gdp_per_capita\",\n",
    "]\n",
    "\n",
    "covid_keys = covid_totals[key_vars]\n",
    "covid_keys.head()"
   ]
  },
  {
   "cell_type": "markdown",
   "id": "3afdcda5-6a78-4687-a271-8fa4cdc40044",
   "metadata": {},
   "source": [
    "We find the IQR for the `total_cases_mill`. We get the first and third quartile values and calculate the interquartile range, `1.5 * (thirdq - firstq)`.\n",
    "\n",
    "Then we calculate the thresholds to determine the high and low extreme values, which are `interquartilerange + thirdq` and `firstq - interquartilerange` respectively. \n",
    "\n",
    "This is the same calculation that is used for the whiskers of a boxplot."
   ]
  },
  {
   "cell_type": "code",
   "execution_count": 113,
   "id": "dietary-catholic",
   "metadata": {
    "tags": []
   },
   "outputs": [
    {
     "name": "stdout",
     "output_type": "stream",
     "text": [
      "-91002.564625 <--> 158336.930375\n"
     ]
    }
   ],
   "source": [
    "firstq = covid_keys.total_cases_mill.quantile(0.25)\n",
    "thirdq = covid_keys.total_cases_mill.quantile(0.75)\n",
    "\n",
    "inter_quantile_range = 1.5 * (thirdq - firstq)\n",
    "\n",
    "extreme_value_high = inter_quantile_range + thirdq\n",
    "extreme_value_low = firstq - inter_quantile_range\n",
    "\n",
    "print(extreme_value_low, extreme_value_high, sep=\" <--> \")"
   ]
  },
  {
   "cell_type": "markdown",
   "id": "01877ef2-252d-47ca-866c-73d8589fde3a",
   "metadata": {},
   "source": [
    "^ The calculation indicates that any value for `total_cases_mill` that is above 158,337 can be considered extreme. We can ignore extreme values on the low end because they would be negative (`total_cases_mill` must be greater than 0)."
   ]
  },
  {
   "cell_type": "code",
   "execution_count": 114,
   "id": "right-progressive",
   "metadata": {
    "tags": []
   },
   "outputs": [
    {
     "data": {
      "text/html": [
       "<div>\n",
       "<style scoped>\n",
       "    .dataframe tbody tr th:only-of-type {\n",
       "        vertical-align: middle;\n",
       "    }\n",
       "\n",
       "    .dataframe tbody tr th {\n",
       "        vertical-align: top;\n",
       "    }\n",
       "\n",
       "    .dataframe thead th {\n",
       "        text-align: right;\n",
       "    }\n",
       "</style>\n",
       "<table border=\"1\" class=\"dataframe\">\n",
       "  <thead>\n",
       "    <tr style=\"text-align: right;\">\n",
       "      <th>iso_code</th>\n",
       "      <th>AND</th>\n",
       "      <th>MNE</th>\n",
       "      <th>SYC</th>\n",
       "    </tr>\n",
       "  </thead>\n",
       "  <tbody>\n",
       "    <tr>\n",
       "      <th>lastdate</th>\n",
       "      <td>2021-07-07</td>\n",
       "      <td>2021-07-07</td>\n",
       "      <td>2021-07-07</td>\n",
       "    </tr>\n",
       "    <tr>\n",
       "      <th>location</th>\n",
       "      <td>Andorra</td>\n",
       "      <td>Montenegro</td>\n",
       "      <td>Seychelles</td>\n",
       "    </tr>\n",
       "    <tr>\n",
       "      <th>total_cases</th>\n",
       "      <td>14021.0</td>\n",
       "      <td>100392.0</td>\n",
       "      <td>16304.0</td>\n",
       "    </tr>\n",
       "    <tr>\n",
       "      <th>total_deaths</th>\n",
       "      <td>127.0</td>\n",
       "      <td>1619.0</td>\n",
       "      <td>71.0</td>\n",
       "    </tr>\n",
       "    <tr>\n",
       "      <th>total_cases_mill</th>\n",
       "      <td>181466.382</td>\n",
       "      <td>159844.092</td>\n",
       "      <td>165792.15</td>\n",
       "    </tr>\n",
       "    <tr>\n",
       "      <th>total_deaths_mill</th>\n",
       "      <td>1643.694</td>\n",
       "      <td>2577.771</td>\n",
       "      <td>721.985</td>\n",
       "    </tr>\n",
       "    <tr>\n",
       "      <th>population</th>\n",
       "      <td>77265.0</td>\n",
       "      <td>628062.0</td>\n",
       "      <td>98340.0</td>\n",
       "    </tr>\n",
       "    <tr>\n",
       "      <th>population_density</th>\n",
       "      <td>163.755</td>\n",
       "      <td>46.28</td>\n",
       "      <td>208.354</td>\n",
       "    </tr>\n",
       "    <tr>\n",
       "      <th>median_age</th>\n",
       "      <td>NaN</td>\n",
       "      <td>39.1</td>\n",
       "      <td>36.2</td>\n",
       "    </tr>\n",
       "    <tr>\n",
       "      <th>gdp_per_capita</th>\n",
       "      <td>NaN</td>\n",
       "      <td>16409.288</td>\n",
       "      <td>26382.287</td>\n",
       "    </tr>\n",
       "    <tr>\n",
       "      <th>aged_65_older</th>\n",
       "      <td>NaN</td>\n",
       "      <td>14.762</td>\n",
       "      <td>8.606</td>\n",
       "    </tr>\n",
       "    <tr>\n",
       "      <th>total_tests_thous</th>\n",
       "      <td>NaN</td>\n",
       "      <td>NaN</td>\n",
       "      <td>NaN</td>\n",
       "    </tr>\n",
       "    <tr>\n",
       "      <th>life_expectancy</th>\n",
       "      <td>83.73</td>\n",
       "      <td>76.88</td>\n",
       "      <td>73.4</td>\n",
       "    </tr>\n",
       "    <tr>\n",
       "      <th>hospital_beds_thous</th>\n",
       "      <td>NaN</td>\n",
       "      <td>3.861</td>\n",
       "      <td>3.6</td>\n",
       "    </tr>\n",
       "    <tr>\n",
       "      <th>diabetes_prevalence</th>\n",
       "      <td>7.97</td>\n",
       "      <td>10.08</td>\n",
       "      <td>10.55</td>\n",
       "    </tr>\n",
       "    <tr>\n",
       "      <th>region</th>\n",
       "      <td>Western Europe</td>\n",
       "      <td>Eastern Europe</td>\n",
       "      <td>East Africa</td>\n",
       "    </tr>\n",
       "  </tbody>\n",
       "</table>\n",
       "</div>"
      ],
      "text/plain": [
       "iso_code                        AND             MNE          SYC\n",
       "lastdate                 2021-07-07      2021-07-07   2021-07-07\n",
       "location                    Andorra      Montenegro   Seychelles\n",
       "total_cases                 14021.0        100392.0      16304.0\n",
       "total_deaths                  127.0          1619.0         71.0\n",
       "total_cases_mill         181466.382      159844.092    165792.15\n",
       "total_deaths_mill          1643.694        2577.771      721.985\n",
       "population                  77265.0        628062.0      98340.0\n",
       "population_density          163.755           46.28      208.354\n",
       "median_age                      NaN            39.1         36.2\n",
       "gdp_per_capita                  NaN       16409.288    26382.287\n",
       "aged_65_older                   NaN          14.762        8.606\n",
       "total_tests_thous               NaN             NaN          NaN\n",
       "life_expectancy               83.73           76.88         73.4\n",
       "hospital_beds_thous             NaN           3.861          3.6\n",
       "diabetes_prevalence            7.97           10.08        10.55\n",
       "region               Western Europe  Eastern Europe  East Africa"
      ]
     },
     "execution_count": 114,
     "metadata": {},
     "output_type": "execute_result"
    }
   ],
   "source": [
    "# Find the countries that have outliers for `total_cases_mill`.\n",
    "covid_totals.loc[covid_totals.total_cases_mill > extreme_value_high].T"
   ]
  },
  {
   "cell_type": "code",
   "execution_count": 133,
   "id": "satisfactory-petite",
   "metadata": {
    "tags": []
   },
   "outputs": [
    {
     "data": {
      "text/plain": [
       "total_cases               963,933\n",
       "total_deaths               21,631\n",
       "total_cases_mill           36,649\n",
       "total_deaths_mill             683\n",
       "population             35,134,957\n",
       "population_density            453\n",
       "median_age                     30\n",
       "gdp_per_capita             19,141\n",
       "aged_65_older                   9\n",
       "total_tests_thous             535\n",
       "life_expectancy                73\n",
       "hospital_beds_thous             3\n",
       "diabetes_prevalence             8\n",
       "dtype: object"
      ]
     },
     "execution_count": 133,
     "metadata": {},
     "output_type": "execute_result"
    }
   ],
   "source": [
    "# The three cities above have above threshold total_cases_mill.\n",
    "covid_totals.mean().apply(\"{:,.0f}\".format)"
   ]
  },
  {
   "cell_type": "code",
   "execution_count": 147,
   "id": "incorrect-majority",
   "metadata": {},
   "outputs": [],
   "source": [
    "def get_extreme_values(df_in):\n",
    "    df_out = pd.DataFrame(columns=df_in.columns, data=None)\n",
    "\n",
    "    # Skip the first column, which is location.\n",
    "    for col in df_in.columns[1:]:\n",
    "        firstq = df_in[col].quantile(0.25)\n",
    "        thirdq = df_in[col].quantile(0.75)\n",
    "\n",
    "        interquartile_range = 1.5 * (thirdq - firstq)\n",
    "\n",
    "        ext_val_low = firstq - interquartile_range\n",
    "        ext_val_high = interquartile_range + thirdq\n",
    "\n",
    "        df = df_in.loc[(df_in[col] > ext_val_high) | (df_in[col] < ext_val_low)]\n",
    "        df = df.assign(varname=col, thresh_low=ext_val_low, thresh_high=ext_val_high)\n",
    "        df_out = pd.concat([df_out, df])\n",
    "\n",
    "    return df_out"
   ]
  },
  {
   "cell_type": "markdown",
   "id": "8c423934-87c1-45cd-9dce-1b23fc037c83",
   "metadata": {},
   "source": [
    "Find all the extreme values for all columns, except the first one, which is `location` column."
   ]
  },
  {
   "cell_type": "code",
   "execution_count": 148,
   "id": "optimum-label",
   "metadata": {
    "tags": []
   },
   "outputs": [
    {
     "data": {
      "text/html": [
       "<div>\n",
       "<style scoped>\n",
       "    .dataframe tbody tr th:only-of-type {\n",
       "        vertical-align: middle;\n",
       "    }\n",
       "\n",
       "    .dataframe tbody tr th {\n",
       "        vertical-align: top;\n",
       "    }\n",
       "\n",
       "    .dataframe thead th {\n",
       "        text-align: right;\n",
       "    }\n",
       "</style>\n",
       "<table border=\"1\" class=\"dataframe\">\n",
       "  <thead>\n",
       "    <tr style=\"text-align: right;\">\n",
       "      <th></th>\n",
       "      <th>location</th>\n",
       "      <th>total_cases_mill</th>\n",
       "      <th>total_deaths_mill</th>\n",
       "      <th>aged_65_older</th>\n",
       "      <th>diabetes_prevalence</th>\n",
       "      <th>gdp_per_capita</th>\n",
       "      <th>varname</th>\n",
       "      <th>thresh_low</th>\n",
       "      <th>thresh_high</th>\n",
       "    </tr>\n",
       "  </thead>\n",
       "  <tbody>\n",
       "    <tr>\n",
       "      <th>AND</th>\n",
       "      <td>Andorra</td>\n",
       "      <td>181466.382</td>\n",
       "      <td>1643.694</td>\n",
       "      <td>NaN</td>\n",
       "      <td>7.97</td>\n",
       "      <td>NaN</td>\n",
       "      <td>total_cases_mill</td>\n",
       "      <td>-91002.564625</td>\n",
       "      <td>158336.930375</td>\n",
       "    </tr>\n",
       "    <tr>\n",
       "      <th>MNE</th>\n",
       "      <td>Montenegro</td>\n",
       "      <td>159844.092</td>\n",
       "      <td>2577.771</td>\n",
       "      <td>14.762</td>\n",
       "      <td>10.08</td>\n",
       "      <td>16409.288</td>\n",
       "      <td>total_cases_mill</td>\n",
       "      <td>-91002.564625</td>\n",
       "      <td>158336.930375</td>\n",
       "    </tr>\n",
       "    <tr>\n",
       "      <th>SYC</th>\n",
       "      <td>Seychelles</td>\n",
       "      <td>165792.150</td>\n",
       "      <td>721.985</td>\n",
       "      <td>8.606</td>\n",
       "      <td>10.55</td>\n",
       "      <td>26382.287</td>\n",
       "      <td>total_cases_mill</td>\n",
       "      <td>-91002.564625</td>\n",
       "      <td>158336.930375</td>\n",
       "    </tr>\n",
       "    <tr>\n",
       "      <th>BIH</th>\n",
       "      <td>Bosnia and Herzegovina</td>\n",
       "      <td>62498.800</td>\n",
       "      <td>2946.524</td>\n",
       "      <td>16.569</td>\n",
       "      <td>10.08</td>\n",
       "      <td>11713.895</td>\n",
       "      <td>total_deaths_mill</td>\n",
       "      <td>-1521.872000</td>\n",
       "      <td>2653.752000</td>\n",
       "    </tr>\n",
       "    <tr>\n",
       "      <th>CZE</th>\n",
       "      <td>Czechia</td>\n",
       "      <td>155782.968</td>\n",
       "      <td>2830.428</td>\n",
       "      <td>19.027</td>\n",
       "      <td>6.82</td>\n",
       "      <td>32605.906</td>\n",
       "      <td>total_deaths_mill</td>\n",
       "      <td>-1521.872000</td>\n",
       "      <td>2653.752000</td>\n",
       "    </tr>\n",
       "    <tr>\n",
       "      <th>HUN</th>\n",
       "      <td>Hungary</td>\n",
       "      <td>83675.850</td>\n",
       "      <td>3105.374</td>\n",
       "      <td>18.577</td>\n",
       "      <td>7.55</td>\n",
       "      <td>26777.561</td>\n",
       "      <td>total_deaths_mill</td>\n",
       "      <td>-1521.872000</td>\n",
       "      <td>2653.752000</td>\n",
       "    </tr>\n",
       "    <tr>\n",
       "      <th>PER</th>\n",
       "      <td>Peru</td>\n",
       "      <td>62830.483</td>\n",
       "      <td>5876.013</td>\n",
       "      <td>7.151</td>\n",
       "      <td>5.95</td>\n",
       "      <td>12236.706</td>\n",
       "      <td>total_deaths_mill</td>\n",
       "      <td>-1521.872000</td>\n",
       "      <td>2653.752000</td>\n",
       "    </tr>\n",
       "    <tr>\n",
       "      <th>PYF</th>\n",
       "      <td>French Polynesia</td>\n",
       "      <td>NaN</td>\n",
       "      <td>NaN</td>\n",
       "      <td>7.775</td>\n",
       "      <td>22.63</td>\n",
       "      <td>NaN</td>\n",
       "      <td>diabetes_prevalence</td>\n",
       "      <td>-2.568750</td>\n",
       "      <td>18.521250</td>\n",
       "    </tr>\n",
       "    <tr>\n",
       "      <th>KIR</th>\n",
       "      <td>Kiribati</td>\n",
       "      <td>16.744</td>\n",
       "      <td>NaN</td>\n",
       "      <td>3.895</td>\n",
       "      <td>22.66</td>\n",
       "      <td>1981.132</td>\n",
       "      <td>diabetes_prevalence</td>\n",
       "      <td>-2.568750</td>\n",
       "      <td>18.521250</td>\n",
       "    </tr>\n",
       "    <tr>\n",
       "      <th>MHL</th>\n",
       "      <td>Marshall Islands</td>\n",
       "      <td>67.574</td>\n",
       "      <td>NaN</td>\n",
       "      <td>NaN</td>\n",
       "      <td>30.53</td>\n",
       "      <td>3819.202</td>\n",
       "      <td>diabetes_prevalence</td>\n",
       "      <td>-2.568750</td>\n",
       "      <td>18.521250</td>\n",
       "    </tr>\n",
       "    <tr>\n",
       "      <th>MUS</th>\n",
       "      <td>Mauritius</td>\n",
       "      <td>1460.959</td>\n",
       "      <td>14.154</td>\n",
       "      <td>10.945</td>\n",
       "      <td>22.02</td>\n",
       "      <td>20292.745</td>\n",
       "      <td>diabetes_prevalence</td>\n",
       "      <td>-2.568750</td>\n",
       "      <td>18.521250</td>\n",
       "    </tr>\n",
       "    <tr>\n",
       "      <th>NRU</th>\n",
       "      <td>Nauru</td>\n",
       "      <td>NaN</td>\n",
       "      <td>NaN</td>\n",
       "      <td>NaN</td>\n",
       "      <td>24.07</td>\n",
       "      <td>12895.635</td>\n",
       "      <td>diabetes_prevalence</td>\n",
       "      <td>-2.568750</td>\n",
       "      <td>18.521250</td>\n",
       "    </tr>\n",
       "    <tr>\n",
       "      <th>NCL</th>\n",
       "      <td>New Caledonia</td>\n",
       "      <td>NaN</td>\n",
       "      <td>NaN</td>\n",
       "      <td>9.954</td>\n",
       "      <td>23.36</td>\n",
       "      <td>NaN</td>\n",
       "      <td>diabetes_prevalence</td>\n",
       "      <td>-2.568750</td>\n",
       "      <td>18.521250</td>\n",
       "    </tr>\n",
       "    <tr>\n",
       "      <th>SLB</th>\n",
       "      <td>Solomon Islands</td>\n",
       "      <td>29.117</td>\n",
       "      <td>NaN</td>\n",
       "      <td>3.507</td>\n",
       "      <td>18.68</td>\n",
       "      <td>2205.923</td>\n",
       "      <td>diabetes_prevalence</td>\n",
       "      <td>-2.568750</td>\n",
       "      <td>18.521250</td>\n",
       "    </tr>\n",
       "    <tr>\n",
       "      <th>TUV</th>\n",
       "      <td>Tuvalu</td>\n",
       "      <td>NaN</td>\n",
       "      <td>NaN</td>\n",
       "      <td>NaN</td>\n",
       "      <td>27.25</td>\n",
       "      <td>3575.104</td>\n",
       "      <td>diabetes_prevalence</td>\n",
       "      <td>-2.568750</td>\n",
       "      <td>18.521250</td>\n",
       "    </tr>\n",
       "    <tr>\n",
       "      <th>BRN</th>\n",
       "      <td>Brunei</td>\n",
       "      <td>608.024</td>\n",
       "      <td>6.857</td>\n",
       "      <td>4.591</td>\n",
       "      <td>12.79</td>\n",
       "      <td>71809.251</td>\n",
       "      <td>gdp_per_capita</td>\n",
       "      <td>-31266.682500</td>\n",
       "      <td>62306.321500</td>\n",
       "    </tr>\n",
       "    <tr>\n",
       "      <th>IRL</th>\n",
       "      <td>Ireland</td>\n",
       "      <td>55808.502</td>\n",
       "      <td>1013.813</td>\n",
       "      <td>13.928</td>\n",
       "      <td>3.28</td>\n",
       "      <td>67335.293</td>\n",
       "      <td>gdp_per_capita</td>\n",
       "      <td>-31266.682500</td>\n",
       "      <td>62306.321500</td>\n",
       "    </tr>\n",
       "    <tr>\n",
       "      <th>KWT</th>\n",
       "      <td>Kuwait</td>\n",
       "      <td>86458.624</td>\n",
       "      <td>482.138</td>\n",
       "      <td>2.345</td>\n",
       "      <td>15.84</td>\n",
       "      <td>65530.537</td>\n",
       "      <td>gdp_per_capita</td>\n",
       "      <td>-31266.682500</td>\n",
       "      <td>62306.321500</td>\n",
       "    </tr>\n",
       "    <tr>\n",
       "      <th>LUX</th>\n",
       "      <td>Luxembourg</td>\n",
       "      <td>114617.813</td>\n",
       "      <td>1308.357</td>\n",
       "      <td>14.312</td>\n",
       "      <td>4.42</td>\n",
       "      <td>94277.965</td>\n",
       "      <td>gdp_per_capita</td>\n",
       "      <td>-31266.682500</td>\n",
       "      <td>62306.321500</td>\n",
       "    </tr>\n",
       "    <tr>\n",
       "      <th>MAC</th>\n",
       "      <td>Macao</td>\n",
       "      <td>NaN</td>\n",
       "      <td>NaN</td>\n",
       "      <td>9.798</td>\n",
       "      <td>NaN</td>\n",
       "      <td>104861.851</td>\n",
       "      <td>gdp_per_capita</td>\n",
       "      <td>-31266.682500</td>\n",
       "      <td>62306.321500</td>\n",
       "    </tr>\n",
       "    <tr>\n",
       "      <th>NOR</th>\n",
       "      <td>Norway</td>\n",
       "      <td>24454.544</td>\n",
       "      <td>146.830</td>\n",
       "      <td>16.821</td>\n",
       "      <td>5.31</td>\n",
       "      <td>64800.057</td>\n",
       "      <td>gdp_per_capita</td>\n",
       "      <td>-31266.682500</td>\n",
       "      <td>62306.321500</td>\n",
       "    </tr>\n",
       "    <tr>\n",
       "      <th>QAT</th>\n",
       "      <td>Qatar</td>\n",
       "      <td>77373.606</td>\n",
       "      <td>206.868</td>\n",
       "      <td>1.307</td>\n",
       "      <td>16.52</td>\n",
       "      <td>116935.600</td>\n",
       "      <td>gdp_per_capita</td>\n",
       "      <td>-31266.682500</td>\n",
       "      <td>62306.321500</td>\n",
       "    </tr>\n",
       "    <tr>\n",
       "      <th>SGP</th>\n",
       "      <td>Singapore</td>\n",
       "      <td>10709.116</td>\n",
       "      <td>6.153</td>\n",
       "      <td>12.922</td>\n",
       "      <td>10.99</td>\n",
       "      <td>85535.383</td>\n",
       "      <td>gdp_per_capita</td>\n",
       "      <td>-31266.682500</td>\n",
       "      <td>62306.321500</td>\n",
       "    </tr>\n",
       "    <tr>\n",
       "      <th>ARE</th>\n",
       "      <td>United Arab Emirates</td>\n",
       "      <td>65125.172</td>\n",
       "      <td>186.747</td>\n",
       "      <td>1.144</td>\n",
       "      <td>17.26</td>\n",
       "      <td>67293.483</td>\n",
       "      <td>gdp_per_capita</td>\n",
       "      <td>-31266.682500</td>\n",
       "      <td>62306.321500</td>\n",
       "    </tr>\n",
       "  </tbody>\n",
       "</table>\n",
       "</div>"
      ],
      "text/plain": [
       "                   location  total_cases_mill  total_deaths_mill  \\\n",
       "AND                 Andorra        181466.382           1643.694   \n",
       "MNE              Montenegro        159844.092           2577.771   \n",
       "SYC              Seychelles        165792.150            721.985   \n",
       "BIH  Bosnia and Herzegovina         62498.800           2946.524   \n",
       "CZE                 Czechia        155782.968           2830.428   \n",
       "HUN                 Hungary         83675.850           3105.374   \n",
       "PER                    Peru         62830.483           5876.013   \n",
       "PYF        French Polynesia               NaN                NaN   \n",
       "KIR                Kiribati            16.744                NaN   \n",
       "MHL        Marshall Islands            67.574                NaN   \n",
       "MUS               Mauritius          1460.959             14.154   \n",
       "NRU                   Nauru               NaN                NaN   \n",
       "NCL           New Caledonia               NaN                NaN   \n",
       "SLB         Solomon Islands            29.117                NaN   \n",
       "TUV                  Tuvalu               NaN                NaN   \n",
       "BRN                  Brunei           608.024              6.857   \n",
       "IRL                 Ireland         55808.502           1013.813   \n",
       "KWT                  Kuwait         86458.624            482.138   \n",
       "LUX              Luxembourg        114617.813           1308.357   \n",
       "MAC                   Macao               NaN                NaN   \n",
       "NOR                  Norway         24454.544            146.830   \n",
       "QAT                   Qatar         77373.606            206.868   \n",
       "SGP               Singapore         10709.116              6.153   \n",
       "ARE    United Arab Emirates         65125.172            186.747   \n",
       "\n",
       "     aged_65_older  diabetes_prevalence  gdp_per_capita              varname  \\\n",
       "AND            NaN                 7.97             NaN     total_cases_mill   \n",
       "MNE         14.762                10.08       16409.288     total_cases_mill   \n",
       "SYC          8.606                10.55       26382.287     total_cases_mill   \n",
       "BIH         16.569                10.08       11713.895    total_deaths_mill   \n",
       "CZE         19.027                 6.82       32605.906    total_deaths_mill   \n",
       "HUN         18.577                 7.55       26777.561    total_deaths_mill   \n",
       "PER          7.151                 5.95       12236.706    total_deaths_mill   \n",
       "PYF          7.775                22.63             NaN  diabetes_prevalence   \n",
       "KIR          3.895                22.66        1981.132  diabetes_prevalence   \n",
       "MHL            NaN                30.53        3819.202  diabetes_prevalence   \n",
       "MUS         10.945                22.02       20292.745  diabetes_prevalence   \n",
       "NRU            NaN                24.07       12895.635  diabetes_prevalence   \n",
       "NCL          9.954                23.36             NaN  diabetes_prevalence   \n",
       "SLB          3.507                18.68        2205.923  diabetes_prevalence   \n",
       "TUV            NaN                27.25        3575.104  diabetes_prevalence   \n",
       "BRN          4.591                12.79       71809.251       gdp_per_capita   \n",
       "IRL         13.928                 3.28       67335.293       gdp_per_capita   \n",
       "KWT          2.345                15.84       65530.537       gdp_per_capita   \n",
       "LUX         14.312                 4.42       94277.965       gdp_per_capita   \n",
       "MAC          9.798                  NaN      104861.851       gdp_per_capita   \n",
       "NOR         16.821                 5.31       64800.057       gdp_per_capita   \n",
       "QAT          1.307                16.52      116935.600       gdp_per_capita   \n",
       "SGP         12.922                10.99       85535.383       gdp_per_capita   \n",
       "ARE          1.144                17.26       67293.483       gdp_per_capita   \n",
       "\n",
       "       thresh_low    thresh_high  \n",
       "AND -91002.564625  158336.930375  \n",
       "MNE -91002.564625  158336.930375  \n",
       "SYC -91002.564625  158336.930375  \n",
       "BIH  -1521.872000    2653.752000  \n",
       "CZE  -1521.872000    2653.752000  \n",
       "HUN  -1521.872000    2653.752000  \n",
       "PER  -1521.872000    2653.752000  \n",
       "PYF     -2.568750      18.521250  \n",
       "KIR     -2.568750      18.521250  \n",
       "MHL     -2.568750      18.521250  \n",
       "MUS     -2.568750      18.521250  \n",
       "NRU     -2.568750      18.521250  \n",
       "NCL     -2.568750      18.521250  \n",
       "SLB     -2.568750      18.521250  \n",
       "TUV     -2.568750      18.521250  \n",
       "BRN -31266.682500   62306.321500  \n",
       "IRL -31266.682500   62306.321500  \n",
       "KWT -31266.682500   62306.321500  \n",
       "LUX -31266.682500   62306.321500  \n",
       "MAC -31266.682500   62306.321500  \n",
       "NOR -31266.682500   62306.321500  \n",
       "QAT -31266.682500   62306.321500  \n",
       "SGP -31266.682500   62306.321500  \n",
       "ARE -31266.682500   62306.321500  "
      ]
     },
     "execution_count": 148,
     "metadata": {},
     "output_type": "execute_result"
    }
   ],
   "source": [
    "extreme_values = get_extreme_values(covid_keys)\n",
    "extreme_values"
   ]
  },
  {
   "cell_type": "code",
   "execution_count": 149,
   "id": "southwest-charleston",
   "metadata": {
    "tags": []
   },
   "outputs": [
    {
     "data": {
      "text/plain": [
       "gdp_per_capita         9\n",
       "diabetes_prevalence    8\n",
       "total_deaths_mill      4\n",
       "total_cases_mill       3\n",
       "Name: varname, dtype: int64"
      ]
     },
     "execution_count": 149,
     "metadata": {},
     "output_type": "execute_result"
    }
   ],
   "source": [
    "extreme_values.varname.value_counts()"
   ]
  },
  {
   "cell_type": "markdown",
   "id": "03a861eb-938a-4914-ae96-ce271848d063",
   "metadata": {},
   "source": [
    "We can find the `thresh_high` value for `total_deaths_mill`, which is 2654. Any countries with the total deaths above this is considered an outlier. There are 4 such countries."
   ]
  },
  {
   "cell_type": "code",
   "execution_count": 150,
   "id": "dense-practitioner",
   "metadata": {
    "tags": []
   },
   "outputs": [
    {
     "data": {
      "text/plain": [
       "2653.752"
      ]
     },
     "execution_count": 150,
     "metadata": {},
     "output_type": "execute_result"
    }
   ],
   "source": [
    "extreme_values.loc[extreme_values.varname == \"total_deaths_mill\", \"thresh_high\"][0]"
   ]
  },
  {
   "cell_type": "markdown",
   "id": "01d07e35-8a99-496b-9f74-cef8ed33735b",
   "metadata": {},
   "source": [
    "We list the countries together with the columns we are interested in, sorted in descending value of `total_deaths_mill`."
   ]
  },
  {
   "cell_type": "code",
   "execution_count": 154,
   "id": "funded-weapon",
   "metadata": {
    "tags": []
   },
   "outputs": [
    {
     "data": {
      "text/html": [
       "<div>\n",
       "<style scoped>\n",
       "    .dataframe tbody tr th:only-of-type {\n",
       "        vertical-align: middle;\n",
       "    }\n",
       "\n",
       "    .dataframe tbody tr th {\n",
       "        vertical-align: top;\n",
       "    }\n",
       "\n",
       "    .dataframe thead th {\n",
       "        text-align: right;\n",
       "    }\n",
       "</style>\n",
       "<table border=\"1\" class=\"dataframe\">\n",
       "  <thead>\n",
       "    <tr style=\"text-align: right;\">\n",
       "      <th></th>\n",
       "      <th>location</th>\n",
       "      <th>total_cases_mill</th>\n",
       "      <th>total_deaths_mill</th>\n",
       "      <th>aged_65_older</th>\n",
       "      <th>diabetes_prevalence</th>\n",
       "      <th>gdp_per_capita</th>\n",
       "    </tr>\n",
       "  </thead>\n",
       "  <tbody>\n",
       "    <tr>\n",
       "      <th>PER</th>\n",
       "      <td>Peru</td>\n",
       "      <td>62830.483</td>\n",
       "      <td>5876.013</td>\n",
       "      <td>7.151</td>\n",
       "      <td>5.95</td>\n",
       "      <td>12236.706</td>\n",
       "    </tr>\n",
       "    <tr>\n",
       "      <th>HUN</th>\n",
       "      <td>Hungary</td>\n",
       "      <td>83675.850</td>\n",
       "      <td>3105.374</td>\n",
       "      <td>18.577</td>\n",
       "      <td>7.55</td>\n",
       "      <td>26777.561</td>\n",
       "    </tr>\n",
       "    <tr>\n",
       "      <th>BIH</th>\n",
       "      <td>Bosnia and Herzegovina</td>\n",
       "      <td>62498.800</td>\n",
       "      <td>2946.524</td>\n",
       "      <td>16.569</td>\n",
       "      <td>10.08</td>\n",
       "      <td>11713.895</td>\n",
       "    </tr>\n",
       "    <tr>\n",
       "      <th>CZE</th>\n",
       "      <td>Czechia</td>\n",
       "      <td>155782.968</td>\n",
       "      <td>2830.428</td>\n",
       "      <td>19.027</td>\n",
       "      <td>6.82</td>\n",
       "      <td>32605.906</td>\n",
       "    </tr>\n",
       "  </tbody>\n",
       "</table>\n",
       "</div>"
      ],
      "text/plain": [
       "                   location  total_cases_mill  total_deaths_mill  \\\n",
       "PER                    Peru         62830.483           5876.013   \n",
       "HUN                 Hungary         83675.850           3105.374   \n",
       "BIH  Bosnia and Herzegovina         62498.800           2946.524   \n",
       "CZE                 Czechia        155782.968           2830.428   \n",
       "\n",
       "     aged_65_older  diabetes_prevalence  gdp_per_capita  \n",
       "PER          7.151                 5.95       12236.706  \n",
       "HUN         18.577                 7.55       26777.561  \n",
       "BIH         16.569                10.08       11713.895  \n",
       "CZE         19.027                 6.82       32605.906  "
      ]
     },
     "execution_count": 154,
     "metadata": {},
     "output_type": "execute_result"
    }
   ],
   "source": [
    "extreme_values.loc[extreme_values.varname == \"total_deaths_mill\", key_vars].sort_values(\n",
    "    [\"total_deaths_mill\"], ascending=False\n",
    ")"
   ]
  },
  {
   "cell_type": "markdown",
   "id": "f3a92203-2cf0-40e2-88e4-400f32ca5653",
   "metadata": {},
   "source": [
    "**Quantile-quantile (Q-Q)** plots can improve our sense of that distribution by allowing us to view it graphically relative to a theoretical distribution: normal, uniform, log or others.\n",
    "\n",
    "Definition from other sources:\n",
    "\n",
    "> The quantile-quantile (q-q) plot is a graphical technique for determining if two data sets come from populations with a common distribution.\n",
    "A q-q plot is a plot of the quantiles of the first data set against the quantiles of the second data set. [^1]\n",
    "\n",
    "[^1]: https://www.itl.nist.gov/div898/handbook/eda/section3/qqplot.htm#:~:text=The%20quantile%2Dquantile%20(q%2Dq),of%20the%20second%20data%20set."
   ]
  },
  {
   "cell_type": "code",
   "execution_count": 166,
   "id": "difficult-entity",
   "metadata": {
    "tags": []
   },
   "outputs": [
    {
     "data": {
      "image/png": "[encoded data removed]",
      "text/plain": [
       "<Figure size 432x288 with 1 Axes>"
      ]
     },
     "metadata": {
      "needs_background": "light"
     },
     "output_type": "display_data"
    }
   ],
   "source": [
    "import matplotlib.pyplot as plt\n",
    "import statsmodels.api as sm\n",
    "\n",
    "_ = sm.qqplot(\n",
    "    covid_totals[[\"total_cases_mill\"]].sort_values([\"total_cases_mill\"]).dropna(),\n",
    "    line=\"s\",\n",
    ")\n",
    "_ = plt.title(\"QQ Plot of Total Cases per Million\")"
   ]
  },
  {
   "cell_type": "markdown",
   "id": "9bf4b20c-e7f7-47b8-934c-f01f3519f9b1",
   "metadata": {},
   "source": [
    "^ The Q-Q plot makes it clear that the distribution of total cases across countries is not normal. We can see this by how much the data points deviate from the red line. \n",
    "\n",
    "It is a Q-Q plot that we would expect from a distribution with some positive skew."
   ]
  },
  {
   "cell_type": "markdown",
   "id": "bc95e551-6bb1-447f-bba5-de6a1c75842b",
   "metadata": {},
   "source": [
    "Below we look at a Q-Q plot for a feature with a distribution that is a little closer to normal. The land temperature dataset contains the average temperature readings (in Celsius) in 2019 from 12,000 stations around the world."
   ]
  },
  {
   "cell_type": "code",
   "execution_count": 169,
   "id": "metric-click",
   "metadata": {
    "tags": []
   },
   "outputs": [
    {
     "data": {
      "text/plain": [
       "count    12095.000000\n",
       "mean        11.193542\n",
       "std          8.563443\n",
       "min        -60.821000\n",
       "5%          -0.683167\n",
       "10%          1.729955\n",
       "25%          5.417917\n",
       "50%         10.450000\n",
       "75%         16.919583\n",
       "90%         23.070636\n",
       "95%         27.003583\n",
       "max         33.930000\n",
       "Name: avgtemp, dtype: float64"
      ]
     },
     "execution_count": 169,
     "metadata": {},
     "output_type": "execute_result"
    }
   ],
   "source": [
    "land_temps = pd.read_csv(\"./data/landtemps2019avgs.csv\")\n",
    "land_temps.avgtemp.describe(percentiles=[0.05, 0.1, 0.25, 0.5, 0.75, 0.9, 0.95])"
   ]
  },
  {
   "cell_type": "code",
   "execution_count": 172,
   "id": "fifteen-wrist",
   "metadata": {
    "tags": []
   },
   "outputs": [
    {
     "data": {
      "text/plain": [
       "14"
      ]
     },
     "execution_count": 172,
     "metadata": {},
     "output_type": "execute_result"
    }
   ],
   "source": [
    "# 14 stations has temperature reading less than -25 degree Celsius.\n",
    "land_temps.loc[land_temps.avgtemp < -25, \"avgtemp\"].count()"
   ]
  },
  {
   "cell_type": "code",
   "execution_count": 68,
   "id": "flexible-addiction",
   "metadata": {},
   "outputs": [
    {
     "data": {
      "text/plain": [
       "-0.26783825834817704"
      ]
     },
     "execution_count": 68,
     "metadata": {},
     "output_type": "execute_result"
    }
   ],
   "source": [
    "# For Gaussian distribution, we expect a skew close to 0.\n",
    "land_temps.avgtemp.skew()"
   ]
  },
  {
   "cell_type": "code",
   "execution_count": 174,
   "id": "african-configuration",
   "metadata": {
    "tags": []
   },
   "outputs": [
    {
     "data": {
      "text/plain": [
       "2.1698313707061074"
      ]
     },
     "execution_count": 174,
     "metadata": {},
     "output_type": "execute_result"
    }
   ],
   "source": [
    "# For Gaussian distribution, we expect a kurtosis close to 3.\n",
    "land_temps.avgtemp.kurtosis()"
   ]
  },
  {
   "cell_type": "code",
   "execution_count": 176,
   "id": "threatened-contest",
   "metadata": {
    "tags": []
   },
   "outputs": [
    {
     "data": {
      "image/png": "[encoded data removed]",
      "text/plain": [
       "<Figure size 432x288 with 1 Axes>"
      ]
     },
     "metadata": {
      "needs_background": "light"
     },
     "output_type": "display_data"
    }
   ],
   "source": [
    "_ = sm.qqplot(land_temps.avgtemp.sort_values().dropna(), line=\"s\")\n",
    "_ = plt.title(\"QQ Plot of Average Temperatures\")"
   ]
  },
  {
   "cell_type": "markdown",
   "id": "d96ca2e1-aa7b-4e81-a879-235629d34849",
   "metadata": {},
   "source": [
    "^ Along most of the range, the distribution of average temperature looks pretty close to normal. The exceptions are the extremely low temperatures, contributing to a small amount of _negative skew_. There is also some deviation at the high end, though this is much less of an issue.\n",
    "\n",
    "\n",
    "Q-Q plots for features with negative skew has umbrella-like shape, while those with positive skews have more of a bowl-like shape."
   ]
  },
  {
   "cell_type": "markdown",
   "id": "13232c6a-5fc0-41e3-9405-139aff82ae70",
   "metadata": {},
   "source": [
    "### Summary\n",
    "\n",
    "- find outliers using IQR\n",
    "- visualize distribution using Q-Q plots"
   ]
  },
  {
   "cell_type": "markdown",
   "id": "intelligent-yukon",
   "metadata": {},
   "source": [
    "## Using histograms, boxplots, and violin plots to examine the distribution of features"
   ]
  },
  {
   "cell_type": "markdown",
   "id": "53699b6b-3c24-40db-9d55-7376ac8470d7",
   "metadata": {
    "tags": []
   },
   "source": [
    "### Using Histogram\n",
    "\n",
    "Histogram helps us see the spread of a distribution."
   ]
  },
  {
   "cell_type": "code",
   "execution_count": 179,
   "id": "4c167c7e-beb1-4c98-a9cd-914fde918a1b",
   "metadata": {
    "tags": []
   },
   "outputs": [],
   "source": [
    "import matplotlib.pyplot as plt\n",
    "import numpy as np\n",
    "import pandas as pd\n",
    "import seaborn as sns"
   ]
  },
  {
   "cell_type": "code",
   "execution_count": 186,
   "id": "72f9791f-eadf-4731-9a74-3433787a2437",
   "metadata": {
    "tags": []
   },
   "outputs": [
    {
     "name": "stdout",
     "output_type": "stream",
     "text": [
      "(12095, 7)\n",
      "(221, 16)\n"
     ]
    }
   ],
   "source": [
    "land_temps = pd.read_csv(\"./data/landtemps2019avgs.csv\")\n",
    "covid_totals = pd.read_csv(\"./data/covidtotals.csv\", parse_dates=[\"lastdate\"])\n",
    "covid_totals.set_index(\"iso_code\", inplace=True)\n",
    "\n",
    "print(land_temps.shape)\n",
    "print(covid_totals.shape)"
   ]
  },
  {
   "cell_type": "markdown",
   "id": "09f05eed-74fd-4e80-942a-aaf2e6026a70",
   "metadata": {},
   "source": [
    "Create a histogram of total case per million. We also draw lines for the mean and median."
   ]
  },
  {
   "cell_type": "code",
   "execution_count": 190,
   "id": "macro-deficit",
   "metadata": {
    "tags": []
   },
   "outputs": [
    {
     "data": {
      "image/png": "[encoded data removed]",
      "text/plain": [
       "<Figure size 432x288 with 1 Axes>"
      ]
     },
     "metadata": {
      "needs_background": "light"
     },
     "output_type": "display_data"
    }
   ],
   "source": [
    "ax = covid_totals[\"total_cases_mill\"].hist(bins=7)\n",
    "ax.axvline(\n",
    "    covid_totals[\"total_cases_mill\"].mean(),\n",
    "    color=\"red\",\n",
    "    linestyle=\"dashed\",\n",
    "    linewidth=1,\n",
    "    label=\"mean\",\n",
    ")\n",
    "ax.axvline(\n",
    "    covid_totals[\"total_cases_mill\"].median(),\n",
    "    color=\"black\",\n",
    "    linestyle=\"dashed\",\n",
    "    linewidth=1,\n",
    "    label=\"median\",\n",
    ")\n",
    "ax.set(\n",
    "    title=\"Total COVID Cases\", xlabel=\"Cases per Million\", ylabel=\"Number of countries\"\n",
    ")\n",
    "_ = ax.legend()"
   ]
  },
  {
   "cell_type": "markdown",
   "id": "091bf8f2-a761-4f06-bbeb-6eb372d2c9e8",
   "metadata": {},
   "source": [
    "^ Most countries (more than 100 of the 221) are in the very first bin, between 0 cases per million and 25,000 cases per million.\n",
    "\n",
    "Here, we can see a _positive skew_, with the mean pulled to the right by extreme high values. This is consistent with what we discovered when we used Q-Q plots in the previous section."
   ]
  },
  {
   "cell_type": "markdown",
   "id": "5a9d0e72-60ad-4bad-a1ce-3c171d121b82",
   "metadata": {},
   "source": [
    "Below we create a histogram of average temperatures from the land temperature dataset:"
   ]
  },
  {
   "cell_type": "code",
   "execution_count": 191,
   "id": "saved-share",
   "metadata": {
    "tags": []
   },
   "outputs": [
    {
     "data": {
      "image/png": "[encoded data removed]",
      "text/plain": [
       "<Figure size 432x288 with 1 Axes>"
      ]
     },
     "metadata": {
      "needs_background": "light"
     },
     "output_type": "display_data"
    }
   ],
   "source": [
    "# Plot the histogram.\n",
    "ax = land_temps[\"avgtemp\"].hist()\n",
    "\n",
    "# Plot the mean line.\n",
    "ax.axvline(\n",
    "    land_temps[\"avgtemp\"].mean(),\n",
    "    color=\"red\",\n",
    "    linestyle=\"dashed\",\n",
    "    linewidth=1,\n",
    "    label=\"mean\",\n",
    ")\n",
    "\n",
    "# Plot the median line.\n",
    "ax.axvline(\n",
    "    land_temps[\"avgtemp\"].median(),\n",
    "    color=\"black\",\n",
    "    linestyle=\"dashed\",\n",
    "    linewidth=1,\n",
    "    label=\"median\",\n",
    ")\n",
    "\n",
    "ax.set(\n",
    "    title=\"Average Land Temperature\",\n",
    "    xlabel=\"Average Temperature\",\n",
    "    ylabel=\"Number of weather stations\",\n",
    ")\n",
    "_ = ax.legend()"
   ]
  },
  {
   "cell_type": "markdown",
   "id": "3b2c7377-2818-4311-b25c-cd1af4a825b3",
   "metadata": {},
   "source": [
    "Except for a few highly negative values, this distribution looks closer to normal. The mean and the median are quite close and that the distribution looks fairly symmetrical.\n",
    "\n",
    "We should take a look a the observatinos at the extreme left of the distribution. They are all in Antartica or the extreme north of Canada."
   ]
  },
  {
   "cell_type": "code",
   "execution_count": 83,
   "id": "smart-talent",
   "metadata": {},
   "outputs": [
    {
     "data": {
      "text/html": [
       "<div>\n",
       "<style scoped>\n",
       "    .dataframe tbody tr th:only-of-type {\n",
       "        vertical-align: middle;\n",
       "    }\n",
       "\n",
       "    .dataframe tbody tr th {\n",
       "        vertical-align: top;\n",
       "    }\n",
       "\n",
       "    .dataframe thead th {\n",
       "        text-align: right;\n",
       "    }\n",
       "</style>\n",
       "<table border=\"1\" class=\"dataframe\">\n",
       "  <thead>\n",
       "    <tr style=\"text-align: right;\">\n",
       "      <th></th>\n",
       "      <th>station</th>\n",
       "      <th>country</th>\n",
       "      <th>avgtemp</th>\n",
       "    </tr>\n",
       "  </thead>\n",
       "  <tbody>\n",
       "    <tr>\n",
       "      <th>827</th>\n",
       "      <td>DOME_PLATEAU_DOME_A</td>\n",
       "      <td>Antarctica</td>\n",
       "      <td>-60.821000</td>\n",
       "    </tr>\n",
       "    <tr>\n",
       "      <th>830</th>\n",
       "      <td>VOSTOK</td>\n",
       "      <td>Antarctica</td>\n",
       "      <td>-54.491667</td>\n",
       "    </tr>\n",
       "    <tr>\n",
       "      <th>837</th>\n",
       "      <td>DOME_FUJI</td>\n",
       "      <td>Antarctica</td>\n",
       "      <td>-53.375000</td>\n",
       "    </tr>\n",
       "    <tr>\n",
       "      <th>844</th>\n",
       "      <td>DOME_C_II</td>\n",
       "      <td>Antarctica</td>\n",
       "      <td>-50.516667</td>\n",
       "    </tr>\n",
       "    <tr>\n",
       "      <th>853</th>\n",
       "      <td>AMUNDSEN_SCOTT</td>\n",
       "      <td>Antarctica</td>\n",
       "      <td>-48.408333</td>\n",
       "    </tr>\n",
       "    <tr>\n",
       "      <th>842</th>\n",
       "      <td>NICO</td>\n",
       "      <td>Antarctica</td>\n",
       "      <td>-48.406667</td>\n",
       "    </tr>\n",
       "    <tr>\n",
       "      <th>804</th>\n",
       "      <td>HENRY</td>\n",
       "      <td>Antarctica</td>\n",
       "      <td>-47.316667</td>\n",
       "    </tr>\n",
       "    <tr>\n",
       "      <th>838</th>\n",
       "      <td>RELAY_STAT</td>\n",
       "      <td>Antarctica</td>\n",
       "      <td>-46.091667</td>\n",
       "    </tr>\n",
       "    <tr>\n",
       "      <th>828</th>\n",
       "      <td>DOME_PLATEAU_EAGLE</td>\n",
       "      <td>Antarctica</td>\n",
       "      <td>-43.006667</td>\n",
       "    </tr>\n",
       "    <tr>\n",
       "      <th>819</th>\n",
       "      <td>KOHNENEP9</td>\n",
       "      <td>Antarctica</td>\n",
       "      <td>-42.407500</td>\n",
       "    </tr>\n",
       "    <tr>\n",
       "      <th>1299</th>\n",
       "      <td>FORT_ROSS</td>\n",
       "      <td>Canada</td>\n",
       "      <td>-30.270000</td>\n",
       "    </tr>\n",
       "    <tr>\n",
       "      <th>1300</th>\n",
       "      <td>GATESHEAD_ISLAND</td>\n",
       "      <td>Canada</td>\n",
       "      <td>-28.697500</td>\n",
       "    </tr>\n",
       "    <tr>\n",
       "      <th>811</th>\n",
       "      <td>BYRD_STATION</td>\n",
       "      <td>Antarctica</td>\n",
       "      <td>-25.812500</td>\n",
       "    </tr>\n",
       "    <tr>\n",
       "      <th>816</th>\n",
       "      <td>GILL</td>\n",
       "      <td>Antarctica</td>\n",
       "      <td>-25.450000</td>\n",
       "    </tr>\n",
       "  </tbody>\n",
       "</table>\n",
       "</div>"
      ],
      "text/plain": [
       "                  station     country    avgtemp\n",
       "827   DOME_PLATEAU_DOME_A  Antarctica -60.821000\n",
       "830                VOSTOK  Antarctica -54.491667\n",
       "837             DOME_FUJI  Antarctica -53.375000\n",
       "844             DOME_C_II  Antarctica -50.516667\n",
       "853        AMUNDSEN_SCOTT  Antarctica -48.408333\n",
       "842                  NICO  Antarctica -48.406667\n",
       "804                 HENRY  Antarctica -47.316667\n",
       "838            RELAY_STAT  Antarctica -46.091667\n",
       "828    DOME_PLATEAU_EAGLE  Antarctica -43.006667\n",
       "819             KOHNENEP9  Antarctica -42.407500\n",
       "1299            FORT_ROSS      Canada -30.270000\n",
       "1300     GATESHEAD_ISLAND      Canada -28.697500\n",
       "811          BYRD_STATION  Antarctica -25.812500\n",
       "816                  GILL  Antarctica -25.450000"
      ]
     },
     "execution_count": 83,
     "metadata": {},
     "output_type": "execute_result"
    }
   ],
   "source": [
    "land_temps.loc[land_temps.avgtemp < -25, [\"station\", \"country\", \"avgtemp\"]].sort_values(\n",
    "    [\"avgtemp\"], ascending=True\n",
    ")"
   ]
  },
  {
   "cell_type": "markdown",
   "id": "8bebb455-ceaa-4cca-8299-4ee505d22e68",
   "metadata": {},
   "source": [
    "### Using Boxplots"
   ]
  },
  {
   "cell_type": "markdown",
   "id": "0d0841fb-453e-4e1f-8e96-996d51c2600b",
   "metadata": {},
   "source": [
    "An excellent way to visualize central tendency, spread and outliers at the same time is with a **boxplot**.\n",
    "\n",
    "**Boxplots** shows us the interquartile range, with whiskers representing 1.5 times the interquartile range, and data points beyond that range can be considered extreme values."
   ]
  },
  {
   "cell_type": "code",
   "execution_count": 222,
   "id": "21c7c033-8e9f-4254-80a8-920841aecd71",
   "metadata": {
    "tags": []
   },
   "outputs": [
    {
     "data": {
      "image/png": "[encoded data removed]",
      "text/plain": [
       "<Figure size 432x288 with 1 Axes>"
      ]
     },
     "metadata": {
      "needs_background": "light"
     },
     "output_type": "display_data"
    }
   ],
   "source": [
    "total_cases_mill = covid_totals.total_cases_mill.dropna()\n",
    "first_quartile = total_cases_mill.quantile(0.25)\n",
    "third_quartile = total_cases_mill.quantile(0.75)\n",
    "\n",
    "interquartile_range = 1.5 * (third_quartile - first_quartile)\n",
    "low_extreme_value = first_quartile - interquartile_range\n",
    "high_extreme_value = third_quartile + interquartile_range\n",
    "\n",
    "plt.boxplot(total_cases_mill, labels=[\"Total Cases per Million\"])\n",
    "arrow_params = dict(\n",
    "    size=8,\n",
    "    arrowprops=dict(facecolor=\"black\", headwidth=2, width=0.5, shrink=0.02),\n",
    ")\n",
    "plt.annotate(\n",
    "    \"Extreme Value Threshold\",\n",
    "    xy=(1.05, high_extreme_value),\n",
    "    xytext=(1.15, high_extreme_value),\n",
    "    **arrow_params,\n",
    ")\n",
    "plt.annotate(\n",
    "    \"1st quartile\",\n",
    "    xy=(1.08, first_quartile),\n",
    "    xytext=(1.15, first_quartile),\n",
    "    **arrow_params,\n",
    ")\n",
    "plt.annotate(\n",
    "    \"3rd quartile\",\n",
    "    xy=(1.08, third_quartile),\n",
    "    xytext=(1.15, third_quartile),\n",
    "    **arrow_params,\n",
    ")\n",
    "plt.annotate(\n",
    "    \"Median\",\n",
    "    xy=(1.08, total_cases_mill.median()),\n",
    "    xytext=(1.15, total_cases_mill.median()),\n",
    "    **arrow_params,\n",
    ")\n",
    "pass"
   ]
  },
  {
   "cell_type": "markdown",
   "id": "981a56b3-38fa-4567-a614-48799dd21964",
   "metadata": {},
   "source": [
    "^ The median is at the lower end of the range. This is what we see in distributions with positive skews."
   ]
  },
  {
   "cell_type": "code",
   "execution_count": 219,
   "id": "e61424ca-68c1-4704-96b9-9a4d37cbd917",
   "metadata": {
    "tags": []
   },
   "outputs": [
    {
     "data": {
      "image/png": "[encoded data removed]",
      "text/plain": [
       "<Figure size 432x288 with 1 Axes>"
      ]
     },
     "metadata": {
      "needs_background": "light"
     },
     "output_type": "display_data"
    }
   ],
   "source": [
    "plt.boxplot(land_temps.avgtemp.dropna(), labels=[\"Boxplot of Average Temperature\"])\n",
    "plt.title(\"Average Temperature\")\n",
    "pass"
   ]
  },
  {
   "cell_type": "markdown",
   "id": "64918da6-276d-453f-ba6a-41331f65b88d",
   "metadata": {},
   "source": [
    "^ The median line is closer to the center of the interquartile range."
   ]
  },
  {
   "cell_type": "markdown",
   "id": "2495713a-38bd-464b-982f-9588db4339bd",
   "metadata": {},
   "source": [
    "### Using Violin Plots\n",
    "\n",
    "Histogram helps us see the spread of a distribution, while boxplots make it easy to identify outliers. We can get a good sense of both the spread of the distribution and the outliers in one graphich with a violin plot.\n",
    "\n",
    "**Violin plots** combine histograms and boxplots into one plot. They show the IQR, median, and whiskers, as well as the frequency of the observations at all the value ranges."
   ]
  },
  {
   "cell_type": "code",
   "execution_count": 238,
   "id": "b00f803b-4424-47a4-b68e-2187f280564c",
   "metadata": {
    "tags": []
   },
   "outputs": [
    {
     "data": {
      "image/png": "[encoded data removed]",
      "text/plain": [
       "<Figure size 432x288 with 2 Axes>"
      ]
     },
     "metadata": {
      "needs_background": "light"
     },
     "output_type": "display_data"
    }
   ],
   "source": [
    "import seaborn as sns\n",
    "\n",
    "fig = plt.figure()\n",
    "fig.suptitle(\"Violin Plots of COVID Cases and Land Temperatures\")\n",
    "\n",
    "fig_rows = 2\n",
    "fig_cols = 1\n",
    "\n",
    "ax1 = plt.subplot(fig_rows, fig_cols, 1)\n",
    "ax1.set(xlabel=\"Case per Million\", yticklabels=[])\n",
    "sns.violinplot(data=covid_totals.total_cases_mill, color=\"lightblue\", orient=\"h\")\n",
    "\n",
    "ax2 = plt.subplot(fig_rows, fig_cols, 2)\n",
    "ax2.set(xlabel=\"Average Temperature\", yticklabels=[])\n",
    "sns.violinplot(data=land_temps.avgtemp, color=\"wheat\", orient=\"h\")\n",
    "plt.tight_layout()"
   ]
  },
  {
   "cell_type": "markdown",
   "id": "3d801e44-893b-4e17-8c25-f0c12f349e99",
   "metadata": {},
   "source": [
    "^ The black bar with the white dot in the middle is the interquartile range, while the white dot represents the median.\n",
    "\n",
    "The height of each point (when the violin plot is horizontal) gives us the relative frequency). The thin black lines to the left and right of the interquartile range are the whiskers. "
   ]
  }
 ],
 "metadata": {
  "kernelspec": {
   "display_name": "Python 3 (ipykernel)",
   "language": "python",
   "name": "python3"
  },
  "language_info": {
   "codemirror_mode": {
    "name": "ipython",
    "version": 3
   },
   "file_extension": ".py",
   "mimetype": "text/x-python",
   "name": "python",
   "nbconvert_exporter": "python",
   "pygments_lexer": "ipython3",
   "version": "3.9.16"
  }
 },
 "nbformat": 4,
 "nbformat_minor": 5
}
