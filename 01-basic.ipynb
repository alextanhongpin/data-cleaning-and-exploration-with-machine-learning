{
 "cells": [
  {
   "cell_type": "code",
   "execution_count": 1,
   "id": "stylish-google",
   "metadata": {},
   "outputs": [],
   "source": [
    "import numpy as np\n",
    "import pandas as pd\n",
    "\n",
    "nls97 = pd.read_csv(\"data/nls97.csv\")\n",
    "nls97.set_index(\"personid\", inplace=True)"
   ]
  },
  {
   "cell_type": "code",
   "execution_count": 2,
   "id": "unknown-auditor",
   "metadata": {},
   "outputs": [
    {
     "data": {
      "text/html": [
       "<div>\n",
       "<style scoped>\n",
       "    .dataframe tbody tr th:only-of-type {\n",
       "        vertical-align: middle;\n",
       "    }\n",
       "\n",
       "    .dataframe tbody tr th {\n",
       "        vertical-align: top;\n",
       "    }\n",
       "\n",
       "    .dataframe thead th {\n",
       "        text-align: right;\n",
       "    }\n",
       "</style>\n",
       "<table border=\"1\" class=\"dataframe\">\n",
       "  <thead>\n",
       "    <tr style=\"text-align: right;\">\n",
       "      <th></th>\n",
       "      <th>gender</th>\n",
       "      <th>birthmonth</th>\n",
       "      <th>birthyear</th>\n",
       "      <th>highestgradecompleted</th>\n",
       "      <th>maritalstatus</th>\n",
       "      <th>childathome</th>\n",
       "      <th>childnotathome</th>\n",
       "      <th>wageincome</th>\n",
       "      <th>weeklyhrscomputer</th>\n",
       "      <th>weeklyhrstv</th>\n",
       "      <th>...</th>\n",
       "      <th>colenrfeb13</th>\n",
       "      <th>colenroct13</th>\n",
       "      <th>colenrfeb14</th>\n",
       "      <th>colenroct14</th>\n",
       "      <th>colenrfeb15</th>\n",
       "      <th>colenroct15</th>\n",
       "      <th>colenrfeb16</th>\n",
       "      <th>colenroct16</th>\n",
       "      <th>colenrfeb17</th>\n",
       "      <th>colenroct17</th>\n",
       "    </tr>\n",
       "    <tr>\n",
       "      <th>personid</th>\n",
       "      <th></th>\n",
       "      <th></th>\n",
       "      <th></th>\n",
       "      <th></th>\n",
       "      <th></th>\n",
       "      <th></th>\n",
       "      <th></th>\n",
       "      <th></th>\n",
       "      <th></th>\n",
       "      <th></th>\n",
       "      <th></th>\n",
       "      <th></th>\n",
       "      <th></th>\n",
       "      <th></th>\n",
       "      <th></th>\n",
       "      <th></th>\n",
       "      <th></th>\n",
       "      <th></th>\n",
       "      <th></th>\n",
       "      <th></th>\n",
       "      <th></th>\n",
       "    </tr>\n",
       "  </thead>\n",
       "  <tbody>\n",
       "    <tr>\n",
       "      <th>100061</th>\n",
       "      <td>Female</td>\n",
       "      <td>5</td>\n",
       "      <td>1980</td>\n",
       "      <td>13.0</td>\n",
       "      <td>Married</td>\n",
       "      <td>4.0</td>\n",
       "      <td>0.0</td>\n",
       "      <td>12500.0</td>\n",
       "      <td>10 hours or more a week</td>\n",
       "      <td>11 to 20 hours a week</td>\n",
       "      <td>...</td>\n",
       "      <td>1. Not enrolled</td>\n",
       "      <td>1. Not enrolled</td>\n",
       "      <td>1. Not enrolled</td>\n",
       "      <td>1. Not enrolled</td>\n",
       "      <td>1. Not enrolled</td>\n",
       "      <td>1. Not enrolled</td>\n",
       "      <td>1. Not enrolled</td>\n",
       "      <td>1. Not enrolled</td>\n",
       "      <td>1. Not enrolled</td>\n",
       "      <td>1. Not enrolled</td>\n",
       "    </tr>\n",
       "    <tr>\n",
       "      <th>100139</th>\n",
       "      <td>Male</td>\n",
       "      <td>9</td>\n",
       "      <td>1983</td>\n",
       "      <td>12.0</td>\n",
       "      <td>Married</td>\n",
       "      <td>2.0</td>\n",
       "      <td>0.0</td>\n",
       "      <td>120000.0</td>\n",
       "      <td>1 to 3 hours a week</td>\n",
       "      <td>3 to 10 hours a week</td>\n",
       "      <td>...</td>\n",
       "      <td>1. Not enrolled</td>\n",
       "      <td>1. Not enrolled</td>\n",
       "      <td>1. Not enrolled</td>\n",
       "      <td>1. Not enrolled</td>\n",
       "      <td>1. Not enrolled</td>\n",
       "      <td>1. Not enrolled</td>\n",
       "      <td>1. Not enrolled</td>\n",
       "      <td>1. Not enrolled</td>\n",
       "      <td>1. Not enrolled</td>\n",
       "      <td>1. Not enrolled</td>\n",
       "    </tr>\n",
       "    <tr>\n",
       "      <th>100284</th>\n",
       "      <td>Male</td>\n",
       "      <td>11</td>\n",
       "      <td>1984</td>\n",
       "      <td>7.0</td>\n",
       "      <td>Never-married</td>\n",
       "      <td>1.0</td>\n",
       "      <td>0.0</td>\n",
       "      <td>58000.0</td>\n",
       "      <td>None</td>\n",
       "      <td>11 to 20 hours a week</td>\n",
       "      <td>...</td>\n",
       "      <td>1. Not enrolled</td>\n",
       "      <td>1. Not enrolled</td>\n",
       "      <td>1. Not enrolled</td>\n",
       "      <td>1. Not enrolled</td>\n",
       "      <td>1. Not enrolled</td>\n",
       "      <td>1. Not enrolled</td>\n",
       "      <td>1. Not enrolled</td>\n",
       "      <td>1. Not enrolled</td>\n",
       "      <td>1. Not enrolled</td>\n",
       "      <td>1. Not enrolled</td>\n",
       "    </tr>\n",
       "    <tr>\n",
       "      <th>100292</th>\n",
       "      <td>Male</td>\n",
       "      <td>4</td>\n",
       "      <td>1982</td>\n",
       "      <td>NaN</td>\n",
       "      <td>NaN</td>\n",
       "      <td>NaN</td>\n",
       "      <td>NaN</td>\n",
       "      <td>NaN</td>\n",
       "      <td>NaN</td>\n",
       "      <td>NaN</td>\n",
       "      <td>...</td>\n",
       "      <td>1. Not enrolled</td>\n",
       "      <td>1. Not enrolled</td>\n",
       "      <td>1. Not enrolled</td>\n",
       "      <td>1. Not enrolled</td>\n",
       "      <td>1. Not enrolled</td>\n",
       "      <td>1. Not enrolled</td>\n",
       "      <td>NaN</td>\n",
       "      <td>NaN</td>\n",
       "      <td>NaN</td>\n",
       "      <td>NaN</td>\n",
       "    </tr>\n",
       "    <tr>\n",
       "      <th>100583</th>\n",
       "      <td>Male</td>\n",
       "      <td>1</td>\n",
       "      <td>1980</td>\n",
       "      <td>13.0</td>\n",
       "      <td>Married</td>\n",
       "      <td>4.0</td>\n",
       "      <td>0.0</td>\n",
       "      <td>30000.0</td>\n",
       "      <td>Less than 1 hour a week</td>\n",
       "      <td>3 to 10 hours a week</td>\n",
       "      <td>...</td>\n",
       "      <td>1. Not enrolled</td>\n",
       "      <td>1. Not enrolled</td>\n",
       "      <td>1. Not enrolled</td>\n",
       "      <td>1. Not enrolled</td>\n",
       "      <td>1. Not enrolled</td>\n",
       "      <td>1. Not enrolled</td>\n",
       "      <td>1. Not enrolled</td>\n",
       "      <td>1. Not enrolled</td>\n",
       "      <td>1. Not enrolled</td>\n",
       "      <td>1. Not enrolled</td>\n",
       "    </tr>\n",
       "  </tbody>\n",
       "</table>\n",
       "<p>5 rows × 88 columns</p>\n",
       "</div>"
      ],
      "text/plain": [
       "          gender  birthmonth  birthyear  highestgradecompleted  maritalstatus  \\\n",
       "personid                                                                        \n",
       "100061    Female           5       1980                   13.0        Married   \n",
       "100139      Male           9       1983                   12.0        Married   \n",
       "100284      Male          11       1984                    7.0  Never-married   \n",
       "100292      Male           4       1982                    NaN            NaN   \n",
       "100583      Male           1       1980                   13.0        Married   \n",
       "\n",
       "          childathome  childnotathome  wageincome        weeklyhrscomputer  \\\n",
       "personid                                                                     \n",
       "100061            4.0             0.0     12500.0  10 hours or more a week   \n",
       "100139            2.0             0.0    120000.0      1 to 3 hours a week   \n",
       "100284            1.0             0.0     58000.0                     None   \n",
       "100292            NaN             NaN         NaN                      NaN   \n",
       "100583            4.0             0.0     30000.0  Less than 1 hour a week   \n",
       "\n",
       "                    weeklyhrstv  ...      colenrfeb13      colenroct13  \\\n",
       "personid                         ...                                     \n",
       "100061    11 to 20 hours a week  ...  1. Not enrolled  1. Not enrolled   \n",
       "100139     3 to 10 hours a week  ...  1. Not enrolled  1. Not enrolled   \n",
       "100284    11 to 20 hours a week  ...  1. Not enrolled  1. Not enrolled   \n",
       "100292                      NaN  ...  1. Not enrolled  1. Not enrolled   \n",
       "100583     3 to 10 hours a week  ...  1. Not enrolled  1. Not enrolled   \n",
       "\n",
       "              colenrfeb14      colenroct14      colenrfeb15      colenroct15  \\\n",
       "personid                                                                       \n",
       "100061    1. Not enrolled  1. Not enrolled  1. Not enrolled  1. Not enrolled   \n",
       "100139    1. Not enrolled  1. Not enrolled  1. Not enrolled  1. Not enrolled   \n",
       "100284    1. Not enrolled  1. Not enrolled  1. Not enrolled  1. Not enrolled   \n",
       "100292    1. Not enrolled  1. Not enrolled  1. Not enrolled  1. Not enrolled   \n",
       "100583    1. Not enrolled  1. Not enrolled  1. Not enrolled  1. Not enrolled   \n",
       "\n",
       "              colenrfeb16      colenroct16      colenrfeb17      colenroct17  \n",
       "personid                                                                      \n",
       "100061    1. Not enrolled  1. Not enrolled  1. Not enrolled  1. Not enrolled  \n",
       "100139    1. Not enrolled  1. Not enrolled  1. Not enrolled  1. Not enrolled  \n",
       "100284    1. Not enrolled  1. Not enrolled  1. Not enrolled  1. Not enrolled  \n",
       "100292                NaN              NaN              NaN              NaN  \n",
       "100583    1. Not enrolled  1. Not enrolled  1. Not enrolled  1. Not enrolled  \n",
       "\n",
       "[5 rows x 88 columns]"
      ]
     },
     "execution_count": 2,
     "metadata": {},
     "output_type": "execute_result"
    }
   ],
   "source": [
    "nls97.head()"
   ]
  },
  {
   "cell_type": "code",
   "execution_count": 3,
   "id": "elementary-transparency",
   "metadata": {},
   "outputs": [
    {
     "name": "stdout",
     "output_type": "stream",
     "text": [
      "<class 'pandas.core.frame.DataFrame'>\n",
      "Int64Index: 8984 entries, 100061 to 999963\n",
      "Data columns (total 88 columns):\n",
      " #   Column                 Non-Null Count  Dtype  \n",
      "---  ------                 --------------  -----  \n",
      " 0   gender                 8984 non-null   object \n",
      " 1   birthmonth             8984 non-null   int64  \n",
      " 2   birthyear              8984 non-null   int64  \n",
      " 3   highestgradecompleted  6663 non-null   float64\n",
      " 4   maritalstatus          6672 non-null   object \n",
      " 5   childathome            4791 non-null   float64\n",
      " 6   childnotathome         4791 non-null   float64\n",
      " 7   wageincome             5091 non-null   float64\n",
      " 8   weeklyhrscomputer      6710 non-null   object \n",
      " 9   weeklyhrstv            6711 non-null   object \n",
      " 10  nightlyhrssleep        6706 non-null   float64\n",
      " 11  satverbal              1406 non-null   float64\n",
      " 12  satmath                1407 non-null   float64\n",
      " 13  gpaoverall             6004 non-null   float64\n",
      " 14  gpaenglish             5798 non-null   float64\n",
      " 15  gpamath                5766 non-null   float64\n",
      " 16  gpascience             5684 non-null   float64\n",
      " 17  highestdegree          8953 non-null   object \n",
      " 18  govprovidejobs         1833 non-null   object \n",
      " 19  govpricecontrols       1859 non-null   object \n",
      " 20  govhealthcare          1874 non-null   object \n",
      " 21  govelderliving         1872 non-null   object \n",
      " 22  govindhelp             1815 non-null   object \n",
      " 23  govunemp               1811 non-null   object \n",
      " 24  govincomediff          1775 non-null   object \n",
      " 25  govcollegefinance      1875 non-null   object \n",
      " 26  govdecenthousing       1847 non-null   object \n",
      " 27  govprotectenvironment  1860 non-null   object \n",
      " 28  weeksworked00          8603 non-null   float64\n",
      " 29  weeksworked01          8564 non-null   float64\n",
      " 30  weeksworked02          8556 non-null   float64\n",
      " 31  weeksworked03          8490 non-null   float64\n",
      " 32  weeksworked04          8458 non-null   float64\n",
      " 33  weeksworked05          8403 non-null   float64\n",
      " 34  weeksworked06          8340 non-null   float64\n",
      " 35  weeksworked07          8272 non-null   float64\n",
      " 36  weeksworked08          8186 non-null   float64\n",
      " 37  weeksworked09          8146 non-null   float64\n",
      " 38  weeksworked10          8054 non-null   float64\n",
      " 39  weeksworked11          7968 non-null   float64\n",
      " 40  weeksworked12          7747 non-null   float64\n",
      " 41  weeksworked13          7680 non-null   float64\n",
      " 42  weeksworked14          7612 non-null   float64\n",
      " 43  weeksworked15          7389 non-null   float64\n",
      " 44  weeksworked16          7068 non-null   float64\n",
      " 45  weeksworked17          6670 non-null   float64\n",
      " 46  colenrfeb97            1250 non-null   object \n",
      " 47  colenroct97            8501 non-null   object \n",
      " 48  colenrfeb98            8501 non-null   object \n",
      " 49  colenroct98            8888 non-null   object \n",
      " 50  colenrfeb99            8865 non-null   object \n",
      " 51  colenroct99            8851 non-null   object \n",
      " 52  colenrfeb00            8820 non-null   object \n",
      " 53  colenroct00            8805 non-null   object \n",
      " 54  colenrfeb01            8786 non-null   object \n",
      " 55  colenroct01            8758 non-null   object \n",
      " 56  colenrfeb02            8732 non-null   object \n",
      " 57  colenroct02            8698 non-null   object \n",
      " 58  colenrfeb03            8658 non-null   object \n",
      " 59  colenroct03            8622 non-null   object \n",
      " 60  colenrfeb04            8578 non-null   object \n",
      " 61  colenroct04            8546 non-null   object \n",
      " 62  colenrfeb05            8508 non-null   object \n",
      " 63  colenroct05            8471 non-null   object \n",
      " 64  colenrfeb06            8426 non-null   object \n",
      " 65  colenroct06            8407 non-null   object \n",
      " 66  colenrfeb07            8352 non-null   object \n",
      " 67  colenroct07            8331 non-null   object \n",
      " 68  colenrfeb08            8289 non-null   object \n",
      " 69  colenroct08            8280 non-null   object \n",
      " 70  colenrfeb09            8236 non-null   object \n",
      " 71  colenroct09            8193 non-null   object \n",
      " 72  colenrfeb10            8116 non-null   object \n",
      " 73  colenroct10            8091 non-null   object \n",
      " 74  colenrfeb11            8037 non-null   object \n",
      " 75  colenroct11            7972 non-null   object \n",
      " 76  colenrfeb12            7794 non-null   object \n",
      " 77  colenroct12            7754 non-null   object \n",
      " 78  colenrfeb13            7754 non-null   object \n",
      " 79  colenroct13            7754 non-null   object \n",
      " 80  colenrfeb14            7624 non-null   object \n",
      " 81  colenroct14            7469 non-null   object \n",
      " 82  colenrfeb15            7469 non-null   object \n",
      " 83  colenroct15            7469 non-null   object \n",
      " 84  colenrfeb16            7036 non-null   object \n",
      " 85  colenroct16            6733 non-null   object \n",
      " 86  colenrfeb17            6733 non-null   object \n",
      " 87  colenroct17            6734 non-null   object \n",
      "dtypes: float64(29), int64(2), object(57)\n",
      "memory usage: 6.1+ MB\n"
     ]
    }
   ],
   "source": [
    "nls97.info()"
   ]
  },
  {
   "cell_type": "code",
   "execution_count": 4,
   "id": "asian-silly",
   "metadata": {},
   "outputs": [
    {
     "data": {
      "text/html": [
       "<div>\n",
       "<style scoped>\n",
       "    .dataframe tbody tr th:only-of-type {\n",
       "        vertical-align: middle;\n",
       "    }\n",
       "\n",
       "    .dataframe tbody tr th {\n",
       "        vertical-align: top;\n",
       "    }\n",
       "\n",
       "    .dataframe thead th {\n",
       "        text-align: right;\n",
       "    }\n",
       "</style>\n",
       "<table border=\"1\" class=\"dataframe\">\n",
       "  <thead>\n",
       "    <tr style=\"text-align: right;\">\n",
       "      <th></th>\n",
       "      <th>birthmonth</th>\n",
       "      <th>birthyear</th>\n",
       "      <th>highestgradecompleted</th>\n",
       "      <th>childathome</th>\n",
       "      <th>childnotathome</th>\n",
       "      <th>wageincome</th>\n",
       "      <th>nightlyhrssleep</th>\n",
       "      <th>satverbal</th>\n",
       "      <th>satmath</th>\n",
       "      <th>gpaoverall</th>\n",
       "      <th>...</th>\n",
       "      <th>weeksworked08</th>\n",
       "      <th>weeksworked09</th>\n",
       "      <th>weeksworked10</th>\n",
       "      <th>weeksworked11</th>\n",
       "      <th>weeksworked12</th>\n",
       "      <th>weeksworked13</th>\n",
       "      <th>weeksworked14</th>\n",
       "      <th>weeksworked15</th>\n",
       "      <th>weeksworked16</th>\n",
       "      <th>weeksworked17</th>\n",
       "    </tr>\n",
       "  </thead>\n",
       "  <tbody>\n",
       "    <tr>\n",
       "      <th>count</th>\n",
       "      <td>8984.000000</td>\n",
       "      <td>8984.000000</td>\n",
       "      <td>6663.000000</td>\n",
       "      <td>4791.000000</td>\n",
       "      <td>4791.000000</td>\n",
       "      <td>5091.000000</td>\n",
       "      <td>6706.000000</td>\n",
       "      <td>1406.000000</td>\n",
       "      <td>1407.000000</td>\n",
       "      <td>6004.000000</td>\n",
       "      <td>...</td>\n",
       "      <td>8186.000000</td>\n",
       "      <td>8146.000000</td>\n",
       "      <td>8054.000000</td>\n",
       "      <td>7968.000000</td>\n",
       "      <td>7747.000000</td>\n",
       "      <td>7680.000000</td>\n",
       "      <td>7612.000000</td>\n",
       "      <td>7389.000000</td>\n",
       "      <td>7068.000000</td>\n",
       "      <td>6670.000000</td>\n",
       "    </tr>\n",
       "    <tr>\n",
       "      <th>mean</th>\n",
       "      <td>6.555988</td>\n",
       "      <td>1982.010352</td>\n",
       "      <td>14.059883</td>\n",
       "      <td>1.859320</td>\n",
       "      <td>0.410144</td>\n",
       "      <td>49477.022196</td>\n",
       "      <td>6.637340</td>\n",
       "      <td>499.724040</td>\n",
       "      <td>500.590618</td>\n",
       "      <td>281.840773</td>\n",
       "      <td>...</td>\n",
       "      <td>39.287564</td>\n",
       "      <td>37.419961</td>\n",
       "      <td>37.029923</td>\n",
       "      <td>37.911270</td>\n",
       "      <td>38.036918</td>\n",
       "      <td>38.791016</td>\n",
       "      <td>38.316999</td>\n",
       "      <td>39.605630</td>\n",
       "      <td>39.127476</td>\n",
       "      <td>39.016642</td>\n",
       "    </tr>\n",
       "    <tr>\n",
       "      <th>std</th>\n",
       "      <td>3.469429</td>\n",
       "      <td>1.396870</td>\n",
       "      <td>4.507592</td>\n",
       "      <td>1.259053</td>\n",
       "      <td>0.947590</td>\n",
       "      <td>40677.696798</td>\n",
       "      <td>1.364404</td>\n",
       "      <td>112.166256</td>\n",
       "      <td>114.953309</td>\n",
       "      <td>61.635667</td>\n",
       "      <td>...</td>\n",
       "      <td>19.041225</td>\n",
       "      <td>20.338602</td>\n",
       "      <td>20.822536</td>\n",
       "      <td>21.043442</td>\n",
       "      <td>21.115012</td>\n",
       "      <td>20.511653</td>\n",
       "      <td>21.000103</td>\n",
       "      <td>19.926533</td>\n",
       "      <td>21.336629</td>\n",
       "      <td>19.465974</td>\n",
       "    </tr>\n",
       "    <tr>\n",
       "      <th>min</th>\n",
       "      <td>1.000000</td>\n",
       "      <td>1980.000000</td>\n",
       "      <td>5.000000</td>\n",
       "      <td>0.000000</td>\n",
       "      <td>0.000000</td>\n",
       "      <td>0.000000</td>\n",
       "      <td>0.000000</td>\n",
       "      <td>14.000000</td>\n",
       "      <td>7.000000</td>\n",
       "      <td>10.000000</td>\n",
       "      <td>...</td>\n",
       "      <td>0.000000</td>\n",
       "      <td>0.000000</td>\n",
       "      <td>0.000000</td>\n",
       "      <td>0.000000</td>\n",
       "      <td>0.000000</td>\n",
       "      <td>0.000000</td>\n",
       "      <td>0.000000</td>\n",
       "      <td>0.000000</td>\n",
       "      <td>0.000000</td>\n",
       "      <td>0.000000</td>\n",
       "    </tr>\n",
       "    <tr>\n",
       "      <th>25%</th>\n",
       "      <td>3.000000</td>\n",
       "      <td>1981.000000</td>\n",
       "      <td>12.000000</td>\n",
       "      <td>1.000000</td>\n",
       "      <td>0.000000</td>\n",
       "      <td>25000.000000</td>\n",
       "      <td>6.000000</td>\n",
       "      <td>430.000000</td>\n",
       "      <td>430.000000</td>\n",
       "      <td>243.000000</td>\n",
       "      <td>...</td>\n",
       "      <td>30.000000</td>\n",
       "      <td>22.000000</td>\n",
       "      <td>20.000000</td>\n",
       "      <td>22.000000</td>\n",
       "      <td>22.000000</td>\n",
       "      <td>28.000000</td>\n",
       "      <td>23.000000</td>\n",
       "      <td>33.000000</td>\n",
       "      <td>23.000000</td>\n",
       "      <td>37.000000</td>\n",
       "    </tr>\n",
       "    <tr>\n",
       "      <th>50%</th>\n",
       "      <td>7.000000</td>\n",
       "      <td>1982.000000</td>\n",
       "      <td>14.000000</td>\n",
       "      <td>2.000000</td>\n",
       "      <td>0.000000</td>\n",
       "      <td>40000.000000</td>\n",
       "      <td>7.000000</td>\n",
       "      <td>500.000000</td>\n",
       "      <td>500.000000</td>\n",
       "      <td>286.000000</td>\n",
       "      <td>...</td>\n",
       "      <td>52.000000</td>\n",
       "      <td>52.000000</td>\n",
       "      <td>52.000000</td>\n",
       "      <td>53.000000</td>\n",
       "      <td>52.000000</td>\n",
       "      <td>52.000000</td>\n",
       "      <td>52.000000</td>\n",
       "      <td>52.000000</td>\n",
       "      <td>53.000000</td>\n",
       "      <td>49.000000</td>\n",
       "    </tr>\n",
       "    <tr>\n",
       "      <th>75%</th>\n",
       "      <td>10.000000</td>\n",
       "      <td>1983.000000</td>\n",
       "      <td>16.000000</td>\n",
       "      <td>3.000000</td>\n",
       "      <td>0.000000</td>\n",
       "      <td>62000.000000</td>\n",
       "      <td>8.000000</td>\n",
       "      <td>570.000000</td>\n",
       "      <td>580.000000</td>\n",
       "      <td>326.000000</td>\n",
       "      <td>...</td>\n",
       "      <td>52.000000</td>\n",
       "      <td>52.000000</td>\n",
       "      <td>52.000000</td>\n",
       "      <td>53.000000</td>\n",
       "      <td>52.000000</td>\n",
       "      <td>52.000000</td>\n",
       "      <td>52.000000</td>\n",
       "      <td>52.000000</td>\n",
       "      <td>53.000000</td>\n",
       "      <td>52.000000</td>\n",
       "    </tr>\n",
       "    <tr>\n",
       "      <th>max</th>\n",
       "      <td>12.000000</td>\n",
       "      <td>1984.000000</td>\n",
       "      <td>95.000000</td>\n",
       "      <td>9.000000</td>\n",
       "      <td>12.000000</td>\n",
       "      <td>235884.000000</td>\n",
       "      <td>20.000000</td>\n",
       "      <td>800.000000</td>\n",
       "      <td>800.000000</td>\n",
       "      <td>417.000000</td>\n",
       "      <td>...</td>\n",
       "      <td>52.000000</td>\n",
       "      <td>52.000000</td>\n",
       "      <td>52.000000</td>\n",
       "      <td>53.000000</td>\n",
       "      <td>52.000000</td>\n",
       "      <td>52.000000</td>\n",
       "      <td>52.000000</td>\n",
       "      <td>52.000000</td>\n",
       "      <td>53.000000</td>\n",
       "      <td>52.000000</td>\n",
       "    </tr>\n",
       "  </tbody>\n",
       "</table>\n",
       "<p>8 rows × 31 columns</p>\n",
       "</div>"
      ],
      "text/plain": [
       "        birthmonth    birthyear  highestgradecompleted  childathome  \\\n",
       "count  8984.000000  8984.000000            6663.000000  4791.000000   \n",
       "mean      6.555988  1982.010352              14.059883     1.859320   \n",
       "std       3.469429     1.396870               4.507592     1.259053   \n",
       "min       1.000000  1980.000000               5.000000     0.000000   \n",
       "25%       3.000000  1981.000000              12.000000     1.000000   \n",
       "50%       7.000000  1982.000000              14.000000     2.000000   \n",
       "75%      10.000000  1983.000000              16.000000     3.000000   \n",
       "max      12.000000  1984.000000              95.000000     9.000000   \n",
       "\n",
       "       childnotathome     wageincome  nightlyhrssleep    satverbal  \\\n",
       "count     4791.000000    5091.000000      6706.000000  1406.000000   \n",
       "mean         0.410144   49477.022196         6.637340   499.724040   \n",
       "std          0.947590   40677.696798         1.364404   112.166256   \n",
       "min          0.000000       0.000000         0.000000    14.000000   \n",
       "25%          0.000000   25000.000000         6.000000   430.000000   \n",
       "50%          0.000000   40000.000000         7.000000   500.000000   \n",
       "75%          0.000000   62000.000000         8.000000   570.000000   \n",
       "max         12.000000  235884.000000        20.000000   800.000000   \n",
       "\n",
       "           satmath   gpaoverall  ...  weeksworked08  weeksworked09  \\\n",
       "count  1407.000000  6004.000000  ...    8186.000000    8146.000000   \n",
       "mean    500.590618   281.840773  ...      39.287564      37.419961   \n",
       "std     114.953309    61.635667  ...      19.041225      20.338602   \n",
       "min       7.000000    10.000000  ...       0.000000       0.000000   \n",
       "25%     430.000000   243.000000  ...      30.000000      22.000000   \n",
       "50%     500.000000   286.000000  ...      52.000000      52.000000   \n",
       "75%     580.000000   326.000000  ...      52.000000      52.000000   \n",
       "max     800.000000   417.000000  ...      52.000000      52.000000   \n",
       "\n",
       "       weeksworked10  weeksworked11  weeksworked12  weeksworked13  \\\n",
       "count    8054.000000    7968.000000    7747.000000    7680.000000   \n",
       "mean       37.029923      37.911270      38.036918      38.791016   \n",
       "std        20.822536      21.043442      21.115012      20.511653   \n",
       "min         0.000000       0.000000       0.000000       0.000000   \n",
       "25%        20.000000      22.000000      22.000000      28.000000   \n",
       "50%        52.000000      53.000000      52.000000      52.000000   \n",
       "75%        52.000000      53.000000      52.000000      52.000000   \n",
       "max        52.000000      53.000000      52.000000      52.000000   \n",
       "\n",
       "       weeksworked14  weeksworked15  weeksworked16  weeksworked17  \n",
       "count    7612.000000    7389.000000    7068.000000    6670.000000  \n",
       "mean       38.316999      39.605630      39.127476      39.016642  \n",
       "std        21.000103      19.926533      21.336629      19.465974  \n",
       "min         0.000000       0.000000       0.000000       0.000000  \n",
       "25%        23.000000      33.000000      23.000000      37.000000  \n",
       "50%        52.000000      52.000000      53.000000      49.000000  \n",
       "75%        52.000000      52.000000      53.000000      52.000000  \n",
       "max        52.000000      52.000000      53.000000      52.000000  \n",
       "\n",
       "[8 rows x 31 columns]"
      ]
     },
     "execution_count": 4,
     "metadata": {},
     "output_type": "execute_result"
    }
   ],
   "source": [
    "nls97.describe()"
   ]
  },
  {
   "cell_type": "code",
   "execution_count": 6,
   "id": "handmade-coral",
   "metadata": {},
   "outputs": [
    {
     "data": {
      "text/plain": [
       "'personid'"
      ]
     },
     "execution_count": 6,
     "metadata": {},
     "output_type": "execute_result"
    }
   ],
   "source": [
    "# Demographic and employment data columns\n",
    "democolumns = [\n",
    "    \"gender\",\n",
    "    \"birthyear\",\n",
    "    \"maritalstatus\",\n",
    "    \"weeksworked16\",\n",
    "    \"wageincome\",\n",
    "    \"highestdegree\",\n",
    "]\n",
    "\n",
    "nls97demo = nls97[democolumns]\n",
    "nls97demo.index.name  # New dataframe retains the index of old data frame."
   ]
  },
  {
   "cell_type": "code",
   "execution_count": 7,
   "id": "forbidden-necklace",
   "metadata": {},
   "outputs": [
    {
     "data": {
      "text/html": [
       "<div>\n",
       "<style scoped>\n",
       "    .dataframe tbody tr th:only-of-type {\n",
       "        vertical-align: middle;\n",
       "    }\n",
       "\n",
       "    .dataframe tbody tr th {\n",
       "        vertical-align: top;\n",
       "    }\n",
       "\n",
       "    .dataframe thead th {\n",
       "        text-align: right;\n",
       "    }\n",
       "</style>\n",
       "<table border=\"1\" class=\"dataframe\">\n",
       "  <thead>\n",
       "    <tr style=\"text-align: right;\">\n",
       "      <th>personid</th>\n",
       "      <th>195884</th>\n",
       "      <th>195891</th>\n",
       "      <th>195970</th>\n",
       "      <th>195996</th>\n",
       "    </tr>\n",
       "  </thead>\n",
       "  <tbody>\n",
       "    <tr>\n",
       "      <th>gender</th>\n",
       "      <td>Male</td>\n",
       "      <td>Male</td>\n",
       "      <td>Female</td>\n",
       "      <td>Female</td>\n",
       "    </tr>\n",
       "    <tr>\n",
       "      <th>birthyear</th>\n",
       "      <td>1981</td>\n",
       "      <td>1980</td>\n",
       "      <td>1982</td>\n",
       "      <td>1980</td>\n",
       "    </tr>\n",
       "    <tr>\n",
       "      <th>maritalstatus</th>\n",
       "      <td>NaN</td>\n",
       "      <td>Never-married</td>\n",
       "      <td>Never-married</td>\n",
       "      <td>NaN</td>\n",
       "    </tr>\n",
       "    <tr>\n",
       "      <th>weeksworked16</th>\n",
       "      <td>NaN</td>\n",
       "      <td>53.0</td>\n",
       "      <td>53.0</td>\n",
       "      <td>NaN</td>\n",
       "    </tr>\n",
       "    <tr>\n",
       "      <th>wageincome</th>\n",
       "      <td>NaN</td>\n",
       "      <td>14000.0</td>\n",
       "      <td>52000.0</td>\n",
       "      <td>NaN</td>\n",
       "    </tr>\n",
       "    <tr>\n",
       "      <th>highestdegree</th>\n",
       "      <td>4. Bachelors</td>\n",
       "      <td>2. High School</td>\n",
       "      <td>4. Bachelors</td>\n",
       "      <td>3. Associates</td>\n",
       "    </tr>\n",
       "  </tbody>\n",
       "</table>\n",
       "</div>"
      ],
      "text/plain": [
       "personid             195884          195891         195970         195996\n",
       "gender                 Male            Male         Female         Female\n",
       "birthyear              1981            1980           1982           1980\n",
       "maritalstatus           NaN   Never-married  Never-married            NaN\n",
       "weeksworked16           NaN            53.0           53.0            NaN\n",
       "wageincome              NaN         14000.0        52000.0            NaN\n",
       "highestdegree  4. Bachelors  2. High School   4. Bachelors  3. Associates"
      ]
     },
     "execution_count": 7,
     "metadata": {},
     "output_type": "execute_result"
    }
   ],
   "source": [
    "# Select row 1000, 1001, 1002, 1003. Row 1004 is not included.\n",
    "nls97demo[1000:1004].T"
   ]
  },
  {
   "cell_type": "code",
   "execution_count": 8,
   "id": "copyrighted-community",
   "metadata": {},
   "outputs": [
    {
     "data": {
      "text/html": [
       "<div>\n",
       "<style scoped>\n",
       "    .dataframe tbody tr th:only-of-type {\n",
       "        vertical-align: middle;\n",
       "    }\n",
       "\n",
       "    .dataframe tbody tr th {\n",
       "        vertical-align: top;\n",
       "    }\n",
       "\n",
       "    .dataframe thead th {\n",
       "        text-align: right;\n",
       "    }\n",
       "</style>\n",
       "<table border=\"1\" class=\"dataframe\">\n",
       "  <thead>\n",
       "    <tr style=\"text-align: right;\">\n",
       "      <th>personid</th>\n",
       "      <th>195884</th>\n",
       "      <th>195970</th>\n",
       "    </tr>\n",
       "  </thead>\n",
       "  <tbody>\n",
       "    <tr>\n",
       "      <th>gender</th>\n",
       "      <td>Male</td>\n",
       "      <td>Female</td>\n",
       "    </tr>\n",
       "    <tr>\n",
       "      <th>birthyear</th>\n",
       "      <td>1981</td>\n",
       "      <td>1982</td>\n",
       "    </tr>\n",
       "    <tr>\n",
       "      <th>maritalstatus</th>\n",
       "      <td>NaN</td>\n",
       "      <td>Never-married</td>\n",
       "    </tr>\n",
       "    <tr>\n",
       "      <th>weeksworked16</th>\n",
       "      <td>NaN</td>\n",
       "      <td>53.0</td>\n",
       "    </tr>\n",
       "    <tr>\n",
       "      <th>wageincome</th>\n",
       "      <td>NaN</td>\n",
       "      <td>52000.0</td>\n",
       "    </tr>\n",
       "    <tr>\n",
       "      <th>highestdegree</th>\n",
       "      <td>4. Bachelors</td>\n",
       "      <td>4. Bachelors</td>\n",
       "    </tr>\n",
       "  </tbody>\n",
       "</table>\n",
       "</div>"
      ],
      "text/plain": [
       "personid             195884         195970\n",
       "gender                 Male         Female\n",
       "birthyear              1981           1982\n",
       "maritalstatus           NaN  Never-married\n",
       "weeksworked16           NaN           53.0\n",
       "wageincome              NaN        52000.0\n",
       "highestdegree  4. Bachelors   4. Bachelors"
      ]
     },
     "execution_count": 8,
     "metadata": {},
     "output_type": "execute_result"
    }
   ],
   "source": [
    "# Every 2 steps instead of 1. So only row 1000, 1002 will be selected.\n",
    "nls97demo[1000:1004:2].T"
   ]
  },
  {
   "cell_type": "code",
   "execution_count": 10,
   "id": "chinese-glory",
   "metadata": {},
   "outputs": [
    {
     "data": {
      "text/html": [
       "<div>\n",
       "<style scoped>\n",
       "    .dataframe tbody tr th:only-of-type {\n",
       "        vertical-align: middle;\n",
       "    }\n",
       "\n",
       "    .dataframe tbody tr th {\n",
       "        vertical-align: top;\n",
       "    }\n",
       "\n",
       "    .dataframe thead th {\n",
       "        text-align: right;\n",
       "    }\n",
       "</style>\n",
       "<table border=\"1\" class=\"dataframe\">\n",
       "  <thead>\n",
       "    <tr style=\"text-align: right;\">\n",
       "      <th></th>\n",
       "      <th>gender</th>\n",
       "      <th>birthyear</th>\n",
       "      <th>maritalstatus</th>\n",
       "      <th>weeksworked16</th>\n",
       "      <th>wageincome</th>\n",
       "      <th>highestdegree</th>\n",
       "    </tr>\n",
       "    <tr>\n",
       "      <th>personid</th>\n",
       "      <th></th>\n",
       "      <th></th>\n",
       "      <th></th>\n",
       "      <th></th>\n",
       "      <th></th>\n",
       "      <th></th>\n",
       "    </tr>\n",
       "  </thead>\n",
       "  <tbody>\n",
       "    <tr>\n",
       "      <th>100061</th>\n",
       "      <td>Female</td>\n",
       "      <td>1980</td>\n",
       "      <td>Married</td>\n",
       "      <td>48.0</td>\n",
       "      <td>12500.0</td>\n",
       "      <td>2. High School</td>\n",
       "    </tr>\n",
       "    <tr>\n",
       "      <th>100139</th>\n",
       "      <td>Male</td>\n",
       "      <td>1983</td>\n",
       "      <td>Married</td>\n",
       "      <td>53.0</td>\n",
       "      <td>120000.0</td>\n",
       "      <td>2. High School</td>\n",
       "    </tr>\n",
       "    <tr>\n",
       "      <th>100284</th>\n",
       "      <td>Male</td>\n",
       "      <td>1984</td>\n",
       "      <td>Never-married</td>\n",
       "      <td>47.0</td>\n",
       "      <td>58000.0</td>\n",
       "      <td>0. None</td>\n",
       "    </tr>\n",
       "  </tbody>\n",
       "</table>\n",
       "</div>"
      ],
      "text/plain": [
       "          gender  birthyear  maritalstatus  weeksworked16  wageincome  \\\n",
       "personid                                                                \n",
       "100061    Female       1980        Married           48.0     12500.0   \n",
       "100139      Male       1983        Married           53.0    120000.0   \n",
       "100284      Male       1984  Never-married           47.0     58000.0   \n",
       "\n",
       "           highestdegree  \n",
       "personid                  \n",
       "100061    2. High School  \n",
       "100139    2. High School  \n",
       "100284           0. None  "
      ]
     },
     "execution_count": 10,
     "metadata": {},
     "output_type": "execute_result"
    }
   ],
   "source": [
    "## Select first N rows.\n",
    "# nls97demo[:3]\n",
    "# nls97demo.head(3)\n",
    "\n",
    "## Select last N rows.\n",
    "# nls97demo[-3:]\n",
    "# nls97demo.tail(3)\n",
    "\n",
    "## Select by index personid\n",
    "# nls97demo.loc[[195884, 195891, 195970]]\n",
    "# nls97demo.loc[[195884:195970]]\n",
    "\n",
    "## Select by position (similar as array)\n",
    "nls97demo.iloc[[0, 1, 2]]"
   ]
  },
  {
   "cell_type": "code",
   "execution_count": 12,
   "id": "worldwide-crash",
   "metadata": {},
   "outputs": [
    {
     "data": {
      "text/plain": [
       "personid\n",
       "100061    6.0\n",
       "100139    8.0\n",
       "100284    7.0\n",
       "100292    NaN\n",
       "100583    6.0\n",
       "Name: nightlyhrssleep, dtype: float64"
      ]
     },
     "execution_count": 12,
     "metadata": {},
     "output_type": "execute_result"
    }
   ],
   "source": [
    "nls97[\"nightlyhrssleep\"].head()"
   ]
  },
  {
   "cell_type": "code",
   "execution_count": 13,
   "id": "planned-davis",
   "metadata": {},
   "outputs": [
    {
     "data": {
      "text/plain": [
       "6.0"
      ]
     },
     "execution_count": 13,
     "metadata": {},
     "output_type": "execute_result"
    }
   ],
   "source": [
    "low_sleep_threshold = nls97[\"nightlyhrssleep\"].quantile(0.33)\n",
    "low_sleep_threshold  # 33% sleep less than 6 hours."
   ]
  },
  {
   "cell_type": "code",
   "execution_count": 14,
   "id": "furnished-philosophy",
   "metadata": {},
   "outputs": [
    {
     "data": {
      "text/plain": [
       "personid\n",
       "100061     True\n",
       "100139    False\n",
       "100284    False\n",
       "100292    False\n",
       "100583     True\n",
       "Name: nightlyhrssleep, dtype: bool"
      ]
     },
     "execution_count": 14,
     "metadata": {},
     "output_type": "execute_result"
    }
   ],
   "source": [
    "sleep_check_bool = nls97.nightlyhrssleep <= low_sleep_threshold\n",
    "sleep_check_bool.head()"
   ]
  },
  {
   "cell_type": "code",
   "execution_count": 15,
   "id": "handled-philosophy",
   "metadata": {},
   "outputs": [
    {
     "data": {
      "text/plain": [
       "(3067, 88)"
      ]
     },
     "execution_count": 15,
     "metadata": {},
     "output_type": "execute_result"
    }
   ],
   "source": [
    "low_sleep = nls97.loc[sleep_check_bool]\n",
    "low_sleep.shape"
   ]
  },
  {
   "cell_type": "code",
   "execution_count": 16,
   "id": "discrete-white",
   "metadata": {},
   "outputs": [
    {
     "data": {
      "text/plain": [
       "(3067, 88)"
      ]
     },
     "execution_count": 16,
     "metadata": {},
     "output_type": "execute_result"
    }
   ],
   "source": [
    "# We can create it in a single step.\n",
    "low_sleep = nls97.loc[nls97.nightlyhrssleep <= low_sleep_threshold]\n",
    "low_sleep.shape"
   ]
  },
  {
   "cell_type": "code",
   "execution_count": 17,
   "id": "extensive-macro",
   "metadata": {},
   "outputs": [
    {
     "data": {
      "text/plain": [
       "(623, 88)"
      ]
     },
     "execution_count": 17,
     "metadata": {},
     "output_type": "execute_result"
    }
   ],
   "source": [
    "# Passing complex condition. The & (AND) indicates both conditions have to be true.\n",
    "# Using | (OR) means either condition can be true.\n",
    "low_sleep_3plus_children = nls97.loc[\n",
    "    (nls97.nightlyhrssleep <= low_sleep_threshold) & (nls97.childathome >= 3)\n",
    "]\n",
    "low_sleep_3plus_children.shape"
   ]
  },
  {
   "cell_type": "code",
   "execution_count": 18,
   "id": "grand-comment",
   "metadata": {},
   "outputs": [
    {
     "data": {
      "text/plain": [
       "(623, 2)"
      ]
     },
     "execution_count": 18,
     "metadata": {},
     "output_type": "execute_result"
    }
   ],
   "source": [
    "# Select both rows and columns.\n",
    "low_sleep_3plus_children = nls97.loc[\n",
    "    (nls97.nightlyhrssleep <= low_sleep_threshold) & (nls97.childathome >= 3),\n",
    "    [\"nightlyhrssleep\", \"childathome\"],\n",
    "]\n",
    "low_sleep_3plus_children.shape"
   ]
  },
  {
   "cell_type": "markdown",
   "id": "employed-absolute",
   "metadata": {},
   "source": [
    "## Generating frequencies for categorical features\n",
    "\n",
    "Categorical features\n",
    "- can be nominal or ordinal\n",
    "- nominal (e.g. gender, country) have a limited number of possible values, can be numeric or string but has no intrinsic numerical meaning\n",
    "- for ordinal, the order of the values matters"
   ]
  },
  {
   "cell_type": "code",
   "execution_count": 22,
   "id": "supported-capacity",
   "metadata": {},
   "outputs": [
    {
     "data": {
      "text/plain": [
       "gender                    object\n",
       "birthmonth                 int64\n",
       "birthyear                  int64\n",
       "highestgradecompleted    float64\n",
       "maritalstatus             object\n",
       "childathome              float64\n",
       "childnotathome           float64\n",
       "wageincome               float64\n",
       "weeklyhrscomputer         object\n",
       "weeklyhrstv               object\n",
       "nightlyhrssleep          float64\n",
       "satverbal                float64\n",
       "satmath                  float64\n",
       "gpaoverall               float64\n",
       "gpaenglish               float64\n",
       "gpamath                  float64\n",
       "gpascience               float64\n",
       "highestdegree             object\n",
       "govprovidejobs            object\n",
       "govpricecontrols          object\n",
       "dtype: object"
      ]
     },
     "execution_count": 22,
     "metadata": {},
     "output_type": "execute_result"
    }
   ],
   "source": [
    "nls97abb = nls97.iloc[:, :20]\n",
    "nls97abb.dtypes"
   ]
  },
  {
   "cell_type": "code",
   "execution_count": 28,
   "id": "tight-japanese",
   "metadata": {},
   "outputs": [
    {
     "data": {
      "text/plain": [
       "Married          3066\n",
       "Never-married    2766\n",
       "NaN              2312\n",
       "Divorced          663\n",
       "Separated         154\n",
       "Widowed            23\n",
       "Name: maritalstatus, dtype: int64"
      ]
     },
     "execution_count": 28,
     "metadata": {},
     "output_type": "execute_result"
    }
   ],
   "source": [
    "# By default, NaN are excluded.\n",
    "# But when analysing data, it is important to show it.\n",
    "nls97abb.maritalstatus.value_counts(dropna=False)"
   ]
  },
  {
   "cell_type": "code",
   "execution_count": 26,
   "id": "hybrid-substance",
   "metadata": {},
   "outputs": [
    {
     "data": {
      "text/plain": [
       "2312"
      ]
     },
     "execution_count": 26,
     "metadata": {},
     "output_type": "execute_result"
    }
   ],
   "source": [
    "nls97abb.maritalstatus.isnull().sum()"
   ]
  },
  {
   "cell_type": "code",
   "execution_count": 29,
   "id": "precious-glasgow",
   "metadata": {},
   "outputs": [
    {
     "data": {
      "text/plain": [
       "pandas.core.series.Series"
      ]
     },
     "execution_count": 29,
     "metadata": {},
     "output_type": "execute_result"
    }
   ],
   "source": [
    "# \"maritalstatus\" values are sorted by frequency.\n",
    "# To sort alphabetically, we can use the index since value_counts returns a Series with the values as index.\n",
    "marital_status_counts = nls97abb.maritalstatus.value_counts(dropna=False)\n",
    "type(marital_status_counts)"
   ]
  },
  {
   "cell_type": "code",
   "execution_count": 30,
   "id": "comic-harrison",
   "metadata": {},
   "outputs": [
    {
     "data": {
      "text/plain": [
       "Divorced          663\n",
       "Married          3066\n",
       "Never-married    2766\n",
       "Separated         154\n",
       "Widowed            23\n",
       "NaN              2312\n",
       "Name: maritalstatus, dtype: int64"
      ]
     },
     "execution_count": 30,
     "metadata": {},
     "output_type": "execute_result"
    }
   ],
   "source": [
    "marital_status_counts.sort_index()"
   ]
  },
  {
   "cell_type": "code",
   "execution_count": 31,
   "id": "enhanced-booth",
   "metadata": {},
   "outputs": [
    {
     "data": {
      "text/plain": [
       "Divorced         0.073798\n",
       "Married          0.341273\n",
       "Never-married    0.307881\n",
       "Separated        0.017142\n",
       "Widowed          0.002560\n",
       "NaN              0.257346\n",
       "Name: maritalstatus, dtype: float64"
      ]
     },
     "execution_count": 31,
     "metadata": {},
     "output_type": "execute_result"
    }
   ],
   "source": [
    "# To display the ratio, set \"normalize=True\"\n",
    "nls97abb.maritalstatus.value_counts(dropna=False, normalize=True).sort_index()"
   ]
  },
  {
   "cell_type": "code",
   "execution_count": 35,
   "id": "sonic-idaho",
   "metadata": {},
   "outputs": [
    {
     "data": {
      "text/plain": [
       "Index(['gender', 'maritalstatus', 'weeklyhrscomputer', 'weeklyhrstv',\n",
       "       'highestdegree', 'govprovidejobs', 'govpricecontrols'],\n",
       "      dtype='object')"
      ]
     },
     "execution_count": 35,
     "metadata": {},
     "output_type": "execute_result"
    }
   ],
   "source": [
    "# Pandas has a \"category\" data type that can store data more efficiently than object.\n",
    "# Most \"object\" columns contain categorical data, so we could convert it to \"category\"\n",
    "# data type.\n",
    "category_columns = nls97abb.select_dtypes(include=[\"object\"]).columns\n",
    "category_columns"
   ]
  },
  {
   "cell_type": "code",
   "execution_count": 36,
   "id": "competitive-campbell",
   "metadata": {},
   "outputs": [],
   "source": [
    "for col in nls97abb[category_columns].columns:\n",
    "    nls97abb[col] = nls97abb[col].astype(\"category\")"
   ]
  },
  {
   "cell_type": "code",
   "execution_count": 38,
   "id": "ideal-nightlife",
   "metadata": {},
   "outputs": [
    {
     "data": {
      "text/plain": [
       "gender               category\n",
       "maritalstatus        category\n",
       "weeklyhrscomputer    category\n",
       "weeklyhrstv          category\n",
       "highestdegree        category\n",
       "govprovidejobs       category\n",
       "govpricecontrols     category\n",
       "dtype: object"
      ]
     },
     "execution_count": 38,
     "metadata": {},
     "output_type": "execute_result"
    }
   ],
   "source": [
    "nls97abb[category_columns].dtypes"
   ]
  },
  {
   "cell_type": "code",
   "execution_count": 39,
   "id": "modern-gentleman",
   "metadata": {},
   "outputs": [
    {
     "data": {
      "text/plain": [
       "gender                  0\n",
       "maritalstatus        2312\n",
       "weeklyhrscomputer    2274\n",
       "weeklyhrstv          2273\n",
       "highestdegree          31\n",
       "govprovidejobs       7151\n",
       "govpricecontrols     7125\n",
       "dtype: int64"
      ]
     },
     "execution_count": 39,
     "metadata": {},
     "output_type": "execute_result"
    }
   ],
   "source": [
    "nls97abb[category_columns].isnull().sum()"
   ]
  },
  {
   "cell_type": "code",
   "execution_count": null,
   "id": "exclusive-anatomy",
   "metadata": {},
   "outputs": [],
   "source": []
  }
 ],
 "metadata": {
  "kernelspec": {
   "display_name": "Python 3 (ipykernel)",
   "language": "python",
   "name": "python3"
  },
  "language_info": {
   "codemirror_mode": {
    "name": "ipython",
    "version": 3
   },
   "file_extension": ".py",
   "mimetype": "text/x-python",
   "name": "python",
   "nbconvert_exporter": "python",
   "pygments_lexer": "ipython3",
   "version": "3.9.15"
  }
 },
 "nbformat": 4,
 "nbformat_minor": 5
}
