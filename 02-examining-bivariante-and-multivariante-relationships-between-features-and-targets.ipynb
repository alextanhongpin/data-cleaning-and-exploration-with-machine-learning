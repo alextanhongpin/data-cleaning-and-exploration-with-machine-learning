{
 "cells": [
  {
   "cell_type": "markdown",
   "id": "05709452-04db-4fa8-9bb2-f5c10fc0d302",
   "metadata": {},
   "source": [
    "# Examining Bivariante and Multivariante Relationships between Features and Targets\n",
    "\n",
    "In this chapter, we will look at the correlation between possible features and target variables.\n",
    "\n",
    "**Bivariate exploratory** analysis, using crosstabs (two-way frequencies), correlations, scatter plots, and grouped boxplotx can uncover key issues for modeling. Common issues includes high correlation between features and non-linear relationships between feature and target variables.\n",
    "\n",
    "\n",
    "We will also use **multivariante** techniques to understand the relationship between features.\n",
    "\n",
    "We will cover the following topics:\n",
    "- identifying outliers and extreme values in bivariante relationships\n",
    "- using scatter plots to view bivariante relationships between continuous features\n",
    "- using grouped boxplots to view bivariante relationships between continuous and categorical features\n",
    "- using linear regression to identify data points with significant influence\n",
    "- using K-nearest neighbors to find outliers\n",
    "- using Isolation Forest to find outliers"
   ]
  },
  {
   "cell_type": "markdown",
   "id": "60a480a9-b43c-4167-9ee3-6a72a6ba89e4",
   "metadata": {},
   "source": [
    "## Identifying outliers and extreme values in bivariante relationships"
   ]
  },
  {
   "cell_type": "code",
   "execution_count": 2,
   "id": "73980704-487a-475b-bd2a-8fb6752ea744",
   "metadata": {
    "tags": []
   },
   "outputs": [
    {
     "name": "stdout",
     "output_type": "stream",
     "text": [
      "<class 'pandas.core.frame.DataFrame'>\n",
      "Index: 221 entries, AFG to ZWE\n",
      "Data columns (total 16 columns):\n",
      " #   Column               Non-Null Count  Dtype  \n",
      "---  ------               --------------  -----  \n",
      " 0   lastdate             221 non-null    object \n",
      " 1   location             221 non-null    object \n",
      " 2   total_cases          192 non-null    float64\n",
      " 3   total_deaths         185 non-null    float64\n",
      " 4   total_cases_mill     192 non-null    float64\n",
      " 5   total_deaths_mill    185 non-null    float64\n",
      " 6   population           221 non-null    float64\n",
      " 7   population_density   206 non-null    float64\n",
      " 8   median_age           190 non-null    float64\n",
      " 9   gdp_per_capita       193 non-null    float64\n",
      " 10  aged_65_older        188 non-null    float64\n",
      " 11  total_tests_thous    13 non-null     float64\n",
      " 12  life_expectancy      217 non-null    float64\n",
      " 13  hospital_beds_thous  170 non-null    float64\n",
      " 14  diabetes_prevalence  200 non-null    float64\n",
      " 15  region               221 non-null    object \n",
      "dtypes: float64(13), object(3)\n",
      "memory usage: 29.4+ KB\n"
     ]
    }
   ],
   "source": [
    "import matplotlib.pyplot as plt\n",
    "import pandas as pd\n",
    "import seaborn as sns\n",
    "\n",
    "covid_totals = pd.read_csv(\"./data/covidtotals.csv\")\n",
    "covid_totals.set_index(\"iso_code\", inplace=True)\n",
    "covid_totals.info()"
   ]
  },
  {
   "cell_type": "markdown",
   "id": "31ef8ad0-b06b-4145-b576-7f00ca9bcba3",
   "metadata": {},
   "source": [
    "A great place to start with our examination of bivariante relationships is with correlations."
   ]
  },
  {
   "cell_type": "code",
   "execution_count": 7,
   "id": "98566db1-927e-412c-b8ef-ad67c3c76b85",
   "metadata": {
    "tags": []
   },
   "outputs": [
    {
     "data": {
      "text/html": [
       "<div>\n",
       "<style scoped>\n",
       "    .dataframe tbody tr th:only-of-type {\n",
       "        vertical-align: middle;\n",
       "    }\n",
       "\n",
       "    .dataframe tbody tr th {\n",
       "        vertical-align: top;\n",
       "    }\n",
       "\n",
       "    .dataframe thead th {\n",
       "        text-align: right;\n",
       "    }\n",
       "</style>\n",
       "<table border=\"1\" class=\"dataframe\">\n",
       "  <thead>\n",
       "    <tr style=\"text-align: right;\">\n",
       "      <th></th>\n",
       "      <th>total_cases_mill</th>\n",
       "      <th>total_deaths_mill</th>\n",
       "      <th>population_density</th>\n",
       "      <th>aged_65_older</th>\n",
       "      <th>gdp_per_capita</th>\n",
       "      <th>life_expectancy</th>\n",
       "      <th>diabetes_prevalence</th>\n",
       "    </tr>\n",
       "  </thead>\n",
       "  <tbody>\n",
       "    <tr>\n",
       "      <th>total_cases_mill</th>\n",
       "      <td>1.000000</td>\n",
       "      <td>0.709783</td>\n",
       "      <td>0.043152</td>\n",
       "      <td>0.533905</td>\n",
       "      <td>0.464955</td>\n",
       "      <td>0.570582</td>\n",
       "      <td>0.023023</td>\n",
       "    </tr>\n",
       "    <tr>\n",
       "      <th>total_deaths_mill</th>\n",
       "      <td>0.709783</td>\n",
       "      <td>1.000000</td>\n",
       "      <td>-0.033728</td>\n",
       "      <td>0.530196</td>\n",
       "      <td>0.222839</td>\n",
       "      <td>0.459677</td>\n",
       "      <td>-0.009011</td>\n",
       "    </tr>\n",
       "    <tr>\n",
       "      <th>population_density</th>\n",
       "      <td>0.043152</td>\n",
       "      <td>-0.033728</td>\n",
       "      <td>1.000000</td>\n",
       "      <td>0.063253</td>\n",
       "      <td>0.408957</td>\n",
       "      <td>0.231153</td>\n",
       "      <td>0.012559</td>\n",
       "    </tr>\n",
       "    <tr>\n",
       "      <th>aged_65_older</th>\n",
       "      <td>0.533905</td>\n",
       "      <td>0.530196</td>\n",
       "      <td>0.063253</td>\n",
       "      <td>1.000000</td>\n",
       "      <td>0.492855</td>\n",
       "      <td>0.729937</td>\n",
       "      <td>-0.063584</td>\n",
       "    </tr>\n",
       "    <tr>\n",
       "      <th>gdp_per_capita</th>\n",
       "      <td>0.464955</td>\n",
       "      <td>0.222839</td>\n",
       "      <td>0.408957</td>\n",
       "      <td>0.492855</td>\n",
       "      <td>1.000000</td>\n",
       "      <td>0.681222</td>\n",
       "      <td>0.123718</td>\n",
       "    </tr>\n",
       "    <tr>\n",
       "      <th>life_expectancy</th>\n",
       "      <td>0.570582</td>\n",
       "      <td>0.459677</td>\n",
       "      <td>0.231153</td>\n",
       "      <td>0.729937</td>\n",
       "      <td>0.681222</td>\n",
       "      <td>1.000000</td>\n",
       "      <td>0.190043</td>\n",
       "    </tr>\n",
       "    <tr>\n",
       "      <th>diabetes_prevalence</th>\n",
       "      <td>0.023023</td>\n",
       "      <td>-0.009011</td>\n",
       "      <td>0.012559</td>\n",
       "      <td>-0.063584</td>\n",
       "      <td>0.123718</td>\n",
       "      <td>0.190043</td>\n",
       "      <td>1.000000</td>\n",
       "    </tr>\n",
       "  </tbody>\n",
       "</table>\n",
       "</div>"
      ],
      "text/plain": [
       "                     total_cases_mill  total_deaths_mill  population_density  \\\n",
       "total_cases_mill             1.000000           0.709783            0.043152   \n",
       "total_deaths_mill            0.709783           1.000000           -0.033728   \n",
       "population_density           0.043152          -0.033728            1.000000   \n",
       "aged_65_older                0.533905           0.530196            0.063253   \n",
       "gdp_per_capita               0.464955           0.222839            0.408957   \n",
       "life_expectancy              0.570582           0.459677            0.231153   \n",
       "diabetes_prevalence          0.023023          -0.009011            0.012559   \n",
       "\n",
       "                     aged_65_older  gdp_per_capita  life_expectancy  \\\n",
       "total_cases_mill          0.533905        0.464955         0.570582   \n",
       "total_deaths_mill         0.530196        0.222839         0.459677   \n",
       "population_density        0.063253        0.408957         0.231153   \n",
       "aged_65_older             1.000000        0.492855         0.729937   \n",
       "gdp_per_capita            0.492855        1.000000         0.681222   \n",
       "life_expectancy           0.729937        0.681222         1.000000   \n",
       "diabetes_prevalence      -0.063584        0.123718         0.190043   \n",
       "\n",
       "                     diabetes_prevalence  \n",
       "total_cases_mill                0.023023  \n",
       "total_deaths_mill              -0.009011  \n",
       "population_density              0.012559  \n",
       "aged_65_older                  -0.063584  \n",
       "gdp_per_capita                  0.123718  \n",
       "life_expectancy                 0.190043  \n",
       "diabetes_prevalence             1.000000  "
      ]
     },
     "execution_count": 7,
     "metadata": {},
     "output_type": "execute_result"
    }
   ],
   "source": [
    "total_vars = [\"location\", \"total_cases_mill\", \"total_deaths_mill\"]\n",
    "demo_vars = [\n",
    "    \"population_density\",\n",
    "    \"aged_65_older\",\n",
    "    \"gdp_per_capita\",\n",
    "    \"life_expectancy\",\n",
    "    \"diabetes_prevalence\",\n",
    "]\n",
    "covid_keys = covid_totals.loc[:, total_vars + demo_vars]\n",
    "\n",
    "# Getting the Pearson correlation matrix for these features.\n",
    "corr_matrix = covid_keys.corr()\n",
    "corr_matrix"
   ]
  },
  {
   "cell_type": "markdown",
   "id": "cdea6aa9-0b8a-4977-ba52-7fe90dee6f52",
   "metadata": {},
   "source": [
    "^ There is a strong positive correlation of 0.71 between cases and deaths per million.\n",
    "\n",
    "The percentage of the population that is aged 65 or older is positively correlated with cases and deaths, at 0.53 for both.\n",
    "\n",
    "Life expectancy is also highly correlated with cases per million."
   ]
  },
  {
   "cell_type": "markdown",
   "id": "eb61440e-c2ae-4d07-8e08-8731e92e45b7",
   "metadata": {},
   "source": [
    "We can visualize the correlation matrix as a heat map. Pay attention to the cells shown with warmer colors."
   ]
  },
  {
   "cell_type": "code",
   "execution_count": 8,
   "id": "28f0f5e3-7d48-49ee-bfbe-5b41581442ed",
   "metadata": {
    "tags": []
   },
   "outputs": [
    {
     "data": {
      "image/png": "[encoded data removed]",
      "text/plain": [
       "<Figure size 432x288 with 2 Axes>"
      ]
     },
     "metadata": {
      "needs_background": "light"
     },
     "output_type": "display_data"
    }
   ],
   "source": [
    "sns.heatmap(\n",
    "    corr_matrix,\n",
    "    xticklabels=corr_matrix.columns,\n",
    "    yticklabels=corr_matrix.columns,\n",
    "    cmap=\"coolwarm\",\n",
    ")\n",
    "plt.title(\"Heat Map of Correlation Matrix\")\n",
    "plt.tight_layout()"
   ]
  },
  {
   "cell_type": "markdown",
   "id": "7e824fa3-ce59-4c66-8880-edf0cbdfe967",
   "metadata": {},
   "source": [
    "Let us take a closer look at the relationship between `total_cases_mill` and `total_deaths_mill`. \n",
    "\n",
    "One way to get a better sense of this than just with a correlation coefficient is by comparing the high and low values for each and seeing how they move together.\n",
    "\n",
    "In the following code, we use `qcut` method to create a categorical feature with five values distributed relatively evenly, from very low to very high, for cases and deaths. "
   ]
  },
  {
   "cell_type": "code",
   "execution_count": 14,
   "id": "f06b9243-3e84-4315-a8d4-e049c8c552bb",
   "metadata": {
    "tags": []
   },
   "outputs": [
    {
     "name": "stdout",
     "output_type": "stream",
     "text": [
      "very low     39\n",
      "very high    39\n",
      "low          38\n",
      "medium       38\n",
      "high         38\n",
      "Name: total_cases_q, dtype: int64\n"
     ]
    }
   ],
   "source": [
    "covid_keys[\"total_cases_q\"] = pd.qcut(\n",
    "    covid_keys[\"total_cases_mill\"],\n",
    "    labels=[\"very low\", \"low\", \"medium\", \"high\", \"very high\"],\n",
    "    q=5,\n",
    "    precision=0,\n",
    ")\n",
    "\n",
    "print(covid_keys[\"total_cases_q\"].value_counts())"
   ]
  },
  {
   "cell_type": "code",
   "execution_count": 15,
   "id": "d43c02de-8d6f-4366-86a8-30d58606a573",
   "metadata": {
    "tags": []
   },
   "outputs": [
    {
     "name": "stdout",
     "output_type": "stream",
     "text": [
      "very low     37\n",
      "low          37\n",
      "medium       37\n",
      "high         37\n",
      "very high    37\n",
      "Name: total_deaths_q, dtype: int64\n"
     ]
    }
   ],
   "source": [
    "covid_keys[\"total_deaths_q\"] = pd.qcut(\n",
    "    covid_keys[\"total_deaths_mill\"],\n",
    "    labels=[\"very low\", \"low\", \"medium\", \"high\", \"very high\"],\n",
    "    q=5,\n",
    "    precision=0,\n",
    ")\n",
    "\n",
    "print(covid_keys[\"total_deaths_q\"].value_counts())"
   ]
  },
  {
   "cell_type": "code",
   "execution_count": 18,
   "id": "3841024e-36c2-447b-a1ea-d155ad91fa9b",
   "metadata": {
    "tags": []
   },
   "outputs": [
    {
     "data": {
      "text/html": [
       "<div>\n",
       "<style scoped>\n",
       "    .dataframe tbody tr th:only-of-type {\n",
       "        vertical-align: middle;\n",
       "    }\n",
       "\n",
       "    .dataframe tbody tr th {\n",
       "        vertical-align: top;\n",
       "    }\n",
       "\n",
       "    .dataframe thead th {\n",
       "        text-align: right;\n",
       "    }\n",
       "</style>\n",
       "<table border=\"1\" class=\"dataframe\">\n",
       "  <thead>\n",
       "    <tr style=\"text-align: right;\">\n",
       "      <th>total_deaths_q</th>\n",
       "      <th>very low</th>\n",
       "      <th>low</th>\n",
       "      <th>medium</th>\n",
       "      <th>high</th>\n",
       "      <th>very high</th>\n",
       "    </tr>\n",
       "    <tr>\n",
       "      <th>total_cases_q</th>\n",
       "      <th></th>\n",
       "      <th></th>\n",
       "      <th></th>\n",
       "      <th></th>\n",
       "      <th></th>\n",
       "    </tr>\n",
       "  </thead>\n",
       "  <tbody>\n",
       "    <tr>\n",
       "      <th>very low</th>\n",
       "      <td>27</td>\n",
       "      <td>7</td>\n",
       "      <td>0</td>\n",
       "      <td>0</td>\n",
       "      <td>0</td>\n",
       "    </tr>\n",
       "    <tr>\n",
       "      <th>low</th>\n",
       "      <td>9</td>\n",
       "      <td>24</td>\n",
       "      <td>4</td>\n",
       "      <td>0</td>\n",
       "      <td>0</td>\n",
       "    </tr>\n",
       "    <tr>\n",
       "      <th>medium</th>\n",
       "      <td>1</td>\n",
       "      <td>6</td>\n",
       "      <td>23</td>\n",
       "      <td>6</td>\n",
       "      <td>1</td>\n",
       "    </tr>\n",
       "    <tr>\n",
       "      <th>high</th>\n",
       "      <td>0</td>\n",
       "      <td>0</td>\n",
       "      <td>6</td>\n",
       "      <td>21</td>\n",
       "      <td>11</td>\n",
       "    </tr>\n",
       "    <tr>\n",
       "      <th>very high</th>\n",
       "      <td>0</td>\n",
       "      <td>0</td>\n",
       "      <td>4</td>\n",
       "      <td>10</td>\n",
       "      <td>25</td>\n",
       "    </tr>\n",
       "  </tbody>\n",
       "</table>\n",
       "</div>"
      ],
      "text/plain": [
       "total_deaths_q  very low  low  medium  high  very high\n",
       "total_cases_q                                         \n",
       "very low              27    7       0     0          0\n",
       "low                    9   24       4     0          0\n",
       "medium                 1    6      23     6          1\n",
       "high                   0    0       6    21         11\n",
       "very high              0    0       4    10         25"
      ]
     },
     "execution_count": 18,
     "metadata": {},
     "output_type": "execute_result"
    }
   ],
   "source": [
    "pd.crosstab(covid_keys.total_cases_q, covid_keys.total_deaths_q)"
   ]
  },
  {
   "cell_type": "markdown",
   "id": "37edd914-9e6f-48d3-934f-c4939f6fba18",
   "metadata": {},
   "source": [
    "^ There are 27 countries with very low cases and very low deaths, and 25 countries with very high cases and very high deaths.\n",
    "\n",
    "The interesting counts are those not on the diagonal, such as the four countries with very high cases but only medium deaths."
   ]
  },
  {
   "cell_type": "code",
   "execution_count": 17,
   "id": "0d45da39-682f-4f26-bb89-ef16834e14d9",
   "metadata": {
    "tags": []
   },
   "outputs": [
    {
     "data": {
      "text/plain": [
       "total_cases_mill       36649.371823\n",
       "total_deaths_mill        683.136995\n",
       "population_density       453.287850\n",
       "aged_65_older              8.606995\n",
       "gdp_per_capita         19141.314611\n",
       "life_expectancy           73.368664\n",
       "diabetes_prevalence        8.442500\n",
       "dtype: float64"
      ]
     },
     "execution_count": 17,
     "metadata": {},
     "output_type": "execute_result"
    }
   ],
   "source": [
    "covid_keys.mean()"
   ]
  },
  {
   "cell_type": "code",
   "execution_count": 20,
   "id": "e0f87eba-85ab-45a4-8a09-36c66dad74ee",
   "metadata": {
    "tags": []
   },
   "outputs": [
    {
     "data": {
      "text/html": [
       "<div>\n",
       "<style scoped>\n",
       "    .dataframe tbody tr th:only-of-type {\n",
       "        vertical-align: middle;\n",
       "    }\n",
       "\n",
       "    .dataframe tbody tr th {\n",
       "        vertical-align: top;\n",
       "    }\n",
       "\n",
       "    .dataframe thead th {\n",
       "        text-align: right;\n",
       "    }\n",
       "</style>\n",
       "<table border=\"1\" class=\"dataframe\">\n",
       "  <thead>\n",
       "    <tr style=\"text-align: right;\">\n",
       "      <th>iso_code</th>\n",
       "      <th>CYP</th>\n",
       "      <th>KWT</th>\n",
       "      <th>MDV</th>\n",
       "      <th>QAT</th>\n",
       "    </tr>\n",
       "  </thead>\n",
       "  <tbody>\n",
       "    <tr>\n",
       "      <th>lastdate</th>\n",
       "      <td>2021-07-07</td>\n",
       "      <td>2021-07-07</td>\n",
       "      <td>2021-07-07</td>\n",
       "      <td>2021-07-07</td>\n",
       "    </tr>\n",
       "    <tr>\n",
       "      <th>location</th>\n",
       "      <td>Cyprus</td>\n",
       "      <td>Kuwait</td>\n",
       "      <td>Maldives</td>\n",
       "      <td>Qatar</td>\n",
       "    </tr>\n",
       "    <tr>\n",
       "      <th>total_cases</th>\n",
       "      <td>80588.0</td>\n",
       "      <td>369227.0</td>\n",
       "      <td>74724.0</td>\n",
       "      <td>222918.0</td>\n",
       "    </tr>\n",
       "    <tr>\n",
       "      <th>total_deaths</th>\n",
       "      <td>380.0</td>\n",
       "      <td>2059.0</td>\n",
       "      <td>213.0</td>\n",
       "      <td>596.0</td>\n",
       "    </tr>\n",
       "    <tr>\n",
       "      <th>total_cases_mill</th>\n",
       "      <td>90751.741</td>\n",
       "      <td>86458.624</td>\n",
       "      <td>138239.027</td>\n",
       "      <td>77373.606</td>\n",
       "    </tr>\n",
       "    <tr>\n",
       "      <th>total_deaths_mill</th>\n",
       "      <td>427.926</td>\n",
       "      <td>482.138</td>\n",
       "      <td>394.049</td>\n",
       "      <td>206.868</td>\n",
       "    </tr>\n",
       "    <tr>\n",
       "      <th>population</th>\n",
       "      <td>888005.0</td>\n",
       "      <td>4270563.0</td>\n",
       "      <td>540542.0</td>\n",
       "      <td>2881060.0</td>\n",
       "    </tr>\n",
       "    <tr>\n",
       "      <th>population_density</th>\n",
       "      <td>127.657</td>\n",
       "      <td>232.128</td>\n",
       "      <td>1454.433</td>\n",
       "      <td>227.322</td>\n",
       "    </tr>\n",
       "    <tr>\n",
       "      <th>median_age</th>\n",
       "      <td>37.3</td>\n",
       "      <td>33.7</td>\n",
       "      <td>30.6</td>\n",
       "      <td>31.9</td>\n",
       "    </tr>\n",
       "    <tr>\n",
       "      <th>gdp_per_capita</th>\n",
       "      <td>32415.132</td>\n",
       "      <td>65530.537</td>\n",
       "      <td>15183.616</td>\n",
       "      <td>116935.6</td>\n",
       "    </tr>\n",
       "    <tr>\n",
       "      <th>aged_65_older</th>\n",
       "      <td>13.416</td>\n",
       "      <td>2.345</td>\n",
       "      <td>4.12</td>\n",
       "      <td>1.307</td>\n",
       "    </tr>\n",
       "    <tr>\n",
       "      <th>total_tests_thous</th>\n",
       "      <td>NaN</td>\n",
       "      <td>NaN</td>\n",
       "      <td>NaN</td>\n",
       "      <td>NaN</td>\n",
       "    </tr>\n",
       "    <tr>\n",
       "      <th>life_expectancy</th>\n",
       "      <td>80.98</td>\n",
       "      <td>75.49</td>\n",
       "      <td>78.92</td>\n",
       "      <td>80.23</td>\n",
       "    </tr>\n",
       "    <tr>\n",
       "      <th>hospital_beds_thous</th>\n",
       "      <td>3.4</td>\n",
       "      <td>2.0</td>\n",
       "      <td>NaN</td>\n",
       "      <td>1.2</td>\n",
       "    </tr>\n",
       "    <tr>\n",
       "      <th>diabetes_prevalence</th>\n",
       "      <td>9.24</td>\n",
       "      <td>15.84</td>\n",
       "      <td>9.19</td>\n",
       "      <td>16.52</td>\n",
       "    </tr>\n",
       "    <tr>\n",
       "      <th>region</th>\n",
       "      <td>Eastern Europe</td>\n",
       "      <td>West Asia</td>\n",
       "      <td>South Asia</td>\n",
       "      <td>West Asia</td>\n",
       "    </tr>\n",
       "  </tbody>\n",
       "</table>\n",
       "</div>"
      ],
      "text/plain": [
       "iso_code                        CYP         KWT         MDV         QAT\n",
       "lastdate                 2021-07-07  2021-07-07  2021-07-07  2021-07-07\n",
       "location                     Cyprus      Kuwait    Maldives       Qatar\n",
       "total_cases                 80588.0    369227.0     74724.0    222918.0\n",
       "total_deaths                  380.0      2059.0       213.0       596.0\n",
       "total_cases_mill          90751.741   86458.624  138239.027   77373.606\n",
       "total_deaths_mill           427.926     482.138     394.049     206.868\n",
       "population                 888005.0   4270563.0    540542.0   2881060.0\n",
       "population_density          127.657     232.128    1454.433     227.322\n",
       "median_age                     37.3        33.7        30.6        31.9\n",
       "gdp_per_capita            32415.132   65530.537   15183.616    116935.6\n",
       "aged_65_older                13.416       2.345        4.12       1.307\n",
       "total_tests_thous               NaN         NaN         NaN         NaN\n",
       "life_expectancy               80.98       75.49       78.92       80.23\n",
       "hospital_beds_thous             3.4         2.0         NaN         1.2\n",
       "diabetes_prevalence            9.24       15.84        9.19       16.52\n",
       "region               Eastern Europe   West Asia  South Asia   West Asia"
      ]
     },
     "execution_count": 20,
     "metadata": {},
     "output_type": "execute_result"
    }
   ],
   "source": [
    "covid_totals.loc[\n",
    "    (covid_keys.total_cases_q == \"very high\") & (covid_keys.total_deaths_q == \"medium\")\n",
    "].T"
   ]
  },
  {
   "cell_type": "code",
   "execution_count": 21,
   "id": "195c6093-f716-42b9-a5e6-6186652ab1a7",
   "metadata": {
    "tags": []
   },
   "outputs": [
    {
     "data": {
      "text/html": [
       "<div>\n",
       "<style scoped>\n",
       "    .dataframe tbody tr th:only-of-type {\n",
       "        vertical-align: middle;\n",
       "    }\n",
       "\n",
       "    .dataframe tbody tr th {\n",
       "        vertical-align: top;\n",
       "    }\n",
       "\n",
       "    .dataframe thead th {\n",
       "        text-align: right;\n",
       "    }\n",
       "</style>\n",
       "<table border=\"1\" class=\"dataframe\">\n",
       "  <thead>\n",
       "    <tr style=\"text-align: right;\">\n",
       "      <th>iso_code</th>\n",
       "      <th>MEX</th>\n",
       "    </tr>\n",
       "  </thead>\n",
       "  <tbody>\n",
       "    <tr>\n",
       "      <th>lastdate</th>\n",
       "      <td>2021-07-07</td>\n",
       "    </tr>\n",
       "    <tr>\n",
       "      <th>location</th>\n",
       "      <td>Mexico</td>\n",
       "    </tr>\n",
       "    <tr>\n",
       "      <th>total_cases</th>\n",
       "      <td>2558369.0</td>\n",
       "    </tr>\n",
       "    <tr>\n",
       "      <th>total_deaths</th>\n",
       "      <td>234192.0</td>\n",
       "    </tr>\n",
       "    <tr>\n",
       "      <th>total_cases_mill</th>\n",
       "      <td>19842.662</td>\n",
       "    </tr>\n",
       "    <tr>\n",
       "      <th>total_deaths_mill</th>\n",
       "      <td>1816.389</td>\n",
       "    </tr>\n",
       "    <tr>\n",
       "      <th>population</th>\n",
       "      <td>128932753.0</td>\n",
       "    </tr>\n",
       "    <tr>\n",
       "      <th>population_density</th>\n",
       "      <td>66.444</td>\n",
       "    </tr>\n",
       "    <tr>\n",
       "      <th>median_age</th>\n",
       "      <td>29.3</td>\n",
       "    </tr>\n",
       "    <tr>\n",
       "      <th>gdp_per_capita</th>\n",
       "      <td>17336.469</td>\n",
       "    </tr>\n",
       "    <tr>\n",
       "      <th>aged_65_older</th>\n",
       "      <td>6.857</td>\n",
       "    </tr>\n",
       "    <tr>\n",
       "      <th>total_tests_thous</th>\n",
       "      <td>NaN</td>\n",
       "    </tr>\n",
       "    <tr>\n",
       "      <th>life_expectancy</th>\n",
       "      <td>75.05</td>\n",
       "    </tr>\n",
       "    <tr>\n",
       "      <th>hospital_beds_thous</th>\n",
       "      <td>1.38</td>\n",
       "    </tr>\n",
       "    <tr>\n",
       "      <th>diabetes_prevalence</th>\n",
       "      <td>13.06</td>\n",
       "    </tr>\n",
       "    <tr>\n",
       "      <th>region</th>\n",
       "      <td>North America</td>\n",
       "    </tr>\n",
       "  </tbody>\n",
       "</table>\n",
       "</div>"
      ],
      "text/plain": [
       "iso_code                       MEX\n",
       "lastdate                2021-07-07\n",
       "location                    Mexico\n",
       "total_cases              2558369.0\n",
       "total_deaths              234192.0\n",
       "total_cases_mill         19842.662\n",
       "total_deaths_mill         1816.389\n",
       "population             128932753.0\n",
       "population_density          66.444\n",
       "median_age                    29.3\n",
       "gdp_per_capita           17336.469\n",
       "aged_65_older                6.857\n",
       "total_tests_thous              NaN\n",
       "life_expectancy              75.05\n",
       "hospital_beds_thous           1.38\n",
       "diabetes_prevalence          13.06\n",
       "region               North America"
      ]
     },
     "execution_count": 21,
     "metadata": {},
     "output_type": "execute_result"
    }
   ],
   "source": [
    "covid_totals.loc[\n",
    "    (covid_keys.total_cases_q == \"medium\") & (covid_keys.total_deaths_q == \"very high\")\n",
    "].T"
   ]
  },
  {
   "cell_type": "markdown",
   "id": "3b1443a3-7b20-48bb-bbb0-1151ffeda42e",
   "metadata": {},
   "source": [
    "## Use Scatter plots to view bivariante relationships between continuous features\n",
    "\n",
    "We can use scatter plots to get a more complete picture of the relationships between two features that what can be detected by a correlation coefficient alone."
   ]
  },
  {
   "cell_type": "code",
   "execution_count": 24,
   "id": "36f735b2-2d8f-49f5-8391-e20273254b4f",
   "metadata": {
    "tags": []
   },
   "outputs": [
    {
     "data": {
      "image/png": "[encoded data removed]",
      "text/plain": [
       "<Figure size 432x288 with 1 Axes>"
      ]
     },
     "metadata": {
      "needs_background": "light"
     },
     "output_type": "display_data"
    }
   ],
   "source": [
    "import matplotlib.pyplot as plt\n",
    "import numpy as np\n",
    "import pandas as pd\n",
    "import seaborn as sns\n",
    "\n",
    "covid_totals = pd.read_csv(\"./data/covidtotals.csv\")\n",
    "covid_totals.set_index(\"iso_code\", inplace=True)\n",
    "\n",
    "ax = sns.regplot(x=\"total_cases_mill\", y=\"total_deaths_mill\", data=covid_totals)\n",
    "_ = ax.set(\n",
    "    xlabel=\"Cases Per Million\",\n",
    "    ylabel=\"Deaths Per Million\",\n",
    "    title=\"Total COVID Cases and Deaths by Country\",\n",
    ")"
   ]
  },
  {
   "cell_type": "markdown",
   "id": "22adbba4-eab6-4bb6-9535-ac4eae48e097",
   "metadata": {},
   "source": [
    "^ The regression line is an estimate of the relationship between cases per million and deaths per million.\n",
    "\n",
    "The _slope_ of the line indicates how much we can expet deaths per million to increase with a 1-unit increase in cases per million.\n",
    "\n",
    "Those points on the scatter plot that are significantly above the regression line should be examined more closely.\n",
    "\n",
    "The country with deaths per million near 6,000 and cases per million below 75,000 is clearly an outlier."
   ]
  },
  {
   "cell_type": "code",
   "execution_count": 26,
   "id": "bbf433b4-489f-4a62-a447-09e5c3f33943",
   "metadata": {
    "tags": []
   },
   "outputs": [
    {
     "data": {
      "text/html": [
       "<div>\n",
       "<style scoped>\n",
       "    .dataframe tbody tr th:only-of-type {\n",
       "        vertical-align: middle;\n",
       "    }\n",
       "\n",
       "    .dataframe tbody tr th {\n",
       "        vertical-align: top;\n",
       "    }\n",
       "\n",
       "    .dataframe thead th {\n",
       "        text-align: right;\n",
       "    }\n",
       "</style>\n",
       "<table border=\"1\" class=\"dataframe\">\n",
       "  <thead>\n",
       "    <tr style=\"text-align: right;\">\n",
       "      <th>iso_code</th>\n",
       "      <th>PER</th>\n",
       "    </tr>\n",
       "  </thead>\n",
       "  <tbody>\n",
       "    <tr>\n",
       "      <th>lastdate</th>\n",
       "      <td>2021-07-07</td>\n",
       "    </tr>\n",
       "    <tr>\n",
       "      <th>location</th>\n",
       "      <td>Peru</td>\n",
       "    </tr>\n",
       "    <tr>\n",
       "      <th>total_cases</th>\n",
       "      <td>2071637.0</td>\n",
       "    </tr>\n",
       "    <tr>\n",
       "      <th>total_deaths</th>\n",
       "      <td>193743.0</td>\n",
       "    </tr>\n",
       "    <tr>\n",
       "      <th>total_cases_mill</th>\n",
       "      <td>62830.483</td>\n",
       "    </tr>\n",
       "    <tr>\n",
       "      <th>total_deaths_mill</th>\n",
       "      <td>5876.013</td>\n",
       "    </tr>\n",
       "    <tr>\n",
       "      <th>population</th>\n",
       "      <td>32971846.0</td>\n",
       "    </tr>\n",
       "    <tr>\n",
       "      <th>population_density</th>\n",
       "      <td>25.129</td>\n",
       "    </tr>\n",
       "    <tr>\n",
       "      <th>median_age</th>\n",
       "      <td>29.1</td>\n",
       "    </tr>\n",
       "    <tr>\n",
       "      <th>gdp_per_capita</th>\n",
       "      <td>12236.706</td>\n",
       "    </tr>\n",
       "    <tr>\n",
       "      <th>aged_65_older</th>\n",
       "      <td>7.151</td>\n",
       "    </tr>\n",
       "    <tr>\n",
       "      <th>total_tests_thous</th>\n",
       "      <td>NaN</td>\n",
       "    </tr>\n",
       "    <tr>\n",
       "      <th>life_expectancy</th>\n",
       "      <td>76.74</td>\n",
       "    </tr>\n",
       "    <tr>\n",
       "      <th>hospital_beds_thous</th>\n",
       "      <td>1.6</td>\n",
       "    </tr>\n",
       "    <tr>\n",
       "      <th>diabetes_prevalence</th>\n",
       "      <td>5.95</td>\n",
       "    </tr>\n",
       "    <tr>\n",
       "      <th>region</th>\n",
       "      <td>South America</td>\n",
       "    </tr>\n",
       "  </tbody>\n",
       "</table>\n",
       "</div>"
      ],
      "text/plain": [
       "iso_code                       PER\n",
       "lastdate                2021-07-07\n",
       "location                      Peru\n",
       "total_cases              2071637.0\n",
       "total_deaths              193743.0\n",
       "total_cases_mill         62830.483\n",
       "total_deaths_mill         5876.013\n",
       "population              32971846.0\n",
       "population_density          25.129\n",
       "median_age                    29.1\n",
       "gdp_per_capita           12236.706\n",
       "aged_65_older                7.151\n",
       "total_tests_thous              NaN\n",
       "life_expectancy              76.74\n",
       "hospital_beds_thous            1.6\n",
       "diabetes_prevalence           5.95\n",
       "region               South America"
      ]
     },
     "execution_count": 26,
     "metadata": {},
     "output_type": "execute_result"
    }
   ],
   "source": [
    "covid_totals.loc[\n",
    "    (covid_totals.total_cases_mill < 75_000) & (covid_totals.total_deaths_mill > 5500)\n",
    "].T"
   ]
  },
  {
   "cell_type": "markdown",
   "id": "001242cf-d525-4679-abb2-e5a0e944d085",
   "metadata": {},
   "source": [
    "Let's create scatter plots of people who are aged 65 and older and GDP per capita with total cases per million."
   ]
  },
  {
   "cell_type": "code",
   "execution_count": 27,
   "id": "88b6b9a4-00b4-4b48-93d3-86c4b4b78fec",
   "metadata": {
    "tags": []
   },
   "outputs": [
    {
     "data": {
      "image/png": "[encoded data removed]",
      "text/plain": [
       "<Figure size 432x288 with 2 Axes>"
      ]
     },
     "metadata": {
      "needs_background": "light"
     },
     "output_type": "display_data"
    }
   ],
   "source": [
    "fig, axes = plt.subplots(1, 2, sharey=True)\n",
    "sns.regplot(x=covid_totals.aged_65_older, y=covid_totals.total_cases_mill, ax=axes[0])\n",
    "\n",
    "sns.regplot(x=covid_totals.gdp_per_capita, y=covid_totals.total_cases_mill, ax=axes[1])\n",
    "axes[0].set(xlabel=\"Aged 65 or Older\", ylabel=\"Cases Per Million\")\n",
    "axes[1].set(xlabel=\"GDP Per Capita\")\n",
    "plt.suptitle(\"Age 65 Plus and GDP with Cases Per Million\")\n",
    "plt.tight_layout()"
   ]
  },
  {
   "cell_type": "markdown",
   "id": "e7e615b6-91f5-48cf-981c-9619ca2e5bc6",
   "metadata": {},
   "source": [
    "We can use scatter plots to illustrate the relationships between two features and a target, all in one graphic.\n",
    "\n",
    "We split the `landtemps` DataFrame into low- and high- elevation stations, with 1,000 meters as the threshold."
   ]
  },
  {
   "cell_type": "code",
   "execution_count": 37,
   "id": "2d7d269e-dcd6-4f76-9c0c-01d4400d82f1",
   "metadata": {
    "tags": []
   },
   "outputs": [
    {
     "data": {
      "text/plain": [
       "(2557, 7.583214869517569)"
      ]
     },
     "execution_count": 37,
     "metadata": {},
     "output_type": "execute_result"
    }
   ],
   "source": [
    "land_temps = pd.read_csv(\"./data/landtemps2019avgs.csv\")\n",
    "high = land_temps.loc[land_temps.elevation <= 1_000]\n",
    "low = land_temps.loc[land_temps.elevation > 1_000]\n",
    "\n",
    "low.shape[0], low.avgtemp.mean()"
   ]
  },
  {
   "cell_type": "code",
   "execution_count": 38,
   "id": "9e755422-2f27-46b5-ba45-e5d7e84f187b",
   "metadata": {
    "tags": []
   },
   "outputs": [
    {
     "data": {
      "text/plain": [
       "(9538, 12.161417937651686)"
      ]
     },
     "execution_count": 38,
     "metadata": {},
     "output_type": "execute_result"
    }
   ],
   "source": [
    "high.shape[0], high.avgtemp.mean()"
   ]
  },
  {
   "cell_type": "markdown",
   "id": "390a66aa-b546-405d-8041-b4cef97e0c4e",
   "metadata": {},
   "source": [
    "Now, we can visualize the relationship between elevation and latitude and temperature in one scatter plot."
   ]
  },
  {
   "cell_type": "code",
   "execution_count": 41,
   "id": "60f1201c-a7d9-4c8f-bdb8-795fad87c308",
   "metadata": {
    "tags": []
   },
   "outputs": [
    {
     "data": {
      "image/png": "[encoded data removed]",
      "text/plain": [
       "<Figure size 432x288 with 1 Axes>"
      ]
     },
     "metadata": {
      "needs_background": "light"
     },
     "output_type": "display_data"
    }
   ],
   "source": [
    "plt.scatter(x=\"latabs\", y=\"avgtemp\", c=\"blue\", data=high)\n",
    "plt.scatter(x=\"latabs\", y=\"avgtemp\", c=\"red\", data=low)\n",
    "plt.legend((\"low elevation\", \"high elevation\"))\n",
    "plt.xlabel(\"Latitude (N or S)\")\n",
    "plt.ylabel(\"Average Temperature (Celsius)\")\n",
    "plt.title(\"Latitude and Average Temperature in 2019\")\n",
    "pass"
   ]
  },
  {
   "cell_type": "markdown",
   "id": "eadb5289-277c-44dc-8846-64e6ab1887fb",
   "metadata": {},
   "source": [
    "^ Here, we can see that the temperature gradually decreases as the distance from the equator (measured in latitude) increases. We can also see that high-elevation weather stations (those with red dots) are generally below low-elevation stations - that is, they have lower temperature at similar latitude."
   ]
  },
  {
   "cell_type": "code",
   "execution_count": 49,
   "id": "19a43b7d-e620-4428-a630-3b2fcafa304f",
   "metadata": {
    "tags": []
   },
   "outputs": [
    {
     "name": "stderr",
     "output_type": "stream",
     "text": [
      "/usr/local/lib/python3.9/site-packages/seaborn/regression.py:592: UserWarning: legend_out is deprecated from the `lmplot` function signature. Please update your code to pass it using `facet_kws`.\n",
      "  warnings.warn(msg, UserWarning)\n"
     ]
    },
    {
     "data": {
      "image/png": "[encoded data removed]",
      "text/plain": [
       "<Figure size 360x360 with 1 Axes>"
      ]
     },
     "metadata": {
      "needs_background": "light"
     },
     "output_type": "display_data"
    }
   ],
   "source": [
    "# Create a categorical feature for low- and high-elevation stations.\n",
    "land_temps[\"elevation_group\"] = np.where(land_temps.elevation <= 1000, \"low\", \"high\")\n",
    "sns.lmplot(\n",
    "    x=\"latabs\",\n",
    "    y=\"avgtemp\",\n",
    "    hue=\"elevation_group\",\n",
    "    legend_out=False,\n",
    "    palette=dict(low=\"blue\", high=\"red\"),\n",
    "    data=land_temps,\n",
    ")\n",
    "plt.xlabel(\"Latitude (N or S)\")\n",
    "plt.ylabel(\"Average Temperature\")\n",
    "plt.legend((\"low elevation\", \"high elevation\"))\n",
    "plt.yticks(np.arange(-60, 40, step=20))\n",
    "plt.title(\"Latitude and Average Temperature in 2019\")\n",
    "plt.tight_layout()"
   ]
  },
  {
   "cell_type": "markdown",
   "id": "cd265936-c67d-4dfb-b4a3-ae47aa12719e",
   "metadata": {},
   "source": [
    "^ Here, we can see the steeper negative slope for high-elevation stations."
   ]
  },
  {
   "cell_type": "markdown",
   "id": "b9c9e15a-de8e-4e8b-bda7-c9303d16b23f",
   "metadata": {},
   "source": [
    "### Summary\n",
    "\n",
    "Scatter plots are a go-to visualization for teasing out relationships between continuous features. "
   ]
  },
  {
   "cell_type": "markdown",
   "id": "745e1a0d-8fe8-434b-a33f-9562cef353ff",
   "metadata": {},
   "source": [
    "## Using grouped boxplots to view bivariante relationships between continuous and categorical features\n",
    "\n",
    "Scatter plots can be used to visualize the relationship between _continuous features_.\n",
    "Grouped boxplots can be used to visualze the relationship between a _continuous feature_ and a _categorical_ one."
   ]
  },
  {
   "cell_type": "code",
   "execution_count": 58,
   "id": "21b9a84f-9fad-4651-8fb5-c2c3f542b6f4",
   "metadata": {
    "tags": []
   },
   "outputs": [
    {
     "data": {
      "text/html": [
       "<div>\n",
       "<style scoped>\n",
       "    .dataframe tbody tr th:only-of-type {\n",
       "        vertical-align: middle;\n",
       "    }\n",
       "\n",
       "    .dataframe tbody tr th {\n",
       "        vertical-align: top;\n",
       "    }\n",
       "\n",
       "    .dataframe thead th {\n",
       "        text-align: right;\n",
       "    }\n",
       "</style>\n",
       "<table border=\"1\" class=\"dataframe\">\n",
       "  <thead>\n",
       "    <tr style=\"text-align: right;\">\n",
       "      <th>personid</th>\n",
       "      <th>832261</th>\n",
       "      <th>913711</th>\n",
       "      <th>393045</th>\n",
       "      <th>750934</th>\n",
       "      <th>564858</th>\n",
       "    </tr>\n",
       "  </thead>\n",
       "  <tbody>\n",
       "    <tr>\n",
       "      <th>gender</th>\n",
       "      <td>Male</td>\n",
       "      <td>Male</td>\n",
       "      <td>Male</td>\n",
       "      <td>Female</td>\n",
       "      <td>Female</td>\n",
       "    </tr>\n",
       "    <tr>\n",
       "      <th>birthmonth</th>\n",
       "      <td>1</td>\n",
       "      <td>1</td>\n",
       "      <td>4</td>\n",
       "      <td>7</td>\n",
       "      <td>7</td>\n",
       "    </tr>\n",
       "    <tr>\n",
       "      <th>birthyear</th>\n",
       "      <td>1981</td>\n",
       "      <td>1981</td>\n",
       "      <td>1982</td>\n",
       "      <td>1981</td>\n",
       "      <td>1983</td>\n",
       "    </tr>\n",
       "    <tr>\n",
       "      <th>highestgradecompleted</th>\n",
       "      <td>NaN</td>\n",
       "      <td>12.0</td>\n",
       "      <td>17.0</td>\n",
       "      <td>12.0</td>\n",
       "      <td>NaN</td>\n",
       "    </tr>\n",
       "    <tr>\n",
       "      <th>maritalstatus</th>\n",
       "      <td>NaN</td>\n",
       "      <td>Divorced</td>\n",
       "      <td>Never-married</td>\n",
       "      <td>Divorced</td>\n",
       "      <td>NaN</td>\n",
       "    </tr>\n",
       "    <tr>\n",
       "      <th>...</th>\n",
       "      <td>...</td>\n",
       "      <td>...</td>\n",
       "      <td>...</td>\n",
       "      <td>...</td>\n",
       "      <td>...</td>\n",
       "    </tr>\n",
       "    <tr>\n",
       "      <th>colenroct15</th>\n",
       "      <td>NaN</td>\n",
       "      <td>1. Not enrolled</td>\n",
       "      <td>1. Not enrolled</td>\n",
       "      <td>1. Not enrolled</td>\n",
       "      <td>NaN</td>\n",
       "    </tr>\n",
       "    <tr>\n",
       "      <th>colenrfeb16</th>\n",
       "      <td>NaN</td>\n",
       "      <td>1. Not enrolled</td>\n",
       "      <td>1. Not enrolled</td>\n",
       "      <td>1. Not enrolled</td>\n",
       "      <td>NaN</td>\n",
       "    </tr>\n",
       "    <tr>\n",
       "      <th>colenroct16</th>\n",
       "      <td>NaN</td>\n",
       "      <td>1. Not enrolled</td>\n",
       "      <td>1. Not enrolled</td>\n",
       "      <td>1. Not enrolled</td>\n",
       "      <td>NaN</td>\n",
       "    </tr>\n",
       "    <tr>\n",
       "      <th>colenrfeb17</th>\n",
       "      <td>NaN</td>\n",
       "      <td>1. Not enrolled</td>\n",
       "      <td>1. Not enrolled</td>\n",
       "      <td>1. Not enrolled</td>\n",
       "      <td>NaN</td>\n",
       "    </tr>\n",
       "    <tr>\n",
       "      <th>colenroct17</th>\n",
       "      <td>NaN</td>\n",
       "      <td>1. Not enrolled</td>\n",
       "      <td>1. Not enrolled</td>\n",
       "      <td>1. Not enrolled</td>\n",
       "      <td>NaN</td>\n",
       "    </tr>\n",
       "  </tbody>\n",
       "</table>\n",
       "<p>88 rows × 5 columns</p>\n",
       "</div>"
      ],
      "text/plain": [
       "personid              832261           913711           393045  \\\n",
       "gender                  Male             Male             Male   \n",
       "birthmonth                 1                1                4   \n",
       "birthyear               1981             1981             1982   \n",
       "highestgradecompleted    NaN             12.0             17.0   \n",
       "maritalstatus            NaN         Divorced    Never-married   \n",
       "...                      ...              ...              ...   \n",
       "colenroct15              NaN  1. Not enrolled  1. Not enrolled   \n",
       "colenrfeb16              NaN  1. Not enrolled  1. Not enrolled   \n",
       "colenroct16              NaN  1. Not enrolled  1. Not enrolled   \n",
       "colenrfeb17              NaN  1. Not enrolled  1. Not enrolled   \n",
       "colenroct17              NaN  1. Not enrolled  1. Not enrolled   \n",
       "\n",
       "personid                        750934  564858  \n",
       "gender                          Female  Female  \n",
       "birthmonth                           7       7  \n",
       "birthyear                         1981    1983  \n",
       "highestgradecompleted             12.0     NaN  \n",
       "maritalstatus                 Divorced     NaN  \n",
       "...                                ...     ...  \n",
       "colenroct15            1. Not enrolled     NaN  \n",
       "colenrfeb16            1. Not enrolled     NaN  \n",
       "colenroct16            1. Not enrolled     NaN  \n",
       "colenrfeb17            1. Not enrolled     NaN  \n",
       "colenroct17            1. Not enrolled     NaN  \n",
       "\n",
       "[88 rows x 5 columns]"
      ]
     },
     "execution_count": 58,
     "metadata": {},
     "output_type": "execute_result"
    }
   ],
   "source": [
    "nls97 = pd.read_csv(\"data/nls97.csv\")\n",
    "nls97.set_index(\"personid\", inplace=True)\n",
    "nls97.sample(5).T"
   ]
  },
  {
   "cell_type": "markdown",
   "id": "65b04598-fa74-47b2-a3d6-91ab14ab8bb6",
   "metadata": {},
   "source": [
    "Let's look at the distribution of weeks worked for each value of the degree that was earned."
   ]
  },
  {
   "cell_type": "code",
   "execution_count": 61,
   "id": "2a2f1aa8-27a9-476b-8b31-b3af380577df",
   "metadata": {
    "tags": []
   },
   "outputs": [
    {
     "data": {
      "text/html": [
       "<div>\n",
       "<style scoped>\n",
       "    .dataframe tbody tr th:only-of-type {\n",
       "        vertical-align: middle;\n",
       "    }\n",
       "\n",
       "    .dataframe tbody tr th {\n",
       "        vertical-align: top;\n",
       "    }\n",
       "\n",
       "    .dataframe thead th {\n",
       "        text-align: right;\n",
       "    }\n",
       "</style>\n",
       "<table border=\"1\" class=\"dataframe\">\n",
       "  <thead>\n",
       "    <tr style=\"text-align: right;\">\n",
       "      <th></th>\n",
       "      <th>min</th>\n",
       "      <th>qr1</th>\n",
       "      <th>med</th>\n",
       "      <th>qr3</th>\n",
       "      <th>max</th>\n",
       "      <th>count</th>\n",
       "    </tr>\n",
       "    <tr>\n",
       "      <th>highestdegree</th>\n",
       "      <th></th>\n",
       "      <th></th>\n",
       "      <th></th>\n",
       "      <th></th>\n",
       "      <th></th>\n",
       "      <th></th>\n",
       "    </tr>\n",
       "  </thead>\n",
       "  <tbody>\n",
       "    <tr>\n",
       "      <th>0. None</th>\n",
       "      <td>0</td>\n",
       "      <td>0</td>\n",
       "      <td>40</td>\n",
       "      <td>52</td>\n",
       "      <td>52</td>\n",
       "      <td>510</td>\n",
       "    </tr>\n",
       "    <tr>\n",
       "      <th>1. GED</th>\n",
       "      <td>0</td>\n",
       "      <td>8</td>\n",
       "      <td>47</td>\n",
       "      <td>52</td>\n",
       "      <td>52</td>\n",
       "      <td>848</td>\n",
       "    </tr>\n",
       "    <tr>\n",
       "      <th>2. High School</th>\n",
       "      <td>0</td>\n",
       "      <td>31</td>\n",
       "      <td>49</td>\n",
       "      <td>52</td>\n",
       "      <td>52</td>\n",
       "      <td>2665</td>\n",
       "    </tr>\n",
       "    <tr>\n",
       "      <th>3. Associates</th>\n",
       "      <td>0</td>\n",
       "      <td>42</td>\n",
       "      <td>49</td>\n",
       "      <td>52</td>\n",
       "      <td>52</td>\n",
       "      <td>593</td>\n",
       "    </tr>\n",
       "    <tr>\n",
       "      <th>4. Bachelors</th>\n",
       "      <td>0</td>\n",
       "      <td>45</td>\n",
       "      <td>50</td>\n",
       "      <td>52</td>\n",
       "      <td>52</td>\n",
       "      <td>1342</td>\n",
       "    </tr>\n",
       "    <tr>\n",
       "      <th>5. Masters</th>\n",
       "      <td>0</td>\n",
       "      <td>46</td>\n",
       "      <td>50</td>\n",
       "      <td>52</td>\n",
       "      <td>52</td>\n",
       "      <td>538</td>\n",
       "    </tr>\n",
       "    <tr>\n",
       "      <th>6. PhD</th>\n",
       "      <td>0</td>\n",
       "      <td>46</td>\n",
       "      <td>50</td>\n",
       "      <td>52</td>\n",
       "      <td>52</td>\n",
       "      <td>51</td>\n",
       "    </tr>\n",
       "    <tr>\n",
       "      <th>7. Professional</th>\n",
       "      <td>0</td>\n",
       "      <td>47</td>\n",
       "      <td>50</td>\n",
       "      <td>52</td>\n",
       "      <td>52</td>\n",
       "      <td>97</td>\n",
       "    </tr>\n",
       "  </tbody>\n",
       "</table>\n",
       "</div>"
      ],
      "text/plain": [
       "                min qr1 med qr3 max count\n",
       "highestdegree                            \n",
       "0. None           0   0  40  52  52   510\n",
       "1. GED            0   8  47  52  52   848\n",
       "2. High School    0  31  49  52  52  2665\n",
       "3. Associates     0  42  49  52  52   593\n",
       "4. Bachelors      0  45  50  52  52  1342\n",
       "5. Masters        0  46  50  52  52   538\n",
       "6. PhD            0  46  50  52  52    51\n",
       "7. Professional   0  47  50  52  52    97"
      ]
     },
     "execution_count": 61,
     "metadata": {},
     "output_type": "execute_result"
    }
   ],
   "source": [
    "def get_totals(x):\n",
    "    out = {}\n",
    "    out[\"min\"] = x.min()\n",
    "    out[\"qr1\"] = x.quantile(0.25)\n",
    "    out[\"med\"] = x.median()\n",
    "    out[\"qr3\"] = x.quantile(0.75)\n",
    "    out[\"max\"] = x.max()\n",
    "    out[\"count\"] = x.count()\n",
    "    return pd.Series(out)\n",
    "\n",
    "\n",
    "nls97.groupby([\"highestdegree\"])[\"weeksworked17\"].apply(get_totals).unstack().applymap(\n",
    "    \"{:.0f}\".format\n",
    ")"
   ]
  },
  {
   "cell_type": "markdown",
   "id": "68842c94-60cf-4682-92bc-13d2b1469bcc",
   "metadata": {},
   "source": [
    "^ For those with no degree, more than 25% had 0 weeks worked.\n",
    "\n",
    "There is class imbalance for `highestdegree`. The counts get quite small after master's degrees and the counts for high school degrees are nearly twice that of the next largest group."
   ]
  },
  {
   "cell_type": "markdown",
   "id": "c42fdbee-d94e-4a7c-8648-072b51da19b5",
   "metadata": {},
   "source": [
    "Grouped boxplots make the differences in distributions even clearer."
   ]
  },
  {
   "cell_type": "code",
   "execution_count": 66,
   "id": "34f50905-7168-4b4d-8a59-b2deb7033f9c",
   "metadata": {
    "tags": []
   },
   "outputs": [
    {
     "data": {
      "image/png": "[encoded data removed]",
      "text/plain": [
       "<Figure size 432x288 with 1 Axes>"
      ]
     },
     "metadata": {
      "needs_background": "light"
     },
     "output_type": "display_data"
    }
   ],
   "source": [
    "import seaborn as sns\n",
    "\n",
    "myplt = sns.boxplot(\n",
    "    x=\"highestdegree\",\n",
    "    y=\"weeksworked17\",\n",
    "    data=nls97,\n",
    "    order=sorted(nls97.highestdegree.dropna().unique()),\n",
    ")\n",
    "myplt.set(\n",
    "    title=\"Boxplots of Weeks Worked by Highest Degree\",\n",
    "    xlabel=\"Highest Degree Attained\",\n",
    "    ylabel=\"Weeks Worked 2017\",\n",
    ")\n",
    "myplt.set_xticklabels(myplt.get_xticklabels(), rotation=60, horizontalalignment=\"right\")\n",
    "plt.tight_layout()"
   ]
  },
  {
   "cell_type": "markdown",
   "id": "eb724813-8999-49a5-bfc7-deb6794be0a2",
   "metadata": {},
   "source": [
    "We can also use grouped boxplots to illustrate how the distribution of COVID-19 cases varies by region."
   ]
  },
  {
   "cell_type": "code",
   "execution_count": 71,
   "id": "c180754b-101a-4941-b5f4-ca994d5a4287",
   "metadata": {
    "tags": []
   },
   "outputs": [
    {
     "data": {
      "text/plain": [
       "Text(0, 0.5, 'Region')"
      ]
     },
     "execution_count": 71,
     "metadata": {},
     "output_type": "execute_result"
    },
    {
     "data": {
      "image/png": "[encoded data removed]",
      "text/plain": [
       "<Figure size 432x288 with 1 Axes>"
      ]
     },
     "metadata": {
      "needs_background": "light"
     },
     "output_type": "display_data"
    }
   ],
   "source": [
    "sns.boxplot(x=\"total_cases_mill\", y=\"region\", data=covid_totals)\n",
    "sns.swarmplot(\n",
    "    y=\"region\",\n",
    "    x=\"total_cases_mill\",\n",
    "    data=covid_totals,\n",
    "    size=1.5,\n",
    "    color=\".3\",\n",
    "    linewidth=0,\n",
    ")\n",
    "plt.title(\"Boxplots of Total Cases Per Million by Region\")\n",
    "plt.xlabel(\"Cases Per Million\")\n",
    "plt.ylabel(\"Region\")"
   ]
  },
  {
   "cell_type": "markdown",
   "id": "1c20e983-c866-4fd9-91a8-de9505ae5021",
   "metadata": {
    "tags": []
   },
   "source": [
    "## Using linear regression to identify data points with significant influence"
   ]
  },
  {
   "cell_type": "markdown",
   "id": "6d46dbf0-d6b2-45ee-abd1-3dd0ddd02c9b",
   "metadata": {},
   "source": [
    "A standard measure of influence in regression analysis is **Cook's Distance (Cook's D)**. This gives us a measure of how much our predictions would change if an observation were to be removed from data."
   ]
  },
  {
   "cell_type": "code",
   "execution_count": 73,
   "id": "9f166af9-a22e-43f7-b4af-dcc2e0ecbf61",
   "metadata": {
    "tags": []
   },
   "outputs": [],
   "source": [
    "import matplotlib.pyplot as plt\n",
    "import pandas as pd\n",
    "import statsmodels.api as sm"
   ]
  },
  {
   "cell_type": "code",
   "execution_count": 74,
   "id": "ef62af8e-d63c-4649-b81d-ed940a31d376",
   "metadata": {
    "tags": []
   },
   "outputs": [],
   "source": [
    "covid_totals = pd.read_csv(\"./data/covidtotals.csv\")\n",
    "covid_totals.set_index(\"iso_code\", inplace=True)"
   ]
  },
  {
   "cell_type": "markdown",
   "id": "a0df4766-9098-4689-8265-7eb2f3663e89",
   "metadata": {},
   "source": [
    "Let's look at the distribution of total cases per million in population and some possible predictors."
   ]
  },
  {
   "cell_type": "code",
   "execution_count": 75,
   "id": "f735cf66-197a-466f-a974-ec10f7ec29d7",
   "metadata": {
    "tags": []
   },
   "outputs": [
    {
     "data": {
      "text/html": [
       "<div>\n",
       "<style scoped>\n",
       "    .dataframe tbody tr th:only-of-type {\n",
       "        vertical-align: middle;\n",
       "    }\n",
       "\n",
       "    .dataframe tbody tr th {\n",
       "        vertical-align: top;\n",
       "    }\n",
       "\n",
       "    .dataframe thead th {\n",
       "        text-align: right;\n",
       "    }\n",
       "</style>\n",
       "<table border=\"1\" class=\"dataframe\">\n",
       "  <thead>\n",
       "    <tr style=\"text-align: right;\">\n",
       "      <th></th>\n",
       "      <th>total_cases_mill</th>\n",
       "      <th>population_density</th>\n",
       "      <th>aged_65_older</th>\n",
       "      <th>gdp_per_capita</th>\n",
       "      <th>diabetes_prevalence</th>\n",
       "    </tr>\n",
       "  </thead>\n",
       "  <tbody>\n",
       "    <tr>\n",
       "      <th>0.00</th>\n",
       "      <td>8.52100</td>\n",
       "      <td>0.13700</td>\n",
       "      <td>1.14400</td>\n",
       "      <td>661.240</td>\n",
       "      <td>0.9900</td>\n",
       "    </tr>\n",
       "    <tr>\n",
       "      <th>0.25</th>\n",
       "      <td>2499.74600</td>\n",
       "      <td>36.51775</td>\n",
       "      <td>3.49675</td>\n",
       "      <td>3823.194</td>\n",
       "      <td>5.3400</td>\n",
       "    </tr>\n",
       "    <tr>\n",
       "      <th>0.50</th>\n",
       "      <td>19525.72650</td>\n",
       "      <td>87.25000</td>\n",
       "      <td>6.21750</td>\n",
       "      <td>12236.706</td>\n",
       "      <td>7.2000</td>\n",
       "    </tr>\n",
       "    <tr>\n",
       "      <th>0.75</th>\n",
       "      <td>64834.61975</td>\n",
       "      <td>213.53550</td>\n",
       "      <td>13.91750</td>\n",
       "      <td>27216.445</td>\n",
       "      <td>10.6125</td>\n",
       "    </tr>\n",
       "    <tr>\n",
       "      <th>1.00</th>\n",
       "      <td>181466.38200</td>\n",
       "      <td>20546.76600</td>\n",
       "      <td>27.04900</td>\n",
       "      <td>116935.600</td>\n",
       "      <td>30.5300</td>\n",
       "    </tr>\n",
       "  </tbody>\n",
       "</table>\n",
       "</div>"
      ],
      "text/plain": [
       "      total_cases_mill  population_density  aged_65_older  gdp_per_capita  \\\n",
       "0.00           8.52100             0.13700        1.14400         661.240   \n",
       "0.25        2499.74600            36.51775        3.49675        3823.194   \n",
       "0.50       19525.72650            87.25000        6.21750       12236.706   \n",
       "0.75       64834.61975           213.53550       13.91750       27216.445   \n",
       "1.00      181466.38200         20546.76600       27.04900      116935.600   \n",
       "\n",
       "      diabetes_prevalence  \n",
       "0.00               0.9900  \n",
       "0.25               5.3400  \n",
       "0.50               7.2000  \n",
       "0.75              10.6125  \n",
       "1.00              30.5300  "
      ]
     },
     "execution_count": 75,
     "metadata": {},
     "output_type": "execute_result"
    }
   ],
   "source": [
    "x_vars = [\n",
    "    \"population_density\",\n",
    "    \"aged_65_older\",\n",
    "    \"gdp_per_capita\",\n",
    "    \"diabetes_prevalence\",\n",
    "]\n",
    "\n",
    "covid_totals[[\"total_cases_mill\"] + x_vars].quantile(np.arange(0.0, 1.05, 0.25))"
   ]
  },
  {
   "cell_type": "code",
   "execution_count": 76,
   "id": "2b170882-12a8-442a-99e1-a6f7c896c33d",
   "metadata": {
    "tags": []
   },
   "outputs": [],
   "source": [
    "def get_linear_model(df, y_colname, x_colnames):\n",
    "    \"\"\"Uses statsmodel to run a linear regression model and generate\n",
    "    influence statistics, including Cook's D.\n",
    "    \"\"\"\n",
    "    df = df[[y_colname] + x_colnames].dropna()\n",
    "    y = df[y_colname]\n",
    "    X = df[x_colnames]\n",
    "    X = sm.add_constant(X)\n",
    "    lm = sm.OLS(y, X).fit()\n",
    "    influence = lm.get_influence().summary_frame()\n",
    "\n",
    "    coefficients = pd.DataFrame(\n",
    "        zip([\"constant\"] + x_colnames, lm.params, lm.pvalues),\n",
    "        columns=[\"features\", \"params\", \"pvalues\"],\n",
    "    )\n",
    "    return coefficients, influence, lm"
   ]
  },
  {
   "cell_type": "code",
   "execution_count": 79,
   "id": "060050aa-a1b2-45d2-80f6-36ce0f73844a",
   "metadata": {
    "tags": []
   },
   "outputs": [
    {
     "data": {
      "text/html": [
       "<div>\n",
       "<style scoped>\n",
       "    .dataframe tbody tr th:only-of-type {\n",
       "        vertical-align: middle;\n",
       "    }\n",
       "\n",
       "    .dataframe tbody tr th {\n",
       "        vertical-align: top;\n",
       "    }\n",
       "\n",
       "    .dataframe thead th {\n",
       "        text-align: right;\n",
       "    }\n",
       "</style>\n",
       "<table border=\"1\" class=\"dataframe\">\n",
       "  <thead>\n",
       "    <tr style=\"text-align: right;\">\n",
       "      <th></th>\n",
       "      <th>features</th>\n",
       "      <th>params</th>\n",
       "      <th>pvalues</th>\n",
       "    </tr>\n",
       "  </thead>\n",
       "  <tbody>\n",
       "    <tr>\n",
       "      <th>0</th>\n",
       "      <td>constant</td>\n",
       "      <td>-1076.47109</td>\n",
       "      <td>0.86972</td>\n",
       "    </tr>\n",
       "    <tr>\n",
       "      <th>1</th>\n",
       "      <td>population_density</td>\n",
       "      <td>-6.90624</td>\n",
       "      <td>0.03022</td>\n",
       "    </tr>\n",
       "    <tr>\n",
       "      <th>2</th>\n",
       "      <td>aged_65_older</td>\n",
       "      <td>2713.91809</td>\n",
       "      <td>0.00000</td>\n",
       "    </tr>\n",
       "    <tr>\n",
       "      <th>3</th>\n",
       "      <td>gdp_per_capita</td>\n",
       "      <td>0.53151</td>\n",
       "      <td>0.00087</td>\n",
       "    </tr>\n",
       "    <tr>\n",
       "      <th>4</th>\n",
       "      <td>diabetes_prevalence</td>\n",
       "      <td>736.80903</td>\n",
       "      <td>0.24110</td>\n",
       "    </tr>\n",
       "  </tbody>\n",
       "</table>\n",
       "</div>"
      ],
      "text/plain": [
       "              features      params  pvalues\n",
       "0             constant -1076.47109  0.86972\n",
       "1   population_density    -6.90624  0.03022\n",
       "2        aged_65_older  2713.91809  0.00000\n",
       "3       gdp_per_capita     0.53151  0.00087\n",
       "4  diabetes_prevalence   736.80903  0.24110"
      ]
     },
     "execution_count": 79,
     "metadata": {},
     "output_type": "execute_result"
    }
   ],
   "source": [
    "coefficients, influence, lm = get_linear_model(covid_totals, \"total_cases_mill\", x_vars)\n",
    "coefficients.round(5)"
   ]
  },
  {
   "cell_type": "markdown",
   "id": "ce491272-6939-48c3-a3b9-405cdcdcdee6",
   "metadata": {},
   "source": [
    "^ The coefficients for `population_density`, `age_65_older`, and `gdp_per_capita` are all significant at 95% level (have `p-values` less than 0.05).\n",
    "\n",
    "The result for `population_density` is interesting since our bivariante analysis did not reveal a relationship between population density and cases per million.\n",
    "\n",
    "The coefficient indicates a 6.9-point reduction in caes per million, with a 1-point increase in people per square mile."
   ]
  },
  {
   "cell_type": "markdown",
   "id": "a176918e-c48f-478f-bc9e-16fd32124be9",
   "metadata": {
    "tags": []
   },
   "source": [
    "We can use the `influence` DataFrame that we created to take a closer look at those observations with high **Cook's D**.\n",
    "\n",
    "One way of defining a high **Cook's D** is by using three times the mean value for **Cook's D** for all observations."
   ]
  },
  {
   "cell_type": "code",
   "execution_count": 82,
   "id": "fa32b463-157e-4a54-9a8a-2fe1284103b2",
   "metadata": {
    "tags": []
   },
   "outputs": [
    {
     "data": {
      "text/plain": [
       "(13, 17)"
      ]
     },
     "execution_count": 82,
     "metadata": {},
     "output_type": "execute_result"
    }
   ],
   "source": [
    "influence_threshold = 3 * influence.cooks_d.mean()\n",
    "covid_totals = covid_totals.join(influence[[\"cooks_d\"]])\n",
    "covid_totals_outliers = covid_totals.loc[covid_totals.cooks_d > influence_threshold]\n",
    "covid_totals_outliers.shape"
   ]
  },
  {
   "cell_type": "markdown",
   "id": "abe6d8ca-4588-475b-bf4d-dce7008a7323",
   "metadata": {},
   "source": [
    "^ We have 13 countries with **Cook's D** values above the threshold. Below we print the first five in descending order of the **Cook's D** value."
   ]
  },
  {
   "cell_type": "code",
   "execution_count": 83,
   "id": "0b46a104-7091-4be7-9898-c9165297445e",
   "metadata": {
    "tags": []
   },
   "outputs": [
    {
     "data": {
      "text/html": [
       "<div>\n",
       "<style scoped>\n",
       "    .dataframe tbody tr th:only-of-type {\n",
       "        vertical-align: middle;\n",
       "    }\n",
       "\n",
       "    .dataframe tbody tr th {\n",
       "        vertical-align: top;\n",
       "    }\n",
       "\n",
       "    .dataframe thead th {\n",
       "        text-align: right;\n",
       "    }\n",
       "</style>\n",
       "<table border=\"1\" class=\"dataframe\">\n",
       "  <thead>\n",
       "    <tr style=\"text-align: right;\">\n",
       "      <th></th>\n",
       "      <th>location</th>\n",
       "      <th>total_cases_mill</th>\n",
       "      <th>cooks_d</th>\n",
       "      <th>population_density</th>\n",
       "      <th>aged_65_older</th>\n",
       "      <th>gdp_per_capita</th>\n",
       "      <th>diabetes_prevalence</th>\n",
       "    </tr>\n",
       "    <tr>\n",
       "      <th>iso_code</th>\n",
       "      <th></th>\n",
       "      <th></th>\n",
       "      <th></th>\n",
       "      <th></th>\n",
       "      <th></th>\n",
       "      <th></th>\n",
       "      <th></th>\n",
       "    </tr>\n",
       "  </thead>\n",
       "  <tbody>\n",
       "    <tr>\n",
       "      <th>BHR</th>\n",
       "      <td>Bahrain</td>\n",
       "      <td>156793.409</td>\n",
       "      <td>0.229818</td>\n",
       "      <td>1935.907</td>\n",
       "      <td>2.372</td>\n",
       "      <td>43290.705</td>\n",
       "      <td>16.52</td>\n",
       "    </tr>\n",
       "    <tr>\n",
       "      <th>SGP</th>\n",
       "      <td>Singapore</td>\n",
       "      <td>10709.116</td>\n",
       "      <td>0.199708</td>\n",
       "      <td>7915.731</td>\n",
       "      <td>12.922</td>\n",
       "      <td>85535.383</td>\n",
       "      <td>10.99</td>\n",
       "    </tr>\n",
       "    <tr>\n",
       "      <th>HKG</th>\n",
       "      <td>Hong Kong</td>\n",
       "      <td>1593.307</td>\n",
       "      <td>0.181348</td>\n",
       "      <td>7039.714</td>\n",
       "      <td>16.303</td>\n",
       "      <td>56054.920</td>\n",
       "      <td>8.33</td>\n",
       "    </tr>\n",
       "    <tr>\n",
       "      <th>JPN</th>\n",
       "      <td>Japan</td>\n",
       "      <td>6420.871</td>\n",
       "      <td>0.095461</td>\n",
       "      <td>347.778</td>\n",
       "      <td>27.049</td>\n",
       "      <td>39002.223</td>\n",
       "      <td>5.72</td>\n",
       "    </tr>\n",
       "    <tr>\n",
       "      <th>MDV</th>\n",
       "      <td>Maldives</td>\n",
       "      <td>138239.027</td>\n",
       "      <td>0.069122</td>\n",
       "      <td>1454.433</td>\n",
       "      <td>4.120</td>\n",
       "      <td>15183.616</td>\n",
       "      <td>9.19</td>\n",
       "    </tr>\n",
       "  </tbody>\n",
       "</table>\n",
       "</div>"
      ],
      "text/plain": [
       "           location  total_cases_mill   cooks_d  population_density  \\\n",
       "iso_code                                                              \n",
       "BHR         Bahrain        156793.409  0.229818            1935.907   \n",
       "SGP       Singapore         10709.116  0.199708            7915.731   \n",
       "HKG       Hong Kong          1593.307  0.181348            7039.714   \n",
       "JPN           Japan          6420.871  0.095461             347.778   \n",
       "MDV        Maldives        138239.027  0.069122            1454.433   \n",
       "\n",
       "          aged_65_older  gdp_per_capita  diabetes_prevalence  \n",
       "iso_code                                                      \n",
       "BHR               2.372       43290.705                16.52  \n",
       "SGP              12.922       85535.383                10.99  \n",
       "HKG              16.303       56054.920                 8.33  \n",
       "JPN              27.049       39002.223                 5.72  \n",
       "MDV               4.120       15183.616                 9.19  "
      ]
     },
     "execution_count": 83,
     "metadata": {},
     "output_type": "execute_result"
    }
   ],
   "source": [
    "covid_totals_outliers[[\"location\", \"total_cases_mill\", \"cooks_d\"] + x_vars].sort_values(\n",
    "    [\"cooks_d\"], ascending=False\n",
    ").head()"
   ]
  },
  {
   "cell_type": "markdown",
   "id": "60f90de2-f47b-4e12-b4f2-f05ae1451789",
   "metadata": {},
   "source": [
    "Let's take a look at our regression model estimates if we remove Hong Kong and Singapore.\n",
    "\n",
    "> NOTE: This is not necessarily the best approach. We are removing the observations here just to demonstrate their effect on the model."
   ]
  },
  {
   "cell_type": "code",
   "execution_count": 84,
   "id": "bf0f0725-dc75-4727-94ef-8bd7513cd082",
   "metadata": {
    "tags": []
   },
   "outputs": [],
   "source": [
    "coefficients, influence, lm2 = get_linear_model(\n",
    "    covid_totals.drop([\"HKG\", \"SGP\"]), \"total_cases_mill\", x_vars\n",
    ")"
   ]
  },
  {
   "cell_type": "code",
   "execution_count": 87,
   "id": "57289708-b841-46d1-82db-a86bcf71b84e",
   "metadata": {
    "tags": []
   },
   "outputs": [
    {
     "data": {
      "text/html": [
       "<div>\n",
       "<style scoped>\n",
       "    .dataframe tbody tr th:only-of-type {\n",
       "        vertical-align: middle;\n",
       "    }\n",
       "\n",
       "    .dataframe tbody tr th {\n",
       "        vertical-align: top;\n",
       "    }\n",
       "\n",
       "    .dataframe thead th {\n",
       "        text-align: right;\n",
       "    }\n",
       "</style>\n",
       "<table border=\"1\" class=\"dataframe\">\n",
       "  <thead>\n",
       "    <tr style=\"text-align: right;\">\n",
       "      <th></th>\n",
       "      <th>features</th>\n",
       "      <th>params</th>\n",
       "      <th>pvalues</th>\n",
       "    </tr>\n",
       "  </thead>\n",
       "  <tbody>\n",
       "    <tr>\n",
       "      <th>0</th>\n",
       "      <td>constant</td>\n",
       "      <td>-2864.21900</td>\n",
       "      <td>0.65276</td>\n",
       "    </tr>\n",
       "    <tr>\n",
       "      <th>1</th>\n",
       "      <td>population_density</td>\n",
       "      <td>26.98875</td>\n",
       "      <td>0.00532</td>\n",
       "    </tr>\n",
       "    <tr>\n",
       "      <th>2</th>\n",
       "      <td>aged_65_older</td>\n",
       "      <td>2669.28143</td>\n",
       "      <td>0.00000</td>\n",
       "    </tr>\n",
       "    <tr>\n",
       "      <th>3</th>\n",
       "      <td>gdp_per_capita</td>\n",
       "      <td>0.55307</td>\n",
       "      <td>0.00038</td>\n",
       "    </tr>\n",
       "    <tr>\n",
       "      <th>4</th>\n",
       "      <td>diabetes_prevalence</td>\n",
       "      <td>319.26187</td>\n",
       "      <td>0.60485</td>\n",
       "    </tr>\n",
       "  </tbody>\n",
       "</table>\n",
       "</div>"
      ],
      "text/plain": [
       "              features      params  pvalues\n",
       "0             constant -2864.21900  0.65276\n",
       "1   population_density    26.98875  0.00532\n",
       "2        aged_65_older  2669.28143  0.00000\n",
       "3       gdp_per_capita     0.55307  0.00038\n",
       "4  diabetes_prevalence   319.26187  0.60485"
      ]
     },
     "execution_count": 87,
     "metadata": {},
     "output_type": "execute_result"
    }
   ],
   "source": [
    "coefficients.round(5)"
   ]
  },
  {
   "cell_type": "markdown",
   "id": "e470d2e0-99bb-4c7c-a8c5-d8f760899d3c",
   "metadata": {},
   "source": [
    "^ The big change in the model is that the population density coefficient has now changed direction. This demonstrates how sensitive the population density estimate is to outlier observations whose feature and target values may not be generalizable to the rest of the data."
   ]
  },
  {
   "cell_type": "markdown",
   "id": "6b71af23-8c16-4b2e-b342-be3904cd78dc",
   "metadata": {},
   "source": [
    "### Summary\n",
    "\n",
    "Generating influence measures with linear regression is a very useful technique, and it has the advantage that it is fairly easy to interpret. \n",
    "\n",
    "However, it has one important disadvantage: it assumes a _linear relationship_ between features, and that features are _normally distributed_. This is often not the case. "
   ]
  },
  {
   "cell_type": "markdown",
   "id": "d9c06599-c6c6-4e01-8259-3092c4ae9452",
   "metadata": {},
   "source": [
    "## Using K-nearest neighbors to find outliers"
   ]
  },
  {
   "cell_type": "code",
   "execution_count": 96,
   "id": "6e693648-f0cd-4033-a2a4-418476065d95",
   "metadata": {
    "tags": []
   },
   "outputs": [],
   "source": [
    "!pip install -qq pyod\n",
    "from pyod.models.knn import KNN\n",
    "from sklearn.preprocessing import StandardScaler"
   ]
  },
  {
   "cell_type": "code",
   "execution_count": 102,
   "id": "115b25cc-47de-48fb-830c-2f3af404b954",
   "metadata": {
    "tags": []
   },
   "outputs": [],
   "source": [
    "covid_totals = pd.read_csv(\"./data/covidtotals.csv\")\n",
    "covid_totals.set_index(\"iso_code\", inplace=True)"
   ]
  },
  {
   "cell_type": "markdown",
   "id": "c99a3ad5-570f-4911-96f8-4c175e187aeb",
   "metadata": {},
   "source": [
    "We standardize the data, which is important when we have features with very different ranges."
   ]
  },
  {
   "cell_type": "code",
   "execution_count": 101,
   "id": "efbfc37b-fde6-4a49-810c-cb82ba5455d7",
   "metadata": {
    "tags": []
   },
   "outputs": [],
   "source": [
    "standardizer = StandardScaler()\n",
    "analysis_vars = [\n",
    "    \"location\",\n",
    "    \"total_cases_mill\",\n",
    "    \"total_deaths_mill\",\n",
    "    \"population_density\",\n",
    "    \"diabetes_prevalence\",\n",
    "    \"aged_65_older\",\n",
    "    \"gdp_per_capita\",\n",
    "]\n",
    "\n",
    "covid_analysis = covid_totals.loc[:, analysis_vars].dropna()\n",
    "covid_analysis_stand = standardizer.fit_transform(covid_analysis.iloc[:, 1:])"
   ]
  },
  {
   "cell_type": "markdown",
   "id": "c5c56cca-77fc-45de-b310-f8b8f0b6cf7f",
   "metadata": {},
   "source": [
    "Next, we can run the model and generate predictions and anomaly scores. First, we must set `contamination` to `0.1` to indicate that we want 10% of observations to be identified as outliers.\n",
    "\n",
    "After using the `fit` method to run the KNN algorithm, we get predictions (1 if an outlier, 0 if an inlier) and an anomaly score, which is the basis of the prediction (in this case, the top 10% of anomaly scores will get a prediction of 1):"
   ]
  },
  {
   "cell_type": "code",
   "execution_count": 104,
   "id": "e9c08bb1-da31-40eb-9f0f-84fd78f0f354",
   "metadata": {
    "tags": []
   },
   "outputs": [],
   "source": [
    "clf_name = \"KNN\"\n",
    "clf = KNN(contamination=0.1)\n",
    "clf.fit(covid_analysis_stand)\n",
    "y_pred = clf.labels_\n",
    "y_scores = clf.decision_scores_"
   ]
  },
  {
   "cell_type": "code",
   "execution_count": 109,
   "id": "09196a8e-627d-42c0-9e04-dc46db57cf5b",
   "metadata": {
    "tags": []
   },
   "outputs": [
    {
     "data": {
      "text/plain": [
       "0    0.896552\n",
       "1    0.103448\n",
       "Name: outlier, dtype: float64"
      ]
     },
     "execution_count": 109,
     "metadata": {},
     "output_type": "execute_result"
    }
   ],
   "source": [
    "pred = pd.DataFrame(\n",
    "    zip(y_pred, y_scores), columns=[\"outlier\", \"scores\"], index=covid_analysis.index\n",
    ")\n",
    "\n",
    "# 10% of the data is now classified as outliers.\n",
    "pred.outlier.value_counts(normalize=True)"
   ]
  },
  {
   "cell_type": "code",
   "execution_count": 110,
   "id": "695c9955-d6a7-4b90-bbcb-4c142d0b1af1",
   "metadata": {
    "tags": []
   },
   "outputs": [
    {
     "data": {
      "text/plain": [
       "0    156\n",
       "1     18\n",
       "Name: outlier, dtype: int64"
      ]
     },
     "execution_count": 110,
     "metadata": {},
     "output_type": "execute_result"
    }
   ],
   "source": [
    "# 18 countries have been identified as outliers.\n",
    "pred.outlier.value_counts()"
   ]
  },
  {
   "cell_type": "code",
   "execution_count": 112,
   "id": "dc74a8c6-2d7e-4fb9-aa9a-bc263ffb8a0e",
   "metadata": {
    "tags": []
   },
   "outputs": [
    {
     "data": {
      "text/html": [
       "<div>\n",
       "<style scoped>\n",
       "    .dataframe tbody tr th:only-of-type {\n",
       "        vertical-align: middle;\n",
       "    }\n",
       "\n",
       "    .dataframe tbody tr th {\n",
       "        vertical-align: top;\n",
       "    }\n",
       "\n",
       "    .dataframe thead tr th {\n",
       "        text-align: left;\n",
       "    }\n",
       "\n",
       "    .dataframe thead tr:last-of-type th {\n",
       "        text-align: right;\n",
       "    }\n",
       "</style>\n",
       "<table border=\"1\" class=\"dataframe\">\n",
       "  <thead>\n",
       "    <tr>\n",
       "      <th></th>\n",
       "      <th colspan=\"3\" halign=\"left\">scores</th>\n",
       "    </tr>\n",
       "    <tr>\n",
       "      <th></th>\n",
       "      <th>min</th>\n",
       "      <th>median</th>\n",
       "      <th>max</th>\n",
       "    </tr>\n",
       "    <tr>\n",
       "      <th>outlier</th>\n",
       "      <th></th>\n",
       "      <th></th>\n",
       "      <th></th>\n",
       "    </tr>\n",
       "  </thead>\n",
       "  <tbody>\n",
       "    <tr>\n",
       "      <th>0</th>\n",
       "      <td>0.11</td>\n",
       "      <td>0.84</td>\n",
       "      <td>1.74</td>\n",
       "    </tr>\n",
       "    <tr>\n",
       "      <th>1</th>\n",
       "      <td>1.77</td>\n",
       "      <td>2.48</td>\n",
       "      <td>9.34</td>\n",
       "    </tr>\n",
       "  </tbody>\n",
       "</table>\n",
       "</div>"
      ],
      "text/plain": [
       "        scores             \n",
       "           min median   max\n",
       "outlier                    \n",
       "0         0.11   0.84  1.74\n",
       "1         1.77   2.48  9.34"
      ]
     },
     "execution_count": 112,
     "metadata": {},
     "output_type": "execute_result"
    }
   ],
   "source": [
    "pred.groupby([\"outlier\"])[[\"scores\"]].agg([\"min\", \"median\", \"max\"]).round(2)"
   ]
  },
  {
   "cell_type": "markdown",
   "id": "87766824-224f-4319-9544-4a27e4ac7bef",
   "metadata": {},
   "source": [
    "^ Outliers have anomaly scores of 1.77 to 9.34, while inliers have scores of 0.11 to 1.74. Below we display the top 10 countries with highest anomaly scores."
   ]
  },
  {
   "cell_type": "code",
   "execution_count": 114,
   "id": "8c8be05a-a44f-4a67-96da-c5c2e1d68fe7",
   "metadata": {
    "tags": []
   },
   "outputs": [
    {
     "data": {
      "text/html": [
       "<div>\n",
       "<style scoped>\n",
       "    .dataframe tbody tr th:only-of-type {\n",
       "        vertical-align: middle;\n",
       "    }\n",
       "\n",
       "    .dataframe tbody tr th {\n",
       "        vertical-align: top;\n",
       "    }\n",
       "\n",
       "    .dataframe thead th {\n",
       "        text-align: right;\n",
       "    }\n",
       "</style>\n",
       "<table border=\"1\" class=\"dataframe\">\n",
       "  <thead>\n",
       "    <tr style=\"text-align: right;\">\n",
       "      <th></th>\n",
       "      <th>location</th>\n",
       "      <th>total_cases_mill</th>\n",
       "      <th>total_deaths_mill</th>\n",
       "      <th>population_density</th>\n",
       "      <th>diabetes_prevalence</th>\n",
       "      <th>aged_65_older</th>\n",
       "      <th>gdp_per_capita</th>\n",
       "      <th>scores</th>\n",
       "    </tr>\n",
       "    <tr>\n",
       "      <th>iso_code</th>\n",
       "      <th></th>\n",
       "      <th></th>\n",
       "      <th></th>\n",
       "      <th></th>\n",
       "      <th></th>\n",
       "      <th></th>\n",
       "      <th></th>\n",
       "      <th></th>\n",
       "    </tr>\n",
       "  </thead>\n",
       "  <tbody>\n",
       "    <tr>\n",
       "      <th>SGP</th>\n",
       "      <td>Singapore</td>\n",
       "      <td>10709.116</td>\n",
       "      <td>6.153</td>\n",
       "      <td>7915.731</td>\n",
       "      <td>10.99</td>\n",
       "      <td>12.922</td>\n",
       "      <td>85535.383</td>\n",
       "      <td>9.342221</td>\n",
       "    </tr>\n",
       "    <tr>\n",
       "      <th>HKG</th>\n",
       "      <td>Hong Kong</td>\n",
       "      <td>1593.307</td>\n",
       "      <td>28.278</td>\n",
       "      <td>7039.714</td>\n",
       "      <td>8.33</td>\n",
       "      <td>16.303</td>\n",
       "      <td>56054.920</td>\n",
       "      <td>8.030011</td>\n",
       "    </tr>\n",
       "    <tr>\n",
       "      <th>PER</th>\n",
       "      <td>Peru</td>\n",
       "      <td>62830.483</td>\n",
       "      <td>5876.013</td>\n",
       "      <td>25.129</td>\n",
       "      <td>5.95</td>\n",
       "      <td>7.151</td>\n",
       "      <td>12236.706</td>\n",
       "      <td>4.369439</td>\n",
       "    </tr>\n",
       "    <tr>\n",
       "      <th>QAT</th>\n",
       "      <td>Qatar</td>\n",
       "      <td>77373.606</td>\n",
       "      <td>206.868</td>\n",
       "      <td>227.322</td>\n",
       "      <td>16.52</td>\n",
       "      <td>1.307</td>\n",
       "      <td>116935.600</td>\n",
       "      <td>4.231571</td>\n",
       "    </tr>\n",
       "    <tr>\n",
       "      <th>BHR</th>\n",
       "      <td>Bahrain</td>\n",
       "      <td>156793.409</td>\n",
       "      <td>803.370</td>\n",
       "      <td>1935.907</td>\n",
       "      <td>16.52</td>\n",
       "      <td>2.372</td>\n",
       "      <td>43290.705</td>\n",
       "      <td>3.506293</td>\n",
       "    </tr>\n",
       "    <tr>\n",
       "      <th>LUX</th>\n",
       "      <td>Luxembourg</td>\n",
       "      <td>114617.813</td>\n",
       "      <td>1308.357</td>\n",
       "      <td>231.447</td>\n",
       "      <td>4.42</td>\n",
       "      <td>14.312</td>\n",
       "      <td>94277.965</td>\n",
       "      <td>2.731084</td>\n",
       "    </tr>\n",
       "    <tr>\n",
       "      <th>BRN</th>\n",
       "      <td>Brunei</td>\n",
       "      <td>608.024</td>\n",
       "      <td>6.857</td>\n",
       "      <td>81.347</td>\n",
       "      <td>12.79</td>\n",
       "      <td>4.591</td>\n",
       "      <td>71809.251</td>\n",
       "      <td>2.600536</td>\n",
       "    </tr>\n",
       "    <tr>\n",
       "      <th>KWT</th>\n",
       "      <td>Kuwait</td>\n",
       "      <td>86458.624</td>\n",
       "      <td>482.138</td>\n",
       "      <td>232.128</td>\n",
       "      <td>15.84</td>\n",
       "      <td>2.345</td>\n",
       "      <td>65530.537</td>\n",
       "      <td>2.524814</td>\n",
       "    </tr>\n",
       "    <tr>\n",
       "      <th>MDV</th>\n",
       "      <td>Maldives</td>\n",
       "      <td>138239.027</td>\n",
       "      <td>394.049</td>\n",
       "      <td>1454.433</td>\n",
       "      <td>9.19</td>\n",
       "      <td>4.120</td>\n",
       "      <td>15183.616</td>\n",
       "      <td>2.505148</td>\n",
       "    </tr>\n",
       "    <tr>\n",
       "      <th>ARE</th>\n",
       "      <td>United Arab Emirates</td>\n",
       "      <td>65125.172</td>\n",
       "      <td>186.747</td>\n",
       "      <td>112.442</td>\n",
       "      <td>17.26</td>\n",
       "      <td>1.144</td>\n",
       "      <td>67293.483</td>\n",
       "      <td>2.446663</td>\n",
       "    </tr>\n",
       "  </tbody>\n",
       "</table>\n",
       "</div>"
      ],
      "text/plain": [
       "                      location  total_cases_mill  total_deaths_mill  \\\n",
       "iso_code                                                              \n",
       "SGP                  Singapore         10709.116              6.153   \n",
       "HKG                  Hong Kong          1593.307             28.278   \n",
       "PER                       Peru         62830.483           5876.013   \n",
       "QAT                      Qatar         77373.606            206.868   \n",
       "BHR                    Bahrain        156793.409            803.370   \n",
       "LUX                 Luxembourg        114617.813           1308.357   \n",
       "BRN                     Brunei           608.024              6.857   \n",
       "KWT                     Kuwait         86458.624            482.138   \n",
       "MDV                   Maldives        138239.027            394.049   \n",
       "ARE       United Arab Emirates         65125.172            186.747   \n",
       "\n",
       "          population_density  diabetes_prevalence  aged_65_older  \\\n",
       "iso_code                                                           \n",
       "SGP                 7915.731                10.99         12.922   \n",
       "HKG                 7039.714                 8.33         16.303   \n",
       "PER                   25.129                 5.95          7.151   \n",
       "QAT                  227.322                16.52          1.307   \n",
       "BHR                 1935.907                16.52          2.372   \n",
       "LUX                  231.447                 4.42         14.312   \n",
       "BRN                   81.347                12.79          4.591   \n",
       "KWT                  232.128                15.84          2.345   \n",
       "MDV                 1454.433                 9.19          4.120   \n",
       "ARE                  112.442                17.26          1.144   \n",
       "\n",
       "          gdp_per_capita    scores  \n",
       "iso_code                            \n",
       "SGP            85535.383  9.342221  \n",
       "HKG            56054.920  8.030011  \n",
       "PER            12236.706  4.369439  \n",
       "QAT           116935.600  4.231571  \n",
       "BHR            43290.705  3.506293  \n",
       "LUX            94277.965  2.731084  \n",
       "BRN            71809.251  2.600536  \n",
       "KWT            65530.537  2.524814  \n",
       "MDV            15183.616  2.505148  \n",
       "ARE            67293.483  2.446663  "
      ]
     },
     "execution_count": 114,
     "metadata": {},
     "output_type": "execute_result"
    }
   ],
   "source": [
    "covid_analysis = (\n",
    "    covid_analysis.join(pred)\n",
    "    .loc[:, analysis_vars + [\"scores\"]]\n",
    "    .sort_values([\"scores\"], ascending=False)\n",
    ")\n",
    "covid_analysis.head(10)"
   ]
  },
  {
   "cell_type": "markdown",
   "id": "c43cd772-8e18-4820-ba0c-6ace11653809",
   "metadata": {},
   "source": [
    "### Using Isolation Forest to find outliers"
   ]
  },
  {
   "cell_type": "markdown",
   "id": "77e6a410-c48f-4429-be68-bc4e9c557150",
   "metadata": {},
   "source": [
    "**Isolation Forest** is a relatively new machine learning technique for identifying anomalies. It find outliers by successively partitioning the data until a data point has been isolated. Points that require fewer partitions to be isolated receive higher anomaly scores.\n",
    "\n",
    "**Isolation Forest** is a good alternative to KNN, particularly when we are workign with large datasets."
   ]
  },
  {
   "cell_type": "code",
   "execution_count": 1,
   "id": "09a5e931-5e34-4118-9ff0-4c22f2b16362",
   "metadata": {
    "tags": []
   },
   "outputs": [],
   "source": [
    "import matplotlib.pyplot as plt\n",
    "import pandas as pd\n",
    "from sklearn.ensemble import IsolationForest\n",
    "from sklearn.preprocessing import StandardScaler\n",
    "\n",
    "from data.load import load_covid"
   ]
  },
  {
   "cell_type": "code",
   "execution_count": 7,
   "id": "0fd6d71a-597e-44c4-a790-89fedcaa8531",
   "metadata": {
    "tags": []
   },
   "outputs": [],
   "source": [
    "covid_totals = load_covid()\n",
    "analysis_vars = [\n",
    "    \"location\",\n",
    "    \"total_cases_mill\",\n",
    "    \"total_deaths_mill\",\n",
    "    \"population_density\",\n",
    "    \"aged_65_older\",\n",
    "    \"gdp_per_capita\",\n",
    "]\n",
    "standardizer = StandardScaler()\n",
    "covid_analysis = covid_totals.loc[:, analysis_vars].dropna()\n",
    "\n",
    "# We skip the first column, which is `location`, as categorical feature cannot be standardized.\n",
    "covid_analysis_stand = standardizer.fit_transform(covid_analysis.iloc[:, 1:])"
   ]
  },
  {
   "cell_type": "markdown",
   "id": "be230387-5b41-4e9e-b958-c137941cc8dd",
   "metadata": {},
   "source": [
    "Now, we are ready to run our anomaly detection model. The `n_estimators` parameter indicates how many trees to build. Setting `max_features` to 1.0 will use all of our features. \n",
    "\n",
    "The `predict` method gives us the anomaly prediction, which is `-1` for an anomaly.\n",
    "\n",
    "This is based on the anomaly score, which we can get using `decision_function`."
   ]
  },
  {
   "cell_type": "code",
   "execution_count": 9,
   "id": "bb95ff43-04bd-499a-a526-e8a35f6f5d94",
   "metadata": {
    "tags": []
   },
   "outputs": [
    {
     "data": {
      "text/plain": [
       " 1    156\n",
       "-1     18\n",
       "Name: anomaly, dtype: int64"
      ]
     },
     "execution_count": 9,
     "metadata": {},
     "output_type": "execute_result"
    }
   ],
   "source": [
    "clf = IsolationForest(\n",
    "    n_estimators=50, max_samples=\"auto\", contamination=0.1, max_features=1.0\n",
    ")\n",
    "clf.fit(covid_analysis_stand)\n",
    "covid_analysis[\"anomaly\"] = clf.predict(covid_analysis_stand)\n",
    "covid_analysis[\"scores\"] = clf.decision_function(covid_analysis_stand)\n",
    "covid_analysis.anomaly.value_counts()"
   ]
  },
  {
   "cell_type": "code",
   "execution_count": 11,
   "id": "908ade5d-f718-4d44-868e-21513f4726ab",
   "metadata": {
    "tags": []
   },
   "outputs": [
    {
     "data": {
      "text/plain": [
       " 1    0.896552\n",
       "-1    0.103448\n",
       "Name: anomaly, dtype: float64"
      ]
     },
     "execution_count": 11,
     "metadata": {},
     "output_type": "execute_result"
    }
   ],
   "source": [
    "# Roughly 10%, as set by the contamination parameter.\n",
    "covid_analysis.anomaly.value_counts(normalize=True)"
   ]
  },
  {
   "cell_type": "code",
   "execution_count": 13,
   "id": "df3c8ad4-1406-4c16-b623-9a31de2ac5d9",
   "metadata": {
    "tags": []
   },
   "outputs": [
    {
     "data": {
      "text/html": [
       "<div>\n",
       "<style scoped>\n",
       "    .dataframe tbody tr th:only-of-type {\n",
       "        vertical-align: middle;\n",
       "    }\n",
       "\n",
       "    .dataframe tbody tr th {\n",
       "        vertical-align: top;\n",
       "    }\n",
       "\n",
       "    .dataframe thead th {\n",
       "        text-align: right;\n",
       "    }\n",
       "</style>\n",
       "<table border=\"1\" class=\"dataframe\">\n",
       "  <thead>\n",
       "    <tr style=\"text-align: right;\">\n",
       "      <th></th>\n",
       "      <th>location</th>\n",
       "      <th>total_cases_mill</th>\n",
       "      <th>total_deaths_mill</th>\n",
       "      <th>scores</th>\n",
       "    </tr>\n",
       "    <tr>\n",
       "      <th>iso_code</th>\n",
       "      <th></th>\n",
       "      <th></th>\n",
       "      <th></th>\n",
       "      <th></th>\n",
       "    </tr>\n",
       "  </thead>\n",
       "  <tbody>\n",
       "    <tr>\n",
       "      <th>SGP</th>\n",
       "      <td>Singapore</td>\n",
       "      <td>10709.116</td>\n",
       "      <td>6.153</td>\n",
       "      <td>-0.223978</td>\n",
       "    </tr>\n",
       "    <tr>\n",
       "      <th>BHR</th>\n",
       "      <td>Bahrain</td>\n",
       "      <td>156793.409</td>\n",
       "      <td>803.370</td>\n",
       "      <td>-0.180932</td>\n",
       "    </tr>\n",
       "    <tr>\n",
       "      <th>HKG</th>\n",
       "      <td>Hong Kong</td>\n",
       "      <td>1593.307</td>\n",
       "      <td>28.278</td>\n",
       "      <td>-0.171818</td>\n",
       "    </tr>\n",
       "    <tr>\n",
       "      <th>QAT</th>\n",
       "      <td>Qatar</td>\n",
       "      <td>77373.606</td>\n",
       "      <td>206.868</td>\n",
       "      <td>-0.155329</td>\n",
       "    </tr>\n",
       "    <tr>\n",
       "      <th>MDV</th>\n",
       "      <td>Maldives</td>\n",
       "      <td>138239.027</td>\n",
       "      <td>394.049</td>\n",
       "      <td>-0.137583</td>\n",
       "    </tr>\n",
       "    <tr>\n",
       "      <th>PER</th>\n",
       "      <td>Peru</td>\n",
       "      <td>62830.483</td>\n",
       "      <td>5876.013</td>\n",
       "      <td>-0.126766</td>\n",
       "    </tr>\n",
       "    <tr>\n",
       "      <th>LUX</th>\n",
       "      <td>Luxembourg</td>\n",
       "      <td>114617.813</td>\n",
       "      <td>1308.357</td>\n",
       "      <td>-0.104370</td>\n",
       "    </tr>\n",
       "    <tr>\n",
       "      <th>CZE</th>\n",
       "      <td>Czechia</td>\n",
       "      <td>155782.968</td>\n",
       "      <td>2830.428</td>\n",
       "      <td>-0.094248</td>\n",
       "    </tr>\n",
       "    <tr>\n",
       "      <th>MNE</th>\n",
       "      <td>Montenegro</td>\n",
       "      <td>159844.092</td>\n",
       "      <td>2577.771</td>\n",
       "      <td>-0.077841</td>\n",
       "    </tr>\n",
       "    <tr>\n",
       "      <th>MLT</th>\n",
       "      <td>Malta</td>\n",
       "      <td>69529.532</td>\n",
       "      <td>951.218</td>\n",
       "      <td>-0.061508</td>\n",
       "    </tr>\n",
       "  </tbody>\n",
       "</table>\n",
       "</div>"
      ],
      "text/plain": [
       "            location  total_cases_mill  total_deaths_mill    scores\n",
       "iso_code                                                           \n",
       "SGP        Singapore         10709.116              6.153 -0.223978\n",
       "BHR          Bahrain        156793.409            803.370 -0.180932\n",
       "HKG        Hong Kong          1593.307             28.278 -0.171818\n",
       "QAT            Qatar         77373.606            206.868 -0.155329\n",
       "MDV         Maldives        138239.027            394.049 -0.137583\n",
       "PER             Peru         62830.483           5876.013 -0.126766\n",
       "LUX       Luxembourg        114617.813           1308.357 -0.104370\n",
       "CZE          Czechia        155782.968           2830.428 -0.094248\n",
       "MNE       Montenegro        159844.092           2577.771 -0.077841\n",
       "MLT            Malta         69529.532            951.218 -0.061508"
      ]
     },
     "execution_count": 13,
     "metadata": {},
     "output_type": "execute_result"
    }
   ],
   "source": [
    "inlier = covid_analysis.loc[covid_analysis.anomaly == 1]\n",
    "outlier = covid_analysis.loc[covid_analysis.anomaly == -1]\n",
    "\n",
    "# Note that sorting here is ascending. The most negative scores has higher anomality.\n",
    "outlier[[\"location\", \"total_cases_mill\", \"total_deaths_mill\", \"scores\"]].sort_values(\n",
    "    [\"scores\"]\n",
    ").head(10)"
   ]
  },
  {
   "cell_type": "markdown",
   "id": "a565b17d-a021-432d-a060-fe23410ae419",
   "metadata": {},
   "source": [
    "We can visualize the outliers and inliers."
   ]
  },
  {
   "cell_type": "code",
   "execution_count": 17,
   "id": "79058d10-79c4-47f9-9225-a543684f6035",
   "metadata": {
    "tags": []
   },
   "outputs": [
    {
     "data": {
      "image/png": "[encoded data removed]",
      "text/plain": [
       "<Figure size 432x288 with 1 Axes>"
      ]
     },
     "metadata": {
      "needs_background": "light"
     },
     "output_type": "display_data"
    }
   ],
   "source": [
    "fig = plt.figure()\n",
    "ax = plt.axes(projection=\"3d\")\n",
    "ax.set(\n",
    "    title=\"Isolation Forest Anomaly Detection\",\n",
    "    xlabel=\"GDP Per Capita (thous.)\",\n",
    "    ylabel=\"Aged 65 Plus %\",\n",
    "    zlabel=\"Cases Per Million (thous.)\",\n",
    ")\n",
    "ax.scatter3D(\n",
    "    inlier.gdp_per_capita / 1_1000,\n",
    "    inlier.aged_65_older,\n",
    "    inlier.total_cases_mill / 1_000,\n",
    "    label=\"inliers\",\n",
    "    c=\"blue\",\n",
    ")\n",
    "ax.scatter3D(\n",
    "    outlier.gdp_per_capita / 1_1000,\n",
    "    outlier.aged_65_older,\n",
    "    outlier.total_cases_mill / 1_000,\n",
    "    label=\"outliers\",\n",
    "    c=\"red\",\n",
    ")\n",
    "_ = ax.legend()"
   ]
  },
  {
   "cell_type": "markdown",
   "id": "afe8bb8f-257a-411d-99d5-f16756e61304",
   "metadata": {},
   "source": [
    "## Summary"
   ]
  },
  {
   "cell_type": "markdown",
   "id": "b000c569-c1ef-4314-b784-ec1aece6952e",
   "metadata": {},
   "source": [
    "- we used bivariante and multivariante statistical techniques and visualizations to get a better sense of bivariante relationships among features\n",
    "- we looked at common statistics, such as Pearson correlation\n",
    "- we examined bivariante relationships through visualizations, with scatter plots when both features are continuous, and with grouped boxplots when one feature is categorical.\n",
    "- we explored multivariante techniques for examining relationships and identifying outliers, including machine learning algorithms such as KNN and Isolation Forest"
   ]
  }
 ],
 "metadata": {
  "kernelspec": {
   "display_name": "Python 3 (ipykernel)",
   "language": "python",
   "name": "python3"
  },
  "language_info": {
   "codemirror_mode": {
    "name": "ipython",
    "version": 3
   },
   "file_extension": ".py",
   "mimetype": "text/x-python",
   "name": "python",
   "nbconvert_exporter": "python",
   "pygments_lexer": "ipython3",
   "version": "3.9.16"
  }
 },
 "nbformat": 4,
 "nbformat_minor": 5
}
