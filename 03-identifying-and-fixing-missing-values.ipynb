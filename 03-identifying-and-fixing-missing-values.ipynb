{
 "cells": [
  {
   "cell_type": "markdown",
   "id": "d0b9f6e8-8e29-4001-80c3-95fd08a1c561",
   "metadata": {},
   "source": [
    "# Identifying and Fixing Missing Values"
   ]
  },
  {
   "cell_type": "markdown",
   "id": "a800ff58-cb64-469f-8397-94e391ede530",
   "metadata": {},
   "source": [
    "We will cover the following in this chapter\n",
    "- identifying missing values\n",
    "- cleaning missing values\n",
    "- imputing values with regression\n",
    "- using KNN imputation\n",
    "- using random forest for imputation"
   ]
  },
  {
   "cell_type": "markdown",
   "id": "acefd2b2-a628-45a8-9b73-cc54f6022aa4",
   "metadata": {},
   "source": [
    "## Identifying Missing Values"
   ]
  },
  {
   "cell_type": "code",
   "execution_count": 1,
   "id": "3a220fe1-6041-4645-9384-dc324b9aa981",
   "metadata": {
    "tags": []
   },
   "outputs": [],
   "source": [
    "import numpy as np\n",
    "import pandas as pd\n",
    "\n",
    "from data.load import load_covid, load_nls97b"
   ]
  },
  {
   "cell_type": "code",
   "execution_count": 2,
   "id": "483fbe23-883c-4e35-8058-379865075b19",
   "metadata": {
    "tags": []
   },
   "outputs": [],
   "source": [
    "nls97 = load_nls97b()\n",
    "covid = load_covid()"
   ]
  },
  {
   "cell_type": "code",
   "execution_count": 3,
   "id": "9e7f5320-c15d-4865-843b-03ce627064d1",
   "metadata": {
    "tags": []
   },
   "outputs": [
    {
     "data": {
      "text/plain": [
       "(221, 16)"
      ]
     },
     "execution_count": 3,
     "metadata": {},
     "output_type": "execute_result"
    }
   ],
   "source": [
    "covid.shape"
   ]
  },
  {
   "cell_type": "code",
   "execution_count": 4,
   "id": "d988f4e5-1c28-4b94-84e5-906c2f55a353",
   "metadata": {
    "tags": []
   },
   "outputs": [
    {
     "data": {
      "text/plain": [
       "(8984, 93)"
      ]
     },
     "execution_count": 4,
     "metadata": {},
     "output_type": "execute_result"
    }
   ],
   "source": [
    "nls97.shape"
   ]
  },
  {
   "cell_type": "markdown",
   "id": "149af8bf-11c2-4649-8276-512fb79074d0",
   "metadata": {},
   "source": [
    "We count the number of missing values for columns that we may use as features.\n",
    "\n",
    "We use `axis=0` to sum over the rows for each columns. If we want the number of missing values for each row, we can specify `axis=1` when summing."
   ]
  },
  {
   "cell_type": "code",
   "execution_count": 5,
   "id": "f82655ff-d7bf-403c-af0f-5e988cc82026",
   "metadata": {
    "tags": []
   },
   "outputs": [
    {
     "data": {
      "text/plain": [
       "population_density     15\n",
       "aged_65_older          33\n",
       "gdp_per_capita         28\n",
       "life_expectancy         4\n",
       "diabetes_prevalence    21\n",
       "dtype: int64"
      ]
     },
     "execution_count": 5,
     "metadata": {},
     "output_type": "execute_result"
    }
   ],
   "source": [
    "demo_vars = [\n",
    "    \"population_density\",\n",
    "    \"aged_65_older\",\n",
    "    \"gdp_per_capita\",\n",
    "    \"life_expectancy\",\n",
    "    \"diabetes_prevalence\",\n",
    "]\n",
    "\n",
    "# Find rows with missing values.\n",
    "covid[demo_vars].isnull().sum(axis=0)"
   ]
  },
  {
   "cell_type": "code",
   "execution_count": 6,
   "id": "74ed4758-629a-4db1-81f5-17cfbf5abc00",
   "metadata": {
    "tags": []
   },
   "outputs": [
    {
     "data": {
      "text/plain": [
       "0    181\n",
       "1     15\n",
       "2      6\n",
       "3      5\n",
       "4     11\n",
       "5      3\n",
       "dtype: int64"
      ]
     },
     "execution_count": 6,
     "metadata": {},
     "output_type": "execute_result"
    }
   ],
   "source": [
    "# Find countries with missing values in columns.\n",
    "demo_vars_missing_count = covid[demo_vars].isnull().sum(axis=1)\n",
    "demo_vars_missing_count.value_counts().sort_index()"
   ]
  },
  {
   "cell_type": "markdown",
   "id": "e09b4fc4-b8dd-403e-a41f-cecabc0743fc",
   "metadata": {},
   "source": [
    "^ 181 countries have values for all of the features, 11 are missing values for four of the five features, and three are missing values for all of the features."
   ]
  },
  {
   "cell_type": "code",
   "execution_count": 7,
   "id": "bd30769f-314f-41c6-b0ca-8a706add4071",
   "metadata": {
    "tags": []
   },
   "outputs": [
    {
     "data": {
      "text/html": [
       "<div>\n",
       "<style scoped>\n",
       "    .dataframe tbody tr th:only-of-type {\n",
       "        vertical-align: middle;\n",
       "    }\n",
       "\n",
       "    .dataframe tbody tr th {\n",
       "        vertical-align: top;\n",
       "    }\n",
       "\n",
       "    .dataframe thead th {\n",
       "        text-align: right;\n",
       "    }\n",
       "</style>\n",
       "<table border=\"1\" class=\"dataframe\">\n",
       "  <thead>\n",
       "    <tr style=\"text-align: right;\">\n",
       "      <th>iso_code</th>\n",
       "      <th>FLK</th>\n",
       "      <th>NIU</th>\n",
       "      <th>MSR</th>\n",
       "      <th>COK</th>\n",
       "      <th>SYR</th>\n",
       "      <th>GGY</th>\n",
       "    </tr>\n",
       "  </thead>\n",
       "  <tbody>\n",
       "    <tr>\n",
       "      <th>location</th>\n",
       "      <td>Falkland Islands</td>\n",
       "      <td>Niue</td>\n",
       "      <td>Montserrat</td>\n",
       "      <td>Cook Islands</td>\n",
       "      <td>Syria</td>\n",
       "      <td>Guernsey</td>\n",
       "    </tr>\n",
       "    <tr>\n",
       "      <th>population_density</th>\n",
       "      <td>NaN</td>\n",
       "      <td>NaN</td>\n",
       "      <td>NaN</td>\n",
       "      <td>NaN</td>\n",
       "      <td>NaN</td>\n",
       "      <td>NaN</td>\n",
       "    </tr>\n",
       "    <tr>\n",
       "      <th>aged_65_older</th>\n",
       "      <td>NaN</td>\n",
       "      <td>NaN</td>\n",
       "      <td>NaN</td>\n",
       "      <td>NaN</td>\n",
       "      <td>NaN</td>\n",
       "      <td>NaN</td>\n",
       "    </tr>\n",
       "    <tr>\n",
       "      <th>gdp_per_capita</th>\n",
       "      <td>NaN</td>\n",
       "      <td>NaN</td>\n",
       "      <td>NaN</td>\n",
       "      <td>NaN</td>\n",
       "      <td>NaN</td>\n",
       "      <td>NaN</td>\n",
       "    </tr>\n",
       "    <tr>\n",
       "      <th>life_expectancy</th>\n",
       "      <td>81.44</td>\n",
       "      <td>73.71</td>\n",
       "      <td>74.16</td>\n",
       "      <td>76.25</td>\n",
       "      <td>72.7</td>\n",
       "      <td>NaN</td>\n",
       "    </tr>\n",
       "    <tr>\n",
       "      <th>diabetes_prevalence</th>\n",
       "      <td>NaN</td>\n",
       "      <td>NaN</td>\n",
       "      <td>NaN</td>\n",
       "      <td>NaN</td>\n",
       "      <td>NaN</td>\n",
       "      <td>NaN</td>\n",
       "    </tr>\n",
       "  </tbody>\n",
       "</table>\n",
       "</div>"
      ],
      "text/plain": [
       "iso_code                          FLK    NIU         MSR           COK    SYR  \\\n",
       "location             Falkland Islands   Niue  Montserrat  Cook Islands  Syria   \n",
       "population_density                NaN    NaN         NaN           NaN    NaN   \n",
       "aged_65_older                     NaN    NaN         NaN           NaN    NaN   \n",
       "gdp_per_capita                    NaN    NaN         NaN           NaN    NaN   \n",
       "life_expectancy                 81.44  73.71       74.16         76.25   72.7   \n",
       "diabetes_prevalence               NaN    NaN         NaN           NaN    NaN   \n",
       "\n",
       "iso_code                  GGY  \n",
       "location             Guernsey  \n",
       "population_density        NaN  \n",
       "aged_65_older             NaN  \n",
       "gdp_per_capita            NaN  \n",
       "life_expectancy           NaN  \n",
       "diabetes_prevalence       NaN  "
      ]
     },
     "execution_count": 7,
     "metadata": {},
     "output_type": "execute_result"
    }
   ],
   "source": [
    "covid.loc[demo_vars_missing_count >= 4, [\"location\"] + demo_vars].sample(\n",
    "    6, random_state=1\n",
    ").T"
   ]
  },
  {
   "cell_type": "markdown",
   "id": "8d89bba9-8e21-4e27-808d-bb7ae421c380",
   "metadata": {},
   "source": [
    "Let's also check missing values for total cases and deaths."
   ]
  },
  {
   "cell_type": "code",
   "execution_count": 8,
   "id": "23ecd2ed-363b-4d5c-826d-11cd2e218de1",
   "metadata": {
    "tags": []
   },
   "outputs": [
    {
     "data": {
      "text/plain": [
       "location              0\n",
       "total_cases_mill     29\n",
       "total_deaths_mill    36\n",
       "dtype: int64"
      ]
     },
     "execution_count": 8,
     "metadata": {},
     "output_type": "execute_result"
    }
   ],
   "source": [
    "total_vars = [\"location\", \"total_cases_mill\", \"total_deaths_mill\"]\n",
    "covid[total_vars].isnull().sum(axis=0)"
   ]
  },
  {
   "cell_type": "markdown",
   "id": "f244d97b-3bf8-4a37-8f2e-ea4ec7b14a33",
   "metadata": {},
   "source": [
    "^ 29 countries have missing values for cases per million in population, and 36 have missing deaths per million."
   ]
  },
  {
   "cell_type": "markdown",
   "id": "596bf08e-4bce-4027-bd37-7d9106668447",
   "metadata": {},
   "source": [
    "We should also get a sense of which countries are missing both."
   ]
  },
  {
   "cell_type": "code",
   "execution_count": 9,
   "id": "24222a0c-7dad-48a7-97d5-8bb6a6547ab7",
   "metadata": {
    "tags": []
   },
   "outputs": [
    {
     "data": {
      "text/plain": [
       "0    185\n",
       "1      7\n",
       "2     29\n",
       "dtype: int64"
      ]
     },
     "execution_count": 9,
     "metadata": {},
     "output_type": "execute_result"
    }
   ],
   "source": [
    "covid[total_vars].isnull().sum(axis=1).value_counts().sort_index()"
   ]
  },
  {
   "cell_type": "markdown",
   "id": "d19808c5-825b-479c-805c-342b7ec99c31",
   "metadata": {},
   "source": [
    "^ 29 countries are missing both cases and deaths, and we only have both for 185 countries."
   ]
  },
  {
   "cell_type": "markdown",
   "id": "4f1d6af9-8cbd-4268-9bc4-776ed5923c4c",
   "metadata": {},
   "source": [
    "In the NLS dataset, the codes reveal why the responded did not provide an answer for the a question:\n",
    "- `-3` is an invalid skip\n",
    "- `-4` is an valid skip\n",
    "- `-5` is a non-interview"
   ]
  },
  {
   "cell_type": "code",
   "execution_count": 10,
   "id": "f9a34110-4d3a-42ec-8aad-16887efae4d6",
   "metadata": {
    "tags": []
   },
   "outputs": [
    {
     "data": {
      "text/plain": [
       "Index(['motherage', 'parentincome', 'fatherhighgrade', 'motherhighgrade'], dtype='object')"
      ]
     },
     "execution_count": 10,
     "metadata": {},
     "output_type": "execute_result"
    }
   ],
   "source": [
    "nls97.columns[-4:]"
   ]
  },
  {
   "cell_type": "code",
   "execution_count": 11,
   "id": "b4c041bd-7afc-495d-b7d4-ed7720c8197b",
   "metadata": {
    "tags": []
   },
   "outputs": [
    {
     "data": {
      "text/plain": [
       "(8984, 4)"
      ]
     },
     "execution_count": 11,
     "metadata": {},
     "output_type": "execute_result"
    }
   ],
   "source": [
    "nls97_parents = nls97.iloc[:, -4:]\n",
    "nls97_parents.shape"
   ]
  },
  {
   "cell_type": "code",
   "execution_count": 12,
   "id": "d678e43c-9a3a-4ce8-832f-037824729090",
   "metadata": {
    "tags": []
   },
   "outputs": [
    {
     "data": {
      "text/plain": [
       "-3    523\n",
       "-4    165\n",
       "Name: motherhighgrade, dtype: int64"
      ]
     },
     "execution_count": 12,
     "metadata": {},
     "output_type": "execute_result"
    }
   ],
   "source": [
    "nls97_parents.loc[\n",
    "    nls97_parents.motherhighgrade.between(-5, -1), \"motherhighgrade\"\n",
    "].value_counts()"
   ]
  },
  {
   "cell_type": "markdown",
   "id": "443ca6fe-5c83-4fca-91c0-25e46c91c2f4",
   "metadata": {},
   "source": [
    "^ There are 523 invalid skips and 165 valid skips. \n",
    "\n",
    "\n",
    "Below we look at individuals that have at least one of these non-response values for these four features."
   ]
  },
  {
   "cell_type": "code",
   "execution_count": 13,
   "id": "37896669-b0f6-4d2b-bcba-833a0739413c",
   "metadata": {
    "tags": []
   },
   "outputs": [
    {
     "data": {
      "text/html": [
       "<div>\n",
       "<style scoped>\n",
       "    .dataframe tbody tr th:only-of-type {\n",
       "        vertical-align: middle;\n",
       "    }\n",
       "\n",
       "    .dataframe tbody tr th {\n",
       "        vertical-align: top;\n",
       "    }\n",
       "\n",
       "    .dataframe thead th {\n",
       "        text-align: right;\n",
       "    }\n",
       "</style>\n",
       "<table border=\"1\" class=\"dataframe\">\n",
       "  <thead>\n",
       "    <tr style=\"text-align: right;\">\n",
       "      <th></th>\n",
       "      <th>motherage</th>\n",
       "      <th>parentincome</th>\n",
       "      <th>fatherhighgrade</th>\n",
       "      <th>motherhighgrade</th>\n",
       "    </tr>\n",
       "    <tr>\n",
       "      <th>personid</th>\n",
       "      <th></th>\n",
       "      <th></th>\n",
       "      <th></th>\n",
       "      <th></th>\n",
       "    </tr>\n",
       "  </thead>\n",
       "  <tbody>\n",
       "    <tr>\n",
       "      <th>100284</th>\n",
       "      <td>22</td>\n",
       "      <td>50000</td>\n",
       "      <td>12</td>\n",
       "      <td>-3</td>\n",
       "    </tr>\n",
       "    <tr>\n",
       "      <th>100931</th>\n",
       "      <td>23</td>\n",
       "      <td>60200</td>\n",
       "      <td>-3</td>\n",
       "      <td>13</td>\n",
       "    </tr>\n",
       "    <tr>\n",
       "      <th>101122</th>\n",
       "      <td>25</td>\n",
       "      <td>-4</td>\n",
       "      <td>-3</td>\n",
       "      <td>-3</td>\n",
       "    </tr>\n",
       "    <tr>\n",
       "      <th>101414</th>\n",
       "      <td>27</td>\n",
       "      <td>24656</td>\n",
       "      <td>10</td>\n",
       "      <td>-3</td>\n",
       "    </tr>\n",
       "    <tr>\n",
       "      <th>101526</th>\n",
       "      <td>-3</td>\n",
       "      <td>79500</td>\n",
       "      <td>-4</td>\n",
       "      <td>-4</td>\n",
       "    </tr>\n",
       "    <tr>\n",
       "      <th>...</th>\n",
       "      <td>...</td>\n",
       "      <td>...</td>\n",
       "      <td>...</td>\n",
       "      <td>...</td>\n",
       "    </tr>\n",
       "    <tr>\n",
       "      <th>999087</th>\n",
       "      <td>-3</td>\n",
       "      <td>121000</td>\n",
       "      <td>-4</td>\n",
       "      <td>16</td>\n",
       "    </tr>\n",
       "    <tr>\n",
       "      <th>999103</th>\n",
       "      <td>-3</td>\n",
       "      <td>73180</td>\n",
       "      <td>12</td>\n",
       "      <td>-4</td>\n",
       "    </tr>\n",
       "    <tr>\n",
       "      <th>999406</th>\n",
       "      <td>19</td>\n",
       "      <td>-4</td>\n",
       "      <td>17</td>\n",
       "      <td>15</td>\n",
       "    </tr>\n",
       "    <tr>\n",
       "      <th>999698</th>\n",
       "      <td>-3</td>\n",
       "      <td>13000</td>\n",
       "      <td>-4</td>\n",
       "      <td>-4</td>\n",
       "    </tr>\n",
       "    <tr>\n",
       "      <th>999963</th>\n",
       "      <td>29</td>\n",
       "      <td>-4</td>\n",
       "      <td>12</td>\n",
       "      <td>13</td>\n",
       "    </tr>\n",
       "  </tbody>\n",
       "</table>\n",
       "<p>3831 rows × 4 columns</p>\n",
       "</div>"
      ],
      "text/plain": [
       "          motherage  parentincome  fatherhighgrade  motherhighgrade\n",
       "personid                                                           \n",
       "100284           22         50000               12               -3\n",
       "100931           23         60200               -3               13\n",
       "101122           25            -4               -3               -3\n",
       "101414           27         24656               10               -3\n",
       "101526           -3         79500               -4               -4\n",
       "...             ...           ...              ...              ...\n",
       "999087           -3        121000               -4               16\n",
       "999103           -3         73180               12               -4\n",
       "999406           19            -4               17               15\n",
       "999698           -3         13000               -4               -4\n",
       "999963           29            -4               12               13\n",
       "\n",
       "[3831 rows x 4 columns]"
      ]
     },
     "execution_count": 13,
     "metadata": {},
     "output_type": "execute_result"
    }
   ],
   "source": [
    "nls97_parents.loc[nls97_parents.apply(lambda x: x.between(-5, -1)).any(axis=1)]"
   ]
  },
  {
   "cell_type": "code",
   "execution_count": 14,
   "id": "35b92324-0b1b-44f7-809a-6f9f19c42451",
   "metadata": {
    "tags": []
   },
   "outputs": [
    {
     "data": {
      "text/plain": [
       "motherage           608\n",
       "parentincome       2396\n",
       "fatherhighgrade    1856\n",
       "motherhighgrade     688\n",
       "dtype: int64"
      ]
     },
     "execution_count": 14,
     "metadata": {},
     "output_type": "execute_result"
    }
   ],
   "source": [
    "nls97_parents.apply(lambda x: x.between(-5, -1).sum())"
   ]
  },
  {
   "cell_type": "code",
   "execution_count": 15,
   "id": "80157442-e4e6-421b-b1ab-d2085b3a4f48",
   "metadata": {
    "tags": []
   },
   "outputs": [
    {
     "data": {
      "text/plain": [
       "motherage          0\n",
       "parentincome       0\n",
       "fatherhighgrade    0\n",
       "motherhighgrade    0\n",
       "dtype: int64"
      ]
     },
     "execution_count": 15,
     "metadata": {},
     "output_type": "execute_result"
    }
   ],
   "source": [
    "nls97_parents.isnull().sum()"
   ]
  },
  {
   "cell_type": "markdown",
   "id": "1075a59b-787c-4c07-babf-99d84078618c",
   "metadata": {},
   "source": [
    "For our analysis, the reason why there is a non-response is not important. We should set these values to missing before using these features in our analysis."
   ]
  },
  {
   "cell_type": "code",
   "execution_count": 16,
   "id": "a5fe82ad-cdc3-4b58-b7b8-05cec31e7c95",
   "metadata": {
    "tags": []
   },
   "outputs": [
    {
     "data": {
      "text/plain": [
       "motherage           608\n",
       "parentincome       2396\n",
       "fatherhighgrade    1856\n",
       "motherhighgrade     688\n",
       "dtype: int64"
      ]
     },
     "execution_count": 16,
     "metadata": {},
     "output_type": "execute_result"
    }
   ],
   "source": [
    "nls97_parents.replace(list(range(-5, 0)), np.nan, inplace=True)\n",
    "nls97_parents.isnull().sum()"
   ]
  },
  {
   "cell_type": "markdown",
   "id": "e3760720-c8c1-4d0f-aad7-7b141728151f",
   "metadata": {},
   "source": [
    "## Cleaning missing values"
   ]
  },
  {
   "cell_type": "markdown",
   "id": "97fbca03-5cc7-4391-be82-c7ae0fbdf3eb",
   "metadata": {},
   "source": [
    "Approaches for handling missing values:\n",
    "- dropping observations\n",
    "- assigning a sample-wide summary statistic, such as the mean\n",
    "- assinging a value based on the mean value for an appropriate subset of the dataa"
   ]
  },
  {
   "cell_type": "code",
   "execution_count": 17,
   "id": "ba36cf92-e268-4567-9d9d-41feb589f043",
   "metadata": {
    "tags": []
   },
   "outputs": [
    {
     "data": {
      "text/plain": [
       "(8984, 8)"
      ]
     },
     "execution_count": 17,
     "metadata": {},
     "output_type": "execute_result"
    }
   ],
   "source": [
    "nls97 = load_nls97b()\n",
    "school_record_list = [\n",
    "    \"satverbal\",\n",
    "    \"satmath\",\n",
    "    \"gpaoverall\",\n",
    "    \"gpaenglish\",\n",
    "    \"gpamath\",\n",
    "    \"gpascience\",\n",
    "    \"highestdegree\",\n",
    "    \"highestgradecompleted\",\n",
    "]\n",
    "school_record = nls97[school_record_list]\n",
    "school_record.shape"
   ]
  },
  {
   "cell_type": "code",
   "execution_count": 18,
   "id": "23d843ad-18df-4f9e-8d1e-d5d55964ee9b",
   "metadata": {
    "tags": []
   },
   "outputs": [
    {
     "data": {
      "text/plain": [
       "satverbal                7578\n",
       "satmath                  7577\n",
       "gpaoverall               2980\n",
       "gpaenglish               3186\n",
       "gpamath                  3218\n",
       "gpascience               3300\n",
       "highestdegree              31\n",
       "highestgradecompleted    2321\n",
       "dtype: int64"
      ]
     },
     "execution_count": 18,
     "metadata": {},
     "output_type": "execute_result"
    }
   ],
   "source": [
    "school_record.isnull().sum(axis=0)"
   ]
  },
  {
   "cell_type": "markdown",
   "id": "cb4d9243-e215-473c-936e-bbcee6f48590",
   "metadata": {},
   "source": [
    "^ The overwhelming majority of observations have missing values for `satverbal`. Only 31 observations have missing values for `highestdegree`.\n",
    "\n",
    "We can create a Series, `missing_counts`, that specifies the number of missing features for each observation."
   ]
  },
  {
   "cell_type": "code",
   "execution_count": 19,
   "id": "1d3946a8-a3eb-4fac-b25a-856ee88b4a2c",
   "metadata": {
    "tags": []
   },
   "outputs": [
    {
     "data": {
      "text/plain": [
       "0    1087\n",
       "1     312\n",
       "2    3210\n",
       "3    1102\n",
       "4     176\n",
       "5     101\n",
       "6    2039\n",
       "7     946\n",
       "8      11\n",
       "dtype: int64"
      ]
     },
     "execution_count": 19,
     "metadata": {},
     "output_type": "execute_result"
    }
   ],
   "source": [
    "missing_counts = school_record.isnull().sum(axis=1)\n",
    "missing_counts.value_counts().sort_index()"
   ]
  },
  {
   "cell_type": "markdown",
   "id": "9bd9889a-4a92-4a18-80ba-cd122030527d",
   "metadata": {},
   "source": [
    "^ 946 observations have seven missing values for the educational data, while 11 are missing values for all eight features."
   ]
  },
  {
   "cell_type": "markdown",
   "id": "5fb789e6-08f4-44c8-836e-d889ce928c27",
   "metadata": {},
   "source": [
    "Let's drop observations that have missing values for seven or more features out of eight. We can accomplish this by setting the `thresh` parameter of `dropna` to `2`. This will drop observations that have fewer than two non-missing values; that is, 0 or 1 non-missing values. We get the expected number of observations after using `dropna`; that is, 8984-946-11=8027:"
   ]
  },
  {
   "cell_type": "code",
   "execution_count": 20,
   "id": "83043b4e-65e0-4218-8cbb-ffade2df9244",
   "metadata": {
    "tags": []
   },
   "outputs": [
    {
     "data": {
      "text/plain": [
       "(8027, 8)"
      ]
     },
     "execution_count": 20,
     "metadata": {},
     "output_type": "execute_result"
    }
   ],
   "source": [
    "school_record = school_record.dropna(thresh=2)\n",
    "school_record.shape"
   ]
  },
  {
   "cell_type": "code",
   "execution_count": 21,
   "id": "bdbbd10b-af62-4515-a491-89cbc14e0cbd",
   "metadata": {
    "tags": []
   },
   "outputs": [
    {
     "data": {
      "text/plain": [
       "0    1087\n",
       "1     312\n",
       "2    3210\n",
       "3    1102\n",
       "4     176\n",
       "5     101\n",
       "6    2039\n",
       "dtype: int64"
      ]
     },
     "execution_count": 21,
     "metadata": {},
     "output_type": "execute_result"
    }
   ],
   "source": [
    "school_record.isnull().sum(axis=1).value_counts().sort_index()"
   ]
  },
  {
   "cell_type": "markdown",
   "id": "ea647cf1-fc99-4be8-837c-692249f7be3b",
   "metadata": {},
   "source": [
    "The following code uses the panda Series `fillna` method to assign all missing values of `gpaoverall` to the mean value of the Series."
   ]
  },
  {
   "cell_type": "code",
   "execution_count": 22,
   "id": "49d13760-1839-4ba4-a016-0f31bf2ebd3a",
   "metadata": {
    "tags": []
   },
   "outputs": [
    {
     "data": {
      "text/plain": [
       "mean      281.840773\n",
       "std        61.635667\n",
       "count    6004.000000\n",
       "Name: gpaoverall, dtype: float64"
      ]
     },
     "execution_count": 22,
     "metadata": {},
     "output_type": "execute_result"
    }
   ],
   "source": [
    "school_record.gpaoverall.agg([\"mean\", \"std\", \"count\"])"
   ]
  },
  {
   "cell_type": "code",
   "execution_count": 23,
   "id": "f91012e5-49b4-4c6f-a6f4-1917ba834a64",
   "metadata": {
    "tags": []
   },
   "outputs": [
    {
     "data": {
      "text/plain": [
       "0"
      ]
     },
     "execution_count": 23,
     "metadata": {},
     "output_type": "execute_result"
    }
   ],
   "source": [
    "school_record.gpaoverall.fillna(school_record.gpaoverall.mean(), inplace=True)\n",
    "school_record.gpaoverall.isnull().sum()"
   ]
  },
  {
   "cell_type": "code",
   "execution_count": 24,
   "id": "9e19cdfa-59f7-4447-85d0-2dfc78d42442",
   "metadata": {
    "tags": []
   },
   "outputs": [
    {
     "data": {
      "text/plain": [
       "mean      281.840773\n",
       "std        53.304846\n",
       "count    8027.000000\n",
       "Name: gpaoverall, dtype: float64"
      ]
     },
     "execution_count": 24,
     "metadata": {},
     "output_type": "execute_result"
    }
   ],
   "source": [
    "school_record.gpaoverall.agg([\"mean\", \"std\", \"count\"])"
   ]
  },
  {
   "cell_type": "markdown",
   "id": "d9d44349-e889-4a70-a4d7-2c86bbc574d8",
   "metadata": {},
   "source": [
    "^ The mean has not changed. However, there is a substansial reduction in the standard deviation, from 61.6 to 53.5. This is one of the disadvantages of using the dataset's mean for all missing values."
   ]
  },
  {
   "cell_type": "code",
   "execution_count": 25,
   "id": "10fe6ab5-2d6c-4533-962c-d85db9d7de11",
   "metadata": {
    "tags": []
   },
   "outputs": [
    {
     "data": {
      "text/plain": [
       "3893"
      ]
     },
     "execution_count": 25,
     "metadata": {},
     "output_type": "execute_result"
    }
   ],
   "source": [
    "wage_income = nls97.wageincome.copy(deep=True)\n",
    "wage_income.isnull().sum()"
   ]
  },
  {
   "cell_type": "code",
   "execution_count": 26,
   "id": "603e9a5c-2eac-4bb3-8c7a-9f81a13c96e0",
   "metadata": {
    "tags": []
   },
   "outputs": [
    {
     "data": {
      "text/plain": [
       "mean     49477.022196\n",
       "std      40677.696798\n",
       "count     5091.000000\n",
       "Name: wageincome, dtype: float64"
      ]
     },
     "execution_count": 26,
     "metadata": {},
     "output_type": "execute_result"
    }
   ],
   "source": [
    "wage_income.agg([\"mean\", \"std\", \"count\"])"
   ]
  },
  {
   "cell_type": "code",
   "execution_count": 27,
   "id": "0e1f3808-5581-4a6f-a8ca-10ab93a27beb",
   "metadata": {
    "tags": []
   },
   "outputs": [
    {
     "data": {
      "text/plain": [
       "personid\n",
       "100061     12500.0\n",
       "100139    120000.0\n",
       "100284     58000.0\n",
       "100292         NaN\n",
       "100583     30000.0\n",
       "Name: wageincome, dtype: float64"
      ]
     },
     "execution_count": 27,
     "metadata": {},
     "output_type": "execute_result"
    }
   ],
   "source": [
    "wage_income.head().T"
   ]
  },
  {
   "cell_type": "markdown",
   "id": "24dc25b7-29de-438d-ab09-6eba7aab3f29",
   "metadata": {},
   "source": [
    "For `wageincome`, we assign the nearest non-missing value from a preceding observation."
   ]
  },
  {
   "cell_type": "code",
   "execution_count": 28,
   "id": "72cbe1bf-4207-475a-be38-576bb8901594",
   "metadata": {
    "tags": []
   },
   "outputs": [
    {
     "data": {
      "text/plain": [
       "personid\n",
       "100061     12500.0\n",
       "100139    120000.0\n",
       "100284     58000.0\n",
       "100292     58000.0\n",
       "100583     30000.0\n",
       "Name: wageincome, dtype: float64"
      ]
     },
     "execution_count": 28,
     "metadata": {},
     "output_type": "execute_result"
    }
   ],
   "source": [
    "wage_income.fillna(method=\"ffill\", inplace=True)\n",
    "wage_income.head().T"
   ]
  },
  {
   "cell_type": "code",
   "execution_count": 29,
   "id": "2351e89d-ac5f-4d66-ab53-011d80520ae7",
   "metadata": {
    "tags": []
   },
   "outputs": [
    {
     "data": {
      "text/plain": [
       "0"
      ]
     },
     "execution_count": 29,
     "metadata": {},
     "output_type": "execute_result"
    }
   ],
   "source": [
    "wage_income.isnull().sum()"
   ]
  },
  {
   "cell_type": "code",
   "execution_count": 30,
   "id": "90a1010f-7050-4639-9898-085286c2e7fe",
   "metadata": {
    "tags": []
   },
   "outputs": [
    {
     "data": {
      "text/plain": [
       "mean     49549.331256\n",
       "std      40014.338205\n",
       "count     8984.000000\n",
       "Name: wageincome, dtype: float64"
      ]
     },
     "execution_count": 30,
     "metadata": {},
     "output_type": "execute_result"
    }
   ],
   "source": [
    "wage_income.agg([\"mean\", \"std\", \"count\"])"
   ]
  },
  {
   "cell_type": "code",
   "execution_count": 31,
   "id": "f18335c0-ae4c-4684-9ca0-9aaa31fe743a",
   "metadata": {
    "tags": []
   },
   "outputs": [],
   "source": [
    "# Doing a backward fill instead of forward fill.\n",
    "wage_income = nls97.wageincome.copy(deep=True)\n",
    "wage_income.fillna(method=\"bfill\", inplace=True)"
   ]
  },
  {
   "cell_type": "code",
   "execution_count": 32,
   "id": "b834746f-a24f-4233-b07b-523a116b147c",
   "metadata": {
    "tags": []
   },
   "outputs": [
    {
     "data": {
      "text/plain": [
       "personid\n",
       "100061     12500.0\n",
       "100139    120000.0\n",
       "100284     58000.0\n",
       "100292     30000.0\n",
       "100583     30000.0\n",
       "Name: wageincome, dtype: float64"
      ]
     },
     "execution_count": 32,
     "metadata": {},
     "output_type": "execute_result"
    }
   ],
   "source": [
    "wage_income.head().T"
   ]
  },
  {
   "cell_type": "code",
   "execution_count": 33,
   "id": "04ea68e9-e042-48e8-a3b5-6ec004128d0b",
   "metadata": {
    "tags": []
   },
   "outputs": [
    {
     "data": {
      "text/plain": [
       "mean     49419.050757\n",
       "std      41111.535089\n",
       "count     8984.000000\n",
       "Name: wageincome, dtype: float64"
      ]
     },
     "execution_count": 33,
     "metadata": {},
     "output_type": "execute_result"
    }
   ],
   "source": [
    "wage_income.agg([\"mean\", \"std\", \"count\"])"
   ]
  },
  {
   "cell_type": "code",
   "execution_count": 34,
   "id": "52ba4377-7de2-4825-b5b9-c41d446b7a6e",
   "metadata": {
    "tags": []
   },
   "outputs": [
    {
     "data": {
      "text/plain": [
       "mean     49477.022196\n",
       "std      30619.954865\n",
       "count     8984.000000\n",
       "Name: wageincome, dtype: float64"
      ]
     },
     "execution_count": 34,
     "metadata": {},
     "output_type": "execute_result"
    }
   ],
   "source": [
    "wage_income = nls97.wageincome.copy(deep=True)\n",
    "wage_income.fillna(wage_income.mean(), inplace=True)\n",
    "wage_income.agg([\"mean\", \"std\", \"count\"])"
   ]
  },
  {
   "cell_type": "markdown",
   "id": "f118cfd8-90e7-4d40-a75e-501e0c05a078",
   "metadata": {},
   "source": [
    "^ If missing values are randomly distributed, then forward or backward filling has one advantage over using the mean: it is more likely to approximate the distribution of non-missing values for the feature. Notice that the standard deviation did not drop substantially."
   ]
  },
  {
   "cell_type": "code",
   "execution_count": 35,
   "id": "61f8a22f-919c-446b-908c-e8a69bbe6f5b",
   "metadata": {
    "tags": []
   },
   "outputs": [
    {
     "data": {
      "text/plain": [
       "39.01664167916042"
      ]
     },
     "execution_count": 35,
     "metadata": {},
     "output_type": "execute_result"
    }
   ],
   "source": [
    "# We should not use the mean across all degrees, but instead find the mean per degree.\n",
    "nls97.weeksworked17.mean()"
   ]
  },
  {
   "cell_type": "code",
   "execution_count": 36,
   "id": "6b046c5d-11ad-455a-b2d3-0a8a5b666de4",
   "metadata": {
    "tags": []
   },
   "outputs": [
    {
     "data": {
      "text/plain": [
       "highestdegree\n",
       "0. None            28.719608\n",
       "1. GED             34.587264\n",
       "2. High School     38.150469\n",
       "3. Associates      40.443508\n",
       "4. Bachelors       43.565574\n",
       "5. Masters         45.143123\n",
       "6. PhD             44.313725\n",
       "7. Professional    47.195876\n",
       "Name: weeksworked17, dtype: float64"
      ]
     },
     "execution_count": 36,
     "metadata": {},
     "output_type": "execute_result"
    }
   ],
   "source": [
    "nls97.groupby([\"highestdegree\"])[\"weeksworked17\"].mean()"
   ]
  },
  {
   "cell_type": "markdown",
   "id": "57789fd9-b5e2-40f5-9624-ef076a267eba",
   "metadata": {},
   "source": [
    "The following code assigns the mean value of weeks worked across observations with the same degree attainment level, for those observations missing weeks worked."
   ]
  },
  {
   "cell_type": "code",
   "execution_count": 37,
   "id": "79aeede5-2f9e-4422-a3ca-fdd42b0e84ab",
   "metadata": {
    "tags": []
   },
   "outputs": [
    {
     "data": {
      "text/plain": [
       "personid\n",
       "100061    48.0\n",
       "100139    52.0\n",
       "100284     0.0\n",
       "100292     NaN\n",
       "100583    52.0\n",
       "          ... \n",
       "999291    52.0\n",
       "999406    52.0\n",
       "999543    30.0\n",
       "999698     0.0\n",
       "999963    52.0\n",
       "Name: weeksworked17, Length: 8953, dtype: float64"
      ]
     },
     "execution_count": 37,
     "metadata": {},
     "output_type": "execute_result"
    }
   ],
   "source": [
    "nls97[~nls97.highestdegree.isnull()].weeksworked17"
   ]
  },
  {
   "cell_type": "code",
   "execution_count": 38,
   "id": "443d6c68-cd1d-4598-98bb-9d433ec173de",
   "metadata": {
    "tags": []
   },
   "outputs": [
    {
     "data": {
      "text/plain": [
       "personid\n",
       "100061    48.000000\n",
       "100139    52.000000\n",
       "100284     0.000000\n",
       "100292    43.565574\n",
       "100583    52.000000\n",
       "            ...    \n",
       "999291    52.000000\n",
       "999406    52.000000\n",
       "999543    30.000000\n",
       "999698     0.000000\n",
       "999963    52.000000\n",
       "Name: weeksworked17, Length: 8953, dtype: float64"
      ]
     },
     "execution_count": 38,
     "metadata": {},
     "output_type": "execute_result"
    }
   ],
   "source": [
    "nls97[~nls97.highestdegree.isnull()].groupby([\"highestdegree\"])[\"weeksworked17\"].apply(\n",
    "    lambda group: group.fillna(np.mean(group))\n",
    ")"
   ]
  },
  {
   "cell_type": "code",
   "execution_count": 39,
   "id": "b9bdc807-47bc-47ad-bb01-5b6a014ccf10",
   "metadata": {
    "tags": []
   },
   "outputs": [
    {
     "data": {
      "text/html": [
       "<div>\n",
       "<style scoped>\n",
       "    .dataframe tbody tr th:only-of-type {\n",
       "        vertical-align: middle;\n",
       "    }\n",
       "\n",
       "    .dataframe tbody tr th {\n",
       "        vertical-align: top;\n",
       "    }\n",
       "\n",
       "    .dataframe thead th {\n",
       "        text-align: right;\n",
       "    }\n",
       "</style>\n",
       "<table border=\"1\" class=\"dataframe\">\n",
       "  <thead>\n",
       "    <tr style=\"text-align: right;\">\n",
       "      <th></th>\n",
       "      <th>weeksworked17imp</th>\n",
       "      <th>weeksworked17</th>\n",
       "      <th>highestdegree</th>\n",
       "    </tr>\n",
       "    <tr>\n",
       "      <th>personid</th>\n",
       "      <th></th>\n",
       "      <th></th>\n",
       "      <th></th>\n",
       "    </tr>\n",
       "  </thead>\n",
       "  <tbody>\n",
       "    <tr>\n",
       "      <th>100061</th>\n",
       "      <td>48.000000</td>\n",
       "      <td>48.0</td>\n",
       "      <td>2. High School</td>\n",
       "    </tr>\n",
       "    <tr>\n",
       "      <th>100139</th>\n",
       "      <td>52.000000</td>\n",
       "      <td>52.0</td>\n",
       "      <td>2. High School</td>\n",
       "    </tr>\n",
       "    <tr>\n",
       "      <th>100284</th>\n",
       "      <td>0.000000</td>\n",
       "      <td>0.0</td>\n",
       "      <td>0. None</td>\n",
       "    </tr>\n",
       "    <tr>\n",
       "      <th>100292</th>\n",
       "      <td>43.565574</td>\n",
       "      <td>NaN</td>\n",
       "      <td>4. Bachelors</td>\n",
       "    </tr>\n",
       "    <tr>\n",
       "      <th>100583</th>\n",
       "      <td>52.000000</td>\n",
       "      <td>52.0</td>\n",
       "      <td>2. High School</td>\n",
       "    </tr>\n",
       "    <tr>\n",
       "      <th>100833</th>\n",
       "      <td>47.000000</td>\n",
       "      <td>47.0</td>\n",
       "      <td>2. High School</td>\n",
       "    </tr>\n",
       "    <tr>\n",
       "      <th>100931</th>\n",
       "      <td>52.000000</td>\n",
       "      <td>52.0</td>\n",
       "      <td>3. Associates</td>\n",
       "    </tr>\n",
       "    <tr>\n",
       "      <th>101089</th>\n",
       "      <td>52.000000</td>\n",
       "      <td>52.0</td>\n",
       "      <td>2. High School</td>\n",
       "    </tr>\n",
       "    <tr>\n",
       "      <th>101122</th>\n",
       "      <td>38.150469</td>\n",
       "      <td>NaN</td>\n",
       "      <td>2. High School</td>\n",
       "    </tr>\n",
       "    <tr>\n",
       "      <th>101132</th>\n",
       "      <td>44.000000</td>\n",
       "      <td>44.0</td>\n",
       "      <td>0. None</td>\n",
       "    </tr>\n",
       "  </tbody>\n",
       "</table>\n",
       "</div>"
      ],
      "text/plain": [
       "          weeksworked17imp  weeksworked17   highestdegree\n",
       "personid                                                 \n",
       "100061           48.000000           48.0  2. High School\n",
       "100139           52.000000           52.0  2. High School\n",
       "100284            0.000000            0.0         0. None\n",
       "100292           43.565574            NaN    4. Bachelors\n",
       "100583           52.000000           52.0  2. High School\n",
       "100833           47.000000           47.0  2. High School\n",
       "100931           52.000000           52.0   3. Associates\n",
       "101089           52.000000           52.0  2. High School\n",
       "101122           38.150469            NaN  2. High School\n",
       "101132           44.000000           44.0         0. None"
      ]
     },
     "execution_count": 39,
     "metadata": {},
     "output_type": "execute_result"
    }
   ],
   "source": [
    "nls97.loc[~nls97.highestdegree.isnull(), \"weeksworked17imp\"] = (\n",
    "    nls97[~nls97.highestdegree.isnull()]\n",
    "    .groupby([\"highestdegree\"])[\"weeksworked17\"]\n",
    "    .apply(lambda group: group.fillna(np.mean(group)))\n",
    ")\n",
    "nls97[[\"weeksworked17imp\", \"weeksworked17\", \"highestdegree\"]].head(10)"
   ]
  },
  {
   "cell_type": "markdown",
   "id": "751f4f7d-3f30-4e13-8052-7b3cd0ce2c36",
   "metadata": {},
   "source": [
    "### Summary\n",
    "\n",
    "Imputation strategies\n",
    "- removing observations with missing values\n",
    "- assigning a dataset's mean or median, using forward or backward filling\n",
    "- using a group mean for a correlated feature\n"
   ]
  },
  {
   "cell_type": "markdown",
   "id": "ecf794f0-d613-44cc-a209-78db988405cc",
   "metadata": {},
   "source": [
    "## Imputing values with regression"
   ]
  },
  {
   "cell_type": "markdown",
   "id": "9b07311e-e812-469b-986b-02729ec92c63",
   "metadata": {},
   "source": [
    "Regression imputation replaces a feature's missing values with values predicted by a regression model of correlated features."
   ]
  },
  {
   "cell_type": "code",
   "execution_count": 40,
   "id": "095bda7c-9083-4bb3-92fc-9561db6e9fdb",
   "metadata": {
    "tags": []
   },
   "outputs": [
    {
     "data": {
      "text/plain": [
       "(8984, 93)"
      ]
     },
     "execution_count": 40,
     "metadata": {},
     "output_type": "execute_result"
    }
   ],
   "source": [
    "import statsmodels.api as sm\n",
    "\n",
    "nls97 = load_nls97b()\n",
    "nls97.shape"
   ]
  },
  {
   "cell_type": "code",
   "execution_count": 41,
   "id": "08aaf69d-6df2-4939-a5b2-1c47ed34af3d",
   "metadata": {
    "tags": []
   },
   "outputs": [
    {
     "name": "stdout",
     "output_type": "stream",
     "text": [
      "<class 'pandas.core.frame.DataFrame'>\n",
      "Int64Index: 8984 entries, 100061 to 999963\n",
      "Data columns (total 4 columns):\n",
      " #   Column         Non-Null Count  Dtype  \n",
      "---  ------         --------------  -----  \n",
      " 0   wageincome     5091 non-null   float64\n",
      " 1   highestdegree  8953 non-null   object \n",
      " 2   weeksworked16  7068 non-null   float64\n",
      " 3   parentincome   8984 non-null   int64  \n",
      "dtypes: float64(2), int64(1), object(1)\n",
      "memory usage: 350.9+ KB\n"
     ]
    }
   ],
   "source": [
    "nls97[[\"wageincome\", \"highestdegree\", \"weeksworked16\", \"parentincome\"]].info()"
   ]
  },
  {
   "cell_type": "markdown",
   "id": "f319d7bb-a3c0-4a16-9ea6-0b83d2794e5f",
   "metadata": {},
   "source": [
    "Let's convert the `highestdegree` feature into a numeric value. This will make the analysis we will be doing in the rest of the section easier:"
   ]
  },
  {
   "cell_type": "code",
   "execution_count": 42,
   "id": "770b994f-5e87-4d37-8c94-283bddee37fa",
   "metadata": {
    "tags": []
   },
   "outputs": [
    {
     "data": {
      "text/plain": [
       "highestdegree    hdegnum\n",
       "0. None          0.0         953\n",
       "1. GED           1.0        1146\n",
       "2. High School   2.0        3667\n",
       "3. Associates    3.0         737\n",
       "4. Bachelors     4.0        1673\n",
       "5. Masters       5.0         603\n",
       "6. PhD           6.0          54\n",
       "7. Professional  7.0         120\n",
       "dtype: int64"
      ]
     },
     "execution_count": 42,
     "metadata": {},
     "output_type": "execute_result"
    }
   ],
   "source": [
    "nls97[\"hdegnum\"] = nls97.highestdegree.str[0:1].astype(\"float\")\n",
    "nls97.groupby([\"highestdegree\", \"hdegnum\"]).size()"
   ]
  },
  {
   "cell_type": "markdown",
   "id": "c7d4998d-1d25-4605-844f-155e770f5135",
   "metadata": {
    "tags": []
   },
   "source": [
    "We need to replace logical missing values for `parentincome` with actual missings."
   ]
  },
  {
   "cell_type": "code",
   "execution_count": 43,
   "id": "f7035d6f-04c8-47c8-b440-e31fdf667e4b",
   "metadata": {
    "tags": []
   },
   "outputs": [
    {
     "data": {
      "text/html": [
       "<div>\n",
       "<style scoped>\n",
       "    .dataframe tbody tr th:only-of-type {\n",
       "        vertical-align: middle;\n",
       "    }\n",
       "\n",
       "    .dataframe tbody tr th {\n",
       "        vertical-align: top;\n",
       "    }\n",
       "\n",
       "    .dataframe thead th {\n",
       "        text-align: right;\n",
       "    }\n",
       "</style>\n",
       "<table border=\"1\" class=\"dataframe\">\n",
       "  <thead>\n",
       "    <tr style=\"text-align: right;\">\n",
       "      <th></th>\n",
       "      <th>wageincome</th>\n",
       "      <th>hdegnum</th>\n",
       "      <th>weeksworked16</th>\n",
       "      <th>parentincome</th>\n",
       "    </tr>\n",
       "  </thead>\n",
       "  <tbody>\n",
       "    <tr>\n",
       "      <th>wageincome</th>\n",
       "      <td>1.000000</td>\n",
       "      <td>0.399572</td>\n",
       "      <td>0.180880</td>\n",
       "      <td>0.273167</td>\n",
       "    </tr>\n",
       "    <tr>\n",
       "      <th>hdegnum</th>\n",
       "      <td>0.399572</td>\n",
       "      <td>1.000000</td>\n",
       "      <td>0.235785</td>\n",
       "      <td>0.326685</td>\n",
       "    </tr>\n",
       "    <tr>\n",
       "      <th>weeksworked16</th>\n",
       "      <td>0.180880</td>\n",
       "      <td>0.235785</td>\n",
       "      <td>1.000000</td>\n",
       "      <td>0.098737</td>\n",
       "    </tr>\n",
       "    <tr>\n",
       "      <th>parentincome</th>\n",
       "      <td>0.273167</td>\n",
       "      <td>0.326685</td>\n",
       "      <td>0.098737</td>\n",
       "      <td>1.000000</td>\n",
       "    </tr>\n",
       "  </tbody>\n",
       "</table>\n",
       "</div>"
      ],
      "text/plain": [
       "               wageincome   hdegnum  weeksworked16  parentincome\n",
       "wageincome       1.000000  0.399572       0.180880      0.273167\n",
       "hdegnum          0.399572  1.000000       0.235785      0.326685\n",
       "weeksworked16    0.180880  0.235785       1.000000      0.098737\n",
       "parentincome     0.273167  0.326685       0.098737      1.000000"
      ]
     },
     "execution_count": 43,
     "metadata": {},
     "output_type": "execute_result"
    }
   ],
   "source": [
    "nls97.parentincome.replace(list(range(-5, 0)), np.nan, inplace=True)\n",
    "nls97[[\"wageincome\", \"hdegnum\", \"weeksworked16\", \"parentincome\"]].corr()"
   ]
  },
  {
   "cell_type": "code",
   "execution_count": 44,
   "id": "16a863ea-efca-4e64-be6f-5fe77f149cb3",
   "metadata": {
    "tags": []
   },
   "outputs": [],
   "source": [
    "nls97.weeksworked16.fillna(nls97.weeksworked16.mean(), inplace=True)\n",
    "nls97.parentincome.fillna(nls97.parentincome.mean(), inplace=True)\n",
    "nls97[\"degltcol\"] = np.where(nls97.hdegnum <= 2, 1, 0)\n",
    "nls97[\"degcol\"] = np.where(nls97.hdegnum.between(3, 4), 1, 0)\n",
    "nls97[\"degadv\"] = np.where(nls97.hdegnum > 4, 1, 0)"
   ]
  },
  {
   "cell_type": "code",
   "execution_count": 45,
   "id": "090105ae-cbd0-4057-9c36-aec57107bb8c",
   "metadata": {
    "tags": []
   },
   "outputs": [],
   "source": [
    "def get_linear_model(df, y_colname, x_colnames):\n",
    "    df = df[[y_colname] + x_colnames].dropna()\n",
    "    y = df[y_colname]\n",
    "    X = df[x_colnames]\n",
    "    X = sm.add_constant(X)\n",
    "    lm = sm.OLS(y, X).fit()\n",
    "    coefficients = pd.DataFrame(\n",
    "        zip([\"constant\"] + x_colnames, lm.params, lm.pvalues),\n",
    "        columns=[\"features\", \"params\", \"pvalues\"],\n",
    "    )\n",
    "    return coefficients, lm"
   ]
  },
  {
   "cell_type": "code",
   "execution_count": 46,
   "id": "bd982830-d7ca-472e-8ddb-3c0de2ab7c38",
   "metadata": {
    "tags": []
   },
   "outputs": [
    {
     "data": {
      "text/html": [
       "<div>\n",
       "<style scoped>\n",
       "    .dataframe tbody tr th:only-of-type {\n",
       "        vertical-align: middle;\n",
       "    }\n",
       "\n",
       "    .dataframe tbody tr th {\n",
       "        vertical-align: top;\n",
       "    }\n",
       "\n",
       "    .dataframe thead th {\n",
       "        text-align: right;\n",
       "    }\n",
       "</style>\n",
       "<table border=\"1\" class=\"dataframe\">\n",
       "  <thead>\n",
       "    <tr style=\"text-align: right;\">\n",
       "      <th></th>\n",
       "      <th>features</th>\n",
       "      <th>params</th>\n",
       "      <th>pvalues</th>\n",
       "    </tr>\n",
       "  </thead>\n",
       "  <tbody>\n",
       "    <tr>\n",
       "      <th>0</th>\n",
       "      <td>constant</td>\n",
       "      <td>7389.368875</td>\n",
       "      <td>6.942360e-04</td>\n",
       "    </tr>\n",
       "    <tr>\n",
       "      <th>1</th>\n",
       "      <td>weeksworked16</td>\n",
       "      <td>494.068765</td>\n",
       "      <td>1.715250e-31</td>\n",
       "    </tr>\n",
       "    <tr>\n",
       "      <th>2</th>\n",
       "      <td>parentincome</td>\n",
       "      <td>0.181831</td>\n",
       "      <td>1.923812e-33</td>\n",
       "    </tr>\n",
       "    <tr>\n",
       "      <th>3</th>\n",
       "      <td>degcol</td>\n",
       "      <td>15770.073363</td>\n",
       "      <td>1.028133e-40</td>\n",
       "    </tr>\n",
       "    <tr>\n",
       "      <th>4</th>\n",
       "      <td>degadv</td>\n",
       "      <td>36737.842205</td>\n",
       "      <td>2.841210e-100</td>\n",
       "    </tr>\n",
       "  </tbody>\n",
       "</table>\n",
       "</div>"
      ],
      "text/plain": [
       "        features        params        pvalues\n",
       "0       constant   7389.368875   6.942360e-04\n",
       "1  weeksworked16    494.068765   1.715250e-31\n",
       "2   parentincome      0.181831   1.923812e-33\n",
       "3         degcol  15770.073363   1.028133e-40\n",
       "4         degadv  36737.842205  2.841210e-100"
      ]
     },
     "execution_count": 46,
     "metadata": {},
     "output_type": "execute_result"
    }
   ],
   "source": [
    "x_vars = [\"weeksworked16\", \"parentincome\", \"degcol\", \"degadv\"]\n",
    "coefficients, lm = get_linear_model(nls97, \"wageincome\", x_vars)\n",
    "coefficients"
   ]
  },
  {
   "cell_type": "markdown",
   "id": "bd3bd922-b6b8-4a4a-bdf2-59eebc4668e5",
   "metadata": {},
   "source": [
    "^ We use the `get_linear_model` function to get the parameter estimates and the model summary. All of the coefficients are positive and significant at the 95% level since they have `pvalues` less than 0.05.\n",
    "\n",
    "Other observations includes:\n",
    "- wage income increases with the number of weeks worked and with parental income\n",
    "- having a college degree gives a nearly 16k boost to earning\n",
    "- a post-graduate degree bumps up the earnings prediction even more - almost 37k more than those with less than a college degree\n",
    "\n",
    "> NOTE: The coefficients of `degcol` and `degadv` are interpreted as relative to those without a college degree since that is the omitted dummy variable."
   ]
  },
  {
   "cell_type": "markdown",
   "id": "b46fc68b-cdea-4b9e-b25c-87d54ccfa13b",
   "metadata": {},
   "source": [
    "We can use this model to impute values for wage income where they are missing."
   ]
  },
  {
   "cell_type": "code",
   "execution_count": 47,
   "id": "1222a3e8-fc80-44a7-9aa8-73f967bc100c",
   "metadata": {
    "tags": []
   },
   "outputs": [
    {
     "data": {
      "text/html": [
       "<div>\n",
       "<style scoped>\n",
       "    .dataframe tbody tr th:only-of-type {\n",
       "        vertical-align: middle;\n",
       "    }\n",
       "\n",
       "    .dataframe tbody tr th {\n",
       "        vertical-align: top;\n",
       "    }\n",
       "\n",
       "    .dataframe thead th {\n",
       "        text-align: right;\n",
       "    }\n",
       "</style>\n",
       "<table border=\"1\" class=\"dataframe\">\n",
       "  <thead>\n",
       "    <tr style=\"text-align: right;\">\n",
       "      <th></th>\n",
       "      <th>pred</th>\n",
       "    </tr>\n",
       "    <tr>\n",
       "      <th>personid</th>\n",
       "      <th></th>\n",
       "    </tr>\n",
       "  </thead>\n",
       "  <tbody>\n",
       "    <tr>\n",
       "      <th>100061</th>\n",
       "      <td>32450.219808</td>\n",
       "    </tr>\n",
       "    <tr>\n",
       "      <th>100139</th>\n",
       "      <td>43939.386701</td>\n",
       "    </tr>\n",
       "    <tr>\n",
       "      <th>100284</th>\n",
       "      <td>39702.156340</td>\n",
       "    </tr>\n",
       "    <tr>\n",
       "      <th>100292</th>\n",
       "      <td>36547.437777</td>\n",
       "    </tr>\n",
       "    <tr>\n",
       "      <th>100583</th>\n",
       "      <td>36938.888957</td>\n",
       "    </tr>\n",
       "  </tbody>\n",
       "</table>\n",
       "</div>"
      ],
      "text/plain": [
       "                  pred\n",
       "personid              \n",
       "100061    32450.219808\n",
       "100139    43939.386701\n",
       "100284    39702.156340\n",
       "100292    36547.437777\n",
       "100583    36938.888957"
      ]
     },
     "execution_count": 47,
     "metadata": {},
     "output_type": "execute_result"
    }
   ],
   "source": [
    "pred = lm.predict(sm.add_constant(nls97[x_vars])).to_frame().rename(columns={0: \"pred\"})\n",
    "pred.head()"
   ]
  },
  {
   "cell_type": "code",
   "execution_count": 48,
   "id": "0b70f10b-3e47-4240-9108-d47fba1b6b2f",
   "metadata": {
    "tags": []
   },
   "outputs": [],
   "source": [
    "nls97 = nls97.join(pred)"
   ]
  },
  {
   "cell_type": "code",
   "execution_count": 49,
   "id": "31367eee-3f45-47f6-97fd-ce8eb185dcc8",
   "metadata": {
    "tags": []
   },
   "outputs": [],
   "source": [
    "nls97[\"wageincomeimp\"] = np.where(\n",
    "    nls97.wageincome.isnull(), nls97.pred, nls97.wageincome\n",
    ")"
   ]
  },
  {
   "cell_type": "code",
   "execution_count": 50,
   "id": "340d9a03-fea1-47c7-bd33-343d61a83ace",
   "metadata": {
    "tags": []
   },
   "outputs": [
    {
     "data": {
      "text/html": [
       "<div>\n",
       "<style scoped>\n",
       "    .dataframe tbody tr th:only-of-type {\n",
       "        vertical-align: middle;\n",
       "    }\n",
       "\n",
       "    .dataframe tbody tr th {\n",
       "        vertical-align: top;\n",
       "    }\n",
       "\n",
       "    .dataframe thead th {\n",
       "        text-align: right;\n",
       "    }\n",
       "</style>\n",
       "<table border=\"1\" class=\"dataframe\">\n",
       "  <thead>\n",
       "    <tr style=\"text-align: right;\">\n",
       "      <th></th>\n",
       "      <th>wageincomeimp</th>\n",
       "      <th>wageincome</th>\n",
       "      <th>weeksworked16</th>\n",
       "      <th>parentincome</th>\n",
       "      <th>degcol</th>\n",
       "      <th>degadv</th>\n",
       "    </tr>\n",
       "    <tr>\n",
       "      <th>personid</th>\n",
       "      <th></th>\n",
       "      <th></th>\n",
       "      <th></th>\n",
       "      <th></th>\n",
       "      <th></th>\n",
       "      <th></th>\n",
       "    </tr>\n",
       "  </thead>\n",
       "  <tbody>\n",
       "    <tr>\n",
       "      <th>100061</th>\n",
       "      <td>12500.000000</td>\n",
       "      <td>12500.0</td>\n",
       "      <td>48.000000</td>\n",
       "      <td>7400.00000</td>\n",
       "      <td>0</td>\n",
       "      <td>0</td>\n",
       "    </tr>\n",
       "    <tr>\n",
       "      <th>100139</th>\n",
       "      <td>120000.000000</td>\n",
       "      <td>120000.0</td>\n",
       "      <td>53.000000</td>\n",
       "      <td>57000.00000</td>\n",
       "      <td>0</td>\n",
       "      <td>0</td>\n",
       "    </tr>\n",
       "    <tr>\n",
       "      <th>100284</th>\n",
       "      <td>58000.000000</td>\n",
       "      <td>58000.0</td>\n",
       "      <td>47.000000</td>\n",
       "      <td>50000.00000</td>\n",
       "      <td>0</td>\n",
       "      <td>0</td>\n",
       "    </tr>\n",
       "    <tr>\n",
       "      <th>100292</th>\n",
       "      <td>36547.437777</td>\n",
       "      <td>NaN</td>\n",
       "      <td>4.000000</td>\n",
       "      <td>62760.00000</td>\n",
       "      <td>1</td>\n",
       "      <td>0</td>\n",
       "    </tr>\n",
       "    <tr>\n",
       "      <th>100583</th>\n",
       "      <td>30000.000000</td>\n",
       "      <td>30000.0</td>\n",
       "      <td>53.000000</td>\n",
       "      <td>18500.00000</td>\n",
       "      <td>0</td>\n",
       "      <td>0</td>\n",
       "    </tr>\n",
       "    <tr>\n",
       "      <th>100833</th>\n",
       "      <td>39000.000000</td>\n",
       "      <td>39000.0</td>\n",
       "      <td>45.000000</td>\n",
       "      <td>37000.00000</td>\n",
       "      <td>0</td>\n",
       "      <td>0</td>\n",
       "    </tr>\n",
       "    <tr>\n",
       "      <th>100931</th>\n",
       "      <td>56000.000000</td>\n",
       "      <td>56000.0</td>\n",
       "      <td>53.000000</td>\n",
       "      <td>60200.00000</td>\n",
       "      <td>1</td>\n",
       "      <td>0</td>\n",
       "    </tr>\n",
       "    <tr>\n",
       "      <th>101089</th>\n",
       "      <td>36000.000000</td>\n",
       "      <td>36000.0</td>\n",
       "      <td>53.000000</td>\n",
       "      <td>32307.00000</td>\n",
       "      <td>0</td>\n",
       "      <td>0</td>\n",
       "    </tr>\n",
       "    <tr>\n",
       "      <th>101122</th>\n",
       "      <td>35151.031821</td>\n",
       "      <td>NaN</td>\n",
       "      <td>39.127476</td>\n",
       "      <td>46361.69915</td>\n",
       "      <td>0</td>\n",
       "      <td>0</td>\n",
       "    </tr>\n",
       "    <tr>\n",
       "      <th>101132</th>\n",
       "      <td>0.000000</td>\n",
       "      <td>0.0</td>\n",
       "      <td>22.000000</td>\n",
       "      <td>2470.00000</td>\n",
       "      <td>0</td>\n",
       "      <td>0</td>\n",
       "    </tr>\n",
       "  </tbody>\n",
       "</table>\n",
       "</div>"
      ],
      "text/plain": [
       "          wageincomeimp  wageincome  weeksworked16  parentincome  degcol  \\\n",
       "personid                                                                   \n",
       "100061     12500.000000     12500.0      48.000000    7400.00000       0   \n",
       "100139    120000.000000    120000.0      53.000000   57000.00000       0   \n",
       "100284     58000.000000     58000.0      47.000000   50000.00000       0   \n",
       "100292     36547.437777         NaN       4.000000   62760.00000       1   \n",
       "100583     30000.000000     30000.0      53.000000   18500.00000       0   \n",
       "100833     39000.000000     39000.0      45.000000   37000.00000       0   \n",
       "100931     56000.000000     56000.0      53.000000   60200.00000       1   \n",
       "101089     36000.000000     36000.0      53.000000   32307.00000       0   \n",
       "101122     35151.031821         NaN      39.127476   46361.69915       0   \n",
       "101132         0.000000         0.0      22.000000    2470.00000       0   \n",
       "\n",
       "          degadv  \n",
       "personid          \n",
       "100061         0  \n",
       "100139         0  \n",
       "100284         0  \n",
       "100292         0  \n",
       "100583         0  \n",
       "100833         0  \n",
       "100931         0  \n",
       "101089         0  \n",
       "101122         0  \n",
       "101132         0  "
      ]
     },
     "execution_count": 50,
     "metadata": {},
     "output_type": "execute_result"
    }
   ],
   "source": [
    "nls97[[\"wageincomeimp\", \"wageincome\"] + x_vars].head(10)"
   ]
  },
  {
   "cell_type": "code",
   "execution_count": 51,
   "id": "122aaccd-61f1-4820-93b6-d61fe16e95eb",
   "metadata": {
    "tags": []
   },
   "outputs": [
    {
     "data": {
      "text/html": [
       "<div>\n",
       "<style scoped>\n",
       "    .dataframe tbody tr th:only-of-type {\n",
       "        vertical-align: middle;\n",
       "    }\n",
       "\n",
       "    .dataframe tbody tr th {\n",
       "        vertical-align: top;\n",
       "    }\n",
       "\n",
       "    .dataframe thead th {\n",
       "        text-align: right;\n",
       "    }\n",
       "</style>\n",
       "<table border=\"1\" class=\"dataframe\">\n",
       "  <thead>\n",
       "    <tr style=\"text-align: right;\">\n",
       "      <th></th>\n",
       "      <th>wageincomeimp</th>\n",
       "      <th>wageincome</th>\n",
       "    </tr>\n",
       "  </thead>\n",
       "  <tbody>\n",
       "    <tr>\n",
       "      <th>count</th>\n",
       "      <td>8984.000000</td>\n",
       "      <td>5091.000000</td>\n",
       "    </tr>\n",
       "    <tr>\n",
       "      <th>mean</th>\n",
       "      <td>42558.776723</td>\n",
       "      <td>49477.022196</td>\n",
       "    </tr>\n",
       "    <tr>\n",
       "      <th>std</th>\n",
       "      <td>33405.858412</td>\n",
       "      <td>40677.696798</td>\n",
       "    </tr>\n",
       "  </tbody>\n",
       "</table>\n",
       "</div>"
      ],
      "text/plain": [
       "       wageincomeimp    wageincome\n",
       "count    8984.000000   5091.000000\n",
       "mean    42558.776723  49477.022196\n",
       "std     33405.858412  40677.696798"
      ]
     },
     "execution_count": 51,
     "metadata": {},
     "output_type": "execute_result"
    }
   ],
   "source": [
    "nls97[[\"wageincomeimp\", \"wageincome\"]].agg([\"count\", \"mean\", \"std\"])"
   ]
  },
  {
   "cell_type": "markdown",
   "id": "c63ad345-4059-435e-9847-10e442ca7883",
   "metadata": {},
   "source": [
    "^ The mean for the imputed wage income feature is lower than the original wage income mean. This is not surprising since, as we have seen, individuals with missing wage income have lower values for positively correlated features.\n",
    "\n",
    "What is surprising is the sharp reduction in the standard deviation. This is one of the drawbacks of deterministic regression imputation."
   ]
  },
  {
   "cell_type": "markdown",
   "id": "c753978c-b08d-4dc6-aeb9-d19b45f6d710",
   "metadata": {},
   "source": [
    "Stochastic regression imputation adds a normally distributed error to the predictions based on the residuals from our model. \n",
    "\n",
    "We want this error to have a mean of 0 with the same standard deviation as our residuals. \n",
    "\n",
    "We can use NumPy's normal function for that with `np.random.normal(0, lm.resid.std(), nls97.shape[0])`. \n",
    "\n",
    "The `lm.resid.std()` parameter gets us the standard deviation of the residuals from our model.\n",
    "The final parameter value, `nls97.shape[0]` indicates how many values to create; in this case, we want a value for every row in our data."
   ]
  },
  {
   "cell_type": "code",
   "execution_count": 52,
   "id": "ed1f1896-78a4-432d-84de-2ef64124a3dd",
   "metadata": {
    "tags": []
   },
   "outputs": [],
   "source": [
    "random_add = np.random.normal(0, lm.resid.std(), nls97.shape[0])\n",
    "random_add_df = pd.DataFrame(random_add, columns=[\"randomadd\"], index=nls97.index)\n",
    "nls97 = nls97.join(random_add_df)\n",
    "nls97[\"stochastic_pred\"] = nls97.pred + nls97.randomadd\n",
    "nls97[\"wageincomeimpstoc\"] = np.where(\n",
    "    nls97.wageincome.isnull(), nls97.stochastic_pred, nls97.wageincome\n",
    ")"
   ]
  },
  {
   "cell_type": "code",
   "execution_count": 54,
   "id": "e5ed6ed5-8b77-4856-96b4-03c7aec5ad0a",
   "metadata": {},
   "outputs": [
    {
     "data": {
      "text/html": [
       "<div>\n",
       "<style scoped>\n",
       "    .dataframe tbody tr th:only-of-type {\n",
       "        vertical-align: middle;\n",
       "    }\n",
       "\n",
       "    .dataframe tbody tr th {\n",
       "        vertical-align: top;\n",
       "    }\n",
       "\n",
       "    .dataframe thead th {\n",
       "        text-align: right;\n",
       "    }\n",
       "</style>\n",
       "<table border=\"1\" class=\"dataframe\">\n",
       "  <thead>\n",
       "    <tr style=\"text-align: right;\">\n",
       "      <th></th>\n",
       "      <th>wageincomeimpstoc</th>\n",
       "      <th>wageincome</th>\n",
       "    </tr>\n",
       "  </thead>\n",
       "  <tbody>\n",
       "    <tr>\n",
       "      <th>count</th>\n",
       "      <td>8984.000000</td>\n",
       "      <td>5091.000000</td>\n",
       "    </tr>\n",
       "    <tr>\n",
       "      <th>mean</th>\n",
       "      <td>42768.316196</td>\n",
       "      <td>49477.022196</td>\n",
       "    </tr>\n",
       "    <tr>\n",
       "      <th>std</th>\n",
       "      <td>41320.627162</td>\n",
       "      <td>40677.696798</td>\n",
       "    </tr>\n",
       "  </tbody>\n",
       "</table>\n",
       "</div>"
      ],
      "text/plain": [
       "       wageincomeimpstoc    wageincome\n",
       "count        8984.000000   5091.000000\n",
       "mean        42768.316196  49477.022196\n",
       "std         41320.627162  40677.696798"
      ]
     },
     "execution_count": 54,
     "metadata": {},
     "output_type": "execute_result"
    }
   ],
   "source": [
    "nls97[[\"wageincomeimpstoc\", \"wageincome\"]].agg([\"count\", \"mean\", \"std\"])"
   ]
  },
  {
   "cell_type": "markdown",
   "id": "7a256402-cb1b-4bfd-8ff0-44e4e1236341",
   "metadata": {},
   "source": [
    "^ Our stochastic prediction has pretty much the same standard deviation as the original wage income feature."
   ]
  },
  {
   "cell_type": "markdown",
   "id": "9e2e2b10-71a5-4963-87dd-5022bddaf33d",
   "metadata": {},
   "source": [
    "### Summary\n",
    "\n",
    "Regression imputation is a good way to take advantage of all the data we have to impute value for a feature. It is often superior to the imputation methods we examined in the previous section, particularly when missing values _are not random_. If we use stochastic regression imputation, we will not artificially reduce our variance."
   ]
  },
  {
   "cell_type": "markdown",
   "id": "91468f6e-709e-4f20-9901-6c6f9dcc5e1d",
   "metadata": {},
   "source": [
    "## Using KNN imputation"
   ]
  },
  {
   "cell_type": "code",
   "execution_count": 56,
   "id": "504e7e0d-8a32-4b26-a387-ffb9b8f7b392",
   "metadata": {
    "tags": []
   },
   "outputs": [],
   "source": [
    "from sklearn.impute import KNNImputer\n",
    "\n",
    "nls97 = load_nls97b()"
   ]
  },
  {
   "cell_type": "code",
   "execution_count": 58,
   "id": "664f9ce9-5acb-4a54-91ed-e41de5c154fd",
   "metadata": {
    "tags": []
   },
   "outputs": [],
   "source": [
    "nls97.parentincome.fillna(nls97.parentincome.mean(), inplace=True)\n",
    "nls97[\"hdegnum\"] = nls97.highestdegree.str[0:1].astype(\"float\")\n",
    "nls97[\"degltcol\"] = np.where(nls97.hdegnum <= 2, 1, 0)\n",
    "nls97[\"degcol\"] = np.where(nls97.hdegnum.between(3, 4), 1, 0)\n",
    "nls97[\"degadv\"] = np.where(nls97.hdegnum > 4, 1, 0)"
   ]
  },
  {
   "cell_type": "code",
   "execution_count": 62,
   "id": "a475d956-b3c5-4bdc-b215-5b44c3805860",
   "metadata": {
    "tags": []
   },
   "outputs": [],
   "source": [
    "wage_data_list = [\n",
    "    \"wageincome\",\n",
    "    \"weeksworked16\",\n",
    "    \"parentincome\",\n",
    "    \"degltcol\",\n",
    "    \"degcol\",\n",
    "    \"degadv\",\n",
    "]\n",
    "wage_data = nls97[wage_data_list]"
   ]
  },
  {
   "cell_type": "markdown",
   "id": "dc9dad2f-e7ab-45ea-97d7-951b07a86254",
   "metadata": {},
   "source": [
    "We need to specify the value to use for the number of nearest neighbors, for `k`. We use a general rule of thumb for determining `k` - the square root of the number of observations divided by 2 `(sqrt(N)/2)`."
   ]
  },
  {
   "cell_type": "code",
   "execution_count": 63,
   "id": "e07613b5-75ca-4e4f-b042-09f9dda1d0c3",
   "metadata": {
    "tags": []
   },
   "outputs": [],
   "source": [
    "import math\n",
    "\n",
    "k = math.floor(math.sqrt(wage_data.shape[0]) / 2)"
   ]
  },
  {
   "cell_type": "code",
   "execution_count": 64,
   "id": "4bba3090-2123-474a-b405-c524d08ecec6",
   "metadata": {
    "tags": []
   },
   "outputs": [],
   "source": [
    "impKNN = KNNImputer(n_neighbors=k)\n",
    "new_values = impKNN.fit_transform(wage_data)\n",
    "wage_data_list_imp = [\n",
    "    \"wageincomeimp\",\n",
    "    \"weeksworked16imp\",\n",
    "    \"parentincomeimp\",\n",
    "    \"degltcol\",\n",
    "    \"degcol\",\n",
    "    \"degadv\",\n",
    "]\n",
    "wage_data_imp = pd.DataFrame(new_values, columns=wage_data_list_imp, index=nls97.index)"
   ]
  },
  {
   "cell_type": "code",
   "execution_count": 65,
   "id": "5e09fe14-f678-4cbc-a144-aac487d601e8",
   "metadata": {
    "tags": []
   },
   "outputs": [
    {
     "data": {
      "text/html": [
       "<div>\n",
       "<style scoped>\n",
       "    .dataframe tbody tr th:only-of-type {\n",
       "        vertical-align: middle;\n",
       "    }\n",
       "\n",
       "    .dataframe tbody tr th {\n",
       "        vertical-align: top;\n",
       "    }\n",
       "\n",
       "    .dataframe thead th {\n",
       "        text-align: right;\n",
       "    }\n",
       "</style>\n",
       "<table border=\"1\" class=\"dataframe\">\n",
       "  <thead>\n",
       "    <tr style=\"text-align: right;\">\n",
       "      <th></th>\n",
       "      <th>wageincome</th>\n",
       "      <th>weeksworked16</th>\n",
       "      <th>parentincome</th>\n",
       "      <th>degcol</th>\n",
       "      <th>degadv</th>\n",
       "      <th>wageincomeimp</th>\n",
       "    </tr>\n",
       "    <tr>\n",
       "      <th>personid</th>\n",
       "      <th></th>\n",
       "      <th></th>\n",
       "      <th></th>\n",
       "      <th></th>\n",
       "      <th></th>\n",
       "      <th></th>\n",
       "    </tr>\n",
       "  </thead>\n",
       "  <tbody>\n",
       "    <tr>\n",
       "      <th>100061</th>\n",
       "      <td>12500.0</td>\n",
       "      <td>48.0</td>\n",
       "      <td>7400</td>\n",
       "      <td>0</td>\n",
       "      <td>0</td>\n",
       "      <td>12500.00000</td>\n",
       "    </tr>\n",
       "    <tr>\n",
       "      <th>100139</th>\n",
       "      <td>120000.0</td>\n",
       "      <td>53.0</td>\n",
       "      <td>57000</td>\n",
       "      <td>0</td>\n",
       "      <td>0</td>\n",
       "      <td>120000.00000</td>\n",
       "    </tr>\n",
       "    <tr>\n",
       "      <th>100284</th>\n",
       "      <td>58000.0</td>\n",
       "      <td>47.0</td>\n",
       "      <td>50000</td>\n",
       "      <td>0</td>\n",
       "      <td>0</td>\n",
       "      <td>58000.00000</td>\n",
       "    </tr>\n",
       "    <tr>\n",
       "      <th>100292</th>\n",
       "      <td>NaN</td>\n",
       "      <td>4.0</td>\n",
       "      <td>62760</td>\n",
       "      <td>1</td>\n",
       "      <td>0</td>\n",
       "      <td>61213.87234</td>\n",
       "    </tr>\n",
       "    <tr>\n",
       "      <th>100583</th>\n",
       "      <td>30000.0</td>\n",
       "      <td>53.0</td>\n",
       "      <td>18500</td>\n",
       "      <td>0</td>\n",
       "      <td>0</td>\n",
       "      <td>30000.00000</td>\n",
       "    </tr>\n",
       "    <tr>\n",
       "      <th>100833</th>\n",
       "      <td>39000.0</td>\n",
       "      <td>45.0</td>\n",
       "      <td>37000</td>\n",
       "      <td>0</td>\n",
       "      <td>0</td>\n",
       "      <td>39000.00000</td>\n",
       "    </tr>\n",
       "    <tr>\n",
       "      <th>100931</th>\n",
       "      <td>56000.0</td>\n",
       "      <td>53.0</td>\n",
       "      <td>60200</td>\n",
       "      <td>1</td>\n",
       "      <td>0</td>\n",
       "      <td>56000.00000</td>\n",
       "    </tr>\n",
       "    <tr>\n",
       "      <th>101089</th>\n",
       "      <td>36000.0</td>\n",
       "      <td>53.0</td>\n",
       "      <td>32307</td>\n",
       "      <td>0</td>\n",
       "      <td>0</td>\n",
       "      <td>36000.00000</td>\n",
       "    </tr>\n",
       "    <tr>\n",
       "      <th>101122</th>\n",
       "      <td>NaN</td>\n",
       "      <td>NaN</td>\n",
       "      <td>-4</td>\n",
       "      <td>0</td>\n",
       "      <td>0</td>\n",
       "      <td>42402.12766</td>\n",
       "    </tr>\n",
       "    <tr>\n",
       "      <th>101132</th>\n",
       "      <td>0.0</td>\n",
       "      <td>22.0</td>\n",
       "      <td>2470</td>\n",
       "      <td>0</td>\n",
       "      <td>0</td>\n",
       "      <td>0.00000</td>\n",
       "    </tr>\n",
       "  </tbody>\n",
       "</table>\n",
       "</div>"
      ],
      "text/plain": [
       "          wageincome  weeksworked16  parentincome  degcol  degadv  \\\n",
       "personid                                                            \n",
       "100061       12500.0           48.0          7400       0       0   \n",
       "100139      120000.0           53.0         57000       0       0   \n",
       "100284       58000.0           47.0         50000       0       0   \n",
       "100292           NaN            4.0         62760       1       0   \n",
       "100583       30000.0           53.0         18500       0       0   \n",
       "100833       39000.0           45.0         37000       0       0   \n",
       "100931       56000.0           53.0         60200       1       0   \n",
       "101089       36000.0           53.0         32307       0       0   \n",
       "101122           NaN            NaN            -4       0       0   \n",
       "101132           0.0           22.0          2470       0       0   \n",
       "\n",
       "          wageincomeimp  \n",
       "personid                 \n",
       "100061      12500.00000  \n",
       "100139     120000.00000  \n",
       "100284      58000.00000  \n",
       "100292      61213.87234  \n",
       "100583      30000.00000  \n",
       "100833      39000.00000  \n",
       "100931      56000.00000  \n",
       "101089      36000.00000  \n",
       "101122      42402.12766  \n",
       "101132          0.00000  "
      ]
     },
     "execution_count": 65,
     "metadata": {},
     "output_type": "execute_result"
    }
   ],
   "source": [
    "wage_data = wage_data.join(wage_data_imp[[\"wageincomeimp\", \"weeksworked16imp\"]])\n",
    "wage_data[\n",
    "    [\"wageincome\", \"weeksworked16\", \"parentincome\", \"degcol\", \"degadv\", \"wageincomeimp\"]\n",
    "].head(10)"
   ]
  },
  {
   "cell_type": "code",
   "execution_count": 66,
   "id": "61e69d9d-9f28-45dd-8b3f-f4959ae724ef",
   "metadata": {
    "tags": []
   },
   "outputs": [
    {
     "data": {
      "text/html": [
       "<div>\n",
       "<style scoped>\n",
       "    .dataframe tbody tr th:only-of-type {\n",
       "        vertical-align: middle;\n",
       "    }\n",
       "\n",
       "    .dataframe tbody tr th {\n",
       "        vertical-align: top;\n",
       "    }\n",
       "\n",
       "    .dataframe thead th {\n",
       "        text-align: right;\n",
       "    }\n",
       "</style>\n",
       "<table border=\"1\" class=\"dataframe\">\n",
       "  <thead>\n",
       "    <tr style=\"text-align: right;\">\n",
       "      <th></th>\n",
       "      <th>wageincome</th>\n",
       "      <th>wageincomeimp</th>\n",
       "    </tr>\n",
       "  </thead>\n",
       "  <tbody>\n",
       "    <tr>\n",
       "      <th>count</th>\n",
       "      <td>5091.000000</td>\n",
       "      <td>8984.000000</td>\n",
       "    </tr>\n",
       "    <tr>\n",
       "      <th>mean</th>\n",
       "      <td>49477.022196</td>\n",
       "      <td>47504.603655</td>\n",
       "    </tr>\n",
       "    <tr>\n",
       "      <th>std</th>\n",
       "      <td>40677.696798</td>\n",
       "      <td>31990.535058</td>\n",
       "    </tr>\n",
       "  </tbody>\n",
       "</table>\n",
       "</div>"
      ],
      "text/plain": [
       "         wageincome  wageincomeimp\n",
       "count   5091.000000    8984.000000\n",
       "mean   49477.022196   47504.603655\n",
       "std    40677.696798   31990.535058"
      ]
     },
     "execution_count": 66,
     "metadata": {},
     "output_type": "execute_result"
    }
   ],
   "source": [
    "wage_data[[\"wageincome\", \"wageincomeimp\"]].agg([\"count\", \"mean\", \"std\"])  # CMS"
   ]
  },
  {
   "cell_type": "markdown",
   "id": "03a32966-8592-464b-80f4-71a000104cd6",
   "metadata": {},
   "source": [
    "### Summary\n",
    "\n",
    "KNN does imputations without making any assumptions about the distribution of the underlying data. With regression imputation, the standard assumptions for linear regression apply - that is, that there is a linear relationship between features and that they are distributed normally. \n",
    "\n",
    "KNN imputation has some limitations\n",
    "- we must tune the model with an initial assumption about a good value for `k`\n",
    "- KNN is computationally more expensive and may be impractical for large datasets"
   ]
  },
  {
   "cell_type": "markdown",
   "id": "0dddb366-502e-469c-b813-2963045d7009",
   "metadata": {},
   "source": [
    "## Using random forest for imputation"
   ]
  },
  {
   "cell_type": "code",
   "execution_count": 68,
   "id": "d3312613-ea6e-4e12-a954-acbb73241aec",
   "metadata": {
    "tags": []
   },
   "outputs": [],
   "source": [
    "!pip install -qq missingpy"
   ]
  },
  {
   "cell_type": "code",
   "execution_count": 70,
   "id": "a7c9ba51-100a-4986-8fb9-019da0bf2064",
   "metadata": {
    "tags": []
   },
   "outputs": [],
   "source": [
    "import sys\n",
    "\n",
    "import sklearn.neighbors._base\n",
    "\n",
    "sys.modules[\"sklearn.neighbors.base\"] = sklearn.neighbors._base\n",
    "from missingpy import MissForest\n",
    "\n",
    "nls97 = load_nls97b()"
   ]
  },
  {
   "cell_type": "code",
   "execution_count": 71,
   "id": "827561c9-0e11-48b3-9991-5fb90f64f276",
   "metadata": {
    "tags": []
   },
   "outputs": [],
   "source": [
    "nls97.parentincome.fillna(nls97.parentincome.mean(), inplace=True)\n",
    "nls97[\"hdegnum\"] = nls97.highestdegree.str[0:1].astype(\"float\")\n",
    "nls97[\"degltcol\"] = np.where(nls97.hdegnum <= 2, 1, 0)\n",
    "nls97[\"degcol\"] = np.where(nls97.hdegnum.between(3, 4), 1, 0)\n",
    "nls97[\"degadv\"] = np.where(nls97.hdegnum > 4, 1, 0)"
   ]
  },
  {
   "cell_type": "code",
   "execution_count": 72,
   "id": "904ba567-d427-482f-b9b1-81d1550ad144",
   "metadata": {
    "tags": []
   },
   "outputs": [],
   "source": [
    "wage_data_list = [\n",
    "    \"wageincome\",\n",
    "    \"weeksworked16\",\n",
    "    \"parentincome\",\n",
    "    \"degltcol\",\n",
    "    \"degcol\",\n",
    "    \"degadv\",\n",
    "]\n",
    "wage_data = nls97[wage_data_list]"
   ]
  },
  {
   "cell_type": "code",
   "execution_count": 73,
   "id": "5a796fd0-f0d2-486d-bf46-d370a72d62ba",
   "metadata": {
    "tags": []
   },
   "outputs": [
    {
     "name": "stderr",
     "output_type": "stream",
     "text": [
      "/usr/local/lib/python3.9/site-packages/sklearn/ensemble/_forest.py:400: FutureWarning: Criterion 'mse' was deprecated in v1.0 and will be removed in version 1.2. Use `criterion='squared_error'` which is equivalent.\n",
      "  warn(\n",
      "/usr/local/lib/python3.9/site-packages/sklearn/ensemble/_forest.py:416: FutureWarning: `max_features='auto'` has been deprecated in 1.1 and will be removed in 1.3. To keep the past behaviour, explicitly set `max_features=1.0` or remove this parameter as it is also the default value for RandomForestRegressors and ExtraTreesRegressors.\n",
      "  warn(\n",
      "/usr/local/lib/python3.9/site-packages/sklearn/ensemble/_forest.py:400: FutureWarning: Criterion 'mse' was deprecated in v1.0 and will be removed in version 1.2. Use `criterion='squared_error'` which is equivalent.\n",
      "  warn(\n",
      "/usr/local/lib/python3.9/site-packages/sklearn/ensemble/_forest.py:416: FutureWarning: `max_features='auto'` has been deprecated in 1.1 and will be removed in 1.3. To keep the past behaviour, explicitly set `max_features=1.0` or remove this parameter as it is also the default value for RandomForestRegressors and ExtraTreesRegressors.\n",
      "  warn(\n"
     ]
    },
    {
     "name": "stdout",
     "output_type": "stream",
     "text": [
      "Iteration: 0\n"
     ]
    },
    {
     "name": "stderr",
     "output_type": "stream",
     "text": [
      "/usr/local/lib/python3.9/site-packages/sklearn/ensemble/_forest.py:400: FutureWarning: Criterion 'mse' was deprecated in v1.0 and will be removed in version 1.2. Use `criterion='squared_error'` which is equivalent.\n",
      "  warn(\n",
      "/usr/local/lib/python3.9/site-packages/sklearn/ensemble/_forest.py:416: FutureWarning: `max_features='auto'` has been deprecated in 1.1 and will be removed in 1.3. To keep the past behaviour, explicitly set `max_features=1.0` or remove this parameter as it is also the default value for RandomForestRegressors and ExtraTreesRegressors.\n",
      "  warn(\n",
      "/usr/local/lib/python3.9/site-packages/sklearn/ensemble/_forest.py:400: FutureWarning: Criterion 'mse' was deprecated in v1.0 and will be removed in version 1.2. Use `criterion='squared_error'` which is equivalent.\n",
      "  warn(\n",
      "/usr/local/lib/python3.9/site-packages/sklearn/ensemble/_forest.py:416: FutureWarning: `max_features='auto'` has been deprecated in 1.1 and will be removed in 1.3. To keep the past behaviour, explicitly set `max_features=1.0` or remove this parameter as it is also the default value for RandomForestRegressors and ExtraTreesRegressors.\n",
      "  warn(\n"
     ]
    },
    {
     "name": "stdout",
     "output_type": "stream",
     "text": [
      "Iteration: 1\n"
     ]
    },
    {
     "name": "stderr",
     "output_type": "stream",
     "text": [
      "/usr/local/lib/python3.9/site-packages/sklearn/ensemble/_forest.py:400: FutureWarning: Criterion 'mse' was deprecated in v1.0 and will be removed in version 1.2. Use `criterion='squared_error'` which is equivalent.\n",
      "  warn(\n",
      "/usr/local/lib/python3.9/site-packages/sklearn/ensemble/_forest.py:416: FutureWarning: `max_features='auto'` has been deprecated in 1.1 and will be removed in 1.3. To keep the past behaviour, explicitly set `max_features=1.0` or remove this parameter as it is also the default value for RandomForestRegressors and ExtraTreesRegressors.\n",
      "  warn(\n",
      "/usr/local/lib/python3.9/site-packages/sklearn/ensemble/_forest.py:400: FutureWarning: Criterion 'mse' was deprecated in v1.0 and will be removed in version 1.2. Use `criterion='squared_error'` which is equivalent.\n",
      "  warn(\n",
      "/usr/local/lib/python3.9/site-packages/sklearn/ensemble/_forest.py:416: FutureWarning: `max_features='auto'` has been deprecated in 1.1 and will be removed in 1.3. To keep the past behaviour, explicitly set `max_features=1.0` or remove this parameter as it is also the default value for RandomForestRegressors and ExtraTreesRegressors.\n",
      "  warn(\n"
     ]
    },
    {
     "name": "stdout",
     "output_type": "stream",
     "text": [
      "Iteration: 2\n"
     ]
    }
   ],
   "source": [
    "imputer = MissForest()\n",
    "new_values = imputer.fit_transform(wage_data)\n",
    "wage_data_list_imp = [\n",
    "    \"wageincomeimp\",\n",
    "    \"weeksworked16imp\",\n",
    "    \"parentincomeimp\",\n",
    "    \"degltcol\",\n",
    "    \"degcol\",\n",
    "    \"degadv\",\n",
    "]\n",
    "wage_data_imp = pd.DataFrame(\n",
    "    new_values, columns=wage_data_list_imp, index=wage_data.index\n",
    ")"
   ]
  },
  {
   "cell_type": "code",
   "execution_count": 74,
   "id": "8483d5bc-731f-498f-a58e-7bcbbeb2a1d6",
   "metadata": {
    "tags": []
   },
   "outputs": [
    {
     "data": {
      "text/html": [
       "<div>\n",
       "<style scoped>\n",
       "    .dataframe tbody tr th:only-of-type {\n",
       "        vertical-align: middle;\n",
       "    }\n",
       "\n",
       "    .dataframe tbody tr th {\n",
       "        vertical-align: top;\n",
       "    }\n",
       "\n",
       "    .dataframe thead th {\n",
       "        text-align: right;\n",
       "    }\n",
       "</style>\n",
       "<table border=\"1\" class=\"dataframe\">\n",
       "  <thead>\n",
       "    <tr style=\"text-align: right;\">\n",
       "      <th></th>\n",
       "      <th>wageincome</th>\n",
       "      <th>weeksworked16</th>\n",
       "      <th>parentincome</th>\n",
       "      <th>degcol</th>\n",
       "      <th>degadv</th>\n",
       "      <th>wageincomeimp</th>\n",
       "    </tr>\n",
       "    <tr>\n",
       "      <th>personid</th>\n",
       "      <th></th>\n",
       "      <th></th>\n",
       "      <th></th>\n",
       "      <th></th>\n",
       "      <th></th>\n",
       "      <th></th>\n",
       "    </tr>\n",
       "  </thead>\n",
       "  <tbody>\n",
       "    <tr>\n",
       "      <th>100061</th>\n",
       "      <td>12500.0</td>\n",
       "      <td>48.0</td>\n",
       "      <td>7400</td>\n",
       "      <td>0</td>\n",
       "      <td>0</td>\n",
       "      <td>12500.000000</td>\n",
       "    </tr>\n",
       "    <tr>\n",
       "      <th>100139</th>\n",
       "      <td>120000.0</td>\n",
       "      <td>53.0</td>\n",
       "      <td>57000</td>\n",
       "      <td>0</td>\n",
       "      <td>0</td>\n",
       "      <td>120000.000000</td>\n",
       "    </tr>\n",
       "    <tr>\n",
       "      <th>100284</th>\n",
       "      <td>58000.0</td>\n",
       "      <td>47.0</td>\n",
       "      <td>50000</td>\n",
       "      <td>0</td>\n",
       "      <td>0</td>\n",
       "      <td>58000.000000</td>\n",
       "    </tr>\n",
       "    <tr>\n",
       "      <th>100292</th>\n",
       "      <td>NaN</td>\n",
       "      <td>4.0</td>\n",
       "      <td>62760</td>\n",
       "      <td>1</td>\n",
       "      <td>0</td>\n",
       "      <td>22040.000000</td>\n",
       "    </tr>\n",
       "    <tr>\n",
       "      <th>100583</th>\n",
       "      <td>30000.0</td>\n",
       "      <td>53.0</td>\n",
       "      <td>18500</td>\n",
       "      <td>0</td>\n",
       "      <td>0</td>\n",
       "      <td>30000.000000</td>\n",
       "    </tr>\n",
       "    <tr>\n",
       "      <th>100833</th>\n",
       "      <td>39000.0</td>\n",
       "      <td>45.0</td>\n",
       "      <td>37000</td>\n",
       "      <td>0</td>\n",
       "      <td>0</td>\n",
       "      <td>39000.000000</td>\n",
       "    </tr>\n",
       "    <tr>\n",
       "      <th>100931</th>\n",
       "      <td>56000.0</td>\n",
       "      <td>53.0</td>\n",
       "      <td>60200</td>\n",
       "      <td>1</td>\n",
       "      <td>0</td>\n",
       "      <td>56000.000000</td>\n",
       "    </tr>\n",
       "    <tr>\n",
       "      <th>101089</th>\n",
       "      <td>36000.0</td>\n",
       "      <td>53.0</td>\n",
       "      <td>32307</td>\n",
       "      <td>0</td>\n",
       "      <td>0</td>\n",
       "      <td>36000.000000</td>\n",
       "    </tr>\n",
       "    <tr>\n",
       "      <th>101122</th>\n",
       "      <td>NaN</td>\n",
       "      <td>NaN</td>\n",
       "      <td>-4</td>\n",
       "      <td>0</td>\n",
       "      <td>0</td>\n",
       "      <td>14956.133333</td>\n",
       "    </tr>\n",
       "    <tr>\n",
       "      <th>101132</th>\n",
       "      <td>0.0</td>\n",
       "      <td>22.0</td>\n",
       "      <td>2470</td>\n",
       "      <td>0</td>\n",
       "      <td>0</td>\n",
       "      <td>0.000000</td>\n",
       "    </tr>\n",
       "  </tbody>\n",
       "</table>\n",
       "</div>"
      ],
      "text/plain": [
       "          wageincome  weeksworked16  parentincome  degcol  degadv  \\\n",
       "personid                                                            \n",
       "100061       12500.0           48.0          7400       0       0   \n",
       "100139      120000.0           53.0         57000       0       0   \n",
       "100284       58000.0           47.0         50000       0       0   \n",
       "100292           NaN            4.0         62760       1       0   \n",
       "100583       30000.0           53.0         18500       0       0   \n",
       "100833       39000.0           45.0         37000       0       0   \n",
       "100931       56000.0           53.0         60200       1       0   \n",
       "101089       36000.0           53.0         32307       0       0   \n",
       "101122           NaN            NaN            -4       0       0   \n",
       "101132           0.0           22.0          2470       0       0   \n",
       "\n",
       "          wageincomeimp  \n",
       "personid                 \n",
       "100061     12500.000000  \n",
       "100139    120000.000000  \n",
       "100284     58000.000000  \n",
       "100292     22040.000000  \n",
       "100583     30000.000000  \n",
       "100833     39000.000000  \n",
       "100931     56000.000000  \n",
       "101089     36000.000000  \n",
       "101122     14956.133333  \n",
       "101132         0.000000  "
      ]
     },
     "execution_count": 74,
     "metadata": {},
     "output_type": "execute_result"
    }
   ],
   "source": [
    "wage_data = wage_data.join(wage_data_imp[[\"wageincomeimp\", \"weeksworked16imp\"]])\n",
    "wage_data[\n",
    "    [\"wageincome\", \"weeksworked16\", \"parentincome\", \"degcol\", \"degadv\", \"wageincomeimp\"]\n",
    "].head(10)"
   ]
  },
  {
   "cell_type": "code",
   "execution_count": 75,
   "id": "5dd8c9c4-c768-4516-a6b1-96f70686f2d0",
   "metadata": {
    "tags": []
   },
   "outputs": [
    {
     "data": {
      "text/html": [
       "<div>\n",
       "<style scoped>\n",
       "    .dataframe tbody tr th:only-of-type {\n",
       "        vertical-align: middle;\n",
       "    }\n",
       "\n",
       "    .dataframe tbody tr th {\n",
       "        vertical-align: top;\n",
       "    }\n",
       "\n",
       "    .dataframe thead th {\n",
       "        text-align: right;\n",
       "    }\n",
       "</style>\n",
       "<table border=\"1\" class=\"dataframe\">\n",
       "  <thead>\n",
       "    <tr style=\"text-align: right;\">\n",
       "      <th></th>\n",
       "      <th>wageincome</th>\n",
       "      <th>wageincomeimp</th>\n",
       "    </tr>\n",
       "  </thead>\n",
       "  <tbody>\n",
       "    <tr>\n",
       "      <th>count</th>\n",
       "      <td>5091.000000</td>\n",
       "      <td>8984.000000</td>\n",
       "    </tr>\n",
       "    <tr>\n",
       "      <th>mean</th>\n",
       "      <td>49477.022196</td>\n",
       "      <td>40675.682434</td>\n",
       "    </tr>\n",
       "    <tr>\n",
       "      <th>std</th>\n",
       "      <td>40677.696798</td>\n",
       "      <td>35139.887381</td>\n",
       "    </tr>\n",
       "  </tbody>\n",
       "</table>\n",
       "</div>"
      ],
      "text/plain": [
       "         wageincome  wageincomeimp\n",
       "count   5091.000000    8984.000000\n",
       "mean   49477.022196   40675.682434\n",
       "std    40677.696798   35139.887381"
      ]
     },
     "execution_count": 75,
     "metadata": {},
     "output_type": "execute_result"
    }
   ],
   "source": [
    "wage_data[[\"wageincome\", \"wageincomeimp\"]].agg([\"count\", \"mean\", \"std\"])  # CMS"
   ]
  },
  {
   "cell_type": "markdown",
   "id": "fdc2a9c6-ae9e-4e33-8cd8-bf5ca0b28780",
   "metadata": {},
   "source": [
    "### Summary\n",
    "\n",
    "`MissForest` uses the random forest algorithm to generate highly accurate predictions.\n",
    "\n",
    "Unlike KNN, it doesn't need to be tuned with an initial value for `k`. It is also computationally less expensive than KNN.\n",
    "\n",
    "Random forest imputation is less sensitive to low or very high correlation among features."
   ]
  }
 ],
 "metadata": {
  "kernelspec": {
   "display_name": "Python 3 (ipykernel)",
   "language": "python",
   "name": "python3"
  },
  "language_info": {
   "codemirror_mode": {
    "name": "ipython",
    "version": 3
   },
   "file_extension": ".py",
   "mimetype": "text/x-python",
   "name": "python",
   "nbconvert_exporter": "python",
   "pygments_lexer": "ipython3",
   "version": "3.9.16"
  }
 },
 "nbformat": 4,
 "nbformat_minor": 5
}
