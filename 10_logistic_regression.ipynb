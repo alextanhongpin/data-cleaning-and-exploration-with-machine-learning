{
 "cells": [
  {
   "cell_type": "markdown",
   "id": "84f510c5-6df1-47bd-9fd3-de4098edc55f",
   "metadata": {},
   "source": [
    "# Logistic Regression\n",
    "\n",
    "- similar to linear regression in that logistic regression predicts a target based on weights assigned to each feature\n",
    "- sigmoid function is used to constrain the predicted probability to between 0 and 1\n",
    "- sigmoid function $f(x) = \\frac{1}{1+e^{-x}}$\n",
    "- as x approaches infinity, f(x) gets closer to 1\n",
    "- as x approaches negative infinity, f(x) gets closer to 0\n",
    "\n",
    "Why use logistic regression for classification problems?\n",
    "- features can be dichotomous, categorical or numerical\n",
    "- features does not need to be normally distributed\n",
    "- the target variable can have more than two possible values, and can be nominal or ordinal\n",
    "- relationship between features and the target is not assumed to be linear"
   ]
  },
  {
   "cell_type": "markdown",
   "id": "606b4743-1c98-4fa0-9683-c7907f592ce3",
   "metadata": {},
   "source": [
    "## Binary Classification with Logistic Regression\n",
    "\n",
    "### Goal\n",
    "\n",
    "We will build a model to predict if an individual will have heart disease based on personal characteristics such as smoking and alcohol drinking habits; health features, including BMP, asthma, diabetes, and skin cancer; and age."
   ]
  },
  {
   "cell_type": "markdown",
   "id": "2927ef9e-8f8a-4bee-888d-896e1cf7bd3c",
   "metadata": {},
   "source": [
    "### Importing dependencies"
   ]
  },
  {
   "cell_type": "code",
   "execution_count": 1,
   "id": "bcdebe0b-dbfc-4e2f-81b5-df283e794b63",
   "metadata": {
    "tags": []
   },
   "outputs": [],
   "source": [
    "import matplotlib.pyplot as plt\n",
    "import numpy as np\n",
    "import pandas as pd\n",
    "import seaborn as sns\n",
    "import sklearn.metrics as skmet\n",
    "from sklearn.compose import ColumnTransformer\n",
    "from sklearn.feature_selection import RFECV\n",
    "from sklearn.impute import SimpleImputer\n",
    "from sklearn.linear_model import LogisticRegression\n",
    "from sklearn.model_selection import StratifiedKFold, train_test_split\n",
    "from sklearn.pipeline import make_pipeline\n",
    "from sklearn.preprocessing import OneHotEncoder, StandardScaler\n",
    "\n",
    "from data.load import load_healthinfosample\n",
    "\n",
    "# Custom dependencies\n",
    "from preprocfunc import MakeOrdinal, OutlierTrans, ReplaceVals"
   ]
  },
  {
   "cell_type": "markdown",
   "id": "9e433fc2-4001-456d-8b67-fb9c99776976",
   "metadata": {},
   "source": [
    "### Load data"
   ]
  },
  {
   "cell_type": "code",
   "execution_count": 2,
   "id": "b62028bf-0901-4db4-81a1-2e480c401674",
   "metadata": {
    "tags": []
   },
   "outputs": [
    {
     "data": {
      "text/html": [
       "<div>\n",
       "<style scoped>\n",
       "    .dataframe tbody tr th:only-of-type {\n",
       "        vertical-align: middle;\n",
       "    }\n",
       "\n",
       "    .dataframe tbody tr th {\n",
       "        vertical-align: top;\n",
       "    }\n",
       "\n",
       "    .dataframe thead th {\n",
       "        text-align: right;\n",
       "    }\n",
       "</style>\n",
       "<table border=\"1\" class=\"dataframe\">\n",
       "  <thead>\n",
       "    <tr style=\"text-align: right;\">\n",
       "      <th>personid</th>\n",
       "      <th>299391</th>\n",
       "      <th>252786</th>\n",
       "    </tr>\n",
       "  </thead>\n",
       "  <tbody>\n",
       "    <tr>\n",
       "      <th>heartdisease</th>\n",
       "      <td>Yes</td>\n",
       "      <td>No</td>\n",
       "    </tr>\n",
       "    <tr>\n",
       "      <th>bmi</th>\n",
       "      <td>28.48</td>\n",
       "      <td>25.24</td>\n",
       "    </tr>\n",
       "    <tr>\n",
       "      <th>smoking</th>\n",
       "      <td>Yes</td>\n",
       "      <td>Yes</td>\n",
       "    </tr>\n",
       "    <tr>\n",
       "      <th>alcoholdrinkingheavy</th>\n",
       "      <td>No</td>\n",
       "      <td>No</td>\n",
       "    </tr>\n",
       "    <tr>\n",
       "      <th>stroke</th>\n",
       "      <td>No</td>\n",
       "      <td>No</td>\n",
       "    </tr>\n",
       "    <tr>\n",
       "      <th>physicalhealthbaddays</th>\n",
       "      <td>7</td>\n",
       "      <td>0</td>\n",
       "    </tr>\n",
       "    <tr>\n",
       "      <th>mentalhealthbaddays</th>\n",
       "      <td>0</td>\n",
       "      <td>2</td>\n",
       "    </tr>\n",
       "    <tr>\n",
       "      <th>walkingdifficult</th>\n",
       "      <td>No</td>\n",
       "      <td>No</td>\n",
       "    </tr>\n",
       "    <tr>\n",
       "      <th>gender</th>\n",
       "      <td>Male</td>\n",
       "      <td>Female</td>\n",
       "    </tr>\n",
       "    <tr>\n",
       "      <th>agecategory</th>\n",
       "      <td>70-74</td>\n",
       "      <td>65-69</td>\n",
       "    </tr>\n",
       "    <tr>\n",
       "      <th>ethnicity</th>\n",
       "      <td>White</td>\n",
       "      <td>White</td>\n",
       "    </tr>\n",
       "    <tr>\n",
       "      <th>diabetic</th>\n",
       "      <td>No, borderline diabetes</td>\n",
       "      <td>No</td>\n",
       "    </tr>\n",
       "    <tr>\n",
       "      <th>physicalactivity</th>\n",
       "      <td>Yes</td>\n",
       "      <td>Yes</td>\n",
       "    </tr>\n",
       "    <tr>\n",
       "      <th>genhealth</th>\n",
       "      <td>Good</td>\n",
       "      <td>Very good</td>\n",
       "    </tr>\n",
       "    <tr>\n",
       "      <th>sleeptimenightly</th>\n",
       "      <td>8</td>\n",
       "      <td>8</td>\n",
       "    </tr>\n",
       "    <tr>\n",
       "      <th>asthma</th>\n",
       "      <td>No</td>\n",
       "      <td>No</td>\n",
       "    </tr>\n",
       "    <tr>\n",
       "      <th>kidneydisease</th>\n",
       "      <td>No</td>\n",
       "      <td>No</td>\n",
       "    </tr>\n",
       "    <tr>\n",
       "      <th>skincancer</th>\n",
       "      <td>No</td>\n",
       "      <td>Yes</td>\n",
       "    </tr>\n",
       "  </tbody>\n",
       "</table>\n",
       "</div>"
      ],
      "text/plain": [
       "personid                                299391     252786\n",
       "heartdisease                               Yes         No\n",
       "bmi                                      28.48      25.24\n",
       "smoking                                    Yes        Yes\n",
       "alcoholdrinkingheavy                        No         No\n",
       "stroke                                      No         No\n",
       "physicalhealthbaddays                        7          0\n",
       "mentalhealthbaddays                          0          2\n",
       "walkingdifficult                            No         No\n",
       "gender                                    Male     Female\n",
       "agecategory                              70-74      65-69\n",
       "ethnicity                                White      White\n",
       "diabetic               No, borderline diabetes         No\n",
       "physicalactivity                           Yes        Yes\n",
       "genhealth                                 Good  Very good\n",
       "sleeptimenightly                             8          8\n",
       "asthma                                      No         No\n",
       "kidneydisease                               No         No\n",
       "skincancer                                  No        Yes"
      ]
     },
     "execution_count": 2,
     "metadata": {},
     "output_type": "execute_result"
    }
   ],
   "source": [
    "healthinfo = load_healthinfosample()\n",
    "healthinfo.head(2).T"
   ]
  },
  {
   "cell_type": "markdown",
   "id": "1649b443-1ceb-4011-b904-2be677c32321",
   "metadata": {},
   "source": [
    "^ The `agecategory` feature is a character data that represents the age interval. We will need to convert that feature into numeric.\n",
    "\n",
    "```\n",
    "agecategory\t70-74\t65-69\n",
    "```"
   ]
  },
  {
   "cell_type": "markdown",
   "id": "6c59122b-8d35-45a1-9778-575480da98fb",
   "metadata": {},
   "source": [
    "### Check for missing values"
   ]
  },
  {
   "cell_type": "code",
   "execution_count": 3,
   "id": "99d07aef-ef60-4d2a-bfb1-6ffb51cb192a",
   "metadata": {
    "tags": []
   },
   "outputs": [
    {
     "data": {
      "text/plain": [
       "(30000, 18)"
      ]
     },
     "execution_count": 3,
     "metadata": {},
     "output_type": "execute_result"
    }
   ],
   "source": [
    "healthinfo.shape"
   ]
  },
  {
   "cell_type": "code",
   "execution_count": 4,
   "id": "877a3c46-e02b-4960-9432-3791dd0b1303",
   "metadata": {
    "tags": []
   },
   "outputs": [
    {
     "data": {
      "text/plain": [
       "heartdisease             0\n",
       "bmi                      0\n",
       "smoking                  0\n",
       "alcoholdrinkingheavy     0\n",
       "stroke                   0\n",
       "physicalhealthbaddays    0\n",
       "mentalhealthbaddays      0\n",
       "walkingdifficult         0\n",
       "gender                   0\n",
       "agecategory              0\n",
       "ethnicity                0\n",
       "diabetic                 0\n",
       "physicalactivity         0\n",
       "genhealth                0\n",
       "sleeptimenightly         0\n",
       "asthma                   0\n",
       "kidneydisease            0\n",
       "skincancer               0\n",
       "dtype: int64"
      ]
     },
     "execution_count": 4,
     "metadata": {},
     "output_type": "execute_result"
    }
   ],
   "source": [
    "healthinfo.isnull().sum()"
   ]
  },
  {
   "cell_type": "markdown",
   "id": "6a057df4-c83b-418d-af73-77f362ac9079",
   "metadata": {
    "tags": []
   },
   "source": [
    "^ We don't have any missing values. "
   ]
  },
  {
   "cell_type": "markdown",
   "id": "892af76e-46a2-4163-a9b4-a192cf659a54",
   "metadata": {},
   "source": [
    "### Target column\n",
    "\n",
    "The target column is `heartdisease`. We need to transform it into a `0` and `1` variable."
   ]
  },
  {
   "cell_type": "code",
   "execution_count": 5,
   "id": "79f0aad8-bc0c-46f1-a2a2-d055c4c01f06",
   "metadata": {
    "tags": []
   },
   "outputs": [
    {
     "data": {
      "text/plain": [
       "No     27467\n",
       "Yes     2533\n",
       "Name: heartdisease, dtype: int64"
      ]
     },
     "execution_count": 5,
     "metadata": {},
     "output_type": "execute_result"
    }
   ],
   "source": [
    "healthinfo.heartdisease.value_counts()"
   ]
  },
  {
   "cell_type": "code",
   "execution_count": 6,
   "id": "470a5218-d2dd-433d-a48a-329c546d53c5",
   "metadata": {
    "tags": []
   },
   "outputs": [
    {
     "data": {
      "text/plain": [
       "No     0.915567\n",
       "Yes    0.084433\n",
       "Name: heartdisease, dtype: float64"
      ]
     },
     "execution_count": 6,
     "metadata": {},
     "output_type": "execute_result"
    }
   ],
   "source": [
    "healthinfo.heartdisease.value_counts(normalize=True)"
   ]
  },
  {
   "cell_type": "markdown",
   "id": "58ea8469-aa9e-4c1b-a3d0-ace1f34e5a5e",
   "metadata": {},
   "source": [
    "^ Less than 10% of our observations have heartdisease. Our target's values are quite imbalanced."
   ]
  },
  {
   "cell_type": "code",
   "execution_count": 7,
   "id": "257bd7ed-4b31-48d7-86e7-d4025f8cc272",
   "metadata": {
    "tags": []
   },
   "outputs": [],
   "source": [
    "healthinfo[\"heartdisease\"] = np.where(healthinfo.heartdisease == \"No\", 0, 1).astype(int)"
   ]
  },
  {
   "cell_type": "code",
   "execution_count": 8,
   "id": "9f65bfed-40ad-48e6-af8b-296a16b9e2c0",
   "metadata": {
    "tags": []
   },
   "outputs": [
    {
     "data": {
      "text/plain": [
       "0    27467\n",
       "1     2533\n",
       "Name: heartdisease, dtype: int64"
      ]
     },
     "execution_count": 8,
     "metadata": {},
     "output_type": "execute_result"
    }
   ],
   "source": [
    "healthinfo.heartdisease.value_counts()"
   ]
  },
  {
   "cell_type": "markdown",
   "id": "fc7d7fed-5441-4a10-9c40-796dc13a6865",
   "metadata": {
    "tags": []
   },
   "source": [
    "### Preprocessing\n",
    "\n",
    "- scaling `numeric` features\n",
    "- one-hot encoding `categorical` features\n",
    "- convert to `ordinal` features"
   ]
  },
  {
   "cell_type": "code",
   "execution_count": 9,
   "id": "5de68b80-84e8-47df-8b08-33628b0c17fd",
   "metadata": {
    "tags": []
   },
   "outputs": [],
   "source": [
    "num_cols = [\"bmi\", \"physicalhealthbaddays\", \"mentalhealthbaddays\", \"sleeptimenightly\"]\n",
    "binary_cols = [\n",
    "    \"smoking\",\n",
    "    \"alcoholdrinkingheavy\",\n",
    "    \"stroke\",\n",
    "    \"walkingdifficult\",\n",
    "    \"physicalactivity\",\n",
    "    \"asthma\",\n",
    "    \"kidneydisease\",\n",
    "    \"skincancer\",\n",
    "]\n",
    "\n",
    "cat_cols = [\"gender\", \"ethnicity\"]\n",
    "spec_cols1 = [\"agecategory\"]\n",
    "spec_cols2 = [\"genhealth\"]\n",
    "spec_cols3 = [\"diabetic\"]"
   ]
  },
  {
   "cell_type": "code",
   "execution_count": 10,
   "id": "2b303c07-64f4-4467-8387-a4f654df680a",
   "metadata": {
    "tags": []
   },
   "outputs": [],
   "source": [
    "rep_dict = {\n",
    "    \"genhealth\": {\"Poor\": 0, \"Fair\": 1, \"Good\": 2, \"Very good\": 3, \"Excellent\": 4},\n",
    "    \"diabetic\": {\n",
    "        \"No\": 0,\n",
    "        \"No, borderline diabetes\": 0,\n",
    "        \"Yes\": 1,\n",
    "        \"Yes (during pregnancy)\": 1,\n",
    "    },\n",
    "}"
   ]
  },
  {
   "cell_type": "markdown",
   "id": "a9bbcd3e-3a2f-4397-a966-ed8ba6faaf80",
   "metadata": {},
   "source": [
    "### EDA\n",
    "- explore binary features\n",
    "- explore categorical features\n",
    "- explore numeric features"
   ]
  },
  {
   "cell_type": "code",
   "execution_count": 11,
   "id": "c0d42ec0-336a-44e4-88c6-6de012929d9b",
   "metadata": {
    "tags": []
   },
   "outputs": [
    {
     "data": {
      "text/html": [
       "<div>\n",
       "<style scoped>\n",
       "    .dataframe tbody tr th:only-of-type {\n",
       "        vertical-align: middle;\n",
       "    }\n",
       "\n",
       "    .dataframe tbody tr th {\n",
       "        vertical-align: top;\n",
       "    }\n",
       "\n",
       "    .dataframe thead th {\n",
       "        text-align: right;\n",
       "    }\n",
       "</style>\n",
       "<table border=\"1\" class=\"dataframe\">\n",
       "  <thead>\n",
       "    <tr style=\"text-align: right;\">\n",
       "      <th></th>\n",
       "      <th>No</th>\n",
       "      <th>Yes</th>\n",
       "    </tr>\n",
       "  </thead>\n",
       "  <tbody>\n",
       "    <tr>\n",
       "      <th>smoking</th>\n",
       "      <td>0.584300</td>\n",
       "      <td>0.415700</td>\n",
       "    </tr>\n",
       "    <tr>\n",
       "      <th>alcoholdrinkingheavy</th>\n",
       "      <td>0.933133</td>\n",
       "      <td>0.066867</td>\n",
       "    </tr>\n",
       "    <tr>\n",
       "      <th>stroke</th>\n",
       "      <td>0.962200</td>\n",
       "      <td>0.037800</td>\n",
       "    </tr>\n",
       "    <tr>\n",
       "      <th>walkingdifficult</th>\n",
       "      <td>0.862467</td>\n",
       "      <td>0.137533</td>\n",
       "    </tr>\n",
       "    <tr>\n",
       "      <th>physicalactivity</th>\n",
       "      <td>0.227267</td>\n",
       "      <td>0.772733</td>\n",
       "    </tr>\n",
       "    <tr>\n",
       "      <th>asthma</th>\n",
       "      <td>0.865500</td>\n",
       "      <td>0.134500</td>\n",
       "    </tr>\n",
       "    <tr>\n",
       "      <th>kidneydisease</th>\n",
       "      <td>0.962500</td>\n",
       "      <td>0.037500</td>\n",
       "    </tr>\n",
       "    <tr>\n",
       "      <th>skincancer</th>\n",
       "      <td>0.906233</td>\n",
       "      <td>0.093767</td>\n",
       "    </tr>\n",
       "  </tbody>\n",
       "</table>\n",
       "</div>"
      ],
      "text/plain": [
       "                            No       Yes\n",
       "smoking               0.584300  0.415700\n",
       "alcoholdrinkingheavy  0.933133  0.066867\n",
       "stroke                0.962200  0.037800\n",
       "walkingdifficult      0.862467  0.137533\n",
       "physicalactivity      0.227267  0.772733\n",
       "asthma                0.865500  0.134500\n",
       "kidneydisease         0.962500  0.037500\n",
       "skincancer            0.906233  0.093767"
      ]
     },
     "execution_count": 11,
     "metadata": {},
     "output_type": "execute_result"
    }
   ],
   "source": [
    "healthinfo[binary_cols].apply(pd.value_counts, normalize=True).T"
   ]
  },
  {
   "cell_type": "markdown",
   "id": "8ab0577f-dc87-4bd2-949a-49c2f839cfaf",
   "metadata": {},
   "source": [
    "^ how to interpret? A large percentage of the individuals (42%) report that they have been smokers. 14% report that they have difficulty walking.\n",
    "\n",
    "Template:\n",
    "\n",
    "```\n",
    "n% report that <cause>\n",
    "```"
   ]
  },
  {
   "cell_type": "code",
   "execution_count": 12,
   "id": "b620c4a2-202d-4602-ad64-1f48ad9b5fff",
   "metadata": {
    "tags": []
   },
   "outputs": [
    {
     "name": "stdout",
     "output_type": "stream",
     "text": [
      "gender\n",
      "------------------------------\n",
      "Female    0.5229\n",
      "Male      0.4771\n",
      "Name: gender, dtype: float64\n",
      "\n",
      "ethnicity\n",
      "------------------------------\n",
      "American Indian/Alaskan Native    0.017000\n",
      "Asian                             0.026333\n",
      "Black                             0.070667\n",
      "Hispanic                          0.085733\n",
      "Other                             0.033533\n",
      "White                             0.766733\n",
      "Name: ethnicity, dtype: float64\n",
      "\n",
      "genhealth\n",
      "------------------------------\n",
      "Excellent    0.207200\n",
      "Fair         0.110733\n",
      "Good         0.291533\n",
      "Poor         0.035400\n",
      "Very good    0.355133\n",
      "Name: genhealth, dtype: float64\n",
      "\n",
      "diabetic\n",
      "------------------------------\n",
      "No                         0.844767\n",
      "No, borderline diabetes    0.022367\n",
      "Yes                        0.125100\n",
      "Yes (during pregnancy)     0.007767\n",
      "Name: diabetic, dtype: float64\n",
      "\n"
     ]
    }
   ],
   "source": [
    "for col in cat_cols + [\"genhealth\", \"diabetic\"]:\n",
    "    print(\n",
    "        col,\n",
    "        \"------------------------------\",\n",
    "        healthinfo[col].value_counts(normalize=True).sort_index(),\n",
    "        sep=\"\\n\",\n",
    "        end=\"\\n\\n\",\n",
    "    )"
   ]
  },
  {
   "cell_type": "markdown",
   "id": "8afecf80-fa47-4d9a-bb10-6178bfe8b18e",
   "metadata": {},
   "source": [
    "^ There are nearly equal numbers of men and women.\n",
    "\n",
    "Most people report excellent or very good health."
   ]
  },
  {
   "cell_type": "code",
   "execution_count": 13,
   "id": "f809fc6a-a54a-4783-8a8e-863b9649fb78",
   "metadata": {
    "tags": []
   },
   "outputs": [
    {
     "data": {
      "text/html": [
       "<div>\n",
       "<style scoped>\n",
       "    .dataframe tbody tr th:only-of-type {\n",
       "        vertical-align: middle;\n",
       "    }\n",
       "\n",
       "    .dataframe tbody tr th {\n",
       "        vertical-align: top;\n",
       "    }\n",
       "\n",
       "    .dataframe thead th {\n",
       "        text-align: right;\n",
       "    }\n",
       "</style>\n",
       "<table border=\"1\" class=\"dataframe\">\n",
       "  <thead>\n",
       "    <tr style=\"text-align: right;\">\n",
       "      <th></th>\n",
       "      <th>count</th>\n",
       "      <th>min</th>\n",
       "      <th>median</th>\n",
       "      <th>max</th>\n",
       "    </tr>\n",
       "  </thead>\n",
       "  <tbody>\n",
       "    <tr>\n",
       "      <th>bmi</th>\n",
       "      <td>30000.0</td>\n",
       "      <td>12.02</td>\n",
       "      <td>27.34</td>\n",
       "      <td>91.55</td>\n",
       "    </tr>\n",
       "    <tr>\n",
       "      <th>physicalhealthbaddays</th>\n",
       "      <td>30000.0</td>\n",
       "      <td>0.00</td>\n",
       "      <td>0.00</td>\n",
       "      <td>30.00</td>\n",
       "    </tr>\n",
       "    <tr>\n",
       "      <th>mentalhealthbaddays</th>\n",
       "      <td>30000.0</td>\n",
       "      <td>0.00</td>\n",
       "      <td>0.00</td>\n",
       "      <td>30.00</td>\n",
       "    </tr>\n",
       "    <tr>\n",
       "      <th>sleeptimenightly</th>\n",
       "      <td>30000.0</td>\n",
       "      <td>1.00</td>\n",
       "      <td>7.00</td>\n",
       "      <td>24.00</td>\n",
       "    </tr>\n",
       "  </tbody>\n",
       "</table>\n",
       "</div>"
      ],
      "text/plain": [
       "                         count    min  median    max\n",
       "bmi                    30000.0  12.02   27.34  91.55\n",
       "physicalhealthbaddays  30000.0   0.00    0.00  30.00\n",
       "mentalhealthbaddays    30000.0   0.00    0.00  30.00\n",
       "sleeptimenightly       30000.0   1.00    7.00  24.00"
      ]
     },
     "execution_count": 13,
     "metadata": {},
     "output_type": "execute_result"
    }
   ],
   "source": [
    "healthinfo[num_cols].agg([\"count\", \"min\", \"median\", \"max\"]).T"
   ]
  },
  {
   "cell_type": "markdown",
   "id": "743a4f36-f816-4c2d-a64b-2e9f58e1e8ed",
   "metadata": {},
   "source": [
    "- we need to do scaling\n",
    "- we need to do some encoding of the categorical features\n",
    "- we need to remove extreme values for some numerical features. A `sleeptimenightly` value of 24 seems unlikely"
   ]
  },
  {
   "cell_type": "markdown",
   "id": "51bbed69-025b-49f7-be4c-3919bfd16447",
   "metadata": {},
   "source": [
    "### Create train and test data"
   ]
  },
  {
   "cell_type": "code",
   "execution_count": 14,
   "id": "0c3102ad-14ff-45b0-8737-d2820abb586f",
   "metadata": {
    "tags": []
   },
   "outputs": [],
   "source": [
    "X_train, X_test, y_train, y_test = train_test_split(\n",
    "    healthinfo[\n",
    "        num_cols + binary_cols + cat_cols + spec_cols1 + spec_cols2 + spec_cols3\n",
    "    ],\n",
    "    healthinfo[\"heartdisease\"],\n",
    "    test_size=0.2,\n",
    "    random_state=0,\n",
    ")"
   ]
  },
  {
   "cell_type": "markdown",
   "id": "c6167090-e93a-4dbc-ad47-aca61f0ed9ce",
   "metadata": {},
   "source": [
    "### Column Transformation\n",
    "\n",
    "- categorical features - one-hot encoding\n",
    "- numeric features - remove extreme values, impute median\n",
    "- convert `agecategory` features into ordinal values using `MakeOrdinal`\n",
    "- replace `genhealth` and `diabetic` features using the `ReplaceVals`"
   ]
  },
  {
   "cell_type": "code",
   "execution_count": 15,
   "id": "c200248a-a5af-46cd-8fbe-28271ebcae1c",
   "metadata": {
    "tags": []
   },
   "outputs": [],
   "source": [
    "ohe = OneHotEncoder(drop=\"first\", sparse=False)\n",
    "\n",
    "standtrans = make_pipeline(\n",
    "    OutlierTrans(3), SimpleImputer(strategy=\"median\"), StandardScaler()\n",
    ")\n",
    "spectrans1 = make_pipeline(MakeOrdinal(), StandardScaler())\n",
    "spectrans2 = make_pipeline(ReplaceVals(rep_dict), StandardScaler())\n",
    "spectrans3 = make_pipeline(ReplaceVals(rep_dict))\n",
    "bintrans = make_pipeline(ohe)\n",
    "cattrans = make_pipeline(ohe)\n",
    "coltrans = ColumnTransformer(\n",
    "    transformers=[\n",
    "        (\"stand\", standtrans, num_cols),\n",
    "        (\"spec1\", spectrans1, spec_cols1),\n",
    "        (\"spec2\", spectrans2, spec_cols2),\n",
    "        (\"spec3\", spectrans3, spec_cols3),\n",
    "        (\"bin\", bintrans, binary_cols),\n",
    "        (\"cat\", cattrans, cat_cols),\n",
    "    ]\n",
    ")"
   ]
  },
  {
   "cell_type": "markdown",
   "id": "377b185e-12a5-4e41-aee8-d94a52ff3199",
   "metadata": {},
   "source": [
    "### Setup pipeline\n",
    "\n",
    "- setup a logistic regression and instantiate a stratified k-fold object\n",
    "- recall that the recursive feature elimination needs an estimator\n",
    "- remember that our dataset is imbalanced\n",
    "- we use stratified k-fold to get approximately the same target value distribution in each fold\n",
    "- we create another logistic regresion instance for our model\n",
    "- set the `class_weight` to `balanced` \n",
    "- this should improve the model's ability to deal with the class imbalance"
   ]
  },
  {
   "cell_type": "code",
   "execution_count": 16,
   "id": "1fb7b9ae-1df5-41cf-a723-8104cf025d2f",
   "metadata": {
    "tags": []
   },
   "outputs": [
    {
     "data": {
      "text/html": [
       "<style>#sk-container-id-1 {color: black;background-color: white;}#sk-container-id-1 pre{padding: 0;}#sk-container-id-1 div.sk-toggleable {background-color: white;}#sk-container-id-1 label.sk-toggleable__label {cursor: pointer;display: block;width: 100%;margin-bottom: 0;padding: 0.3em;box-sizing: border-box;text-align: center;}#sk-container-id-1 label.sk-toggleable__label-arrow:before {content: \"▸\";float: left;margin-right: 0.25em;color: #696969;}#sk-container-id-1 label.sk-toggleable__label-arrow:hover:before {color: black;}#sk-container-id-1 div.sk-estimator:hover label.sk-toggleable__label-arrow:before {color: black;}#sk-container-id-1 div.sk-toggleable__content {max-height: 0;max-width: 0;overflow: hidden;text-align: left;background-color: #f0f8ff;}#sk-container-id-1 div.sk-toggleable__content pre {margin: 0.2em;color: black;border-radius: 0.25em;background-color: #f0f8ff;}#sk-container-id-1 input.sk-toggleable__control:checked~div.sk-toggleable__content {max-height: 200px;max-width: 100%;overflow: auto;}#sk-container-id-1 input.sk-toggleable__control:checked~label.sk-toggleable__label-arrow:before {content: \"▾\";}#sk-container-id-1 div.sk-estimator input.sk-toggleable__control:checked~label.sk-toggleable__label {background-color: #d4ebff;}#sk-container-id-1 div.sk-label input.sk-toggleable__control:checked~label.sk-toggleable__label {background-color: #d4ebff;}#sk-container-id-1 input.sk-hidden--visually {border: 0;clip: rect(1px 1px 1px 1px);clip: rect(1px, 1px, 1px, 1px);height: 1px;margin: -1px;overflow: hidden;padding: 0;position: absolute;width: 1px;}#sk-container-id-1 div.sk-estimator {font-family: monospace;background-color: #f0f8ff;border: 1px dotted black;border-radius: 0.25em;box-sizing: border-box;margin-bottom: 0.5em;}#sk-container-id-1 div.sk-estimator:hover {background-color: #d4ebff;}#sk-container-id-1 div.sk-parallel-item::after {content: \"\";width: 100%;border-bottom: 1px solid gray;flex-grow: 1;}#sk-container-id-1 div.sk-label:hover label.sk-toggleable__label {background-color: #d4ebff;}#sk-container-id-1 div.sk-serial::before {content: \"\";position: absolute;border-left: 1px solid gray;box-sizing: border-box;top: 0;bottom: 0;left: 50%;z-index: 0;}#sk-container-id-1 div.sk-serial {display: flex;flex-direction: column;align-items: center;background-color: white;padding-right: 0.2em;padding-left: 0.2em;position: relative;}#sk-container-id-1 div.sk-item {position: relative;z-index: 1;}#sk-container-id-1 div.sk-parallel {display: flex;align-items: stretch;justify-content: center;background-color: white;position: relative;}#sk-container-id-1 div.sk-item::before, #sk-container-id-1 div.sk-parallel-item::before {content: \"\";position: absolute;border-left: 1px solid gray;box-sizing: border-box;top: 0;bottom: 0;left: 50%;z-index: -1;}#sk-container-id-1 div.sk-parallel-item {display: flex;flex-direction: column;z-index: 1;position: relative;background-color: white;}#sk-container-id-1 div.sk-parallel-item:first-child::after {align-self: flex-end;width: 50%;}#sk-container-id-1 div.sk-parallel-item:last-child::after {align-self: flex-start;width: 50%;}#sk-container-id-1 div.sk-parallel-item:only-child::after {width: 0;}#sk-container-id-1 div.sk-dashed-wrapped {border: 1px dashed gray;margin: 0 0.4em 0.5em 0.4em;box-sizing: border-box;padding-bottom: 0.4em;background-color: white;}#sk-container-id-1 div.sk-label label {font-family: monospace;font-weight: bold;display: inline-block;line-height: 1.2em;}#sk-container-id-1 div.sk-label-container {text-align: center;}#sk-container-id-1 div.sk-container {/* jupyter's `normalize.less` sets `[hidden] { display: none; }` but bootstrap.min.css set `[hidden] { display: none !important; }` so we also need the `!important` here to be able to override the default hidden behavior on the sphinx rendered scikit-learn.org. See: https://github.com/scikit-learn/scikit-learn/issues/21755 */display: inline-block !important;position: relative;}#sk-container-id-1 div.sk-text-repr-fallback {display: none;}</style><div id=\"sk-container-id-1\" class=\"sk-top-container\"><div class=\"sk-text-repr-fallback\"><pre>Pipeline(steps=[(&#x27;columntransformer&#x27;,\n",
       "                 ColumnTransformer(transformers=[(&#x27;stand&#x27;,\n",
       "                                                  Pipeline(steps=[(&#x27;outliertrans&#x27;,\n",
       "                                                                   OutlierTrans(threshold=3)),\n",
       "                                                                  (&#x27;simpleimputer&#x27;,\n",
       "                                                                   SimpleImputer(strategy=&#x27;median&#x27;)),\n",
       "                                                                  (&#x27;standardscaler&#x27;,\n",
       "                                                                   StandardScaler())]),\n",
       "                                                  [&#x27;bmi&#x27;,\n",
       "                                                   &#x27;physicalhealthbaddays&#x27;,\n",
       "                                                   &#x27;mentalhealthbaddays&#x27;,\n",
       "                                                   &#x27;sleeptimenightly&#x27;]),\n",
       "                                                 (&#x27;spec1&#x27;,\n",
       "                                                  Pipeline(steps=[(&#x27;makeordinal&#x27;,\n",
       "                                                                   MakeOrdina...\n",
       "                                                   &#x27;skincancer&#x27;]),\n",
       "                                                 (&#x27;cat&#x27;,\n",
       "                                                  Pipeline(steps=[(&#x27;onehotencoder&#x27;,\n",
       "                                                                   OneHotEncoder(drop=&#x27;first&#x27;,\n",
       "                                                                                 sparse=False))]),\n",
       "                                                  [&#x27;gender&#x27;, &#x27;ethnicity&#x27;])])),\n",
       "                (&#x27;rfecv&#x27;,\n",
       "                 RFECV(cv=StratifiedKFold(n_splits=5, random_state=None, shuffle=True),\n",
       "                       estimator=LogisticRegression(max_iter=1000,\n",
       "                                                    random_state=1))),\n",
       "                (&#x27;logisticregression&#x27;,\n",
       "                 LogisticRegression(class_weight=&#x27;balanced&#x27;, max_iter=1000,\n",
       "                                    random_state=1))])</pre><b>In a Jupyter environment, please rerun this cell to show the HTML representation or trust the notebook. <br />On GitHub, the HTML representation is unable to render, please try loading this page with nbviewer.org.</b></div><div class=\"sk-container\" hidden><div class=\"sk-item sk-dashed-wrapped\"><div class=\"sk-label-container\"><div class=\"sk-label sk-toggleable\"><input class=\"sk-toggleable__control sk-hidden--visually\" id=\"sk-estimator-id-1\" type=\"checkbox\" ><label for=\"sk-estimator-id-1\" class=\"sk-toggleable__label sk-toggleable__label-arrow\">Pipeline</label><div class=\"sk-toggleable__content\"><pre>Pipeline(steps=[(&#x27;columntransformer&#x27;,\n",
       "                 ColumnTransformer(transformers=[(&#x27;stand&#x27;,\n",
       "                                                  Pipeline(steps=[(&#x27;outliertrans&#x27;,\n",
       "                                                                   OutlierTrans(threshold=3)),\n",
       "                                                                  (&#x27;simpleimputer&#x27;,\n",
       "                                                                   SimpleImputer(strategy=&#x27;median&#x27;)),\n",
       "                                                                  (&#x27;standardscaler&#x27;,\n",
       "                                                                   StandardScaler())]),\n",
       "                                                  [&#x27;bmi&#x27;,\n",
       "                                                   &#x27;physicalhealthbaddays&#x27;,\n",
       "                                                   &#x27;mentalhealthbaddays&#x27;,\n",
       "                                                   &#x27;sleeptimenightly&#x27;]),\n",
       "                                                 (&#x27;spec1&#x27;,\n",
       "                                                  Pipeline(steps=[(&#x27;makeordinal&#x27;,\n",
       "                                                                   MakeOrdina...\n",
       "                                                   &#x27;skincancer&#x27;]),\n",
       "                                                 (&#x27;cat&#x27;,\n",
       "                                                  Pipeline(steps=[(&#x27;onehotencoder&#x27;,\n",
       "                                                                   OneHotEncoder(drop=&#x27;first&#x27;,\n",
       "                                                                                 sparse=False))]),\n",
       "                                                  [&#x27;gender&#x27;, &#x27;ethnicity&#x27;])])),\n",
       "                (&#x27;rfecv&#x27;,\n",
       "                 RFECV(cv=StratifiedKFold(n_splits=5, random_state=None, shuffle=True),\n",
       "                       estimator=LogisticRegression(max_iter=1000,\n",
       "                                                    random_state=1))),\n",
       "                (&#x27;logisticregression&#x27;,\n",
       "                 LogisticRegression(class_weight=&#x27;balanced&#x27;, max_iter=1000,\n",
       "                                    random_state=1))])</pre></div></div></div><div class=\"sk-serial\"><div class=\"sk-item sk-dashed-wrapped\"><div class=\"sk-label-container\"><div class=\"sk-label sk-toggleable\"><input class=\"sk-toggleable__control sk-hidden--visually\" id=\"sk-estimator-id-2\" type=\"checkbox\" ><label for=\"sk-estimator-id-2\" class=\"sk-toggleable__label sk-toggleable__label-arrow\">columntransformer: ColumnTransformer</label><div class=\"sk-toggleable__content\"><pre>ColumnTransformer(transformers=[(&#x27;stand&#x27;,\n",
       "                                 Pipeline(steps=[(&#x27;outliertrans&#x27;,\n",
       "                                                  OutlierTrans(threshold=3)),\n",
       "                                                 (&#x27;simpleimputer&#x27;,\n",
       "                                                  SimpleImputer(strategy=&#x27;median&#x27;)),\n",
       "                                                 (&#x27;standardscaler&#x27;,\n",
       "                                                  StandardScaler())]),\n",
       "                                 [&#x27;bmi&#x27;, &#x27;physicalhealthbaddays&#x27;,\n",
       "                                  &#x27;mentalhealthbaddays&#x27;, &#x27;sleeptimenightly&#x27;]),\n",
       "                                (&#x27;spec1&#x27;,\n",
       "                                 Pipeline(steps=[(&#x27;makeordinal&#x27;, MakeOrdinal()),\n",
       "                                                 (&#x27;standardscaler&#x27;,\n",
       "                                                  StandardScaler...\n",
       "                                                                                     &#x27;Poor&#x27;: 0,\n",
       "                                                                                     &#x27;Very good&#x27;: 3}}))]),\n",
       "                                 [&#x27;diabetic&#x27;]),\n",
       "                                (&#x27;bin&#x27;,\n",
       "                                 Pipeline(steps=[(&#x27;onehotencoder&#x27;,\n",
       "                                                  OneHotEncoder(drop=&#x27;first&#x27;,\n",
       "                                                                sparse=False))]),\n",
       "                                 [&#x27;smoking&#x27;, &#x27;alcoholdrinkingheavy&#x27;, &#x27;stroke&#x27;,\n",
       "                                  &#x27;walkingdifficult&#x27;, &#x27;physicalactivity&#x27;,\n",
       "                                  &#x27;asthma&#x27;, &#x27;kidneydisease&#x27;, &#x27;skincancer&#x27;]),\n",
       "                                (&#x27;cat&#x27;,\n",
       "                                 Pipeline(steps=[(&#x27;onehotencoder&#x27;,\n",
       "                                                  OneHotEncoder(drop=&#x27;first&#x27;,\n",
       "                                                                sparse=False))]),\n",
       "                                 [&#x27;gender&#x27;, &#x27;ethnicity&#x27;])])</pre></div></div></div><div class=\"sk-parallel\"><div class=\"sk-parallel-item\"><div class=\"sk-item\"><div class=\"sk-label-container\"><div class=\"sk-label sk-toggleable\"><input class=\"sk-toggleable__control sk-hidden--visually\" id=\"sk-estimator-id-3\" type=\"checkbox\" ><label for=\"sk-estimator-id-3\" class=\"sk-toggleable__label sk-toggleable__label-arrow\">stand</label><div class=\"sk-toggleable__content\"><pre>[&#x27;bmi&#x27;, &#x27;physicalhealthbaddays&#x27;, &#x27;mentalhealthbaddays&#x27;, &#x27;sleeptimenightly&#x27;]</pre></div></div></div><div class=\"sk-serial\"><div class=\"sk-item\"><div class=\"sk-serial\"><div class=\"sk-item\"><div class=\"sk-estimator sk-toggleable\"><input class=\"sk-toggleable__control sk-hidden--visually\" id=\"sk-estimator-id-4\" type=\"checkbox\" ><label for=\"sk-estimator-id-4\" class=\"sk-toggleable__label sk-toggleable__label-arrow\">OutlierTrans</label><div class=\"sk-toggleable__content\"><pre>OutlierTrans(threshold=3)</pre></div></div></div><div class=\"sk-item\"><div class=\"sk-estimator sk-toggleable\"><input class=\"sk-toggleable__control sk-hidden--visually\" id=\"sk-estimator-id-5\" type=\"checkbox\" ><label for=\"sk-estimator-id-5\" class=\"sk-toggleable__label sk-toggleable__label-arrow\">SimpleImputer</label><div class=\"sk-toggleable__content\"><pre>SimpleImputer(strategy=&#x27;median&#x27;)</pre></div></div></div><div class=\"sk-item\"><div class=\"sk-estimator sk-toggleable\"><input class=\"sk-toggleable__control sk-hidden--visually\" id=\"sk-estimator-id-6\" type=\"checkbox\" ><label for=\"sk-estimator-id-6\" class=\"sk-toggleable__label sk-toggleable__label-arrow\">StandardScaler</label><div class=\"sk-toggleable__content\"><pre>StandardScaler()</pre></div></div></div></div></div></div></div></div><div class=\"sk-parallel-item\"><div class=\"sk-item\"><div class=\"sk-label-container\"><div class=\"sk-label sk-toggleable\"><input class=\"sk-toggleable__control sk-hidden--visually\" id=\"sk-estimator-id-7\" type=\"checkbox\" ><label for=\"sk-estimator-id-7\" class=\"sk-toggleable__label sk-toggleable__label-arrow\">spec1</label><div class=\"sk-toggleable__content\"><pre>[&#x27;agecategory&#x27;]</pre></div></div></div><div class=\"sk-serial\"><div class=\"sk-item\"><div class=\"sk-serial\"><div class=\"sk-item\"><div class=\"sk-estimator sk-toggleable\"><input class=\"sk-toggleable__control sk-hidden--visually\" id=\"sk-estimator-id-8\" type=\"checkbox\" ><label for=\"sk-estimator-id-8\" class=\"sk-toggleable__label sk-toggleable__label-arrow\">MakeOrdinal</label><div class=\"sk-toggleable__content\"><pre>MakeOrdinal()</pre></div></div></div><div class=\"sk-item\"><div class=\"sk-estimator sk-toggleable\"><input class=\"sk-toggleable__control sk-hidden--visually\" id=\"sk-estimator-id-9\" type=\"checkbox\" ><label for=\"sk-estimator-id-9\" class=\"sk-toggleable__label sk-toggleable__label-arrow\">StandardScaler</label><div class=\"sk-toggleable__content\"><pre>StandardScaler()</pre></div></div></div></div></div></div></div></div><div class=\"sk-parallel-item\"><div class=\"sk-item\"><div class=\"sk-label-container\"><div class=\"sk-label sk-toggleable\"><input class=\"sk-toggleable__control sk-hidden--visually\" id=\"sk-estimator-id-10\" type=\"checkbox\" ><label for=\"sk-estimator-id-10\" class=\"sk-toggleable__label sk-toggleable__label-arrow\">spec2</label><div class=\"sk-toggleable__content\"><pre>[&#x27;genhealth&#x27;]</pre></div></div></div><div class=\"sk-serial\"><div class=\"sk-item\"><div class=\"sk-serial\"><div class=\"sk-item\"><div class=\"sk-estimator sk-toggleable\"><input class=\"sk-toggleable__control sk-hidden--visually\" id=\"sk-estimator-id-11\" type=\"checkbox\" ><label for=\"sk-estimator-id-11\" class=\"sk-toggleable__label sk-toggleable__label-arrow\">ReplaceVals</label><div class=\"sk-toggleable__content\"><pre>ReplaceVals(repdict={&#x27;diabetic&#x27;: {&#x27;No&#x27;: 0, &#x27;No, borderline diabetes&#x27;: 0,\n",
       "                                  &#x27;Yes&#x27;: 1, &#x27;Yes (during pregnancy)&#x27;: 1},\n",
       "                     &#x27;genhealth&#x27;: {&#x27;Excellent&#x27;: 4, &#x27;Fair&#x27;: 1, &#x27;Good&#x27;: 2,\n",
       "                                   &#x27;Poor&#x27;: 0, &#x27;Very good&#x27;: 3}})</pre></div></div></div><div class=\"sk-item\"><div class=\"sk-estimator sk-toggleable\"><input class=\"sk-toggleable__control sk-hidden--visually\" id=\"sk-estimator-id-12\" type=\"checkbox\" ><label for=\"sk-estimator-id-12\" class=\"sk-toggleable__label sk-toggleable__label-arrow\">StandardScaler</label><div class=\"sk-toggleable__content\"><pre>StandardScaler()</pre></div></div></div></div></div></div></div></div><div class=\"sk-parallel-item\"><div class=\"sk-item\"><div class=\"sk-label-container\"><div class=\"sk-label sk-toggleable\"><input class=\"sk-toggleable__control sk-hidden--visually\" id=\"sk-estimator-id-13\" type=\"checkbox\" ><label for=\"sk-estimator-id-13\" class=\"sk-toggleable__label sk-toggleable__label-arrow\">spec3</label><div class=\"sk-toggleable__content\"><pre>[&#x27;diabetic&#x27;]</pre></div></div></div><div class=\"sk-serial\"><div class=\"sk-item\"><div class=\"sk-serial\"><div class=\"sk-item\"><div class=\"sk-estimator sk-toggleable\"><input class=\"sk-toggleable__control sk-hidden--visually\" id=\"sk-estimator-id-14\" type=\"checkbox\" ><label for=\"sk-estimator-id-14\" class=\"sk-toggleable__label sk-toggleable__label-arrow\">ReplaceVals</label><div class=\"sk-toggleable__content\"><pre>ReplaceVals(repdict={&#x27;diabetic&#x27;: {&#x27;No&#x27;: 0, &#x27;No, borderline diabetes&#x27;: 0,\n",
       "                                  &#x27;Yes&#x27;: 1, &#x27;Yes (during pregnancy)&#x27;: 1},\n",
       "                     &#x27;genhealth&#x27;: {&#x27;Excellent&#x27;: 4, &#x27;Fair&#x27;: 1, &#x27;Good&#x27;: 2,\n",
       "                                   &#x27;Poor&#x27;: 0, &#x27;Very good&#x27;: 3}})</pre></div></div></div></div></div></div></div></div><div class=\"sk-parallel-item\"><div class=\"sk-item\"><div class=\"sk-label-container\"><div class=\"sk-label sk-toggleable\"><input class=\"sk-toggleable__control sk-hidden--visually\" id=\"sk-estimator-id-15\" type=\"checkbox\" ><label for=\"sk-estimator-id-15\" class=\"sk-toggleable__label sk-toggleable__label-arrow\">bin</label><div class=\"sk-toggleable__content\"><pre>[&#x27;smoking&#x27;, &#x27;alcoholdrinkingheavy&#x27;, &#x27;stroke&#x27;, &#x27;walkingdifficult&#x27;, &#x27;physicalactivity&#x27;, &#x27;asthma&#x27;, &#x27;kidneydisease&#x27;, &#x27;skincancer&#x27;]</pre></div></div></div><div class=\"sk-serial\"><div class=\"sk-item\"><div class=\"sk-serial\"><div class=\"sk-item\"><div class=\"sk-estimator sk-toggleable\"><input class=\"sk-toggleable__control sk-hidden--visually\" id=\"sk-estimator-id-16\" type=\"checkbox\" ><label for=\"sk-estimator-id-16\" class=\"sk-toggleable__label sk-toggleable__label-arrow\">OneHotEncoder</label><div class=\"sk-toggleable__content\"><pre>OneHotEncoder(drop=&#x27;first&#x27;, sparse=False)</pre></div></div></div></div></div></div></div></div><div class=\"sk-parallel-item\"><div class=\"sk-item\"><div class=\"sk-label-container\"><div class=\"sk-label sk-toggleable\"><input class=\"sk-toggleable__control sk-hidden--visually\" id=\"sk-estimator-id-17\" type=\"checkbox\" ><label for=\"sk-estimator-id-17\" class=\"sk-toggleable__label sk-toggleable__label-arrow\">cat</label><div class=\"sk-toggleable__content\"><pre>[&#x27;gender&#x27;, &#x27;ethnicity&#x27;]</pre></div></div></div><div class=\"sk-serial\"><div class=\"sk-item\"><div class=\"sk-serial\"><div class=\"sk-item\"><div class=\"sk-estimator sk-toggleable\"><input class=\"sk-toggleable__control sk-hidden--visually\" id=\"sk-estimator-id-18\" type=\"checkbox\" ><label for=\"sk-estimator-id-18\" class=\"sk-toggleable__label sk-toggleable__label-arrow\">OneHotEncoder</label><div class=\"sk-toggleable__content\"><pre>OneHotEncoder(drop=&#x27;first&#x27;, sparse=False)</pre></div></div></div></div></div></div></div></div></div></div><div class=\"sk-item sk-dashed-wrapped\"><div class=\"sk-label-container\"><div class=\"sk-label sk-toggleable\"><input class=\"sk-toggleable__control sk-hidden--visually\" id=\"sk-estimator-id-19\" type=\"checkbox\" ><label for=\"sk-estimator-id-19\" class=\"sk-toggleable__label sk-toggleable__label-arrow\">rfecv: RFECV</label><div class=\"sk-toggleable__content\"><pre>RFECV(cv=StratifiedKFold(n_splits=5, random_state=None, shuffle=True),\n",
       "      estimator=LogisticRegression(max_iter=1000, random_state=1))</pre></div></div></div><div class=\"sk-parallel\"><div class=\"sk-parallel-item\"><div class=\"sk-item\"><div class=\"sk-label-container\"><div class=\"sk-label sk-toggleable\"><input class=\"sk-toggleable__control sk-hidden--visually\" id=\"sk-estimator-id-20\" type=\"checkbox\" ><label for=\"sk-estimator-id-20\" class=\"sk-toggleable__label sk-toggleable__label-arrow\">estimator: LogisticRegression</label><div class=\"sk-toggleable__content\"><pre>LogisticRegression(max_iter=1000, random_state=1)</pre></div></div></div><div class=\"sk-serial\"><div class=\"sk-item\"><div class=\"sk-estimator sk-toggleable\"><input class=\"sk-toggleable__control sk-hidden--visually\" id=\"sk-estimator-id-21\" type=\"checkbox\" ><label for=\"sk-estimator-id-21\" class=\"sk-toggleable__label sk-toggleable__label-arrow\">LogisticRegression</label><div class=\"sk-toggleable__content\"><pre>LogisticRegression(max_iter=1000, random_state=1)</pre></div></div></div></div></div></div></div></div><div class=\"sk-item\"><div class=\"sk-estimator sk-toggleable\"><input class=\"sk-toggleable__control sk-hidden--visually\" id=\"sk-estimator-id-22\" type=\"checkbox\" ><label for=\"sk-estimator-id-22\" class=\"sk-toggleable__label sk-toggleable__label-arrow\">LogisticRegression</label><div class=\"sk-toggleable__content\"><pre>LogisticRegression(class_weight=&#x27;balanced&#x27;, max_iter=1000, random_state=1)</pre></div></div></div></div></div></div></div>"
      ],
      "text/plain": [
       "Pipeline(steps=[('columntransformer',\n",
       "                 ColumnTransformer(transformers=[('stand',\n",
       "                                                  Pipeline(steps=[('outliertrans',\n",
       "                                                                   OutlierTrans(threshold=3)),\n",
       "                                                                  ('simpleimputer',\n",
       "                                                                   SimpleImputer(strategy='median')),\n",
       "                                                                  ('standardscaler',\n",
       "                                                                   StandardScaler())]),\n",
       "                                                  ['bmi',\n",
       "                                                   'physicalhealthbaddays',\n",
       "                                                   'mentalhealthbaddays',\n",
       "                                                   'sleeptimenightly']),\n",
       "                                                 ('spec1',\n",
       "                                                  Pipeline(steps=[('makeordinal',\n",
       "                                                                   MakeOrdina...\n",
       "                                                   'skincancer']),\n",
       "                                                 ('cat',\n",
       "                                                  Pipeline(steps=[('onehotencoder',\n",
       "                                                                   OneHotEncoder(drop='first',\n",
       "                                                                                 sparse=False))]),\n",
       "                                                  ['gender', 'ethnicity'])])),\n",
       "                ('rfecv',\n",
       "                 RFECV(cv=StratifiedKFold(n_splits=5, random_state=None, shuffle=True),\n",
       "                       estimator=LogisticRegression(max_iter=1000,\n",
       "                                                    random_state=1))),\n",
       "                ('logisticregression',\n",
       "                 LogisticRegression(class_weight='balanced', max_iter=1000,\n",
       "                                    random_state=1))])"
      ]
     },
     "execution_count": 16,
     "metadata": {},
     "output_type": "execute_result"
    }
   ],
   "source": [
    "lrsel = LogisticRegression(random_state=1, max_iter=1000)\n",
    "kf = StratifiedKFold(n_splits=5, shuffle=True)\n",
    "rfecv = RFECV(estimator=lrsel, cv=kf)\n",
    "lr = LogisticRegression(random_state=1, class_weight=\"balanced\", max_iter=1000)\n",
    "\n",
    "pipe1 = make_pipeline(coltrans, rfecv, lr)\n",
    "pipe1.fit(X_train, y_train)"
   ]
  },
  {
   "cell_type": "markdown",
   "id": "90db489f-7955-49ae-a412-36458fee7698",
   "metadata": {},
   "source": [
    "We need to do a little work to recover the column names from the pipeline after the fit. \n",
    "\n",
    "We should only get the column names for the binary and categorical features after the encoding. The names of the numerical features remained unchanged."
   ]
  },
  {
   "cell_type": "code",
   "execution_count": 26,
   "id": "c1c0bd32-6ef0-4191-bf53-3402d1a2b410",
   "metadata": {
    "tags": []
   },
   "outputs": [
    {
     "data": {
      "text/plain": [
       "array(['smoking_Yes', 'alcoholdrinkingheavy_Yes', 'stroke_Yes',\n",
       "       'walkingdifficult_Yes', 'physicalactivity_Yes', 'asthma_Yes',\n",
       "       'kidneydisease_Yes', 'skincancer_Yes'], dtype=object)"
      ]
     },
     "execution_count": 26,
     "metadata": {},
     "output_type": "execute_result"
    }
   ],
   "source": [
    "new_binary_cols = (\n",
    "    pipe1.named_steps[\"columntransformer\"]\n",
    "    .named_transformers_[\"bin\"]\n",
    "    .named_steps[\"onehotencoder\"]\n",
    "    .get_feature_names_out()\n",
    ")\n",
    "new_binary_cols"
   ]
  },
  {
   "cell_type": "code",
   "execution_count": 27,
   "id": "680b1c01-fb1e-4610-b12b-f2fe84a054b9",
   "metadata": {
    "tags": []
   },
   "outputs": [
    {
     "data": {
      "text/plain": [
       "array(['gender_Male', 'ethnicity_Asian', 'ethnicity_Black',\n",
       "       'ethnicity_Hispanic', 'ethnicity_Other', 'ethnicity_White'],\n",
       "      dtype=object)"
      ]
     },
     "execution_count": 27,
     "metadata": {},
     "output_type": "execute_result"
    }
   ],
   "source": [
    "new_cat_cols = (\n",
    "    pipe1.named_steps[\"columntransformer\"]\n",
    "    .named_transformers_[\"cat\"]\n",
    "    .named_steps[\"onehotencoder\"]\n",
    "    .get_feature_names_out()\n",
    ")\n",
    "new_cat_cols"
   ]
  },
  {
   "cell_type": "code",
   "execution_count": 29,
   "id": "1551cc04-b787-4158-b988-8ba77b213161",
   "metadata": {
    "tags": []
   },
   "outputs": [
    {
     "data": {
      "text/plain": [
       "array(['bmi', 'physicalhealthbaddays', 'mentalhealthbaddays',\n",
       "       'sleeptimenightly', 'agecategory', 'genhealth', 'diabetic',\n",
       "       'smoking_Yes', 'alcoholdrinkingheavy_Yes', 'stroke_Yes',\n",
       "       'walkingdifficult_Yes', 'physicalactivity_Yes', 'asthma_Yes',\n",
       "       'kidneydisease_Yes', 'skincancer_Yes', 'gender_Male',\n",
       "       'ethnicity_Asian', 'ethnicity_Black', 'ethnicity_Hispanic',\n",
       "       'ethnicity_Other', 'ethnicity_White'], dtype=object)"
      ]
     },
     "execution_count": 29,
     "metadata": {},
     "output_type": "execute_result"
    }
   ],
   "source": [
    "new_cols = np.concatenate(\n",
    "    (\n",
    "        np.array(num_cols + spec_cols1 + spec_cols2 + spec_cols3),\n",
    "        new_binary_cols,\n",
    "        new_cat_cols,\n",
    "    )\n",
    ")\n",
    "new_cols"
   ]
  },
  {
   "cell_type": "markdown",
   "id": "bd825c32-122d-4351-aea0-8bdcaa71c6f6",
   "metadata": {},
   "source": [
    "### Recursive Feature Elimination\n",
    "\n",
    "We can use the `ranking_` attribute of the `rfecv` object to get the ranking of each feature. Those with `1` for ranking will be selected for our model.\n",
    "\n",
    "If we use the `get_support` method or the `support_` attribute of the `rfecv` object, we get just those features that will be used in our model."
   ]
  },
  {
   "cell_type": "code",
   "execution_count": 31,
   "id": "5d4edb86-79ac-4342-9df2-d9a2474df47c",
   "metadata": {
    "tags": []
   },
   "outputs": [
    {
     "data": {
      "text/html": [
       "<div>\n",
       "<style scoped>\n",
       "    .dataframe tbody tr th:only-of-type {\n",
       "        vertical-align: middle;\n",
       "    }\n",
       "\n",
       "    .dataframe tbody tr th {\n",
       "        vertical-align: top;\n",
       "    }\n",
       "\n",
       "    .dataframe thead th {\n",
       "        text-align: right;\n",
       "    }\n",
       "</style>\n",
       "<table border=\"1\" class=\"dataframe\">\n",
       "  <thead>\n",
       "    <tr style=\"text-align: right;\">\n",
       "      <th></th>\n",
       "      <th>feature</th>\n",
       "    </tr>\n",
       "    <tr>\n",
       "      <th>rank</th>\n",
       "      <th></th>\n",
       "    </tr>\n",
       "  </thead>\n",
       "  <tbody>\n",
       "    <tr>\n",
       "      <th>1</th>\n",
       "      <td>agecategory</td>\n",
       "    </tr>\n",
       "    <tr>\n",
       "      <th>1</th>\n",
       "      <td>alcoholdrinkingheavy_Yes</td>\n",
       "    </tr>\n",
       "    <tr>\n",
       "      <th>1</th>\n",
       "      <td>asthma_Yes</td>\n",
       "    </tr>\n",
       "    <tr>\n",
       "      <th>1</th>\n",
       "      <td>diabetic</td>\n",
       "    </tr>\n",
       "    <tr>\n",
       "      <th>1</th>\n",
       "      <td>ethnicity_Asian</td>\n",
       "    </tr>\n",
       "    <tr>\n",
       "      <th>1</th>\n",
       "      <td>gender_Male</td>\n",
       "    </tr>\n",
       "    <tr>\n",
       "      <th>1</th>\n",
       "      <td>genhealth</td>\n",
       "    </tr>\n",
       "    <tr>\n",
       "      <th>1</th>\n",
       "      <td>kidneydisease_Yes</td>\n",
       "    </tr>\n",
       "    <tr>\n",
       "      <th>1</th>\n",
       "      <td>smoking_Yes</td>\n",
       "    </tr>\n",
       "    <tr>\n",
       "      <th>1</th>\n",
       "      <td>stroke_Yes</td>\n",
       "    </tr>\n",
       "    <tr>\n",
       "      <th>2</th>\n",
       "      <td>ethnicity_Other</td>\n",
       "    </tr>\n",
       "    <tr>\n",
       "      <th>3</th>\n",
       "      <td>ethnicity_White</td>\n",
       "    </tr>\n",
       "    <tr>\n",
       "      <th>4</th>\n",
       "      <td>walkingdifficult_Yes</td>\n",
       "    </tr>\n",
       "    <tr>\n",
       "      <th>5</th>\n",
       "      <td>ethnicity_Hispanic</td>\n",
       "    </tr>\n",
       "    <tr>\n",
       "      <th>6</th>\n",
       "      <td>skincancer_Yes</td>\n",
       "    </tr>\n",
       "    <tr>\n",
       "      <th>7</th>\n",
       "      <td>bmi</td>\n",
       "    </tr>\n",
       "    <tr>\n",
       "      <th>8</th>\n",
       "      <td>physicalhealthbaddays</td>\n",
       "    </tr>\n",
       "    <tr>\n",
       "      <th>9</th>\n",
       "      <td>sleeptimenightly</td>\n",
       "    </tr>\n",
       "    <tr>\n",
       "      <th>10</th>\n",
       "      <td>mentalhealthbaddays</td>\n",
       "    </tr>\n",
       "    <tr>\n",
       "      <th>11</th>\n",
       "      <td>physicalactivity_Yes</td>\n",
       "    </tr>\n",
       "    <tr>\n",
       "      <th>12</th>\n",
       "      <td>ethnicity_Black</td>\n",
       "    </tr>\n",
       "  </tbody>\n",
       "</table>\n",
       "</div>"
      ],
      "text/plain": [
       "                       feature\n",
       "rank                          \n",
       "1                  agecategory\n",
       "1     alcoholdrinkingheavy_Yes\n",
       "1                   asthma_Yes\n",
       "1                     diabetic\n",
       "1              ethnicity_Asian\n",
       "1                  gender_Male\n",
       "1                    genhealth\n",
       "1            kidneydisease_Yes\n",
       "1                  smoking_Yes\n",
       "1                   stroke_Yes\n",
       "2              ethnicity_Other\n",
       "3              ethnicity_White\n",
       "4         walkingdifficult_Yes\n",
       "5           ethnicity_Hispanic\n",
       "6               skincancer_Yes\n",
       "7                          bmi\n",
       "8        physicalhealthbaddays\n",
       "9             sleeptimenightly\n",
       "10         mentalhealthbaddays\n",
       "11        physicalactivity_Yes\n",
       "12             ethnicity_Black"
      ]
     },
     "execution_count": 31,
     "metadata": {},
     "output_type": "execute_result"
    }
   ],
   "source": [
    "rankinglabs = np.column_stack((pipe1.named_steps[\"rfecv\"].ranking_, new_cols))\n",
    "pd.DataFrame(rankinglabs, columns=[\"rank\", \"feature\"]).sort_values(\n",
    "    [\"rank\", \"feature\"]\n",
    ").set_index(\"rank\")"
   ]
  },
  {
   "cell_type": "code",
   "execution_count": 32,
   "id": "6ba3da63-c3ff-463a-8e2c-2db157939394",
   "metadata": {
    "tags": []
   },
   "outputs": [
    {
     "data": {
      "text/plain": [
       "array([False, False, False, False,  True,  True,  True,  True,  True,\n",
       "        True, False, False,  True,  True, False,  True,  True, False,\n",
       "       False, False, False])"
      ]
     },
     "execution_count": 32,
     "metadata": {},
     "output_type": "execute_result"
    }
   ],
   "source": [
    "pipe1.named_steps[\"rfecv\"].support_"
   ]
  },
  {
   "cell_type": "code",
   "execution_count": 41,
   "id": "fed2ae4c-89b8-4a8f-85c5-5017f94bcbc7",
   "metadata": {
    "tags": []
   },
   "outputs": [
    {
     "data": {
      "text/plain": [
       "array(['agecategory', 'genhealth', 'diabetic', 'smoking_Yes',\n",
       "       'alcoholdrinkingheavy_Yes', 'stroke_Yes', 'asthma_Yes',\n",
       "       'kidneydisease_Yes', 'gender_Male', 'ethnicity_Asian'],\n",
       "      dtype=object)"
      ]
     },
     "execution_count": 41,
     "metadata": {},
     "output_type": "execute_result"
    }
   ],
   "source": [
    "new_cols[pipe1.named_steps[\"rfecv\"].get_support()]"
   ]
  },
  {
   "cell_type": "markdown",
   "id": "244b65ed-7537-4ab7-9289-57e870b58f7f",
   "metadata": {},
   "source": [
    "### Logistic Regression coefficients\n",
    "\n",
    "We can get the _odds ratio_ from the coefficients from the logistic regression. Recall that the odds ratio is the exponentiated coefficient. There are 10 coefficients because we have 10 features."
   ]
  },
  {
   "cell_type": "code",
   "execution_count": 43,
   "id": "7d7097b2-c4c9-4dbe-b6b9-d158a36cccff",
   "metadata": {
    "tags": []
   },
   "outputs": [
    {
     "data": {
      "text/plain": [
       "(1, 10)"
      ]
     },
     "execution_count": 43,
     "metadata": {},
     "output_type": "execute_result"
    }
   ],
   "source": [
    "oddsratios = np.exp(pipe1.named_steps[\"logisticregression\"].coef_)\n",
    "\n",
    "oddsratios.shape"
   ]
  },
  {
   "cell_type": "code",
   "execution_count": 47,
   "id": "a29f79ad-ca4d-414c-ad19-50022cb813c1",
   "metadata": {
    "tags": []
   },
   "outputs": [
    {
     "data": {
      "text/html": [
       "<div>\n",
       "<style scoped>\n",
       "    .dataframe tbody tr th:only-of-type {\n",
       "        vertical-align: middle;\n",
       "    }\n",
       "\n",
       "    .dataframe tbody tr th {\n",
       "        vertical-align: top;\n",
       "    }\n",
       "\n",
       "    .dataframe thead th {\n",
       "        text-align: right;\n",
       "    }\n",
       "</style>\n",
       "<table border=\"1\" class=\"dataframe\">\n",
       "  <thead>\n",
       "    <tr style=\"text-align: right;\">\n",
       "      <th></th>\n",
       "      <th>feature</th>\n",
       "    </tr>\n",
       "    <tr>\n",
       "      <th>odds</th>\n",
       "      <th></th>\n",
       "    </tr>\n",
       "  </thead>\n",
       "  <tbody>\n",
       "    <tr>\n",
       "      <th>3.132956</th>\n",
       "      <td>stroke_Yes</td>\n",
       "    </tr>\n",
       "    <tr>\n",
       "      <th>2.950606</th>\n",
       "      <td>agecategory</td>\n",
       "    </tr>\n",
       "    <tr>\n",
       "      <th>2.095302</th>\n",
       "      <td>gender_Male</td>\n",
       "    </tr>\n",
       "    <tr>\n",
       "      <th>2.038024</th>\n",
       "      <td>kidneydisease_Yes</td>\n",
       "    </tr>\n",
       "    <tr>\n",
       "      <th>1.780634</th>\n",
       "      <td>diabetic</td>\n",
       "    </tr>\n",
       "    <tr>\n",
       "      <th>1.575736</th>\n",
       "      <td>smoking_Yes</td>\n",
       "    </tr>\n",
       "    <tr>\n",
       "      <th>1.538203</th>\n",
       "      <td>asthma_Yes</td>\n",
       "    </tr>\n",
       "    <tr>\n",
       "      <th>0.615857</th>\n",
       "      <td>alcoholdrinkingheavy_Yes</td>\n",
       "    </tr>\n",
       "    <tr>\n",
       "      <th>0.602362</th>\n",
       "      <td>ethnicity_Asian</td>\n",
       "    </tr>\n",
       "    <tr>\n",
       "      <th>0.552366</th>\n",
       "      <td>genhealth</td>\n",
       "    </tr>\n",
       "  </tbody>\n",
       "</table>\n",
       "</div>"
      ],
      "text/plain": [
       "                           feature\n",
       "odds                              \n",
       "3.132956                stroke_Yes\n",
       "2.950606               agecategory\n",
       "2.095302               gender_Male\n",
       "2.038024         kidneydisease_Yes\n",
       "1.780634                  diabetic\n",
       "1.575736               smoking_Yes\n",
       "1.538203                asthma_Yes\n",
       "0.615857  alcoholdrinkingheavy_Yes\n",
       "0.602362           ethnicity_Asian\n",
       "0.552366                 genhealth"
      ]
     },
     "execution_count": 47,
     "metadata": {},
     "output_type": "execute_result"
    }
   ],
   "source": [
    "sel_cols = new_cols[pipe1.named_steps[\"rfecv\"].get_support()]\n",
    "oddswithlabs = np.column_stack((oddsratios.ravel(), sel_cols))\n",
    "\n",
    "pd.DataFrame(oddswithlabs, columns=[\"odds\", \"feature\"]).sort_values(\n",
    "    [\"odds\"], ascending=False\n",
    ").set_index(\"odds\")"
   ]
  },
  {
   "cell_type": "markdown",
   "id": "30a400ce-c708-4bdc-a806-34684dac91a7",
   "metadata": {},
   "source": [
    "^ If the individual had stroke, they had three times the odds of having heart disease. The odds of having heart disease increase by 2.95 times for each increase in age category.\n",
    "\n",
    "On the other hand, the odds of having heart disease decline by half (55%) for every increase in general health. Surprisingly, heavy alcohol drinking is associated with lower odds of heart disease."
   ]
  },
  {
   "cell_type": "markdown",
   "id": "72502c7c-9b11-45e6-8dff-13765a16daa3",
   "metadata": {},
   "source": [
    "### Evaluating a logistic regression model"
   ]
  },
  {
   "cell_type": "code",
   "execution_count": null,
   "id": "70916290-d305-4044-9d9b-b6cd86135615",
   "metadata": {},
   "outputs": [],
   "source": []
  }
 ],
 "metadata": {
  "kernelspec": {
   "display_name": "Python 3 (ipykernel)",
   "language": "python",
   "name": "python3"
  },
  "language_info": {
   "codemirror_mode": {
    "name": "ipython",
    "version": 3
   },
   "file_extension": ".py",
   "mimetype": "text/x-python",
   "name": "python",
   "nbconvert_exporter": "python",
   "pygments_lexer": "ipython3",
   "version": "3.9.16"
  }
 },
 "nbformat": 4,
 "nbformat_minor": 5
}
