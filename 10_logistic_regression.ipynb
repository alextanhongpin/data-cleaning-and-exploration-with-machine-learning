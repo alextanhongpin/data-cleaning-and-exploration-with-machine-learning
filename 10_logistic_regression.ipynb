{
 "cells": [
  {
   "cell_type": "markdown",
   "id": "84f510c5-6df1-47bd-9fd3-de4098edc55f",
   "metadata": {},
   "source": [
    "# Logistic Regression\n",
    "\n",
    "- similar to linear regression in that logistic regression predicts a target based on weights assigned to each feature\n",
    "- sigmoid function is used to constrain the predicted probability to between 0 and 1\n",
    "- sigmoid function $f(x) = \\frac{1}{1+e^{-x}}$\n",
    "- as x approaches infinity, f(x) gets closer to 1\n",
    "- as x approaches negative infinity, f(x) gets closer to 0\n",
    "\n",
    "Why use logistic regression for classification problems?\n",
    "- features can be dichotomous, categorical or numerical\n",
    "- features does not need to be normally distributed\n",
    "- the target variable can have more than two possible values, and can be nominal or ordinal\n",
    "- relationship between features and the target is not assumed to be linear"
   ]
  },
  {
   "cell_type": "markdown",
   "id": "606b4743-1c98-4fa0-9683-c7907f592ce3",
   "metadata": {},
   "source": [
    "## Binary Classification with Logistic Regression\n",
    "\n",
    "### Goal\n",
    "\n",
    "We will build a model to predict if an individual will have heart disease based on personal characteristics such as smoking and alcohol drinking habits; health features, including BMP, asthma, diabetes, and skin cancer; and age."
   ]
  },
  {
   "cell_type": "markdown",
   "id": "2927ef9e-8f8a-4bee-888d-896e1cf7bd3c",
   "metadata": {},
   "source": [
    "### Importing dependencies"
   ]
  },
  {
   "cell_type": "code",
   "execution_count": 1,
   "id": "bcdebe0b-dbfc-4e2f-81b5-df283e794b63",
   "metadata": {
    "tags": []
   },
   "outputs": [],
   "source": [
    "import matplotlib.pyplot as plt\n",
    "import numpy as np\n",
    "import pandas as pd\n",
    "import seaborn as sns\n",
    "import sklearn.metrics as skmet\n",
    "from sklearn.compose import ColumnTransformer\n",
    "from sklearn.feature_selection import RFECV\n",
    "from sklearn.impute import SimpleImputer\n",
    "from sklearn.linear_model import LogisticRegression\n",
    "from sklearn.model_selection import StratifiedKFold, train_test_split\n",
    "from sklearn.pipeline import make_pipeline\n",
    "from sklearn.preprocessing import OneHotEncoder, StandardScaler\n",
    "\n",
    "from data.load import load_healthinfosample\n",
    "\n",
    "# Custom dependencies\n",
    "from preprocfunc import MakeOrdinal, OutlierTrans, ReplaceVals"
   ]
  },
  {
   "cell_type": "markdown",
   "id": "9e433fc2-4001-456d-8b67-fb9c99776976",
   "metadata": {},
   "source": [
    "### Load data"
   ]
  },
  {
   "cell_type": "code",
   "execution_count": 2,
   "id": "b62028bf-0901-4db4-81a1-2e480c401674",
   "metadata": {
    "tags": []
   },
   "outputs": [
    {
     "data": {
      "text/html": [
       "<div>\n",
       "<style scoped>\n",
       "    .dataframe tbody tr th:only-of-type {\n",
       "        vertical-align: middle;\n",
       "    }\n",
       "\n",
       "    .dataframe tbody tr th {\n",
       "        vertical-align: top;\n",
       "    }\n",
       "\n",
       "    .dataframe thead th {\n",
       "        text-align: right;\n",
       "    }\n",
       "</style>\n",
       "<table border=\"1\" class=\"dataframe\">\n",
       "  <thead>\n",
       "    <tr style=\"text-align: right;\">\n",
       "      <th>personid</th>\n",
       "      <th>299391</th>\n",
       "      <th>252786</th>\n",
       "    </tr>\n",
       "  </thead>\n",
       "  <tbody>\n",
       "    <tr>\n",
       "      <th>heartdisease</th>\n",
       "      <td>Yes</td>\n",
       "      <td>No</td>\n",
       "    </tr>\n",
       "    <tr>\n",
       "      <th>bmi</th>\n",
       "      <td>28.48</td>\n",
       "      <td>25.24</td>\n",
       "    </tr>\n",
       "    <tr>\n",
       "      <th>smoking</th>\n",
       "      <td>Yes</td>\n",
       "      <td>Yes</td>\n",
       "    </tr>\n",
       "    <tr>\n",
       "      <th>alcoholdrinkingheavy</th>\n",
       "      <td>No</td>\n",
       "      <td>No</td>\n",
       "    </tr>\n",
       "    <tr>\n",
       "      <th>stroke</th>\n",
       "      <td>No</td>\n",
       "      <td>No</td>\n",
       "    </tr>\n",
       "    <tr>\n",
       "      <th>physicalhealthbaddays</th>\n",
       "      <td>7</td>\n",
       "      <td>0</td>\n",
       "    </tr>\n",
       "    <tr>\n",
       "      <th>mentalhealthbaddays</th>\n",
       "      <td>0</td>\n",
       "      <td>2</td>\n",
       "    </tr>\n",
       "    <tr>\n",
       "      <th>walkingdifficult</th>\n",
       "      <td>No</td>\n",
       "      <td>No</td>\n",
       "    </tr>\n",
       "    <tr>\n",
       "      <th>gender</th>\n",
       "      <td>Male</td>\n",
       "      <td>Female</td>\n",
       "    </tr>\n",
       "    <tr>\n",
       "      <th>agecategory</th>\n",
       "      <td>70-74</td>\n",
       "      <td>65-69</td>\n",
       "    </tr>\n",
       "    <tr>\n",
       "      <th>ethnicity</th>\n",
       "      <td>White</td>\n",
       "      <td>White</td>\n",
       "    </tr>\n",
       "    <tr>\n",
       "      <th>diabetic</th>\n",
       "      <td>No, borderline diabetes</td>\n",
       "      <td>No</td>\n",
       "    </tr>\n",
       "    <tr>\n",
       "      <th>physicalactivity</th>\n",
       "      <td>Yes</td>\n",
       "      <td>Yes</td>\n",
       "    </tr>\n",
       "    <tr>\n",
       "      <th>genhealth</th>\n",
       "      <td>Good</td>\n",
       "      <td>Very good</td>\n",
       "    </tr>\n",
       "    <tr>\n",
       "      <th>sleeptimenightly</th>\n",
       "      <td>8</td>\n",
       "      <td>8</td>\n",
       "    </tr>\n",
       "    <tr>\n",
       "      <th>asthma</th>\n",
       "      <td>No</td>\n",
       "      <td>No</td>\n",
       "    </tr>\n",
       "    <tr>\n",
       "      <th>kidneydisease</th>\n",
       "      <td>No</td>\n",
       "      <td>No</td>\n",
       "    </tr>\n",
       "    <tr>\n",
       "      <th>skincancer</th>\n",
       "      <td>No</td>\n",
       "      <td>Yes</td>\n",
       "    </tr>\n",
       "  </tbody>\n",
       "</table>\n",
       "</div>"
      ],
      "text/plain": [
       "personid                                299391     252786\n",
       "heartdisease                               Yes         No\n",
       "bmi                                      28.48      25.24\n",
       "smoking                                    Yes        Yes\n",
       "alcoholdrinkingheavy                        No         No\n",
       "stroke                                      No         No\n",
       "physicalhealthbaddays                        7          0\n",
       "mentalhealthbaddays                          0          2\n",
       "walkingdifficult                            No         No\n",
       "gender                                    Male     Female\n",
       "agecategory                              70-74      65-69\n",
       "ethnicity                                White      White\n",
       "diabetic               No, borderline diabetes         No\n",
       "physicalactivity                           Yes        Yes\n",
       "genhealth                                 Good  Very good\n",
       "sleeptimenightly                             8          8\n",
       "asthma                                      No         No\n",
       "kidneydisease                               No         No\n",
       "skincancer                                  No        Yes"
      ]
     },
     "execution_count": 2,
     "metadata": {},
     "output_type": "execute_result"
    }
   ],
   "source": [
    "healthinfo = load_healthinfosample()\n",
    "healthinfo.head(2).T"
   ]
  },
  {
   "cell_type": "markdown",
   "id": "1649b443-1ceb-4011-b904-2be677c32321",
   "metadata": {},
   "source": [
    "^ The `agecategory` feature is a character data that represents the age interval. We will need to convert that feature into numeric.\n",
    "\n",
    "```\n",
    "agecategory\t70-74\t65-69\n",
    "```"
   ]
  },
  {
   "cell_type": "markdown",
   "id": "6c59122b-8d35-45a1-9778-575480da98fb",
   "metadata": {},
   "source": [
    "### Check for missing values"
   ]
  },
  {
   "cell_type": "code",
   "execution_count": 3,
   "id": "99d07aef-ef60-4d2a-bfb1-6ffb51cb192a",
   "metadata": {
    "tags": []
   },
   "outputs": [
    {
     "data": {
      "text/plain": [
       "(30000, 18)"
      ]
     },
     "execution_count": 3,
     "metadata": {},
     "output_type": "execute_result"
    }
   ],
   "source": [
    "healthinfo.shape"
   ]
  },
  {
   "cell_type": "code",
   "execution_count": 4,
   "id": "877a3c46-e02b-4960-9432-3791dd0b1303",
   "metadata": {
    "tags": []
   },
   "outputs": [
    {
     "data": {
      "text/plain": [
       "heartdisease             0\n",
       "bmi                      0\n",
       "smoking                  0\n",
       "alcoholdrinkingheavy     0\n",
       "stroke                   0\n",
       "physicalhealthbaddays    0\n",
       "mentalhealthbaddays      0\n",
       "walkingdifficult         0\n",
       "gender                   0\n",
       "agecategory              0\n",
       "ethnicity                0\n",
       "diabetic                 0\n",
       "physicalactivity         0\n",
       "genhealth                0\n",
       "sleeptimenightly         0\n",
       "asthma                   0\n",
       "kidneydisease            0\n",
       "skincancer               0\n",
       "dtype: int64"
      ]
     },
     "execution_count": 4,
     "metadata": {},
     "output_type": "execute_result"
    }
   ],
   "source": [
    "healthinfo.isnull().sum()"
   ]
  },
  {
   "cell_type": "markdown",
   "id": "6a057df4-c83b-418d-af73-77f362ac9079",
   "metadata": {
    "tags": []
   },
   "source": [
    "^ We don't have any missing values. "
   ]
  },
  {
   "cell_type": "markdown",
   "id": "892af76e-46a2-4163-a9b4-a192cf659a54",
   "metadata": {},
   "source": [
    "### Target column\n",
    "\n",
    "The target column is `heartdisease`. We need to transform it into a `0` and `1` variable."
   ]
  },
  {
   "cell_type": "code",
   "execution_count": 5,
   "id": "79f0aad8-bc0c-46f1-a2a2-d055c4c01f06",
   "metadata": {
    "tags": []
   },
   "outputs": [
    {
     "data": {
      "text/plain": [
       "No     27467\n",
       "Yes     2533\n",
       "Name: heartdisease, dtype: int64"
      ]
     },
     "execution_count": 5,
     "metadata": {},
     "output_type": "execute_result"
    }
   ],
   "source": [
    "healthinfo.heartdisease.value_counts()"
   ]
  },
  {
   "cell_type": "code",
   "execution_count": 6,
   "id": "470a5218-d2dd-433d-a48a-329c546d53c5",
   "metadata": {
    "tags": []
   },
   "outputs": [
    {
     "data": {
      "text/plain": [
       "No     0.915567\n",
       "Yes    0.084433\n",
       "Name: heartdisease, dtype: float64"
      ]
     },
     "execution_count": 6,
     "metadata": {},
     "output_type": "execute_result"
    }
   ],
   "source": [
    "healthinfo.heartdisease.value_counts(normalize=True)"
   ]
  },
  {
   "cell_type": "markdown",
   "id": "58ea8469-aa9e-4c1b-a3d0-ace1f34e5a5e",
   "metadata": {},
   "source": [
    "^ Less than 10% of our observations have heartdisease. Our target's values are quite imbalanced."
   ]
  },
  {
   "cell_type": "code",
   "execution_count": 7,
   "id": "257bd7ed-4b31-48d7-86e7-d4025f8cc272",
   "metadata": {
    "tags": []
   },
   "outputs": [],
   "source": [
    "healthinfo[\"heartdisease\"] = np.where(healthinfo.heartdisease == \"No\", 0, 1).astype(int)"
   ]
  },
  {
   "cell_type": "code",
   "execution_count": 8,
   "id": "9f65bfed-40ad-48e6-af8b-296a16b9e2c0",
   "metadata": {
    "tags": []
   },
   "outputs": [
    {
     "data": {
      "text/plain": [
       "0    27467\n",
       "1     2533\n",
       "Name: heartdisease, dtype: int64"
      ]
     },
     "execution_count": 8,
     "metadata": {},
     "output_type": "execute_result"
    }
   ],
   "source": [
    "healthinfo.heartdisease.value_counts()"
   ]
  },
  {
   "cell_type": "markdown",
   "id": "fc7d7fed-5441-4a10-9c40-796dc13a6865",
   "metadata": {
    "tags": []
   },
   "source": [
    "### Preprocessing\n",
    "\n",
    "- scaling `numeric` features\n",
    "- one-hot encoding `categorical` features\n",
    "- convert to `ordinal` features"
   ]
  },
  {
   "cell_type": "code",
   "execution_count": 9,
   "id": "5de68b80-84e8-47df-8b08-33628b0c17fd",
   "metadata": {
    "tags": []
   },
   "outputs": [],
   "source": [
    "num_cols = [\"bmi\", \"physicalhealthbaddays\", \"mentalhealthbaddays\", \"sleeptimenightly\"]\n",
    "binary_cols = [\n",
    "    \"smoking\",\n",
    "    \"alcoholdrinkingheavy\",\n",
    "    \"stroke\",\n",
    "    \"walkingdifficult\",\n",
    "    \"physicalactivity\",\n",
    "    \"asthma\",\n",
    "    \"kidneydisease\",\n",
    "    \"skincancer\",\n",
    "]\n",
    "\n",
    "cat_cols = [\"gender\", \"ethnicity\"]\n",
    "spec_cols1 = [\"agecategory\"]\n",
    "spec_cols2 = [\"genhealth\"]\n",
    "spec_cols3 = [\"diabetic\"]"
   ]
  },
  {
   "cell_type": "code",
   "execution_count": 10,
   "id": "2b303c07-64f4-4467-8387-a4f654df680a",
   "metadata": {
    "tags": []
   },
   "outputs": [],
   "source": [
    "rep_dict = {\n",
    "    \"genhealth\": {\"Poor\": 0, \"Fair\": 1, \"Good\": 2, \"Very good\": 3, \"Excellent\": 4},\n",
    "    \"diabetic\": {\n",
    "        \"No\": 0,\n",
    "        \"No, borderline diabetes\": 0,\n",
    "        \"Yes\": 1,\n",
    "        \"Yes (during pregnancy)\": 1,\n",
    "    },\n",
    "}"
   ]
  },
  {
   "cell_type": "markdown",
   "id": "a9bbcd3e-3a2f-4397-a966-ed8ba6faaf80",
   "metadata": {},
   "source": [
    "### EDA\n",
    "- explore binary features\n",
    "- explore categorical features\n",
    "- explore numeric features"
   ]
  },
  {
   "cell_type": "code",
   "execution_count": 11,
   "id": "c0d42ec0-336a-44e4-88c6-6de012929d9b",
   "metadata": {
    "tags": []
   },
   "outputs": [
    {
     "data": {
      "text/html": [
       "<div>\n",
       "<style scoped>\n",
       "    .dataframe tbody tr th:only-of-type {\n",
       "        vertical-align: middle;\n",
       "    }\n",
       "\n",
       "    .dataframe tbody tr th {\n",
       "        vertical-align: top;\n",
       "    }\n",
       "\n",
       "    .dataframe thead th {\n",
       "        text-align: right;\n",
       "    }\n",
       "</style>\n",
       "<table border=\"1\" class=\"dataframe\">\n",
       "  <thead>\n",
       "    <tr style=\"text-align: right;\">\n",
       "      <th></th>\n",
       "      <th>No</th>\n",
       "      <th>Yes</th>\n",
       "    </tr>\n",
       "  </thead>\n",
       "  <tbody>\n",
       "    <tr>\n",
       "      <th>smoking</th>\n",
       "      <td>0.584300</td>\n",
       "      <td>0.415700</td>\n",
       "    </tr>\n",
       "    <tr>\n",
       "      <th>alcoholdrinkingheavy</th>\n",
       "      <td>0.933133</td>\n",
       "      <td>0.066867</td>\n",
       "    </tr>\n",
       "    <tr>\n",
       "      <th>stroke</th>\n",
       "      <td>0.962200</td>\n",
       "      <td>0.037800</td>\n",
       "    </tr>\n",
       "    <tr>\n",
       "      <th>walkingdifficult</th>\n",
       "      <td>0.862467</td>\n",
       "      <td>0.137533</td>\n",
       "    </tr>\n",
       "    <tr>\n",
       "      <th>physicalactivity</th>\n",
       "      <td>0.227267</td>\n",
       "      <td>0.772733</td>\n",
       "    </tr>\n",
       "    <tr>\n",
       "      <th>asthma</th>\n",
       "      <td>0.865500</td>\n",
       "      <td>0.134500</td>\n",
       "    </tr>\n",
       "    <tr>\n",
       "      <th>kidneydisease</th>\n",
       "      <td>0.962500</td>\n",
       "      <td>0.037500</td>\n",
       "    </tr>\n",
       "    <tr>\n",
       "      <th>skincancer</th>\n",
       "      <td>0.906233</td>\n",
       "      <td>0.093767</td>\n",
       "    </tr>\n",
       "  </tbody>\n",
       "</table>\n",
       "</div>"
      ],
      "text/plain": [
       "                            No       Yes\n",
       "smoking               0.584300  0.415700\n",
       "alcoholdrinkingheavy  0.933133  0.066867\n",
       "stroke                0.962200  0.037800\n",
       "walkingdifficult      0.862467  0.137533\n",
       "physicalactivity      0.227267  0.772733\n",
       "asthma                0.865500  0.134500\n",
       "kidneydisease         0.962500  0.037500\n",
       "skincancer            0.906233  0.093767"
      ]
     },
     "execution_count": 11,
     "metadata": {},
     "output_type": "execute_result"
    }
   ],
   "source": [
    "healthinfo[binary_cols].apply(pd.value_counts, normalize=True).T"
   ]
  },
  {
   "cell_type": "markdown",
   "id": "8ab0577f-dc87-4bd2-949a-49c2f839cfaf",
   "metadata": {},
   "source": [
    "^ how to interpret? A large percentage of the individuals (42%) report that they have been smokers. 14% report that they have difficulty walking.\n",
    "\n",
    "Template:\n",
    "\n",
    "```\n",
    "n% report that <cause>\n",
    "```"
   ]
  },
  {
   "cell_type": "code",
   "execution_count": 12,
   "id": "b620c4a2-202d-4602-ad64-1f48ad9b5fff",
   "metadata": {
    "tags": []
   },
   "outputs": [
    {
     "name": "stdout",
     "output_type": "stream",
     "text": [
      "gender\n",
      "------------------------------\n",
      "Female    0.5229\n",
      "Male      0.4771\n",
      "Name: gender, dtype: float64\n",
      "\n",
      "ethnicity\n",
      "------------------------------\n",
      "American Indian/Alaskan Native    0.017000\n",
      "Asian                             0.026333\n",
      "Black                             0.070667\n",
      "Hispanic                          0.085733\n",
      "Other                             0.033533\n",
      "White                             0.766733\n",
      "Name: ethnicity, dtype: float64\n",
      "\n",
      "genhealth\n",
      "------------------------------\n",
      "Excellent    0.207200\n",
      "Fair         0.110733\n",
      "Good         0.291533\n",
      "Poor         0.035400\n",
      "Very good    0.355133\n",
      "Name: genhealth, dtype: float64\n",
      "\n",
      "diabetic\n",
      "------------------------------\n",
      "No                         0.844767\n",
      "No, borderline diabetes    0.022367\n",
      "Yes                        0.125100\n",
      "Yes (during pregnancy)     0.007767\n",
      "Name: diabetic, dtype: float64\n",
      "\n"
     ]
    }
   ],
   "source": [
    "for col in cat_cols + [\"genhealth\", \"diabetic\"]:\n",
    "    print(\n",
    "        col,\n",
    "        \"------------------------------\",\n",
    "        healthinfo[col].value_counts(normalize=True).sort_index(),\n",
    "        sep=\"\\n\",\n",
    "        end=\"\\n\\n\",\n",
    "    )"
   ]
  },
  {
   "cell_type": "markdown",
   "id": "8afecf80-fa47-4d9a-bb10-6178bfe8b18e",
   "metadata": {},
   "source": [
    "^ There are nearly equal numbers of men and women.\n",
    "\n",
    "Most people report excellent or very good health."
   ]
  },
  {
   "cell_type": "code",
   "execution_count": 13,
   "id": "f809fc6a-a54a-4783-8a8e-863b9649fb78",
   "metadata": {
    "tags": []
   },
   "outputs": [
    {
     "data": {
      "text/html": [
       "<div>\n",
       "<style scoped>\n",
       "    .dataframe tbody tr th:only-of-type {\n",
       "        vertical-align: middle;\n",
       "    }\n",
       "\n",
       "    .dataframe tbody tr th {\n",
       "        vertical-align: top;\n",
       "    }\n",
       "\n",
       "    .dataframe thead th {\n",
       "        text-align: right;\n",
       "    }\n",
       "</style>\n",
       "<table border=\"1\" class=\"dataframe\">\n",
       "  <thead>\n",
       "    <tr style=\"text-align: right;\">\n",
       "      <th></th>\n",
       "      <th>count</th>\n",
       "      <th>min</th>\n",
       "      <th>median</th>\n",
       "      <th>max</th>\n",
       "    </tr>\n",
       "  </thead>\n",
       "  <tbody>\n",
       "    <tr>\n",
       "      <th>bmi</th>\n",
       "      <td>30000.0</td>\n",
       "      <td>12.02</td>\n",
       "      <td>27.34</td>\n",
       "      <td>91.55</td>\n",
       "    </tr>\n",
       "    <tr>\n",
       "      <th>physicalhealthbaddays</th>\n",
       "      <td>30000.0</td>\n",
       "      <td>0.00</td>\n",
       "      <td>0.00</td>\n",
       "      <td>30.00</td>\n",
       "    </tr>\n",
       "    <tr>\n",
       "      <th>mentalhealthbaddays</th>\n",
       "      <td>30000.0</td>\n",
       "      <td>0.00</td>\n",
       "      <td>0.00</td>\n",
       "      <td>30.00</td>\n",
       "    </tr>\n",
       "    <tr>\n",
       "      <th>sleeptimenightly</th>\n",
       "      <td>30000.0</td>\n",
       "      <td>1.00</td>\n",
       "      <td>7.00</td>\n",
       "      <td>24.00</td>\n",
       "    </tr>\n",
       "  </tbody>\n",
       "</table>\n",
       "</div>"
      ],
      "text/plain": [
       "                         count    min  median    max\n",
       "bmi                    30000.0  12.02   27.34  91.55\n",
       "physicalhealthbaddays  30000.0   0.00    0.00  30.00\n",
       "mentalhealthbaddays    30000.0   0.00    0.00  30.00\n",
       "sleeptimenightly       30000.0   1.00    7.00  24.00"
      ]
     },
     "execution_count": 13,
     "metadata": {},
     "output_type": "execute_result"
    }
   ],
   "source": [
    "healthinfo[num_cols].agg([\"count\", \"min\", \"median\", \"max\"]).T"
   ]
  },
  {
   "cell_type": "markdown",
   "id": "743a4f36-f816-4c2d-a64b-2e9f58e1e8ed",
   "metadata": {},
   "source": [
    "- we need to do scaling\n",
    "- we need to do some encoding of the categorical features\n",
    "- we need to remove extreme values for some numerical features. A `sleeptimenightly` value of 24 seems unlikely"
   ]
  },
  {
   "cell_type": "markdown",
   "id": "51bbed69-025b-49f7-be4c-3919bfd16447",
   "metadata": {},
   "source": [
    "### Create train and test data"
   ]
  },
  {
   "cell_type": "code",
   "execution_count": 14,
   "id": "0c3102ad-14ff-45b0-8737-d2820abb586f",
   "metadata": {
    "tags": []
   },
   "outputs": [],
   "source": [
    "X_train, X_test, y_train, y_test = train_test_split(\n",
    "    healthinfo[\n",
    "        num_cols + binary_cols + cat_cols + spec_cols1 + spec_cols2 + spec_cols3\n",
    "    ],\n",
    "    healthinfo[\"heartdisease\"],\n",
    "    test_size=0.2,\n",
    "    random_state=0,\n",
    ")"
   ]
  },
  {
   "cell_type": "markdown",
   "id": "c6167090-e93a-4dbc-ad47-aca61f0ed9ce",
   "metadata": {},
   "source": [
    "### Column transformation\n",
    "\n",
    "- categorical features - one-hot encoding\n",
    "- numeric features - remove extreme values, impute median\n",
    "- convert `agecategory` features into ordinal values using `MakeOrdinal`\n",
    "- replace `genhealth` and `diabetic` features using the `ReplaceVals`"
   ]
  },
  {
   "cell_type": "code",
   "execution_count": 15,
   "id": "c200248a-a5af-46cd-8fbe-28271ebcae1c",
   "metadata": {
    "tags": []
   },
   "outputs": [],
   "source": [
    "ohe = OneHotEncoder(drop=\"first\", sparse=False)\n",
    "\n",
    "standtrans = make_pipeline(\n",
    "    OutlierTrans(3), SimpleImputer(strategy=\"median\"), StandardScaler()\n",
    ")\n",
    "spectrans1 = make_pipeline(MakeOrdinal(), StandardScaler())\n",
    "spectrans2 = make_pipeline(ReplaceVals(rep_dict), StandardScaler())\n",
    "spectrans3 = make_pipeline(ReplaceVals(rep_dict))\n",
    "bintrans = make_pipeline(ohe)\n",
    "cattrans = make_pipeline(ohe)\n",
    "coltrans = ColumnTransformer(\n",
    "    transformers=[\n",
    "        (\"stand\", standtrans, num_cols),\n",
    "        (\"spec1\", spectrans1, spec_cols1),\n",
    "        (\"spec2\", spectrans2, spec_cols2),\n",
    "        (\"spec3\", spectrans3, spec_cols3),\n",
    "        (\"bin\", bintrans, binary_cols),\n",
    "        (\"cat\", cattrans, cat_cols),\n",
    "    ]\n",
    ")"
   ]
  },
  {
   "cell_type": "markdown",
   "id": "377b185e-12a5-4e41-aee8-d94a52ff3199",
   "metadata": {},
   "source": [
    "### Setup pipeline\n",
    "\n",
    "- setup a logistic regression and instantiate a stratified k-fold object\n",
    "- recall that the recursive feature elimination needs an estimator\n",
    "- remember that our dataset is imbalanced\n",
    "- we use stratified k-fold to get approximately the same target value distribution in each fold\n",
    "- we create another logistic regresion instance for our model\n",
    "- set the `class_weight` to `balanced` \n",
    "- this should improve the model's ability to deal with the class imbalance"
   ]
  },
  {
   "cell_type": "code",
   "execution_count": 16,
   "id": "1fb7b9ae-1df5-41cf-a723-8104cf025d2f",
   "metadata": {
    "tags": []
   },
   "outputs": [
    {
     "data": {
      "text/html": [
       "<style>#sk-container-id-1 {color: black;background-color: white;}#sk-container-id-1 pre{padding: 0;}#sk-container-id-1 div.sk-toggleable {background-color: white;}#sk-container-id-1 label.sk-toggleable__label {cursor: pointer;display: block;width: 100%;margin-bottom: 0;padding: 0.3em;box-sizing: border-box;text-align: center;}#sk-container-id-1 label.sk-toggleable__label-arrow:before {content: \"▸\";float: left;margin-right: 0.25em;color: #696969;}#sk-container-id-1 label.sk-toggleable__label-arrow:hover:before {color: black;}#sk-container-id-1 div.sk-estimator:hover label.sk-toggleable__label-arrow:before {color: black;}#sk-container-id-1 div.sk-toggleable__content {max-height: 0;max-width: 0;overflow: hidden;text-align: left;background-color: #f0f8ff;}#sk-container-id-1 div.sk-toggleable__content pre {margin: 0.2em;color: black;border-radius: 0.25em;background-color: #f0f8ff;}#sk-container-id-1 input.sk-toggleable__control:checked~div.sk-toggleable__content {max-height: 200px;max-width: 100%;overflow: auto;}#sk-container-id-1 input.sk-toggleable__control:checked~label.sk-toggleable__label-arrow:before {content: \"▾\";}#sk-container-id-1 div.sk-estimator input.sk-toggleable__control:checked~label.sk-toggleable__label {background-color: #d4ebff;}#sk-container-id-1 div.sk-label input.sk-toggleable__control:checked~label.sk-toggleable__label {background-color: #d4ebff;}#sk-container-id-1 input.sk-hidden--visually {border: 0;clip: rect(1px 1px 1px 1px);clip: rect(1px, 1px, 1px, 1px);height: 1px;margin: -1px;overflow: hidden;padding: 0;position: absolute;width: 1px;}#sk-container-id-1 div.sk-estimator {font-family: monospace;background-color: #f0f8ff;border: 1px dotted black;border-radius: 0.25em;box-sizing: border-box;margin-bottom: 0.5em;}#sk-container-id-1 div.sk-estimator:hover {background-color: #d4ebff;}#sk-container-id-1 div.sk-parallel-item::after {content: \"\";width: 100%;border-bottom: 1px solid gray;flex-grow: 1;}#sk-container-id-1 div.sk-label:hover label.sk-toggleable__label {background-color: #d4ebff;}#sk-container-id-1 div.sk-serial::before {content: \"\";position: absolute;border-left: 1px solid gray;box-sizing: border-box;top: 0;bottom: 0;left: 50%;z-index: 0;}#sk-container-id-1 div.sk-serial {display: flex;flex-direction: column;align-items: center;background-color: white;padding-right: 0.2em;padding-left: 0.2em;position: relative;}#sk-container-id-1 div.sk-item {position: relative;z-index: 1;}#sk-container-id-1 div.sk-parallel {display: flex;align-items: stretch;justify-content: center;background-color: white;position: relative;}#sk-container-id-1 div.sk-item::before, #sk-container-id-1 div.sk-parallel-item::before {content: \"\";position: absolute;border-left: 1px solid gray;box-sizing: border-box;top: 0;bottom: 0;left: 50%;z-index: -1;}#sk-container-id-1 div.sk-parallel-item {display: flex;flex-direction: column;z-index: 1;position: relative;background-color: white;}#sk-container-id-1 div.sk-parallel-item:first-child::after {align-self: flex-end;width: 50%;}#sk-container-id-1 div.sk-parallel-item:last-child::after {align-self: flex-start;width: 50%;}#sk-container-id-1 div.sk-parallel-item:only-child::after {width: 0;}#sk-container-id-1 div.sk-dashed-wrapped {border: 1px dashed gray;margin: 0 0.4em 0.5em 0.4em;box-sizing: border-box;padding-bottom: 0.4em;background-color: white;}#sk-container-id-1 div.sk-label label {font-family: monospace;font-weight: bold;display: inline-block;line-height: 1.2em;}#sk-container-id-1 div.sk-label-container {text-align: center;}#sk-container-id-1 div.sk-container {/* jupyter's `normalize.less` sets `[hidden] { display: none; }` but bootstrap.min.css set `[hidden] { display: none !important; }` so we also need the `!important` here to be able to override the default hidden behavior on the sphinx rendered scikit-learn.org. See: https://github.com/scikit-learn/scikit-learn/issues/21755 */display: inline-block !important;position: relative;}#sk-container-id-1 div.sk-text-repr-fallback {display: none;}</style><div id=\"sk-container-id-1\" class=\"sk-top-container\"><div class=\"sk-text-repr-fallback\"><pre>Pipeline(steps=[(&#x27;columntransformer&#x27;,\n",
       "                 ColumnTransformer(transformers=[(&#x27;stand&#x27;,\n",
       "                                                  Pipeline(steps=[(&#x27;outliertrans&#x27;,\n",
       "                                                                   OutlierTrans(threshold=3)),\n",
       "                                                                  (&#x27;simpleimputer&#x27;,\n",
       "                                                                   SimpleImputer(strategy=&#x27;median&#x27;)),\n",
       "                                                                  (&#x27;standardscaler&#x27;,\n",
       "                                                                   StandardScaler())]),\n",
       "                                                  [&#x27;bmi&#x27;,\n",
       "                                                   &#x27;physicalhealthbaddays&#x27;,\n",
       "                                                   &#x27;mentalhealthbaddays&#x27;,\n",
       "                                                   &#x27;sleeptimenightly&#x27;]),\n",
       "                                                 (&#x27;spec1&#x27;,\n",
       "                                                  Pipeline(steps=[(&#x27;makeordinal&#x27;,\n",
       "                                                                   MakeOrdina...\n",
       "                                                   &#x27;skincancer&#x27;]),\n",
       "                                                 (&#x27;cat&#x27;,\n",
       "                                                  Pipeline(steps=[(&#x27;onehotencoder&#x27;,\n",
       "                                                                   OneHotEncoder(drop=&#x27;first&#x27;,\n",
       "                                                                                 sparse=False))]),\n",
       "                                                  [&#x27;gender&#x27;, &#x27;ethnicity&#x27;])])),\n",
       "                (&#x27;rfecv&#x27;,\n",
       "                 RFECV(cv=StratifiedKFold(n_splits=5, random_state=None, shuffle=True),\n",
       "                       estimator=LogisticRegression(max_iter=1000,\n",
       "                                                    random_state=1))),\n",
       "                (&#x27;logisticregression&#x27;,\n",
       "                 LogisticRegression(class_weight=&#x27;balanced&#x27;, max_iter=1000,\n",
       "                                    random_state=1))])</pre><b>In a Jupyter environment, please rerun this cell to show the HTML representation or trust the notebook. <br />On GitHub, the HTML representation is unable to render, please try loading this page with nbviewer.org.</b></div><div class=\"sk-container\" hidden><div class=\"sk-item sk-dashed-wrapped\"><div class=\"sk-label-container\"><div class=\"sk-label sk-toggleable\"><input class=\"sk-toggleable__control sk-hidden--visually\" id=\"sk-estimator-id-1\" type=\"checkbox\" ><label for=\"sk-estimator-id-1\" class=\"sk-toggleable__label sk-toggleable__label-arrow\">Pipeline</label><div class=\"sk-toggleable__content\"><pre>Pipeline(steps=[(&#x27;columntransformer&#x27;,\n",
       "                 ColumnTransformer(transformers=[(&#x27;stand&#x27;,\n",
       "                                                  Pipeline(steps=[(&#x27;outliertrans&#x27;,\n",
       "                                                                   OutlierTrans(threshold=3)),\n",
       "                                                                  (&#x27;simpleimputer&#x27;,\n",
       "                                                                   SimpleImputer(strategy=&#x27;median&#x27;)),\n",
       "                                                                  (&#x27;standardscaler&#x27;,\n",
       "                                                                   StandardScaler())]),\n",
       "                                                  [&#x27;bmi&#x27;,\n",
       "                                                   &#x27;physicalhealthbaddays&#x27;,\n",
       "                                                   &#x27;mentalhealthbaddays&#x27;,\n",
       "                                                   &#x27;sleeptimenightly&#x27;]),\n",
       "                                                 (&#x27;spec1&#x27;,\n",
       "                                                  Pipeline(steps=[(&#x27;makeordinal&#x27;,\n",
       "                                                                   MakeOrdina...\n",
       "                                                   &#x27;skincancer&#x27;]),\n",
       "                                                 (&#x27;cat&#x27;,\n",
       "                                                  Pipeline(steps=[(&#x27;onehotencoder&#x27;,\n",
       "                                                                   OneHotEncoder(drop=&#x27;first&#x27;,\n",
       "                                                                                 sparse=False))]),\n",
       "                                                  [&#x27;gender&#x27;, &#x27;ethnicity&#x27;])])),\n",
       "                (&#x27;rfecv&#x27;,\n",
       "                 RFECV(cv=StratifiedKFold(n_splits=5, random_state=None, shuffle=True),\n",
       "                       estimator=LogisticRegression(max_iter=1000,\n",
       "                                                    random_state=1))),\n",
       "                (&#x27;logisticregression&#x27;,\n",
       "                 LogisticRegression(class_weight=&#x27;balanced&#x27;, max_iter=1000,\n",
       "                                    random_state=1))])</pre></div></div></div><div class=\"sk-serial\"><div class=\"sk-item sk-dashed-wrapped\"><div class=\"sk-label-container\"><div class=\"sk-label sk-toggleable\"><input class=\"sk-toggleable__control sk-hidden--visually\" id=\"sk-estimator-id-2\" type=\"checkbox\" ><label for=\"sk-estimator-id-2\" class=\"sk-toggleable__label sk-toggleable__label-arrow\">columntransformer: ColumnTransformer</label><div class=\"sk-toggleable__content\"><pre>ColumnTransformer(transformers=[(&#x27;stand&#x27;,\n",
       "                                 Pipeline(steps=[(&#x27;outliertrans&#x27;,\n",
       "                                                  OutlierTrans(threshold=3)),\n",
       "                                                 (&#x27;simpleimputer&#x27;,\n",
       "                                                  SimpleImputer(strategy=&#x27;median&#x27;)),\n",
       "                                                 (&#x27;standardscaler&#x27;,\n",
       "                                                  StandardScaler())]),\n",
       "                                 [&#x27;bmi&#x27;, &#x27;physicalhealthbaddays&#x27;,\n",
       "                                  &#x27;mentalhealthbaddays&#x27;, &#x27;sleeptimenightly&#x27;]),\n",
       "                                (&#x27;spec1&#x27;,\n",
       "                                 Pipeline(steps=[(&#x27;makeordinal&#x27;, MakeOrdinal()),\n",
       "                                                 (&#x27;standardscaler&#x27;,\n",
       "                                                  StandardScaler...\n",
       "                                                                                     &#x27;Poor&#x27;: 0,\n",
       "                                                                                     &#x27;Very good&#x27;: 3}}))]),\n",
       "                                 [&#x27;diabetic&#x27;]),\n",
       "                                (&#x27;bin&#x27;,\n",
       "                                 Pipeline(steps=[(&#x27;onehotencoder&#x27;,\n",
       "                                                  OneHotEncoder(drop=&#x27;first&#x27;,\n",
       "                                                                sparse=False))]),\n",
       "                                 [&#x27;smoking&#x27;, &#x27;alcoholdrinkingheavy&#x27;, &#x27;stroke&#x27;,\n",
       "                                  &#x27;walkingdifficult&#x27;, &#x27;physicalactivity&#x27;,\n",
       "                                  &#x27;asthma&#x27;, &#x27;kidneydisease&#x27;, &#x27;skincancer&#x27;]),\n",
       "                                (&#x27;cat&#x27;,\n",
       "                                 Pipeline(steps=[(&#x27;onehotencoder&#x27;,\n",
       "                                                  OneHotEncoder(drop=&#x27;first&#x27;,\n",
       "                                                                sparse=False))]),\n",
       "                                 [&#x27;gender&#x27;, &#x27;ethnicity&#x27;])])</pre></div></div></div><div class=\"sk-parallel\"><div class=\"sk-parallel-item\"><div class=\"sk-item\"><div class=\"sk-label-container\"><div class=\"sk-label sk-toggleable\"><input class=\"sk-toggleable__control sk-hidden--visually\" id=\"sk-estimator-id-3\" type=\"checkbox\" ><label for=\"sk-estimator-id-3\" class=\"sk-toggleable__label sk-toggleable__label-arrow\">stand</label><div class=\"sk-toggleable__content\"><pre>[&#x27;bmi&#x27;, &#x27;physicalhealthbaddays&#x27;, &#x27;mentalhealthbaddays&#x27;, &#x27;sleeptimenightly&#x27;]</pre></div></div></div><div class=\"sk-serial\"><div class=\"sk-item\"><div class=\"sk-serial\"><div class=\"sk-item\"><div class=\"sk-estimator sk-toggleable\"><input class=\"sk-toggleable__control sk-hidden--visually\" id=\"sk-estimator-id-4\" type=\"checkbox\" ><label for=\"sk-estimator-id-4\" class=\"sk-toggleable__label sk-toggleable__label-arrow\">OutlierTrans</label><div class=\"sk-toggleable__content\"><pre>OutlierTrans(threshold=3)</pre></div></div></div><div class=\"sk-item\"><div class=\"sk-estimator sk-toggleable\"><input class=\"sk-toggleable__control sk-hidden--visually\" id=\"sk-estimator-id-5\" type=\"checkbox\" ><label for=\"sk-estimator-id-5\" class=\"sk-toggleable__label sk-toggleable__label-arrow\">SimpleImputer</label><div class=\"sk-toggleable__content\"><pre>SimpleImputer(strategy=&#x27;median&#x27;)</pre></div></div></div><div class=\"sk-item\"><div class=\"sk-estimator sk-toggleable\"><input class=\"sk-toggleable__control sk-hidden--visually\" id=\"sk-estimator-id-6\" type=\"checkbox\" ><label for=\"sk-estimator-id-6\" class=\"sk-toggleable__label sk-toggleable__label-arrow\">StandardScaler</label><div class=\"sk-toggleable__content\"><pre>StandardScaler()</pre></div></div></div></div></div></div></div></div><div class=\"sk-parallel-item\"><div class=\"sk-item\"><div class=\"sk-label-container\"><div class=\"sk-label sk-toggleable\"><input class=\"sk-toggleable__control sk-hidden--visually\" id=\"sk-estimator-id-7\" type=\"checkbox\" ><label for=\"sk-estimator-id-7\" class=\"sk-toggleable__label sk-toggleable__label-arrow\">spec1</label><div class=\"sk-toggleable__content\"><pre>[&#x27;agecategory&#x27;]</pre></div></div></div><div class=\"sk-serial\"><div class=\"sk-item\"><div class=\"sk-serial\"><div class=\"sk-item\"><div class=\"sk-estimator sk-toggleable\"><input class=\"sk-toggleable__control sk-hidden--visually\" id=\"sk-estimator-id-8\" type=\"checkbox\" ><label for=\"sk-estimator-id-8\" class=\"sk-toggleable__label sk-toggleable__label-arrow\">MakeOrdinal</label><div class=\"sk-toggleable__content\"><pre>MakeOrdinal()</pre></div></div></div><div class=\"sk-item\"><div class=\"sk-estimator sk-toggleable\"><input class=\"sk-toggleable__control sk-hidden--visually\" id=\"sk-estimator-id-9\" type=\"checkbox\" ><label for=\"sk-estimator-id-9\" class=\"sk-toggleable__label sk-toggleable__label-arrow\">StandardScaler</label><div class=\"sk-toggleable__content\"><pre>StandardScaler()</pre></div></div></div></div></div></div></div></div><div class=\"sk-parallel-item\"><div class=\"sk-item\"><div class=\"sk-label-container\"><div class=\"sk-label sk-toggleable\"><input class=\"sk-toggleable__control sk-hidden--visually\" id=\"sk-estimator-id-10\" type=\"checkbox\" ><label for=\"sk-estimator-id-10\" class=\"sk-toggleable__label sk-toggleable__label-arrow\">spec2</label><div class=\"sk-toggleable__content\"><pre>[&#x27;genhealth&#x27;]</pre></div></div></div><div class=\"sk-serial\"><div class=\"sk-item\"><div class=\"sk-serial\"><div class=\"sk-item\"><div class=\"sk-estimator sk-toggleable\"><input class=\"sk-toggleable__control sk-hidden--visually\" id=\"sk-estimator-id-11\" type=\"checkbox\" ><label for=\"sk-estimator-id-11\" class=\"sk-toggleable__label sk-toggleable__label-arrow\">ReplaceVals</label><div class=\"sk-toggleable__content\"><pre>ReplaceVals(repdict={&#x27;diabetic&#x27;: {&#x27;No&#x27;: 0, &#x27;No, borderline diabetes&#x27;: 0,\n",
       "                                  &#x27;Yes&#x27;: 1, &#x27;Yes (during pregnancy)&#x27;: 1},\n",
       "                     &#x27;genhealth&#x27;: {&#x27;Excellent&#x27;: 4, &#x27;Fair&#x27;: 1, &#x27;Good&#x27;: 2,\n",
       "                                   &#x27;Poor&#x27;: 0, &#x27;Very good&#x27;: 3}})</pre></div></div></div><div class=\"sk-item\"><div class=\"sk-estimator sk-toggleable\"><input class=\"sk-toggleable__control sk-hidden--visually\" id=\"sk-estimator-id-12\" type=\"checkbox\" ><label for=\"sk-estimator-id-12\" class=\"sk-toggleable__label sk-toggleable__label-arrow\">StandardScaler</label><div class=\"sk-toggleable__content\"><pre>StandardScaler()</pre></div></div></div></div></div></div></div></div><div class=\"sk-parallel-item\"><div class=\"sk-item\"><div class=\"sk-label-container\"><div class=\"sk-label sk-toggleable\"><input class=\"sk-toggleable__control sk-hidden--visually\" id=\"sk-estimator-id-13\" type=\"checkbox\" ><label for=\"sk-estimator-id-13\" class=\"sk-toggleable__label sk-toggleable__label-arrow\">spec3</label><div class=\"sk-toggleable__content\"><pre>[&#x27;diabetic&#x27;]</pre></div></div></div><div class=\"sk-serial\"><div class=\"sk-item\"><div class=\"sk-serial\"><div class=\"sk-item\"><div class=\"sk-estimator sk-toggleable\"><input class=\"sk-toggleable__control sk-hidden--visually\" id=\"sk-estimator-id-14\" type=\"checkbox\" ><label for=\"sk-estimator-id-14\" class=\"sk-toggleable__label sk-toggleable__label-arrow\">ReplaceVals</label><div class=\"sk-toggleable__content\"><pre>ReplaceVals(repdict={&#x27;diabetic&#x27;: {&#x27;No&#x27;: 0, &#x27;No, borderline diabetes&#x27;: 0,\n",
       "                                  &#x27;Yes&#x27;: 1, &#x27;Yes (during pregnancy)&#x27;: 1},\n",
       "                     &#x27;genhealth&#x27;: {&#x27;Excellent&#x27;: 4, &#x27;Fair&#x27;: 1, &#x27;Good&#x27;: 2,\n",
       "                                   &#x27;Poor&#x27;: 0, &#x27;Very good&#x27;: 3}})</pre></div></div></div></div></div></div></div></div><div class=\"sk-parallel-item\"><div class=\"sk-item\"><div class=\"sk-label-container\"><div class=\"sk-label sk-toggleable\"><input class=\"sk-toggleable__control sk-hidden--visually\" id=\"sk-estimator-id-15\" type=\"checkbox\" ><label for=\"sk-estimator-id-15\" class=\"sk-toggleable__label sk-toggleable__label-arrow\">bin</label><div class=\"sk-toggleable__content\"><pre>[&#x27;smoking&#x27;, &#x27;alcoholdrinkingheavy&#x27;, &#x27;stroke&#x27;, &#x27;walkingdifficult&#x27;, &#x27;physicalactivity&#x27;, &#x27;asthma&#x27;, &#x27;kidneydisease&#x27;, &#x27;skincancer&#x27;]</pre></div></div></div><div class=\"sk-serial\"><div class=\"sk-item\"><div class=\"sk-serial\"><div class=\"sk-item\"><div class=\"sk-estimator sk-toggleable\"><input class=\"sk-toggleable__control sk-hidden--visually\" id=\"sk-estimator-id-16\" type=\"checkbox\" ><label for=\"sk-estimator-id-16\" class=\"sk-toggleable__label sk-toggleable__label-arrow\">OneHotEncoder</label><div class=\"sk-toggleable__content\"><pre>OneHotEncoder(drop=&#x27;first&#x27;, sparse=False)</pre></div></div></div></div></div></div></div></div><div class=\"sk-parallel-item\"><div class=\"sk-item\"><div class=\"sk-label-container\"><div class=\"sk-label sk-toggleable\"><input class=\"sk-toggleable__control sk-hidden--visually\" id=\"sk-estimator-id-17\" type=\"checkbox\" ><label for=\"sk-estimator-id-17\" class=\"sk-toggleable__label sk-toggleable__label-arrow\">cat</label><div class=\"sk-toggleable__content\"><pre>[&#x27;gender&#x27;, &#x27;ethnicity&#x27;]</pre></div></div></div><div class=\"sk-serial\"><div class=\"sk-item\"><div class=\"sk-serial\"><div class=\"sk-item\"><div class=\"sk-estimator sk-toggleable\"><input class=\"sk-toggleable__control sk-hidden--visually\" id=\"sk-estimator-id-18\" type=\"checkbox\" ><label for=\"sk-estimator-id-18\" class=\"sk-toggleable__label sk-toggleable__label-arrow\">OneHotEncoder</label><div class=\"sk-toggleable__content\"><pre>OneHotEncoder(drop=&#x27;first&#x27;, sparse=False)</pre></div></div></div></div></div></div></div></div></div></div><div class=\"sk-item sk-dashed-wrapped\"><div class=\"sk-label-container\"><div class=\"sk-label sk-toggleable\"><input class=\"sk-toggleable__control sk-hidden--visually\" id=\"sk-estimator-id-19\" type=\"checkbox\" ><label for=\"sk-estimator-id-19\" class=\"sk-toggleable__label sk-toggleable__label-arrow\">rfecv: RFECV</label><div class=\"sk-toggleable__content\"><pre>RFECV(cv=StratifiedKFold(n_splits=5, random_state=None, shuffle=True),\n",
       "      estimator=LogisticRegression(max_iter=1000, random_state=1))</pre></div></div></div><div class=\"sk-parallel\"><div class=\"sk-parallel-item\"><div class=\"sk-item\"><div class=\"sk-label-container\"><div class=\"sk-label sk-toggleable\"><input class=\"sk-toggleable__control sk-hidden--visually\" id=\"sk-estimator-id-20\" type=\"checkbox\" ><label for=\"sk-estimator-id-20\" class=\"sk-toggleable__label sk-toggleable__label-arrow\">estimator: LogisticRegression</label><div class=\"sk-toggleable__content\"><pre>LogisticRegression(max_iter=1000, random_state=1)</pre></div></div></div><div class=\"sk-serial\"><div class=\"sk-item\"><div class=\"sk-estimator sk-toggleable\"><input class=\"sk-toggleable__control sk-hidden--visually\" id=\"sk-estimator-id-21\" type=\"checkbox\" ><label for=\"sk-estimator-id-21\" class=\"sk-toggleable__label sk-toggleable__label-arrow\">LogisticRegression</label><div class=\"sk-toggleable__content\"><pre>LogisticRegression(max_iter=1000, random_state=1)</pre></div></div></div></div></div></div></div></div><div class=\"sk-item\"><div class=\"sk-estimator sk-toggleable\"><input class=\"sk-toggleable__control sk-hidden--visually\" id=\"sk-estimator-id-22\" type=\"checkbox\" ><label for=\"sk-estimator-id-22\" class=\"sk-toggleable__label sk-toggleable__label-arrow\">LogisticRegression</label><div class=\"sk-toggleable__content\"><pre>LogisticRegression(class_weight=&#x27;balanced&#x27;, max_iter=1000, random_state=1)</pre></div></div></div></div></div></div></div>"
      ],
      "text/plain": [
       "Pipeline(steps=[('columntransformer',\n",
       "                 ColumnTransformer(transformers=[('stand',\n",
       "                                                  Pipeline(steps=[('outliertrans',\n",
       "                                                                   OutlierTrans(threshold=3)),\n",
       "                                                                  ('simpleimputer',\n",
       "                                                                   SimpleImputer(strategy='median')),\n",
       "                                                                  ('standardscaler',\n",
       "                                                                   StandardScaler())]),\n",
       "                                                  ['bmi',\n",
       "                                                   'physicalhealthbaddays',\n",
       "                                                   'mentalhealthbaddays',\n",
       "                                                   'sleeptimenightly']),\n",
       "                                                 ('spec1',\n",
       "                                                  Pipeline(steps=[('makeordinal',\n",
       "                                                                   MakeOrdina...\n",
       "                                                   'skincancer']),\n",
       "                                                 ('cat',\n",
       "                                                  Pipeline(steps=[('onehotencoder',\n",
       "                                                                   OneHotEncoder(drop='first',\n",
       "                                                                                 sparse=False))]),\n",
       "                                                  ['gender', 'ethnicity'])])),\n",
       "                ('rfecv',\n",
       "                 RFECV(cv=StratifiedKFold(n_splits=5, random_state=None, shuffle=True),\n",
       "                       estimator=LogisticRegression(max_iter=1000,\n",
       "                                                    random_state=1))),\n",
       "                ('logisticregression',\n",
       "                 LogisticRegression(class_weight='balanced', max_iter=1000,\n",
       "                                    random_state=1))])"
      ]
     },
     "execution_count": 16,
     "metadata": {},
     "output_type": "execute_result"
    }
   ],
   "source": [
    "lrsel = LogisticRegression(random_state=1, max_iter=1000)\n",
    "kf = StratifiedKFold(n_splits=5, shuffle=True)\n",
    "rfecv = RFECV(estimator=lrsel, cv=kf)\n",
    "lr = LogisticRegression(random_state=1, class_weight=\"balanced\", max_iter=1000)\n",
    "\n",
    "pipe1 = make_pipeline(coltrans, rfecv, lr)\n",
    "pipe1.fit(X_train, y_train)"
   ]
  },
  {
   "cell_type": "markdown",
   "id": "90db489f-7955-49ae-a412-36458fee7698",
   "metadata": {},
   "source": [
    "We need to do a little work to recover the column names from the pipeline after the fit. \n",
    "\n",
    "We should only get the column names for the binary and categorical features after the encoding. The names of the numerical features remained unchanged."
   ]
  },
  {
   "cell_type": "code",
   "execution_count": 17,
   "id": "c1c0bd32-6ef0-4191-bf53-3402d1a2b410",
   "metadata": {
    "tags": []
   },
   "outputs": [
    {
     "data": {
      "text/plain": [
       "array(['smoking_Yes', 'alcoholdrinkingheavy_Yes', 'stroke_Yes',\n",
       "       'walkingdifficult_Yes', 'physicalactivity_Yes', 'asthma_Yes',\n",
       "       'kidneydisease_Yes', 'skincancer_Yes'], dtype=object)"
      ]
     },
     "execution_count": 17,
     "metadata": {},
     "output_type": "execute_result"
    }
   ],
   "source": [
    "new_binary_cols = (\n",
    "    pipe1.named_steps[\"columntransformer\"]\n",
    "    .named_transformers_[\"bin\"]\n",
    "    .named_steps[\"onehotencoder\"]\n",
    "    .get_feature_names_out()\n",
    ")\n",
    "new_binary_cols"
   ]
  },
  {
   "cell_type": "code",
   "execution_count": 18,
   "id": "680b1c01-fb1e-4610-b12b-f2fe84a054b9",
   "metadata": {
    "tags": []
   },
   "outputs": [
    {
     "data": {
      "text/plain": [
       "array(['gender_Male', 'ethnicity_Asian', 'ethnicity_Black',\n",
       "       'ethnicity_Hispanic', 'ethnicity_Other', 'ethnicity_White'],\n",
       "      dtype=object)"
      ]
     },
     "execution_count": 18,
     "metadata": {},
     "output_type": "execute_result"
    }
   ],
   "source": [
    "new_cat_cols = (\n",
    "    pipe1.named_steps[\"columntransformer\"]\n",
    "    .named_transformers_[\"cat\"]\n",
    "    .named_steps[\"onehotencoder\"]\n",
    "    .get_feature_names_out()\n",
    ")\n",
    "new_cat_cols"
   ]
  },
  {
   "cell_type": "code",
   "execution_count": 19,
   "id": "1551cc04-b787-4158-b988-8ba77b213161",
   "metadata": {
    "tags": []
   },
   "outputs": [
    {
     "data": {
      "text/plain": [
       "array(['bmi', 'physicalhealthbaddays', 'mentalhealthbaddays',\n",
       "       'sleeptimenightly', 'agecategory', 'genhealth', 'diabetic',\n",
       "       'smoking_Yes', 'alcoholdrinkingheavy_Yes', 'stroke_Yes',\n",
       "       'walkingdifficult_Yes', 'physicalactivity_Yes', 'asthma_Yes',\n",
       "       'kidneydisease_Yes', 'skincancer_Yes', 'gender_Male',\n",
       "       'ethnicity_Asian', 'ethnicity_Black', 'ethnicity_Hispanic',\n",
       "       'ethnicity_Other', 'ethnicity_White'], dtype=object)"
      ]
     },
     "execution_count": 19,
     "metadata": {},
     "output_type": "execute_result"
    }
   ],
   "source": [
    "new_cols = np.concatenate(\n",
    "    (\n",
    "        np.array(num_cols + spec_cols1 + spec_cols2 + spec_cols3),\n",
    "        new_binary_cols,\n",
    "        new_cat_cols,\n",
    "    )\n",
    ")\n",
    "new_cols"
   ]
  },
  {
   "cell_type": "markdown",
   "id": "bd825c32-122d-4351-aea0-8bdcaa71c6f6",
   "metadata": {},
   "source": [
    "### Recursive Feature Elimination\n",
    "\n",
    "We can use the `ranking_` attribute of the `rfecv` object to get the ranking of each feature. Those with `1` for ranking will be selected for our model.\n",
    "\n",
    "If we use the `get_support` method or the `support_` attribute of the `rfecv` object, we get just those features that will be used in our model."
   ]
  },
  {
   "cell_type": "code",
   "execution_count": 20,
   "id": "5d4edb86-79ac-4342-9df2-d9a2474df47c",
   "metadata": {
    "tags": []
   },
   "outputs": [
    {
     "data": {
      "text/html": [
       "<div>\n",
       "<style scoped>\n",
       "    .dataframe tbody tr th:only-of-type {\n",
       "        vertical-align: middle;\n",
       "    }\n",
       "\n",
       "    .dataframe tbody tr th {\n",
       "        vertical-align: top;\n",
       "    }\n",
       "\n",
       "    .dataframe thead th {\n",
       "        text-align: right;\n",
       "    }\n",
       "</style>\n",
       "<table border=\"1\" class=\"dataframe\">\n",
       "  <thead>\n",
       "    <tr style=\"text-align: right;\">\n",
       "      <th></th>\n",
       "      <th>feature</th>\n",
       "    </tr>\n",
       "    <tr>\n",
       "      <th>rank</th>\n",
       "      <th></th>\n",
       "    </tr>\n",
       "  </thead>\n",
       "  <tbody>\n",
       "    <tr>\n",
       "      <th>1</th>\n",
       "      <td>agecategory</td>\n",
       "    </tr>\n",
       "    <tr>\n",
       "      <th>1</th>\n",
       "      <td>alcoholdrinkingheavy_Yes</td>\n",
       "    </tr>\n",
       "    <tr>\n",
       "      <th>1</th>\n",
       "      <td>asthma_Yes</td>\n",
       "    </tr>\n",
       "    <tr>\n",
       "      <th>1</th>\n",
       "      <td>diabetic</td>\n",
       "    </tr>\n",
       "    <tr>\n",
       "      <th>1</th>\n",
       "      <td>ethnicity_Asian</td>\n",
       "    </tr>\n",
       "    <tr>\n",
       "      <th>1</th>\n",
       "      <td>ethnicity_Other</td>\n",
       "    </tr>\n",
       "    <tr>\n",
       "      <th>1</th>\n",
       "      <td>ethnicity_White</td>\n",
       "    </tr>\n",
       "    <tr>\n",
       "      <th>1</th>\n",
       "      <td>gender_Male</td>\n",
       "    </tr>\n",
       "    <tr>\n",
       "      <th>1</th>\n",
       "      <td>genhealth</td>\n",
       "    </tr>\n",
       "    <tr>\n",
       "      <th>1</th>\n",
       "      <td>kidneydisease_Yes</td>\n",
       "    </tr>\n",
       "    <tr>\n",
       "      <th>1</th>\n",
       "      <td>smoking_Yes</td>\n",
       "    </tr>\n",
       "    <tr>\n",
       "      <th>1</th>\n",
       "      <td>stroke_Yes</td>\n",
       "    </tr>\n",
       "    <tr>\n",
       "      <th>2</th>\n",
       "      <td>walkingdifficult_Yes</td>\n",
       "    </tr>\n",
       "    <tr>\n",
       "      <th>3</th>\n",
       "      <td>ethnicity_Hispanic</td>\n",
       "    </tr>\n",
       "    <tr>\n",
       "      <th>4</th>\n",
       "      <td>skincancer_Yes</td>\n",
       "    </tr>\n",
       "    <tr>\n",
       "      <th>5</th>\n",
       "      <td>bmi</td>\n",
       "    </tr>\n",
       "    <tr>\n",
       "      <th>6</th>\n",
       "      <td>physicalhealthbaddays</td>\n",
       "    </tr>\n",
       "    <tr>\n",
       "      <th>7</th>\n",
       "      <td>sleeptimenightly</td>\n",
       "    </tr>\n",
       "    <tr>\n",
       "      <th>8</th>\n",
       "      <td>mentalhealthbaddays</td>\n",
       "    </tr>\n",
       "    <tr>\n",
       "      <th>9</th>\n",
       "      <td>physicalactivity_Yes</td>\n",
       "    </tr>\n",
       "    <tr>\n",
       "      <th>10</th>\n",
       "      <td>ethnicity_Black</td>\n",
       "    </tr>\n",
       "  </tbody>\n",
       "</table>\n",
       "</div>"
      ],
      "text/plain": [
       "                       feature\n",
       "rank                          \n",
       "1                  agecategory\n",
       "1     alcoholdrinkingheavy_Yes\n",
       "1                   asthma_Yes\n",
       "1                     diabetic\n",
       "1              ethnicity_Asian\n",
       "1              ethnicity_Other\n",
       "1              ethnicity_White\n",
       "1                  gender_Male\n",
       "1                    genhealth\n",
       "1            kidneydisease_Yes\n",
       "1                  smoking_Yes\n",
       "1                   stroke_Yes\n",
       "2         walkingdifficult_Yes\n",
       "3           ethnicity_Hispanic\n",
       "4               skincancer_Yes\n",
       "5                          bmi\n",
       "6        physicalhealthbaddays\n",
       "7             sleeptimenightly\n",
       "8          mentalhealthbaddays\n",
       "9         physicalactivity_Yes\n",
       "10             ethnicity_Black"
      ]
     },
     "execution_count": 20,
     "metadata": {},
     "output_type": "execute_result"
    }
   ],
   "source": [
    "rankinglabs = np.column_stack((pipe1.named_steps[\"rfecv\"].ranking_, new_cols))\n",
    "pd.DataFrame(rankinglabs, columns=[\"rank\", \"feature\"]).sort_values(\n",
    "    [\"rank\", \"feature\"]\n",
    ").set_index(\"rank\")"
   ]
  },
  {
   "cell_type": "code",
   "execution_count": 21,
   "id": "6ba3da63-c3ff-463a-8e2c-2db157939394",
   "metadata": {
    "tags": []
   },
   "outputs": [
    {
     "data": {
      "text/plain": [
       "array([False, False, False, False,  True,  True,  True,  True,  True,\n",
       "        True, False, False,  True,  True, False,  True,  True, False,\n",
       "       False,  True,  True])"
      ]
     },
     "execution_count": 21,
     "metadata": {},
     "output_type": "execute_result"
    }
   ],
   "source": [
    "pipe1.named_steps[\"rfecv\"].support_"
   ]
  },
  {
   "cell_type": "code",
   "execution_count": 22,
   "id": "fed2ae4c-89b8-4a8f-85c5-5017f94bcbc7",
   "metadata": {
    "tags": []
   },
   "outputs": [
    {
     "data": {
      "text/plain": [
       "array(['agecategory', 'genhealth', 'diabetic', 'smoking_Yes',\n",
       "       'alcoholdrinkingheavy_Yes', 'stroke_Yes', 'asthma_Yes',\n",
       "       'kidneydisease_Yes', 'gender_Male', 'ethnicity_Asian',\n",
       "       'ethnicity_Other', 'ethnicity_White'], dtype=object)"
      ]
     },
     "execution_count": 22,
     "metadata": {},
     "output_type": "execute_result"
    }
   ],
   "source": [
    "new_cols[pipe1.named_steps[\"rfecv\"].get_support()]"
   ]
  },
  {
   "cell_type": "markdown",
   "id": "244b65ed-7537-4ab7-9289-57e870b58f7f",
   "metadata": {},
   "source": [
    "### Logistic Regression coefficients\n",
    "\n",
    "We can get the _odds ratio_ from the coefficients from the logistic regression. Recall that the odds ratio is the exponentiated coefficient. There are 10 coefficients because we have 10 features."
   ]
  },
  {
   "cell_type": "code",
   "execution_count": 23,
   "id": "7d7097b2-c4c9-4dbe-b6b9-d158a36cccff",
   "metadata": {
    "tags": []
   },
   "outputs": [
    {
     "data": {
      "text/plain": [
       "(1, 12)"
      ]
     },
     "execution_count": 23,
     "metadata": {},
     "output_type": "execute_result"
    }
   ],
   "source": [
    "oddsratios = np.exp(pipe1.named_steps[\"logisticregression\"].coef_)\n",
    "\n",
    "oddsratios.shape"
   ]
  },
  {
   "cell_type": "code",
   "execution_count": 24,
   "id": "a29f79ad-ca4d-414c-ad19-50022cb813c1",
   "metadata": {
    "tags": []
   },
   "outputs": [
    {
     "data": {
      "text/html": [
       "<div>\n",
       "<style scoped>\n",
       "    .dataframe tbody tr th:only-of-type {\n",
       "        vertical-align: middle;\n",
       "    }\n",
       "\n",
       "    .dataframe tbody tr th {\n",
       "        vertical-align: top;\n",
       "    }\n",
       "\n",
       "    .dataframe thead th {\n",
       "        text-align: right;\n",
       "    }\n",
       "</style>\n",
       "<table border=\"1\" class=\"dataframe\">\n",
       "  <thead>\n",
       "    <tr style=\"text-align: right;\">\n",
       "      <th></th>\n",
       "      <th>feature</th>\n",
       "    </tr>\n",
       "    <tr>\n",
       "      <th>odds</th>\n",
       "      <th></th>\n",
       "    </tr>\n",
       "  </thead>\n",
       "  <tbody>\n",
       "    <tr>\n",
       "      <th>3.155548</th>\n",
       "      <td>stroke_Yes</td>\n",
       "    </tr>\n",
       "    <tr>\n",
       "      <th>2.917318</th>\n",
       "      <td>agecategory</td>\n",
       "    </tr>\n",
       "    <tr>\n",
       "      <th>2.080401</th>\n",
       "      <td>gender_Male</td>\n",
       "    </tr>\n",
       "    <tr>\n",
       "      <th>2.028069</th>\n",
       "      <td>kidneydisease_Yes</td>\n",
       "    </tr>\n",
       "    <tr>\n",
       "      <th>1.793517</th>\n",
       "      <td>diabetic</td>\n",
       "    </tr>\n",
       "    <tr>\n",
       "      <th>1.562906</th>\n",
       "      <td>smoking_Yes</td>\n",
       "    </tr>\n",
       "    <tr>\n",
       "      <th>1.542427</th>\n",
       "      <td>asthma_Yes</td>\n",
       "    </tr>\n",
       "    <tr>\n",
       "      <th>1.279657</th>\n",
       "      <td>ethnicity_Other</td>\n",
       "    </tr>\n",
       "    <tr>\n",
       "      <th>1.204887</th>\n",
       "      <td>ethnicity_White</td>\n",
       "    </tr>\n",
       "    <tr>\n",
       "      <th>0.704306</th>\n",
       "      <td>ethnicity_Asian</td>\n",
       "    </tr>\n",
       "    <tr>\n",
       "      <th>0.610672</th>\n",
       "      <td>alcoholdrinkingheavy_Yes</td>\n",
       "    </tr>\n",
       "    <tr>\n",
       "      <th>0.549662</th>\n",
       "      <td>genhealth</td>\n",
       "    </tr>\n",
       "  </tbody>\n",
       "</table>\n",
       "</div>"
      ],
      "text/plain": [
       "                           feature\n",
       "odds                              \n",
       "3.155548                stroke_Yes\n",
       "2.917318               agecategory\n",
       "2.080401               gender_Male\n",
       "2.028069         kidneydisease_Yes\n",
       "1.793517                  diabetic\n",
       "1.562906               smoking_Yes\n",
       "1.542427                asthma_Yes\n",
       "1.279657           ethnicity_Other\n",
       "1.204887           ethnicity_White\n",
       "0.704306           ethnicity_Asian\n",
       "0.610672  alcoholdrinkingheavy_Yes\n",
       "0.549662                 genhealth"
      ]
     },
     "execution_count": 24,
     "metadata": {},
     "output_type": "execute_result"
    }
   ],
   "source": [
    "sel_cols = new_cols[pipe1.named_steps[\"rfecv\"].get_support()]\n",
    "oddswithlabs = np.column_stack((oddsratios.ravel(), sel_cols))\n",
    "\n",
    "pd.DataFrame(oddswithlabs, columns=[\"odds\", \"feature\"]).sort_values(\n",
    "    [\"odds\"], ascending=False\n",
    ").set_index(\"odds\")"
   ]
  },
  {
   "cell_type": "markdown",
   "id": "30a400ce-c708-4bdc-a806-34684dac91a7",
   "metadata": {},
   "source": [
    "^ If the individual had stroke, they had three times the odds of having heart disease. The odds of having heart disease increase by 2.95 times for each increase in age category.\n",
    "\n",
    "On the other hand, the odds of having heart disease decline by half (55%) for every increase in general health. Surprisingly, heavy alcohol drinking is associated with lower odds of heart disease."
   ]
  },
  {
   "cell_type": "markdown",
   "id": "72502c7c-9b11-45e6-8dff-13765a16daa3",
   "metadata": {},
   "source": [
    "### Evaluating a logistic regression model"
   ]
  },
  {
   "cell_type": "code",
   "execution_count": 30,
   "id": "70916290-d305-4044-9d9b-b6cd86135615",
   "metadata": {
    "tags": []
   },
   "outputs": [
    {
     "data": {
      "text/plain": [
       "[Text(0.5, 1.0, 'Heart Disease Prediction Confusion Matrix'),\n",
       " Text(0.5, 0, 'Predicted Value'),\n",
       " Text(0, 0.5, 'Actual Value')]"
      ]
     },
     "execution_count": 30,
     "metadata": {},
     "output_type": "execute_result"
    },
    {
     "data": {
      "image/png": "[encoded data removed]",
      "text/plain": [
       "<Figure size 432x288 with 2 Axes>"
      ]
     },
     "metadata": {
      "needs_background": "light"
     },
     "output_type": "display_data"
    }
   ],
   "source": [
    "y_pred = pipe1.predict(X_test)\n",
    "cm = skmet.confusion_matrix(y_test, y_pred)\n",
    "cmplot = skmet.ConfusionMatrixDisplay(\n",
    "    confusion_matrix=cm, display_labels=[\"Negative\", \"Positive\"]\n",
    ")\n",
    "cmplot.plot()\n",
    "\n",
    "cmplot.ax_.set(\n",
    "    title=\"Heart Disease Prediction Confusion Matrix\",\n",
    "    xlabel=\"Predicted Value\",\n",
    "    ylabel=\"Actual Value\",\n",
    ")"
   ]
  },
  {
   "cell_type": "code",
   "execution_count": 31,
   "id": "e0e8dacd-aecd-4159-a17a-154aa183a31a",
   "metadata": {
    "tags": []
   },
   "outputs": [
    {
     "name": "stdout",
     "output_type": "stream",
     "text": [
      "              precision    recall  f1-score   support\n",
      "\n",
      "           0       0.97      0.74      0.84      5506\n",
      "           1       0.21      0.79      0.34       494\n",
      "\n",
      "    accuracy                           0.74      6000\n",
      "   macro avg       0.59      0.76      0.59      6000\n",
      "weighted avg       0.91      0.74      0.80      6000\n",
      "\n"
     ]
    }
   ],
   "source": [
    "print(skmet.classification_report(y_test, y_pred))"
   ]
  },
  {
   "cell_type": "markdown",
   "id": "4d232364-3b66-42a4-806f-4b5b6f10478c",
   "metadata": {},
   "source": [
    "^ The biggest problem with our model is the very low level of precision - that is 21%. This is due to the large number of false positives. The majority of the time that our model predicts positive, it is wrong.\n",
    "\n",
    "From the equation $precision = \\frac{tp}{tp + fp}$, an increase in _false positive_ leads to decrease in _precision_."
   ]
  },
  {
   "cell_type": "code",
   "execution_count": 32,
   "id": "ecc276b1-b3e1-4057-a6c1-d164ef7c66d9",
   "metadata": {
    "tags": []
   },
   "outputs": [
    {
     "data": {
      "text/plain": [
       "0.2600799128223756"
      ]
     },
     "execution_count": 32,
     "metadata": {},
     "output_type": "execute_result"
    }
   ],
   "source": [
    "tn, fp, fn, tp = skmet.confusion_matrix(y_test, y_pred).ravel()\n",
    "fpr = fp / (tn + fp)\n",
    "fpr"
   ]
  },
  {
   "cell_type": "markdown",
   "id": "667cdb73-47dd-4dfa-8ff4-3803e8dc534f",
   "metadata": {},
   "source": [
    "^ 26% of the time that a person does not have a heart disease, we predicted that they do."
   ]
  },
  {
   "cell_type": "markdown",
   "id": "327eaa6c-4145-4248-8774-e1b1cee1d666",
   "metadata": {},
   "source": [
    "### Analyse the prediction probabilities generated by our model\n",
    "\n",
    "The threshold for a positive class prediction is 0.5, which is often the default for logistic regression. "
   ]
  },
  {
   "cell_type": "code",
   "execution_count": 33,
   "id": "0695a14c-a48d-412e-b8ce-3e7f737cf639",
   "metadata": {
    "tags": []
   },
   "outputs": [
    {
     "data": {
      "text/html": [
       "<div>\n",
       "<style scoped>\n",
       "    .dataframe tbody tr th:only-of-type {\n",
       "        vertical-align: middle;\n",
       "    }\n",
       "\n",
       "    .dataframe tbody tr th {\n",
       "        vertical-align: top;\n",
       "    }\n",
       "\n",
       "    .dataframe thead th {\n",
       "        text-align: right;\n",
       "    }\n",
       "</style>\n",
       "<table border=\"1\" class=\"dataframe\">\n",
       "  <thead>\n",
       "    <tr style=\"text-align: right;\">\n",
       "      <th></th>\n",
       "      <th>min</th>\n",
       "      <th>max</th>\n",
       "      <th>count</th>\n",
       "    </tr>\n",
       "    <tr>\n",
       "      <th>pred</th>\n",
       "      <th></th>\n",
       "      <th></th>\n",
       "      <th></th>\n",
       "    </tr>\n",
       "  </thead>\n",
       "  <tbody>\n",
       "    <tr>\n",
       "      <th>0</th>\n",
       "      <td>0.007885</td>\n",
       "      <td>0.499866</td>\n",
       "      <td>4179</td>\n",
       "    </tr>\n",
       "    <tr>\n",
       "      <th>1</th>\n",
       "      <td>0.500054</td>\n",
       "      <td>0.994643</td>\n",
       "      <td>1821</td>\n",
       "    </tr>\n",
       "  </tbody>\n",
       "</table>\n",
       "</div>"
      ],
      "text/plain": [
       "           min       max  count\n",
       "pred                           \n",
       "0     0.007885  0.499866   4179\n",
       "1     0.500054  0.994643   1821"
      ]
     },
     "execution_count": 33,
     "metadata": {},
     "output_type": "execute_result"
    }
   ],
   "source": [
    "pred_probs = pipe1.predict_proba(X_test)[:, 1]\n",
    "\n",
    "prob_df = pd.DataFrame(\n",
    "    zip(pred_probs, y_pred, y_test), columns=[\"prob\", \"pred\", \"actual\"]\n",
    ")\n",
    "prob_df.groupby([\"pred\"])[\"prob\"].agg([\"min\", \"max\", \"count\"])"
   ]
  },
  {
   "cell_type": "markdown",
   "id": "e4273797-9724-4b15-a0fa-2d72fda55aa1",
   "metadata": {},
   "source": [
    "We can use **kernel density estimate (KDE)** plot to visualize these probabilities. We can also see how a different decision rule may impact our predictions. For example, we can move our thresholds from 0.5 to 0.25. "
   ]
  },
  {
   "cell_type": "code",
   "execution_count": 34,
   "id": "7fde94d7-e6f7-4522-84d1-2126e611e719",
   "metadata": {
    "tags": []
   },
   "outputs": [
    {
     "data": {
      "text/plain": [
       "<matplotlib.legend.Legend at 0x11e631f10>"
      ]
     },
     "execution_count": 34,
     "metadata": {},
     "output_type": "execute_result"
    },
    {
     "data": {
      "image/png": "[encoded data removed]",
      "text/plain": [
       "<Figure size 432x288 with 1 Axes>"
      ]
     },
     "metadata": {
      "needs_background": "light"
     },
     "output_type": "display_data"
    }
   ],
   "source": [
    "# Plot the labels.\n",
    "sns.kdeplot(\n",
    "    prob_df.loc[prob_df.actual == 1].prob,\n",
    "    shade=True,\n",
    "    color=\"red\",\n",
    "    label=\"Heart Disease\",\n",
    ")\n",
    "sns.kdeplot(\n",
    "    prob_df.loc[prob_df.actual == 0].prob,\n",
    "    shade=True,\n",
    "    color=\"green\",\n",
    "    label=\"No heart disease\",\n",
    ")\n",
    "\n",
    "# Plot the threshold at 0.25 and 0.5.\n",
    "plt.axvline(0.25, color=\"black\", linestyle=\"dashed\", linewidth=1)\n",
    "plt.axvline(0.5, color=\"black\", linestyle=\"dashed\", linewidth=1)\n",
    "plt.title(\"Predicted Probability Distribution\")\n",
    "plt.legend(loc=\"upper left\")"
   ]
  },
  {
   "cell_type": "markdown",
   "id": "414ff7dc-63e0-4b8c-ad08-698fd6d7a567",
   "metadata": {},
   "source": [
    "^ What happens if we move the threshold from 0.5 to 0.25? At a glance, that has some advantages. The area between the two possible thresholds has somewhat more heart disease cases than no heart disease cases. \n",
    "\n",
    "We would be getting sthe brown area between the dashed lines right, predicting heart disease correctly where we would not have with the 0.5 threshold. That is a larger area than the green area between the lines, where we turn some of the true negative predictions at the 0.5 threshold into false positives at the 0.25 threshold."
   ]
  },
  {
   "cell_type": "markdown",
   "id": "7f1a301a-e88e-4622-952f-0a9f220fab07",
   "metadata": {},
   "source": [
    "### Metrics: Precision-Recall Curve"
   ]
  },
  {
   "cell_type": "code",
   "execution_count": 35,
   "id": "fc87be99-a9e6-49cc-8850-ffb6a44ab61a",
   "metadata": {
    "tags": []
   },
   "outputs": [
    {
     "data": {
      "text/plain": [
       "<matplotlib.legend.Legend at 0x12067c550>"
      ]
     },
     "execution_count": 35,
     "metadata": {},
     "output_type": "execute_result"
    },
    {
     "data": {
      "image/png": "[encoded data removed]",
      "text/plain": [
       "<Figure size 432x288 with 1 Axes>"
      ]
     },
     "metadata": {
      "needs_background": "light"
     },
     "output_type": "display_data"
    }
   ],
   "source": [
    "precision, sensitivity, thresholds = skmet.precision_recall_curve(y_test, pred_probs)\n",
    "sensitivity = sensitivity[1:-20]\n",
    "precision = precision[1:-20]\n",
    "thresholds = thresholds[:-20]\n",
    "\n",
    "fig, ax = plt.subplots()\n",
    "ax.plot(thresholds, precision, label=\"Precision\")\n",
    "ax.plot(thresholds, sensitivity, label=\"Sensitivity\")\n",
    "ax.set_title(\"Precision and Sensitivity by Threshold\")\n",
    "ax.set_xlabel(\"Threshold\")\n",
    "ax.set_ylabel(\"Precision and Sensitivity\")\n",
    "ax.legend()"
   ]
  },
  {
   "cell_type": "markdown",
   "id": "476c59e5-c23a-4882-b837-7c4a877ca10f",
   "metadata": {},
   "source": [
    "^ As the threshold increases beyond 0.2, there is a sharper decrease in sensitivity than there is an increase in precision.\n",
    "\n",
    "TODO\n",
    "- how to evaluate the precision/sensitivity graph?"
   ]
  },
  {
   "cell_type": "markdown",
   "id": "a3daf67c-407f-4b9b-8970-7e5cd065a3d2",
   "metadata": {},
   "source": [
    "### Metrics: ROC Curve\n",
    "\n",
    "It is often also helpful to look at the false positive rate with the sensitivity rate. The false positive rate is the propensity of our model to predict positive when the actual value is negative. One way to see the relationship is with a ROC curve."
   ]
  },
  {
   "cell_type": "code",
   "execution_count": 36,
   "id": "06e90384-bbfd-40ea-b8c9-6b5dc7b34a1a",
   "metadata": {
    "tags": []
   },
   "outputs": [
    {
     "data": {
      "text/plain": [
       "[Text(0.5, 1.0, 'ROC curve'),\n",
       " Text(0.5, 0, 'False Positive Rate'),\n",
       " Text(0, 0.5, 'Sensitivity')]"
      ]
     },
     "execution_count": 36,
     "metadata": {},
     "output_type": "execute_result"
    },
    {
     "data": {
      "image/png": "[encoded data removed]",
      "text/plain": [
       "<Figure size 432x288 with 1 Axes>"
      ]
     },
     "metadata": {
      "needs_background": "light"
     },
     "output_type": "display_data"
    }
   ],
   "source": [
    "fpr, tpr, ths = skmet.roc_curve(y_test, pred_probs)\n",
    "fpr = fpr[1:]\n",
    "tpr = tpr[1:]\n",
    "ths = ths[1:]\n",
    "\n",
    "fig, ax = plt.subplots()\n",
    "ax.plot(fpr, tpr, linewidth=4, color=\"black\")\n",
    "ax.set(title=\"ROC curve\", xlabel=\"False Positive Rate\", ylabel=\"Sensitivity\")"
   ]
  },
  {
   "cell_type": "markdown",
   "id": "bc1ed200-7e62-41bd-b8a8-5d1c0e0a85d8",
   "metadata": {},
   "source": [
    "^ Here we can see that increasing the false positive rate buys us less increase in sensitivity the higher the false positive rate is. Beyond a false positive rate of 0.5, there is not much payoff at all."
   ]
  },
  {
   "cell_type": "markdown",
   "id": "d1089e91-566e-4f17-af08-a144245d1dc3",
   "metadata": {},
   "source": [
    "### Metrics: FPR and Sensitivity by threshold"
   ]
  },
  {
   "cell_type": "code",
   "execution_count": 37,
   "id": "28922ce2-e14b-4ba6-af18-2b826386c4ce",
   "metadata": {
    "tags": []
   },
   "outputs": [
    {
     "data": {
      "text/plain": [
       "<matplotlib.legend.Legend at 0x120757820>"
      ]
     },
     "execution_count": 37,
     "metadata": {},
     "output_type": "execute_result"
    },
    {
     "data": {
      "image/png": "[encoded data removed]",
      "text/plain": [
       "<Figure size 432x288 with 1 Axes>"
      ]
     },
     "metadata": {
      "needs_background": "light"
     },
     "output_type": "display_data"
    }
   ],
   "source": [
    "fig, ax = plt.subplots()\n",
    "ax.plot(ths, fpr, label=\"False Positive Rate\")\n",
    "ax.plot(ths, tpr, label=\"Sensitivity\")\n",
    "ax.set(\n",
    "    title=\"False Positive Rate and Sensitivity by Threshold\",\n",
    "    xlabel=\"Threshold\",\n",
    "    ylabel=\"False Positive Rate and Sensitivity\",\n",
    ")\n",
    "ax.legend()"
   ]
  },
  {
   "cell_type": "markdown",
   "id": "3c814dff-a107-4934-ab8e-e212ace09a2c",
   "metadata": {
    "tags": []
   },
   "source": [
    "^ Here we can  see that as we lower the threshold to below 0.25, the false positive rate increases more rapidly than sensitivity."
   ]
  },
  {
   "cell_type": "markdown",
   "id": "9f1e1389-1d78-47aa-bc04-f8a0eccbfd0a",
   "metadata": {},
   "source": [
    "### Threshold with Youden J\n",
    "\n",
    "We will calculate the **Youden J** statistic to find the threhsold value. We get this by passing a vector, which is the difference between the true positive and false positive rates at each threshold, to the NumPy's `argmax` function. We want the value of the threshold at that index."
   ]
  },
  {
   "cell_type": "code",
   "execution_count": 38,
   "id": "c75bca93-5504-41f1-a60d-5190176ca115",
   "metadata": {
    "tags": []
   },
   "outputs": [
    {
     "data": {
      "text/plain": [
       "0.46728451504546487"
      ]
     },
     "execution_count": 38,
     "metadata": {},
     "output_type": "execute_result"
    }
   ],
   "source": [
    "jthresh = ths[np.argmax(tpr - fpr)]\n",
    "jthresh"
   ]
  },
  {
   "cell_type": "markdown",
   "id": "c14ddc1f-ec7e-4701-8863-446b644423e1",
   "metadata": {},
   "source": [
    "^ The optimal threshold according to this calculation is 0.46, which isn't very different from the default.\n",
    "\n",
    "We can redo the confusion matrix based on this alternative threshold."
   ]
  },
  {
   "cell_type": "code",
   "execution_count": 39,
   "id": "668eedbf-89a3-4c31-a010-49d0fa560f08",
   "metadata": {
    "tags": []
   },
   "outputs": [
    {
     "data": {
      "text/plain": [
       "[Text(0.5, 1.0, 'Heart Disease Prediction Confusion Matrix'),\n",
       " Text(0.5, 0, 'Predicted Value'),\n",
       " Text(0, 0.5, 'Actual Value')]"
      ]
     },
     "execution_count": 39,
     "metadata": {},
     "output_type": "execute_result"
    },
    {
     "data": {
      "image/png": "[encoded data removed]",
      "text/plain": [
       "<Figure size 432x288 with 2 Axes>"
      ]
     },
     "metadata": {
      "needs_background": "light"
     },
     "output_type": "display_data"
    }
   ],
   "source": [
    "y_pred2 = np.where(pred_probs >= jthresh, 1, 0)\n",
    "cm = skmet.confusion_matrix(y_test, y_pred2)\n",
    "cmplot = skmet.ConfusionMatrixDisplay(\n",
    "    confusion_matrix=cm, display_labels=[\"Negative\", \"Positive\"]\n",
    ")\n",
    "cmplot.plot()\n",
    "\n",
    "cmplot.ax_.set(\n",
    "    title=\"Heart Disease Prediction Confusion Matrix\",\n",
    "    xlabel=\"Predicted Value\",\n",
    "    ylabel=\"Actual Value\",\n",
    ")"
   ]
  },
  {
   "cell_type": "code",
   "execution_count": 40,
   "id": "e115a618-1081-4108-83d9-7a7e2f127b42",
   "metadata": {
    "tags": []
   },
   "outputs": [
    {
     "name": "stdout",
     "output_type": "stream",
     "text": [
      "0.7874493927125507\n",
      "0.8299595141700404\n"
     ]
    }
   ],
   "source": [
    "print(skmet.recall_score(y_test, y_pred))\n",
    "print(skmet.recall_score(y_test, y_pred2))"
   ]
  },
  {
   "cell_type": "markdown",
   "id": "c96f7eb1-2586-4f05-8945-b55ba5927878",
   "metadata": {},
   "source": [
    "^ This gives us a small increase improvement in sensitivity."
   ]
  },
  {
   "cell_type": "markdown",
   "id": "12936145-b78e-448c-9c9d-a2f23a9b513f",
   "metadata": {},
   "source": [
    "## Regularization with logistic regression\n",
    "\n",
    "How regularization works - we add penalty to our estimator that minimizes our parameter estimates. "
   ]
  },
  {
   "cell_type": "markdown",
   "id": "0d9c86dd-2dc0-4eb7-8ed6-9efaf36dd463",
   "metadata": {},
   "source": [
    "### Import dependencies"
   ]
  },
  {
   "cell_type": "code",
   "execution_count": 41,
   "id": "92484201-0e7a-4a68-b77b-1367750ea721",
   "metadata": {
    "tags": []
   },
   "outputs": [],
   "source": [
    "import numpy as np\n",
    "import pandas as pd\n",
    "from scipy.stats import uniform\n",
    "from sklearn.compose import ColumnTransformer\n",
    "from sklearn.impute import SimpleImputer\n",
    "from sklearn.linear_model import LogisticRegression\n",
    "from sklearn.model_selection import (\n",
    "    RandomizedSearchCV,\n",
    "    RepeatedStratifiedKFold,\n",
    "    train_test_split,\n",
    ")\n",
    "from sklearn.pipeline import make_pipeline\n",
    "from sklearn.preprocessing import OneHotEncoder, StandardScaler\n",
    "\n",
    "from data.load import load_healthinfosample\n",
    "from preprocfunc import MakeOrdinal, OutlierTrans, ReplaceVals"
   ]
  },
  {
   "cell_type": "markdown",
   "id": "9017f660-0eea-4946-81d2-76865226af84",
   "metadata": {},
   "source": [
    "### Load data"
   ]
  },
  {
   "cell_type": "code",
   "execution_count": 42,
   "id": "5206e43e-5cae-4d1f-8008-e7d161fd2e00",
   "metadata": {
    "tags": []
   },
   "outputs": [],
   "source": [
    "healthinfo = load_healthinfosample()\n",
    "healthinfo[\"heartdisease\"] = np.where(healthinfo.heartdisease == \"No\", 0, 1).astype(\n",
    "    \"int\"\n",
    ")"
   ]
  },
  {
   "cell_type": "markdown",
   "id": "b5ea2ef4-67fa-45c0-ac5d-7db04bbc382e",
   "metadata": {},
   "source": [
    "### Preprocessing"
   ]
  },
  {
   "cell_type": "code",
   "execution_count": 43,
   "id": "c58374a4-559d-45f4-8280-1f1ea452a28b",
   "metadata": {
    "tags": []
   },
   "outputs": [],
   "source": [
    "num_cols = [\"bmi\", \"physicalhealthbaddays\", \"mentalhealthbaddays\", \"sleeptimenightly\"]\n",
    "binary_cols = [\n",
    "    \"smoking\",\n",
    "    \"alcoholdrinkingheavy\",\n",
    "    \"stroke\",\n",
    "    \"walkingdifficult\",\n",
    "    \"physicalactivity\",\n",
    "    \"asthma\",\n",
    "    \"kidneydisease\",\n",
    "    \"skincancer\",\n",
    "]\n",
    "\n",
    "cat_cols = [\"gender\", \"ethnicity\"]\n",
    "spec_cols1 = [\"agecategory\"]\n",
    "spec_cols2 = [\"genhealth\"]\n",
    "spec_cols3 = [\"diabetic\"]"
   ]
  },
  {
   "cell_type": "code",
   "execution_count": 44,
   "id": "642ef433-6af6-4b4f-b9ae-eca5e177273d",
   "metadata": {
    "tags": []
   },
   "outputs": [],
   "source": [
    "rep_dict = {\n",
    "    \"genhealth\": {\"Poor\": 0, \"Fair\": 1, \"Good\": 2, \"Very good\": 3, \"Excellent\": 4},\n",
    "    \"diabetic\": {\n",
    "        \"No\": 0,\n",
    "        \"No, borderline diabetes\": 0,\n",
    "        \"Yes\": 1,\n",
    "        \"Yes (during pregnancy)\": 1,\n",
    "    },\n",
    "}"
   ]
  },
  {
   "cell_type": "markdown",
   "id": "413c26cc-d7a8-49b7-9870-00f902dab841",
   "metadata": {},
   "source": [
    "### Create train and test data"
   ]
  },
  {
   "cell_type": "code",
   "execution_count": 45,
   "id": "c10e34c3-67d4-4bb3-bd33-e71eb5e57a24",
   "metadata": {
    "tags": []
   },
   "outputs": [],
   "source": [
    "X_train, X_test, y_train, y_test = train_test_split(\n",
    "    healthinfo[\n",
    "        num_cols + binary_cols + cat_cols + spec_cols1 + spec_cols2 + spec_cols3\n",
    "    ],\n",
    "    healthinfo[\"heartdisease\"],\n",
    "    test_size=0.2,\n",
    "    random_state=0,\n",
    ")"
   ]
  },
  {
   "cell_type": "markdown",
   "id": "683d2010-c4c8-4d2c-9445-98ef8391ec03",
   "metadata": {},
   "source": [
    "### Column Transformation"
   ]
  },
  {
   "cell_type": "code",
   "execution_count": 46,
   "id": "b3693ca9-3e18-49bd-a9fa-3ec2b78fdb54",
   "metadata": {
    "tags": []
   },
   "outputs": [],
   "source": [
    "ohe = OneHotEncoder(drop=\"first\", sparse=False)\n",
    "\n",
    "standtrans = make_pipeline(\n",
    "    OutlierTrans(3), SimpleImputer(strategy=\"median\"), StandardScaler()\n",
    ")\n",
    "spectrans1 = make_pipeline(MakeOrdinal(), StandardScaler())\n",
    "spectrans2 = make_pipeline(ReplaceVals(rep_dict), StandardScaler())\n",
    "spectrans3 = make_pipeline(ReplaceVals(rep_dict))\n",
    "bintrans = make_pipeline(ohe)\n",
    "cattrans = make_pipeline(ohe)\n",
    "coltrans = ColumnTransformer(\n",
    "    transformers=[\n",
    "        (\"stand\", standtrans, num_cols),\n",
    "        (\"spec1\", spectrans1, spec_cols1),\n",
    "        (\"spec2\", spectrans2, spec_cols2),\n",
    "        (\"spec3\", spectrans3, spec_cols3),\n",
    "        (\"bin\", bintrans, binary_cols),\n",
    "        (\"cat\", cattrans, cat_cols),\n",
    "    ]\n",
    ")"
   ]
  },
  {
   "cell_type": "markdown",
   "id": "907f7f1e-0cbb-43e6-9b18-716b628831d7",
   "metadata": {},
   "source": [
    "### Setup pipeline"
   ]
  },
  {
   "cell_type": "code",
   "execution_count": 54,
   "id": "f99a4f9f-dcef-40bd-b450-89e0bb1f8d39",
   "metadata": {
    "tags": []
   },
   "outputs": [
    {
     "data": {
      "text/html": [
       "<style>#sk-container-id-3 {color: black;background-color: white;}#sk-container-id-3 pre{padding: 0;}#sk-container-id-3 div.sk-toggleable {background-color: white;}#sk-container-id-3 label.sk-toggleable__label {cursor: pointer;display: block;width: 100%;margin-bottom: 0;padding: 0.3em;box-sizing: border-box;text-align: center;}#sk-container-id-3 label.sk-toggleable__label-arrow:before {content: \"▸\";float: left;margin-right: 0.25em;color: #696969;}#sk-container-id-3 label.sk-toggleable__label-arrow:hover:before {color: black;}#sk-container-id-3 div.sk-estimator:hover label.sk-toggleable__label-arrow:before {color: black;}#sk-container-id-3 div.sk-toggleable__content {max-height: 0;max-width: 0;overflow: hidden;text-align: left;background-color: #f0f8ff;}#sk-container-id-3 div.sk-toggleable__content pre {margin: 0.2em;color: black;border-radius: 0.25em;background-color: #f0f8ff;}#sk-container-id-3 input.sk-toggleable__control:checked~div.sk-toggleable__content {max-height: 200px;max-width: 100%;overflow: auto;}#sk-container-id-3 input.sk-toggleable__control:checked~label.sk-toggleable__label-arrow:before {content: \"▾\";}#sk-container-id-3 div.sk-estimator input.sk-toggleable__control:checked~label.sk-toggleable__label {background-color: #d4ebff;}#sk-container-id-3 div.sk-label input.sk-toggleable__control:checked~label.sk-toggleable__label {background-color: #d4ebff;}#sk-container-id-3 input.sk-hidden--visually {border: 0;clip: rect(1px 1px 1px 1px);clip: rect(1px, 1px, 1px, 1px);height: 1px;margin: -1px;overflow: hidden;padding: 0;position: absolute;width: 1px;}#sk-container-id-3 div.sk-estimator {font-family: monospace;background-color: #f0f8ff;border: 1px dotted black;border-radius: 0.25em;box-sizing: border-box;margin-bottom: 0.5em;}#sk-container-id-3 div.sk-estimator:hover {background-color: #d4ebff;}#sk-container-id-3 div.sk-parallel-item::after {content: \"\";width: 100%;border-bottom: 1px solid gray;flex-grow: 1;}#sk-container-id-3 div.sk-label:hover label.sk-toggleable__label {background-color: #d4ebff;}#sk-container-id-3 div.sk-serial::before {content: \"\";position: absolute;border-left: 1px solid gray;box-sizing: border-box;top: 0;bottom: 0;left: 50%;z-index: 0;}#sk-container-id-3 div.sk-serial {display: flex;flex-direction: column;align-items: center;background-color: white;padding-right: 0.2em;padding-left: 0.2em;position: relative;}#sk-container-id-3 div.sk-item {position: relative;z-index: 1;}#sk-container-id-3 div.sk-parallel {display: flex;align-items: stretch;justify-content: center;background-color: white;position: relative;}#sk-container-id-3 div.sk-item::before, #sk-container-id-3 div.sk-parallel-item::before {content: \"\";position: absolute;border-left: 1px solid gray;box-sizing: border-box;top: 0;bottom: 0;left: 50%;z-index: -1;}#sk-container-id-3 div.sk-parallel-item {display: flex;flex-direction: column;z-index: 1;position: relative;background-color: white;}#sk-container-id-3 div.sk-parallel-item:first-child::after {align-self: flex-end;width: 50%;}#sk-container-id-3 div.sk-parallel-item:last-child::after {align-self: flex-start;width: 50%;}#sk-container-id-3 div.sk-parallel-item:only-child::after {width: 0;}#sk-container-id-3 div.sk-dashed-wrapped {border: 1px dashed gray;margin: 0 0.4em 0.5em 0.4em;box-sizing: border-box;padding-bottom: 0.4em;background-color: white;}#sk-container-id-3 div.sk-label label {font-family: monospace;font-weight: bold;display: inline-block;line-height: 1.2em;}#sk-container-id-3 div.sk-label-container {text-align: center;}#sk-container-id-3 div.sk-container {/* jupyter's `normalize.less` sets `[hidden] { display: none; }` but bootstrap.min.css set `[hidden] { display: none !important; }` so we also need the `!important` here to be able to override the default hidden behavior on the sphinx rendered scikit-learn.org. See: https://github.com/scikit-learn/scikit-learn/issues/21755 */display: inline-block !important;position: relative;}#sk-container-id-3 div.sk-text-repr-fallback {display: none;}</style><div id=\"sk-container-id-3\" class=\"sk-top-container\"><div class=\"sk-text-repr-fallback\"><pre>RandomizedSearchCV(cv=RepeatedStratifiedKFold(n_repeats=3, n_splits=7, random_state=3),\n",
       "                   estimator=Pipeline(steps=[(&#x27;columntransformer&#x27;,\n",
       "                                              ColumnTransformer(transformers=[(&#x27;stand&#x27;,\n",
       "                                                                               Pipeline(steps=[(&#x27;outliertrans&#x27;,\n",
       "                                                                                                OutlierTrans(threshold=3)),\n",
       "                                                                                               (&#x27;simpleimputer&#x27;,\n",
       "                                                                                                SimpleImputer(strategy=&#x27;median&#x27;)),\n",
       "                                                                                               (&#x27;standardscaler&#x27;,\n",
       "                                                                                                StandardScaler())]),\n",
       "                                                                               [&#x27;bmi&#x27;,\n",
       "                                                                                &#x27;physicalhealthbaddays...\n",
       "                                         &#x27;logisticregression__penalty&#x27;: [&#x27;l2&#x27;],\n",
       "                                         &#x27;logisticregression__solver&#x27;: [&#x27;newton-cg&#x27;]},\n",
       "                                        {&#x27;logisticregression__C&#x27;: &lt;scipy.stats._distn_infrastructure.rv_frozen object at 0x120852640&gt;,\n",
       "                                         &#x27;logisticregression__l1_ratio&#x27;: &lt;scipy.stats._distn_infrastructure.rv_frozen object at 0x12080ed30&gt;,\n",
       "                                         &#x27;logisticregression__penalty&#x27;: [&#x27;elasticnet&#x27;],\n",
       "                                         &#x27;logisticregression__solver&#x27;: [&#x27;saga&#x27;]}],\n",
       "                   scoring=&#x27;roc_auc&#x27;)</pre><b>In a Jupyter environment, please rerun this cell to show the HTML representation or trust the notebook. <br />On GitHub, the HTML representation is unable to render, please try loading this page with nbviewer.org.</b></div><div class=\"sk-container\" hidden><div class=\"sk-item sk-dashed-wrapped\"><div class=\"sk-label-container\"><div class=\"sk-label sk-toggleable\"><input class=\"sk-toggleable__control sk-hidden--visually\" id=\"sk-estimator-id-43\" type=\"checkbox\" ><label for=\"sk-estimator-id-43\" class=\"sk-toggleable__label sk-toggleable__label-arrow\">RandomizedSearchCV</label><div class=\"sk-toggleable__content\"><pre>RandomizedSearchCV(cv=RepeatedStratifiedKFold(n_repeats=3, n_splits=7, random_state=3),\n",
       "                   estimator=Pipeline(steps=[(&#x27;columntransformer&#x27;,\n",
       "                                              ColumnTransformer(transformers=[(&#x27;stand&#x27;,\n",
       "                                                                               Pipeline(steps=[(&#x27;outliertrans&#x27;,\n",
       "                                                                                                OutlierTrans(threshold=3)),\n",
       "                                                                                               (&#x27;simpleimputer&#x27;,\n",
       "                                                                                                SimpleImputer(strategy=&#x27;median&#x27;)),\n",
       "                                                                                               (&#x27;standardscaler&#x27;,\n",
       "                                                                                                StandardScaler())]),\n",
       "                                                                               [&#x27;bmi&#x27;,\n",
       "                                                                                &#x27;physicalhealthbaddays...\n",
       "                                         &#x27;logisticregression__penalty&#x27;: [&#x27;l2&#x27;],\n",
       "                                         &#x27;logisticregression__solver&#x27;: [&#x27;newton-cg&#x27;]},\n",
       "                                        {&#x27;logisticregression__C&#x27;: &lt;scipy.stats._distn_infrastructure.rv_frozen object at 0x120852640&gt;,\n",
       "                                         &#x27;logisticregression__l1_ratio&#x27;: &lt;scipy.stats._distn_infrastructure.rv_frozen object at 0x12080ed30&gt;,\n",
       "                                         &#x27;logisticregression__penalty&#x27;: [&#x27;elasticnet&#x27;],\n",
       "                                         &#x27;logisticregression__solver&#x27;: [&#x27;saga&#x27;]}],\n",
       "                   scoring=&#x27;roc_auc&#x27;)</pre></div></div></div><div class=\"sk-parallel\"><div class=\"sk-parallel-item\"><div class=\"sk-item\"><div class=\"sk-label-container\"><div class=\"sk-label sk-toggleable\"><input class=\"sk-toggleable__control sk-hidden--visually\" id=\"sk-estimator-id-44\" type=\"checkbox\" ><label for=\"sk-estimator-id-44\" class=\"sk-toggleable__label sk-toggleable__label-arrow\">estimator: Pipeline</label><div class=\"sk-toggleable__content\"><pre>Pipeline(steps=[(&#x27;columntransformer&#x27;,\n",
       "                 ColumnTransformer(transformers=[(&#x27;stand&#x27;,\n",
       "                                                  Pipeline(steps=[(&#x27;outliertrans&#x27;,\n",
       "                                                                   OutlierTrans(threshold=3)),\n",
       "                                                                  (&#x27;simpleimputer&#x27;,\n",
       "                                                                   SimpleImputer(strategy=&#x27;median&#x27;)),\n",
       "                                                                  (&#x27;standardscaler&#x27;,\n",
       "                                                                   StandardScaler())]),\n",
       "                                                  [&#x27;bmi&#x27;,\n",
       "                                                   &#x27;physicalhealthbaddays&#x27;,\n",
       "                                                   &#x27;mentalhealthbaddays&#x27;,\n",
       "                                                   &#x27;sleeptimenightly&#x27;]),\n",
       "                                                 (&#x27;spec1&#x27;,\n",
       "                                                  Pipeline(steps=[(&#x27;makeordinal&#x27;,\n",
       "                                                                   MakeOrdina...\n",
       "                                                                   OneHotEncoder(drop=&#x27;first&#x27;,\n",
       "                                                                                 sparse=False))]),\n",
       "                                                  [&#x27;smoking&#x27;,\n",
       "                                                   &#x27;alcoholdrinkingheavy&#x27;,\n",
       "                                                   &#x27;stroke&#x27;, &#x27;walkingdifficult&#x27;,\n",
       "                                                   &#x27;physicalactivity&#x27;, &#x27;asthma&#x27;,\n",
       "                                                   &#x27;kidneydisease&#x27;,\n",
       "                                                   &#x27;skincancer&#x27;]),\n",
       "                                                 (&#x27;cat&#x27;,\n",
       "                                                  Pipeline(steps=[(&#x27;onehotencoder&#x27;,\n",
       "                                                                   OneHotEncoder(drop=&#x27;first&#x27;,\n",
       "                                                                                 sparse=False))]),\n",
       "                                                  [&#x27;gender&#x27;, &#x27;ethnicity&#x27;])])),\n",
       "                (&#x27;logisticregression&#x27;,\n",
       "                 LogisticRegression(class_weight=&#x27;balanced&#x27;, max_iter=1000,\n",
       "                                    random_state=1))])</pre></div></div></div><div class=\"sk-serial\"><div class=\"sk-item\"><div class=\"sk-serial\"><div class=\"sk-item sk-dashed-wrapped\"><div class=\"sk-label-container\"><div class=\"sk-label sk-toggleable\"><input class=\"sk-toggleable__control sk-hidden--visually\" id=\"sk-estimator-id-45\" type=\"checkbox\" ><label for=\"sk-estimator-id-45\" class=\"sk-toggleable__label sk-toggleable__label-arrow\">columntransformer: ColumnTransformer</label><div class=\"sk-toggleable__content\"><pre>ColumnTransformer(transformers=[(&#x27;stand&#x27;,\n",
       "                                 Pipeline(steps=[(&#x27;outliertrans&#x27;,\n",
       "                                                  OutlierTrans(threshold=3)),\n",
       "                                                 (&#x27;simpleimputer&#x27;,\n",
       "                                                  SimpleImputer(strategy=&#x27;median&#x27;)),\n",
       "                                                 (&#x27;standardscaler&#x27;,\n",
       "                                                  StandardScaler())]),\n",
       "                                 [&#x27;bmi&#x27;, &#x27;physicalhealthbaddays&#x27;,\n",
       "                                  &#x27;mentalhealthbaddays&#x27;, &#x27;sleeptimenightly&#x27;]),\n",
       "                                (&#x27;spec1&#x27;,\n",
       "                                 Pipeline(steps=[(&#x27;makeordinal&#x27;, MakeOrdinal()),\n",
       "                                                 (&#x27;standardscaler&#x27;,\n",
       "                                                  StandardScaler...\n",
       "                                                                                     &#x27;Poor&#x27;: 0,\n",
       "                                                                                     &#x27;Very good&#x27;: 3}}))]),\n",
       "                                 [&#x27;diabetic&#x27;]),\n",
       "                                (&#x27;bin&#x27;,\n",
       "                                 Pipeline(steps=[(&#x27;onehotencoder&#x27;,\n",
       "                                                  OneHotEncoder(drop=&#x27;first&#x27;,\n",
       "                                                                sparse=False))]),\n",
       "                                 [&#x27;smoking&#x27;, &#x27;alcoholdrinkingheavy&#x27;, &#x27;stroke&#x27;,\n",
       "                                  &#x27;walkingdifficult&#x27;, &#x27;physicalactivity&#x27;,\n",
       "                                  &#x27;asthma&#x27;, &#x27;kidneydisease&#x27;, &#x27;skincancer&#x27;]),\n",
       "                                (&#x27;cat&#x27;,\n",
       "                                 Pipeline(steps=[(&#x27;onehotencoder&#x27;,\n",
       "                                                  OneHotEncoder(drop=&#x27;first&#x27;,\n",
       "                                                                sparse=False))]),\n",
       "                                 [&#x27;gender&#x27;, &#x27;ethnicity&#x27;])])</pre></div></div></div><div class=\"sk-parallel\"><div class=\"sk-parallel-item\"><div class=\"sk-item\"><div class=\"sk-label-container\"><div class=\"sk-label sk-toggleable\"><input class=\"sk-toggleable__control sk-hidden--visually\" id=\"sk-estimator-id-46\" type=\"checkbox\" ><label for=\"sk-estimator-id-46\" class=\"sk-toggleable__label sk-toggleable__label-arrow\">stand</label><div class=\"sk-toggleable__content\"><pre>[&#x27;bmi&#x27;, &#x27;physicalhealthbaddays&#x27;, &#x27;mentalhealthbaddays&#x27;, &#x27;sleeptimenightly&#x27;]</pre></div></div></div><div class=\"sk-serial\"><div class=\"sk-item\"><div class=\"sk-serial\"><div class=\"sk-item\"><div class=\"sk-estimator sk-toggleable\"><input class=\"sk-toggleable__control sk-hidden--visually\" id=\"sk-estimator-id-47\" type=\"checkbox\" ><label for=\"sk-estimator-id-47\" class=\"sk-toggleable__label sk-toggleable__label-arrow\">OutlierTrans</label><div class=\"sk-toggleable__content\"><pre>OutlierTrans(threshold=3)</pre></div></div></div><div class=\"sk-item\"><div class=\"sk-estimator sk-toggleable\"><input class=\"sk-toggleable__control sk-hidden--visually\" id=\"sk-estimator-id-48\" type=\"checkbox\" ><label for=\"sk-estimator-id-48\" class=\"sk-toggleable__label sk-toggleable__label-arrow\">SimpleImputer</label><div class=\"sk-toggleable__content\"><pre>SimpleImputer(strategy=&#x27;median&#x27;)</pre></div></div></div><div class=\"sk-item\"><div class=\"sk-estimator sk-toggleable\"><input class=\"sk-toggleable__control sk-hidden--visually\" id=\"sk-estimator-id-49\" type=\"checkbox\" ><label for=\"sk-estimator-id-49\" class=\"sk-toggleable__label sk-toggleable__label-arrow\">StandardScaler</label><div class=\"sk-toggleable__content\"><pre>StandardScaler()</pre></div></div></div></div></div></div></div></div><div class=\"sk-parallel-item\"><div class=\"sk-item\"><div class=\"sk-label-container\"><div class=\"sk-label sk-toggleable\"><input class=\"sk-toggleable__control sk-hidden--visually\" id=\"sk-estimator-id-50\" type=\"checkbox\" ><label for=\"sk-estimator-id-50\" class=\"sk-toggleable__label sk-toggleable__label-arrow\">spec1</label><div class=\"sk-toggleable__content\"><pre>[&#x27;agecategory&#x27;]</pre></div></div></div><div class=\"sk-serial\"><div class=\"sk-item\"><div class=\"sk-serial\"><div class=\"sk-item\"><div class=\"sk-estimator sk-toggleable\"><input class=\"sk-toggleable__control sk-hidden--visually\" id=\"sk-estimator-id-51\" type=\"checkbox\" ><label for=\"sk-estimator-id-51\" class=\"sk-toggleable__label sk-toggleable__label-arrow\">MakeOrdinal</label><div class=\"sk-toggleable__content\"><pre>MakeOrdinal()</pre></div></div></div><div class=\"sk-item\"><div class=\"sk-estimator sk-toggleable\"><input class=\"sk-toggleable__control sk-hidden--visually\" id=\"sk-estimator-id-52\" type=\"checkbox\" ><label for=\"sk-estimator-id-52\" class=\"sk-toggleable__label sk-toggleable__label-arrow\">StandardScaler</label><div class=\"sk-toggleable__content\"><pre>StandardScaler()</pre></div></div></div></div></div></div></div></div><div class=\"sk-parallel-item\"><div class=\"sk-item\"><div class=\"sk-label-container\"><div class=\"sk-label sk-toggleable\"><input class=\"sk-toggleable__control sk-hidden--visually\" id=\"sk-estimator-id-53\" type=\"checkbox\" ><label for=\"sk-estimator-id-53\" class=\"sk-toggleable__label sk-toggleable__label-arrow\">spec2</label><div class=\"sk-toggleable__content\"><pre>[&#x27;genhealth&#x27;]</pre></div></div></div><div class=\"sk-serial\"><div class=\"sk-item\"><div class=\"sk-serial\"><div class=\"sk-item\"><div class=\"sk-estimator sk-toggleable\"><input class=\"sk-toggleable__control sk-hidden--visually\" id=\"sk-estimator-id-54\" type=\"checkbox\" ><label for=\"sk-estimator-id-54\" class=\"sk-toggleable__label sk-toggleable__label-arrow\">ReplaceVals</label><div class=\"sk-toggleable__content\"><pre>ReplaceVals(repdict={&#x27;diabetic&#x27;: {&#x27;No&#x27;: 0, &#x27;No, borderline diabetes&#x27;: 0,\n",
       "                                  &#x27;Yes&#x27;: 1, &#x27;Yes (during pregnancy)&#x27;: 1},\n",
       "                     &#x27;genhealth&#x27;: {&#x27;Excellent&#x27;: 4, &#x27;Fair&#x27;: 1, &#x27;Good&#x27;: 2,\n",
       "                                   &#x27;Poor&#x27;: 0, &#x27;Very good&#x27;: 3}})</pre></div></div></div><div class=\"sk-item\"><div class=\"sk-estimator sk-toggleable\"><input class=\"sk-toggleable__control sk-hidden--visually\" id=\"sk-estimator-id-55\" type=\"checkbox\" ><label for=\"sk-estimator-id-55\" class=\"sk-toggleable__label sk-toggleable__label-arrow\">StandardScaler</label><div class=\"sk-toggleable__content\"><pre>StandardScaler()</pre></div></div></div></div></div></div></div></div><div class=\"sk-parallel-item\"><div class=\"sk-item\"><div class=\"sk-label-container\"><div class=\"sk-label sk-toggleable\"><input class=\"sk-toggleable__control sk-hidden--visually\" id=\"sk-estimator-id-56\" type=\"checkbox\" ><label for=\"sk-estimator-id-56\" class=\"sk-toggleable__label sk-toggleable__label-arrow\">spec3</label><div class=\"sk-toggleable__content\"><pre>[&#x27;diabetic&#x27;]</pre></div></div></div><div class=\"sk-serial\"><div class=\"sk-item\"><div class=\"sk-serial\"><div class=\"sk-item\"><div class=\"sk-estimator sk-toggleable\"><input class=\"sk-toggleable__control sk-hidden--visually\" id=\"sk-estimator-id-57\" type=\"checkbox\" ><label for=\"sk-estimator-id-57\" class=\"sk-toggleable__label sk-toggleable__label-arrow\">ReplaceVals</label><div class=\"sk-toggleable__content\"><pre>ReplaceVals(repdict={&#x27;diabetic&#x27;: {&#x27;No&#x27;: 0, &#x27;No, borderline diabetes&#x27;: 0,\n",
       "                                  &#x27;Yes&#x27;: 1, &#x27;Yes (during pregnancy)&#x27;: 1},\n",
       "                     &#x27;genhealth&#x27;: {&#x27;Excellent&#x27;: 4, &#x27;Fair&#x27;: 1, &#x27;Good&#x27;: 2,\n",
       "                                   &#x27;Poor&#x27;: 0, &#x27;Very good&#x27;: 3}})</pre></div></div></div></div></div></div></div></div><div class=\"sk-parallel-item\"><div class=\"sk-item\"><div class=\"sk-label-container\"><div class=\"sk-label sk-toggleable\"><input class=\"sk-toggleable__control sk-hidden--visually\" id=\"sk-estimator-id-58\" type=\"checkbox\" ><label for=\"sk-estimator-id-58\" class=\"sk-toggleable__label sk-toggleable__label-arrow\">bin</label><div class=\"sk-toggleable__content\"><pre>[&#x27;smoking&#x27;, &#x27;alcoholdrinkingheavy&#x27;, &#x27;stroke&#x27;, &#x27;walkingdifficult&#x27;, &#x27;physicalactivity&#x27;, &#x27;asthma&#x27;, &#x27;kidneydisease&#x27;, &#x27;skincancer&#x27;]</pre></div></div></div><div class=\"sk-serial\"><div class=\"sk-item\"><div class=\"sk-serial\"><div class=\"sk-item\"><div class=\"sk-estimator sk-toggleable\"><input class=\"sk-toggleable__control sk-hidden--visually\" id=\"sk-estimator-id-59\" type=\"checkbox\" ><label for=\"sk-estimator-id-59\" class=\"sk-toggleable__label sk-toggleable__label-arrow\">OneHotEncoder</label><div class=\"sk-toggleable__content\"><pre>OneHotEncoder(drop=&#x27;first&#x27;, sparse=False)</pre></div></div></div></div></div></div></div></div><div class=\"sk-parallel-item\"><div class=\"sk-item\"><div class=\"sk-label-container\"><div class=\"sk-label sk-toggleable\"><input class=\"sk-toggleable__control sk-hidden--visually\" id=\"sk-estimator-id-60\" type=\"checkbox\" ><label for=\"sk-estimator-id-60\" class=\"sk-toggleable__label sk-toggleable__label-arrow\">cat</label><div class=\"sk-toggleable__content\"><pre>[&#x27;gender&#x27;, &#x27;ethnicity&#x27;]</pre></div></div></div><div class=\"sk-serial\"><div class=\"sk-item\"><div class=\"sk-serial\"><div class=\"sk-item\"><div class=\"sk-estimator sk-toggleable\"><input class=\"sk-toggleable__control sk-hidden--visually\" id=\"sk-estimator-id-61\" type=\"checkbox\" ><label for=\"sk-estimator-id-61\" class=\"sk-toggleable__label sk-toggleable__label-arrow\">OneHotEncoder</label><div class=\"sk-toggleable__content\"><pre>OneHotEncoder(drop=&#x27;first&#x27;, sparse=False)</pre></div></div></div></div></div></div></div></div></div></div><div class=\"sk-item\"><div class=\"sk-estimator sk-toggleable\"><input class=\"sk-toggleable__control sk-hidden--visually\" id=\"sk-estimator-id-62\" type=\"checkbox\" ><label for=\"sk-estimator-id-62\" class=\"sk-toggleable__label sk-toggleable__label-arrow\">LogisticRegression</label><div class=\"sk-toggleable__content\"><pre>LogisticRegression(class_weight=&#x27;balanced&#x27;, max_iter=1000, random_state=1)</pre></div></div></div></div></div></div></div></div></div></div></div></div>"
      ],
      "text/plain": [
       "RandomizedSearchCV(cv=RepeatedStratifiedKFold(n_repeats=3, n_splits=7, random_state=3),\n",
       "                   estimator=Pipeline(steps=[('columntransformer',\n",
       "                                              ColumnTransformer(transformers=[('stand',\n",
       "                                                                               Pipeline(steps=[('outliertrans',\n",
       "                                                                                                OutlierTrans(threshold=3)),\n",
       "                                                                                               ('simpleimputer',\n",
       "                                                                                                SimpleImputer(strategy='median')),\n",
       "                                                                                               ('standardscaler',\n",
       "                                                                                                StandardScaler())]),\n",
       "                                                                               ['bmi',\n",
       "                                                                                'physicalhealthbaddays...\n",
       "                                         'logisticregression__penalty': ['l2'],\n",
       "                                         'logisticregression__solver': ['newton-cg']},\n",
       "                                        {'logisticregression__C': <scipy.stats._distn_infrastructure.rv_frozen object at 0x120852640>,\n",
       "                                         'logisticregression__l1_ratio': <scipy.stats._distn_infrastructure.rv_frozen object at 0x12080ed30>,\n",
       "                                         'logisticregression__penalty': ['elasticnet'],\n",
       "                                         'logisticregression__solver': ['saga']}],\n",
       "                   scoring='roc_auc')"
      ]
     },
     "execution_count": 54,
     "metadata": {},
     "output_type": "execute_result"
    }
   ],
   "source": [
    "lr = LogisticRegression(random_state=1, class_weight=\"balanced\", max_iter=1000)\n",
    "kf = RepeatedStratifiedKFold(n_splits=7, n_repeats=3, random_state=3)\n",
    "\n",
    "pipe1 = make_pipeline(coltrans, lr)\n",
    "reg_params = [\n",
    "    {\n",
    "        \"logisticregression__solver\": [\"liblinear\"],\n",
    "        \"logisticregression__penalty\": [\"l1\", \"l2\"],\n",
    "        \"logisticregression__C\": uniform(loc=0, scale=10),\n",
    "    },\n",
    "    {\n",
    "        \"logisticregression__solver\": [\"newton-cg\"],\n",
    "        \"logisticregression__penalty\": [\"l2\"],\n",
    "        \"logisticregression__C\": uniform(loc=0, scale=10),\n",
    "    },\n",
    "    {\n",
    "        \"logisticregression__solver\": [\"saga\"],\n",
    "        \"logisticregression__penalty\": [\"elasticnet\"],\n",
    "        \"logisticregression__l1_ratio\": uniform(loc=0, scale=1),\n",
    "        \"logisticregression__C\": uniform(loc=0, scale=10),\n",
    "    },\n",
    "]\n",
    "\n",
    "rs = RandomizedSearchCV(pipe1, reg_params, cv=kf, n_iter=20, scoring=\"roc_auc\")\n",
    "rs.fit(X_train, y_train)"
   ]
  },
  {
   "cell_type": "code",
   "execution_count": 55,
   "id": "8890fc2c-9a88-48e4-80e2-9ce7b2b2322e",
   "metadata": {
    "tags": []
   },
   "outputs": [
    {
     "data": {
      "text/plain": [
       "{'logisticregression__C': 2.557336956229652,\n",
       " 'logisticregression__penalty': 'l1',\n",
       " 'logisticregression__solver': 'liblinear'}"
      ]
     },
     "execution_count": 55,
     "metadata": {},
     "output_type": "execute_result"
    }
   ],
   "source": [
    "rs.best_params_"
   ]
  },
  {
   "cell_type": "code",
   "execution_count": 56,
   "id": "e4d16ab7-1491-486a-b560-7168a5f31eb4",
   "metadata": {
    "tags": []
   },
   "outputs": [
    {
     "data": {
      "text/plain": [
       "0.8412452956473805"
      ]
     },
     "execution_count": 56,
     "metadata": {},
     "output_type": "execute_result"
    }
   ],
   "source": [
    "rs.best_score_"
   ]
  },
  {
   "cell_type": "code",
   "execution_count": 57,
   "id": "56a16f13-db32-455f-ba96-900a07c1403c",
   "metadata": {
    "tags": []
   },
   "outputs": [],
   "source": [
    "results = (\n",
    "    pd.DataFrame(rs.cv_results_[\"mean_test_score\"], columns=[\"meanscore\"])\n",
    "    .join(pd.json_normalize(rs.cv_results_[\"params\"]))\n",
    "    .sort_values([\"meanscore\"], ascending=False)\n",
    ")"
   ]
  },
  {
   "cell_type": "markdown",
   "id": "0dc9ede8-0963-47ec-900f-91f1e983b490",
   "metadata": {},
   "source": [
    "^ The `cv_results_` dictionary of the grid search provides us with lots of information about the 20 models that were tried. The `params` list in that dictionary has a somewhat complicated structure because some keys are not present for some iterations, such as `L1_ratio`. We use `json_normalize` to flatten the structure."
   ]
  },
  {
   "cell_type": "code",
   "execution_count": 58,
   "id": "4391ae06-bdf6-4e5d-95c1-37a6e0fbac0e",
   "metadata": {
    "tags": []
   },
   "outputs": [
    {
     "data": {
      "text/plain": [
       "[Text(0.5, 1.0, 'Heart Disease Prediction Confusion Matrix'),\n",
       " Text(0.5, 0, 'Predicted Value'),\n",
       " Text(0, 0.5, 'Actual Value')]"
      ]
     },
     "execution_count": 58,
     "metadata": {},
     "output_type": "execute_result"
    },
    {
     "data": {
      "image/png": "[encoded data removed]",
      "text/plain": [
       "<Figure size 432x288 with 2 Axes>"
      ]
     },
     "metadata": {
      "needs_background": "light"
     },
     "output_type": "display_data"
    }
   ],
   "source": [
    "y_pred = rs.predict(X_test)\n",
    "\n",
    "cm = skmet.confusion_matrix(y_test, y_pred)\n",
    "cmplot = skmet.ConfusionMatrixDisplay(\n",
    "    confusion_matrix=cm, display_labels=[\"Negative\", \"Positive\"]\n",
    ")\n",
    "cmplot.plot()\n",
    "cmplot.ax_.set(\n",
    "    title=\"Heart Disease Prediction Confusion Matrix\",\n",
    "    xlabel=\"Predicted Value\",\n",
    "    ylabel=\"Actual Value\",\n",
    ")"
   ]
  },
  {
   "cell_type": "markdown",
   "id": "9768b5ea-2e5d-4afd-a353-7602b398553a",
   "metadata": {
    "tags": []
   },
   "source": [
    "### Metrics: Classification report"
   ]
  },
  {
   "cell_type": "code",
   "execution_count": 62,
   "id": "f6cc4644-5ece-4104-a8a1-6179527ff4fb",
   "metadata": {
    "tags": []
   },
   "outputs": [
    {
     "name": "stdout",
     "output_type": "stream",
     "text": [
      "              precision    recall  f1-score   support\n",
      "\n",
      "           0       0.98      0.74      0.84      5506\n",
      "           1       0.21      0.79      0.34       494\n",
      "\n",
      "    accuracy                           0.74      6000\n",
      "   macro avg       0.59      0.77      0.59      6000\n",
      "weighted avg       0.91      0.74      0.80      6000\n",
      "\n"
     ]
    }
   ],
   "source": [
    "print(skmet.classification_report(y_test, y_pred))"
   ]
  },
  {
   "cell_type": "markdown",
   "id": "63278cf9-6851-4dc7-a7af-4b1c971b1691",
   "metadata": {},
   "source": [
    "^ Our scores are largely unchanged from our model without regularization."
   ]
  },
  {
   "cell_type": "markdown",
   "id": "c8724438-109d-46f5-a575-918e2592576c",
   "metadata": {},
   "source": [
    "## Multinomial logistic regression\n",
    "\n",
    "\n",
    "Logistic regression would not be as useful if it only worked for binary classification problems. Fortunately, we can use multinomial logistic regression when our target has more than two values.\n",
    "\n",
    "In this section, we want to predict if a machine failed or didn't, and the type of failure."
   ]
  },
  {
   "cell_type": "code",
   "execution_count": 84,
   "id": "7f939c5b-cca1-4b7b-8b09-2010a8aa6d27",
   "metadata": {
    "tags": []
   },
   "outputs": [],
   "source": [
    "# Force load without restarting kernel.\n",
    "import importlib\n",
    "\n",
    "import data.load as load\n",
    "\n",
    "importlib.reload(load)\n",
    "\n",
    "from data.load import load_machinefailuretype"
   ]
  },
  {
   "cell_type": "markdown",
   "id": "df28f621-0c00-4b06-8f81-3ea6cb82cae2",
   "metadata": {},
   "source": [
    "### Import dependencies"
   ]
  },
  {
   "cell_type": "code",
   "execution_count": 116,
   "id": "ca4035a2-5ea6-44ad-b9b1-4cc387366ca0",
   "metadata": {
    "tags": []
   },
   "outputs": [],
   "source": [
    "import numpy as np\n",
    "import pandas as pd\n",
    "from sklearn.compose import ColumnTransformer\n",
    "from sklearn.impute import SimpleImputer\n",
    "from sklearn.linear_model import LogisticRegression\n",
    "from sklearn.model_selection import (\n",
    "    RepeatedStratifiedKFold,\n",
    "    cross_validate,\n",
    "    train_test_split,\n",
    ")\n",
    "from sklearn.pipeline import make_pipeline\n",
    "from sklearn.preprocessing import OneHotEncoder, StandardScaler"
   ]
  },
  {
   "cell_type": "markdown",
   "id": "81b79710-b372-469d-8bad-dd3f4cd0430e",
   "metadata": {},
   "source": [
    "### Load data"
   ]
  },
  {
   "cell_type": "code",
   "execution_count": 117,
   "id": "b0f267c5-e08e-4d60-89cd-d3c1df952a37",
   "metadata": {
    "tags": []
   },
   "outputs": [
    {
     "data": {
      "text/html": [
       "<div>\n",
       "<style scoped>\n",
       "    .dataframe tbody tr th:only-of-type {\n",
       "        vertical-align: middle;\n",
       "    }\n",
       "\n",
       "    .dataframe tbody tr th {\n",
       "        vertical-align: top;\n",
       "    }\n",
       "\n",
       "    .dataframe thead th {\n",
       "        text-align: right;\n",
       "    }\n",
       "</style>\n",
       "<table border=\"1\" class=\"dataframe\">\n",
       "  <thead>\n",
       "    <tr style=\"text-align: right;\">\n",
       "      <th></th>\n",
       "      <th>udi</th>\n",
       "      <th>product</th>\n",
       "      <th>machinetype</th>\n",
       "      <th>airtemp</th>\n",
       "      <th>processtemperature</th>\n",
       "      <th>rotationalspeed</th>\n",
       "      <th>torque</th>\n",
       "      <th>toolwear</th>\n",
       "      <th>fail</th>\n",
       "      <th>failtype</th>\n",
       "    </tr>\n",
       "  </thead>\n",
       "  <tbody>\n",
       "    <tr>\n",
       "      <th>0</th>\n",
       "      <td>1</td>\n",
       "      <td>M14860</td>\n",
       "      <td>M</td>\n",
       "      <td>298.1</td>\n",
       "      <td>308.6</td>\n",
       "      <td>1551</td>\n",
       "      <td>42.8</td>\n",
       "      <td>0</td>\n",
       "      <td>0</td>\n",
       "      <td>No Failure</td>\n",
       "    </tr>\n",
       "    <tr>\n",
       "      <th>1</th>\n",
       "      <td>2</td>\n",
       "      <td>L47181</td>\n",
       "      <td>L</td>\n",
       "      <td>298.2</td>\n",
       "      <td>308.7</td>\n",
       "      <td>1408</td>\n",
       "      <td>46.3</td>\n",
       "      <td>3</td>\n",
       "      <td>0</td>\n",
       "      <td>No Failure</td>\n",
       "    </tr>\n",
       "    <tr>\n",
       "      <th>2</th>\n",
       "      <td>3</td>\n",
       "      <td>L47182</td>\n",
       "      <td>L</td>\n",
       "      <td>298.1</td>\n",
       "      <td>308.5</td>\n",
       "      <td>1498</td>\n",
       "      <td>49.4</td>\n",
       "      <td>5</td>\n",
       "      <td>0</td>\n",
       "      <td>No Failure</td>\n",
       "    </tr>\n",
       "    <tr>\n",
       "      <th>3</th>\n",
       "      <td>4</td>\n",
       "      <td>L47183</td>\n",
       "      <td>L</td>\n",
       "      <td>298.2</td>\n",
       "      <td>308.6</td>\n",
       "      <td>1433</td>\n",
       "      <td>39.5</td>\n",
       "      <td>7</td>\n",
       "      <td>0</td>\n",
       "      <td>No Failure</td>\n",
       "    </tr>\n",
       "    <tr>\n",
       "      <th>4</th>\n",
       "      <td>5</td>\n",
       "      <td>L47184</td>\n",
       "      <td>L</td>\n",
       "      <td>298.2</td>\n",
       "      <td>308.7</td>\n",
       "      <td>1408</td>\n",
       "      <td>40.0</td>\n",
       "      <td>9</td>\n",
       "      <td>0</td>\n",
       "      <td>No Failure</td>\n",
       "    </tr>\n",
       "  </tbody>\n",
       "</table>\n",
       "</div>"
      ],
      "text/plain": [
       "   udi product machinetype  airtemp  processtemperature  rotationalspeed  \\\n",
       "0    1  M14860           M    298.1               308.6             1551   \n",
       "1    2  L47181           L    298.2               308.7             1408   \n",
       "2    3  L47182           L    298.1               308.5             1498   \n",
       "3    4  L47183           L    298.2               308.6             1433   \n",
       "4    5  L47184           L    298.2               308.7             1408   \n",
       "\n",
       "   torque  toolwear  fail    failtype  \n",
       "0    42.8         0     0  No Failure  \n",
       "1    46.3         3     0  No Failure  \n",
       "2    49.4         5     0  No Failure  \n",
       "3    39.5         7     0  No Failure  \n",
       "4    40.0         9     0  No Failure  "
      ]
     },
     "execution_count": 117,
     "metadata": {},
     "output_type": "execute_result"
    }
   ],
   "source": [
    "machinefailuretype = load_machinefailuretype()\n",
    "machinefailuretype.head()"
   ]
  },
  {
   "cell_type": "code",
   "execution_count": 118,
   "id": "b1c79cd3-44e5-4155-b2aa-b04dd5921166",
   "metadata": {
    "tags": []
   },
   "outputs": [
    {
     "data": {
      "text/html": [
       "<div>\n",
       "<style scoped>\n",
       "    .dataframe tbody tr th:only-of-type {\n",
       "        vertical-align: middle;\n",
       "    }\n",
       "\n",
       "    .dataframe tbody tr th {\n",
       "        vertical-align: top;\n",
       "    }\n",
       "\n",
       "    .dataframe thead th {\n",
       "        text-align: right;\n",
       "    }\n",
       "</style>\n",
       "<table border=\"1\" class=\"dataframe\">\n",
       "  <thead>\n",
       "    <tr style=\"text-align: right;\">\n",
       "      <th></th>\n",
       "      <th>count</th>\n",
       "      <th>mean</th>\n",
       "      <th>std</th>\n",
       "      <th>min</th>\n",
       "      <th>25%</th>\n",
       "      <th>50%</th>\n",
       "      <th>75%</th>\n",
       "      <th>max</th>\n",
       "    </tr>\n",
       "  </thead>\n",
       "  <tbody>\n",
       "    <tr>\n",
       "      <th>udi</th>\n",
       "      <td>10000.0</td>\n",
       "      <td>5000.50000</td>\n",
       "      <td>2886.895680</td>\n",
       "      <td>1.0</td>\n",
       "      <td>2500.75</td>\n",
       "      <td>5000.5</td>\n",
       "      <td>7500.25</td>\n",
       "      <td>10000.0</td>\n",
       "    </tr>\n",
       "    <tr>\n",
       "      <th>airtemp</th>\n",
       "      <td>10000.0</td>\n",
       "      <td>300.00493</td>\n",
       "      <td>2.000259</td>\n",
       "      <td>295.3</td>\n",
       "      <td>298.30</td>\n",
       "      <td>300.1</td>\n",
       "      <td>301.50</td>\n",
       "      <td>304.5</td>\n",
       "    </tr>\n",
       "    <tr>\n",
       "      <th>processtemperature</th>\n",
       "      <td>10000.0</td>\n",
       "      <td>310.00556</td>\n",
       "      <td>1.483734</td>\n",
       "      <td>305.7</td>\n",
       "      <td>308.80</td>\n",
       "      <td>310.1</td>\n",
       "      <td>311.10</td>\n",
       "      <td>313.8</td>\n",
       "    </tr>\n",
       "    <tr>\n",
       "      <th>rotationalspeed</th>\n",
       "      <td>10000.0</td>\n",
       "      <td>1538.77610</td>\n",
       "      <td>179.284096</td>\n",
       "      <td>1168.0</td>\n",
       "      <td>1423.00</td>\n",
       "      <td>1503.0</td>\n",
       "      <td>1612.00</td>\n",
       "      <td>2886.0</td>\n",
       "    </tr>\n",
       "    <tr>\n",
       "      <th>torque</th>\n",
       "      <td>10000.0</td>\n",
       "      <td>39.98691</td>\n",
       "      <td>9.968934</td>\n",
       "      <td>3.8</td>\n",
       "      <td>33.20</td>\n",
       "      <td>40.1</td>\n",
       "      <td>46.80</td>\n",
       "      <td>76.6</td>\n",
       "    </tr>\n",
       "    <tr>\n",
       "      <th>toolwear</th>\n",
       "      <td>10000.0</td>\n",
       "      <td>107.95100</td>\n",
       "      <td>63.654147</td>\n",
       "      <td>0.0</td>\n",
       "      <td>53.00</td>\n",
       "      <td>108.0</td>\n",
       "      <td>162.00</td>\n",
       "      <td>253.0</td>\n",
       "    </tr>\n",
       "    <tr>\n",
       "      <th>fail</th>\n",
       "      <td>10000.0</td>\n",
       "      <td>0.03390</td>\n",
       "      <td>0.180981</td>\n",
       "      <td>0.0</td>\n",
       "      <td>0.00</td>\n",
       "      <td>0.0</td>\n",
       "      <td>0.00</td>\n",
       "      <td>1.0</td>\n",
       "    </tr>\n",
       "  </tbody>\n",
       "</table>\n",
       "</div>"
      ],
      "text/plain": [
       "                      count        mean          std     min      25%     50%  \\\n",
       "udi                 10000.0  5000.50000  2886.895680     1.0  2500.75  5000.5   \n",
       "airtemp             10000.0   300.00493     2.000259   295.3   298.30   300.1   \n",
       "processtemperature  10000.0   310.00556     1.483734   305.7   308.80   310.1   \n",
       "rotationalspeed     10000.0  1538.77610   179.284096  1168.0  1423.00  1503.0   \n",
       "torque              10000.0    39.98691     9.968934     3.8    33.20    40.1   \n",
       "toolwear            10000.0   107.95100    63.654147     0.0    53.00   108.0   \n",
       "fail                10000.0     0.03390     0.180981     0.0     0.00     0.0   \n",
       "\n",
       "                        75%      max  \n",
       "udi                 7500.25  10000.0  \n",
       "airtemp              301.50    304.5  \n",
       "processtemperature   311.10    313.8  \n",
       "rotationalspeed     1612.00   2886.0  \n",
       "torque                46.80     76.6  \n",
       "toolwear             162.00    253.0  \n",
       "fail                   0.00      1.0  "
      ]
     },
     "execution_count": 118,
     "metadata": {},
     "output_type": "execute_result"
    }
   ],
   "source": [
    "machinefailuretype.describe().T"
   ]
  },
  {
   "cell_type": "code",
   "execution_count": 119,
   "id": "65464118-6b62-403d-9a2d-c76677252f2d",
   "metadata": {
    "tags": []
   },
   "outputs": [
    {
     "data": {
      "text/html": [
       "<div>\n",
       "<style scoped>\n",
       "    .dataframe tbody tr th:only-of-type {\n",
       "        vertical-align: middle;\n",
       "    }\n",
       "\n",
       "    .dataframe tbody tr th {\n",
       "        vertical-align: top;\n",
       "    }\n",
       "\n",
       "    .dataframe thead th {\n",
       "        text-align: right;\n",
       "    }\n",
       "</style>\n",
       "<table border=\"1\" class=\"dataframe\">\n",
       "  <thead>\n",
       "    <tr style=\"text-align: right;\">\n",
       "      <th></th>\n",
       "      <th>count</th>\n",
       "      <th>unique</th>\n",
       "      <th>top</th>\n",
       "      <th>freq</th>\n",
       "    </tr>\n",
       "  </thead>\n",
       "  <tbody>\n",
       "    <tr>\n",
       "      <th>product</th>\n",
       "      <td>10000</td>\n",
       "      <td>10000</td>\n",
       "      <td>L48332</td>\n",
       "      <td>1</td>\n",
       "    </tr>\n",
       "    <tr>\n",
       "      <th>machinetype</th>\n",
       "      <td>10000</td>\n",
       "      <td>3</td>\n",
       "      <td>L</td>\n",
       "      <td>6000</td>\n",
       "    </tr>\n",
       "    <tr>\n",
       "      <th>failtype</th>\n",
       "      <td>10000</td>\n",
       "      <td>6</td>\n",
       "      <td>No Failure</td>\n",
       "      <td>9652</td>\n",
       "    </tr>\n",
       "  </tbody>\n",
       "</table>\n",
       "</div>"
      ],
      "text/plain": [
       "             count unique         top  freq\n",
       "product      10000  10000      L48332     1\n",
       "machinetype  10000      3           L  6000\n",
       "failtype     10000      6  No Failure  9652"
      ]
     },
     "execution_count": 119,
     "metadata": {},
     "output_type": "execute_result"
    }
   ],
   "source": [
    "machinefailuretype.describe(include=[\"O\"]).T"
   ]
  },
  {
   "cell_type": "code",
   "execution_count": 120,
   "id": "8c901614-5b60-40e3-a960-5a5bc330b052",
   "metadata": {
    "tags": []
   },
   "outputs": [
    {
     "name": "stdout",
     "output_type": "stream",
     "text": [
      "<class 'pandas.core.frame.DataFrame'>\n",
      "RangeIndex: 10000 entries, 0 to 9999\n",
      "Data columns (total 10 columns):\n",
      " #   Column              Non-Null Count  Dtype  \n",
      "---  ------              --------------  -----  \n",
      " 0   udi                 10000 non-null  int64  \n",
      " 1   product             10000 non-null  object \n",
      " 2   machinetype         10000 non-null  object \n",
      " 3   airtemp             10000 non-null  float64\n",
      " 4   processtemperature  10000 non-null  float64\n",
      " 5   rotationalspeed     10000 non-null  int64  \n",
      " 6   torque              10000 non-null  float64\n",
      " 7   toolwear            10000 non-null  int64  \n",
      " 8   fail                10000 non-null  int64  \n",
      " 9   failtype            10000 non-null  object \n",
      "dtypes: float64(3), int64(4), object(3)\n",
      "memory usage: 781.4+ KB\n"
     ]
    }
   ],
   "source": [
    "machinefailuretype.info()"
   ]
  },
  {
   "cell_type": "code",
   "execution_count": 121,
   "id": "7fdbdbb6-0945-49ce-aa80-a66e66e2a4d1",
   "metadata": {
    "tags": []
   },
   "outputs": [
    {
     "data": {
      "text/plain": [
       "(10000, 10)"
      ]
     },
     "execution_count": 121,
     "metadata": {},
     "output_type": "execute_result"
    }
   ],
   "source": [
    "machinefailuretype.shape"
   ]
  },
  {
   "cell_type": "code",
   "execution_count": 122,
   "id": "a99ae725-3fb9-4009-96a1-fa4be0271269",
   "metadata": {
    "tags": []
   },
   "outputs": [
    {
     "data": {
      "text/plain": [
       "No Failure                  9652\n",
       "Heat Dissipation Failure     112\n",
       "Power Failure                 95\n",
       "Overstrain Failure            78\n",
       "Tool Wear Failure             45\n",
       "Random Failures               18\n",
       "Name: failtype, dtype: int64"
      ]
     },
     "execution_count": 122,
     "metadata": {},
     "output_type": "execute_result"
    }
   ],
   "source": [
    "machinefailuretype.failtype.value_counts(dropna=False)"
   ]
  },
  {
   "cell_type": "code",
   "execution_count": 123,
   "id": "6fab882d-155c-4633-9d7f-08b6a7ab652b",
   "metadata": {
    "tags": []
   },
   "outputs": [
    {
     "data": {
      "text/plain": [
       "H    1003\n",
       "L    6000\n",
       "M    2997\n",
       "Name: machinetype, dtype: int64"
      ]
     },
     "execution_count": 123,
     "metadata": {},
     "output_type": "execute_result"
    }
   ],
   "source": [
    "machinefailuretype.machinetype.value_counts(dropna=False).sort_index()"
   ]
  },
  {
   "cell_type": "code",
   "execution_count": 124,
   "id": "fd17cf3f-070b-422e-bcce-0f7a6ce3af0d",
   "metadata": {
    "tags": []
   },
   "outputs": [],
   "source": [
    "code_by_typetext = {\n",
    "    \"No Failure\": 1,\n",
    "    \"Heat Dissipation Failure\": 2,\n",
    "    \"Power Failure\": 3,\n",
    "    \"Overstrain Failure\": 4,\n",
    "    # We combine the last two because their frequency is too low.\n",
    "}\n",
    "\n",
    "\n",
    "def setcode(typetext):\n",
    "    return code_by_typetext.get(typetext, 5)\n",
    "\n",
    "\n",
    "machinefailuretype[\"failtypecode\"] = machinefailuretype.apply(\n",
    "    lambda row: setcode(row.failtype), axis=1\n",
    ")"
   ]
  },
  {
   "cell_type": "code",
   "execution_count": 125,
   "id": "8df26c94-91d6-4d4e-9f0d-184358c28475",
   "metadata": {
    "tags": []
   },
   "outputs": [
    {
     "data": {
      "text/html": [
       "<div>\n",
       "<style scoped>\n",
       "    .dataframe tbody tr th:only-of-type {\n",
       "        vertical-align: middle;\n",
       "    }\n",
       "\n",
       "    .dataframe tbody tr th {\n",
       "        vertical-align: top;\n",
       "    }\n",
       "\n",
       "    .dataframe thead th {\n",
       "        text-align: right;\n",
       "    }\n",
       "</style>\n",
       "<table border=\"1\" class=\"dataframe\">\n",
       "  <thead>\n",
       "    <tr style=\"text-align: right;\">\n",
       "      <th></th>\n",
       "      <th>failtype</th>\n",
       "      <th>failtypecode</th>\n",
       "      <th>0</th>\n",
       "    </tr>\n",
       "  </thead>\n",
       "  <tbody>\n",
       "    <tr>\n",
       "      <th>0</th>\n",
       "      <td>Heat Dissipation Failure</td>\n",
       "      <td>2</td>\n",
       "      <td>112</td>\n",
       "    </tr>\n",
       "    <tr>\n",
       "      <th>1</th>\n",
       "      <td>No Failure</td>\n",
       "      <td>1</td>\n",
       "      <td>9652</td>\n",
       "    </tr>\n",
       "    <tr>\n",
       "      <th>2</th>\n",
       "      <td>Overstrain Failure</td>\n",
       "      <td>4</td>\n",
       "      <td>78</td>\n",
       "    </tr>\n",
       "    <tr>\n",
       "      <th>3</th>\n",
       "      <td>Power Failure</td>\n",
       "      <td>3</td>\n",
       "      <td>95</td>\n",
       "    </tr>\n",
       "    <tr>\n",
       "      <th>4</th>\n",
       "      <td>Random Failures</td>\n",
       "      <td>5</td>\n",
       "      <td>18</td>\n",
       "    </tr>\n",
       "    <tr>\n",
       "      <th>5</th>\n",
       "      <td>Tool Wear Failure</td>\n",
       "      <td>5</td>\n",
       "      <td>45</td>\n",
       "    </tr>\n",
       "  </tbody>\n",
       "</table>\n",
       "</div>"
      ],
      "text/plain": [
       "                   failtype  failtypecode     0\n",
       "0  Heat Dissipation Failure             2   112\n",
       "1                No Failure             1  9652\n",
       "2        Overstrain Failure             4    78\n",
       "3             Power Failure             3    95\n",
       "4           Random Failures             5    18\n",
       "5         Tool Wear Failure             5    45"
      ]
     },
     "execution_count": 125,
     "metadata": {},
     "output_type": "execute_result"
    }
   ],
   "source": [
    "machinefailuretype.groupby([\"failtype\", \"failtypecode\"]).size().reset_index()"
   ]
  },
  {
   "cell_type": "markdown",
   "id": "f946feef-b04e-457b-915a-27ba767a5362",
   "metadata": {},
   "source": [
    "### Create train and test data"
   ]
  },
  {
   "cell_type": "code",
   "execution_count": 126,
   "id": "8de58316-3a7c-4dd8-8d17-a00570843d4f",
   "metadata": {
    "tags": []
   },
   "outputs": [
    {
     "data": {
      "text/html": [
       "<div>\n",
       "<style scoped>\n",
       "    .dataframe tbody tr th:only-of-type {\n",
       "        vertical-align: middle;\n",
       "    }\n",
       "\n",
       "    .dataframe tbody tr th {\n",
       "        vertical-align: top;\n",
       "    }\n",
       "\n",
       "    .dataframe thead th {\n",
       "        text-align: right;\n",
       "    }\n",
       "</style>\n",
       "<table border=\"1\" class=\"dataframe\">\n",
       "  <thead>\n",
       "    <tr style=\"text-align: right;\">\n",
       "      <th></th>\n",
       "      <th>min</th>\n",
       "      <th>median</th>\n",
       "      <th>max</th>\n",
       "    </tr>\n",
       "  </thead>\n",
       "  <tbody>\n",
       "    <tr>\n",
       "      <th>airtemp</th>\n",
       "      <td>295.3</td>\n",
       "      <td>300.1</td>\n",
       "      <td>304.5</td>\n",
       "    </tr>\n",
       "    <tr>\n",
       "      <th>processtemperature</th>\n",
       "      <td>305.7</td>\n",
       "      <td>310.1</td>\n",
       "      <td>313.8</td>\n",
       "    </tr>\n",
       "    <tr>\n",
       "      <th>rotationalspeed</th>\n",
       "      <td>1168.0</td>\n",
       "      <td>1503.0</td>\n",
       "      <td>2886.0</td>\n",
       "    </tr>\n",
       "    <tr>\n",
       "      <th>torque</th>\n",
       "      <td>3.8</td>\n",
       "      <td>40.1</td>\n",
       "      <td>76.6</td>\n",
       "    </tr>\n",
       "    <tr>\n",
       "      <th>toolwear</th>\n",
       "      <td>0.0</td>\n",
       "      <td>108.0</td>\n",
       "      <td>253.0</td>\n",
       "    </tr>\n",
       "  </tbody>\n",
       "</table>\n",
       "</div>"
      ],
      "text/plain": [
       "                       min  median     max\n",
       "airtemp              295.3   300.1   304.5\n",
       "processtemperature   305.7   310.1   313.8\n",
       "rotationalspeed     1168.0  1503.0  2886.0\n",
       "torque                 3.8    40.1    76.6\n",
       "toolwear               0.0   108.0   253.0"
      ]
     },
     "execution_count": 126,
     "metadata": {},
     "output_type": "execute_result"
    }
   ],
   "source": [
    "num_cols = [\"airtemp\", \"processtemperature\", \"rotationalspeed\", \"torque\", \"toolwear\"]\n",
    "cat_cols = [\"machinetype\"]\n",
    "\n",
    "machinefailuretype[num_cols].agg([\"min\", \"median\", \"max\"]).T"
   ]
  },
  {
   "cell_type": "code",
   "execution_count": 127,
   "id": "ff3dba5e-861a-4971-80a4-9fd01426cadb",
   "metadata": {
    "tags": []
   },
   "outputs": [],
   "source": [
    "X_train, X_test, y_train, y_test = train_test_split(\n",
    "    machinefailuretype[num_cols + cat_cols],\n",
    "    machinefailuretype[\"failtypecode\"],\n",
    "    test_size=0.2,\n",
    "    random_state=0,\n",
    ")"
   ]
  },
  {
   "cell_type": "code",
   "execution_count": 128,
   "id": "cc65d252-2b63-4f89-9457-4f7a5e1f0892",
   "metadata": {
    "tags": []
   },
   "outputs": [],
   "source": [
    "ohe = OneHotEncoder(drop=\"first\", sparse=False)\n",
    "standtrans = make_pipeline(\n",
    "    OutlierTrans(3), SimpleImputer(strategy=\"median\"), StandardScaler()\n",
    ")\n",
    "cattrans = make_pipeline(ohe)\n",
    "coltrans = ColumnTransformer(\n",
    "    transformers=[(\"stand\", standtrans, num_cols), (\"cat\", cattrans, cat_cols)]\n",
    ")"
   ]
  },
  {
   "cell_type": "code",
   "execution_count": 129,
   "id": "7ff7f6dc-aba3-4e25-8958-f23d6645bfae",
   "metadata": {
    "tags": []
   },
   "outputs": [],
   "source": [
    "lr = LogisticRegression(\n",
    "    random_state=0, multi_class=\"multinomial\", solver=\"lbfgs\", max_iter=1000\n",
    ")\n",
    "kf = RepeatedStratifiedKFold(n_splits=10, n_repeats=5, random_state=0)\n",
    "pipe1 = make_pipeline(coltrans, lr)"
   ]
  },
  {
   "cell_type": "code",
   "execution_count": 130,
   "id": "3d02a0ce-a4ed-4dc0-b0ca-0d0ab451b3c3",
   "metadata": {
    "tags": []
   },
   "outputs": [
    {
     "data": {
      "text/plain": [
       "[Text(0.5, 1.0, 'Machine Failure Type Confusion Matrix'),\n",
       " Text(0.5, 0, 'Predicted Value'),\n",
       " Text(0, 0.5, 'Actual Value')]"
      ]
     },
     "execution_count": 130,
     "metadata": {},
     "output_type": "execute_result"
    },
    {
     "data": {
      "image/png": "[encoded data removed]",
      "text/plain": [
       "<Figure size 432x288 with 2 Axes>"
      ]
     },
     "metadata": {
      "needs_background": "light"
     },
     "output_type": "display_data"
    }
   ],
   "source": [
    "pipe1.fit(X_train, y_train)\n",
    "y_pred = pipe1.predict(X_test)\n",
    "\n",
    "cm = skmet.confusion_matrix(y_test, y_pred)\n",
    "cmplot = skmet.ConfusionMatrixDisplay(\n",
    "    confusion_matrix=cm, display_labels=[\"None\", \"Heat\", \"Power\", \"Overstrain\", \"Other\"]\n",
    ")\n",
    "cmplot.plot()\n",
    "cmplot.ax_.set(\n",
    "    title=\"Machine Failure Type Confusion Matrix\",\n",
    "    xlabel=\"Predicted Value\",\n",
    "    ylabel=\"Actual Value\",\n",
    ")"
   ]
  },
  {
   "cell_type": "markdown",
   "id": "15579945-2874-4adc-8247-d97e01d0e7c2",
   "metadata": {},
   "source": [
    "^ The confusion matrix shows that our model does not do a good job of predicting the failure type when there is a failure, particularly with power failure or other failures."
   ]
  },
  {
   "cell_type": "code",
   "execution_count": 131,
   "id": "bea47717-a748-4651-8d69-bbbd5e4d6204",
   "metadata": {
    "tags": []
   },
   "outputs": [
    {
     "name": "stderr",
     "output_type": "stream",
     "text": [
      "/usr/local/lib/python3.9/site-packages/sklearn/metrics/_classification.py:1334: UndefinedMetricWarning: Precision is ill-defined and being set to 0.0 in labels with no predicted samples. Use `zero_division` parameter to control this behavior.\n",
      "  _warn_prf(average, modifier, msg_start, len(result))\n",
      "/usr/local/lib/python3.9/site-packages/sklearn/metrics/_classification.py:1334: UndefinedMetricWarning: Precision is ill-defined and being set to 0.0 in labels with no predicted samples. Use `zero_division` parameter to control this behavior.\n",
      "  _warn_prf(average, modifier, msg_start, len(result))\n",
      "/usr/local/lib/python3.9/site-packages/sklearn/metrics/_classification.py:1334: UndefinedMetricWarning: Precision is ill-defined and being set to 0.0 in labels with no predicted samples. Use `zero_division` parameter to control this behavior.\n",
      "  _warn_prf(average, modifier, msg_start, len(result))\n",
      "/usr/local/lib/python3.9/site-packages/sklearn/metrics/_classification.py:1334: UndefinedMetricWarning: Precision is ill-defined and being set to 0.0 in labels with no predicted samples. Use `zero_division` parameter to control this behavior.\n",
      "  _warn_prf(average, modifier, msg_start, len(result))\n",
      "/usr/local/lib/python3.9/site-packages/sklearn/metrics/_classification.py:1334: UndefinedMetricWarning: Precision is ill-defined and being set to 0.0 in labels with no predicted samples. Use `zero_division` parameter to control this behavior.\n",
      "  _warn_prf(average, modifier, msg_start, len(result))\n",
      "/usr/local/lib/python3.9/site-packages/sklearn/metrics/_classification.py:1334: UndefinedMetricWarning: Precision is ill-defined and being set to 0.0 in labels with no predicted samples. Use `zero_division` parameter to control this behavior.\n",
      "  _warn_prf(average, modifier, msg_start, len(result))\n",
      "/usr/local/lib/python3.9/site-packages/sklearn/metrics/_classification.py:1334: UndefinedMetricWarning: Precision is ill-defined and being set to 0.0 in labels with no predicted samples. Use `zero_division` parameter to control this behavior.\n",
      "  _warn_prf(average, modifier, msg_start, len(result))\n",
      "/usr/local/lib/python3.9/site-packages/sklearn/metrics/_classification.py:1334: UndefinedMetricWarning: Precision is ill-defined and being set to 0.0 in labels with no predicted samples. Use `zero_division` parameter to control this behavior.\n",
      "  _warn_prf(average, modifier, msg_start, len(result))\n",
      "/usr/local/lib/python3.9/site-packages/sklearn/metrics/_classification.py:1334: UndefinedMetricWarning: Precision is ill-defined and being set to 0.0 in labels with no predicted samples. Use `zero_division` parameter to control this behavior.\n",
      "  _warn_prf(average, modifier, msg_start, len(result))\n",
      "/usr/local/lib/python3.9/site-packages/sklearn/metrics/_classification.py:1334: UndefinedMetricWarning: Precision is ill-defined and being set to 0.0 in labels with no predicted samples. Use `zero_division` parameter to control this behavior.\n",
      "  _warn_prf(average, modifier, msg_start, len(result))\n",
      "/usr/local/lib/python3.9/site-packages/sklearn/metrics/_classification.py:1334: UndefinedMetricWarning: Precision is ill-defined and being set to 0.0 in labels with no predicted samples. Use `zero_division` parameter to control this behavior.\n",
      "  _warn_prf(average, modifier, msg_start, len(result))\n",
      "/usr/local/lib/python3.9/site-packages/sklearn/metrics/_classification.py:1334: UndefinedMetricWarning: Precision is ill-defined and being set to 0.0 in labels with no predicted samples. Use `zero_division` parameter to control this behavior.\n",
      "  _warn_prf(average, modifier, msg_start, len(result))\n",
      "/usr/local/lib/python3.9/site-packages/sklearn/metrics/_classification.py:1334: UndefinedMetricWarning: Precision is ill-defined and being set to 0.0 in labels with no predicted samples. Use `zero_division` parameter to control this behavior.\n",
      "  _warn_prf(average, modifier, msg_start, len(result))\n",
      "/usr/local/lib/python3.9/site-packages/sklearn/metrics/_classification.py:1334: UndefinedMetricWarning: Precision is ill-defined and being set to 0.0 in labels with no predicted samples. Use `zero_division` parameter to control this behavior.\n",
      "  _warn_prf(average, modifier, msg_start, len(result))\n",
      "/usr/local/lib/python3.9/site-packages/sklearn/metrics/_classification.py:1334: UndefinedMetricWarning: Precision is ill-defined and being set to 0.0 in labels with no predicted samples. Use `zero_division` parameter to control this behavior.\n",
      "  _warn_prf(average, modifier, msg_start, len(result))\n",
      "/usr/local/lib/python3.9/site-packages/sklearn/metrics/_classification.py:1334: UndefinedMetricWarning: Precision is ill-defined and being set to 0.0 in labels with no predicted samples. Use `zero_division` parameter to control this behavior.\n",
      "  _warn_prf(average, modifier, msg_start, len(result))\n",
      "/usr/local/lib/python3.9/site-packages/sklearn/metrics/_classification.py:1334: UndefinedMetricWarning: Precision is ill-defined and being set to 0.0 in labels with no predicted samples. Use `zero_division` parameter to control this behavior.\n",
      "  _warn_prf(average, modifier, msg_start, len(result))\n",
      "/usr/local/lib/python3.9/site-packages/sklearn/metrics/_classification.py:1334: UndefinedMetricWarning: Precision is ill-defined and being set to 0.0 in labels with no predicted samples. Use `zero_division` parameter to control this behavior.\n",
      "  _warn_prf(average, modifier, msg_start, len(result))\n",
      "/usr/local/lib/python3.9/site-packages/sklearn/metrics/_classification.py:1334: UndefinedMetricWarning: Precision is ill-defined and being set to 0.0 in labels with no predicted samples. Use `zero_division` parameter to control this behavior.\n",
      "  _warn_prf(average, modifier, msg_start, len(result))\n",
      "/usr/local/lib/python3.9/site-packages/sklearn/metrics/_classification.py:1334: UndefinedMetricWarning: Precision is ill-defined and being set to 0.0 in labels with no predicted samples. Use `zero_division` parameter to control this behavior.\n",
      "  _warn_prf(average, modifier, msg_start, len(result))\n",
      "/usr/local/lib/python3.9/site-packages/sklearn/metrics/_classification.py:1334: UndefinedMetricWarning: Precision is ill-defined and being set to 0.0 in labels with no predicted samples. Use `zero_division` parameter to control this behavior.\n",
      "  _warn_prf(average, modifier, msg_start, len(result))\n",
      "/usr/local/lib/python3.9/site-packages/sklearn/metrics/_classification.py:1334: UndefinedMetricWarning: Precision is ill-defined and being set to 0.0 in labels with no predicted samples. Use `zero_division` parameter to control this behavior.\n",
      "  _warn_prf(average, modifier, msg_start, len(result))\n",
      "/usr/local/lib/python3.9/site-packages/sklearn/metrics/_classification.py:1334: UndefinedMetricWarning: Precision is ill-defined and being set to 0.0 in labels with no predicted samples. Use `zero_division` parameter to control this behavior.\n",
      "  _warn_prf(average, modifier, msg_start, len(result))\n",
      "/usr/local/lib/python3.9/site-packages/sklearn/metrics/_classification.py:1334: UndefinedMetricWarning: Precision is ill-defined and being set to 0.0 in labels with no predicted samples. Use `zero_division` parameter to control this behavior.\n",
      "  _warn_prf(average, modifier, msg_start, len(result))\n",
      "/usr/local/lib/python3.9/site-packages/sklearn/metrics/_classification.py:1334: UndefinedMetricWarning: Precision is ill-defined and being set to 0.0 in labels with no predicted samples. Use `zero_division` parameter to control this behavior.\n",
      "  _warn_prf(average, modifier, msg_start, len(result))\n",
      "/usr/local/lib/python3.9/site-packages/sklearn/metrics/_classification.py:1334: UndefinedMetricWarning: Precision is ill-defined and being set to 0.0 in labels with no predicted samples. Use `zero_division` parameter to control this behavior.\n",
      "  _warn_prf(average, modifier, msg_start, len(result))\n",
      "/usr/local/lib/python3.9/site-packages/sklearn/metrics/_classification.py:1334: UndefinedMetricWarning: Precision is ill-defined and being set to 0.0 in labels with no predicted samples. Use `zero_division` parameter to control this behavior.\n",
      "  _warn_prf(average, modifier, msg_start, len(result))\n",
      "/usr/local/lib/python3.9/site-packages/sklearn/metrics/_classification.py:1334: UndefinedMetricWarning: Precision is ill-defined and being set to 0.0 in labels with no predicted samples. Use `zero_division` parameter to control this behavior.\n",
      "  _warn_prf(average, modifier, msg_start, len(result))\n",
      "/usr/local/lib/python3.9/site-packages/sklearn/metrics/_classification.py:1334: UndefinedMetricWarning: Precision is ill-defined and being set to 0.0 in labels with no predicted samples. Use `zero_division` parameter to control this behavior.\n",
      "  _warn_prf(average, modifier, msg_start, len(result))\n",
      "/usr/local/lib/python3.9/site-packages/sklearn/metrics/_classification.py:1334: UndefinedMetricWarning: Precision is ill-defined and being set to 0.0 in labels with no predicted samples. Use `zero_division` parameter to control this behavior.\n",
      "  _warn_prf(average, modifier, msg_start, len(result))\n",
      "/usr/local/lib/python3.9/site-packages/sklearn/metrics/_classification.py:1334: UndefinedMetricWarning: Precision is ill-defined and being set to 0.0 in labels with no predicted samples. Use `zero_division` parameter to control this behavior.\n",
      "  _warn_prf(average, modifier, msg_start, len(result))\n",
      "/usr/local/lib/python3.9/site-packages/sklearn/metrics/_classification.py:1334: UndefinedMetricWarning: Precision is ill-defined and being set to 0.0 in labels with no predicted samples. Use `zero_division` parameter to control this behavior.\n",
      "  _warn_prf(average, modifier, msg_start, len(result))\n",
      "/usr/local/lib/python3.9/site-packages/sklearn/metrics/_classification.py:1334: UndefinedMetricWarning: Precision is ill-defined and being set to 0.0 in labels with no predicted samples. Use `zero_division` parameter to control this behavior.\n",
      "  _warn_prf(average, modifier, msg_start, len(result))\n",
      "/usr/local/lib/python3.9/site-packages/sklearn/metrics/_classification.py:1334: UndefinedMetricWarning: Precision is ill-defined and being set to 0.0 in labels with no predicted samples. Use `zero_division` parameter to control this behavior.\n",
      "  _warn_prf(average, modifier, msg_start, len(result))\n",
      "/usr/local/lib/python3.9/site-packages/sklearn/metrics/_classification.py:1334: UndefinedMetricWarning: Precision is ill-defined and being set to 0.0 in labels with no predicted samples. Use `zero_division` parameter to control this behavior.\n",
      "  _warn_prf(average, modifier, msg_start, len(result))\n",
      "/usr/local/lib/python3.9/site-packages/sklearn/metrics/_classification.py:1334: UndefinedMetricWarning: Precision is ill-defined and being set to 0.0 in labels with no predicted samples. Use `zero_division` parameter to control this behavior.\n",
      "  _warn_prf(average, modifier, msg_start, len(result))\n",
      "/usr/local/lib/python3.9/site-packages/sklearn/metrics/_classification.py:1334: UndefinedMetricWarning: Precision is ill-defined and being set to 0.0 in labels with no predicted samples. Use `zero_division` parameter to control this behavior.\n",
      "  _warn_prf(average, modifier, msg_start, len(result))\n",
      "/usr/local/lib/python3.9/site-packages/sklearn/metrics/_classification.py:1334: UndefinedMetricWarning: Precision is ill-defined and being set to 0.0 in labels with no predicted samples. Use `zero_division` parameter to control this behavior.\n",
      "  _warn_prf(average, modifier, msg_start, len(result))\n",
      "/usr/local/lib/python3.9/site-packages/sklearn/metrics/_classification.py:1334: UndefinedMetricWarning: Precision is ill-defined and being set to 0.0 in labels with no predicted samples. Use `zero_division` parameter to control this behavior.\n",
      "  _warn_prf(average, modifier, msg_start, len(result))\n",
      "/usr/local/lib/python3.9/site-packages/sklearn/metrics/_classification.py:1334: UndefinedMetricWarning: Precision is ill-defined and being set to 0.0 in labels with no predicted samples. Use `zero_division` parameter to control this behavior.\n",
      "  _warn_prf(average, modifier, msg_start, len(result))\n",
      "/usr/local/lib/python3.9/site-packages/sklearn/metrics/_classification.py:1334: UndefinedMetricWarning: Precision is ill-defined and being set to 0.0 in labels with no predicted samples. Use `zero_division` parameter to control this behavior.\n",
      "  _warn_prf(average, modifier, msg_start, len(result))\n",
      "/usr/local/lib/python3.9/site-packages/sklearn/metrics/_classification.py:1334: UndefinedMetricWarning: Precision is ill-defined and being set to 0.0 in labels with no predicted samples. Use `zero_division` parameter to control this behavior.\n",
      "  _warn_prf(average, modifier, msg_start, len(result))\n",
      "/usr/local/lib/python3.9/site-packages/sklearn/metrics/_classification.py:1334: UndefinedMetricWarning: Precision is ill-defined and being set to 0.0 in labels with no predicted samples. Use `zero_division` parameter to control this behavior.\n",
      "  _warn_prf(average, modifier, msg_start, len(result))\n",
      "/usr/local/lib/python3.9/site-packages/sklearn/metrics/_classification.py:1334: UndefinedMetricWarning: Precision is ill-defined and being set to 0.0 in labels with no predicted samples. Use `zero_division` parameter to control this behavior.\n",
      "  _warn_prf(average, modifier, msg_start, len(result))\n",
      "/usr/local/lib/python3.9/site-packages/sklearn/metrics/_classification.py:1334: UndefinedMetricWarning: Precision is ill-defined and being set to 0.0 in labels with no predicted samples. Use `zero_division` parameter to control this behavior.\n",
      "  _warn_prf(average, modifier, msg_start, len(result))\n",
      "/usr/local/lib/python3.9/site-packages/sklearn/metrics/_classification.py:1334: UndefinedMetricWarning: Precision is ill-defined and being set to 0.0 in labels with no predicted samples. Use `zero_division` parameter to control this behavior.\n",
      "  _warn_prf(average, modifier, msg_start, len(result))\n",
      "/usr/local/lib/python3.9/site-packages/sklearn/metrics/_classification.py:1334: UndefinedMetricWarning: Precision is ill-defined and being set to 0.0 in labels with no predicted samples. Use `zero_division` parameter to control this behavior.\n",
      "  _warn_prf(average, modifier, msg_start, len(result))\n",
      "/usr/local/lib/python3.9/site-packages/sklearn/metrics/_classification.py:1334: UndefinedMetricWarning: Precision is ill-defined and being set to 0.0 in labels with no predicted samples. Use `zero_division` parameter to control this behavior.\n",
      "  _warn_prf(average, modifier, msg_start, len(result))\n",
      "/usr/local/lib/python3.9/site-packages/sklearn/metrics/_classification.py:1334: UndefinedMetricWarning: Precision is ill-defined and being set to 0.0 in labels with no predicted samples. Use `zero_division` parameter to control this behavior.\n",
      "  _warn_prf(average, modifier, msg_start, len(result))\n",
      "/usr/local/lib/python3.9/site-packages/sklearn/metrics/_classification.py:1334: UndefinedMetricWarning: Precision is ill-defined and being set to 0.0 in labels with no predicted samples. Use `zero_division` parameter to control this behavior.\n",
      "  _warn_prf(average, modifier, msg_start, len(result))\n"
     ]
    }
   ],
   "source": [
    "scores = cross_validate(\n",
    "    pipe1,\n",
    "    X_train,\n",
    "    y_train,\n",
    "    scoring=[\n",
    "        \"accuracy\",\n",
    "        \"precision_weighted\",\n",
    "        \"recall_weighted\",\n",
    "        \"f1_macro\",\n",
    "        \"f1_weighted\",\n",
    "    ],\n",
    "    cv=kf,\n",
    "    n_jobs=-1,\n",
    ")"
   ]
  },
  {
   "cell_type": "code",
   "execution_count": 133,
   "id": "5b8c3039-82bb-4fea-bcfa-68f2316790fb",
   "metadata": {
    "tags": []
   },
   "outputs": [
    {
     "data": {
      "text/plain": [
       "(0.9716499999999999,\n",
       " 0.9541025493784612,\n",
       " 0.9716499999999999,\n",
       " 0.3820938909478524,\n",
       " 0.9611411229222823)"
      ]
     },
     "execution_count": 133,
     "metadata": {},
     "output_type": "execute_result"
    }
   ],
   "source": [
    "accuracy = np.mean(scores[\"test_accuracy\"])\n",
    "precision = np.mean(scores[\"test_precision_weighted\"])\n",
    "sensitivity = np.mean(scores[\"test_recall_weighted\"])\n",
    "f1_macro = np.mean(scores[\"test_f1_macro\"])\n",
    "f1_weighted = np.mean(scores[\"test_f1_weighted\"])\n",
    "\n",
    "accuracy, precision, sensitivity, f1_macro, f1_weighted"
   ]
  },
  {
   "cell_type": "markdown",
   "id": "7ffdf53e-6840-4d8c-9fd4-77ffa22188eb",
   "metadata": {},
   "source": [
    "## Summary\n",
    "\n",
    "- use logistic regression to predict categorical target\n",
    "- it is an efficient algorithm with low bias\n",
    "- some of the disadvantages such as high variance and difficulty handling correlated predictors can be addressed with regularization and feature selection\n",
    "\n",
    "\n",
    "An alternative to logistic regression for classification is decision trees. "
   ]
  },
  {
   "cell_type": "code",
   "execution_count": null,
   "id": "0f33feff-a1d2-41fc-9b7d-c121613b34df",
   "metadata": {},
   "outputs": [],
   "source": []
  }
 ],
 "metadata": {
  "kernelspec": {
   "display_name": "Python 3 (ipykernel)",
   "language": "python",
   "name": "python3"
  },
  "language_info": {
   "codemirror_mode": {
    "name": "ipython",
    "version": 3
   },
   "file_extension": ".py",
   "mimetype": "text/x-python",
   "name": "python",
   "nbconvert_exporter": "python",
   "pygments_lexer": "ipython3",
   "version": "3.9.16"
  }
 },
 "nbformat": 4,
 "nbformat_minor": 5
}
