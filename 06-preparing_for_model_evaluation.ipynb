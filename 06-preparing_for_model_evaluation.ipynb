{
 "cells": [
  {
   "cell_type": "markdown",
   "id": "f5becaa2-3329-41a5-854a-5d959f97c72e",
   "metadata": {},
   "source": [
    "# Preparing for Model Evaluation\n",
    "\n",
    "We will cover the following topics in this chapter:\n",
    "- measuring accuracy, sensitivity, specificity, and precision for binary classification\n",
    "- examining CAP, ROC, and precision-sensitivity curves for binary classification\n",
    "- evaluating multiclass models\n",
    "- evaluating regression models\n",
    "- using k-fold cross-validation\n",
    "- preprocessing data with pipelines"
   ]
  },
  {
   "cell_type": "markdown",
   "id": "4e6bc1dd-7678-468f-b4b1-1442ce1f9acd",
   "metadata": {},
   "source": [
    "## Measuring accuracy, sensitivity, specificity, and precision for binary classification"
   ]
  },
  {
   "cell_type": "markdown",
   "id": "d40bd54e-9357-4340-9a3c-43fd4aa3c391",
   "metadata": {},
   "source": [
    "Question:\n",
    "> Is there a better way to understand accuracy, sensitivity, specificity, and precision in machine learning?\n",
    "\n",
    "Answer from ChatGPT:\n",
    "\n",
    "\n",
    "Yes, there are different ways to understand accuracy, sensitivity, specificity, and precision in machine learning. One useful way to understand these metrics is through their definitions and how they relate to the confusion matrix.\n",
    "\n",
    "Accuracy: the proportion of correctly classified instances out of all instances in the dataset. It can be calculated as (TP + TN) / (TP + TN + FP + FN), where TP is the number of true positives, TN is the number of true negatives, FP is the number of false positives, and FN is the number of false negatives. Accuracy measures the overall performance of the model.\n",
    "\n",
    "Sensitivity (also called recall or true positive rate): the proportion of actual positive instances that are correctly classified as positive. It can be calculated as TP / (TP + FN). Sensitivity measures how well the model identifies positive instances.\n",
    "\n",
    "Specificity (also called true negative rate): the proportion of actual negative instances that are correctly classified as negative. It can be calculated as TN / (TN + FP). Specificity measures how well the model identifies negative instances.\n",
    "\n",
    "Precision: the proportion of predicted positive instances that are actually positive. It can be calculated as TP / (TP + FP). Precision measures how accurate the model is in predicting positive instances.\n",
    "\n",
    "Another useful way to understand these metrics is through examples and their interpretation in the context of a specific problem. For example, in a medical diagnosis problem, accuracy measures the overall performance of the model in correctly identifying patients with and without a certain disease. Sensitivity measures how well the model identifies patients with the disease, while specificity measures how well the model identifies patients without the disease. Precision measures how accurate the model is in identifying patients with the disease, and it may be more important than sensitivity if false positives have serious consequences, such as unnecessary treatments or surgeries.\n",
    "\n",
    "It is important to consider all these metrics together and choose the appropriate one(s) based on the problem and the trade-offs between different types of errors. For example, in a problem where false positives are more costly than false negatives, it may be more important to optimize for precision than sensitivity.    \n"
   ]
  },
  {
   "cell_type": "markdown",
   "id": "fa12568d-d1e8-43ff-b7b2-38a35226f3a5",
   "metadata": {},
   "source": [
    "We can experiment with a __k-nearest neighbors (KNN)__ model to predict bachelor's degree attainment and evaluate its accuracy, sensitivity, specificity and precision."
   ]
  },
  {
   "cell_type": "code",
   "execution_count": 36,
   "id": "5d81d265-7ac7-4846-8dbb-2c5732b7943e",
   "metadata": {
    "tags": []
   },
   "outputs": [],
   "source": [
    "import matplotlib.pyplot as plt\n",
    "import numpy as np\n",
    "import pandas as pd\n",
    "from sklearn.compose import ColumnTransformer\n",
    "from sklearn.ensemble import RandomForestClassifier\n",
    "from sklearn.metrics import (\n",
    "    ConfusionMatrixDisplay,\n",
    "    accuracy_score,\n",
    "    classification_report,\n",
    "    confusion_matrix,\n",
    "    precision_score,\n",
    "    recall_score,\n",
    ")\n",
    "from sklearn.model_selection import train_test_split\n",
    "from sklearn.neighbors import KNeighborsClassifier\n",
    "from sklearn.pipeline import make_pipeline\n",
    "from sklearn.preprocessing import OneHotEncoder, StandardScaler\n",
    "\n",
    "from data.load import load_nls97compba"
   ]
  },
  {
   "cell_type": "code",
   "execution_count": 7,
   "id": "1d436760-8787-4ca3-bd30-676fce539e90",
   "metadata": {
    "tags": []
   },
   "outputs": [],
   "source": [
    "nls97compba = load_nls97compba()\n",
    "feature_cols = [\"satverbal\", \"satmath\", \"gpaoverall\", \"parentincome\", \"gender\"]\n",
    "X_train, X_test, y_train, y_test = train_test_split(\n",
    "    nls97compba[feature_cols],\n",
    "    nls97compba[[\"completedba\"]],\n",
    "    test_size=0.3,\n",
    "    random_state=0,\n",
    ")\n",
    "\n",
    "num_cols = feature_cols[:]\n",
    "num_cols.remove(\"gender\")\n",
    "cat_cols = [\"gender\"]\n",
    "\n",
    "num_transformer = make_pipeline(StandardScaler())\n",
    "cat_transformer = make_pipeline(OneHotEncoder(drop=\"first\"))\n",
    "\n",
    "transformer = ColumnTransformer(\n",
    "    [(\"cat\", cat_transformer, cat_cols), (\"num\", num_transformer, num_cols)],\n",
    "    verbose_feature_names_out=False,\n",
    ")\n",
    "X_train_enc = pd.DataFrame(\n",
    "    transformer.fit_transform(X_train),\n",
    "    columns=transformer.get_feature_names_out(),\n",
    "    index=X_train.index,\n",
    ")\n",
    "X_test_enc = pd.DataFrame(\n",
    "    transformer.fit_transform(X_test),\n",
    "    columns=transformer.get_feature_names_out(),\n",
    "    index=X_test.index,\n",
    ")"
   ]
  },
  {
   "cell_type": "code",
   "execution_count": 10,
   "id": "f84feec7-94cc-4814-9889-8fed6c1b598a",
   "metadata": {
    "tags": []
   },
   "outputs": [],
   "source": [
    "knn = KNeighborsClassifier(n_neighbors=5)\n",
    "knn.fit(X_train_enc, y_train.values.ravel())\n",
    "y_pred = knn.predict(X_test_enc)"
   ]
  },
  {
   "cell_type": "code",
   "execution_count": 16,
   "id": "4a20a00a-ba81-4360-a72d-9474c610847a",
   "metadata": {
    "tags": []
   },
   "outputs": [
    {
     "data": {
      "text/plain": [
       "[Text(0.5, 1.0, 'Confusion Matrix'),\n",
       " Text(0.5, 0, 'Predicted Value'),\n",
       " Text(0, 0.5, 'Actual Value')]"
      ]
     },
     "execution_count": 16,
     "metadata": {},
     "output_type": "execute_result"
    },
    {
     "data": {
      "image/png": "[encoded data removed]",
      "text/plain": [
       "<Figure size 432x288 with 2 Axes>"
      ]
     },
     "metadata": {
      "needs_background": "light"
     },
     "output_type": "display_data"
    }
   ],
   "source": [
    "cm = confusion_matrix(y_test, y_pred, labels=knn.classes_)\n",
    "cmplot = ConfusionMatrixDisplay(\n",
    "    confusion_matrix=cm, display_labels=[\"Negative\", \"Positive\"]\n",
    ")\n",
    "cmplot.plot()\n",
    "cmplot.ax_.set(\n",
    "    title=\"Confusion Matrix\", xlabel=\"Predicted Value\", ylabel=\"Actual Value\"\n",
    ")"
   ]
  },
  {
   "cell_type": "code",
   "execution_count": 18,
   "id": "ab73e082-8fef-431a-a95b-0d1caa1cb464",
   "metadata": {
    "tags": []
   },
   "outputs": [
    {
     "data": {
      "text/plain": [
       "(54, 62, 28, 129)"
      ]
     },
     "execution_count": 18,
     "metadata": {},
     "output_type": "execute_result"
    }
   ],
   "source": [
    "tn, fp, fn, tp = confusion_matrix(y_test.values.ravel(), y_pred).ravel()\n",
    "tn, fp, fn, tp"
   ]
  },
  {
   "cell_type": "code",
   "execution_count": 27,
   "id": "495fb989-eddc-42ec-b6f5-7d1331f44903",
   "metadata": {
    "tags": []
   },
   "outputs": [
    {
     "name": "stdout",
     "output_type": "stream",
     "text": [
      "              precision    recall  f1-score   support\n",
      "\n",
      "         0.0       0.66      0.47      0.55       116\n",
      "         1.0       0.68      0.82      0.74       157\n",
      "\n",
      "    accuracy                           0.67       273\n",
      "   macro avg       0.67      0.64      0.64       273\n",
      "weighted avg       0.67      0.67      0.66       273\n",
      "\n"
     ]
    }
   ],
   "source": [
    "print(classification_report(y_test.values.ravel(), y_pred))"
   ]
  },
  {
   "cell_type": "code",
   "execution_count": 32,
   "id": "19cb9927-c8c7-465e-9078-bd344be7bb8b",
   "metadata": {
    "tags": []
   },
   "outputs": [
    {
     "data": {
      "text/plain": [
       "0.6703296703296703"
      ]
     },
     "execution_count": 32,
     "metadata": {},
     "output_type": "execute_result"
    }
   ],
   "source": [
    "accuracy_score(y_test.values.ravel(), y_pred)"
   ]
  },
  {
   "cell_type": "code",
   "execution_count": 33,
   "id": "a1afd7aa-ee8f-42b0-9b11-ca05cfd742c3",
   "metadata": {
    "tags": []
   },
   "outputs": [
    {
     "data": {
      "text/plain": [
       "0.821656050955414"
      ]
     },
     "execution_count": 33,
     "metadata": {},
     "output_type": "execute_result"
    }
   ],
   "source": [
    "recall_score(y_test.values.ravel(), y_pred)"
   ]
  },
  {
   "cell_type": "code",
   "execution_count": 34,
   "id": "09853bdc-5038-4615-b372-34eb05602a76",
   "metadata": {
    "tags": []
   },
   "outputs": [
    {
     "data": {
      "text/plain": [
       "0.675392670157068"
      ]
     },
     "execution_count": 34,
     "metadata": {},
     "output_type": "execute_result"
    }
   ],
   "source": [
    "precision_score(y_test.values.ravel(), y_pred)"
   ]
  },
  {
   "cell_type": "markdown",
   "id": "39e15829-f8e5-439d-b951-7db579cb9ed6",
   "metadata": {},
   "source": [
    "Just for comparison, let's try a random forest classifier and see if we get any better results."
   ]
  },
  {
   "cell_type": "code",
   "execution_count": 37,
   "id": "45cef4d8-5a2b-4336-998a-2cf3a1aececd",
   "metadata": {
    "tags": []
   },
   "outputs": [],
   "source": [
    "rfc = RandomForestClassifier(n_estimators=100, max_depth=2, n_jobs=-1, random_state=0)\n",
    "rfc.fit(X_train_enc, y_train.values.ravel())\n",
    "y_pred = rfc.predict(X_test_enc)"
   ]
  },
  {
   "cell_type": "code",
   "execution_count": 38,
   "id": "baa9afaa-bcf6-466c-a6d0-eb359cbdcc8d",
   "metadata": {
    "tags": []
   },
   "outputs": [
    {
     "name": "stdout",
     "output_type": "stream",
     "text": [
      "              precision    recall  f1-score   support\n",
      "\n",
      "         0.0       0.74      0.40      0.52       116\n",
      "         1.0       0.67      0.90      0.77       157\n",
      "\n",
      "    accuracy                           0.68       273\n",
      "   macro avg       0.71      0.65      0.64       273\n",
      "weighted avg       0.70      0.68      0.66       273\n",
      "\n"
     ]
    }
   ],
   "source": [
    "print(classification_report(y_test, y_pred))"
   ]
  },
  {
   "cell_type": "markdown",
   "id": "2525e64d-7184-459a-9b44-b20b33b6c77c",
   "metadata": {},
   "source": [
    "^ The second model gets us significantly fewer false negatives and more true positives than the first model. The second model identifies actual positives 90% of the time, compared with 80% for the first model."
   ]
  },
  {
   "cell_type": "markdown",
   "id": "8cfe286a-c6dc-4c1a-91a2-02d119d71f9a",
   "metadata": {},
   "source": [
    "## Examining CAP, ROC, and precision-sensitivity curves for binary classification\n",
    "\n",
    "There are several ways to _visualize the performance_ of a _binary classification model_. \n",
    "\n",
    "A relatively straightforward visualization is the __Cumulative Accuracy Profile (CAP)__, which shows the ability of our model to identify in-class, or positive, cases. It shows the cumulative cases on the X-axis and the cumulative positive outcomes on the Y-axis.\n",
    "\n",
    "__Receiver operating characteristic (ROC)__ curves illustrates the tradeoff between model sensitivity (being able to identify positive values) and the false positive rate as we adjust the threshold for clasifying a postiive value.\n",
    "\n",
    "Similarly, precision-sensitivity curves show the relationship between the reliability of our positive predictions (their precision) and sensitivity (our model's ability to identify positive actual values) as adjust the threshold."
   ]
  },
  {
   "cell_type": "markdown",
   "id": "fddc4a28-505c-4bed-896f-f205ef535bac",
   "metadata": {},
   "source": [
    "### Constructing CAP curves"
   ]
  },
  {
   "cell_type": "code",
   "execution_count": 104,
   "id": "c777e988-03ac-425a-b827-136e9592f967",
   "metadata": {
    "tags": []
   },
   "outputs": [],
   "source": [
    "import numpy as np\n",
    "import pandas as pd\n",
    "import seaborn as sb\n",
    "from sklearn.compose import ColumnTransformer\n",
    "from sklearn.ensemble import RandomForestClassifier\n",
    "from sklearn.metrics import (\n",
    "    ConfusionMatrixDisplay,\n",
    "    classification_report,\n",
    "    confusion_matrix,\n",
    "    roc_curve,\n",
    ")\n",
    "from sklearn.model_selection import train_test_split\n",
    "from sklearn.neighbors import KNeighborsClassifier\n",
    "from sklearn.pipeline import make_pipeline\n",
    "from sklearn.preprocessing import OneHotEncoder, StandardScaler\n",
    "\n",
    "from data.load import load_nls97compba"
   ]
  },
  {
   "cell_type": "code",
   "execution_count": 50,
   "id": "92d7830b-39b1-4a95-b209-60c236460bc6",
   "metadata": {
    "tags": []
   },
   "outputs": [],
   "source": [
    "nls97compba = load_nls97compba()\n",
    "feature_cols = [\"satverbal\", \"satmath\", \"gpaoverall\", \"parentincome\", \"gender\"]\n",
    "X_train, X_test, y_train, y_test = train_test_split(\n",
    "    nls97compba[feature_cols], nls97compba[\"completedba\"], test_size=0.3, random_state=0\n",
    ")\n",
    "\n",
    "num_cols = feature_cols[:]\n",
    "num_cols.remove(\"gender\")\n",
    "cat_cols = [\"gender\"]\n",
    "\n",
    "num_transformer = make_pipeline(StandardScaler())\n",
    "cat_transformer = make_pipeline(OneHotEncoder(drop=\"first\"))\n",
    "\n",
    "transformer = ColumnTransformer(\n",
    "    [(\"num\", num_transformer, num_cols), (\"cat\", cat_transformer, cat_cols)],\n",
    "    verbose_feature_names_out=False,\n",
    ")\n",
    "\n",
    "X_train_enc = pd.DataFrame(\n",
    "    transformer.fit_transform(X_train),\n",
    "    columns=transformer.get_feature_names_out(),\n",
    "    index=X_train.index,\n",
    ")\n",
    "X_test_enc = pd.DataFrame(\n",
    "    transformer.transform(X_test),\n",
    "    columns=transformer.get_feature_names_out(),\n",
    "    index=X_test.index,\n",
    ")"
   ]
  },
  {
   "cell_type": "code",
   "execution_count": 51,
   "id": "96a76dfb-7f81-4351-acf0-ac814e1eef76",
   "metadata": {
    "tags": []
   },
   "outputs": [],
   "source": [
    "knn = KNeighborsClassifier(n_neighbors=5)\n",
    "rfc = RandomForestClassifier(n_estimators=100, max_depth=2, n_jobs=-1, random_state=0)"
   ]
  },
  {
   "cell_type": "markdown",
   "id": "d533f08e-86fa-49c5-b60c-f2d7e38b7f49",
   "metadata": {},
   "source": [
    "We are now ready to start plotting our CAP curves.\n",
    "\n",
    "1. draw a random model (this model use no information other than the overall distribution of positive values)\n",
    "2. draw a perfect model (this model provides perfect information)\n",
    "\n",
    "To draw the random model line:\n",
    "1. count the number of observations in the test data and the number of positive values\n",
    "2. use (0, 0) and (the number of observations, in-class count) to draw the random model line\n",
    "\n",
    "To draw the perfect model line:\n",
    "- plot a line from (0, 0) to (in-class count, in-class count) since that model can perfectly discriminate in-class values (it is never wrong)"
   ]
  },
  {
   "cell_type": "code",
   "execution_count": 53,
   "id": "c60bec1f-7818-41c8-9d2b-1ef199521d36",
   "metadata": {
    "tags": []
   },
   "outputs": [
    {
     "data": {
      "text/plain": [
       "(273, 157.0)"
      ]
     },
     "execution_count": 53,
     "metadata": {},
     "output_type": "execute_result"
    }
   ],
   "source": [
    "num_obs = y_test.shape[0]\n",
    "in_class_count = y_test.sum()\n",
    "num_obs, in_class_count"
   ]
  },
  {
   "cell_type": "code",
   "execution_count": 92,
   "id": "08e5ec07-a0bd-4cc4-87d6-4306fe2be858",
   "metadata": {
    "tags": []
   },
   "outputs": [],
   "source": [
    "def plot_cap():\n",
    "    plt.plot([0, num_obs], [0, in_class_count], c=\"b\", label=\"Random model\")\n",
    "    plt.plot(\n",
    "        [0, in_class_count, num_obs],\n",
    "        [0, in_class_count, in_class_count],\n",
    "        c=\"grey\",\n",
    "        linewidth=2,\n",
    "        label=\"Perfect Model\",\n",
    "    )\n",
    "\n",
    "    # We will also draw the vertical line at the midpoint and a horizontal line where that intersects the random model line.\n",
    "    plt.axvline(num_obs / 2, color=\"black\", linestyle=\"dashed\", linewidth=1)\n",
    "    plt.axhline(num_obs / 2, color=\"black\", linestyle=\"dashed\", linewidth=1)\n",
    "    plt.title(\"Cumulative Accuracy Profile\")\n",
    "    plt.xlabel(\"Total Observations\")\n",
    "    plt.ylabel(\"In-Class Observations\")\n",
    "    plt.legend()"
   ]
  },
  {
   "cell_type": "markdown",
   "id": "7bec2b0c-4414-4d67-9452-d3874141a14b",
   "metadata": {},
   "source": [
    "Next, we define a function to plot CPA curve for a model we pass to it. We will use the _predict proba_ method to get an array with the probability that each observation in the test data is in-class. \n",
    "\n",
    "Then, we will create a DataFrame with those probabilities and the actual target value, sort it by probability reverse order, and calculate a running total of positive actual target values. \n",
    "\n",
    "We will also get the value of the running total at the middle observation and draw a horizxontal line at that point. Finally, we will plot a line that has an array from 0 to the number of observations as x values, and the running in-class totals as y values:"
   ]
  },
  {
   "cell_type": "code",
   "execution_count": 88,
   "id": "399bb949-08e2-4716-b2fd-e820ebdd746b",
   "metadata": {
    "tags": []
   },
   "outputs": [],
   "source": [
    "def add_plot(model, X, X_test, y, model_name, linecolor):\n",
    "    model.fit(X, y)\n",
    "    probs = model.predict_proba(X_test)[:, 1]\n",
    "\n",
    "    prob_df = pd.DataFrame(zip(probs, y_test), columns=[\"prob\", \"in_class\"])\n",
    "    prob_df.loc[-1] = 0.0\n",
    "    prob_df = prob_df.sort_values([\"prob\", \"in_class\"], ascending=False).assign(\n",
    "        in_class_cum=lambda x: x.in_class.cumsum()\n",
    "    )\n",
    "\n",
    "    in_class_midpoint = prob_df.iloc[int(prob_df.shape[0] / 2)].in_class_cum\n",
    "    plt.axhline(in_class_midpoint, color=linecolor, linestyle=\"dashed\", linewidth=1)\n",
    "    plt.plot(\n",
    "        np.arange(0, prob_df.shape[0]),\n",
    "        prob_df.in_class_cum,\n",
    "        c=linecolor,\n",
    "        label=model_name,\n",
    "        linewidth=4,\n",
    "    )"
   ]
  },
  {
   "cell_type": "code",
   "execution_count": 93,
   "id": "ab782f81-f0f4-44ae-9d7a-1912cb839c23",
   "metadata": {
    "tags": []
   },
   "outputs": [
    {
     "data": {
      "text/plain": [
       "<matplotlib.legend.Legend at 0x129923070>"
      ]
     },
     "execution_count": 93,
     "metadata": {},
     "output_type": "execute_result"
    },
    {
     "data": {
      "image/png": "[encoded data removed]",
      "text/plain": [
       "<Figure size 432x288 with 1 Axes>"
      ]
     },
     "metadata": {
      "needs_background": "light"
     },
     "output_type": "display_data"
    }
   ],
   "source": [
    "plot_cap()\n",
    "add_plot(knn, X_train_enc, X_test_enc, y_train, \"KNN\", \"red\")\n",
    "add_plot(rfc, X_train_enc, X_test_enc, y_train, \"Random Forest\", \"green\")\n",
    "plt.legend()"
   ]
  },
  {
   "cell_type": "markdown",
   "id": "181cdf5f-f08b-42b3-8fbd-c3dc6e0d58bd",
   "metadata": {},
   "source": [
    "^ The CAP curves show that our KNN and random forest models are better than randomly guessing, but not as good as a perfect model."
   ]
  },
  {
   "cell_type": "markdown",
   "id": "b7e87795-600f-4b1e-a154-138be09933ef",
   "metadata": {},
   "source": [
    "## Plotting a receiver operating characteristic (ROC) curve"
   ]
  },
  {
   "cell_type": "markdown",
   "id": "0dca254c-f0fc-4f33-b790-1d87d813bc75",
   "metadata": {},
   "source": [
    "ROC curves illustrate the tradeoff between the false positive rate and the true positive rate (also known as sensitivity) as we adjust the threshold. "
   ]
  },
  {
   "cell_type": "code",
   "execution_count": 94,
   "id": "18a54810-f4c6-47f1-b078-6abe53ebc39e",
   "metadata": {
    "tags": []
   },
   "outputs": [],
   "source": [
    "rfc.fit(X_train_enc, y_train)\n",
    "y_pred = rfc.predict(X_test_enc)\n",
    "pred_probs = rfc.predict_proba(X_test_enc)[:, 1]"
   ]
  },
  {
   "cell_type": "code",
   "execution_count": 98,
   "id": "7d981a09-68a8-46e6-97e0-6d7791be34bd",
   "metadata": {
    "tags": []
   },
   "outputs": [
    {
     "data": {
      "text/html": [
       "<div>\n",
       "<style scoped>\n",
       "    .dataframe tbody tr th:only-of-type {\n",
       "        vertical-align: middle;\n",
       "    }\n",
       "\n",
       "    .dataframe tbody tr th {\n",
       "        vertical-align: top;\n",
       "    }\n",
       "\n",
       "    .dataframe thead th {\n",
       "        text-align: right;\n",
       "    }\n",
       "</style>\n",
       "<table border=\"1\" class=\"dataframe\">\n",
       "  <thead>\n",
       "    <tr style=\"text-align: right;\">\n",
       "      <th></th>\n",
       "      <th>min</th>\n",
       "      <th>max</th>\n",
       "    </tr>\n",
       "    <tr>\n",
       "      <th>pred</th>\n",
       "      <th></th>\n",
       "      <th></th>\n",
       "    </tr>\n",
       "  </thead>\n",
       "  <tbody>\n",
       "    <tr>\n",
       "      <th>0.0</th>\n",
       "      <td>0.304114</td>\n",
       "      <td>0.498538</td>\n",
       "    </tr>\n",
       "    <tr>\n",
       "      <th>1.0</th>\n",
       "      <td>0.500760</td>\n",
       "      <td>0.883674</td>\n",
       "    </tr>\n",
       "  </tbody>\n",
       "</table>\n",
       "</div>"
      ],
      "text/plain": [
       "           min       max\n",
       "pred                    \n",
       "0.0   0.304114  0.498538\n",
       "1.0   0.500760  0.883674"
      ]
     },
     "execution_count": 98,
     "metadata": {},
     "output_type": "execute_result"
    }
   ],
   "source": [
    "prob_df = pd.DataFrame(\n",
    "    zip(pred_probs, y_pred, y_test), columns=[\"prob\", \"pred\", \"actual\"]\n",
    ")\n",
    "prob_df.groupby([\"pred\"])[\"prob\"].agg([\"min\", \"max\"])"
   ]
  },
  {
   "cell_type": "code",
   "execution_count": 103,
   "id": "42d99367-97d1-4816-b271-e5894b89f096",
   "metadata": {
    "tags": []
   },
   "outputs": [
    {
     "data": {
      "text/plain": [
       "<matplotlib.legend.Legend at 0x129b16e80>"
      ]
     },
     "execution_count": 103,
     "metadata": {},
     "output_type": "execute_result"
    },
    {
     "data": {
      "image/png": "[encoded data removed]",
      "text/plain": [
       "<Figure size 432x288 with 1 Axes>"
      ]
     },
     "metadata": {
      "needs_background": "light"
     },
     "output_type": "display_data"
    }
   ],
   "source": [
    "sb.kdeplot(\n",
    "    prob_df.loc[prob_df.actual == 1].prob, shade=True, color=\"red\", label=\"Completed BA\"\n",
    ")\n",
    "sb.kdeplot(\n",
    "    prob_df.loc[prob_df.actual == 0].prob,\n",
    "    shade=True,\n",
    "    color=\"green\",\n",
    "    label=\"Did not complete\",\n",
    ")\n",
    "plt.axvline(0.5, color=\"black\", linestyle=\"dashed\", linewidth=1)\n",
    "plt.axvline(0.65, color=\"black\", linestyle=\"dashed\", linewidth=1)\n",
    "plt.title(\"Predicted Probability Distribution\")\n",
    "plt.legend(loc=\"upper left\")"
   ]
  },
  {
   "cell_type": "markdown",
   "id": "3c06be8b-e97d-4d67-868e-8ff59cf39a85",
   "metadata": {},
   "source": [
    "^ Here, we can see that our model has some trouble discriminating between actual positive and negative values since there is a fair bit of in-class and out-of-class overlap. \n",
    "\n",
    "A threshold of 0.5 gets us a lot of false positives since a good portion of the distribution of out-of-class observations (those not completing bachelor's degrees) have predicted probabilities greater than 0.5. If we mvoe the threhold higher, say to 0.65, we get many more false negatives since many in-class observations have probabilities lower than 0.65."
   ]
  },
  {
   "cell_type": "code",
   "execution_count": 107,
   "id": "c9ebf8fe-25c4-4e5f-9aa7-c49aa45d84d9",
   "metadata": {
    "tags": []
   },
   "outputs": [
    {
     "data": {
      "text/plain": [
       "<matplotlib.legend.Legend at 0x129b6e2b0>"
      ]
     },
     "execution_count": 107,
     "metadata": {},
     "output_type": "execute_result"
    },
    {
     "data": {
      "image/png": "[encoded data removed]",
      "text/plain": [
       "<Figure size 432x288 with 1 Axes>"
      ]
     },
     "metadata": {
      "needs_background": "light"
     },
     "output_type": "display_data"
    }
   ],
   "source": [
    "fpr, tpr, ths = roc_curve(y_test, pred_probs)\n",
    "ths = ths[1:]\n",
    "fpr = fpr[1:]\n",
    "tpr = tpr[1:]\n",
    "fig, ax = plt.subplots()\n",
    "ax.plot(ths, fpr, label=\"False Positive Rate\")\n",
    "ax.plot(ths, tpr, label=\"Sensitivity\")\n",
    "ax.set(\n",
    "    title=\"False Positive Rate and Sensitivity by Threshold\",\n",
    "    xlabel=\"Threshold\",\n",
    "    ylabel=\"False Positive Rate and Sensitivity\",\n",
    ")\n",
    "ax.legend()"
   ]
  },
  {
   "cell_type": "markdown",
   "id": "0a0e5b95-8aee-483f-9abe-0d882959c4ee",
   "metadata": {},
   "source": [
    "^ Increasing the threshold will improve (reduce) our false positive rate, but also lower our sensitivity."
   ]
  },
  {
   "cell_type": "code",
   "execution_count": 108,
   "id": "46848cd0-0507-457d-9ac2-acdcc79c007a",
   "metadata": {
    "tags": []
   },
   "outputs": [
    {
     "data": {
      "text/plain": [
       "[Text(0.5, 1.0, 'ROC curve'),\n",
       " Text(0.5, 0, 'False Positive Rate'),\n",
       " Text(0, 0.5, 'Sensitivity')]"
      ]
     },
     "execution_count": 108,
     "metadata": {},
     "output_type": "execute_result"
    },
    {
     "data": {
      "image/png": "[encoded data removed]",
      "text/plain": [
       "<Figure size 432x288 with 1 Axes>"
      ]
     },
     "metadata": {
      "needs_background": "light"
     },
     "output_type": "display_data"
    }
   ],
   "source": [
    "fig, ax = plt.subplots()\n",
    "ax.plot(fpr, tpr, linewidth=4, color=\"black\")\n",
    "ax.set(title=\"ROC curve\", xlabel=\"False Positive Rate\", ylabel=\"Sensitivity\")"
   ]
  },
  {
   "cell_type": "markdown",
   "id": "6bf27a00-dd47-46c7-b9e0-985d51818a77",
   "metadata": {},
   "source": [
    "## Plotting precision sensitivity curves"
   ]
  },
  {
   "cell_type": "code",
   "execution_count": 109,
   "id": "9e21f6a9-12be-4e6a-ae06-462b36228cbf",
   "metadata": {
    "tags": []
   },
   "outputs": [
    {
     "data": {
      "text/plain": [
       "<matplotlib.legend.Legend at 0x129c37640>"
      ]
     },
     "execution_count": 109,
     "metadata": {},
     "output_type": "execute_result"
    },
    {
     "data": {
      "image/png": "[encoded data removed]",
      "text/plain": [
       "<Figure size 432x288 with 1 Axes>"
      ]
     },
     "metadata": {
      "needs_background": "light"
     },
     "output_type": "display_data"
    }
   ],
   "source": [
    "from sklearn.metrics import precision_recall_curve\n",
    "\n",
    "prec, sens, ths = precision_recall_curve(y_test, pred_probs)\n",
    "\n",
    "# We remove some squirreliness at the highest threshold values, which can sometimes happen.\n",
    "prec = prec[1:-10]\n",
    "sens = sens[1:-10]\n",
    "ths = ths[:-10]\n",
    "\n",
    "fig, ax = plt.subplots()\n",
    "ax.plot(ths, prec, label=\"Precision\")\n",
    "ax.plot(ths, sens, label=\"Sensitivity\")\n",
    "ax.set(\n",
    "    title=\"Precision and Sensitivity by Threshold\",\n",
    "    xlabel=\"Threshold\",\n",
    "    ylabel=\"Precision and Sensitivity\",\n",
    "    xlim=(0.3, 0.9),\n",
    ")\n",
    "ax.legend()"
   ]
  },
  {
   "cell_type": "markdown",
   "id": "6e5f7845-e7e0-42c0-842c-962f65b990f7",
   "metadata": {},
   "source": [
    "^ Here, we can see that sensitivity declines more steeply with thresholds above 0.5. This decline does not buy us much improved precision beyond the 0.6 threshold."
   ]
  },
  {
   "cell_type": "code",
   "execution_count": 110,
   "id": "400d31b1-7d6b-4acd-a29b-2b5c1f8e1abb",
   "metadata": {
    "tags": []
   },
   "outputs": [
    {
     "data": {
      "text/plain": [
       "([<matplotlib.axis.YTick at 0x127caaaf0>,\n",
       "  <matplotlib.axis.YTick at 0x129a7ba90>,\n",
       "  <matplotlib.axis.YTick at 0x129c9d2e0>,\n",
       "  <matplotlib.axis.YTick at 0x1292b5c40>],\n",
       " [Text(0, 0, ''), Text(0, 0, ''), Text(0, 0, ''), Text(0, 0, '')])"
      ]
     },
     "execution_count": 110,
     "metadata": {},
     "output_type": "execute_result"
    },
    {
     "data": {
      "image/png": "[encoded data removed]",
      "text/plain": [
       "<Figure size 432x288 with 1 Axes>"
      ]
     },
     "metadata": {
      "needs_background": "light"
     },
     "output_type": "display_data"
    }
   ],
   "source": [
    "fix, ax = plt.subplots()\n",
    "ax.plot(sens, prec)\n",
    "ax.set(title=\"Precision-Sensitivity Curve\", xlabel=\"Sensitivity\", ylabel=\"Precision\")\n",
    "plt.yticks(np.arange(0.2, 0.9, 0.2))"
   ]
  },
  {
   "cell_type": "markdown",
   "id": "43f3a6f9-f2ea-471a-af2d-e07500090e48",
   "metadata": {},
   "source": [
    "^ The precision-sensitivity curve reflects the fact that sensitivity is much more responsive to threshold than is precision with this particular model. This means that we could decrease the threshold below 0.5 to get greater sensitivity, without a significant reduction in precision."
   ]
  },
  {
   "cell_type": "markdown",
   "id": "3dd0288a-bf37-452d-96ca-4375426dec5c",
   "metadata": {},
   "source": [
    "## Evaluating multiclass models\n",
    "\n",
    "\n",
    "All of the same principles that we used to evaluate binary classification models apply to multiclass model evaluation."
   ]
  },
  {
   "cell_type": "code",
   "execution_count": 3,
   "id": "462cfc2f-8c55-4059-859a-d25620be180a",
   "metadata": {},
   "outputs": [],
   "source": [
    "import matplotlib.pyplot as plt\n",
    "import numpy as np\n",
    "import pandas as pd\n",
    "from sklearn.compose import ColumnTransformer\n",
    "from sklearn.metrics import (\n",
    "    ConfusionMatrixDisplay,\n",
    "    classification_report,\n",
    "    confusion_matrix,\n",
    ")\n",
    "from sklearn.model_selection import train_test_split\n",
    "from sklearn.neighbors import KNeighborsClassifier\n",
    "from sklearn.pipeline import make_pipeline\n",
    "from sklearn.preprocessing import OneHotEncoder, StandardScaler\n",
    "\n",
    "from data.load import load_nls97degreelevel"
   ]
  },
  {
   "cell_type": "code",
   "execution_count": 4,
   "id": "992847c6-5133-49b7-9b07-57e8ada23255",
   "metadata": {
    "tags": []
   },
   "outputs": [],
   "source": [
    "nls97degreelevel = load_nls97degreelevel()\n",
    "feature_cols = [\"satverbal\", \"satmath\", \"gpaoverall\", \"parentincome\", \"gender\"]\n",
    "X_train, X_test, y_train, y_test = train_test_split(\n",
    "    nls97degreelevel[feature_cols],\n",
    "    nls97degreelevel[\"degreelevel\"],\n",
    "    test_size=0.3,\n",
    "    random_state=0,\n",
    ")\n",
    "\n",
    "num_cols = feature_cols[:]\n",
    "num_cols.remove(\"gender\")\n",
    "cat_cols = [\"gender\"]\n",
    "\n",
    "num_transformer = make_pipeline(StandardScaler())\n",
    "cat_transformer = make_pipeline(OneHotEncoder(drop=\"first\"))\n",
    "\n",
    "transformer = ColumnTransformer(\n",
    "    [(\"num\", num_transformer, num_cols), (\"cat\", cat_transformer, cat_cols)],\n",
    "    verbose_feature_names_out=False,\n",
    ")\n",
    "\n",
    "transformer.fit(X_train)\n",
    "\n",
    "X_train_enc = pd.DataFrame(\n",
    "    transformer.transform(X_train),\n",
    "    columns=transformer.get_feature_names_out(),\n",
    "    index=X_train.index,\n",
    ")\n",
    "X_test_enc = pd.DataFrame(\n",
    "    transformer.transform(X_test),\n",
    "    columns=transformer.get_feature_names_out(),\n",
    "    index=X_test.index,\n",
    ")"
   ]
  },
  {
   "cell_type": "code",
   "execution_count": 5,
   "id": "d8cb2b5a-ed5b-4093-8d68-170d55a470a2",
   "metadata": {
    "tags": []
   },
   "outputs": [],
   "source": [
    "knn = KNeighborsClassifier(n_neighbors=5)\n",
    "knn.fit(X_train_enc, y_train)\n",
    "\n",
    "y_pred = knn.predict(X_test_enc)\n",
    "pred_probs = knn.predict_proba(X_test_enc)"
   ]
  },
  {
   "cell_type": "code",
   "execution_count": 7,
   "id": "c6ee5013-d491-455b-bc4c-e9c08b48775c",
   "metadata": {
    "tags": []
   },
   "outputs": [
    {
     "data": {
      "text/plain": [
       "[Text(0.5, 1.0, 'Confusion Matrix'),\n",
       " Text(0.5, 0, 'Predicted Value'),\n",
       " Text(0, 0.5, 'Actual Value')]"
      ]
     },
     "execution_count": 7,
     "metadata": {},
     "output_type": "execute_result"
    },
    {
     "data": {
      "image/png": "[encoded data removed]",
      "text/plain": [
       "<Figure size 432x288 with 2 Axes>"
      ]
     },
     "metadata": {
      "needs_background": "light"
     },
     "output_type": "display_data"
    }
   ],
   "source": [
    "cm = confusion_matrix(y_test, y_pred)\n",
    "cmplot = ConfusionMatrixDisplay(\n",
    "    confusion_matrix=cm, display_labels=[\"High School\", \"Bachelor\", \"Post-Graduate\"]\n",
    ")\n",
    "cmplot.plot()\n",
    "\n",
    "cmplot.ax_.set(\n",
    "    title=\"Confusion Matrix\", xlabel=\"Predicted Value\", ylabel=\"Actual Value\"\n",
    ")"
   ]
  },
  {
   "cell_type": "code",
   "execution_count": 9,
   "id": "7bf6722f-8c90-4364-982e-3cabe839ceee",
   "metadata": {
    "tags": []
   },
   "outputs": [
    {
     "name": "stdout",
     "output_type": "stream",
     "text": [
      "               precision    recall  f1-score   support\n",
      "\n",
      "  High School       0.51      0.67      0.58        72\n",
      "     Bachelor       0.51      0.49      0.50        92\n",
      "Post-Graduate       0.42      0.24      0.30        42\n",
      "\n",
      "     accuracy                           0.50       206\n",
      "    macro avg       0.48      0.46      0.46       206\n",
      " weighted avg       0.49      0.50      0.49       206\n",
      "\n"
     ]
    }
   ],
   "source": [
    "print(\n",
    "    classification_report(\n",
    "        y_test, y_pred, target_names=[\"High School\", \"Bachelor\", \"Post-Graduate\"]\n",
    "    )\n",
    ")"
   ]
  },
  {
   "cell_type": "markdown",
   "id": "7cf71dd4-387d-4d5d-a674-194662af8178",
   "metadata": {},
   "source": [
    "## Evaluating regression models\n",
    "\n",
    "Metrics for regression evaluation are typically based on the distance between the actual values for the target variable andd a model's predicted values.\n",
    "\n",
    "The most common measures - mean squared error, root mean squared error, mean absolute error, and R-squared - all track how successfully our predictions capture variation in a target."
   ]
  },
  {
   "cell_type": "code",
   "execution_count": 41,
   "id": "4c70fdc3-a698-4ea5-a22f-b71e4786ac40",
   "metadata": {
    "tags": []
   },
   "outputs": [],
   "source": [
    "import matplotlib.pyplot as plt\n",
    "import numpy as np\n",
    "import pandas as pd\n",
    "from sklearn.linear_model import LinearRegression\n",
    "from sklearn.metrics import mean_absolute_error, mean_squared_error, r2_score\n",
    "from sklearn.model_selection import train_test_split\n",
    "from sklearn.neighbors import KNeighborsRegressor\n",
    "from sklearn.preprocessing import StandardScaler\n",
    "\n",
    "from data.load import load_landtemps2019avgs"
   ]
  },
  {
   "cell_type": "code",
   "execution_count": 28,
   "id": "79f54487-c564-4eff-af76-80a21af18358",
   "metadata": {
    "tags": []
   },
   "outputs": [],
   "source": [
    "land_temps = load_landtemps2019avgs()\n",
    "feature_cols = [\"latabs\", \"elevation\"]\n",
    "\n",
    "X_train, X_test, y_train, y_test = train_test_split(\n",
    "    land_temps[feature_cols], land_temps[[\"avgtemp\"]], test_size=0.3, random_state=0\n",
    ")"
   ]
  },
  {
   "cell_type": "code",
   "execution_count": 30,
   "id": "a74ad4c0-5239-40e5-949f-c16ed5abd248",
   "metadata": {
    "tags": []
   },
   "outputs": [],
   "source": [
    "scaler = StandardScaler()\n",
    "scaler.fit(X_train)\n",
    "\n",
    "X_train = pd.DataFrame(\n",
    "    scaler.transform(X_train), columns=feature_cols, index=X_train.index\n",
    ")\n",
    "X_test = pd.DataFrame(\n",
    "    scaler.transform(X_test), columns=feature_cols, index=X_test.index\n",
    ")\n",
    "\n",
    "scaler.fit(y_train)\n",
    "y_train = pd.DataFrame(\n",
    "    scaler.transform(y_train), columns=[\"avgtemp\"], index=y_train.index\n",
    ")\n",
    "y_test = pd.DataFrame(scaler.transform(y_test), columns=[\"avgtemp\"], index=y_test.index)"
   ]
  },
  {
   "cell_type": "code",
   "execution_count": 31,
   "id": "335a540c-1143-420e-b873-23465d2f7011",
   "metadata": {
    "tags": []
   },
   "outputs": [
    {
     "data": {
      "text/plain": [
       "array([[-0.8538957537748765, 'latabs'],\n",
       "       [-0.3058979822791852, 'elevation']], dtype=object)"
      ]
     },
     "execution_count": 31,
     "metadata": {},
     "output_type": "execute_result"
    }
   ],
   "source": [
    "lr = LinearRegression()\n",
    "lr.fit(X_train, y_train)\n",
    "np.column_stack((lr.coef_.ravel(), X_test.columns.values))"
   ]
  },
  {
   "cell_type": "code",
   "execution_count": 32,
   "id": "fa5d648a-67aa-40c8-a32e-12a04bb66c01",
   "metadata": {
    "tags": []
   },
   "outputs": [
    {
     "data": {
      "text/plain": [
       "[(-0.8538957537748765, 'latabs'), (-0.3058979822791852, 'elevation')]"
      ]
     },
     "execution_count": 32,
     "metadata": {},
     "output_type": "execute_result"
    }
   ],
   "source": [
    "list(zip(lr.coef_.ravel(), X_test.columns))"
   ]
  },
  {
   "cell_type": "markdown",
   "id": "d15d1d57-96c5-4b16-bc79-db29f3f3c0a6",
   "metadata": {},
   "source": [
    "^ The interpretation of the `latabs` coefficient is that standardized average annual temperature will decline by 0.85 for every one standard deviation increase in latitude. "
   ]
  },
  {
   "cell_type": "code",
   "execution_count": 33,
   "id": "eb0a1108-6138-4ca0-97db-ec598b2a699a",
   "metadata": {
    "tags": []
   },
   "outputs": [],
   "source": [
    "y_pred = lr.predict(X_test)\n",
    "pred_df = (\n",
    "    pd.DataFrame(y_pred, columns=[\"prediction\"], index=X_test.index)\n",
    "    .join(X_test)\n",
    "    .join(y_test)\n",
    ")\n",
    "pred_df[\"resid\"] = pred_df.avgtemp - pred_df.prediction"
   ]
  },
  {
   "cell_type": "code",
   "execution_count": 34,
   "id": "b28d5f33-9ddd-463b-9a54-8527aa8966bf",
   "metadata": {
    "tags": []
   },
   "outputs": [
    {
     "data": {
      "text/plain": [
       "mean       -0.021225\n",
       "median      0.032435\n",
       "skew       -0.640720\n",
       "kurtosis    6.815607\n",
       "Name: resid, dtype: float64"
      ]
     },
     "execution_count": 34,
     "metadata": {},
     "output_type": "execute_result"
    }
   ],
   "source": [
    "pred_df.resid.agg([\"mean\", \"median\", \"skew\", \"kurtosis\"])"
   ]
  },
  {
   "cell_type": "code",
   "execution_count": 35,
   "id": "ea69e16e-6a58-4a57-89f0-dbcdb5c28c8d",
   "metadata": {
    "tags": []
   },
   "outputs": [
    {
     "data": {
      "text/plain": [
       "Text(0, 0.5, 'Frequency')"
      ]
     },
     "execution_count": 35,
     "metadata": {},
     "output_type": "execute_result"
    },
    {
     "data": {
      "image/png": "[encoded data removed]",
      "text/plain": [
       "<Figure size 432x288 with 1 Axes>"
      ]
     },
     "metadata": {
      "needs_background": "light"
     },
     "output_type": "display_data"
    }
   ],
   "source": [
    "plt.hist(pred_df.resid, color=\"blue\")\n",
    "plt.axvline(pred_df.resid.mean(), color=\"red\", linestyle=\"dashed\", linewidth=1)\n",
    "plt.title(\"Histogram of Residuals for Temperature Model\")\n",
    "plt.xlabel(\"Residuals\")\n",
    "plt.ylabel(\"Frequency\")"
   ]
  },
  {
   "cell_type": "code",
   "execution_count": 36,
   "id": "65970777-27ee-4cd2-9447-186acec78b9d",
   "metadata": {
    "tags": []
   },
   "outputs": [
    {
     "data": {
      "text/plain": [
       "Text(0, 0.5, 'Residuals')"
      ]
     },
     "execution_count": 36,
     "metadata": {},
     "output_type": "execute_result"
    },
    {
     "data": {
      "image/png": "[encoded data removed]",
      "text/plain": [
       "<Figure size 432x288 with 1 Axes>"
      ]
     },
     "metadata": {
      "needs_background": "light"
     },
     "output_type": "display_data"
    }
   ],
   "source": [
    "plt.scatter(pred_df.prediction, pred_df.resid, color=\"blue\")\n",
    "plt.axhline(0, color=\"red\", linestyle=\"dashed\", linewidth=1)\n",
    "plt.title(\"Scatterplot of Predictions and Residuals\")\n",
    "plt.xlabel(\"Predicted Temperature\")\n",
    "plt.ylabel(\"Residuals\")"
   ]
  },
  {
   "cell_type": "markdown",
   "id": "ac8be493-60d5-445c-9091-57a06b6fff72",
   "metadata": {},
   "source": [
    "^ The residuals hover somewhat randomly around 0. However, predictions between 1 and 2 standard deviations are much more likely to be too low (to have positive residuals) than too high. Above 2, the predictions are always too high (they have negative residuals). The model's assumption of linearity might not be sound."
   ]
  },
  {
   "cell_type": "code",
   "execution_count": 37,
   "id": "ef52b4cf-4e53-43ae-8d00-95cad582f3d9",
   "metadata": {
    "tags": []
   },
   "outputs": [
    {
     "data": {
      "text/plain": [
       "0.18906346144036684"
      ]
     },
     "execution_count": 37,
     "metadata": {},
     "output_type": "execute_result"
    }
   ],
   "source": [
    "mse = mean_squared_error(y_test, y_pred)\n",
    "mse"
   ]
  },
  {
   "cell_type": "code",
   "execution_count": 38,
   "id": "9f8e7ff8-2cb2-4697-9c49-6f31242b4c89",
   "metadata": {
    "tags": []
   },
   "outputs": [
    {
     "data": {
      "text/plain": [
       "0.4348142838504352"
      ]
     },
     "execution_count": 38,
     "metadata": {},
     "output_type": "execute_result"
    }
   ],
   "source": [
    "rmse = mean_squared_error(y_test, y_pred, squared=False)\n",
    "rmse"
   ]
  },
  {
   "cell_type": "code",
   "execution_count": 39,
   "id": "b5fff3e9-9917-4387-b150-677029ada6c0",
   "metadata": {
    "tags": []
   },
   "outputs": [
    {
     "data": {
      "text/plain": [
       "0.31830737972814294"
      ]
     },
     "execution_count": 39,
     "metadata": {},
     "output_type": "execute_result"
    }
   ],
   "source": [
    "mae = mean_absolute_error(y_test, y_pred)\n",
    "mae"
   ]
  },
  {
   "cell_type": "code",
   "execution_count": 40,
   "id": "11f02403-bd0d-4a22-a6e5-8e07d2bc4aab",
   "metadata": {
    "tags": []
   },
   "outputs": [
    {
     "data": {
      "text/plain": [
       "0.8162525715296725"
      ]
     },
     "execution_count": 40,
     "metadata": {},
     "output_type": "execute_result"
    }
   ],
   "source": [
    "r2 = r2_score(y_test, y_pred)\n",
    "r2"
   ]
  },
  {
   "cell_type": "markdown",
   "id": "bcc6f984-70cf-4b5f-8d5d-d2dca6b11e5b",
   "metadata": {},
   "source": [
    "^ An MSE of less than 0.2 of a standard deviation and an MAE of less than 0.3 for a standard deviation looks pretty decent, especially for such a sparse model. An R-squared above 80% is also fairly promising.\n",
    "\n",
    "Let's see what we get if we used KNN model instead."
   ]
  },
  {
   "cell_type": "code",
   "execution_count": 42,
   "id": "6f670afa-a8bf-41ab-84e2-52cf9368c6eb",
   "metadata": {
    "tags": []
   },
   "outputs": [],
   "source": [
    "knn = KNeighborsRegressor(n_neighbors=5)\n",
    "knn.fit(X_train, y_train)\n",
    "y_pred = knn.predict(X_test)"
   ]
  },
  {
   "cell_type": "code",
   "execution_count": 43,
   "id": "b82cb1c7-7045-4cd0-a8e4-22caf03697b6",
   "metadata": {
    "tags": []
   },
   "outputs": [
    {
     "data": {
      "text/plain": [
       "0.25021894417376683"
      ]
     },
     "execution_count": 43,
     "metadata": {},
     "output_type": "execute_result"
    }
   ],
   "source": [
    "mae = mean_absolute_error(y_test, y_pred)\n",
    "mae"
   ]
  },
  {
   "cell_type": "code",
   "execution_count": 45,
   "id": "874f4800-6052-4190-8371-8dc922021f51",
   "metadata": {
    "tags": []
   },
   "outputs": [
    {
     "data": {
      "text/plain": [
       "0.8630964548192819"
      ]
     },
     "execution_count": 45,
     "metadata": {},
     "output_type": "execute_result"
    }
   ],
   "source": [
    "r2 = r2_score(y_test, y_pred)\n",
    "r2"
   ]
  },
  {
   "cell_type": "markdown",
   "id": "29956128-2e36-4114-9984-19ed7fbbdba2",
   "metadata": {},
   "source": [
    "^ This model is actually an improvement in both MAE and R-squared."
   ]
  },
  {
   "cell_type": "code",
   "execution_count": 46,
   "id": "a52d3a7b-d2cb-47d4-80ac-3422032a6c25",
   "metadata": {
    "tags": []
   },
   "outputs": [
    {
     "data": {
      "text/plain": [
       "Text(0, 0.5, 'Residuals')"
      ]
     },
     "execution_count": 46,
     "metadata": {},
     "output_type": "execute_result"
    },
    {
     "data": {
      "image/png": "[encoded data removed]",
      "text/plain": [
       "<Figure size 432x288 with 1 Axes>"
      ]
     },
     "metadata": {
      "needs_background": "light"
     },
     "output_type": "display_data"
    }
   ],
   "source": [
    "pred_df = (\n",
    "    pd.DataFrame(y_pred, columns=[\"prediction\"], index=X_test.index)\n",
    "    .join(X_test)\n",
    "    .join(y_test)\n",
    ")\n",
    "pred_df[\"resid\"] = pred_df.avgtemp - pred_df.prediction\n",
    "plt.scatter(pred_df.prediction, pred_df.resid, color=\"blue\")\n",
    "plt.axhline(0, color=\"red\", linestyle=\"dashed\", linewidth=1)\n",
    "plt.title(\"Scatterplot of Predictions and Residuals with KNN Model\")\n",
    "plt.xlabel(\"Predicted Temperature\")\n",
    "plt.ylabel(\"Residuals\")"
   ]
  },
  {
   "cell_type": "markdown",
   "id": "a787290d-dbbb-45b5-b7ca-7c33a7e3e21c",
   "metadata": {},
   "source": [
    "^ This plot of residuals looks better as well. There are no parts of the target's distribution where we are much more likely to over-predict or under-predict."
   ]
  },
  {
   "cell_type": "markdown",
   "id": "b09f56de-cc14-44e4-ac92-4fa33b385b5e",
   "metadata": {},
   "source": [
    "## Using K-fold cross-validation"
   ]
  },
  {
   "cell_type": "code",
   "execution_count": 48,
   "id": "0a2964df-ee31-4888-a540-53dfe3cd2473",
   "metadata": {
    "tags": []
   },
   "outputs": [],
   "source": [
    "import pandas as pd\n",
    "from sklearn.ensemble import RandomForestRegressor\n",
    "from sklearn.linear_model import LinearRegression\n",
    "from sklearn.model_selection import KFold, cross_validate, train_test_split\n",
    "from sklearn.neighbors import KNeighborsRegressor\n",
    "from sklearn.pipeline import make_pipeline\n",
    "from sklearn.preprocessing import StandardScaler\n",
    "\n",
    "from data.load import load_landtemps2019avgs"
   ]
  },
  {
   "cell_type": "code",
   "execution_count": 51,
   "id": "bfc9f7ca-d982-4974-8e43-800148b27948",
   "metadata": {
    "tags": []
   },
   "outputs": [],
   "source": [
    "land_temps = load_landtemps2019avgs()\n",
    "feature_cols = [\"latabs\", \"elevation\"]\n",
    "\n",
    "X_train, X_test, y_train, y_test = train_test_split(\n",
    "    land_temps[feature_cols], land_temps[\"avgtemp\"], test_size=0.1, random_state=0\n",
    ")\n",
    "kf = KFold(n_splits=5, shuffle=True, random_state=0)"
   ]
  },
  {
   "cell_type": "code",
   "execution_count": 53,
   "id": "130a06b8-9c19-4d23-b251-c6a2cbcc98a8",
   "metadata": {
    "tags": []
   },
   "outputs": [],
   "source": [
    "def get_scores(model):\n",
    "    pipeline = make_pipeline(StandardScaler(), model)\n",
    "    score = cross_validate(\n",
    "        pipeline, X=X_train, y=y_train, cv=kf, scoring=[\"r2\"], n_jobs=1\n",
    "    )\n",
    "    scores.append(\n",
    "        dict(\n",
    "            model=str(model),\n",
    "            fit_time=score[\"fit_time\"].mean(),\n",
    "            r2=score[\"test_r2\"].mean(),\n",
    "        )\n",
    "    )"
   ]
  },
  {
   "cell_type": "code",
   "execution_count": 54,
   "id": "4ca0e455-2bd1-4e6c-b2b3-26af86f7fa45",
   "metadata": {
    "tags": []
   },
   "outputs": [
    {
     "data": {
      "text/plain": [
       "[{'model': 'LinearRegression()',\n",
       "  'fit_time': 0.015121698379516602,\n",
       "  'r2': 0.8181125031214872},\n",
       " {'model': 'RandomForestRegressor(max_depth=2)',\n",
       "  'fit_time': 0.40967597961425783,\n",
       "  'r2': 0.7127731800138487},\n",
       " {'model': 'KNeighborsRegressor()',\n",
       "  'fit_time': 0.006464862823486328,\n",
       "  'r2': 0.8686757374391106}]"
      ]
     },
     "execution_count": 54,
     "metadata": {},
     "output_type": "execute_result"
    }
   ],
   "source": [
    "scores = []\n",
    "get_scores(LinearRegression())\n",
    "get_scores(RandomForestRegressor(max_depth=2))\n",
    "get_scores(KNeighborsRegressor(n_neighbors=5))\n",
    "scores"
   ]
  },
  {
   "cell_type": "markdown",
   "id": "edd5cbcf-91ac-4ba9-a287-dd984834e518",
   "metadata": {},
   "source": [
    "^ The KNN regressor model performs better than either the linear regression or random forest regression model, based on R-squared. The random forest regressor also has a significant advantage in that it has a much longer fit time. "
   ]
  },
  {
   "cell_type": "markdown",
   "id": "ce382e4c-95a3-48d4-bb90-ca7675b53ec5",
   "metadata": {},
   "source": [
    "## Preprocessing data with pipelines"
   ]
  },
  {
   "cell_type": "code",
   "execution_count": null,
   "id": "272e33ea-9d39-4772-92e6-02d00919a2a9",
   "metadata": {},
   "outputs": [],
   "source": []
  }
 ],
 "metadata": {
  "kernelspec": {
   "display_name": "Python 3 (ipykernel)",
   "language": "python",
   "name": "python3"
  },
  "language_info": {
   "codemirror_mode": {
    "name": "ipython",
    "version": 3
   },
   "file_extension": ".py",
   "mimetype": "text/x-python",
   "name": "python",
   "nbconvert_exporter": "python",
   "pygments_lexer": "ipython3",
   "version": "3.9.16"
  }
 },
 "nbformat": 4,
 "nbformat_minor": 5
}
