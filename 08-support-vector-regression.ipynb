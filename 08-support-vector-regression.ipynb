{
 "cells": [
  {
   "cell_type": "markdown",
   "id": "d1ef22c6-5149-4f3f-95bb-5bd9238f624b",
   "metadata": {},
   "source": [
    "# Support Vector Regression\n",
    "\n",
    "Use SVR when the assumptions of linear regression models do not hold:\n",
    "- when the relationship between our features and our target is too complicated to be described by a linear combination of weights\n",
    "\n",
    "How it works\n",
    "- SVR identifies the hyperplane that maximizes margin between two classes\n",
    "- the support vectors are the data point closest to the margin that _support_ it\n"
   ]
  },
  {
   "cell_type": "markdown",
   "id": "d71748a9-289c-4641-a1ce-494b701e94d1",
   "metadata": {},
   "source": [
    "## Key Concepts\n",
    "\n",
    "\n",
    "- __Hard margin classification__: when we are strict about all the observations for each class being on the correct side of the decision boundary\n",
    "- __Soft margin classification__: when the data points are not linearly separable"
   ]
  },
  {
   "cell_type": "markdown",
   "id": "8d3ce89b-e336-4a5e-96a2-8f39419918c9",
   "metadata": {},
   "source": [
    "## Nonlinear SVR and the kernel trick\n",
    "\n",
    "- __kernel trick__: SVR use a kernel function to expand the feature space implicitly without actually creating more features\n",
    "- the most popular kernel function is __radial basis function (RBF)__"
   ]
  },
  {
   "cell_type": "markdown",
   "id": "f0369ffd-a273-4657-8ec2-739f371c1ec3",
   "metadata": {},
   "source": [
    "## SVR with a linear model"
   ]
  },
  {
   "cell_type": "code",
   "execution_count": 5,
   "id": "96272a82-c935-4d38-a7de-56e8eef63000",
   "metadata": {
    "tags": []
   },
   "outputs": [],
   "source": [
    "import matplotlib.pyplot as plt\n",
    "import numpy as np\n",
    "import pandas as pd\n",
    "import sklearn.metrics as skmet\n",
    "from scipy.stats import uniform\n",
    "from sklearn.compose import ColumnTransformer, TransformedTargetRegressor\n",
    "from sklearn.impute import KNNImputer, SimpleImputer\n",
    "from sklearn.model_selection import (\n",
    "    GridSearchCV,\n",
    "    KFold,\n",
    "    RandomizedSearchCV,\n",
    "    cross_validate,\n",
    "    train_test_split,\n",
    ")\n",
    "from sklearn.pipeline import make_pipeline\n",
    "from sklearn.preprocessing import StandardScaler\n",
    "from sklearn.svm import LinearSVR\n",
    "\n",
    "from data.load import load_fossilfueltaxrate14\n",
    "from preprocfunc import OutlierTrans"
   ]
  },
  {
   "cell_type": "code",
   "execution_count": 9,
   "id": "9ef69e21-6f3b-480c-89c7-f5b7cff7625c",
   "metadata": {
    "tags": []
   },
   "outputs": [],
   "source": [
    "fftaxrate14 = load_fossilfueltaxrate14()\n",
    "\n",
    "num_cols = [\n",
    "    \"fuel_income_dependence\",\n",
    "    \"national_income_per_cap\",\n",
    "    \"VAT_Rate\",\n",
    "    \"gov_debt_per_gdp\",\n",
    "    \"polity\",\n",
    "    \"goveffect\",\n",
    "    \"democracy_index\",\n",
    "]\n",
    "dummy_cols = [\n",
    "    \"democracy_polity\",\n",
    "    \"autocracy_polity\",\n",
    "    \"democracy\",\n",
    "    \"nat_oil_comp\",\n",
    "    \"nat_oil_comp_state\",\n",
    "]\n",
    "spec_cols = [\"motorization_rate\"]\n",
    "target = fftaxrate14[\"gas_tax_imp\"]\n",
    "features = fftaxrate14[num_cols + dummy_cols + spec_cols]\n",
    "\n",
    "X_train, X_test, y_train, y_test = train_test_split(\n",
    "    features, target, test_size=0.2, random_state=0\n",
    ")"
   ]
  },
  {
   "cell_type": "code",
   "execution_count": 11,
   "id": "24650313-8fe0-4af1-9551-00e05367480f",
   "metadata": {
    "tags": []
   },
   "outputs": [
    {
     "data": {
      "text/plain": [
       "(123, 13)"
      ]
     },
     "execution_count": 11,
     "metadata": {},
     "output_type": "execute_result"
    }
   ],
   "source": [
    "X_train.shape"
   ]
  },
  {
   "cell_type": "code",
   "execution_count": 13,
   "id": "eed164be-9326-4f7a-a728-8c2db40f78d1",
   "metadata": {
    "tags": []
   },
   "outputs": [
    {
     "data": {
      "text/html": [
       "<div>\n",
       "<style scoped>\n",
       "    .dataframe tbody tr th:only-of-type {\n",
       "        vertical-align: middle;\n",
       "    }\n",
       "\n",
       "    .dataframe tbody tr th {\n",
       "        vertical-align: top;\n",
       "    }\n",
       "\n",
       "    .dataframe thead th {\n",
       "        text-align: right;\n",
       "    }\n",
       "</style>\n",
       "<table border=\"1\" class=\"dataframe\">\n",
       "  <thead>\n",
       "    <tr style=\"text-align: right;\">\n",
       "      <th></th>\n",
       "      <th>count</th>\n",
       "      <th>min</th>\n",
       "      <th>median</th>\n",
       "      <th>max</th>\n",
       "    </tr>\n",
       "  </thead>\n",
       "  <tbody>\n",
       "    <tr>\n",
       "      <th>fuel_income_dependence</th>\n",
       "      <td>121.0</td>\n",
       "      <td>0.000000</td>\n",
       "      <td>0.102270</td>\n",
       "      <td>34.231732</td>\n",
       "    </tr>\n",
       "    <tr>\n",
       "      <th>national_income_per_cap</th>\n",
       "      <td>121.0</td>\n",
       "      <td>260.000000</td>\n",
       "      <td>6110.000000</td>\n",
       "      <td>104540.000000</td>\n",
       "    </tr>\n",
       "    <tr>\n",
       "      <th>VAT_Rate</th>\n",
       "      <td>121.0</td>\n",
       "      <td>0.000000</td>\n",
       "      <td>16.000000</td>\n",
       "      <td>27.000000</td>\n",
       "    </tr>\n",
       "    <tr>\n",
       "      <th>gov_debt_per_gdp</th>\n",
       "      <td>112.0</td>\n",
       "      <td>1.561886</td>\n",
       "      <td>38.445795</td>\n",
       "      <td>194.755470</td>\n",
       "    </tr>\n",
       "    <tr>\n",
       "      <th>polity</th>\n",
       "      <td>121.0</td>\n",
       "      <td>-10.000000</td>\n",
       "      <td>6.000000</td>\n",
       "      <td>10.000000</td>\n",
       "    </tr>\n",
       "    <tr>\n",
       "      <th>goveffect</th>\n",
       "      <td>123.0</td>\n",
       "      <td>-2.040000</td>\n",
       "      <td>-0.100000</td>\n",
       "      <td>2.180000</td>\n",
       "    </tr>\n",
       "    <tr>\n",
       "      <th>democracy_index</th>\n",
       "      <td>121.0</td>\n",
       "      <td>0.025098</td>\n",
       "      <td>0.542365</td>\n",
       "      <td>0.930208</td>\n",
       "    </tr>\n",
       "    <tr>\n",
       "      <th>motorization_rate</th>\n",
       "      <td>100.0</td>\n",
       "      <td>0.004071</td>\n",
       "      <td>0.202082</td>\n",
       "      <td>0.810421</td>\n",
       "    </tr>\n",
       "  </tbody>\n",
       "</table>\n",
       "</div>"
      ],
      "text/plain": [
       "                         count         min       median            max\n",
       "fuel_income_dependence   121.0    0.000000     0.102270      34.231732\n",
       "national_income_per_cap  121.0  260.000000  6110.000000  104540.000000\n",
       "VAT_Rate                 121.0    0.000000    16.000000      27.000000\n",
       "gov_debt_per_gdp         112.0    1.561886    38.445795     194.755470\n",
       "polity                   121.0  -10.000000     6.000000      10.000000\n",
       "goveffect                123.0   -2.040000    -0.100000       2.180000\n",
       "democracy_index          121.0    0.025098     0.542365       0.930208\n",
       "motorization_rate        100.0    0.004071     0.202082       0.810421"
      ]
     },
     "execution_count": 13,
     "metadata": {},
     "output_type": "execute_result"
    }
   ],
   "source": [
    "X_train[num_cols + spec_cols].agg([\"count\", \"min\", \"median\", \"max\"]).T"
   ]
  },
  {
   "cell_type": "markdown",
   "id": "656c0dfb-ae9b-4a72-836e-9dd3f8ee5008",
   "metadata": {},
   "source": [
    "We need to standardize the data since SVR performs much better on standardized data. Also `motorization_rate` has a lot of missing values."
   ]
  },
  {
   "cell_type": "code",
   "execution_count": 14,
   "id": "b14294be-3d98-4d33-a0f3-84d792f12288",
   "metadata": {
    "tags": []
   },
   "outputs": [
    {
     "data": {
      "text/html": [
       "<div>\n",
       "<style scoped>\n",
       "    .dataframe tbody tr th:only-of-type {\n",
       "        vertical-align: middle;\n",
       "    }\n",
       "\n",
       "    .dataframe tbody tr th {\n",
       "        vertical-align: top;\n",
       "    }\n",
       "\n",
       "    .dataframe thead th {\n",
       "        text-align: right;\n",
       "    }\n",
       "</style>\n",
       "<table border=\"1\" class=\"dataframe\">\n",
       "  <thead>\n",
       "    <tr style=\"text-align: right;\">\n",
       "      <th></th>\n",
       "      <th>0.0</th>\n",
       "      <th>1.0</th>\n",
       "    </tr>\n",
       "  </thead>\n",
       "  <tbody>\n",
       "    <tr>\n",
       "      <th>democracy_polity</th>\n",
       "      <td>0.421488</td>\n",
       "      <td>0.578512</td>\n",
       "    </tr>\n",
       "    <tr>\n",
       "      <th>autocracy_polity</th>\n",
       "      <td>0.884298</td>\n",
       "      <td>0.115702</td>\n",
       "    </tr>\n",
       "    <tr>\n",
       "      <th>democracy</th>\n",
       "      <td>0.414634</td>\n",
       "      <td>0.585366</td>\n",
       "    </tr>\n",
       "    <tr>\n",
       "      <th>nat_oil_comp</th>\n",
       "      <td>0.537190</td>\n",
       "      <td>0.462810</td>\n",
       "    </tr>\n",
       "    <tr>\n",
       "      <th>nat_oil_comp_state</th>\n",
       "      <td>0.760331</td>\n",
       "      <td>0.239669</td>\n",
       "    </tr>\n",
       "  </tbody>\n",
       "</table>\n",
       "</div>"
      ],
      "text/plain": [
       "                         0.0       1.0\n",
       "democracy_polity    0.421488  0.578512\n",
       "autocracy_polity    0.884298  0.115702\n",
       "democracy           0.414634  0.585366\n",
       "nat_oil_comp        0.537190  0.462810\n",
       "nat_oil_comp_state  0.760331  0.239669"
      ]
     },
     "execution_count": 14,
     "metadata": {},
     "output_type": "execute_result"
    }
   ],
   "source": [
    "X_train[dummy_cols].apply(pd.value_counts, normalize=True).T"
   ]
  },
  {
   "cell_type": "code",
   "execution_count": 15,
   "id": "42a51808-6f33-4b1a-926a-1ff368bac811",
   "metadata": {
    "tags": []
   },
   "outputs": [
    {
     "data": {
      "text/plain": [
       "democracy_polity      121\n",
       "autocracy_polity      121\n",
       "democracy             123\n",
       "nat_oil_comp          121\n",
       "nat_oil_comp_state    121\n",
       "dtype: int64"
      ]
     },
     "execution_count": 15,
     "metadata": {},
     "output_type": "execute_result"
    }
   ],
   "source": [
    "X_train[dummy_cols].count()"
   ]
  },
  {
   "cell_type": "markdown",
   "id": "685a6bcf-d282-4f8b-a951-d52143350549",
   "metadata": {},
   "source": [
    "We need to build a column transformer to handle different data type. We can use `SimpleImputer` for the categorical features and numerical features, except for `motorization_rate`. We will use KNN imputation for the `motorization_rate` feature later."
   ]
  },
  {
   "cell_type": "code",
   "execution_count": 18,
   "id": "e0a171fb-be41-4298-bb17-518f8dcfcb8d",
   "metadata": {
    "tags": []
   },
   "outputs": [],
   "source": [
    "stand_trans = make_pipeline(\n",
    "    OutlierTrans(2), SimpleImputer(strategy=\"median\"), StandardScaler()\n",
    ")\n",
    "cat_trans = make_pipeline(SimpleImputer(strategy=\"most_frequent\"))\n",
    "spec_trans = make_pipeline(OutlierTrans(2), StandardScaler())\n",
    "\n",
    "col_trans = ColumnTransformer(\n",
    "    transformers=[\n",
    "        (\"stand\", stand_trans, num_cols),\n",
    "        (\"cat\", cat_trans, dummy_cols),\n",
    "        (\"spec\", spec_trans, spec_cols),\n",
    "    ],\n",
    "    verbose_feature_names_out=False,\n",
    ")"
   ]
  },
  {
   "cell_type": "markdown",
   "id": "53fdfbea-0994-4c77-9c64-5f8ca0411fcd",
   "metadata": {},
   "source": [
    "`epsilon` value of 0.2 means that we are fine with any error within 0.2 standard deviations of the actual value.\n",
    "The value `C` - the hyperparameter determining our model's tolerance for value outside of epsilon - at it's default value of 1.0.\n",
    "\n",
    "\n",
    "Before fitting our model, we still need to handle missing values for `motorization_rate`. We will add the KNN imputer to a pipeline after the column transformations. Since `motorization_rate` will be the only feature with missing values after the column transformations, the KNN imputer only changes values for that feature.\n",
    "\n",
    "We need to use the target transformer because the column transformer will only change the features, not the target. We will pass the pipeline we just. created to the target transformer's regressor parameter to do the feature transformations, and indicate that we just want to do standard scaling for the target. "
   ]
  },
  {
   "cell_type": "code",
   "execution_count": 20,
   "id": "e06e17f2-1165-4dd0-8189-9e2e08640e82",
   "metadata": {
    "tags": []
   },
   "outputs": [
    {
     "data": {
      "text/html": [
       "<style>#sk-container-id-1 {color: black;background-color: white;}#sk-container-id-1 pre{padding: 0;}#sk-container-id-1 div.sk-toggleable {background-color: white;}#sk-container-id-1 label.sk-toggleable__label {cursor: pointer;display: block;width: 100%;margin-bottom: 0;padding: 0.3em;box-sizing: border-box;text-align: center;}#sk-container-id-1 label.sk-toggleable__label-arrow:before {content: \"▸\";float: left;margin-right: 0.25em;color: #696969;}#sk-container-id-1 label.sk-toggleable__label-arrow:hover:before {color: black;}#sk-container-id-1 div.sk-estimator:hover label.sk-toggleable__label-arrow:before {color: black;}#sk-container-id-1 div.sk-toggleable__content {max-height: 0;max-width: 0;overflow: hidden;text-align: left;background-color: #f0f8ff;}#sk-container-id-1 div.sk-toggleable__content pre {margin: 0.2em;color: black;border-radius: 0.25em;background-color: #f0f8ff;}#sk-container-id-1 input.sk-toggleable__control:checked~div.sk-toggleable__content {max-height: 200px;max-width: 100%;overflow: auto;}#sk-container-id-1 input.sk-toggleable__control:checked~label.sk-toggleable__label-arrow:before {content: \"▾\";}#sk-container-id-1 div.sk-estimator input.sk-toggleable__control:checked~label.sk-toggleable__label {background-color: #d4ebff;}#sk-container-id-1 div.sk-label input.sk-toggleable__control:checked~label.sk-toggleable__label {background-color: #d4ebff;}#sk-container-id-1 input.sk-hidden--visually {border: 0;clip: rect(1px 1px 1px 1px);clip: rect(1px, 1px, 1px, 1px);height: 1px;margin: -1px;overflow: hidden;padding: 0;position: absolute;width: 1px;}#sk-container-id-1 div.sk-estimator {font-family: monospace;background-color: #f0f8ff;border: 1px dotted black;border-radius: 0.25em;box-sizing: border-box;margin-bottom: 0.5em;}#sk-container-id-1 div.sk-estimator:hover {background-color: #d4ebff;}#sk-container-id-1 div.sk-parallel-item::after {content: \"\";width: 100%;border-bottom: 1px solid gray;flex-grow: 1;}#sk-container-id-1 div.sk-label:hover label.sk-toggleable__label {background-color: #d4ebff;}#sk-container-id-1 div.sk-serial::before {content: \"\";position: absolute;border-left: 1px solid gray;box-sizing: border-box;top: 0;bottom: 0;left: 50%;z-index: 0;}#sk-container-id-1 div.sk-serial {display: flex;flex-direction: column;align-items: center;background-color: white;padding-right: 0.2em;padding-left: 0.2em;position: relative;}#sk-container-id-1 div.sk-item {position: relative;z-index: 1;}#sk-container-id-1 div.sk-parallel {display: flex;align-items: stretch;justify-content: center;background-color: white;position: relative;}#sk-container-id-1 div.sk-item::before, #sk-container-id-1 div.sk-parallel-item::before {content: \"\";position: absolute;border-left: 1px solid gray;box-sizing: border-box;top: 0;bottom: 0;left: 50%;z-index: -1;}#sk-container-id-1 div.sk-parallel-item {display: flex;flex-direction: column;z-index: 1;position: relative;background-color: white;}#sk-container-id-1 div.sk-parallel-item:first-child::after {align-self: flex-end;width: 50%;}#sk-container-id-1 div.sk-parallel-item:last-child::after {align-self: flex-start;width: 50%;}#sk-container-id-1 div.sk-parallel-item:only-child::after {width: 0;}#sk-container-id-1 div.sk-dashed-wrapped {border: 1px dashed gray;margin: 0 0.4em 0.5em 0.4em;box-sizing: border-box;padding-bottom: 0.4em;background-color: white;}#sk-container-id-1 div.sk-label label {font-family: monospace;font-weight: bold;display: inline-block;line-height: 1.2em;}#sk-container-id-1 div.sk-label-container {text-align: center;}#sk-container-id-1 div.sk-container {/* jupyter's `normalize.less` sets `[hidden] { display: none; }` but bootstrap.min.css set `[hidden] { display: none !important; }` so we also need the `!important` here to be able to override the default hidden behavior on the sphinx rendered scikit-learn.org. See: https://github.com/scikit-learn/scikit-learn/issues/21755 */display: inline-block !important;position: relative;}#sk-container-id-1 div.sk-text-repr-fallback {display: none;}</style><div id=\"sk-container-id-1\" class=\"sk-top-container\"><div class=\"sk-text-repr-fallback\"><pre>TransformedTargetRegressor(regressor=Pipeline(steps=[(&#x27;columntransformer&#x27;,\n",
       "                                                      ColumnTransformer(transformers=[(&#x27;stand&#x27;,\n",
       "                                                                                       Pipeline(steps=[(&#x27;outliertrans&#x27;,\n",
       "                                                                                                        OutlierTrans(threshold=2)),\n",
       "                                                                                                       (&#x27;simpleimputer&#x27;,\n",
       "                                                                                                        SimpleImputer(strategy=&#x27;median&#x27;)),\n",
       "                                                                                                       (&#x27;standardscaler&#x27;,\n",
       "                                                                                                        StandardScaler())]),\n",
       "                                                                                       [&#x27;fuel_income_dependence&#x27;,\n",
       "                                                                                        &#x27;national_income_per_cap&#x27;,\n",
       "                                                                                        &#x27;VAT_Rate&#x27;,\n",
       "                                                                                        &#x27;gov_debt_per_gdp&#x27;,\n",
       "                                                                                        &#x27;poli...\n",
       "                                                                                        &#x27;autocracy_polity&#x27;,\n",
       "                                                                                        &#x27;democracy&#x27;,\n",
       "                                                                                        &#x27;nat_oil_comp&#x27;,\n",
       "                                                                                        &#x27;nat_oil_comp_state&#x27;]),\n",
       "                                                                                      (&#x27;spec&#x27;,\n",
       "                                                                                       Pipeline(steps=[(&#x27;outliertrans&#x27;,\n",
       "                                                                                                        OutlierTrans(threshold=2)),\n",
       "                                                                                                       (&#x27;standardscaler&#x27;,\n",
       "                                                                                                        StandardScaler())]),\n",
       "                                                                                       [&#x27;motorization_rate&#x27;])],\n",
       "                                                                        verbose_feature_names_out=False)),\n",
       "                                                     (&#x27;knnimputer&#x27;,\n",
       "                                                      KNNImputer()),\n",
       "                                                     (&#x27;linearsvr&#x27;,\n",
       "                                                      LinearSVR(epsilon=0.2,\n",
       "                                                                max_iter=10000,\n",
       "                                                                random_state=0))]),\n",
       "                           transformer=StandardScaler())</pre><b>In a Jupyter environment, please rerun this cell to show the HTML representation or trust the notebook. <br />On GitHub, the HTML representation is unable to render, please try loading this page with nbviewer.org.</b></div><div class=\"sk-container\" hidden><div class=\"sk-item sk-dashed-wrapped\"><div class=\"sk-label-container\"><div class=\"sk-label sk-toggleable\"><input class=\"sk-toggleable__control sk-hidden--visually\" id=\"sk-estimator-id-1\" type=\"checkbox\" ><label for=\"sk-estimator-id-1\" class=\"sk-toggleable__label sk-toggleable__label-arrow\">TransformedTargetRegressor</label><div class=\"sk-toggleable__content\"><pre>TransformedTargetRegressor(regressor=Pipeline(steps=[(&#x27;columntransformer&#x27;,\n",
       "                                                      ColumnTransformer(transformers=[(&#x27;stand&#x27;,\n",
       "                                                                                       Pipeline(steps=[(&#x27;outliertrans&#x27;,\n",
       "                                                                                                        OutlierTrans(threshold=2)),\n",
       "                                                                                                       (&#x27;simpleimputer&#x27;,\n",
       "                                                                                                        SimpleImputer(strategy=&#x27;median&#x27;)),\n",
       "                                                                                                       (&#x27;standardscaler&#x27;,\n",
       "                                                                                                        StandardScaler())]),\n",
       "                                                                                       [&#x27;fuel_income_dependence&#x27;,\n",
       "                                                                                        &#x27;national_income_per_cap&#x27;,\n",
       "                                                                                        &#x27;VAT_Rate&#x27;,\n",
       "                                                                                        &#x27;gov_debt_per_gdp&#x27;,\n",
       "                                                                                        &#x27;poli...\n",
       "                                                                                        &#x27;autocracy_polity&#x27;,\n",
       "                                                                                        &#x27;democracy&#x27;,\n",
       "                                                                                        &#x27;nat_oil_comp&#x27;,\n",
       "                                                                                        &#x27;nat_oil_comp_state&#x27;]),\n",
       "                                                                                      (&#x27;spec&#x27;,\n",
       "                                                                                       Pipeline(steps=[(&#x27;outliertrans&#x27;,\n",
       "                                                                                                        OutlierTrans(threshold=2)),\n",
       "                                                                                                       (&#x27;standardscaler&#x27;,\n",
       "                                                                                                        StandardScaler())]),\n",
       "                                                                                       [&#x27;motorization_rate&#x27;])],\n",
       "                                                                        verbose_feature_names_out=False)),\n",
       "                                                     (&#x27;knnimputer&#x27;,\n",
       "                                                      KNNImputer()),\n",
       "                                                     (&#x27;linearsvr&#x27;,\n",
       "                                                      LinearSVR(epsilon=0.2,\n",
       "                                                                max_iter=10000,\n",
       "                                                                random_state=0))]),\n",
       "                           transformer=StandardScaler())</pre></div></div></div><div class=\"sk-parallel\"><div class=\"sk-parallel-item\"><div class=\"sk-item\"><div class=\"sk-label-container\"><div class=\"sk-label sk-toggleable\"><input class=\"sk-toggleable__control sk-hidden--visually\" id=\"sk-estimator-id-2\" type=\"checkbox\" ><label for=\"sk-estimator-id-2\" class=\"sk-toggleable__label sk-toggleable__label-arrow\">regressor: Pipeline</label><div class=\"sk-toggleable__content\"><pre>Pipeline(steps=[(&#x27;columntransformer&#x27;,\n",
       "                 ColumnTransformer(transformers=[(&#x27;stand&#x27;,\n",
       "                                                  Pipeline(steps=[(&#x27;outliertrans&#x27;,\n",
       "                                                                   OutlierTrans(threshold=2)),\n",
       "                                                                  (&#x27;simpleimputer&#x27;,\n",
       "                                                                   SimpleImputer(strategy=&#x27;median&#x27;)),\n",
       "                                                                  (&#x27;standardscaler&#x27;,\n",
       "                                                                   StandardScaler())]),\n",
       "                                                  [&#x27;fuel_income_dependence&#x27;,\n",
       "                                                   &#x27;national_income_per_cap&#x27;,\n",
       "                                                   &#x27;VAT_Rate&#x27;,\n",
       "                                                   &#x27;gov_debt_per_gdp&#x27;, &#x27;polity&#x27;,\n",
       "                                                   &#x27;goveffect&#x27;,\n",
       "                                                   &#x27;democracy_index&#x27;]),\n",
       "                                                 (...\n",
       "                                                                   SimpleImputer(strategy=&#x27;most_frequent&#x27;))]),\n",
       "                                                  [&#x27;democracy_polity&#x27;,\n",
       "                                                   &#x27;autocracy_polity&#x27;,\n",
       "                                                   &#x27;democracy&#x27;, &#x27;nat_oil_comp&#x27;,\n",
       "                                                   &#x27;nat_oil_comp_state&#x27;]),\n",
       "                                                 (&#x27;spec&#x27;,\n",
       "                                                  Pipeline(steps=[(&#x27;outliertrans&#x27;,\n",
       "                                                                   OutlierTrans(threshold=2)),\n",
       "                                                                  (&#x27;standardscaler&#x27;,\n",
       "                                                                   StandardScaler())]),\n",
       "                                                  [&#x27;motorization_rate&#x27;])],\n",
       "                                   verbose_feature_names_out=False)),\n",
       "                (&#x27;knnimputer&#x27;, KNNImputer()),\n",
       "                (&#x27;linearsvr&#x27;,\n",
       "                 LinearSVR(epsilon=0.2, max_iter=10000, random_state=0))])</pre></div></div></div><div class=\"sk-serial\"><div class=\"sk-item\"><div class=\"sk-serial\"><div class=\"sk-item sk-dashed-wrapped\"><div class=\"sk-label-container\"><div class=\"sk-label sk-toggleable\"><input class=\"sk-toggleable__control sk-hidden--visually\" id=\"sk-estimator-id-3\" type=\"checkbox\" ><label for=\"sk-estimator-id-3\" class=\"sk-toggleable__label sk-toggleable__label-arrow\">columntransformer: ColumnTransformer</label><div class=\"sk-toggleable__content\"><pre>ColumnTransformer(transformers=[(&#x27;stand&#x27;,\n",
       "                                 Pipeline(steps=[(&#x27;outliertrans&#x27;,\n",
       "                                                  OutlierTrans(threshold=2)),\n",
       "                                                 (&#x27;simpleimputer&#x27;,\n",
       "                                                  SimpleImputer(strategy=&#x27;median&#x27;)),\n",
       "                                                 (&#x27;standardscaler&#x27;,\n",
       "                                                  StandardScaler())]),\n",
       "                                 [&#x27;fuel_income_dependence&#x27;,\n",
       "                                  &#x27;national_income_per_cap&#x27;, &#x27;VAT_Rate&#x27;,\n",
       "                                  &#x27;gov_debt_per_gdp&#x27;, &#x27;polity&#x27;, &#x27;goveffect&#x27;,\n",
       "                                  &#x27;democracy_index&#x27;]),\n",
       "                                (&#x27;cat&#x27;,\n",
       "                                 Pipeline(steps=[(&#x27;simpleimputer&#x27;,\n",
       "                                                  SimpleImputer(strategy=&#x27;most_frequent&#x27;))]),\n",
       "                                 [&#x27;democracy_polity&#x27;, &#x27;autocracy_polity&#x27;,\n",
       "                                  &#x27;democracy&#x27;, &#x27;nat_oil_comp&#x27;,\n",
       "                                  &#x27;nat_oil_comp_state&#x27;]),\n",
       "                                (&#x27;spec&#x27;,\n",
       "                                 Pipeline(steps=[(&#x27;outliertrans&#x27;,\n",
       "                                                  OutlierTrans(threshold=2)),\n",
       "                                                 (&#x27;standardscaler&#x27;,\n",
       "                                                  StandardScaler())]),\n",
       "                                 [&#x27;motorization_rate&#x27;])],\n",
       "                  verbose_feature_names_out=False)</pre></div></div></div><div class=\"sk-parallel\"><div class=\"sk-parallel-item\"><div class=\"sk-item\"><div class=\"sk-label-container\"><div class=\"sk-label sk-toggleable\"><input class=\"sk-toggleable__control sk-hidden--visually\" id=\"sk-estimator-id-4\" type=\"checkbox\" ><label for=\"sk-estimator-id-4\" class=\"sk-toggleable__label sk-toggleable__label-arrow\">stand</label><div class=\"sk-toggleable__content\"><pre>[&#x27;fuel_income_dependence&#x27;, &#x27;national_income_per_cap&#x27;, &#x27;VAT_Rate&#x27;, &#x27;gov_debt_per_gdp&#x27;, &#x27;polity&#x27;, &#x27;goveffect&#x27;, &#x27;democracy_index&#x27;]</pre></div></div></div><div class=\"sk-serial\"><div class=\"sk-item\"><div class=\"sk-serial\"><div class=\"sk-item\"><div class=\"sk-estimator sk-toggleable\"><input class=\"sk-toggleable__control sk-hidden--visually\" id=\"sk-estimator-id-5\" type=\"checkbox\" ><label for=\"sk-estimator-id-5\" class=\"sk-toggleable__label sk-toggleable__label-arrow\">OutlierTrans</label><div class=\"sk-toggleable__content\"><pre>OutlierTrans(threshold=2)</pre></div></div></div><div class=\"sk-item\"><div class=\"sk-estimator sk-toggleable\"><input class=\"sk-toggleable__control sk-hidden--visually\" id=\"sk-estimator-id-6\" type=\"checkbox\" ><label for=\"sk-estimator-id-6\" class=\"sk-toggleable__label sk-toggleable__label-arrow\">SimpleImputer</label><div class=\"sk-toggleable__content\"><pre>SimpleImputer(strategy=&#x27;median&#x27;)</pre></div></div></div><div class=\"sk-item\"><div class=\"sk-estimator sk-toggleable\"><input class=\"sk-toggleable__control sk-hidden--visually\" id=\"sk-estimator-id-7\" type=\"checkbox\" ><label for=\"sk-estimator-id-7\" class=\"sk-toggleable__label sk-toggleable__label-arrow\">StandardScaler</label><div class=\"sk-toggleable__content\"><pre>StandardScaler()</pre></div></div></div></div></div></div></div></div><div class=\"sk-parallel-item\"><div class=\"sk-item\"><div class=\"sk-label-container\"><div class=\"sk-label sk-toggleable\"><input class=\"sk-toggleable__control sk-hidden--visually\" id=\"sk-estimator-id-8\" type=\"checkbox\" ><label for=\"sk-estimator-id-8\" class=\"sk-toggleable__label sk-toggleable__label-arrow\">cat</label><div class=\"sk-toggleable__content\"><pre>[&#x27;democracy_polity&#x27;, &#x27;autocracy_polity&#x27;, &#x27;democracy&#x27;, &#x27;nat_oil_comp&#x27;, &#x27;nat_oil_comp_state&#x27;]</pre></div></div></div><div class=\"sk-serial\"><div class=\"sk-item\"><div class=\"sk-serial\"><div class=\"sk-item\"><div class=\"sk-estimator sk-toggleable\"><input class=\"sk-toggleable__control sk-hidden--visually\" id=\"sk-estimator-id-9\" type=\"checkbox\" ><label for=\"sk-estimator-id-9\" class=\"sk-toggleable__label sk-toggleable__label-arrow\">SimpleImputer</label><div class=\"sk-toggleable__content\"><pre>SimpleImputer(strategy=&#x27;most_frequent&#x27;)</pre></div></div></div></div></div></div></div></div><div class=\"sk-parallel-item\"><div class=\"sk-item\"><div class=\"sk-label-container\"><div class=\"sk-label sk-toggleable\"><input class=\"sk-toggleable__control sk-hidden--visually\" id=\"sk-estimator-id-10\" type=\"checkbox\" ><label for=\"sk-estimator-id-10\" class=\"sk-toggleable__label sk-toggleable__label-arrow\">spec</label><div class=\"sk-toggleable__content\"><pre>[&#x27;motorization_rate&#x27;]</pre></div></div></div><div class=\"sk-serial\"><div class=\"sk-item\"><div class=\"sk-serial\"><div class=\"sk-item\"><div class=\"sk-estimator sk-toggleable\"><input class=\"sk-toggleable__control sk-hidden--visually\" id=\"sk-estimator-id-11\" type=\"checkbox\" ><label for=\"sk-estimator-id-11\" class=\"sk-toggleable__label sk-toggleable__label-arrow\">OutlierTrans</label><div class=\"sk-toggleable__content\"><pre>OutlierTrans(threshold=2)</pre></div></div></div><div class=\"sk-item\"><div class=\"sk-estimator sk-toggleable\"><input class=\"sk-toggleable__control sk-hidden--visually\" id=\"sk-estimator-id-12\" type=\"checkbox\" ><label for=\"sk-estimator-id-12\" class=\"sk-toggleable__label sk-toggleable__label-arrow\">StandardScaler</label><div class=\"sk-toggleable__content\"><pre>StandardScaler()</pre></div></div></div></div></div></div></div></div></div></div><div class=\"sk-item\"><div class=\"sk-estimator sk-toggleable\"><input class=\"sk-toggleable__control sk-hidden--visually\" id=\"sk-estimator-id-13\" type=\"checkbox\" ><label for=\"sk-estimator-id-13\" class=\"sk-toggleable__label sk-toggleable__label-arrow\">KNNImputer</label><div class=\"sk-toggleable__content\"><pre>KNNImputer()</pre></div></div></div><div class=\"sk-item\"><div class=\"sk-estimator sk-toggleable\"><input class=\"sk-toggleable__control sk-hidden--visually\" id=\"sk-estimator-id-14\" type=\"checkbox\" ><label for=\"sk-estimator-id-14\" class=\"sk-toggleable__label sk-toggleable__label-arrow\">LinearSVR</label><div class=\"sk-toggleable__content\"><pre>LinearSVR(epsilon=0.2, max_iter=10000, random_state=0)</pre></div></div></div></div></div></div></div></div><div class=\"sk-parallel-item\"><div class=\"sk-item\"><div class=\"sk-label-container\"><div class=\"sk-label sk-toggleable\"><input class=\"sk-toggleable__control sk-hidden--visually\" id=\"sk-estimator-id-15\" type=\"checkbox\" ><label for=\"sk-estimator-id-15\" class=\"sk-toggleable__label sk-toggleable__label-arrow\">transformer: StandardScaler</label><div class=\"sk-toggleable__content\"><pre>StandardScaler()</pre></div></div></div><div class=\"sk-serial\"><div class=\"sk-item\"><div class=\"sk-estimator sk-toggleable\"><input class=\"sk-toggleable__control sk-hidden--visually\" id=\"sk-estimator-id-16\" type=\"checkbox\" ><label for=\"sk-estimator-id-16\" class=\"sk-toggleable__label sk-toggleable__label-arrow\">StandardScaler</label><div class=\"sk-toggleable__content\"><pre>StandardScaler()</pre></div></div></div></div></div></div></div></div></div></div>"
      ],
      "text/plain": [
       "TransformedTargetRegressor(regressor=Pipeline(steps=[('columntransformer',\n",
       "                                                      ColumnTransformer(transformers=[('stand',\n",
       "                                                                                       Pipeline(steps=[('outliertrans',\n",
       "                                                                                                        OutlierTrans(threshold=2)),\n",
       "                                                                                                       ('simpleimputer',\n",
       "                                                                                                        SimpleImputer(strategy='median')),\n",
       "                                                                                                       ('standardscaler',\n",
       "                                                                                                        StandardScaler())]),\n",
       "                                                                                       ['fuel_income_dependence',\n",
       "                                                                                        'national_income_per_cap',\n",
       "                                                                                        'VAT_Rate',\n",
       "                                                                                        'gov_debt_per_gdp',\n",
       "                                                                                        'poli...\n",
       "                                                                                        'autocracy_polity',\n",
       "                                                                                        'democracy',\n",
       "                                                                                        'nat_oil_comp',\n",
       "                                                                                        'nat_oil_comp_state']),\n",
       "                                                                                      ('spec',\n",
       "                                                                                       Pipeline(steps=[('outliertrans',\n",
       "                                                                                                        OutlierTrans(threshold=2)),\n",
       "                                                                                                       ('standardscaler',\n",
       "                                                                                                        StandardScaler())]),\n",
       "                                                                                       ['motorization_rate'])],\n",
       "                                                                        verbose_feature_names_out=False)),\n",
       "                                                     ('knnimputer',\n",
       "                                                      KNNImputer()),\n",
       "                                                     ('linearsvr',\n",
       "                                                      LinearSVR(epsilon=0.2,\n",
       "                                                                max_iter=10000,\n",
       "                                                                random_state=0))]),\n",
       "                           transformer=StandardScaler())"
      ]
     },
     "execution_count": 20,
     "metadata": {},
     "output_type": "execute_result"
    }
   ],
   "source": [
    "svr = LinearSVR(epsilon=0.2, max_iter=10_000, random_state=0)\n",
    "pipe1 = make_pipeline(col_trans, KNNImputer(n_neighbors=5), svr)\n",
    "\n",
    "ttr = TransformedTargetRegressor(regressor=pipe1, transformer=StandardScaler())\n",
    "ttr.fit(X_train, y_train)"
   ]
  },
  {
   "cell_type": "markdown",
   "id": "db619378-e0ee-4d44-9aad-9ca5655515be",
   "metadata": {},
   "source": [
    "We can use the `ttr.regressor_` to access all the elements of the pipeline."
   ]
  },
  {
   "cell_type": "code",
   "execution_count": 21,
   "id": "d5201b81-1fc2-480e-80a6-db903da3a22a",
   "metadata": {
    "tags": []
   },
   "outputs": [
    {
     "data": {
      "text/plain": [
       "[(-0.03040694175014407, 'fuel_income_dependence'),\n",
       " (0.10549935644031803, 'national_income_per_cap'),\n",
       " (0.49519936241642026, 'VAT_Rate'),\n",
       " (0.0857845735264331, 'gov_debt_per_gdp'),\n",
       " (0.018198547504343885, 'polity'),\n",
       " (0.12656984468734492, 'goveffect'),\n",
       " (-0.09889163752261303, 'democracy_index'),\n",
       " (-0.036584519840546594, 'democracy_polity'),\n",
       " (-0.5446613604546718, 'autocracy_polity'),\n",
       " (0.033234557366924815, 'democracy'),\n",
       " (-0.2048732386478349, 'nat_oil_comp'),\n",
       " (-0.6142887840649164, 'nat_oil_comp_state'),\n",
       " (0.14488410358761755, 'motorization_rate')]"
      ]
     },
     "execution_count": 21,
     "metadata": {},
     "output_type": "execute_result"
    }
   ],
   "source": [
    "coefs = ttr.regressor_[\"linearsvr\"].coef_\n",
    "list(zip(coefs, num_cols + dummy_cols + spec_cols))"
   ]
  },
  {
   "cell_type": "markdown",
   "id": "148036e8-b0b5-40cc-b72d-4297bac7f736",
   "metadata": {},
   "source": [
    "^ Our model estimates a positive relationship between value-added tax and gasoline taxes (`VAT_Rate` and `gas_tax_imp` at 0.495).\n",
    "\n",
    "It estimates a negative relationship between having an autocracy or having a national oil company, and gasoline taxes."
   ]
  },
  {
   "cell_type": "code",
   "execution_count": 22,
   "id": "48a59551-6ee9-46bf-846a-259f2e3943af",
   "metadata": {
    "tags": []
   },
   "outputs": [
    {
     "name": "stdout",
     "output_type": "stream",
     "text": [
      "Mean Absolute Error: -0.26, R-squared 0.57\n"
     ]
    }
   ],
   "source": [
    "kf = KFold(n_splits=3, shuffle=True, random_state=0)\n",
    "ttr.fit(X_train, y_train)\n",
    "scores = cross_validate(\n",
    "    ttr,\n",
    "    X=X_train,\n",
    "    y=y_train,\n",
    "    cv=kf,\n",
    "    scoring=(\"r2\", \"neg_mean_absolute_error\"),\n",
    "    n_jobs=-1,\n",
    ")\n",
    "\n",
    "print(\n",
    "    \"Mean Absolute Error: %.2f, R-squared %.2f\"\n",
    "    % (scores[\"test_neg_mean_absolute_error\"].mean(), scores[\"test_r2\"].mean())\n",
    ")"
   ]
  },
  {
   "cell_type": "markdown",
   "id": "25068bac-f71d-4817-afcc-1d4ee3cc967d",
   "metadata": {},
   "source": [
    "^ The mean absolute error and r-squared are not great, though that is certainly impacted by the small sample size."
   ]
  },
  {
   "cell_type": "code",
   "execution_count": 26,
   "id": "03f28421-428e-42a7-a398-7aa396473958",
   "metadata": {
    "tags": []
   },
   "outputs": [
    {
     "data": {
      "text/html": [
       "<style>#sk-container-id-2 {color: black;background-color: white;}#sk-container-id-2 pre{padding: 0;}#sk-container-id-2 div.sk-toggleable {background-color: white;}#sk-container-id-2 label.sk-toggleable__label {cursor: pointer;display: block;width: 100%;margin-bottom: 0;padding: 0.3em;box-sizing: border-box;text-align: center;}#sk-container-id-2 label.sk-toggleable__label-arrow:before {content: \"▸\";float: left;margin-right: 0.25em;color: #696969;}#sk-container-id-2 label.sk-toggleable__label-arrow:hover:before {color: black;}#sk-container-id-2 div.sk-estimator:hover label.sk-toggleable__label-arrow:before {color: black;}#sk-container-id-2 div.sk-toggleable__content {max-height: 0;max-width: 0;overflow: hidden;text-align: left;background-color: #f0f8ff;}#sk-container-id-2 div.sk-toggleable__content pre {margin: 0.2em;color: black;border-radius: 0.25em;background-color: #f0f8ff;}#sk-container-id-2 input.sk-toggleable__control:checked~div.sk-toggleable__content {max-height: 200px;max-width: 100%;overflow: auto;}#sk-container-id-2 input.sk-toggleable__control:checked~label.sk-toggleable__label-arrow:before {content: \"▾\";}#sk-container-id-2 div.sk-estimator input.sk-toggleable__control:checked~label.sk-toggleable__label {background-color: #d4ebff;}#sk-container-id-2 div.sk-label input.sk-toggleable__control:checked~label.sk-toggleable__label {background-color: #d4ebff;}#sk-container-id-2 input.sk-hidden--visually {border: 0;clip: rect(1px 1px 1px 1px);clip: rect(1px, 1px, 1px, 1px);height: 1px;margin: -1px;overflow: hidden;padding: 0;position: absolute;width: 1px;}#sk-container-id-2 div.sk-estimator {font-family: monospace;background-color: #f0f8ff;border: 1px dotted black;border-radius: 0.25em;box-sizing: border-box;margin-bottom: 0.5em;}#sk-container-id-2 div.sk-estimator:hover {background-color: #d4ebff;}#sk-container-id-2 div.sk-parallel-item::after {content: \"\";width: 100%;border-bottom: 1px solid gray;flex-grow: 1;}#sk-container-id-2 div.sk-label:hover label.sk-toggleable__label {background-color: #d4ebff;}#sk-container-id-2 div.sk-serial::before {content: \"\";position: absolute;border-left: 1px solid gray;box-sizing: border-box;top: 0;bottom: 0;left: 50%;z-index: 0;}#sk-container-id-2 div.sk-serial {display: flex;flex-direction: column;align-items: center;background-color: white;padding-right: 0.2em;padding-left: 0.2em;position: relative;}#sk-container-id-2 div.sk-item {position: relative;z-index: 1;}#sk-container-id-2 div.sk-parallel {display: flex;align-items: stretch;justify-content: center;background-color: white;position: relative;}#sk-container-id-2 div.sk-item::before, #sk-container-id-2 div.sk-parallel-item::before {content: \"\";position: absolute;border-left: 1px solid gray;box-sizing: border-box;top: 0;bottom: 0;left: 50%;z-index: -1;}#sk-container-id-2 div.sk-parallel-item {display: flex;flex-direction: column;z-index: 1;position: relative;background-color: white;}#sk-container-id-2 div.sk-parallel-item:first-child::after {align-self: flex-end;width: 50%;}#sk-container-id-2 div.sk-parallel-item:last-child::after {align-self: flex-start;width: 50%;}#sk-container-id-2 div.sk-parallel-item:only-child::after {width: 0;}#sk-container-id-2 div.sk-dashed-wrapped {border: 1px dashed gray;margin: 0 0.4em 0.5em 0.4em;box-sizing: border-box;padding-bottom: 0.4em;background-color: white;}#sk-container-id-2 div.sk-label label {font-family: monospace;font-weight: bold;display: inline-block;line-height: 1.2em;}#sk-container-id-2 div.sk-label-container {text-align: center;}#sk-container-id-2 div.sk-container {/* jupyter's `normalize.less` sets `[hidden] { display: none; }` but bootstrap.min.css set `[hidden] { display: none !important; }` so we also need the `!important` here to be able to override the default hidden behavior on the sphinx rendered scikit-learn.org. See: https://github.com/scikit-learn/scikit-learn/issues/21755 */display: inline-block !important;position: relative;}#sk-container-id-2 div.sk-text-repr-fallback {display: none;}</style><div id=\"sk-container-id-2\" class=\"sk-top-container\"><div class=\"sk-text-repr-fallback\"><pre>GridSearchCV(cv=3,\n",
       "             estimator=TransformedTargetRegressor(regressor=Pipeline(steps=[(&#x27;columntransformer&#x27;,\n",
       "                                                                             ColumnTransformer(transformers=[(&#x27;stand&#x27;,\n",
       "                                                                                                              Pipeline(steps=[(&#x27;outliertrans&#x27;,\n",
       "                                                                                                                               OutlierTrans(threshold=2)),\n",
       "                                                                                                                              (&#x27;simpleimputer&#x27;,\n",
       "                                                                                                                               SimpleImputer(strategy=&#x27;median&#x27;)),\n",
       "                                                                                                                              (&#x27;standardscaler&#x27;,\n",
       "                                                                                                                               StandardScaler())]),\n",
       "                                                                                                              [&#x27;fuel_income_dependence&#x27;,\n",
       "                                                                                                               &#x27;national_income_per_cap&#x27;,\n",
       "                                                                                                               &#x27;VAT_Ra...\n",
       "                                                                                               verbose_feature_names_out=False)),\n",
       "                                                                            (&#x27;knnimputer&#x27;,\n",
       "                                                                             KNNImputer()),\n",
       "                                                                            (&#x27;linearsvr&#x27;,\n",
       "                                                                             LinearSVR(max_iter=100000,\n",
       "                                                                                       random_state=0))]),\n",
       "                                                  transformer=StandardScaler()),\n",
       "             param_grid={&#x27;regressor__linearsvr__C&#x27;: array([0.1, 0.2, 0.3, 0.4, 0.5, 0.6, 0.7, 0.8, 0.9, 1. , 1.1, 1.2, 1.3,\n",
       "       1.4, 1.5]),\n",
       "                         &#x27;regressor__linearsvr__epsilon&#x27;: array([0.1, 0.2, 0.3, 0.4, 0.5, 0.6, 0.7, 0.8, 0.9, 1. , 1.1, 1.2, 1.3,\n",
       "       1.4, 1.5])},\n",
       "             scoring=&#x27;r2&#x27;)</pre><b>In a Jupyter environment, please rerun this cell to show the HTML representation or trust the notebook. <br />On GitHub, the HTML representation is unable to render, please try loading this page with nbviewer.org.</b></div><div class=\"sk-container\" hidden><div class=\"sk-item sk-dashed-wrapped\"><div class=\"sk-label-container\"><div class=\"sk-label sk-toggleable\"><input class=\"sk-toggleable__control sk-hidden--visually\" id=\"sk-estimator-id-17\" type=\"checkbox\" ><label for=\"sk-estimator-id-17\" class=\"sk-toggleable__label sk-toggleable__label-arrow\">GridSearchCV</label><div class=\"sk-toggleable__content\"><pre>GridSearchCV(cv=3,\n",
       "             estimator=TransformedTargetRegressor(regressor=Pipeline(steps=[(&#x27;columntransformer&#x27;,\n",
       "                                                                             ColumnTransformer(transformers=[(&#x27;stand&#x27;,\n",
       "                                                                                                              Pipeline(steps=[(&#x27;outliertrans&#x27;,\n",
       "                                                                                                                               OutlierTrans(threshold=2)),\n",
       "                                                                                                                              (&#x27;simpleimputer&#x27;,\n",
       "                                                                                                                               SimpleImputer(strategy=&#x27;median&#x27;)),\n",
       "                                                                                                                              (&#x27;standardscaler&#x27;,\n",
       "                                                                                                                               StandardScaler())]),\n",
       "                                                                                                              [&#x27;fuel_income_dependence&#x27;,\n",
       "                                                                                                               &#x27;national_income_per_cap&#x27;,\n",
       "                                                                                                               &#x27;VAT_Ra...\n",
       "                                                                                               verbose_feature_names_out=False)),\n",
       "                                                                            (&#x27;knnimputer&#x27;,\n",
       "                                                                             KNNImputer()),\n",
       "                                                                            (&#x27;linearsvr&#x27;,\n",
       "                                                                             LinearSVR(max_iter=100000,\n",
       "                                                                                       random_state=0))]),\n",
       "                                                  transformer=StandardScaler()),\n",
       "             param_grid={&#x27;regressor__linearsvr__C&#x27;: array([0.1, 0.2, 0.3, 0.4, 0.5, 0.6, 0.7, 0.8, 0.9, 1. , 1.1, 1.2, 1.3,\n",
       "       1.4, 1.5]),\n",
       "                         &#x27;regressor__linearsvr__epsilon&#x27;: array([0.1, 0.2, 0.3, 0.4, 0.5, 0.6, 0.7, 0.8, 0.9, 1. , 1.1, 1.2, 1.3,\n",
       "       1.4, 1.5])},\n",
       "             scoring=&#x27;r2&#x27;)</pre></div></div></div><div class=\"sk-parallel\"><div class=\"sk-parallel-item\"><div class=\"sk-item\"><div class=\"sk-label-container\"><div class=\"sk-label sk-toggleable\"><input class=\"sk-toggleable__control sk-hidden--visually\" id=\"sk-estimator-id-18\" type=\"checkbox\" ><label for=\"sk-estimator-id-18\" class=\"sk-toggleable__label sk-toggleable__label-arrow\">estimator: TransformedTargetRegressor</label><div class=\"sk-toggleable__content\"><pre>TransformedTargetRegressor(regressor=Pipeline(steps=[(&#x27;columntransformer&#x27;,\n",
       "                                                      ColumnTransformer(transformers=[(&#x27;stand&#x27;,\n",
       "                                                                                       Pipeline(steps=[(&#x27;outliertrans&#x27;,\n",
       "                                                                                                        OutlierTrans(threshold=2)),\n",
       "                                                                                                       (&#x27;simpleimputer&#x27;,\n",
       "                                                                                                        SimpleImputer(strategy=&#x27;median&#x27;)),\n",
       "                                                                                                       (&#x27;standardscaler&#x27;,\n",
       "                                                                                                        StandardScaler())]),\n",
       "                                                                                       [&#x27;fuel_income_dependence&#x27;,\n",
       "                                                                                        &#x27;national_income_per_cap&#x27;,\n",
       "                                                                                        &#x27;VAT_Rate&#x27;,\n",
       "                                                                                        &#x27;gov_debt_per_gdp&#x27;,\n",
       "                                                                                        &#x27;poli...\n",
       "                                                                                       [&#x27;democracy_polity&#x27;,\n",
       "                                                                                        &#x27;autocracy_polity&#x27;,\n",
       "                                                                                        &#x27;democracy&#x27;,\n",
       "                                                                                        &#x27;nat_oil_comp&#x27;,\n",
       "                                                                                        &#x27;nat_oil_comp_state&#x27;]),\n",
       "                                                                                      (&#x27;spec&#x27;,\n",
       "                                                                                       Pipeline(steps=[(&#x27;outliertrans&#x27;,\n",
       "                                                                                                        OutlierTrans(threshold=2)),\n",
       "                                                                                                       (&#x27;standardscaler&#x27;,\n",
       "                                                                                                        StandardScaler())]),\n",
       "                                                                                       [&#x27;motorization_rate&#x27;])],\n",
       "                                                                        verbose_feature_names_out=False)),\n",
       "                                                     (&#x27;knnimputer&#x27;,\n",
       "                                                      KNNImputer()),\n",
       "                                                     (&#x27;linearsvr&#x27;,\n",
       "                                                      LinearSVR(max_iter=100000,\n",
       "                                                                random_state=0))]),\n",
       "                           transformer=StandardScaler())</pre></div></div></div><div class=\"sk-serial\"><div class=\"sk-item sk-dashed-wrapped\"><div class=\"sk-parallel\"><div class=\"sk-parallel-item\"><div class=\"sk-item\"><div class=\"sk-label-container\"><div class=\"sk-label sk-toggleable\"><input class=\"sk-toggleable__control sk-hidden--visually\" id=\"sk-estimator-id-19\" type=\"checkbox\" ><label for=\"sk-estimator-id-19\" class=\"sk-toggleable__label sk-toggleable__label-arrow\">regressor: Pipeline</label><div class=\"sk-toggleable__content\"><pre>Pipeline(steps=[(&#x27;columntransformer&#x27;,\n",
       "                 ColumnTransformer(transformers=[(&#x27;stand&#x27;,\n",
       "                                                  Pipeline(steps=[(&#x27;outliertrans&#x27;,\n",
       "                                                                   OutlierTrans(threshold=2)),\n",
       "                                                                  (&#x27;simpleimputer&#x27;,\n",
       "                                                                   SimpleImputer(strategy=&#x27;median&#x27;)),\n",
       "                                                                  (&#x27;standardscaler&#x27;,\n",
       "                                                                   StandardScaler())]),\n",
       "                                                  [&#x27;fuel_income_dependence&#x27;,\n",
       "                                                   &#x27;national_income_per_cap&#x27;,\n",
       "                                                   &#x27;VAT_Rate&#x27;,\n",
       "                                                   &#x27;gov_debt_per_gdp&#x27;, &#x27;polity&#x27;,\n",
       "                                                   &#x27;goveffect&#x27;,\n",
       "                                                   &#x27;democracy_index&#x27;]),\n",
       "                                                 (...\n",
       "                                                                   SimpleImputer(strategy=&#x27;most_frequent&#x27;))]),\n",
       "                                                  [&#x27;democracy_polity&#x27;,\n",
       "                                                   &#x27;autocracy_polity&#x27;,\n",
       "                                                   &#x27;democracy&#x27;, &#x27;nat_oil_comp&#x27;,\n",
       "                                                   &#x27;nat_oil_comp_state&#x27;]),\n",
       "                                                 (&#x27;spec&#x27;,\n",
       "                                                  Pipeline(steps=[(&#x27;outliertrans&#x27;,\n",
       "                                                                   OutlierTrans(threshold=2)),\n",
       "                                                                  (&#x27;standardscaler&#x27;,\n",
       "                                                                   StandardScaler())]),\n",
       "                                                  [&#x27;motorization_rate&#x27;])],\n",
       "                                   verbose_feature_names_out=False)),\n",
       "                (&#x27;knnimputer&#x27;, KNNImputer()),\n",
       "                (&#x27;linearsvr&#x27;, LinearSVR(max_iter=100000, random_state=0))])</pre></div></div></div><div class=\"sk-serial\"><div class=\"sk-item\"><div class=\"sk-serial\"><div class=\"sk-item sk-dashed-wrapped\"><div class=\"sk-label-container\"><div class=\"sk-label sk-toggleable\"><input class=\"sk-toggleable__control sk-hidden--visually\" id=\"sk-estimator-id-20\" type=\"checkbox\" ><label for=\"sk-estimator-id-20\" class=\"sk-toggleable__label sk-toggleable__label-arrow\">columntransformer: ColumnTransformer</label><div class=\"sk-toggleable__content\"><pre>ColumnTransformer(transformers=[(&#x27;stand&#x27;,\n",
       "                                 Pipeline(steps=[(&#x27;outliertrans&#x27;,\n",
       "                                                  OutlierTrans(threshold=2)),\n",
       "                                                 (&#x27;simpleimputer&#x27;,\n",
       "                                                  SimpleImputer(strategy=&#x27;median&#x27;)),\n",
       "                                                 (&#x27;standardscaler&#x27;,\n",
       "                                                  StandardScaler())]),\n",
       "                                 [&#x27;fuel_income_dependence&#x27;,\n",
       "                                  &#x27;national_income_per_cap&#x27;, &#x27;VAT_Rate&#x27;,\n",
       "                                  &#x27;gov_debt_per_gdp&#x27;, &#x27;polity&#x27;, &#x27;goveffect&#x27;,\n",
       "                                  &#x27;democracy_index&#x27;]),\n",
       "                                (&#x27;cat&#x27;,\n",
       "                                 Pipeline(steps=[(&#x27;simpleimputer&#x27;,\n",
       "                                                  SimpleImputer(strategy=&#x27;most_frequent&#x27;))]),\n",
       "                                 [&#x27;democracy_polity&#x27;, &#x27;autocracy_polity&#x27;,\n",
       "                                  &#x27;democracy&#x27;, &#x27;nat_oil_comp&#x27;,\n",
       "                                  &#x27;nat_oil_comp_state&#x27;]),\n",
       "                                (&#x27;spec&#x27;,\n",
       "                                 Pipeline(steps=[(&#x27;outliertrans&#x27;,\n",
       "                                                  OutlierTrans(threshold=2)),\n",
       "                                                 (&#x27;standardscaler&#x27;,\n",
       "                                                  StandardScaler())]),\n",
       "                                 [&#x27;motorization_rate&#x27;])],\n",
       "                  verbose_feature_names_out=False)</pre></div></div></div><div class=\"sk-parallel\"><div class=\"sk-parallel-item\"><div class=\"sk-item\"><div class=\"sk-label-container\"><div class=\"sk-label sk-toggleable\"><input class=\"sk-toggleable__control sk-hidden--visually\" id=\"sk-estimator-id-21\" type=\"checkbox\" ><label for=\"sk-estimator-id-21\" class=\"sk-toggleable__label sk-toggleable__label-arrow\">stand</label><div class=\"sk-toggleable__content\"><pre>[&#x27;fuel_income_dependence&#x27;, &#x27;national_income_per_cap&#x27;, &#x27;VAT_Rate&#x27;, &#x27;gov_debt_per_gdp&#x27;, &#x27;polity&#x27;, &#x27;goveffect&#x27;, &#x27;democracy_index&#x27;]</pre></div></div></div><div class=\"sk-serial\"><div class=\"sk-item\"><div class=\"sk-serial\"><div class=\"sk-item\"><div class=\"sk-estimator sk-toggleable\"><input class=\"sk-toggleable__control sk-hidden--visually\" id=\"sk-estimator-id-22\" type=\"checkbox\" ><label for=\"sk-estimator-id-22\" class=\"sk-toggleable__label sk-toggleable__label-arrow\">OutlierTrans</label><div class=\"sk-toggleable__content\"><pre>OutlierTrans(threshold=2)</pre></div></div></div><div class=\"sk-item\"><div class=\"sk-estimator sk-toggleable\"><input class=\"sk-toggleable__control sk-hidden--visually\" id=\"sk-estimator-id-23\" type=\"checkbox\" ><label for=\"sk-estimator-id-23\" class=\"sk-toggleable__label sk-toggleable__label-arrow\">SimpleImputer</label><div class=\"sk-toggleable__content\"><pre>SimpleImputer(strategy=&#x27;median&#x27;)</pre></div></div></div><div class=\"sk-item\"><div class=\"sk-estimator sk-toggleable\"><input class=\"sk-toggleable__control sk-hidden--visually\" id=\"sk-estimator-id-24\" type=\"checkbox\" ><label for=\"sk-estimator-id-24\" class=\"sk-toggleable__label sk-toggleable__label-arrow\">StandardScaler</label><div class=\"sk-toggleable__content\"><pre>StandardScaler()</pre></div></div></div></div></div></div></div></div><div class=\"sk-parallel-item\"><div class=\"sk-item\"><div class=\"sk-label-container\"><div class=\"sk-label sk-toggleable\"><input class=\"sk-toggleable__control sk-hidden--visually\" id=\"sk-estimator-id-25\" type=\"checkbox\" ><label for=\"sk-estimator-id-25\" class=\"sk-toggleable__label sk-toggleable__label-arrow\">cat</label><div class=\"sk-toggleable__content\"><pre>[&#x27;democracy_polity&#x27;, &#x27;autocracy_polity&#x27;, &#x27;democracy&#x27;, &#x27;nat_oil_comp&#x27;, &#x27;nat_oil_comp_state&#x27;]</pre></div></div></div><div class=\"sk-serial\"><div class=\"sk-item\"><div class=\"sk-serial\"><div class=\"sk-item\"><div class=\"sk-estimator sk-toggleable\"><input class=\"sk-toggleable__control sk-hidden--visually\" id=\"sk-estimator-id-26\" type=\"checkbox\" ><label for=\"sk-estimator-id-26\" class=\"sk-toggleable__label sk-toggleable__label-arrow\">SimpleImputer</label><div class=\"sk-toggleable__content\"><pre>SimpleImputer(strategy=&#x27;most_frequent&#x27;)</pre></div></div></div></div></div></div></div></div><div class=\"sk-parallel-item\"><div class=\"sk-item\"><div class=\"sk-label-container\"><div class=\"sk-label sk-toggleable\"><input class=\"sk-toggleable__control sk-hidden--visually\" id=\"sk-estimator-id-27\" type=\"checkbox\" ><label for=\"sk-estimator-id-27\" class=\"sk-toggleable__label sk-toggleable__label-arrow\">spec</label><div class=\"sk-toggleable__content\"><pre>[&#x27;motorization_rate&#x27;]</pre></div></div></div><div class=\"sk-serial\"><div class=\"sk-item\"><div class=\"sk-serial\"><div class=\"sk-item\"><div class=\"sk-estimator sk-toggleable\"><input class=\"sk-toggleable__control sk-hidden--visually\" id=\"sk-estimator-id-28\" type=\"checkbox\" ><label for=\"sk-estimator-id-28\" class=\"sk-toggleable__label sk-toggleable__label-arrow\">OutlierTrans</label><div class=\"sk-toggleable__content\"><pre>OutlierTrans(threshold=2)</pre></div></div></div><div class=\"sk-item\"><div class=\"sk-estimator sk-toggleable\"><input class=\"sk-toggleable__control sk-hidden--visually\" id=\"sk-estimator-id-29\" type=\"checkbox\" ><label for=\"sk-estimator-id-29\" class=\"sk-toggleable__label sk-toggleable__label-arrow\">StandardScaler</label><div class=\"sk-toggleable__content\"><pre>StandardScaler()</pre></div></div></div></div></div></div></div></div></div></div><div class=\"sk-item\"><div class=\"sk-estimator sk-toggleable\"><input class=\"sk-toggleable__control sk-hidden--visually\" id=\"sk-estimator-id-30\" type=\"checkbox\" ><label for=\"sk-estimator-id-30\" class=\"sk-toggleable__label sk-toggleable__label-arrow\">KNNImputer</label><div class=\"sk-toggleable__content\"><pre>KNNImputer()</pre></div></div></div><div class=\"sk-item\"><div class=\"sk-estimator sk-toggleable\"><input class=\"sk-toggleable__control sk-hidden--visually\" id=\"sk-estimator-id-31\" type=\"checkbox\" ><label for=\"sk-estimator-id-31\" class=\"sk-toggleable__label sk-toggleable__label-arrow\">LinearSVR</label><div class=\"sk-toggleable__content\"><pre>LinearSVR(max_iter=100000, random_state=0)</pre></div></div></div></div></div></div></div></div><div class=\"sk-parallel-item\"><div class=\"sk-item\"><div class=\"sk-label-container\"><div class=\"sk-label sk-toggleable\"><input class=\"sk-toggleable__control sk-hidden--visually\" id=\"sk-estimator-id-32\" type=\"checkbox\" ><label for=\"sk-estimator-id-32\" class=\"sk-toggleable__label sk-toggleable__label-arrow\">transformer: StandardScaler</label><div class=\"sk-toggleable__content\"><pre>StandardScaler()</pre></div></div></div><div class=\"sk-serial\"><div class=\"sk-item\"><div class=\"sk-estimator sk-toggleable\"><input class=\"sk-toggleable__control sk-hidden--visually\" id=\"sk-estimator-id-33\" type=\"checkbox\" ><label for=\"sk-estimator-id-33\" class=\"sk-toggleable__label sk-toggleable__label-arrow\">StandardScaler</label><div class=\"sk-toggleable__content\"><pre>StandardScaler()</pre></div></div></div></div></div></div></div></div></div></div></div></div></div></div></div>"
      ],
      "text/plain": [
       "GridSearchCV(cv=3,\n",
       "             estimator=TransformedTargetRegressor(regressor=Pipeline(steps=[('columntransformer',\n",
       "                                                                             ColumnTransformer(transformers=[('stand',\n",
       "                                                                                                              Pipeline(steps=[('outliertrans',\n",
       "                                                                                                                               OutlierTrans(threshold=2)),\n",
       "                                                                                                                              ('simpleimputer',\n",
       "                                                                                                                               SimpleImputer(strategy='median')),\n",
       "                                                                                                                              ('standardscaler',\n",
       "                                                                                                                               StandardScaler())]),\n",
       "                                                                                                              ['fuel_income_dependence',\n",
       "                                                                                                               'national_income_per_cap',\n",
       "                                                                                                               'VAT_Ra...\n",
       "                                                                                               verbose_feature_names_out=False)),\n",
       "                                                                            ('knnimputer',\n",
       "                                                                             KNNImputer()),\n",
       "                                                                            ('linearsvr',\n",
       "                                                                             LinearSVR(max_iter=100000,\n",
       "                                                                                       random_state=0))]),\n",
       "                                                  transformer=StandardScaler()),\n",
       "             param_grid={'regressor__linearsvr__C': array([0.1, 0.2, 0.3, 0.4, 0.5, 0.6, 0.7, 0.8, 0.9, 1. , 1.1, 1.2, 1.3,\n",
       "       1.4, 1.5]),\n",
       "                         'regressor__linearsvr__epsilon': array([0.1, 0.2, 0.3, 0.4, 0.5, 0.6, 0.7, 0.8, 0.9, 1. , 1.1, 1.2, 1.3,\n",
       "       1.4, 1.5])},\n",
       "             scoring='r2')"
      ]
     },
     "execution_count": 26,
     "metadata": {},
     "output_type": "execute_result"
    }
   ],
   "source": [
    "%timeit\n",
    "svr = LinearSVR(max_iter=100_000, random_state=0)\n",
    "\n",
    "pipe1 = make_pipeline(col_trans, KNNImputer(n_neighbors=5), svr)\n",
    "ttr = TransformedTargetRegressor(regressor=pipe1, transformer=StandardScaler())\n",
    "\n",
    "svr_params = {\n",
    "    \"regressor__linearsvr__epsilon\": np.arange(0.1, 1.6, 0.1),\n",
    "    \"regressor__linearsvr__C\": np.arange(0.1, 1.6, 0.1),\n",
    "}\n",
    "\n",
    "gs = GridSearchCV(ttr, param_grid=svr_params, cv=3, scoring=\"r2\")\n",
    "gs.fit(X_train, y_train)"
   ]
  },
  {
   "cell_type": "code",
   "execution_count": 27,
   "id": "41fd0cf6-5673-40fb-b871-fb38f38131b5",
   "metadata": {
    "tags": []
   },
   "outputs": [
    {
     "data": {
      "text/plain": [
       "{'regressor__linearsvr__C': 0.1, 'regressor__linearsvr__epsilon': 0.2}"
      ]
     },
     "execution_count": 27,
     "metadata": {},
     "output_type": "execute_result"
    }
   ],
   "source": [
    "gs.best_params_"
   ]
  },
  {
   "cell_type": "code",
   "execution_count": 28,
   "id": "a6c4bdc8-59fd-48b6-9131-434cd622c4fc",
   "metadata": {
    "tags": []
   },
   "outputs": [
    {
     "data": {
      "text/plain": [
       "0.599751107082899"
      ]
     },
     "execution_count": 28,
     "metadata": {},
     "output_type": "execute_result"
    }
   ],
   "source": [
    "gs.best_score_"
   ]
  },
  {
   "cell_type": "markdown",
   "id": "89b84c0e-6946-472d-a000-7a1a0db3eb34",
   "metadata": {},
   "source": [
    "The exhaustive grid search was quite expensive computationally. Let's try a randomized search instead.\n",
    "\n",
    "We will indicate that the random value for both `epsilon` and `C` should come from a uniform distribution with values between 0 and 1.5. "
   ]
  },
  {
   "cell_type": "code",
   "execution_count": 29,
   "id": "17eed656-e024-40a8-868c-d1a70cbc8fd5",
   "metadata": {
    "tags": []
   },
   "outputs": [
    {
     "data": {
      "text/html": [
       "<style>#sk-container-id-3 {color: black;background-color: white;}#sk-container-id-3 pre{padding: 0;}#sk-container-id-3 div.sk-toggleable {background-color: white;}#sk-container-id-3 label.sk-toggleable__label {cursor: pointer;display: block;width: 100%;margin-bottom: 0;padding: 0.3em;box-sizing: border-box;text-align: center;}#sk-container-id-3 label.sk-toggleable__label-arrow:before {content: \"▸\";float: left;margin-right: 0.25em;color: #696969;}#sk-container-id-3 label.sk-toggleable__label-arrow:hover:before {color: black;}#sk-container-id-3 div.sk-estimator:hover label.sk-toggleable__label-arrow:before {color: black;}#sk-container-id-3 div.sk-toggleable__content {max-height: 0;max-width: 0;overflow: hidden;text-align: left;background-color: #f0f8ff;}#sk-container-id-3 div.sk-toggleable__content pre {margin: 0.2em;color: black;border-radius: 0.25em;background-color: #f0f8ff;}#sk-container-id-3 input.sk-toggleable__control:checked~div.sk-toggleable__content {max-height: 200px;max-width: 100%;overflow: auto;}#sk-container-id-3 input.sk-toggleable__control:checked~label.sk-toggleable__label-arrow:before {content: \"▾\";}#sk-container-id-3 div.sk-estimator input.sk-toggleable__control:checked~label.sk-toggleable__label {background-color: #d4ebff;}#sk-container-id-3 div.sk-label input.sk-toggleable__control:checked~label.sk-toggleable__label {background-color: #d4ebff;}#sk-container-id-3 input.sk-hidden--visually {border: 0;clip: rect(1px 1px 1px 1px);clip: rect(1px, 1px, 1px, 1px);height: 1px;margin: -1px;overflow: hidden;padding: 0;position: absolute;width: 1px;}#sk-container-id-3 div.sk-estimator {font-family: monospace;background-color: #f0f8ff;border: 1px dotted black;border-radius: 0.25em;box-sizing: border-box;margin-bottom: 0.5em;}#sk-container-id-3 div.sk-estimator:hover {background-color: #d4ebff;}#sk-container-id-3 div.sk-parallel-item::after {content: \"\";width: 100%;border-bottom: 1px solid gray;flex-grow: 1;}#sk-container-id-3 div.sk-label:hover label.sk-toggleable__label {background-color: #d4ebff;}#sk-container-id-3 div.sk-serial::before {content: \"\";position: absolute;border-left: 1px solid gray;box-sizing: border-box;top: 0;bottom: 0;left: 50%;z-index: 0;}#sk-container-id-3 div.sk-serial {display: flex;flex-direction: column;align-items: center;background-color: white;padding-right: 0.2em;padding-left: 0.2em;position: relative;}#sk-container-id-3 div.sk-item {position: relative;z-index: 1;}#sk-container-id-3 div.sk-parallel {display: flex;align-items: stretch;justify-content: center;background-color: white;position: relative;}#sk-container-id-3 div.sk-item::before, #sk-container-id-3 div.sk-parallel-item::before {content: \"\";position: absolute;border-left: 1px solid gray;box-sizing: border-box;top: 0;bottom: 0;left: 50%;z-index: -1;}#sk-container-id-3 div.sk-parallel-item {display: flex;flex-direction: column;z-index: 1;position: relative;background-color: white;}#sk-container-id-3 div.sk-parallel-item:first-child::after {align-self: flex-end;width: 50%;}#sk-container-id-3 div.sk-parallel-item:last-child::after {align-self: flex-start;width: 50%;}#sk-container-id-3 div.sk-parallel-item:only-child::after {width: 0;}#sk-container-id-3 div.sk-dashed-wrapped {border: 1px dashed gray;margin: 0 0.4em 0.5em 0.4em;box-sizing: border-box;padding-bottom: 0.4em;background-color: white;}#sk-container-id-3 div.sk-label label {font-family: monospace;font-weight: bold;display: inline-block;line-height: 1.2em;}#sk-container-id-3 div.sk-label-container {text-align: center;}#sk-container-id-3 div.sk-container {/* jupyter's `normalize.less` sets `[hidden] { display: none; }` but bootstrap.min.css set `[hidden] { display: none !important; }` so we also need the `!important` here to be able to override the default hidden behavior on the sphinx rendered scikit-learn.org. See: https://github.com/scikit-learn/scikit-learn/issues/21755 */display: inline-block !important;position: relative;}#sk-container-id-3 div.sk-text-repr-fallback {display: none;}</style><div id=\"sk-container-id-3\" class=\"sk-top-container\"><div class=\"sk-text-repr-fallback\"><pre>RandomizedSearchCV(cv=3,\n",
       "                   estimator=TransformedTargetRegressor(regressor=Pipeline(steps=[(&#x27;columntransformer&#x27;,\n",
       "                                                                                   ColumnTransformer(transformers=[(&#x27;stand&#x27;,\n",
       "                                                                                                                    Pipeline(steps=[(&#x27;outliertrans&#x27;,\n",
       "                                                                                                                                     OutlierTrans(threshold=2)),\n",
       "                                                                                                                                    (&#x27;simpleimputer&#x27;,\n",
       "                                                                                                                                     SimpleImputer(strategy=&#x27;median&#x27;)),\n",
       "                                                                                                                                    (&#x27;standardscaler&#x27;,\n",
       "                                                                                                                                     StandardScaler())]),\n",
       "                                                                                                                    [&#x27;fuel_income_dependence&#x27;,\n",
       "                                                                                                                     &#x27;national_income_per_cap&#x27;,\n",
       "                                                                                                                     &#x27;...\n",
       "                                                                                                     verbose_feature_names_out=False)),\n",
       "                                                                                  (&#x27;knnimputer&#x27;,\n",
       "                                                                                   KNNImputer()),\n",
       "                                                                                  (&#x27;linearsvr&#x27;,\n",
       "                                                                                   LinearSVR(max_iter=100000,\n",
       "                                                                                             random_state=0))]),\n",
       "                                                        transformer=StandardScaler()),\n",
       "                   param_distributions={&#x27;regressor__linearsvr__C&#x27;: &lt;scipy.stats._distn_infrastructure.rv_frozen object at 0x12adf25b0&gt;,\n",
       "                                        &#x27;regressor__linearsvr__epsilon&#x27;: &lt;scipy.stats._distn_infrastructure.rv_frozen object at 0x12adf69d0&gt;},\n",
       "                   scoring=&#x27;r2&#x27;)</pre><b>In a Jupyter environment, please rerun this cell to show the HTML representation or trust the notebook. <br />On GitHub, the HTML representation is unable to render, please try loading this page with nbviewer.org.</b></div><div class=\"sk-container\" hidden><div class=\"sk-item sk-dashed-wrapped\"><div class=\"sk-label-container\"><div class=\"sk-label sk-toggleable\"><input class=\"sk-toggleable__control sk-hidden--visually\" id=\"sk-estimator-id-34\" type=\"checkbox\" ><label for=\"sk-estimator-id-34\" class=\"sk-toggleable__label sk-toggleable__label-arrow\">RandomizedSearchCV</label><div class=\"sk-toggleable__content\"><pre>RandomizedSearchCV(cv=3,\n",
       "                   estimator=TransformedTargetRegressor(regressor=Pipeline(steps=[(&#x27;columntransformer&#x27;,\n",
       "                                                                                   ColumnTransformer(transformers=[(&#x27;stand&#x27;,\n",
       "                                                                                                                    Pipeline(steps=[(&#x27;outliertrans&#x27;,\n",
       "                                                                                                                                     OutlierTrans(threshold=2)),\n",
       "                                                                                                                                    (&#x27;simpleimputer&#x27;,\n",
       "                                                                                                                                     SimpleImputer(strategy=&#x27;median&#x27;)),\n",
       "                                                                                                                                    (&#x27;standardscaler&#x27;,\n",
       "                                                                                                                                     StandardScaler())]),\n",
       "                                                                                                                    [&#x27;fuel_income_dependence&#x27;,\n",
       "                                                                                                                     &#x27;national_income_per_cap&#x27;,\n",
       "                                                                                                                     &#x27;...\n",
       "                                                                                                     verbose_feature_names_out=False)),\n",
       "                                                                                  (&#x27;knnimputer&#x27;,\n",
       "                                                                                   KNNImputer()),\n",
       "                                                                                  (&#x27;linearsvr&#x27;,\n",
       "                                                                                   LinearSVR(max_iter=100000,\n",
       "                                                                                             random_state=0))]),\n",
       "                                                        transformer=StandardScaler()),\n",
       "                   param_distributions={&#x27;regressor__linearsvr__C&#x27;: &lt;scipy.stats._distn_infrastructure.rv_frozen object at 0x12adf25b0&gt;,\n",
       "                                        &#x27;regressor__linearsvr__epsilon&#x27;: &lt;scipy.stats._distn_infrastructure.rv_frozen object at 0x12adf69d0&gt;},\n",
       "                   scoring=&#x27;r2&#x27;)</pre></div></div></div><div class=\"sk-parallel\"><div class=\"sk-parallel-item\"><div class=\"sk-item\"><div class=\"sk-label-container\"><div class=\"sk-label sk-toggleable\"><input class=\"sk-toggleable__control sk-hidden--visually\" id=\"sk-estimator-id-35\" type=\"checkbox\" ><label for=\"sk-estimator-id-35\" class=\"sk-toggleable__label sk-toggleable__label-arrow\">estimator: TransformedTargetRegressor</label><div class=\"sk-toggleable__content\"><pre>TransformedTargetRegressor(regressor=Pipeline(steps=[(&#x27;columntransformer&#x27;,\n",
       "                                                      ColumnTransformer(transformers=[(&#x27;stand&#x27;,\n",
       "                                                                                       Pipeline(steps=[(&#x27;outliertrans&#x27;,\n",
       "                                                                                                        OutlierTrans(threshold=2)),\n",
       "                                                                                                       (&#x27;simpleimputer&#x27;,\n",
       "                                                                                                        SimpleImputer(strategy=&#x27;median&#x27;)),\n",
       "                                                                                                       (&#x27;standardscaler&#x27;,\n",
       "                                                                                                        StandardScaler())]),\n",
       "                                                                                       [&#x27;fuel_income_dependence&#x27;,\n",
       "                                                                                        &#x27;national_income_per_cap&#x27;,\n",
       "                                                                                        &#x27;VAT_Rate&#x27;,\n",
       "                                                                                        &#x27;gov_debt_per_gdp&#x27;,\n",
       "                                                                                        &#x27;poli...\n",
       "                                                                                       [&#x27;democracy_polity&#x27;,\n",
       "                                                                                        &#x27;autocracy_polity&#x27;,\n",
       "                                                                                        &#x27;democracy&#x27;,\n",
       "                                                                                        &#x27;nat_oil_comp&#x27;,\n",
       "                                                                                        &#x27;nat_oil_comp_state&#x27;]),\n",
       "                                                                                      (&#x27;spec&#x27;,\n",
       "                                                                                       Pipeline(steps=[(&#x27;outliertrans&#x27;,\n",
       "                                                                                                        OutlierTrans(threshold=2)),\n",
       "                                                                                                       (&#x27;standardscaler&#x27;,\n",
       "                                                                                                        StandardScaler())]),\n",
       "                                                                                       [&#x27;motorization_rate&#x27;])],\n",
       "                                                                        verbose_feature_names_out=False)),\n",
       "                                                     (&#x27;knnimputer&#x27;,\n",
       "                                                      KNNImputer()),\n",
       "                                                     (&#x27;linearsvr&#x27;,\n",
       "                                                      LinearSVR(max_iter=100000,\n",
       "                                                                random_state=0))]),\n",
       "                           transformer=StandardScaler())</pre></div></div></div><div class=\"sk-serial\"><div class=\"sk-item sk-dashed-wrapped\"><div class=\"sk-parallel\"><div class=\"sk-parallel-item\"><div class=\"sk-item\"><div class=\"sk-label-container\"><div class=\"sk-label sk-toggleable\"><input class=\"sk-toggleable__control sk-hidden--visually\" id=\"sk-estimator-id-36\" type=\"checkbox\" ><label for=\"sk-estimator-id-36\" class=\"sk-toggleable__label sk-toggleable__label-arrow\">regressor: Pipeline</label><div class=\"sk-toggleable__content\"><pre>Pipeline(steps=[(&#x27;columntransformer&#x27;,\n",
       "                 ColumnTransformer(transformers=[(&#x27;stand&#x27;,\n",
       "                                                  Pipeline(steps=[(&#x27;outliertrans&#x27;,\n",
       "                                                                   OutlierTrans(threshold=2)),\n",
       "                                                                  (&#x27;simpleimputer&#x27;,\n",
       "                                                                   SimpleImputer(strategy=&#x27;median&#x27;)),\n",
       "                                                                  (&#x27;standardscaler&#x27;,\n",
       "                                                                   StandardScaler())]),\n",
       "                                                  [&#x27;fuel_income_dependence&#x27;,\n",
       "                                                   &#x27;national_income_per_cap&#x27;,\n",
       "                                                   &#x27;VAT_Rate&#x27;,\n",
       "                                                   &#x27;gov_debt_per_gdp&#x27;, &#x27;polity&#x27;,\n",
       "                                                   &#x27;goveffect&#x27;,\n",
       "                                                   &#x27;democracy_index&#x27;]),\n",
       "                                                 (...\n",
       "                                                                   SimpleImputer(strategy=&#x27;most_frequent&#x27;))]),\n",
       "                                                  [&#x27;democracy_polity&#x27;,\n",
       "                                                   &#x27;autocracy_polity&#x27;,\n",
       "                                                   &#x27;democracy&#x27;, &#x27;nat_oil_comp&#x27;,\n",
       "                                                   &#x27;nat_oil_comp_state&#x27;]),\n",
       "                                                 (&#x27;spec&#x27;,\n",
       "                                                  Pipeline(steps=[(&#x27;outliertrans&#x27;,\n",
       "                                                                   OutlierTrans(threshold=2)),\n",
       "                                                                  (&#x27;standardscaler&#x27;,\n",
       "                                                                   StandardScaler())]),\n",
       "                                                  [&#x27;motorization_rate&#x27;])],\n",
       "                                   verbose_feature_names_out=False)),\n",
       "                (&#x27;knnimputer&#x27;, KNNImputer()),\n",
       "                (&#x27;linearsvr&#x27;, LinearSVR(max_iter=100000, random_state=0))])</pre></div></div></div><div class=\"sk-serial\"><div class=\"sk-item\"><div class=\"sk-serial\"><div class=\"sk-item sk-dashed-wrapped\"><div class=\"sk-label-container\"><div class=\"sk-label sk-toggleable\"><input class=\"sk-toggleable__control sk-hidden--visually\" id=\"sk-estimator-id-37\" type=\"checkbox\" ><label for=\"sk-estimator-id-37\" class=\"sk-toggleable__label sk-toggleable__label-arrow\">columntransformer: ColumnTransformer</label><div class=\"sk-toggleable__content\"><pre>ColumnTransformer(transformers=[(&#x27;stand&#x27;,\n",
       "                                 Pipeline(steps=[(&#x27;outliertrans&#x27;,\n",
       "                                                  OutlierTrans(threshold=2)),\n",
       "                                                 (&#x27;simpleimputer&#x27;,\n",
       "                                                  SimpleImputer(strategy=&#x27;median&#x27;)),\n",
       "                                                 (&#x27;standardscaler&#x27;,\n",
       "                                                  StandardScaler())]),\n",
       "                                 [&#x27;fuel_income_dependence&#x27;,\n",
       "                                  &#x27;national_income_per_cap&#x27;, &#x27;VAT_Rate&#x27;,\n",
       "                                  &#x27;gov_debt_per_gdp&#x27;, &#x27;polity&#x27;, &#x27;goveffect&#x27;,\n",
       "                                  &#x27;democracy_index&#x27;]),\n",
       "                                (&#x27;cat&#x27;,\n",
       "                                 Pipeline(steps=[(&#x27;simpleimputer&#x27;,\n",
       "                                                  SimpleImputer(strategy=&#x27;most_frequent&#x27;))]),\n",
       "                                 [&#x27;democracy_polity&#x27;, &#x27;autocracy_polity&#x27;,\n",
       "                                  &#x27;democracy&#x27;, &#x27;nat_oil_comp&#x27;,\n",
       "                                  &#x27;nat_oil_comp_state&#x27;]),\n",
       "                                (&#x27;spec&#x27;,\n",
       "                                 Pipeline(steps=[(&#x27;outliertrans&#x27;,\n",
       "                                                  OutlierTrans(threshold=2)),\n",
       "                                                 (&#x27;standardscaler&#x27;,\n",
       "                                                  StandardScaler())]),\n",
       "                                 [&#x27;motorization_rate&#x27;])],\n",
       "                  verbose_feature_names_out=False)</pre></div></div></div><div class=\"sk-parallel\"><div class=\"sk-parallel-item\"><div class=\"sk-item\"><div class=\"sk-label-container\"><div class=\"sk-label sk-toggleable\"><input class=\"sk-toggleable__control sk-hidden--visually\" id=\"sk-estimator-id-38\" type=\"checkbox\" ><label for=\"sk-estimator-id-38\" class=\"sk-toggleable__label sk-toggleable__label-arrow\">stand</label><div class=\"sk-toggleable__content\"><pre>[&#x27;fuel_income_dependence&#x27;, &#x27;national_income_per_cap&#x27;, &#x27;VAT_Rate&#x27;, &#x27;gov_debt_per_gdp&#x27;, &#x27;polity&#x27;, &#x27;goveffect&#x27;, &#x27;democracy_index&#x27;]</pre></div></div></div><div class=\"sk-serial\"><div class=\"sk-item\"><div class=\"sk-serial\"><div class=\"sk-item\"><div class=\"sk-estimator sk-toggleable\"><input class=\"sk-toggleable__control sk-hidden--visually\" id=\"sk-estimator-id-39\" type=\"checkbox\" ><label for=\"sk-estimator-id-39\" class=\"sk-toggleable__label sk-toggleable__label-arrow\">OutlierTrans</label><div class=\"sk-toggleable__content\"><pre>OutlierTrans(threshold=2)</pre></div></div></div><div class=\"sk-item\"><div class=\"sk-estimator sk-toggleable\"><input class=\"sk-toggleable__control sk-hidden--visually\" id=\"sk-estimator-id-40\" type=\"checkbox\" ><label for=\"sk-estimator-id-40\" class=\"sk-toggleable__label sk-toggleable__label-arrow\">SimpleImputer</label><div class=\"sk-toggleable__content\"><pre>SimpleImputer(strategy=&#x27;median&#x27;)</pre></div></div></div><div class=\"sk-item\"><div class=\"sk-estimator sk-toggleable\"><input class=\"sk-toggleable__control sk-hidden--visually\" id=\"sk-estimator-id-41\" type=\"checkbox\" ><label for=\"sk-estimator-id-41\" class=\"sk-toggleable__label sk-toggleable__label-arrow\">StandardScaler</label><div class=\"sk-toggleable__content\"><pre>StandardScaler()</pre></div></div></div></div></div></div></div></div><div class=\"sk-parallel-item\"><div class=\"sk-item\"><div class=\"sk-label-container\"><div class=\"sk-label sk-toggleable\"><input class=\"sk-toggleable__control sk-hidden--visually\" id=\"sk-estimator-id-42\" type=\"checkbox\" ><label for=\"sk-estimator-id-42\" class=\"sk-toggleable__label sk-toggleable__label-arrow\">cat</label><div class=\"sk-toggleable__content\"><pre>[&#x27;democracy_polity&#x27;, &#x27;autocracy_polity&#x27;, &#x27;democracy&#x27;, &#x27;nat_oil_comp&#x27;, &#x27;nat_oil_comp_state&#x27;]</pre></div></div></div><div class=\"sk-serial\"><div class=\"sk-item\"><div class=\"sk-serial\"><div class=\"sk-item\"><div class=\"sk-estimator sk-toggleable\"><input class=\"sk-toggleable__control sk-hidden--visually\" id=\"sk-estimator-id-43\" type=\"checkbox\" ><label for=\"sk-estimator-id-43\" class=\"sk-toggleable__label sk-toggleable__label-arrow\">SimpleImputer</label><div class=\"sk-toggleable__content\"><pre>SimpleImputer(strategy=&#x27;most_frequent&#x27;)</pre></div></div></div></div></div></div></div></div><div class=\"sk-parallel-item\"><div class=\"sk-item\"><div class=\"sk-label-container\"><div class=\"sk-label sk-toggleable\"><input class=\"sk-toggleable__control sk-hidden--visually\" id=\"sk-estimator-id-44\" type=\"checkbox\" ><label for=\"sk-estimator-id-44\" class=\"sk-toggleable__label sk-toggleable__label-arrow\">spec</label><div class=\"sk-toggleable__content\"><pre>[&#x27;motorization_rate&#x27;]</pre></div></div></div><div class=\"sk-serial\"><div class=\"sk-item\"><div class=\"sk-serial\"><div class=\"sk-item\"><div class=\"sk-estimator sk-toggleable\"><input class=\"sk-toggleable__control sk-hidden--visually\" id=\"sk-estimator-id-45\" type=\"checkbox\" ><label for=\"sk-estimator-id-45\" class=\"sk-toggleable__label sk-toggleable__label-arrow\">OutlierTrans</label><div class=\"sk-toggleable__content\"><pre>OutlierTrans(threshold=2)</pre></div></div></div><div class=\"sk-item\"><div class=\"sk-estimator sk-toggleable\"><input class=\"sk-toggleable__control sk-hidden--visually\" id=\"sk-estimator-id-46\" type=\"checkbox\" ><label for=\"sk-estimator-id-46\" class=\"sk-toggleable__label sk-toggleable__label-arrow\">StandardScaler</label><div class=\"sk-toggleable__content\"><pre>StandardScaler()</pre></div></div></div></div></div></div></div></div></div></div><div class=\"sk-item\"><div class=\"sk-estimator sk-toggleable\"><input class=\"sk-toggleable__control sk-hidden--visually\" id=\"sk-estimator-id-47\" type=\"checkbox\" ><label for=\"sk-estimator-id-47\" class=\"sk-toggleable__label sk-toggleable__label-arrow\">KNNImputer</label><div class=\"sk-toggleable__content\"><pre>KNNImputer()</pre></div></div></div><div class=\"sk-item\"><div class=\"sk-estimator sk-toggleable\"><input class=\"sk-toggleable__control sk-hidden--visually\" id=\"sk-estimator-id-48\" type=\"checkbox\" ><label for=\"sk-estimator-id-48\" class=\"sk-toggleable__label sk-toggleable__label-arrow\">LinearSVR</label><div class=\"sk-toggleable__content\"><pre>LinearSVR(max_iter=100000, random_state=0)</pre></div></div></div></div></div></div></div></div><div class=\"sk-parallel-item\"><div class=\"sk-item\"><div class=\"sk-label-container\"><div class=\"sk-label sk-toggleable\"><input class=\"sk-toggleable__control sk-hidden--visually\" id=\"sk-estimator-id-49\" type=\"checkbox\" ><label for=\"sk-estimator-id-49\" class=\"sk-toggleable__label sk-toggleable__label-arrow\">transformer: StandardScaler</label><div class=\"sk-toggleable__content\"><pre>StandardScaler()</pre></div></div></div><div class=\"sk-serial\"><div class=\"sk-item\"><div class=\"sk-estimator sk-toggleable\"><input class=\"sk-toggleable__control sk-hidden--visually\" id=\"sk-estimator-id-50\" type=\"checkbox\" ><label for=\"sk-estimator-id-50\" class=\"sk-toggleable__label sk-toggleable__label-arrow\">StandardScaler</label><div class=\"sk-toggleable__content\"><pre>StandardScaler()</pre></div></div></div></div></div></div></div></div></div></div></div></div></div></div></div>"
      ],
      "text/plain": [
       "RandomizedSearchCV(cv=3,\n",
       "                   estimator=TransformedTargetRegressor(regressor=Pipeline(steps=[('columntransformer',\n",
       "                                                                                   ColumnTransformer(transformers=[('stand',\n",
       "                                                                                                                    Pipeline(steps=[('outliertrans',\n",
       "                                                                                                                                     OutlierTrans(threshold=2)),\n",
       "                                                                                                                                    ('simpleimputer',\n",
       "                                                                                                                                     SimpleImputer(strategy='median')),\n",
       "                                                                                                                                    ('standardscaler',\n",
       "                                                                                                                                     StandardScaler())]),\n",
       "                                                                                                                    ['fuel_income_dependence',\n",
       "                                                                                                                     'national_income_per_cap',\n",
       "                                                                                                                     '...\n",
       "                                                                                                     verbose_feature_names_out=False)),\n",
       "                                                                                  ('knnimputer',\n",
       "                                                                                   KNNImputer()),\n",
       "                                                                                  ('linearsvr',\n",
       "                                                                                   LinearSVR(max_iter=100000,\n",
       "                                                                                             random_state=0))]),\n",
       "                                                        transformer=StandardScaler()),\n",
       "                   param_distributions={'regressor__linearsvr__C': <scipy.stats._distn_infrastructure.rv_frozen object at 0x12adf25b0>,\n",
       "                                        'regressor__linearsvr__epsilon': <scipy.stats._distn_infrastructure.rv_frozen object at 0x12adf69d0>},\n",
       "                   scoring='r2')"
      ]
     },
     "execution_count": 29,
     "metadata": {},
     "output_type": "execute_result"
    }
   ],
   "source": [
    "%timeit\n",
    "svr_params = {\n",
    "    \"regressor__linearsvr__epsilon\": uniform(loc=0, scale=1.5),\n",
    "    \"regressor__linearsvr__C\": uniform(loc=0, scale=1.5),\n",
    "}\n",
    "rs = RandomizedSearchCV(ttr, svr_params, cv=3, scoring=\"r2\")\n",
    "rs.fit(X_train, y_train)"
   ]
  },
  {
   "cell_type": "code",
   "execution_count": 30,
   "id": "d0af02e4-cbf4-4bf6-9379-7b9098351da6",
   "metadata": {
    "tags": []
   },
   "outputs": [
    {
     "data": {
      "text/plain": [
       "{'regressor__linearsvr__C': 0.09683453566276207,\n",
       " 'regressor__linearsvr__epsilon': 0.35768899102442275}"
      ]
     },
     "execution_count": 30,
     "metadata": {},
     "output_type": "execute_result"
    }
   ],
   "source": [
    "rs.best_params_"
   ]
  },
  {
   "cell_type": "code",
   "execution_count": 31,
   "id": "8cca89c6-3620-47c7-a715-a634bede4ff1",
   "metadata": {
    "tags": []
   },
   "outputs": [
    {
     "data": {
      "text/plain": [
       "0.5872835548341215"
      ]
     },
     "execution_count": 31,
     "metadata": {},
     "output_type": "execute_result"
    }
   ],
   "source": [
    "rs.best_score_"
   ]
  },
  {
   "cell_type": "code",
   "execution_count": 34,
   "id": "09eac6de-fa22-4296-8a3c-1630cd7c2906",
   "metadata": {
    "tags": []
   },
   "outputs": [
    {
     "data": {
      "text/plain": [
       "(-0.5625, 0.8125)"
      ]
     },
     "execution_count": 34,
     "metadata": {},
     "output_type": "execute_result"
    },
    {
     "data": {
      "image/png": "[encoded data removed]",
      "text/plain": [
       "<Figure size 432x288 with 1 Axes>"
      ]
     },
     "metadata": {
      "needs_background": "light"
     },
     "output_type": "display_data"
    }
   ],
   "source": [
    "pred = rs.predict(X_test)\n",
    "pred_df = (\n",
    "    pd.DataFrame(pred, columns=[\"prediction\"], index=X_test.index)\n",
    "    .join(X_test)\n",
    "    .join(y_test)\n",
    ")\n",
    "pred_df[\"resid\"] = pred_df.gas_tax_imp - pred_df.prediction\n",
    "plt.hist(pred_df.resid, color=\"blue\", bins=np.arange(-0.5, 1.0, 0.25))\n",
    "plt.axvline(pred_df.resid.mean(), color=\"red\", linestyle=\"dashed\", linewidth=1)\n",
    "plt.title(\"Histogram of Residuals for Gas Tax Model\")\n",
    "plt.xlabel(\"Residuals\")\n",
    "plt.ylabel(\"Frequency\")\n",
    "plt.xlim()"
   ]
  },
  {
   "cell_type": "code",
   "execution_count": 36,
   "id": "ba78fea0-4988-410b-ae99-a4ce51a01534",
   "metadata": {
    "tags": []
   },
   "outputs": [
    {
     "data": {
      "text/plain": [
       "Text(0, 0.5, 'Residuals')"
      ]
     },
     "execution_count": 36,
     "metadata": {},
     "output_type": "execute_result"
    },
    {
     "data": {
      "image/png": "[encoded data removed]",
      "text/plain": [
       "<Figure size 432x288 with 1 Axes>"
      ]
     },
     "metadata": {
      "needs_background": "light"
     },
     "output_type": "display_data"
    }
   ],
   "source": [
    "plt.scatter(pred_df.prediction, pred_df.resid, color=\"blue\")\n",
    "plt.axhline(0, color=\"red\", linestyle=\"dashed\", linewidth=1)\n",
    "plt.title(\"Scatterplot of Predictions and Residuals\")\n",
    "plt.xlabel(\"Predicted Gas Tax\")\n",
    "plt.ylabel(\"Residuals\")"
   ]
  },
  {
   "cell_type": "markdown",
   "id": "2a2b3076-a4b4-43d4-81a6-fbb526da9c41",
   "metadata": {},
   "source": [
    "^ These residuals are problematic. We are always overpredicting (predicted values are higher than actual values) at the lower range and upper range of the predicted values. This is not what we want and is perhaps warning us of an unaccounted-for nonlinear relationship."
   ]
  },
  {
   "cell_type": "markdown",
   "id": "fdba0839-0dea-4599-9d96-c8f79fea395d",
   "metadata": {},
   "source": [
    "### Summary\n",
    "\n",
    "When our data is linearly separable, linear SVR can be an efficient choice. However, when linear separability is not possible, we should explore nonlinear models."
   ]
  }
 ],
 "metadata": {
  "kernelspec": {
   "display_name": "Python 3 (ipykernel)",
   "language": "python",
   "name": "python3"
  },
  "language_info": {
   "codemirror_mode": {
    "name": "ipython",
    "version": 3
   },
   "file_extension": ".py",
   "mimetype": "text/x-python",
   "name": "python",
   "nbconvert_exporter": "python",
   "pygments_lexer": "ipython3",
   "version": "3.9.16"
  }
 },
 "nbformat": 4,
 "nbformat_minor": 5
}
