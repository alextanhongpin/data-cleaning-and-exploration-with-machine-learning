{
 "cells": [
  {
   "cell_type": "markdown",
   "id": "49fb44b4-a6a5-483a-b142-327b92b4b971",
   "metadata": {},
   "source": [
    "# Encoding, Transforming and Scaling Features"
   ]
  },
  {
   "cell_type": "markdown",
   "id": "b729ccf2-3906-4f22-820b-2823efad69bb",
   "metadata": {},
   "source": [
    "We will cover the following topics in this chapter:\n",
    "- creating training datasets and avoiding deep leakage\n",
    "- identifying irrelevant or redundant observations to be removed\n",
    "- encoding categorical features\n",
    "- encoding features with medium or high cardinality\n",
    "- transforming features\n",
    "- binning features\n",
    "- scaling features"
   ]
  },
  {
   "cell_type": "markdown",
   "id": "9c776251-2fbe-4793-bef5-378029560bb5",
   "metadata": {},
   "source": [
    "## Create training datasets and avoiding data leakage\n",
    "\n",
    "**Data leakage** occurs whenever our models are informed by data that is not in the training dataset. \n",
    "\n",
    "\n",
    "For example, if we have missing values for a feature, we might impute the mean across the whole dataset for those values. However, in order to validate our model, we subsequently split our data into training and testing data. We would have then accidentally introduced data leakage into our training dataset since the information from the full dataset (that is, global mean) would have been used."
   ]
  },
  {
   "cell_type": "markdown",
   "id": "6e43b1a6-70ee-45af-861b-617eb9b4f1a8",
   "metadata": {},
   "source": [
    "## Removing redundant or unhelpful features"
   ]
  },
  {
   "cell_type": "code",
   "execution_count": 1,
   "id": "9bead576-dbd6-4a49-9acd-6b97edc1b7c2",
   "metadata": {
    "tags": []
   },
   "outputs": [],
   "source": [
    "!pip install -qq feature-engine"
   ]
  },
  {
   "cell_type": "code",
   "execution_count": 7,
   "id": "930f7baf-fad1-4885-80b1-0f1b624a10e5",
   "metadata": {
    "tags": []
   },
   "outputs": [],
   "source": [
    "import feature_engine.selection as fesel\n",
    "from sklearn.model_selection import train_test_split\n",
    "\n",
    "from data.load import load_ltpoland, load_nls97b"
   ]
  },
  {
   "cell_type": "code",
   "execution_count": 8,
   "id": "71a9f1da-190f-47fd-ae42-c444905ff2e3",
   "metadata": {
    "tags": []
   },
   "outputs": [],
   "source": [
    "nls97 = load_nls97b()\n",
    "ltpoland = load_ltpoland()"
   ]
  },
  {
   "cell_type": "code",
   "execution_count": 9,
   "id": "fc2f59d9-344c-4dbb-bbd3-7ad838b128c7",
   "metadata": {
    "tags": []
   },
   "outputs": [],
   "source": [
    "feature_cols = [\n",
    "    \"satverbal\",\n",
    "    \"satmath\",\n",
    "    \"gpascience\",\n",
    "    \"gpaenglish\",\n",
    "    \"gpamath\",\n",
    "    \"gpaoverall\",\n",
    "]\n",
    "X_train, X_test, y_train, y_test = train_test_split(\n",
    "    nls97[feature_cols], nls97[[\"wageincome\"]], test_size=0.3, random_state=0\n",
    ")"
   ]
  },
  {
   "cell_type": "code",
   "execution_count": 10,
   "id": "ecb5573e-f928-402e-a914-250697cd7156",
   "metadata": {
    "tags": []
   },
   "outputs": [
    {
     "data": {
      "text/html": [
       "<div>\n",
       "<style scoped>\n",
       "    .dataframe tbody tr th:only-of-type {\n",
       "        vertical-align: middle;\n",
       "    }\n",
       "\n",
       "    .dataframe tbody tr th {\n",
       "        vertical-align: top;\n",
       "    }\n",
       "\n",
       "    .dataframe thead th {\n",
       "        text-align: right;\n",
       "    }\n",
       "</style>\n",
       "<table border=\"1\" class=\"dataframe\">\n",
       "  <thead>\n",
       "    <tr style=\"text-align: right;\">\n",
       "      <th></th>\n",
       "      <th>satverbal</th>\n",
       "      <th>satmath</th>\n",
       "      <th>gpascience</th>\n",
       "      <th>gpaenglish</th>\n",
       "      <th>gpamath</th>\n",
       "      <th>gpaoverall</th>\n",
       "    </tr>\n",
       "  </thead>\n",
       "  <tbody>\n",
       "    <tr>\n",
       "      <th>satverbal</th>\n",
       "      <td>1.000000</td>\n",
       "      <td>0.728890</td>\n",
       "      <td>0.438588</td>\n",
       "      <td>0.443692</td>\n",
       "      <td>0.375226</td>\n",
       "      <td>0.420707</td>\n",
       "    </tr>\n",
       "    <tr>\n",
       "      <th>satmath</th>\n",
       "      <td>0.728890</td>\n",
       "      <td>1.000000</td>\n",
       "      <td>0.479757</td>\n",
       "      <td>0.430359</td>\n",
       "      <td>0.517770</td>\n",
       "      <td>0.484701</td>\n",
       "    </tr>\n",
       "    <tr>\n",
       "      <th>gpascience</th>\n",
       "      <td>0.438588</td>\n",
       "      <td>0.479757</td>\n",
       "      <td>1.000000</td>\n",
       "      <td>0.671744</td>\n",
       "      <td>0.606340</td>\n",
       "      <td>0.792695</td>\n",
       "    </tr>\n",
       "    <tr>\n",
       "      <th>gpaenglish</th>\n",
       "      <td>0.443692</td>\n",
       "      <td>0.430359</td>\n",
       "      <td>0.671744</td>\n",
       "      <td>1.000000</td>\n",
       "      <td>0.599713</td>\n",
       "      <td>0.843816</td>\n",
       "    </tr>\n",
       "    <tr>\n",
       "      <th>gpamath</th>\n",
       "      <td>0.375226</td>\n",
       "      <td>0.517770</td>\n",
       "      <td>0.606340</td>\n",
       "      <td>0.599713</td>\n",
       "      <td>1.000000</td>\n",
       "      <td>0.750494</td>\n",
       "    </tr>\n",
       "    <tr>\n",
       "      <th>gpaoverall</th>\n",
       "      <td>0.420707</td>\n",
       "      <td>0.484701</td>\n",
       "      <td>0.792695</td>\n",
       "      <td>0.843816</td>\n",
       "      <td>0.750494</td>\n",
       "      <td>1.000000</td>\n",
       "    </tr>\n",
       "  </tbody>\n",
       "</table>\n",
       "</div>"
      ],
      "text/plain": [
       "            satverbal   satmath  gpascience  gpaenglish   gpamath  gpaoverall\n",
       "satverbal    1.000000  0.728890    0.438588    0.443692  0.375226    0.420707\n",
       "satmath      0.728890  1.000000    0.479757    0.430359  0.517770    0.484701\n",
       "gpascience   0.438588  0.479757    1.000000    0.671744  0.606340    0.792695\n",
       "gpaenglish   0.443692  0.430359    0.671744    1.000000  0.599713    0.843816\n",
       "gpamath      0.375226  0.517770    0.606340    0.599713  1.000000    0.750494\n",
       "gpaoverall   0.420707  0.484701    0.792695    0.843816  0.750494    1.000000"
      ]
     },
     "execution_count": 10,
     "metadata": {},
     "output_type": "execute_result"
    }
   ],
   "source": [
    "X_train.corr()"
   ]
  },
  {
   "cell_type": "markdown",
   "id": "a597f51a-468f-4609-97eb-a70107679641",
   "metadata": {},
   "source": [
    "^ Here, `gpaoverall` is highly correlated with `gpascience`, `gpaenglish` and `gpamath`. \n",
    "\n",
    "The `corr` method returns the `Pearson` coefficients by default. This is fine when we can assume a linear relationship with the features. However, when this assumption does not make sense, we should consider requesting `Spearman` coefficients instead. "
   ]
  },
  {
   "cell_type": "markdown",
   "id": "824154cd-1d3f-4d89-a6a0-2db39903db7c",
   "metadata": {},
   "source": [
    "Let's drop features that have a correlation higher than 0.75 with another feature."
   ]
  },
  {
   "cell_type": "code",
   "execution_count": 11,
   "id": "678988e8-fa46-4404-94ea-1ae9719af76f",
   "metadata": {
    "tags": []
   },
   "outputs": [
    {
     "name": "stdout",
     "output_type": "stream",
     "text": [
      "<class 'pandas.core.frame.DataFrame'>\n",
      "Int64Index: 6288 entries, 574974 to 370933\n",
      "Data columns (total 5 columns):\n",
      " #   Column      Non-Null Count  Dtype  \n",
      "---  ------      --------------  -----  \n",
      " 0   satverbal   1001 non-null   float64\n",
      " 1   satmath     1001 non-null   float64\n",
      " 2   gpascience  3998 non-null   float64\n",
      " 3   gpaenglish  4078 non-null   float64\n",
      " 4   gpamath     4056 non-null   float64\n",
      "dtypes: float64(5)\n",
      "memory usage: 294.8 KB\n"
     ]
    }
   ],
   "source": [
    "tr = fesel.DropCorrelatedFeatures(variables=None, method=\"pearson\", threshold=0.75)\n",
    "tr.fit(X_train)\n",
    "X_train_tr = tr.transform(X_train)\n",
    "X_test_tr = tr.transform(X_test)\n",
    "X_train_tr.info()"
   ]
  },
  {
   "cell_type": "markdown",
   "id": "5dcdd4d8-2a74-43c8-84c7-fdcda0857635",
   "metadata": {},
   "source": [
    "^ The column `gpaoverall` is dropped."
   ]
  },
  {
   "cell_type": "code",
   "execution_count": 12,
   "id": "b174c8fe-362c-4f77-9d7e-779938e5ee95",
   "metadata": {
    "tags": []
   },
   "outputs": [],
   "source": [
    "feature_cols = [\n",
    "    \"year\",\n",
    "    \"month\",\n",
    "    \"latabs\",\n",
    "    \"latitude\",\n",
    "    \"elevation\",\n",
    "    \"longitude\",\n",
    "    \"country\",\n",
    "]\n",
    "X_train, X_test, y_train, y_test = train_test_split(\n",
    "    ltpoland[feature_cols], ltpoland[[\"temperature\"]], test_size=0.3, random_state=0\n",
    ")"
   ]
  },
  {
   "cell_type": "code",
   "execution_count": 13,
   "id": "1c66c63c-855f-4aee-aaa9-8add28d2ffbd",
   "metadata": {
    "tags": []
   },
   "outputs": [
    {
     "data": {
      "text/html": [
       "<div>\n",
       "<style scoped>\n",
       "    .dataframe tbody tr th:only-of-type {\n",
       "        vertical-align: middle;\n",
       "    }\n",
       "\n",
       "    .dataframe tbody tr th {\n",
       "        vertical-align: top;\n",
       "    }\n",
       "\n",
       "    .dataframe thead th {\n",
       "        text-align: right;\n",
       "    }\n",
       "</style>\n",
       "<table border=\"1\" class=\"dataframe\">\n",
       "  <thead>\n",
       "    <tr style=\"text-align: right;\">\n",
       "      <th></th>\n",
       "      <th>year</th>\n",
       "      <th>month</th>\n",
       "      <th>latabs</th>\n",
       "      <th>latitude</th>\n",
       "      <th>elevation</th>\n",
       "      <th>longitude</th>\n",
       "      <th>country</th>\n",
       "    </tr>\n",
       "    <tr>\n",
       "      <th>station</th>\n",
       "      <th></th>\n",
       "      <th></th>\n",
       "      <th></th>\n",
       "      <th></th>\n",
       "      <th></th>\n",
       "      <th></th>\n",
       "      <th></th>\n",
       "    </tr>\n",
       "  </thead>\n",
       "  <tbody>\n",
       "    <tr>\n",
       "      <th>SIEDLCE</th>\n",
       "      <td>2019</td>\n",
       "      <td>11</td>\n",
       "      <td>52.250</td>\n",
       "      <td>52.250</td>\n",
       "      <td>152.0</td>\n",
       "      <td>22.250</td>\n",
       "      <td>Poland</td>\n",
       "    </tr>\n",
       "    <tr>\n",
       "      <th>OKECIE</th>\n",
       "      <td>2019</td>\n",
       "      <td>6</td>\n",
       "      <td>52.166</td>\n",
       "      <td>52.166</td>\n",
       "      <td>110.3</td>\n",
       "      <td>20.967</td>\n",
       "      <td>Poland</td>\n",
       "    </tr>\n",
       "    <tr>\n",
       "      <th>BALICE</th>\n",
       "      <td>2019</td>\n",
       "      <td>1</td>\n",
       "      <td>50.078</td>\n",
       "      <td>50.078</td>\n",
       "      <td>241.1</td>\n",
       "      <td>19.785</td>\n",
       "      <td>Poland</td>\n",
       "    </tr>\n",
       "    <tr>\n",
       "      <th>BALICE</th>\n",
       "      <td>2019</td>\n",
       "      <td>7</td>\n",
       "      <td>50.078</td>\n",
       "      <td>50.078</td>\n",
       "      <td>241.1</td>\n",
       "      <td>19.785</td>\n",
       "      <td>Poland</td>\n",
       "    </tr>\n",
       "    <tr>\n",
       "      <th>BIALYSTOK</th>\n",
       "      <td>2019</td>\n",
       "      <td>11</td>\n",
       "      <td>53.100</td>\n",
       "      <td>53.100</td>\n",
       "      <td>151.0</td>\n",
       "      <td>23.167</td>\n",
       "      <td>Poland</td>\n",
       "    </tr>\n",
       "  </tbody>\n",
       "</table>\n",
       "</div>"
      ],
      "text/plain": [
       "           year  month  latabs  latitude  elevation  longitude country\n",
       "station                                                               \n",
       "SIEDLCE    2019     11  52.250    52.250      152.0     22.250  Poland\n",
       "OKECIE     2019      6  52.166    52.166      110.3     20.967  Poland\n",
       "BALICE     2019      1  50.078    50.078      241.1     19.785  Poland\n",
       "BALICE     2019      7  50.078    50.078      241.1     19.785  Poland\n",
       "BIALYSTOK  2019     11  53.100    53.100      151.0     23.167  Poland"
      ]
     },
     "execution_count": 13,
     "metadata": {},
     "output_type": "execute_result"
    }
   ],
   "source": [
    "X_train.sample(5, random_state=99)"
   ]
  },
  {
   "cell_type": "code",
   "execution_count": 14,
   "id": "ebf86b41-a3d5-47b2-9903-2218f65235b1",
   "metadata": {
    "tags": []
   },
   "outputs": [
    {
     "data": {
      "text/plain": [
       "2019    84\n",
       "Name: year, dtype: int64"
      ]
     },
     "execution_count": 14,
     "metadata": {},
     "output_type": "execute_result"
    }
   ],
   "source": [
    "X_train.year.value_counts()"
   ]
  },
  {
   "cell_type": "code",
   "execution_count": 15,
   "id": "ff6b6644-20a1-4d49-b64b-7bf0dc3edb5b",
   "metadata": {
    "tags": []
   },
   "outputs": [
    {
     "data": {
      "text/plain": [
       "Poland    84\n",
       "Name: country, dtype: int64"
      ]
     },
     "execution_count": 15,
     "metadata": {},
     "output_type": "execute_result"
    }
   ],
   "source": [
    "X_train.country.value_counts()"
   ]
  },
  {
   "cell_type": "code",
   "execution_count": 16,
   "id": "75bb12b8-6769-4afc-aee2-e03a6d111ea2",
   "metadata": {
    "tags": []
   },
   "outputs": [
    {
     "data": {
      "text/plain": [
       "0"
      ]
     },
     "execution_count": 16,
     "metadata": {},
     "output_type": "execute_result"
    }
   ],
   "source": [
    "(X_train.latitude != X_train.latabs).sum()"
   ]
  },
  {
   "cell_type": "code",
   "execution_count": 17,
   "id": "f04c17b8-60cd-4f40-b157-baf9e37361ef",
   "metadata": {
    "tags": []
   },
   "outputs": [
    {
     "data": {
      "text/html": [
       "<div>\n",
       "<style scoped>\n",
       "    .dataframe tbody tr th:only-of-type {\n",
       "        vertical-align: middle;\n",
       "    }\n",
       "\n",
       "    .dataframe tbody tr th {\n",
       "        vertical-align: top;\n",
       "    }\n",
       "\n",
       "    .dataframe thead th {\n",
       "        text-align: right;\n",
       "    }\n",
       "</style>\n",
       "<table border=\"1\" class=\"dataframe\">\n",
       "  <thead>\n",
       "    <tr style=\"text-align: right;\">\n",
       "      <th></th>\n",
       "      <th>month</th>\n",
       "      <th>latabs</th>\n",
       "      <th>latitude</th>\n",
       "      <th>elevation</th>\n",
       "      <th>longitude</th>\n",
       "    </tr>\n",
       "    <tr>\n",
       "      <th>station</th>\n",
       "      <th></th>\n",
       "      <th></th>\n",
       "      <th></th>\n",
       "      <th></th>\n",
       "      <th></th>\n",
       "    </tr>\n",
       "  </thead>\n",
       "  <tbody>\n",
       "    <tr>\n",
       "      <th>OKECIE</th>\n",
       "      <td>1</td>\n",
       "      <td>52.166</td>\n",
       "      <td>52.166</td>\n",
       "      <td>110.3</td>\n",
       "      <td>20.9670</td>\n",
       "    </tr>\n",
       "    <tr>\n",
       "      <th>LAWICA</th>\n",
       "      <td>8</td>\n",
       "      <td>52.421</td>\n",
       "      <td>52.421</td>\n",
       "      <td>93.9</td>\n",
       "      <td>16.8260</td>\n",
       "    </tr>\n",
       "    <tr>\n",
       "      <th>LEBA</th>\n",
       "      <td>11</td>\n",
       "      <td>54.750</td>\n",
       "      <td>54.750</td>\n",
       "      <td>2.0</td>\n",
       "      <td>17.5331</td>\n",
       "    </tr>\n",
       "    <tr>\n",
       "      <th>SIEDLCE</th>\n",
       "      <td>10</td>\n",
       "      <td>52.250</td>\n",
       "      <td>52.250</td>\n",
       "      <td>152.0</td>\n",
       "      <td>22.2500</td>\n",
       "    </tr>\n",
       "    <tr>\n",
       "      <th>BIALYSTOK</th>\n",
       "      <td>11</td>\n",
       "      <td>53.100</td>\n",
       "      <td>53.100</td>\n",
       "      <td>151.0</td>\n",
       "      <td>23.1670</td>\n",
       "    </tr>\n",
       "  </tbody>\n",
       "</table>\n",
       "</div>"
      ],
      "text/plain": [
       "           month  latabs  latitude  elevation  longitude\n",
       "station                                                 \n",
       "OKECIE         1  52.166    52.166      110.3    20.9670\n",
       "LAWICA         8  52.421    52.421       93.9    16.8260\n",
       "LEBA          11  54.750    54.750        2.0    17.5331\n",
       "SIEDLCE       10  52.250    52.250      152.0    22.2500\n",
       "BIALYSTOK     11  53.100    53.100      151.0    23.1670"
      ]
     },
     "execution_count": 17,
     "metadata": {},
     "output_type": "execute_result"
    }
   ],
   "source": [
    "tr = fesel.DropConstantFeatures()\n",
    "tr.fit(X_train)\n",
    "X_train_tr = tr.transform(X_train)\n",
    "X_test_tr = tr.transform(X_test)\n",
    "X_train_tr.head()"
   ]
  },
  {
   "cell_type": "markdown",
   "id": "650a06d1-29b8-4304-a6ba-45d3df8d14d5",
   "metadata": {},
   "source": [
    "^ The feature `country` and `year` has been dropped."
   ]
  },
  {
   "cell_type": "code",
   "execution_count": 18,
   "id": "deb03998-cc58-4aea-bbcd-e0e828fbd88d",
   "metadata": {
    "tags": []
   },
   "outputs": [
    {
     "data": {
      "text/html": [
       "<div>\n",
       "<style scoped>\n",
       "    .dataframe tbody tr th:only-of-type {\n",
       "        vertical-align: middle;\n",
       "    }\n",
       "\n",
       "    .dataframe tbody tr th {\n",
       "        vertical-align: top;\n",
       "    }\n",
       "\n",
       "    .dataframe thead th {\n",
       "        text-align: right;\n",
       "    }\n",
       "</style>\n",
       "<table border=\"1\" class=\"dataframe\">\n",
       "  <thead>\n",
       "    <tr style=\"text-align: right;\">\n",
       "      <th></th>\n",
       "      <th>month</th>\n",
       "      <th>latabs</th>\n",
       "      <th>elevation</th>\n",
       "      <th>longitude</th>\n",
       "    </tr>\n",
       "    <tr>\n",
       "      <th>station</th>\n",
       "      <th></th>\n",
       "      <th></th>\n",
       "      <th></th>\n",
       "      <th></th>\n",
       "    </tr>\n",
       "  </thead>\n",
       "  <tbody>\n",
       "    <tr>\n",
       "      <th>OKECIE</th>\n",
       "      <td>1</td>\n",
       "      <td>52.166</td>\n",
       "      <td>110.3</td>\n",
       "      <td>20.9670</td>\n",
       "    </tr>\n",
       "    <tr>\n",
       "      <th>LAWICA</th>\n",
       "      <td>8</td>\n",
       "      <td>52.421</td>\n",
       "      <td>93.9</td>\n",
       "      <td>16.8260</td>\n",
       "    </tr>\n",
       "    <tr>\n",
       "      <th>LEBA</th>\n",
       "      <td>11</td>\n",
       "      <td>54.750</td>\n",
       "      <td>2.0</td>\n",
       "      <td>17.5331</td>\n",
       "    </tr>\n",
       "    <tr>\n",
       "      <th>SIEDLCE</th>\n",
       "      <td>10</td>\n",
       "      <td>52.250</td>\n",
       "      <td>152.0</td>\n",
       "      <td>22.2500</td>\n",
       "    </tr>\n",
       "    <tr>\n",
       "      <th>BIALYSTOK</th>\n",
       "      <td>11</td>\n",
       "      <td>53.100</td>\n",
       "      <td>151.0</td>\n",
       "      <td>23.1670</td>\n",
       "    </tr>\n",
       "  </tbody>\n",
       "</table>\n",
       "</div>"
      ],
      "text/plain": [
       "           month  latabs  elevation  longitude\n",
       "station                                       \n",
       "OKECIE         1  52.166      110.3    20.9670\n",
       "LAWICA         8  52.421       93.9    16.8260\n",
       "LEBA          11  54.750        2.0    17.5331\n",
       "SIEDLCE       10  52.250      152.0    22.2500\n",
       "BIALYSTOK     11  53.100      151.0    23.1670"
      ]
     },
     "execution_count": 18,
     "metadata": {},
     "output_type": "execute_result"
    }
   ],
   "source": [
    "tr = fesel.DropDuplicateFeatures()\n",
    "tr.fit(X_train_tr)\n",
    "X_train_tr = tr.transform(X_train_tr)\n",
    "X_train_tr.head()"
   ]
  },
  {
   "cell_type": "markdown",
   "id": "fc50f07c-5c0f-4ebe-93cc-659861ecd49a",
   "metadata": {},
   "source": [
    "^ Features that have the same values as other features are dropped. In this case, the transform drop `latitude`, which has the same values as `latabs`."
   ]
  },
  {
   "cell_type": "markdown",
   "id": "0df70e87-e210-4f95-a735-23c627c3b014",
   "metadata": {},
   "source": [
    "## Encoding categorical features"
   ]
  },
  {
   "cell_type": "markdown",
   "id": "c6be86b9-28cb-416b-8691-a09847b4c916",
   "metadata": {},
   "source": [
    "### One-hot encoding"
   ]
  },
  {
   "cell_type": "markdown",
   "id": "84226413-faef-409a-80d1-ebffaad6e367",
   "metadata": {},
   "source": [
    "One-hot encoding a features creates a binary vector for each value of that feature."
   ]
  },
  {
   "cell_type": "code",
   "execution_count": 3,
   "id": "70473518-9884-4517-8af9-51c896306920",
   "metadata": {
    "tags": []
   },
   "outputs": [],
   "source": [
    "import pandas as pd\n",
    "from feature_engine.encoding import OneHotEncoder\n",
    "from sklearn.model_selection import train_test_split\n",
    "from sklearn.preprocessing import OrdinalEncoder\n",
    "\n",
    "from data.load import load_nls97b"
   ]
  },
  {
   "cell_type": "code",
   "execution_count": 4,
   "id": "8298ffd6-b2bb-4b6a-b5ce-53b58514335c",
   "metadata": {
    "tags": []
   },
   "outputs": [],
   "source": [
    "nls97 = load_nls97b()"
   ]
  },
  {
   "cell_type": "code",
   "execution_count": 5,
   "id": "87c66b3b-8c08-42ff-8250-33b7e9792a69",
   "metadata": {
    "tags": []
   },
   "outputs": [],
   "source": [
    "feature_cols = [\"gender\", \"maritalstatus\", \"colenroct99\"]\n",
    "nls97_demo = nls97[[\"wageincome\"] + feature_cols].dropna()\n",
    "\n",
    "X_demo_train, X_demo_test, y_demo_train, y_demo_test = train_test_split(\n",
    "    nls97_demo[feature_cols], nls97_demo[[\"wageincome\"]], test_size=0.3, random_state=0\n",
    ")"
   ]
  },
  {
   "cell_type": "code",
   "execution_count": 68,
   "id": "96c4a569-bca6-45df-ba3e-10e0155b03ca",
   "metadata": {
    "tags": []
   },
   "outputs": [
    {
     "data": {
      "text/html": [
       "<div>\n",
       "<style scoped>\n",
       "    .dataframe tbody tr th:only-of-type {\n",
       "        vertical-align: middle;\n",
       "    }\n",
       "\n",
       "    .dataframe tbody tr th {\n",
       "        vertical-align: top;\n",
       "    }\n",
       "\n",
       "    .dataframe thead th {\n",
       "        text-align: right;\n",
       "    }\n",
       "</style>\n",
       "<table border=\"1\" class=\"dataframe\">\n",
       "  <thead>\n",
       "    <tr style=\"text-align: right;\">\n",
       "      <th>personid</th>\n",
       "      <th>736081</th>\n",
       "      <th>832734</th>\n",
       "    </tr>\n",
       "  </thead>\n",
       "  <tbody>\n",
       "    <tr>\n",
       "      <th>colenroct99</th>\n",
       "      <td>1. Not enrolled</td>\n",
       "      <td>1. Not enrolled</td>\n",
       "    </tr>\n",
       "    <tr>\n",
       "      <th>gender_Female</th>\n",
       "      <td>1</td>\n",
       "      <td>0</td>\n",
       "    </tr>\n",
       "    <tr>\n",
       "      <th>gender_Male</th>\n",
       "      <td>0</td>\n",
       "      <td>1</td>\n",
       "    </tr>\n",
       "    <tr>\n",
       "      <th>maritalstatus_Divorced</th>\n",
       "      <td>0</td>\n",
       "      <td>0</td>\n",
       "    </tr>\n",
       "    <tr>\n",
       "      <th>maritalstatus_Married</th>\n",
       "      <td>1</td>\n",
       "      <td>0</td>\n",
       "    </tr>\n",
       "    <tr>\n",
       "      <th>maritalstatus_Never-married</th>\n",
       "      <td>0</td>\n",
       "      <td>1</td>\n",
       "    </tr>\n",
       "    <tr>\n",
       "      <th>maritalstatus_Separated</th>\n",
       "      <td>0</td>\n",
       "      <td>0</td>\n",
       "    </tr>\n",
       "    <tr>\n",
       "      <th>maritalstatus_Widowed</th>\n",
       "      <td>0</td>\n",
       "      <td>0</td>\n",
       "    </tr>\n",
       "  </tbody>\n",
       "</table>\n",
       "</div>"
      ],
      "text/plain": [
       "personid                              736081           832734\n",
       "colenroct99                  1. Not enrolled  1. Not enrolled\n",
       "gender_Female                              1                0\n",
       "gender_Male                                0                1\n",
       "maritalstatus_Divorced                     0                0\n",
       "maritalstatus_Married                      1                0\n",
       "maritalstatus_Never-married                0                1\n",
       "maritalstatus_Separated                    0                0\n",
       "maritalstatus_Widowed                      0                0"
      ]
     },
     "execution_count": 68,
     "metadata": {},
     "output_type": "execute_result"
    }
   ],
   "source": [
    "pd.get_dummies(X_demo_train, columns=[\"gender\", \"maritalstatus\"]).head(2).T"
   ]
  },
  {
   "cell_type": "markdown",
   "id": "422f509f-be8c-444e-88ec-fd68275666ba",
   "metadata": {},
   "source": [
    "Typically, we create `k-1` dummy variables for `k` unique values for a feature."
   ]
  },
  {
   "cell_type": "code",
   "execution_count": 7,
   "id": "ddcbca06-3b5a-4ccd-bd10-dc4758fe29ef",
   "metadata": {
    "tags": []
   },
   "outputs": [
    {
     "data": {
      "text/html": [
       "<div>\n",
       "<style scoped>\n",
       "    .dataframe tbody tr th:only-of-type {\n",
       "        vertical-align: middle;\n",
       "    }\n",
       "\n",
       "    .dataframe tbody tr th {\n",
       "        vertical-align: top;\n",
       "    }\n",
       "\n",
       "    .dataframe thead th {\n",
       "        text-align: right;\n",
       "    }\n",
       "</style>\n",
       "<table border=\"1\" class=\"dataframe\">\n",
       "  <thead>\n",
       "    <tr style=\"text-align: right;\">\n",
       "      <th>personid</th>\n",
       "      <th>736081</th>\n",
       "      <th>832734</th>\n",
       "    </tr>\n",
       "  </thead>\n",
       "  <tbody>\n",
       "    <tr>\n",
       "      <th>colenroct99</th>\n",
       "      <td>1. Not enrolled</td>\n",
       "      <td>1. Not enrolled</td>\n",
       "    </tr>\n",
       "    <tr>\n",
       "      <th>gender_Male</th>\n",
       "      <td>0</td>\n",
       "      <td>1</td>\n",
       "    </tr>\n",
       "    <tr>\n",
       "      <th>maritalstatus_Married</th>\n",
       "      <td>1</td>\n",
       "      <td>0</td>\n",
       "    </tr>\n",
       "    <tr>\n",
       "      <th>maritalstatus_Never-married</th>\n",
       "      <td>0</td>\n",
       "      <td>1</td>\n",
       "    </tr>\n",
       "    <tr>\n",
       "      <th>maritalstatus_Separated</th>\n",
       "      <td>0</td>\n",
       "      <td>0</td>\n",
       "    </tr>\n",
       "    <tr>\n",
       "      <th>maritalstatus_Widowed</th>\n",
       "      <td>0</td>\n",
       "      <td>0</td>\n",
       "    </tr>\n",
       "  </tbody>\n",
       "</table>\n",
       "</div>"
      ],
      "text/plain": [
       "personid                              736081           832734\n",
       "colenroct99                  1. Not enrolled  1. Not enrolled\n",
       "gender_Male                                0                1\n",
       "maritalstatus_Married                      1                0\n",
       "maritalstatus_Never-married                0                1\n",
       "maritalstatus_Separated                    0                0\n",
       "maritalstatus_Widowed                      0                0"
      ]
     },
     "execution_count": 7,
     "metadata": {},
     "output_type": "execute_result"
    }
   ],
   "source": [
    "pd.get_dummies(X_demo_train, columns=[\"gender\", \"maritalstatus\"], drop_first=True).head(\n",
    "    2\n",
    ").T"
   ]
  },
  {
   "cell_type": "code",
   "execution_count": 8,
   "id": "00ef820b-3bb9-42dd-99ce-753b282db54e",
   "metadata": {
    "tags": []
   },
   "outputs": [
    {
     "data": {
      "text/html": [
       "<div>\n",
       "<style scoped>\n",
       "    .dataframe tbody tr th:only-of-type {\n",
       "        vertical-align: middle;\n",
       "    }\n",
       "\n",
       "    .dataframe tbody tr th {\n",
       "        vertical-align: top;\n",
       "    }\n",
       "\n",
       "    .dataframe thead th {\n",
       "        text-align: right;\n",
       "    }\n",
       "</style>\n",
       "<table border=\"1\" class=\"dataframe\">\n",
       "  <thead>\n",
       "    <tr style=\"text-align: right;\">\n",
       "      <th>personid</th>\n",
       "      <th>736081</th>\n",
       "      <th>832734</th>\n",
       "    </tr>\n",
       "  </thead>\n",
       "  <tbody>\n",
       "    <tr>\n",
       "      <th>gender_Female</th>\n",
       "      <td>1</td>\n",
       "      <td>0</td>\n",
       "    </tr>\n",
       "    <tr>\n",
       "      <th>maritalstatus_Married</th>\n",
       "      <td>1</td>\n",
       "      <td>0</td>\n",
       "    </tr>\n",
       "    <tr>\n",
       "      <th>maritalstatus_Never-married</th>\n",
       "      <td>0</td>\n",
       "      <td>1</td>\n",
       "    </tr>\n",
       "    <tr>\n",
       "      <th>maritalstatus_Divorced</th>\n",
       "      <td>0</td>\n",
       "      <td>0</td>\n",
       "    </tr>\n",
       "    <tr>\n",
       "      <th>maritalstatus_Separated</th>\n",
       "      <td>0</td>\n",
       "      <td>0</td>\n",
       "    </tr>\n",
       "  </tbody>\n",
       "</table>\n",
       "</div>"
      ],
      "text/plain": [
       "personid                     736081  832734\n",
       "gender_Female                     1       0\n",
       "maritalstatus_Married             1       0\n",
       "maritalstatus_Never-married       0       1\n",
       "maritalstatus_Divorced            0       0\n",
       "maritalstatus_Separated           0       0"
      ]
     },
     "execution_count": 8,
     "metadata": {},
     "output_type": "execute_result"
    }
   ],
   "source": [
    "ohe = OneHotEncoder(drop_last=True, variables=[\"gender\", \"maritalstatus\"])\n",
    "ohe.fit(X_demo_train)\n",
    "\n",
    "X_demo_train_ohe = ohe.transform(X_demo_train)\n",
    "X_demo_test_ohe = ohe.transform(X_demo_test)\n",
    "X_demo_train_ohe.filter(regex=\"gen|mar\", axis=\"columns\").head(2).T"
   ]
  },
  {
   "cell_type": "code",
   "execution_count": 36,
   "id": "ce893af7-a2b7-4d22-bc90-7512787b19fd",
   "metadata": {
    "tags": []
   },
   "outputs": [],
   "source": [
    "import numpy as np\n",
    "from sklearn.preprocessing import OneHotEncoder"
   ]
  },
  {
   "cell_type": "code",
   "execution_count": 61,
   "id": "e9a03083-83fe-45bd-8f83-a89ca0a1892d",
   "metadata": {
    "tags": []
   },
   "outputs": [
    {
     "data": {
      "text/html": [
       "<div>\n",
       "<style scoped>\n",
       "    .dataframe tbody tr th:only-of-type {\n",
       "        vertical-align: middle;\n",
       "    }\n",
       "\n",
       "    .dataframe tbody tr th {\n",
       "        vertical-align: top;\n",
       "    }\n",
       "\n",
       "    .dataframe thead th {\n",
       "        text-align: right;\n",
       "    }\n",
       "</style>\n",
       "<table border=\"1\" class=\"dataframe\">\n",
       "  <thead>\n",
       "    <tr style=\"text-align: right;\">\n",
       "      <th>personid</th>\n",
       "      <th>736081</th>\n",
       "      <th>832734</th>\n",
       "    </tr>\n",
       "  </thead>\n",
       "  <tbody>\n",
       "    <tr>\n",
       "      <th>gender_Male</th>\n",
       "      <td>0.0</td>\n",
       "      <td>1.0</td>\n",
       "    </tr>\n",
       "    <tr>\n",
       "      <th>maritalstatus_Married</th>\n",
       "      <td>1.0</td>\n",
       "      <td>0.0</td>\n",
       "    </tr>\n",
       "    <tr>\n",
       "      <th>maritalstatus_Never-married</th>\n",
       "      <td>0.0</td>\n",
       "      <td>1.0</td>\n",
       "    </tr>\n",
       "    <tr>\n",
       "      <th>maritalstatus_Separated</th>\n",
       "      <td>0.0</td>\n",
       "      <td>0.0</td>\n",
       "    </tr>\n",
       "    <tr>\n",
       "      <th>maritalstatus_Widowed</th>\n",
       "      <td>0.0</td>\n",
       "      <td>0.0</td>\n",
       "    </tr>\n",
       "  </tbody>\n",
       "</table>\n",
       "</div>"
      ],
      "text/plain": [
       "personid                     736081  832734\n",
       "gender_Male                     0.0     1.0\n",
       "maritalstatus_Married           1.0     0.0\n",
       "maritalstatus_Never-married     0.0     1.0\n",
       "maritalstatus_Separated         0.0     0.0\n",
       "maritalstatus_Widowed           0.0     0.0"
      ]
     },
     "execution_count": 61,
     "metadata": {},
     "output_type": "execute_result"
    }
   ],
   "source": [
    "columns = [\"gender\", \"maritalstatus\"]\n",
    "ohe = OneHotEncoder(drop=\"first\")\n",
    "ohe.fit(X_demo_train[columns])\n",
    "\n",
    "X_demo_train_ohe = ohe.transform(X_demo_train[columns])\n",
    "X_demo_train_ohe = pd.DataFrame(\n",
    "    X_demo_train_ohe.toarray(),\n",
    "    columns=ohe.get_feature_names_out(),\n",
    "    index=X_demo_train.index,\n",
    ")\n",
    "X_demo_train_ohe.filter(regex=\"gen|mar\", axis=\"columns\").head(2).T"
   ]
  },
  {
   "cell_type": "markdown",
   "id": "cb82ba1d-6de5-480b-9e77-a2a1a8419ee2",
   "metadata": {},
   "source": [
    "A better option is to use `ColumnTransformer` to transform perform one hot encoding on selected columns."
   ]
  },
  {
   "cell_type": "code",
   "execution_count": 66,
   "id": "5699eabd-fa0a-4906-ba15-9a8104218d51",
   "metadata": {
    "tags": []
   },
   "outputs": [
    {
     "data": {
      "text/html": [
       "<div>\n",
       "<style scoped>\n",
       "    .dataframe tbody tr th:only-of-type {\n",
       "        vertical-align: middle;\n",
       "    }\n",
       "\n",
       "    .dataframe tbody tr th {\n",
       "        vertical-align: top;\n",
       "    }\n",
       "\n",
       "    .dataframe thead th {\n",
       "        text-align: right;\n",
       "    }\n",
       "</style>\n",
       "<table border=\"1\" class=\"dataframe\">\n",
       "  <thead>\n",
       "    <tr style=\"text-align: right;\">\n",
       "      <th></th>\n",
       "      <th>gender_Female</th>\n",
       "      <th>gender_Male</th>\n",
       "      <th>maritalstatus_Divorced</th>\n",
       "      <th>maritalstatus_Married</th>\n",
       "      <th>maritalstatus_Never-married</th>\n",
       "      <th>maritalstatus_Separated</th>\n",
       "      <th>maritalstatus_Widowed</th>\n",
       "      <th>colenroct99</th>\n",
       "    </tr>\n",
       "    <tr>\n",
       "      <th>personid</th>\n",
       "      <th></th>\n",
       "      <th></th>\n",
       "      <th></th>\n",
       "      <th></th>\n",
       "      <th></th>\n",
       "      <th></th>\n",
       "      <th></th>\n",
       "      <th></th>\n",
       "    </tr>\n",
       "  </thead>\n",
       "  <tbody>\n",
       "    <tr>\n",
       "      <th>736081</th>\n",
       "      <td>1.0</td>\n",
       "      <td>0.0</td>\n",
       "      <td>0.0</td>\n",
       "      <td>1.0</td>\n",
       "      <td>0.0</td>\n",
       "      <td>0.0</td>\n",
       "      <td>0.0</td>\n",
       "      <td>1. Not enrolled</td>\n",
       "    </tr>\n",
       "    <tr>\n",
       "      <th>832734</th>\n",
       "      <td>0.0</td>\n",
       "      <td>1.0</td>\n",
       "      <td>0.0</td>\n",
       "      <td>0.0</td>\n",
       "      <td>1.0</td>\n",
       "      <td>0.0</td>\n",
       "      <td>0.0</td>\n",
       "      <td>1. Not enrolled</td>\n",
       "    </tr>\n",
       "    <tr>\n",
       "      <th>453537</th>\n",
       "      <td>0.0</td>\n",
       "      <td>1.0</td>\n",
       "      <td>0.0</td>\n",
       "      <td>1.0</td>\n",
       "      <td>0.0</td>\n",
       "      <td>0.0</td>\n",
       "      <td>0.0</td>\n",
       "      <td>1. Not enrolled</td>\n",
       "    </tr>\n",
       "    <tr>\n",
       "      <th>322059</th>\n",
       "      <td>1.0</td>\n",
       "      <td>0.0</td>\n",
       "      <td>1.0</td>\n",
       "      <td>0.0</td>\n",
       "      <td>0.0</td>\n",
       "      <td>0.0</td>\n",
       "      <td>0.0</td>\n",
       "      <td>1. Not enrolled</td>\n",
       "    </tr>\n",
       "    <tr>\n",
       "      <th>324323</th>\n",
       "      <td>1.0</td>\n",
       "      <td>0.0</td>\n",
       "      <td>0.0</td>\n",
       "      <td>1.0</td>\n",
       "      <td>0.0</td>\n",
       "      <td>0.0</td>\n",
       "      <td>0.0</td>\n",
       "      <td>2. 2-year college</td>\n",
       "    </tr>\n",
       "    <tr>\n",
       "      <th>...</th>\n",
       "      <td>...</td>\n",
       "      <td>...</td>\n",
       "      <td>...</td>\n",
       "      <td>...</td>\n",
       "      <td>...</td>\n",
       "      <td>...</td>\n",
       "      <td>...</td>\n",
       "      <td>...</td>\n",
       "    </tr>\n",
       "    <tr>\n",
       "      <th>975681</th>\n",
       "      <td>0.0</td>\n",
       "      <td>1.0</td>\n",
       "      <td>0.0</td>\n",
       "      <td>1.0</td>\n",
       "      <td>0.0</td>\n",
       "      <td>0.0</td>\n",
       "      <td>0.0</td>\n",
       "      <td>1. Not enrolled</td>\n",
       "    </tr>\n",
       "    <tr>\n",
       "      <th>686050</th>\n",
       "      <td>1.0</td>\n",
       "      <td>0.0</td>\n",
       "      <td>0.0</td>\n",
       "      <td>0.0</td>\n",
       "      <td>1.0</td>\n",
       "      <td>0.0</td>\n",
       "      <td>0.0</td>\n",
       "      <td>1. Not enrolled</td>\n",
       "    </tr>\n",
       "    <tr>\n",
       "      <th>393058</th>\n",
       "      <td>0.0</td>\n",
       "      <td>1.0</td>\n",
       "      <td>0.0</td>\n",
       "      <td>1.0</td>\n",
       "      <td>0.0</td>\n",
       "      <td>0.0</td>\n",
       "      <td>0.0</td>\n",
       "      <td>1. Not enrolled</td>\n",
       "    </tr>\n",
       "    <tr>\n",
       "      <th>565534</th>\n",
       "      <td>0.0</td>\n",
       "      <td>1.0</td>\n",
       "      <td>0.0</td>\n",
       "      <td>1.0</td>\n",
       "      <td>0.0</td>\n",
       "      <td>0.0</td>\n",
       "      <td>0.0</td>\n",
       "      <td>1. Not enrolled</td>\n",
       "    </tr>\n",
       "    <tr>\n",
       "      <th>587358</th>\n",
       "      <td>1.0</td>\n",
       "      <td>0.0</td>\n",
       "      <td>0.0</td>\n",
       "      <td>0.0</td>\n",
       "      <td>1.0</td>\n",
       "      <td>0.0</td>\n",
       "      <td>0.0</td>\n",
       "      <td>1. Not enrolled</td>\n",
       "    </tr>\n",
       "  </tbody>\n",
       "</table>\n",
       "<p>3542 rows × 8 columns</p>\n",
       "</div>"
      ],
      "text/plain": [
       "         gender_Female gender_Male maritalstatus_Divorced  \\\n",
       "personid                                                    \n",
       "736081             1.0         0.0                    0.0   \n",
       "832734             0.0         1.0                    0.0   \n",
       "453537             0.0         1.0                    0.0   \n",
       "322059             1.0         0.0                    1.0   \n",
       "324323             1.0         0.0                    0.0   \n",
       "...                ...         ...                    ...   \n",
       "975681             0.0         1.0                    0.0   \n",
       "686050             1.0         0.0                    0.0   \n",
       "393058             0.0         1.0                    0.0   \n",
       "565534             0.0         1.0                    0.0   \n",
       "587358             1.0         0.0                    0.0   \n",
       "\n",
       "         maritalstatus_Married maritalstatus_Never-married  \\\n",
       "personid                                                     \n",
       "736081                     1.0                         0.0   \n",
       "832734                     0.0                         1.0   \n",
       "453537                     1.0                         0.0   \n",
       "322059                     0.0                         0.0   \n",
       "324323                     1.0                         0.0   \n",
       "...                        ...                         ...   \n",
       "975681                     1.0                         0.0   \n",
       "686050                     0.0                         1.0   \n",
       "393058                     1.0                         0.0   \n",
       "565534                     1.0                         0.0   \n",
       "587358                     0.0                         1.0   \n",
       "\n",
       "         maritalstatus_Separated maritalstatus_Widowed         colenroct99  \n",
       "personid                                                                    \n",
       "736081                       0.0                   0.0     1. Not enrolled  \n",
       "832734                       0.0                   0.0     1. Not enrolled  \n",
       "453537                       0.0                   0.0     1. Not enrolled  \n",
       "322059                       0.0                   0.0     1. Not enrolled  \n",
       "324323                       0.0                   0.0  2. 2-year college   \n",
       "...                          ...                   ...                 ...  \n",
       "975681                       0.0                   0.0     1. Not enrolled  \n",
       "686050                       0.0                   0.0     1. Not enrolled  \n",
       "393058                       0.0                   0.0     1. Not enrolled  \n",
       "565534                       0.0                   0.0     1. Not enrolled  \n",
       "587358                       0.0                   0.0     1. Not enrolled  \n",
       "\n",
       "[3542 rows x 8 columns]"
      ]
     },
     "execution_count": 66,
     "metadata": {},
     "output_type": "execute_result"
    }
   ],
   "source": [
    "from sklearn.compose import make_column_transformer\n",
    "\n",
    "transformer = make_column_transformer(\n",
    "    (OneHotEncoder(), [\"gender\", \"maritalstatus\"]),\n",
    "    remainder=\"passthrough\",\n",
    "    verbose_feature_names_out=False,  # Prevent prefixing columns with `onehotencoder_` and `remainder_`.\n",
    ")\n",
    "transformed = transformer.fit_transform(X_demo_train)\n",
    "pd.DataFrame(\n",
    "    transformed, columns=transformer.get_feature_names_out(), index=X_demo_train.index\n",
    ")"
   ]
  },
  {
   "cell_type": "markdown",
   "id": "56ccd029-a973-4e57-a294-1698c90f4253",
   "metadata": {},
   "source": [
    "### Summary\n",
    "\n",
    "One-hot encoding is a fairly straightforward way to prepare nominal data for a machine learning algorithm."
   ]
  },
  {
   "cell_type": "markdown",
   "id": "4590b444-d328-4b80-afb3-2b5d1b82d634",
   "metadata": {},
   "source": [
    "## Ordinal encoding"
   ]
  },
  {
   "cell_type": "markdown",
   "id": "c021a821-7642-46f0-9466-9e2837c4ebcc",
   "metadata": {},
   "source": [
    "Categorical features can be either nominal or ordinal. Gender and marital status are norminal. Their values do not imply order.\n",
    "\n",
    "However, when a categorical feature is ordinal, we want the encoding to capture the ranking of the values. One-hot encoding will lose this ordering."
   ]
  },
  {
   "cell_type": "code",
   "execution_count": 74,
   "id": "da59dbaf-f60e-4f04-9636-cdca48d9a4fd",
   "metadata": {
    "tags": []
   },
   "outputs": [],
   "source": [
    "from sklearn.model_selection import train_test_split\n",
    "from sklearn.preprocessing import OrdinalEncoder\n",
    "\n",
    "from data.load import load_nls97b\n",
    "\n",
    "nls97 = load_nls97b()\n",
    "feature_cols = [\"gender\", \"maritalstatus\", \"colenroct99\"]\n",
    "nls97_demo = nls97[[\"wageincome\"] + feature_cols].dropna()\n",
    "\n",
    "X_demo_train, X_demo_test, y_demo_train, y_demo_test = train_test_split(\n",
    "    nls97_demo[feature_cols], nls97_demo[[\"wageincome\"]], test_size=0.3, random_state=0\n",
    ")"
   ]
  },
  {
   "cell_type": "markdown",
   "id": "1f8fc575-33e9-43e3-9e92-4d1a2089a679",
   "metadata": {},
   "source": [
    "The college enrollment for October 1999 can be considered an ordinal feature. The values are string, but there is an implied order."
   ]
  },
  {
   "cell_type": "code",
   "execution_count": 71,
   "id": "b104d5bf-6d6a-42f7-8375-ad1501a5918d",
   "metadata": {
    "tags": []
   },
   "outputs": [
    {
     "data": {
      "text/plain": [
       "array(['1. Not enrolled', '2. 2-year college ', '3. 4-year college'],\n",
       "      dtype=object)"
      ]
     },
     "execution_count": 71,
     "metadata": {},
     "output_type": "execute_result"
    }
   ],
   "source": [
    "X_demo_train.colenroct99.unique()"
   ]
  },
  {
   "cell_type": "code",
   "execution_count": 73,
   "id": "3a819393-8fcd-475c-b311-c4716a00651d",
   "metadata": {
    "tags": []
   },
   "outputs": [
    {
     "data": {
      "text/html": [
       "<div>\n",
       "<style scoped>\n",
       "    .dataframe tbody tr th:only-of-type {\n",
       "        vertical-align: middle;\n",
       "    }\n",
       "\n",
       "    .dataframe tbody tr th {\n",
       "        vertical-align: top;\n",
       "    }\n",
       "\n",
       "    .dataframe thead th {\n",
       "        text-align: right;\n",
       "    }\n",
       "</style>\n",
       "<table border=\"1\" class=\"dataframe\">\n",
       "  <thead>\n",
       "    <tr style=\"text-align: right;\">\n",
       "      <th></th>\n",
       "      <th>gender</th>\n",
       "      <th>maritalstatus</th>\n",
       "      <th>colenroct99</th>\n",
       "    </tr>\n",
       "    <tr>\n",
       "      <th>personid</th>\n",
       "      <th></th>\n",
       "      <th></th>\n",
       "      <th></th>\n",
       "    </tr>\n",
       "  </thead>\n",
       "  <tbody>\n",
       "    <tr>\n",
       "      <th>736081</th>\n",
       "      <td>Female</td>\n",
       "      <td>Married</td>\n",
       "      <td>1. Not enrolled</td>\n",
       "    </tr>\n",
       "    <tr>\n",
       "      <th>832734</th>\n",
       "      <td>Male</td>\n",
       "      <td>Never-married</td>\n",
       "      <td>1. Not enrolled</td>\n",
       "    </tr>\n",
       "    <tr>\n",
       "      <th>453537</th>\n",
       "      <td>Male</td>\n",
       "      <td>Married</td>\n",
       "      <td>1. Not enrolled</td>\n",
       "    </tr>\n",
       "    <tr>\n",
       "      <th>322059</th>\n",
       "      <td>Female</td>\n",
       "      <td>Divorced</td>\n",
       "      <td>1. Not enrolled</td>\n",
       "    </tr>\n",
       "    <tr>\n",
       "      <th>324323</th>\n",
       "      <td>Female</td>\n",
       "      <td>Married</td>\n",
       "      <td>2. 2-year college</td>\n",
       "    </tr>\n",
       "  </tbody>\n",
       "</table>\n",
       "</div>"
      ],
      "text/plain": [
       "          gender  maritalstatus         colenroct99\n",
       "personid                                           \n",
       "736081    Female        Married     1. Not enrolled\n",
       "832734      Male  Never-married     1. Not enrolled\n",
       "453537      Male        Married     1. Not enrolled\n",
       "322059    Female       Divorced     1. Not enrolled\n",
       "324323    Female        Married  2. 2-year college "
      ]
     },
     "execution_count": 73,
     "metadata": {},
     "output_type": "execute_result"
    }
   ],
   "source": [
    "X_demo_train.head()"
   ]
  },
  {
   "cell_type": "code",
   "execution_count": 75,
   "id": "89275edf-315c-4617-8d54-75be828bff24",
   "metadata": {
    "tags": []
   },
   "outputs": [
    {
     "data": {
      "text/html": [
       "<div>\n",
       "<style scoped>\n",
       "    .dataframe tbody tr th:only-of-type {\n",
       "        vertical-align: middle;\n",
       "    }\n",
       "\n",
       "    .dataframe tbody tr th {\n",
       "        vertical-align: top;\n",
       "    }\n",
       "\n",
       "    .dataframe thead th {\n",
       "        text-align: right;\n",
       "    }\n",
       "</style>\n",
       "<table border=\"1\" class=\"dataframe\">\n",
       "  <thead>\n",
       "    <tr style=\"text-align: right;\">\n",
       "      <th></th>\n",
       "      <th>colenroct99</th>\n",
       "    </tr>\n",
       "    <tr>\n",
       "      <th>personid</th>\n",
       "      <th></th>\n",
       "    </tr>\n",
       "  </thead>\n",
       "  <tbody>\n",
       "    <tr>\n",
       "      <th>736081</th>\n",
       "      <td>0.0</td>\n",
       "    </tr>\n",
       "    <tr>\n",
       "      <th>832734</th>\n",
       "      <td>0.0</td>\n",
       "    </tr>\n",
       "    <tr>\n",
       "      <th>453537</th>\n",
       "      <td>0.0</td>\n",
       "    </tr>\n",
       "    <tr>\n",
       "      <th>322059</th>\n",
       "      <td>0.0</td>\n",
       "    </tr>\n",
       "    <tr>\n",
       "      <th>324323</th>\n",
       "      <td>1.0</td>\n",
       "    </tr>\n",
       "    <tr>\n",
       "      <th>...</th>\n",
       "      <td>...</td>\n",
       "    </tr>\n",
       "    <tr>\n",
       "      <th>975681</th>\n",
       "      <td>0.0</td>\n",
       "    </tr>\n",
       "    <tr>\n",
       "      <th>686050</th>\n",
       "      <td>0.0</td>\n",
       "    </tr>\n",
       "    <tr>\n",
       "      <th>393058</th>\n",
       "      <td>0.0</td>\n",
       "    </tr>\n",
       "    <tr>\n",
       "      <th>565534</th>\n",
       "      <td>0.0</td>\n",
       "    </tr>\n",
       "    <tr>\n",
       "      <th>587358</th>\n",
       "      <td>0.0</td>\n",
       "    </tr>\n",
       "  </tbody>\n",
       "</table>\n",
       "<p>3542 rows × 1 columns</p>\n",
       "</div>"
      ],
      "text/plain": [
       "          colenroct99\n",
       "personid             \n",
       "736081            0.0\n",
       "832734            0.0\n",
       "453537            0.0\n",
       "322059            0.0\n",
       "324323            1.0\n",
       "...               ...\n",
       "975681            0.0\n",
       "686050            0.0\n",
       "393058            0.0\n",
       "565534            0.0\n",
       "587358            0.0\n",
       "\n",
       "[3542 rows x 1 columns]"
      ]
     },
     "execution_count": 75,
     "metadata": {},
     "output_type": "execute_result"
    }
   ],
   "source": [
    "oe = OrdinalEncoder(categories=[X_demo_train.colenroct99.unique()])\n",
    "colenr_enc = pd.DataFrame(\n",
    "    oe.fit_transform(X_demo_train[[\"colenroct99\"]]),\n",
    "    columns=[\"colenroct99\"],\n",
    "    index=X_demo_train.index,\n",
    ")\n",
    "colenr_enc"
   ]
  },
  {
   "cell_type": "code",
   "execution_count": 77,
   "id": "6764aabf-f555-40d6-b44a-60677703d9c3",
   "metadata": {
    "tags": []
   },
   "outputs": [
    {
     "data": {
      "text/html": [
       "<div>\n",
       "<style scoped>\n",
       "    .dataframe tbody tr th:only-of-type {\n",
       "        vertical-align: middle;\n",
       "    }\n",
       "\n",
       "    .dataframe tbody tr th {\n",
       "        vertical-align: top;\n",
       "    }\n",
       "\n",
       "    .dataframe thead th {\n",
       "        text-align: right;\n",
       "    }\n",
       "</style>\n",
       "<table border=\"1\" class=\"dataframe\">\n",
       "  <thead>\n",
       "    <tr style=\"text-align: right;\">\n",
       "      <th></th>\n",
       "      <th>gender</th>\n",
       "      <th>maritalstatus</th>\n",
       "      <th>colenroct99</th>\n",
       "    </tr>\n",
       "    <tr>\n",
       "      <th>personid</th>\n",
       "      <th></th>\n",
       "      <th></th>\n",
       "      <th></th>\n",
       "    </tr>\n",
       "  </thead>\n",
       "  <tbody>\n",
       "    <tr>\n",
       "      <th>736081</th>\n",
       "      <td>Female</td>\n",
       "      <td>Married</td>\n",
       "      <td>0.0</td>\n",
       "    </tr>\n",
       "    <tr>\n",
       "      <th>832734</th>\n",
       "      <td>Male</td>\n",
       "      <td>Never-married</td>\n",
       "      <td>0.0</td>\n",
       "    </tr>\n",
       "    <tr>\n",
       "      <th>453537</th>\n",
       "      <td>Male</td>\n",
       "      <td>Married</td>\n",
       "      <td>0.0</td>\n",
       "    </tr>\n",
       "    <tr>\n",
       "      <th>322059</th>\n",
       "      <td>Female</td>\n",
       "      <td>Divorced</td>\n",
       "      <td>0.0</td>\n",
       "    </tr>\n",
       "    <tr>\n",
       "      <th>324323</th>\n",
       "      <td>Female</td>\n",
       "      <td>Married</td>\n",
       "      <td>1.0</td>\n",
       "    </tr>\n",
       "    <tr>\n",
       "      <th>...</th>\n",
       "      <td>...</td>\n",
       "      <td>...</td>\n",
       "      <td>...</td>\n",
       "    </tr>\n",
       "    <tr>\n",
       "      <th>975681</th>\n",
       "      <td>Male</td>\n",
       "      <td>Married</td>\n",
       "      <td>0.0</td>\n",
       "    </tr>\n",
       "    <tr>\n",
       "      <th>686050</th>\n",
       "      <td>Female</td>\n",
       "      <td>Never-married</td>\n",
       "      <td>0.0</td>\n",
       "    </tr>\n",
       "    <tr>\n",
       "      <th>393058</th>\n",
       "      <td>Male</td>\n",
       "      <td>Married</td>\n",
       "      <td>0.0</td>\n",
       "    </tr>\n",
       "    <tr>\n",
       "      <th>565534</th>\n",
       "      <td>Male</td>\n",
       "      <td>Married</td>\n",
       "      <td>0.0</td>\n",
       "    </tr>\n",
       "    <tr>\n",
       "      <th>587358</th>\n",
       "      <td>Female</td>\n",
       "      <td>Never-married</td>\n",
       "      <td>0.0</td>\n",
       "    </tr>\n",
       "  </tbody>\n",
       "</table>\n",
       "<p>3542 rows × 3 columns</p>\n",
       "</div>"
      ],
      "text/plain": [
       "          gender  maritalstatus  colenroct99\n",
       "personid                                    \n",
       "736081    Female        Married          0.0\n",
       "832734      Male  Never-married          0.0\n",
       "453537      Male        Married          0.0\n",
       "322059    Female       Divorced          0.0\n",
       "324323    Female        Married          1.0\n",
       "...          ...            ...          ...\n",
       "975681      Male        Married          0.0\n",
       "686050    Female  Never-married          0.0\n",
       "393058      Male        Married          0.0\n",
       "565534      Male        Married          0.0\n",
       "587358    Female  Never-married          0.0\n",
       "\n",
       "[3542 rows x 3 columns]"
      ]
     },
     "execution_count": 77,
     "metadata": {},
     "output_type": "execute_result"
    }
   ],
   "source": [
    "X_demo_train_enc = X_demo_train[[\"gender\", \"maritalstatus\"]].join(colenr_enc)\n",
    "X_demo_train_enc"
   ]
  },
  {
   "cell_type": "code",
   "execution_count": 78,
   "id": "0e7a14dd-877c-45a8-9aff-7793807bdb6c",
   "metadata": {
    "tags": []
   },
   "outputs": [
    {
     "data": {
      "text/plain": [
       "1. Not enrolled       3050\n",
       "2. 2-year college      142\n",
       "3. 4-year college      350\n",
       "Name: colenroct99, dtype: int64"
      ]
     },
     "execution_count": 78,
     "metadata": {},
     "output_type": "execute_result"
    }
   ],
   "source": [
    "X_demo_train.colenroct99.value_counts().sort_index()"
   ]
  },
  {
   "cell_type": "code",
   "execution_count": 79,
   "id": "1e044828-f018-4be2-a09a-8a9eb10f7400",
   "metadata": {
    "tags": []
   },
   "outputs": [
    {
     "data": {
      "text/plain": [
       "0.0    3050\n",
       "1.0     142\n",
       "2.0     350\n",
       "Name: colenroct99, dtype: int64"
      ]
     },
     "execution_count": 79,
     "metadata": {},
     "output_type": "execute_result"
    }
   ],
   "source": [
    "X_demo_train_enc.colenroct99.value_counts().sort_index()"
   ]
  },
  {
   "cell_type": "markdown",
   "id": "c1583621-14bb-487f-8323-5c00aedb9f5a",
   "metadata": {},
   "source": [
    "### Summary\n",
    "\n",
    "The ordinal encoding replaces the initial values for `colenroct99` with numbers from 0 to 2. \n",
    "\n",
    "> Note: Ordinal encoding is appropriate for non-linear models such as decision trees. It might not make sense in a linear regression model because that would assume that the distance between values was equally meaningful across the whole distribution."
   ]
  },
  {
   "cell_type": "markdown",
   "id": "73673934-8b47-4b44-8ec7-410408904378",
   "metadata": {},
   "source": [
    "## Encoding categorical features with medium or high cardinality\n"
   ]
  },
  {
   "cell_type": "markdown",
   "id": "9d5dbaec-2b71-455a-803f-d79202af2c16",
   "metadata": {
    "tags": []
   },
   "source": [
    "It can be impractical to create a dummy variable for each value when working with a categorical feature that has many unique values. \n",
    "\n",
    "There are couple of ways to handle medium or high cardinality:\n",
    "- create dummies for the top k categories and group the remaining into an _other_ category\n",
    "- use feature hashing"
   ]
  },
  {
   "cell_type": "code",
   "execution_count": 83,
   "id": "9ad9e6de-36e3-4f03-8795-7e16d1d001d5",
   "metadata": {
    "tags": []
   },
   "outputs": [],
   "source": [
    "!pip install -qq category_encoders\n",
    "import pandas as pd\n",
    "from category_encoders.hashing import HashingEncoder\n",
    "from feature_engine.encoding import OneHotEncoder\n",
    "from sklearn.model_selection import train_test_split\n",
    "\n",
    "from data.load import load_covid"
   ]
  },
  {
   "cell_type": "code",
   "execution_count": 85,
   "id": "b59baf73-96d9-497c-be2b-37007b2b1cdd",
   "metadata": {
    "tags": []
   },
   "outputs": [],
   "source": [
    "covid = load_covid()\n",
    "feature_cols = [\n",
    "    \"location\",\n",
    "    \"population\",\n",
    "    \"aged_65_older\",\n",
    "    \"diabetes_prevalence\",\n",
    "    \"region\",\n",
    "]\n",
    "covid = covid[[\"total_cases\"] + feature_cols].dropna()"
   ]
  },
  {
   "cell_type": "code",
   "execution_count": 88,
   "id": "b9dc47ab-65d8-41cd-b620-98220d54d838",
   "metadata": {
    "tags": []
   },
   "outputs": [],
   "source": [
    "X_train, X_test, y_train, y_test = train_test_split(\n",
    "    covid[feature_cols], covid[[\"total_cases\"]], test_size=0.3, random_state=0\n",
    ")"
   ]
  },
  {
   "cell_type": "markdown",
   "id": "64840646-8b25-4dbd-991a-02692f274c72",
   "metadata": {},
   "source": [
    "The feature `region` has 16 unique values."
   ]
  },
  {
   "cell_type": "code",
   "execution_count": 89,
   "id": "f3d519bb-21ea-4134-8068-d5c5b0e49afc",
   "metadata": {
    "tags": []
   },
   "outputs": [
    {
     "data": {
      "text/plain": [
       "Eastern Europe     16\n",
       "East Asia          12\n",
       "Western Europe     12\n",
       "West Africa        11\n",
       "West Asia          10\n",
       "East Africa        10\n",
       "South Asia          7\n",
       "Southern Africa     7\n",
       "South America       7\n",
       "Central Africa      7\n",
       "Oceania / Aus       6\n",
       "Caribbean           6\n",
       "Central Asia        5\n",
       "North Africa        4\n",
       "Central America     3\n",
       "North America       3\n",
       "Name: region, dtype: int64"
      ]
     },
     "execution_count": 89,
     "metadata": {},
     "output_type": "execute_result"
    }
   ],
   "source": [
    "X_train.region.value_counts()"
   ]
  },
  {
   "cell_type": "markdown",
   "id": "62333cd7-0abf-4907-af5a-ca01da47e340",
   "metadata": {},
   "source": [
    "We use the `OneHotEncoder` module from `feature_engine` to encode the `region` feature. This time, we use the `top_categories` parameter to indicate that we only want to create dummmies for the top six category values. Any values that do not fall into the top six will have a 0 for all of the dummies."
   ]
  },
  {
   "cell_type": "code",
   "execution_count": 90,
   "id": "16c133b5-ff38-4759-8a4e-3c49c55a6f9d",
   "metadata": {
    "tags": []
   },
   "outputs": [
    {
     "data": {
      "text/html": [
       "<div>\n",
       "<style scoped>\n",
       "    .dataframe tbody tr th:only-of-type {\n",
       "        vertical-align: middle;\n",
       "    }\n",
       "\n",
       "    .dataframe tbody tr th {\n",
       "        vertical-align: top;\n",
       "    }\n",
       "\n",
       "    .dataframe thead th {\n",
       "        text-align: right;\n",
       "    }\n",
       "</style>\n",
       "<table border=\"1\" class=\"dataframe\">\n",
       "  <thead>\n",
       "    <tr style=\"text-align: right;\">\n",
       "      <th>iso_code</th>\n",
       "      <th>ISR</th>\n",
       "      <th>SEN</th>\n",
       "      <th>IDN</th>\n",
       "      <th>LKA</th>\n",
       "      <th>KEN</th>\n",
       "    </tr>\n",
       "  </thead>\n",
       "  <tbody>\n",
       "    <tr>\n",
       "      <th>location</th>\n",
       "      <td>Israel</td>\n",
       "      <td>Senegal</td>\n",
       "      <td>Indonesia</td>\n",
       "      <td>Sri Lanka</td>\n",
       "      <td>Kenya</td>\n",
       "    </tr>\n",
       "    <tr>\n",
       "      <th>region_Eastern Europe</th>\n",
       "      <td>0</td>\n",
       "      <td>0</td>\n",
       "      <td>0</td>\n",
       "      <td>0</td>\n",
       "      <td>0</td>\n",
       "    </tr>\n",
       "    <tr>\n",
       "      <th>region_Western Europe</th>\n",
       "      <td>0</td>\n",
       "      <td>0</td>\n",
       "      <td>0</td>\n",
       "      <td>0</td>\n",
       "      <td>0</td>\n",
       "    </tr>\n",
       "    <tr>\n",
       "      <th>region_West Africa</th>\n",
       "      <td>0</td>\n",
       "      <td>1</td>\n",
       "      <td>0</td>\n",
       "      <td>0</td>\n",
       "      <td>0</td>\n",
       "    </tr>\n",
       "    <tr>\n",
       "      <th>region_East Asia</th>\n",
       "      <td>0</td>\n",
       "      <td>0</td>\n",
       "      <td>1</td>\n",
       "      <td>0</td>\n",
       "      <td>0</td>\n",
       "    </tr>\n",
       "    <tr>\n",
       "      <th>region_West Asia</th>\n",
       "      <td>1</td>\n",
       "      <td>0</td>\n",
       "      <td>0</td>\n",
       "      <td>0</td>\n",
       "      <td>0</td>\n",
       "    </tr>\n",
       "    <tr>\n",
       "      <th>region_East Africa</th>\n",
       "      <td>0</td>\n",
       "      <td>0</td>\n",
       "      <td>0</td>\n",
       "      <td>0</td>\n",
       "      <td>1</td>\n",
       "    </tr>\n",
       "  </tbody>\n",
       "</table>\n",
       "</div>"
      ],
      "text/plain": [
       "iso_code                  ISR      SEN        IDN        LKA    KEN\n",
       "location               Israel  Senegal  Indonesia  Sri Lanka  Kenya\n",
       "region_Eastern Europe       0        0          0          0      0\n",
       "region_Western Europe       0        0          0          0      0\n",
       "region_West Africa          0        1          0          0      0\n",
       "region_East Asia            0        0          1          0      0\n",
       "region_West Asia            1        0          0          0      0\n",
       "region_East Africa          0        0          0          0      1"
      ]
     },
     "execution_count": 90,
     "metadata": {},
     "output_type": "execute_result"
    }
   ],
   "source": [
    "ohe = OneHotEncoder(top_categories=6, variables=[\"region\"])\n",
    "covid_ohe = ohe.fit_transform(covid)\n",
    "covid_ohe.filter(regex=\"location|region\", axis=\"columns\").sample(5, random_state=99).T"
   ]
  },
  {
   "cell_type": "markdown",
   "id": "140f3520-dba8-450b-9107-547296bba413",
   "metadata": {},
   "source": [
    "An alternative approach to one-hot encoding, when a _categorical feature_ has many unique values, is to use __feature hashing__."
   ]
  },
  {
   "cell_type": "markdown",
   "id": "78072a19-dad4-421a-94ff-866107fa9e77",
   "metadata": {},
   "source": [
    "### Feature Hashing"
   ]
  },
  {
   "cell_type": "markdown",
   "id": "601144ba-343e-4c4b-8426-04f60db0c30e",
   "metadata": {},
   "source": [
    "Feature hashing maps a large number of unique feature values to a smaller number of dummy variables. We can specify the number of dummy variables to create. However, collisions are possible; that is, some feature values might map to the same dummy variable combination. The number of collisions increases as we decrease the number of requested dummy variables."
   ]
  },
  {
   "cell_type": "code",
   "execution_count": 93,
   "id": "4834c9f5-11bd-4fb6-80cf-a4a157a185dc",
   "metadata": {
    "tags": []
   },
   "outputs": [],
   "source": [
    "from category_encoders import HashingEncoder\n",
    "\n",
    "from data.load import load_covid"
   ]
  },
  {
   "cell_type": "code",
   "execution_count": 94,
   "id": "d576435f-652a-4467-942f-a145d629d72a",
   "metadata": {
    "tags": []
   },
   "outputs": [],
   "source": [
    "covid = load_covid()\n",
    "feature_cols = [\n",
    "    \"location\",\n",
    "    \"population\",\n",
    "    \"aged_65_older\",\n",
    "    \"diabetes_prevalence\",\n",
    "    \"region\",\n",
    "]\n",
    "covid = covid[[\"total_cases\"] + feature_cols].dropna()"
   ]
  },
  {
   "cell_type": "code",
   "execution_count": 95,
   "id": "76ca3578-c6eb-429c-9da0-786b82766e4c",
   "metadata": {
    "tags": []
   },
   "outputs": [],
   "source": [
    "X_train, X_test, y_train, y_test = train_test_split(\n",
    "    covid[feature_cols], covid[[\"total_cases\"]], test_size=0.3, random_state=0\n",
    ")"
   ]
  },
  {
   "cell_type": "code",
   "execution_count": 96,
   "id": "b54815dd-9fa1-4063-a143-1e1e1594ad0c",
   "metadata": {
    "tags": []
   },
   "outputs": [
    {
     "data": {
      "text/html": [
       "<div>\n",
       "<style scoped>\n",
       "    .dataframe tbody tr th:only-of-type {\n",
       "        vertical-align: middle;\n",
       "    }\n",
       "\n",
       "    .dataframe tbody tr th {\n",
       "        vertical-align: top;\n",
       "    }\n",
       "\n",
       "    .dataframe thead th {\n",
       "        text-align: right;\n",
       "    }\n",
       "</style>\n",
       "<table border=\"1\" class=\"dataframe\">\n",
       "  <thead>\n",
       "    <tr style=\"text-align: right;\">\n",
       "      <th></th>\n",
       "      <th>col_0</th>\n",
       "      <th>col_1</th>\n",
       "      <th>col_2</th>\n",
       "      <th>col_3</th>\n",
       "      <th>col_4</th>\n",
       "      <th>col_5</th>\n",
       "      <th>region2</th>\n",
       "      <th>count</th>\n",
       "    </tr>\n",
       "  </thead>\n",
       "  <tbody>\n",
       "    <tr>\n",
       "      <th>0</th>\n",
       "      <td>0</td>\n",
       "      <td>0</td>\n",
       "      <td>0</td>\n",
       "      <td>0</td>\n",
       "      <td>0</td>\n",
       "      <td>1</td>\n",
       "      <td>Caribbean</td>\n",
       "      <td>6</td>\n",
       "    </tr>\n",
       "    <tr>\n",
       "      <th>1</th>\n",
       "      <td>0</td>\n",
       "      <td>0</td>\n",
       "      <td>0</td>\n",
       "      <td>0</td>\n",
       "      <td>0</td>\n",
       "      <td>1</td>\n",
       "      <td>Central Africa</td>\n",
       "      <td>7</td>\n",
       "    </tr>\n",
       "    <tr>\n",
       "      <th>2</th>\n",
       "      <td>0</td>\n",
       "      <td>0</td>\n",
       "      <td>0</td>\n",
       "      <td>0</td>\n",
       "      <td>0</td>\n",
       "      <td>1</td>\n",
       "      <td>East Africa</td>\n",
       "      <td>10</td>\n",
       "    </tr>\n",
       "    <tr>\n",
       "      <th>3</th>\n",
       "      <td>0</td>\n",
       "      <td>0</td>\n",
       "      <td>0</td>\n",
       "      <td>0</td>\n",
       "      <td>0</td>\n",
       "      <td>1</td>\n",
       "      <td>North Africa</td>\n",
       "      <td>4</td>\n",
       "    </tr>\n",
       "    <tr>\n",
       "      <th>4</th>\n",
       "      <td>0</td>\n",
       "      <td>0</td>\n",
       "      <td>0</td>\n",
       "      <td>0</td>\n",
       "      <td>1</td>\n",
       "      <td>0</td>\n",
       "      <td>Central America</td>\n",
       "      <td>3</td>\n",
       "    </tr>\n",
       "    <tr>\n",
       "      <th>5</th>\n",
       "      <td>0</td>\n",
       "      <td>0</td>\n",
       "      <td>0</td>\n",
       "      <td>0</td>\n",
       "      <td>1</td>\n",
       "      <td>0</td>\n",
       "      <td>Eastern Europe</td>\n",
       "      <td>16</td>\n",
       "    </tr>\n",
       "    <tr>\n",
       "      <th>6</th>\n",
       "      <td>0</td>\n",
       "      <td>0</td>\n",
       "      <td>0</td>\n",
       "      <td>0</td>\n",
       "      <td>1</td>\n",
       "      <td>0</td>\n",
       "      <td>North America</td>\n",
       "      <td>3</td>\n",
       "    </tr>\n",
       "    <tr>\n",
       "      <th>7</th>\n",
       "      <td>0</td>\n",
       "      <td>0</td>\n",
       "      <td>0</td>\n",
       "      <td>0</td>\n",
       "      <td>1</td>\n",
       "      <td>0</td>\n",
       "      <td>Oceania / Aus</td>\n",
       "      <td>6</td>\n",
       "    </tr>\n",
       "    <tr>\n",
       "      <th>8</th>\n",
       "      <td>0</td>\n",
       "      <td>0</td>\n",
       "      <td>0</td>\n",
       "      <td>0</td>\n",
       "      <td>1</td>\n",
       "      <td>0</td>\n",
       "      <td>Southern Africa</td>\n",
       "      <td>7</td>\n",
       "    </tr>\n",
       "    <tr>\n",
       "      <th>9</th>\n",
       "      <td>0</td>\n",
       "      <td>0</td>\n",
       "      <td>0</td>\n",
       "      <td>0</td>\n",
       "      <td>1</td>\n",
       "      <td>0</td>\n",
       "      <td>West Asia</td>\n",
       "      <td>10</td>\n",
       "    </tr>\n",
       "    <tr>\n",
       "      <th>10</th>\n",
       "      <td>0</td>\n",
       "      <td>0</td>\n",
       "      <td>0</td>\n",
       "      <td>0</td>\n",
       "      <td>1</td>\n",
       "      <td>0</td>\n",
       "      <td>Western Europe</td>\n",
       "      <td>12</td>\n",
       "    </tr>\n",
       "    <tr>\n",
       "      <th>11</th>\n",
       "      <td>0</td>\n",
       "      <td>0</td>\n",
       "      <td>0</td>\n",
       "      <td>1</td>\n",
       "      <td>0</td>\n",
       "      <td>0</td>\n",
       "      <td>Central Asia</td>\n",
       "      <td>5</td>\n",
       "    </tr>\n",
       "    <tr>\n",
       "      <th>12</th>\n",
       "      <td>0</td>\n",
       "      <td>0</td>\n",
       "      <td>0</td>\n",
       "      <td>1</td>\n",
       "      <td>0</td>\n",
       "      <td>0</td>\n",
       "      <td>East Asia</td>\n",
       "      <td>12</td>\n",
       "    </tr>\n",
       "    <tr>\n",
       "      <th>13</th>\n",
       "      <td>0</td>\n",
       "      <td>0</td>\n",
       "      <td>0</td>\n",
       "      <td>1</td>\n",
       "      <td>0</td>\n",
       "      <td>0</td>\n",
       "      <td>South Asia</td>\n",
       "      <td>7</td>\n",
       "    </tr>\n",
       "    <tr>\n",
       "      <th>14</th>\n",
       "      <td>0</td>\n",
       "      <td>0</td>\n",
       "      <td>1</td>\n",
       "      <td>0</td>\n",
       "      <td>0</td>\n",
       "      <td>0</td>\n",
       "      <td>West Africa</td>\n",
       "      <td>11</td>\n",
       "    </tr>\n",
       "    <tr>\n",
       "      <th>15</th>\n",
       "      <td>1</td>\n",
       "      <td>0</td>\n",
       "      <td>0</td>\n",
       "      <td>0</td>\n",
       "      <td>0</td>\n",
       "      <td>0</td>\n",
       "      <td>South America</td>\n",
       "      <td>7</td>\n",
       "    </tr>\n",
       "  </tbody>\n",
       "</table>\n",
       "</div>"
      ],
      "text/plain": [
       "    col_0  col_1  col_2  col_3  col_4  col_5          region2  count\n",
       "0       0      0      0      0      0      1        Caribbean      6\n",
       "1       0      0      0      0      0      1   Central Africa      7\n",
       "2       0      0      0      0      0      1      East Africa     10\n",
       "3       0      0      0      0      0      1     North Africa      4\n",
       "4       0      0      0      0      1      0  Central America      3\n",
       "5       0      0      0      0      1      0   Eastern Europe     16\n",
       "6       0      0      0      0      1      0    North America      3\n",
       "7       0      0      0      0      1      0    Oceania / Aus      6\n",
       "8       0      0      0      0      1      0  Southern Africa      7\n",
       "9       0      0      0      0      1      0        West Asia     10\n",
       "10      0      0      0      0      1      0   Western Europe     12\n",
       "11      0      0      0      1      0      0     Central Asia      5\n",
       "12      0      0      0      1      0      0        East Asia     12\n",
       "13      0      0      0      1      0      0       South Asia      7\n",
       "14      0      0      1      0      0      0      West Africa     11\n",
       "15      1      0      0      0      0      0    South America      7"
      ]
     },
     "execution_count": 96,
     "metadata": {},
     "output_type": "execute_result"
    }
   ],
   "source": [
    "X_train[\"region2\"] = X_train.region\n",
    "he = HashingEncoder(cols=[\"region\"], n_components=6)\n",
    "X_train_enc = he.fit_transform(X_train)\n",
    "X_train_enc.groupby(\n",
    "    [\"col_0\", \"col_1\", \"col_2\", \"col_3\", \"col_4\", \"col_5\", \"region2\"]\n",
    ").size().reset_index().rename(columns={0: \"count\"})"
   ]
  },
  {
   "cell_type": "markdown",
   "id": "899f2c5d-ef20-47f5-a102-58fdc0f6484a",
   "metadata": {},
   "source": [
    "^ Unfortunately, this gives us a large number of collisions. For example, Carribean, Central Africa, East Africa and North Africa all get the same dummy variable values."
   ]
  },
  {
   "cell_type": "markdown",
   "id": "5ebc3277-0ce9-49f9-b706-c47dc42402f7",
   "metadata": {},
   "source": [
    "## Using mathematical transformations\n",
    "\n",
    "\n",
    "Sometimes, we want to use features that do no have a Gaussian distribution with a machine learning algorithm that assumes our features are distributed in that way.\n",
    "\n",
    "We can either use different algorithm (e.g. use KNN rather than linear regression) or transform our features so that they approximate a Gaussian distribution."
   ]
  },
  {
   "cell_type": "code",
   "execution_count": 123,
   "id": "9873b5f4-4fb7-4dda-8172-cc27824f70fa",
   "metadata": {
    "tags": []
   },
   "outputs": [],
   "source": [
    "import matplotlib.pyplot as plt\n",
    "import pandas as pd\n",
    "from scipy import stats\n",
    "from sklearn.model_selection import train_test_split\n",
    "from sklearn.preprocessing import FunctionTransformer, power_transform\n",
    "\n",
    "from data.load import load_covid"
   ]
  },
  {
   "cell_type": "code",
   "execution_count": 100,
   "id": "304faf58-651f-4c0a-a2bf-9ecb24e03906",
   "metadata": {
    "tags": []
   },
   "outputs": [],
   "source": [
    "covid = load_covid()\n",
    "feature_cols = [\n",
    "    \"location\",\n",
    "    \"population\",\n",
    "    \"aged_65_older\",\n",
    "    \"diabetes_prevalence\",\n",
    "    \"region\",\n",
    "]\n",
    "covid = covid[[\"total_cases\"] + feature_cols].dropna()\n",
    "X_train, X_test, y_train, y_test = train_test_split(\n",
    "    covid[feature_cols], covid[[\"total_cases\"]], test_size=0.3, random_state=0\n",
    ")"
   ]
  },
  {
   "cell_type": "markdown",
   "id": "55777085-a66d-4d45-afea-c121f0f2ea89",
   "metadata": {},
   "source": [
    "Let's take a look at how the total number of cases by country is distributed. We should also calculate the skew."
   ]
  },
  {
   "cell_type": "code",
   "execution_count": 101,
   "id": "4a465442-9aca-4390-9c67-da59c34d77f0",
   "metadata": {
    "tags": []
   },
   "outputs": [
    {
     "data": {
      "text/plain": [
       "6.313169268923333"
      ]
     },
     "execution_count": 101,
     "metadata": {},
     "output_type": "execute_result"
    }
   ],
   "source": [
    "y_train.total_cases.skew()"
   ]
  },
  {
   "cell_type": "code",
   "execution_count": 111,
   "id": "6c04a7f2-ba4b-4cca-bdae-a9a6352a9645",
   "metadata": {
    "tags": []
   },
   "outputs": [
    {
     "data": {
      "text/plain": [
       "[Text(0.5, 1.0, 'Total COVID Cases (in millions)'),\n",
       " Text(0.5, 0, 'Cases'),\n",
       " Text(0, 0.5, 'Number of Countries')]"
      ]
     },
     "execution_count": 111,
     "metadata": {},
     "output_type": "execute_result"
    },
    {
     "data": {
      "image/png": "[encoded data removed]",
      "text/plain": [
       "<Figure size 432x288 with 1 Axes>"
      ]
     },
     "metadata": {
      "needs_background": "light"
     },
     "output_type": "display_data"
    }
   ],
   "source": [
    "fig, ax = plt.subplots()\n",
    "y_train.hist(ax=ax)\n",
    "ax.set(\n",
    "    title=\"Total COVID Cases (in millions)\",\n",
    "    xlabel=\"Cases\",\n",
    "    ylabel=\"Number of Countries\",\n",
    ")"
   ]
  },
  {
   "cell_type": "markdown",
   "id": "e65b1520-6005-43e4-8699-612705230228",
   "metadata": {},
   "source": [
    "^ This illustrates a very high skew for the total number of cases. In fact, it looks log-normal, which is not surprising given the large number of very low values and several very high values."
   ]
  },
  {
   "cell_type": "code",
   "execution_count": 131,
   "id": "0cb8afaa-ca4e-49dd-9d90-c4c19120ecf1",
   "metadata": {
    "tags": []
   },
   "outputs": [
    {
     "data": {
      "text/plain": [
       "-1.3872728024141519"
      ]
     },
     "execution_count": 131,
     "metadata": {},
     "output_type": "execute_result"
    }
   ],
   "source": [
    "y_train_log = FunctionTransformer(np.log).fit_transform(y_train.total_cases)\n",
    "y_train_log.skew()  # We have negative skew."
   ]
  },
  {
   "cell_type": "code",
   "execution_count": 134,
   "id": "ff09a2cd-ab23-4e1f-8b1b-27d39cc4fd60",
   "metadata": {
    "tags": []
   },
   "outputs": [
    {
     "data": {
      "image/png": "[encoded data removed]",
      "text/plain": [
       "<Figure size 432x288 with 1 Axes>"
      ]
     },
     "metadata": {
      "needs_background": "light"
     },
     "output_type": "display_data"
    }
   ],
   "source": [
    "fig, ax = plt.subplots()\n",
    "y_train_log.hist(ax=ax)\n",
    "_ = ax.set(\n",
    "    title=\"Total COVID Cases (log transformation)\",\n",
    "    xlabel=\"Cases\",\n",
    "    ylabel=\"Number of Countries\",\n",
    ")"
   ]
  },
  {
   "cell_type": "code",
   "execution_count": 143,
   "id": "20c5821d-e51a-45f3-af6b-918b0875c20d",
   "metadata": {
    "tags": []
   },
   "outputs": [
    {
     "data": {
      "text/plain": [
       "0.07333475786753518"
      ]
     },
     "execution_count": 143,
     "metadata": {},
     "output_type": "execute_result"
    }
   ],
   "source": [
    "y_train_boxcox = power_transform(y_train, method=\"box-cox\")\n",
    "y_train_boxcox = pd.DataFrame(\n",
    "    y_train_boxcox, columns=[\"total_cases\"], index=y_train.index\n",
    ")\n",
    "y_train_boxcox.total_cases.skew()"
   ]
  },
  {
   "cell_type": "code",
   "execution_count": 142,
   "id": "eebd18c9-b317-4c31-bbb8-ba0b329643a9",
   "metadata": {
    "tags": []
   },
   "outputs": [
    {
     "data": {
      "text/plain": [
       "[Text(0.5, 1.0, 'Total COVID Cases (Box-Cox transformation'),\n",
       " Text(0.5, 0, 'Cases'),\n",
       " Text(0, 0.5, 'Number of Countries')]"
      ]
     },
     "execution_count": 142,
     "metadata": {},
     "output_type": "execute_result"
    },
    {
     "data": {
      "image/png": "[encoded data removed]",
      "text/plain": [
       "<Figure size 432x288 with 1 Axes>"
      ]
     },
     "metadata": {
      "needs_background": "light"
     },
     "output_type": "display_data"
    }
   ],
   "source": [
    "fig, ax = plt.subplots()\n",
    "y_train_boxcox.total_cases.hist(ax=ax)\n",
    "ax.set(\n",
    "    title=\"Total COVID Cases (Box-Cox transformation\",\n",
    "    xlabel=\"Cases\",\n",
    "    ylabel=\"Number of Countries\",\n",
    ")"
   ]
  },
  {
   "cell_type": "markdown",
   "id": "2aa6b3b6-76d4-405a-8d18-4a592b2b8788",
   "metadata": {},
   "source": [
    "Box-Cox transformation identify a value for lambda between -5 and 5 and generates distribution that is closes to normal."
   ]
  },
  {
   "cell_type": "code",
   "execution_count": 144,
   "id": "30b9e120-34f4-4898-8d9d-84ce769d9023",
   "metadata": {
    "tags": []
   },
   "outputs": [
    {
     "data": {
      "text/plain": [
       "0.10435377585681517"
      ]
     },
     "execution_count": 144,
     "metadata": {},
     "output_type": "execute_result"
    }
   ],
   "source": [
    "boxcox_lambda = stats.boxcox(y_train.total_cases)[1]\n",
    "boxcox_lambda"
   ]
  },
  {
   "cell_type": "markdown",
   "id": "852ec909-59e1-471d-8645-6e5714619357",
   "metadata": {},
   "source": [
    "^ The lambda for the __Box-Cox__ transformation is 0.104. For comparison, the lambda for a feature with a Gaussian distribution would be 1.000, meaning that no transformation would be necessary."
   ]
  },
  {
   "cell_type": "markdown",
   "id": "233421c3-2bb8-4b58-b7f2-8aafec6e6c1a",
   "metadata": {},
   "source": [
    "## Feature Binning"
   ]
  },
  {
   "cell_type": "markdown",
   "id": "fd78cdcd-d5a1-4b5f-987f-cd9407d3cbdf",
   "metadata": {},
   "source": [
    "Sometimes, we will want to convert a continuous feature into a categorical feature. The processing of creating _k_ equally spaced intervals from the minimum to the maximum value of a distribution is called __binning__ (or __discretization__).\n",
    "\n",
    "\n",
    "Binning can address several important issues with a feature: skew, excessive kurtosis, and the presence of outliers."
   ]
  },
  {
   "cell_type": "markdown",
   "id": "2cffd9b6-5d10-4da8-bcca-d7ca981b1d02",
   "metadata": {},
   "source": [
    "### Equal-width and equal-frequency binning"
   ]
  },
  {
   "cell_type": "code",
   "execution_count": 168,
   "id": "2a28caa1-649b-4e81-99cb-be63b9cba36f",
   "metadata": {
    "tags": []
   },
   "outputs": [],
   "source": [
    "import pandas as pd\n",
    "from feature_engine.discretisation import EqualFrequencyDiscretiser as efd\n",
    "from feature_engine.discretisation import EqualWidthDiscretiser as ewd\n",
    "from sklearn.model_selection import train_test_split\n",
    "from sklearn.preprocessing import KBinsDiscretizer\n",
    "\n",
    "from data.load import load_covid"
   ]
  },
  {
   "cell_type": "code",
   "execution_count": 169,
   "id": "cae76e4d-22fe-4393-8eef-02f4c478777f",
   "metadata": {
    "tags": []
   },
   "outputs": [],
   "source": [
    "covid = load_covid()\n",
    "feature_cols = [\n",
    "    \"location\",\n",
    "    \"population\",\n",
    "    \"aged_65_older\",\n",
    "    \"diabetes_prevalence\",\n",
    "    \"region\",\n",
    "]\n",
    "covid = covid[[\"total_cases\"] + feature_cols].dropna()\n",
    "X_train, X_test, y_train, y_test = train_test_split(\n",
    "    covid[feature_cols], covid[[\"total_cases\"]], test_size=0.3, random_state=0\n",
    ")"
   ]
  },
  {
   "cell_type": "code",
   "execution_count": 170,
   "id": "5562b017-6637-4b6d-af41-f79b293425e2",
   "metadata": {
    "tags": []
   },
   "outputs": [],
   "source": [
    "y_train[\"total_cases_group\"] = pd.qcut(\n",
    "    y_train.total_cases, q=10, labels=np.arange(0, 10)\n",
    ")"
   ]
  },
  {
   "cell_type": "code",
   "execution_count": 171,
   "id": "4f425f09-7c31-4d02-b9b7-17fa04d436d7",
   "metadata": {
    "tags": []
   },
   "outputs": [
    {
     "data": {
      "text/plain": [
       "0    13\n",
       "1    13\n",
       "2    12\n",
       "3    13\n",
       "4    12\n",
       "5    13\n",
       "6    12\n",
       "7    13\n",
       "8    12\n",
       "9    13\n",
       "Name: total_cases_group, dtype: int64"
      ]
     },
     "execution_count": 171,
     "metadata": {},
     "output_type": "execute_result"
    }
   ],
   "source": [
    "y_train.total_cases_group.value_counts().sort_index()"
   ]
  },
  {
   "cell_type": "code",
   "execution_count": 172,
   "id": "5b0e81f4-c444-48cf-bf87-5a33e4d277ad",
   "metadata": {
    "tags": []
   },
   "outputs": [],
   "source": [
    "def run_transform(bt, train_df, test_df):\n",
    "    bt.fit(train_df)\n",
    "    train_bins = bt.transform(train_df)\n",
    "    test_bins = bt.transform(test_df)\n",
    "    return train_bins, test_bins"
   ]
  },
  {
   "cell_type": "code",
   "execution_count": 173,
   "id": "3c534b89-5310-4d01-9769-7ccf26f603b0",
   "metadata": {
    "tags": []
   },
   "outputs": [
    {
     "data": {
      "text/plain": [
       "0    13\n",
       "1    13\n",
       "2    12\n",
       "3    13\n",
       "4    12\n",
       "5    13\n",
       "6    12\n",
       "7    13\n",
       "8    12\n",
       "9    13\n",
       "Name: total_cases, dtype: int64"
      ]
     },
     "execution_count": 173,
     "metadata": {},
     "output_type": "execute_result"
    }
   ],
   "source": [
    "bin_transformer = efd()\n",
    "y_train.drop([\"total_cases_group\"], axis=1, inplace=True, errors=\"ignore\")\n",
    "y_train_bins, y_test_bins = run_transform(bin_transformer, y_train, y_test)\n",
    "y_train_bins.total_cases.value_counts().sort_index()"
   ]
  },
  {
   "cell_type": "markdown",
   "id": "958bfa37-2846-495f-9264-fdca1174dc94",
   "metadata": {},
   "source": [
    "^ This gives us the same result as `qcut`, but it has an advantage of being easier to bring into a machine learning pipeline."
   ]
  },
  {
   "cell_type": "code",
   "execution_count": 174,
   "id": "f4283849-40c4-4923-8c21-9f69beec9652",
   "metadata": {
    "tags": []
   },
   "outputs": [
    {
     "data": {
      "text/plain": [
       "0    119\n",
       "1      4\n",
       "5      1\n",
       "9      2\n",
       "Name: total_cases, dtype: int64"
      ]
     },
     "execution_count": 174,
     "metadata": {},
     "output_type": "execute_result"
    }
   ],
   "source": [
    "bin_transformer = ewd(bins=10, variables=[\"total_cases\"])\n",
    "y_train_bins, y_test_bins = run_transform(bin_transformer, y_train, y_test)\n",
    "y_train_bins.total_cases.value_counts().sort_index()"
   ]
  },
  {
   "cell_type": "markdown",
   "id": "3bb746af-ca1a-4290-be42-9195c213e5fa",
   "metadata": {},
   "source": [
    "^ This is a far less successful transformation. Almost all of the values are at the bottom of the distribution in the data prior to the binning, so it is not surprising that equal-width binning would have the same problem. It results in only 4 bins, even though we requested 10."
   ]
  },
  {
   "cell_type": "code",
   "execution_count": 175,
   "id": "1a3cfd87-4d48-4e43-b2ac-cfb9abd09451",
   "metadata": {
    "tags": []
   },
   "outputs": [
    {
     "data": {
      "text/html": [
       "<div>\n",
       "<style scoped>\n",
       "    .dataframe tbody tr th:only-of-type {\n",
       "        vertical-align: middle;\n",
       "    }\n",
       "\n",
       "    .dataframe tbody tr th {\n",
       "        vertical-align: top;\n",
       "    }\n",
       "\n",
       "    .dataframe thead th {\n",
       "        text-align: right;\n",
       "    }\n",
       "</style>\n",
       "<table border=\"1\" class=\"dataframe\">\n",
       "  <thead>\n",
       "    <tr style=\"text-align: right;\">\n",
       "      <th></th>\n",
       "      <th>min</th>\n",
       "      <th>max</th>\n",
       "    </tr>\n",
       "    <tr>\n",
       "      <th>total_cases_group</th>\n",
       "      <th></th>\n",
       "      <th></th>\n",
       "    </tr>\n",
       "  </thead>\n",
       "  <tbody>\n",
       "    <tr>\n",
       "      <th>0</th>\n",
       "      <td>1.0</td>\n",
       "      <td>3304135.0</td>\n",
       "    </tr>\n",
       "    <tr>\n",
       "      <th>1</th>\n",
       "      <td>3740567.0</td>\n",
       "      <td>5856682.0</td>\n",
       "    </tr>\n",
       "    <tr>\n",
       "      <th>5</th>\n",
       "      <td>18909037.0</td>\n",
       "      <td>18909037.0</td>\n",
       "    </tr>\n",
       "    <tr>\n",
       "      <th>9</th>\n",
       "      <td>30709557.0</td>\n",
       "      <td>33770444.0</td>\n",
       "    </tr>\n",
       "  </tbody>\n",
       "</table>\n",
       "</div>"
      ],
      "text/plain": [
       "                          min         max\n",
       "total_cases_group                        \n",
       "0                         1.0   3304135.0\n",
       "1                   3740567.0   5856682.0\n",
       "5                  18909037.0  18909037.0\n",
       "9                  30709557.0  33770444.0"
      ]
     },
     "execution_count": 175,
     "metadata": {},
     "output_type": "execute_result"
    }
   ],
   "source": [
    "y_train_bins = y_train_bins.rename(columns={\"total_cases\": \"total_cases_group\"}).join(\n",
    "    y_train\n",
    ")\n",
    "y_train_bins.groupby(\"total_cases_group\")[\"total_cases\"].agg([\"min\", \"max\"])"
   ]
  },
  {
   "cell_type": "markdown",
   "id": "49846034-097b-4620-9200-874b0e87fe68",
   "metadata": {},
   "source": [
    "### K-means binning"
   ]
  },
  {
   "cell_type": "markdown",
   "id": "232643c5-85ac-47d7-89ba-1440a282ce6e",
   "metadata": {},
   "source": [
    "When _k-means_ is used for binning, all data points in the same cluster will have the same ordinal value."
   ]
  },
  {
   "cell_type": "code",
   "execution_count": 176,
   "id": "8cb1b6fd-2167-4cba-bf56-8feaf9abf9f2",
   "metadata": {
    "tags": []
   },
   "outputs": [
    {
     "data": {
      "text/plain": [
       "0.0    49\n",
       "1.0    24\n",
       "2.0    23\n",
       "3.0    11\n",
       "4.0     6\n",
       "5.0     6\n",
       "6.0     4\n",
       "7.0     1\n",
       "8.0     1\n",
       "9.0     1\n",
       "Name: total_cases, dtype: int64"
      ]
     },
     "execution_count": 176,
     "metadata": {},
     "output_type": "execute_result"
    }
   ],
   "source": [
    "kbins = KBinsDiscretizer(n_bins=10, encode=\"ordinal\", strategy=\"kmeans\")\n",
    "y_train_bins = pd.DataFrame(kbins.fit_transform(y_train), columns=[\"total_cases\"])\n",
    "y_train_bins.total_cases.value_counts().sort_index()"
   ]
  },
  {
   "cell_type": "code",
   "execution_count": 177,
   "id": "26f56989-7ee4-49be-85cf-01d8003ab8f7",
   "metadata": {
    "tags": []
   },
   "outputs": [
    {
     "data": {
      "text/plain": [
       "skew         6.313169\n",
       "kurtosis    41.553054\n",
       "Name: total_cases, dtype: float64"
      ]
     },
     "execution_count": 177,
     "metadata": {},
     "output_type": "execute_result"
    }
   ],
   "source": [
    "y_train.total_cases.agg([\"skew\", \"kurtosis\"])"
   ]
  },
  {
   "cell_type": "code",
   "execution_count": 179,
   "id": "401e94fd-94ee-42f7-8cf8-0cb1bfc3d631",
   "metadata": {
    "tags": []
   },
   "outputs": [
    {
     "data": {
      "text/plain": [
       "skew        1.439460\n",
       "kurtosis    1.923158\n",
       "Name: total_cases, dtype: float64"
      ]
     },
     "execution_count": 179,
     "metadata": {},
     "output_type": "execute_result"
    }
   ],
   "source": [
    "y_train_bins.total_cases.agg([\"skew\", \"kurtosis\"])"
   ]
  },
  {
   "cell_type": "markdown",
   "id": "71664b51-ed49-411d-bf2d-3399592d0a3b",
   "metadata": {},
   "source": [
    "^ We expect a skew of 0 and a kurtosis near 3 for a variable with a Gaussian distribution. The distribution of the binned variable is much closer to Gaussian."
   ]
  },
  {
   "cell_type": "markdown",
   "id": "2b7d1232-b2d1-43e5-adea-8f3789a46c9a",
   "metadata": {},
   "source": [
    "### Summary\n",
    "\n",
    "Binning can help us to address skew, kurtosis, and outliers in our data. "
   ]
  },
  {
   "cell_type": "markdown",
   "id": "fcc89fa8-5a98-4c44-a22c-fa3f1f706d14",
   "metadata": {},
   "source": [
    "## Feature scaling"
   ]
  },
  {
   "cell_type": "markdown",
   "id": "7d3d75e5-f86c-4a43-955a-22256dff90a1",
   "metadata": {},
   "source": [
    "Often, the features we want to use in our model are on very different scales. Put simply, the distance between the minimum and maximum values, or the range, varies substantially across possible features.\n",
    "\n",
    "Having features on very different scales impacts many machine learning algorithms. Scaling can address this problem.\n",
    "\n",
    "Two popular approaches to scaling are __min-max scaling__ and __standard__ (or __z-score__) scaling. __Min-max scaling__ replaces each value with its location in the range.\n",
    "\n",
    "__Standard scaling__ normalizes the feature values around a mean of 0."
   ]
  },
  {
   "cell_type": "code",
   "execution_count": 181,
   "id": "10ca1dc6-1afb-4124-9f03-064f0d46d1b3",
   "metadata": {
    "tags": []
   },
   "outputs": [],
   "source": [
    "import pandas as pd\n",
    "from sklearn.model_selection import train_test_split\n",
    "from sklearn.preprocessing import MinMaxScaler, RobustScaler, StandardScaler\n",
    "\n",
    "from data.load import load_covid"
   ]
  },
  {
   "cell_type": "code",
   "execution_count": 186,
   "id": "f217e192-b1b5-4943-8118-794896038eb5",
   "metadata": {
    "tags": []
   },
   "outputs": [],
   "source": [
    "covid = load_covid()\n",
    "feature_cols = [\n",
    "    \"population\",\n",
    "    \"total_deaths\",\n",
    "    \"aged_65_older\",\n",
    "    \"diabetes_prevalence\",\n",
    "]\n",
    "covid = covid[[\"total_cases\"] + feature_cols].dropna()\n",
    "X_train, X_test, y_train, y_test = train_test_split(\n",
    "    covid[feature_cols], covid[[\"total_cases\"]], test_size=0.3, random_state=0\n",
    ")"
   ]
  },
  {
   "cell_type": "code",
   "execution_count": 187,
   "id": "0c2ddb18-787e-44f5-8895-5358758672bd",
   "metadata": {
    "tags": []
   },
   "outputs": [
    {
     "data": {
      "text/html": [
       "<div>\n",
       "<style scoped>\n",
       "    .dataframe tbody tr th:only-of-type {\n",
       "        vertical-align: middle;\n",
       "    }\n",
       "\n",
       "    .dataframe tbody tr th {\n",
       "        vertical-align: top;\n",
       "    }\n",
       "\n",
       "    .dataframe thead th {\n",
       "        text-align: right;\n",
       "    }\n",
       "</style>\n",
       "<table border=\"1\" class=\"dataframe\">\n",
       "  <thead>\n",
       "    <tr style=\"text-align: right;\">\n",
       "      <th></th>\n",
       "      <th>population</th>\n",
       "      <th>total_deaths</th>\n",
       "      <th>aged_65_older</th>\n",
       "      <th>diabetes_prevalence</th>\n",
       "    </tr>\n",
       "  </thead>\n",
       "  <tbody>\n",
       "    <tr>\n",
       "      <th>count</th>\n",
       "      <td>123.000000</td>\n",
       "      <td>123.000000</td>\n",
       "      <td>123.000000</td>\n",
       "      <td>123.000000</td>\n",
       "    </tr>\n",
       "    <tr>\n",
       "      <th>mean</th>\n",
       "      <td>0.037236</td>\n",
       "      <td>0.044661</td>\n",
       "      <td>0.297696</td>\n",
       "      <td>0.411412</td>\n",
       "    </tr>\n",
       "    <tr>\n",
       "      <th>std</th>\n",
       "      <td>0.127555</td>\n",
       "      <td>0.142153</td>\n",
       "      <td>0.240547</td>\n",
       "      <td>0.225113</td>\n",
       "    </tr>\n",
       "    <tr>\n",
       "      <th>min</th>\n",
       "      <td>0.000000</td>\n",
       "      <td>0.000000</td>\n",
       "      <td>0.000000</td>\n",
       "      <td>0.000000</td>\n",
       "    </tr>\n",
       "    <tr>\n",
       "      <th>25%</th>\n",
       "      <td>0.002371</td>\n",
       "      <td>0.000730</td>\n",
       "      <td>0.096005</td>\n",
       "      <td>0.257621</td>\n",
       "    </tr>\n",
       "    <tr>\n",
       "      <th>50%</th>\n",
       "      <td>0.007174</td>\n",
       "      <td>0.003499</td>\n",
       "      <td>0.217140</td>\n",
       "      <td>0.371189</td>\n",
       "    </tr>\n",
       "    <tr>\n",
       "      <th>75%</th>\n",
       "      <td>0.022804</td>\n",
       "      <td>0.019308</td>\n",
       "      <td>0.505732</td>\n",
       "      <td>0.543335</td>\n",
       "    </tr>\n",
       "    <tr>\n",
       "      <th>max</th>\n",
       "      <td>1.000000</td>\n",
       "      <td>1.000000</td>\n",
       "      <td>1.000000</td>\n",
       "      <td>1.000000</td>\n",
       "    </tr>\n",
       "  </tbody>\n",
       "</table>\n",
       "</div>"
      ],
      "text/plain": [
       "       population  total_deaths  aged_65_older  diabetes_prevalence\n",
       "count  123.000000    123.000000     123.000000           123.000000\n",
       "mean     0.037236      0.044661       0.297696             0.411412\n",
       "std      0.127555      0.142153       0.240547             0.225113\n",
       "min      0.000000      0.000000       0.000000             0.000000\n",
       "25%      0.002371      0.000730       0.096005             0.257621\n",
       "50%      0.007174      0.003499       0.217140             0.371189\n",
       "75%      0.022804      0.019308       0.505732             0.543335\n",
       "max      1.000000      1.000000       1.000000             1.000000"
      ]
     },
     "execution_count": 187,
     "metadata": {},
     "output_type": "execute_result"
    }
   ],
   "source": [
    "scaler = MinMaxScaler()\n",
    "X_train_mms = pd.DataFrame(\n",
    "    scaler.fit_transform(X_train), columns=X_train.columns, index=X_train.index\n",
    ")\n",
    "X_train_mms.describe()"
   ]
  },
  {
   "cell_type": "code",
   "execution_count": 188,
   "id": "321a52ed-214f-4349-9c00-f47d02b0efa8",
   "metadata": {
    "tags": []
   },
   "outputs": [
    {
     "data": {
      "text/html": [
       "<div>\n",
       "<style scoped>\n",
       "    .dataframe tbody tr th:only-of-type {\n",
       "        vertical-align: middle;\n",
       "    }\n",
       "\n",
       "    .dataframe tbody tr th {\n",
       "        vertical-align: top;\n",
       "    }\n",
       "\n",
       "    .dataframe thead th {\n",
       "        text-align: right;\n",
       "    }\n",
       "</style>\n",
       "<table border=\"1\" class=\"dataframe\">\n",
       "  <thead>\n",
       "    <tr style=\"text-align: right;\">\n",
       "      <th></th>\n",
       "      <th>population</th>\n",
       "      <th>total_deaths</th>\n",
       "      <th>aged_65_older</th>\n",
       "      <th>diabetes_prevalence</th>\n",
       "    </tr>\n",
       "  </thead>\n",
       "  <tbody>\n",
       "    <tr>\n",
       "      <th>count</th>\n",
       "      <td>1.230000e+02</td>\n",
       "      <td>1.230000e+02</td>\n",
       "      <td>1.230000e+02</td>\n",
       "      <td>1.230000e+02</td>\n",
       "    </tr>\n",
       "    <tr>\n",
       "      <th>mean</th>\n",
       "      <td>-1.308800e-17</td>\n",
       "      <td>-1.263668e-17</td>\n",
       "      <td>-5.912163e-17</td>\n",
       "      <td>-2.888385e-17</td>\n",
       "    </tr>\n",
       "    <tr>\n",
       "      <th>std</th>\n",
       "      <td>1.004090e+00</td>\n",
       "      <td>1.004090e+00</td>\n",
       "      <td>1.004090e+00</td>\n",
       "      <td>1.004090e+00</td>\n",
       "    </tr>\n",
       "    <tr>\n",
       "      <th>min</th>\n",
       "      <td>-2.931128e-01</td>\n",
       "      <td>-3.154621e-01</td>\n",
       "      <td>-1.242640e+00</td>\n",
       "      <td>-1.835052e+00</td>\n",
       "    </tr>\n",
       "    <tr>\n",
       "      <th>25%</th>\n",
       "      <td>-2.744523e-01</td>\n",
       "      <td>-3.103063e-01</td>\n",
       "      <td>-8.418987e-01</td>\n",
       "      <td>-6.859660e-01</td>\n",
       "    </tr>\n",
       "    <tr>\n",
       "      <th>50%</th>\n",
       "      <td>-2.366417e-01</td>\n",
       "      <td>-2.907490e-01</td>\n",
       "      <td>-3.362588e-01</td>\n",
       "      <td>-1.794085e-01</td>\n",
       "    </tr>\n",
       "    <tr>\n",
       "      <th>75%</th>\n",
       "      <td>-1.135999e-01</td>\n",
       "      <td>-1.790797e-01</td>\n",
       "      <td>8.683824e-01</td>\n",
       "      <td>5.884261e-01</td>\n",
       "    </tr>\n",
       "    <tr>\n",
       "      <th>max</th>\n",
       "      <td>7.578731e+00</td>\n",
       "      <td>6.747961e+00</td>\n",
       "      <td>2.931548e+00</td>\n",
       "      <td>2.625321e+00</td>\n",
       "    </tr>\n",
       "  </tbody>\n",
       "</table>\n",
       "</div>"
      ],
      "text/plain": [
       "         population  total_deaths  aged_65_older  diabetes_prevalence\n",
       "count  1.230000e+02  1.230000e+02   1.230000e+02         1.230000e+02\n",
       "mean  -1.308800e-17 -1.263668e-17  -5.912163e-17        -2.888385e-17\n",
       "std    1.004090e+00  1.004090e+00   1.004090e+00         1.004090e+00\n",
       "min   -2.931128e-01 -3.154621e-01  -1.242640e+00        -1.835052e+00\n",
       "25%   -2.744523e-01 -3.103063e-01  -8.418987e-01        -6.859660e-01\n",
       "50%   -2.366417e-01 -2.907490e-01  -3.362588e-01        -1.794085e-01\n",
       "75%   -1.135999e-01 -1.790797e-01   8.683824e-01         5.884261e-01\n",
       "max    7.578731e+00  6.747961e+00   2.931548e+00         2.625321e+00"
      ]
     },
     "execution_count": 188,
     "metadata": {},
     "output_type": "execute_result"
    }
   ],
   "source": [
    "scaler = StandardScaler()\n",
    "X_train_ss = pd.DataFrame(\n",
    "    scaler.fit_transform(X_train), columns=X_train.columns, index=X_train.index\n",
    ")\n",
    "X_train_ss.describe()"
   ]
  },
  {
   "cell_type": "markdown",
   "id": "9ea5bbcc-771a-4dcb-a2f2-21b15914fb10",
   "metadata": {},
   "source": [
    "If we have outliers in our data, robust scaling might be a good option. Robust scaling substracts the median from each value of a variable and divides that value by the interquartile range:\n",
    "\n",
    "$$z_{ij} = (x_{ij} - median_j)/(3rd quantile_j - 1st quantile_j)$$\n",
    "\n",
    "Robust scaling is less sensitive to extreme values since it does not use the mean or variance."
   ]
  },
  {
   "cell_type": "code",
   "execution_count": 189,
   "id": "36c4f901-1e9c-47bb-889c-03a3ca863d73",
   "metadata": {
    "tags": []
   },
   "outputs": [
    {
     "data": {
      "text/html": [
       "<div>\n",
       "<style scoped>\n",
       "    .dataframe tbody tr th:only-of-type {\n",
       "        vertical-align: middle;\n",
       "    }\n",
       "\n",
       "    .dataframe tbody tr th {\n",
       "        vertical-align: top;\n",
       "    }\n",
       "\n",
       "    .dataframe thead th {\n",
       "        text-align: right;\n",
       "    }\n",
       "</style>\n",
       "<table border=\"1\" class=\"dataframe\">\n",
       "  <thead>\n",
       "    <tr style=\"text-align: right;\">\n",
       "      <th></th>\n",
       "      <th>population</th>\n",
       "      <th>total_deaths</th>\n",
       "      <th>aged_65_older</th>\n",
       "      <th>diabetes_prevalence</th>\n",
       "    </tr>\n",
       "  </thead>\n",
       "  <tbody>\n",
       "    <tr>\n",
       "      <th>count</th>\n",
       "      <td>123.000000</td>\n",
       "      <td>123.000000</td>\n",
       "      <td>123.000000</td>\n",
       "      <td>123.000000</td>\n",
       "    </tr>\n",
       "    <tr>\n",
       "      <th>mean</th>\n",
       "      <td>1.471173</td>\n",
       "      <td>2.215625</td>\n",
       "      <td>0.196610</td>\n",
       "      <td>0.140780</td>\n",
       "    </tr>\n",
       "    <tr>\n",
       "      <th>std</th>\n",
       "      <td>6.242306</td>\n",
       "      <td>7.651574</td>\n",
       "      <td>0.587091</td>\n",
       "      <td>0.787897</td>\n",
       "    </tr>\n",
       "    <tr>\n",
       "      <th>min</th>\n",
       "      <td>-0.351074</td>\n",
       "      <td>-0.188324</td>\n",
       "      <td>-0.529960</td>\n",
       "      <td>-1.299163</td>\n",
       "    </tr>\n",
       "    <tr>\n",
       "      <th>25%</th>\n",
       "      <td>-0.235064</td>\n",
       "      <td>-0.149034</td>\n",
       "      <td>-0.295647</td>\n",
       "      <td>-0.397490</td>\n",
       "    </tr>\n",
       "    <tr>\n",
       "      <th>50%</th>\n",
       "      <td>0.000000</td>\n",
       "      <td>0.000000</td>\n",
       "      <td>0.000000</td>\n",
       "      <td>0.000000</td>\n",
       "    </tr>\n",
       "    <tr>\n",
       "      <th>75%</th>\n",
       "      <td>0.764936</td>\n",
       "      <td>0.850966</td>\n",
       "      <td>0.704353</td>\n",
       "      <td>0.602510</td>\n",
       "    </tr>\n",
       "    <tr>\n",
       "      <th>max</th>\n",
       "      <td>48.587225</td>\n",
       "      <td>53.637825</td>\n",
       "      <td>1.910684</td>\n",
       "      <td>2.200837</td>\n",
       "    </tr>\n",
       "  </tbody>\n",
       "</table>\n",
       "</div>"
      ],
      "text/plain": [
       "       population  total_deaths  aged_65_older  diabetes_prevalence\n",
       "count  123.000000    123.000000     123.000000           123.000000\n",
       "mean     1.471173      2.215625       0.196610             0.140780\n",
       "std      6.242306      7.651574       0.587091             0.787897\n",
       "min     -0.351074     -0.188324      -0.529960            -1.299163\n",
       "25%     -0.235064     -0.149034      -0.295647            -0.397490\n",
       "50%      0.000000      0.000000       0.000000             0.000000\n",
       "75%      0.764936      0.850966       0.704353             0.602510\n",
       "max     48.587225     53.637825       1.910684             2.200837"
      ]
     },
     "execution_count": 189,
     "metadata": {},
     "output_type": "execute_result"
    }
   ],
   "source": [
    "scaler = RobustScaler()\n",
    "X_train_rs = pd.DataFrame(\n",
    "    scaler.fit_transform(X_train), columns=X_train.columns, index=X_train.index\n",
    ")\n",
    "X_train_rs.describe()"
   ]
  },
  {
   "cell_type": "markdown",
   "id": "84922965-fd13-4054-bc17-6a1fb383570b",
   "metadata": {},
   "source": [
    "## Summary\n",
    "\n",
    "In this chapter, we covered a wide range of feature engineering techniques:\n",
    "\n",
    "- tools to drop redundant or highly correlated feaures\n",
    "- one-hot encoding, ordinal encoding and hashing encoding\n",
    "- use transformation to improve distribution of our features\n",
    "- common binning and scaling approaches to address skew, kurtosis, and outliers, and to adjust for features with widely different ranges"
   ]
  },
  {
   "cell_type": "code",
   "execution_count": null,
   "id": "a6026c6c-8937-4769-9818-b699cc51d54e",
   "metadata": {},
   "outputs": [],
   "source": []
  }
 ],
 "metadata": {
  "kernelspec": {
   "display_name": "Python 3 (ipykernel)",
   "language": "python",
   "name": "python3"
  },
  "language_info": {
   "codemirror_mode": {
    "name": "ipython",
    "version": 3
   },
   "file_extension": ".py",
   "mimetype": "text/x-python",
   "name": "python",
   "nbconvert_exporter": "python",
   "pygments_lexer": "ipython3",
   "version": "3.9.16"
  }
 },
 "nbformat": 4,
 "nbformat_minor": 5
}
