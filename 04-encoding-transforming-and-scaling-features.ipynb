{
 "cells": [
  {
   "cell_type": "markdown",
   "id": "49fb44b4-a6a5-483a-b142-327b92b4b971",
   "metadata": {},
   "source": [
    "# Encoding, Transforming and Scaling Features"
   ]
  },
  {
   "cell_type": "markdown",
   "id": "b729ccf2-3906-4f22-820b-2823efad69bb",
   "metadata": {},
   "source": [
    "We will cover the following topics in this chapter:\n",
    "- creating training datasets and avoiding deep leakage\n",
    "- identifying irrelevant or redundant observations to be removed\n",
    "- encoding categorical features\n",
    "- encoding features with medium or high cardinality\n",
    "- transforming features\n",
    "- binning features\n",
    "- scaling features"
   ]
  },
  {
   "cell_type": "markdown",
   "id": "9c776251-2fbe-4793-bef5-378029560bb5",
   "metadata": {},
   "source": [
    "## Create training datasets and avoiding data leakage\n",
    "\n",
    "**Data leakage** occurs whenever our models are informed by data that is not in the training dataset. \n",
    "\n",
    "\n",
    "For example, if we have missing values for a feature, we might impute the mean across the whole dataset for those values. However, in order to validate our model, we subsequently split our data into training and testing data. We would have then accidentally introduced data leakage into our training dataset since the information from the full dataset (that is, global mean) would have been used."
   ]
  },
  {
   "cell_type": "markdown",
   "id": "6e43b1a6-70ee-45af-861b-617eb9b4f1a8",
   "metadata": {},
   "source": [
    "## Removing redundant or unhelpful features"
   ]
  },
  {
   "cell_type": "code",
   "execution_count": 1,
   "id": "9bead576-dbd6-4a49-9acd-6b97edc1b7c2",
   "metadata": {
    "tags": []
   },
   "outputs": [],
   "source": [
    "!pip install -qq feature-engine"
   ]
  },
  {
   "cell_type": "code",
   "execution_count": 7,
   "id": "930f7baf-fad1-4885-80b1-0f1b624a10e5",
   "metadata": {
    "tags": []
   },
   "outputs": [],
   "source": [
    "import feature_engine.selection as fesel\n",
    "from sklearn.model_selection import train_test_split\n",
    "\n",
    "from data.load import load_ltpoland, load_nls97b"
   ]
  },
  {
   "cell_type": "code",
   "execution_count": 8,
   "id": "71a9f1da-190f-47fd-ae42-c444905ff2e3",
   "metadata": {
    "tags": []
   },
   "outputs": [],
   "source": [
    "nls97 = load_nls97b()\n",
    "ltpoland = load_ltpoland()"
   ]
  },
  {
   "cell_type": "code",
   "execution_count": 9,
   "id": "fc2f59d9-344c-4dbb-bbd3-7ad838b128c7",
   "metadata": {
    "tags": []
   },
   "outputs": [],
   "source": [
    "feature_cols = [\n",
    "    \"satverbal\",\n",
    "    \"satmath\",\n",
    "    \"gpascience\",\n",
    "    \"gpaenglish\",\n",
    "    \"gpamath\",\n",
    "    \"gpaoverall\",\n",
    "]\n",
    "X_train, X_test, y_train, y_test = train_test_split(\n",
    "    nls97[feature_cols], nls97[[\"wageincome\"]], test_size=0.3, random_state=0\n",
    ")"
   ]
  },
  {
   "cell_type": "code",
   "execution_count": 10,
   "id": "ecb5573e-f928-402e-a914-250697cd7156",
   "metadata": {
    "tags": []
   },
   "outputs": [
    {
     "data": {
      "text/html": [
       "<div>\n",
       "<style scoped>\n",
       "    .dataframe tbody tr th:only-of-type {\n",
       "        vertical-align: middle;\n",
       "    }\n",
       "\n",
       "    .dataframe tbody tr th {\n",
       "        vertical-align: top;\n",
       "    }\n",
       "\n",
       "    .dataframe thead th {\n",
       "        text-align: right;\n",
       "    }\n",
       "</style>\n",
       "<table border=\"1\" class=\"dataframe\">\n",
       "  <thead>\n",
       "    <tr style=\"text-align: right;\">\n",
       "      <th></th>\n",
       "      <th>satverbal</th>\n",
       "      <th>satmath</th>\n",
       "      <th>gpascience</th>\n",
       "      <th>gpaenglish</th>\n",
       "      <th>gpamath</th>\n",
       "      <th>gpaoverall</th>\n",
       "    </tr>\n",
       "  </thead>\n",
       "  <tbody>\n",
       "    <tr>\n",
       "      <th>satverbal</th>\n",
       "      <td>1.000000</td>\n",
       "      <td>0.728890</td>\n",
       "      <td>0.438588</td>\n",
       "      <td>0.443692</td>\n",
       "      <td>0.375226</td>\n",
       "      <td>0.420707</td>\n",
       "    </tr>\n",
       "    <tr>\n",
       "      <th>satmath</th>\n",
       "      <td>0.728890</td>\n",
       "      <td>1.000000</td>\n",
       "      <td>0.479757</td>\n",
       "      <td>0.430359</td>\n",
       "      <td>0.517770</td>\n",
       "      <td>0.484701</td>\n",
       "    </tr>\n",
       "    <tr>\n",
       "      <th>gpascience</th>\n",
       "      <td>0.438588</td>\n",
       "      <td>0.479757</td>\n",
       "      <td>1.000000</td>\n",
       "      <td>0.671744</td>\n",
       "      <td>0.606340</td>\n",
       "      <td>0.792695</td>\n",
       "    </tr>\n",
       "    <tr>\n",
       "      <th>gpaenglish</th>\n",
       "      <td>0.443692</td>\n",
       "      <td>0.430359</td>\n",
       "      <td>0.671744</td>\n",
       "      <td>1.000000</td>\n",
       "      <td>0.599713</td>\n",
       "      <td>0.843816</td>\n",
       "    </tr>\n",
       "    <tr>\n",
       "      <th>gpamath</th>\n",
       "      <td>0.375226</td>\n",
       "      <td>0.517770</td>\n",
       "      <td>0.606340</td>\n",
       "      <td>0.599713</td>\n",
       "      <td>1.000000</td>\n",
       "      <td>0.750494</td>\n",
       "    </tr>\n",
       "    <tr>\n",
       "      <th>gpaoverall</th>\n",
       "      <td>0.420707</td>\n",
       "      <td>0.484701</td>\n",
       "      <td>0.792695</td>\n",
       "      <td>0.843816</td>\n",
       "      <td>0.750494</td>\n",
       "      <td>1.000000</td>\n",
       "    </tr>\n",
       "  </tbody>\n",
       "</table>\n",
       "</div>"
      ],
      "text/plain": [
       "            satverbal   satmath  gpascience  gpaenglish   gpamath  gpaoverall\n",
       "satverbal    1.000000  0.728890    0.438588    0.443692  0.375226    0.420707\n",
       "satmath      0.728890  1.000000    0.479757    0.430359  0.517770    0.484701\n",
       "gpascience   0.438588  0.479757    1.000000    0.671744  0.606340    0.792695\n",
       "gpaenglish   0.443692  0.430359    0.671744    1.000000  0.599713    0.843816\n",
       "gpamath      0.375226  0.517770    0.606340    0.599713  1.000000    0.750494\n",
       "gpaoverall   0.420707  0.484701    0.792695    0.843816  0.750494    1.000000"
      ]
     },
     "execution_count": 10,
     "metadata": {},
     "output_type": "execute_result"
    }
   ],
   "source": [
    "X_train.corr()"
   ]
  },
  {
   "cell_type": "markdown",
   "id": "a597f51a-468f-4609-97eb-a70107679641",
   "metadata": {},
   "source": [
    "^ Here, `gpaoverall` is highly correlated with `gpascience`, `gpaenglish` and `gpamath`. \n",
    "\n",
    "The `corr` method returns the `Pearson` coefficients by default. This is fine when we can assume a linear relationship with the features. However, when this assumption does not make sense, we should consider requesting `Spearman` coefficients instead. "
   ]
  },
  {
   "cell_type": "markdown",
   "id": "824154cd-1d3f-4d89-a6a0-2db39903db7c",
   "metadata": {},
   "source": [
    "Let's drop features that have a correlation higher than 0.75 with another feature."
   ]
  },
  {
   "cell_type": "code",
   "execution_count": 11,
   "id": "678988e8-fa46-4404-94ea-1ae9719af76f",
   "metadata": {
    "tags": []
   },
   "outputs": [
    {
     "name": "stdout",
     "output_type": "stream",
     "text": [
      "<class 'pandas.core.frame.DataFrame'>\n",
      "Int64Index: 6288 entries, 574974 to 370933\n",
      "Data columns (total 5 columns):\n",
      " #   Column      Non-Null Count  Dtype  \n",
      "---  ------      --------------  -----  \n",
      " 0   satverbal   1001 non-null   float64\n",
      " 1   satmath     1001 non-null   float64\n",
      " 2   gpascience  3998 non-null   float64\n",
      " 3   gpaenglish  4078 non-null   float64\n",
      " 4   gpamath     4056 non-null   float64\n",
      "dtypes: float64(5)\n",
      "memory usage: 294.8 KB\n"
     ]
    }
   ],
   "source": [
    "tr = fesel.DropCorrelatedFeatures(variables=None, method=\"pearson\", threshold=0.75)\n",
    "tr.fit(X_train)\n",
    "X_train_tr = tr.transform(X_train)\n",
    "X_test_tr = tr.transform(X_test)\n",
    "X_train_tr.info()"
   ]
  },
  {
   "cell_type": "markdown",
   "id": "5dcdd4d8-2a74-43c8-84c7-fdcda0857635",
   "metadata": {},
   "source": [
    "^ The column `gpaoverall` is dropped."
   ]
  },
  {
   "cell_type": "code",
   "execution_count": 12,
   "id": "b174c8fe-362c-4f77-9d7e-779938e5ee95",
   "metadata": {
    "tags": []
   },
   "outputs": [],
   "source": [
    "feature_cols = [\n",
    "    \"year\",\n",
    "    \"month\",\n",
    "    \"latabs\",\n",
    "    \"latitude\",\n",
    "    \"elevation\",\n",
    "    \"longitude\",\n",
    "    \"country\",\n",
    "]\n",
    "X_train, X_test, y_train, y_test = train_test_split(\n",
    "    ltpoland[feature_cols], ltpoland[[\"temperature\"]], test_size=0.3, random_state=0\n",
    ")"
   ]
  },
  {
   "cell_type": "code",
   "execution_count": 13,
   "id": "1c66c63c-855f-4aee-aaa9-8add28d2ffbd",
   "metadata": {
    "tags": []
   },
   "outputs": [
    {
     "data": {
      "text/html": [
       "<div>\n",
       "<style scoped>\n",
       "    .dataframe tbody tr th:only-of-type {\n",
       "        vertical-align: middle;\n",
       "    }\n",
       "\n",
       "    .dataframe tbody tr th {\n",
       "        vertical-align: top;\n",
       "    }\n",
       "\n",
       "    .dataframe thead th {\n",
       "        text-align: right;\n",
       "    }\n",
       "</style>\n",
       "<table border=\"1\" class=\"dataframe\">\n",
       "  <thead>\n",
       "    <tr style=\"text-align: right;\">\n",
       "      <th></th>\n",
       "      <th>year</th>\n",
       "      <th>month</th>\n",
       "      <th>latabs</th>\n",
       "      <th>latitude</th>\n",
       "      <th>elevation</th>\n",
       "      <th>longitude</th>\n",
       "      <th>country</th>\n",
       "    </tr>\n",
       "    <tr>\n",
       "      <th>station</th>\n",
       "      <th></th>\n",
       "      <th></th>\n",
       "      <th></th>\n",
       "      <th></th>\n",
       "      <th></th>\n",
       "      <th></th>\n",
       "      <th></th>\n",
       "    </tr>\n",
       "  </thead>\n",
       "  <tbody>\n",
       "    <tr>\n",
       "      <th>SIEDLCE</th>\n",
       "      <td>2019</td>\n",
       "      <td>11</td>\n",
       "      <td>52.250</td>\n",
       "      <td>52.250</td>\n",
       "      <td>152.0</td>\n",
       "      <td>22.250</td>\n",
       "      <td>Poland</td>\n",
       "    </tr>\n",
       "    <tr>\n",
       "      <th>OKECIE</th>\n",
       "      <td>2019</td>\n",
       "      <td>6</td>\n",
       "      <td>52.166</td>\n",
       "      <td>52.166</td>\n",
       "      <td>110.3</td>\n",
       "      <td>20.967</td>\n",
       "      <td>Poland</td>\n",
       "    </tr>\n",
       "    <tr>\n",
       "      <th>BALICE</th>\n",
       "      <td>2019</td>\n",
       "      <td>1</td>\n",
       "      <td>50.078</td>\n",
       "      <td>50.078</td>\n",
       "      <td>241.1</td>\n",
       "      <td>19.785</td>\n",
       "      <td>Poland</td>\n",
       "    </tr>\n",
       "    <tr>\n",
       "      <th>BALICE</th>\n",
       "      <td>2019</td>\n",
       "      <td>7</td>\n",
       "      <td>50.078</td>\n",
       "      <td>50.078</td>\n",
       "      <td>241.1</td>\n",
       "      <td>19.785</td>\n",
       "      <td>Poland</td>\n",
       "    </tr>\n",
       "    <tr>\n",
       "      <th>BIALYSTOK</th>\n",
       "      <td>2019</td>\n",
       "      <td>11</td>\n",
       "      <td>53.100</td>\n",
       "      <td>53.100</td>\n",
       "      <td>151.0</td>\n",
       "      <td>23.167</td>\n",
       "      <td>Poland</td>\n",
       "    </tr>\n",
       "  </tbody>\n",
       "</table>\n",
       "</div>"
      ],
      "text/plain": [
       "           year  month  latabs  latitude  elevation  longitude country\n",
       "station                                                               \n",
       "SIEDLCE    2019     11  52.250    52.250      152.0     22.250  Poland\n",
       "OKECIE     2019      6  52.166    52.166      110.3     20.967  Poland\n",
       "BALICE     2019      1  50.078    50.078      241.1     19.785  Poland\n",
       "BALICE     2019      7  50.078    50.078      241.1     19.785  Poland\n",
       "BIALYSTOK  2019     11  53.100    53.100      151.0     23.167  Poland"
      ]
     },
     "execution_count": 13,
     "metadata": {},
     "output_type": "execute_result"
    }
   ],
   "source": [
    "X_train.sample(5, random_state=99)"
   ]
  },
  {
   "cell_type": "code",
   "execution_count": 14,
   "id": "ebf86b41-a3d5-47b2-9903-2218f65235b1",
   "metadata": {
    "tags": []
   },
   "outputs": [
    {
     "data": {
      "text/plain": [
       "2019    84\n",
       "Name: year, dtype: int64"
      ]
     },
     "execution_count": 14,
     "metadata": {},
     "output_type": "execute_result"
    }
   ],
   "source": [
    "X_train.year.value_counts()"
   ]
  },
  {
   "cell_type": "code",
   "execution_count": 15,
   "id": "ff6b6644-20a1-4d49-b64b-7bf0dc3edb5b",
   "metadata": {
    "tags": []
   },
   "outputs": [
    {
     "data": {
      "text/plain": [
       "Poland    84\n",
       "Name: country, dtype: int64"
      ]
     },
     "execution_count": 15,
     "metadata": {},
     "output_type": "execute_result"
    }
   ],
   "source": [
    "X_train.country.value_counts()"
   ]
  },
  {
   "cell_type": "code",
   "execution_count": 16,
   "id": "75bb12b8-6769-4afc-aee2-e03a6d111ea2",
   "metadata": {
    "tags": []
   },
   "outputs": [
    {
     "data": {
      "text/plain": [
       "0"
      ]
     },
     "execution_count": 16,
     "metadata": {},
     "output_type": "execute_result"
    }
   ],
   "source": [
    "(X_train.latitude != X_train.latabs).sum()"
   ]
  },
  {
   "cell_type": "code",
   "execution_count": 17,
   "id": "f04c17b8-60cd-4f40-b157-baf9e37361ef",
   "metadata": {
    "tags": []
   },
   "outputs": [
    {
     "data": {
      "text/html": [
       "<div>\n",
       "<style scoped>\n",
       "    .dataframe tbody tr th:only-of-type {\n",
       "        vertical-align: middle;\n",
       "    }\n",
       "\n",
       "    .dataframe tbody tr th {\n",
       "        vertical-align: top;\n",
       "    }\n",
       "\n",
       "    .dataframe thead th {\n",
       "        text-align: right;\n",
       "    }\n",
       "</style>\n",
       "<table border=\"1\" class=\"dataframe\">\n",
       "  <thead>\n",
       "    <tr style=\"text-align: right;\">\n",
       "      <th></th>\n",
       "      <th>month</th>\n",
       "      <th>latabs</th>\n",
       "      <th>latitude</th>\n",
       "      <th>elevation</th>\n",
       "      <th>longitude</th>\n",
       "    </tr>\n",
       "    <tr>\n",
       "      <th>station</th>\n",
       "      <th></th>\n",
       "      <th></th>\n",
       "      <th></th>\n",
       "      <th></th>\n",
       "      <th></th>\n",
       "    </tr>\n",
       "  </thead>\n",
       "  <tbody>\n",
       "    <tr>\n",
       "      <th>OKECIE</th>\n",
       "      <td>1</td>\n",
       "      <td>52.166</td>\n",
       "      <td>52.166</td>\n",
       "      <td>110.3</td>\n",
       "      <td>20.9670</td>\n",
       "    </tr>\n",
       "    <tr>\n",
       "      <th>LAWICA</th>\n",
       "      <td>8</td>\n",
       "      <td>52.421</td>\n",
       "      <td>52.421</td>\n",
       "      <td>93.9</td>\n",
       "      <td>16.8260</td>\n",
       "    </tr>\n",
       "    <tr>\n",
       "      <th>LEBA</th>\n",
       "      <td>11</td>\n",
       "      <td>54.750</td>\n",
       "      <td>54.750</td>\n",
       "      <td>2.0</td>\n",
       "      <td>17.5331</td>\n",
       "    </tr>\n",
       "    <tr>\n",
       "      <th>SIEDLCE</th>\n",
       "      <td>10</td>\n",
       "      <td>52.250</td>\n",
       "      <td>52.250</td>\n",
       "      <td>152.0</td>\n",
       "      <td>22.2500</td>\n",
       "    </tr>\n",
       "    <tr>\n",
       "      <th>BIALYSTOK</th>\n",
       "      <td>11</td>\n",
       "      <td>53.100</td>\n",
       "      <td>53.100</td>\n",
       "      <td>151.0</td>\n",
       "      <td>23.1670</td>\n",
       "    </tr>\n",
       "  </tbody>\n",
       "</table>\n",
       "</div>"
      ],
      "text/plain": [
       "           month  latabs  latitude  elevation  longitude\n",
       "station                                                 \n",
       "OKECIE         1  52.166    52.166      110.3    20.9670\n",
       "LAWICA         8  52.421    52.421       93.9    16.8260\n",
       "LEBA          11  54.750    54.750        2.0    17.5331\n",
       "SIEDLCE       10  52.250    52.250      152.0    22.2500\n",
       "BIALYSTOK     11  53.100    53.100      151.0    23.1670"
      ]
     },
     "execution_count": 17,
     "metadata": {},
     "output_type": "execute_result"
    }
   ],
   "source": [
    "tr = fesel.DropConstantFeatures()\n",
    "tr.fit(X_train)\n",
    "X_train_tr = tr.transform(X_train)\n",
    "X_test_tr = tr.transform(X_test)\n",
    "X_train_tr.head()"
   ]
  },
  {
   "cell_type": "markdown",
   "id": "650a06d1-29b8-4304-a6ba-45d3df8d14d5",
   "metadata": {},
   "source": [
    "^ The feature `country` and `year` has been dropped."
   ]
  },
  {
   "cell_type": "code",
   "execution_count": 18,
   "id": "deb03998-cc58-4aea-bbcd-e0e828fbd88d",
   "metadata": {
    "tags": []
   },
   "outputs": [
    {
     "data": {
      "text/html": [
       "<div>\n",
       "<style scoped>\n",
       "    .dataframe tbody tr th:only-of-type {\n",
       "        vertical-align: middle;\n",
       "    }\n",
       "\n",
       "    .dataframe tbody tr th {\n",
       "        vertical-align: top;\n",
       "    }\n",
       "\n",
       "    .dataframe thead th {\n",
       "        text-align: right;\n",
       "    }\n",
       "</style>\n",
       "<table border=\"1\" class=\"dataframe\">\n",
       "  <thead>\n",
       "    <tr style=\"text-align: right;\">\n",
       "      <th></th>\n",
       "      <th>month</th>\n",
       "      <th>latabs</th>\n",
       "      <th>elevation</th>\n",
       "      <th>longitude</th>\n",
       "    </tr>\n",
       "    <tr>\n",
       "      <th>station</th>\n",
       "      <th></th>\n",
       "      <th></th>\n",
       "      <th></th>\n",
       "      <th></th>\n",
       "    </tr>\n",
       "  </thead>\n",
       "  <tbody>\n",
       "    <tr>\n",
       "      <th>OKECIE</th>\n",
       "      <td>1</td>\n",
       "      <td>52.166</td>\n",
       "      <td>110.3</td>\n",
       "      <td>20.9670</td>\n",
       "    </tr>\n",
       "    <tr>\n",
       "      <th>LAWICA</th>\n",
       "      <td>8</td>\n",
       "      <td>52.421</td>\n",
       "      <td>93.9</td>\n",
       "      <td>16.8260</td>\n",
       "    </tr>\n",
       "    <tr>\n",
       "      <th>LEBA</th>\n",
       "      <td>11</td>\n",
       "      <td>54.750</td>\n",
       "      <td>2.0</td>\n",
       "      <td>17.5331</td>\n",
       "    </tr>\n",
       "    <tr>\n",
       "      <th>SIEDLCE</th>\n",
       "      <td>10</td>\n",
       "      <td>52.250</td>\n",
       "      <td>152.0</td>\n",
       "      <td>22.2500</td>\n",
       "    </tr>\n",
       "    <tr>\n",
       "      <th>BIALYSTOK</th>\n",
       "      <td>11</td>\n",
       "      <td>53.100</td>\n",
       "      <td>151.0</td>\n",
       "      <td>23.1670</td>\n",
       "    </tr>\n",
       "  </tbody>\n",
       "</table>\n",
       "</div>"
      ],
      "text/plain": [
       "           month  latabs  elevation  longitude\n",
       "station                                       \n",
       "OKECIE         1  52.166      110.3    20.9670\n",
       "LAWICA         8  52.421       93.9    16.8260\n",
       "LEBA          11  54.750        2.0    17.5331\n",
       "SIEDLCE       10  52.250      152.0    22.2500\n",
       "BIALYSTOK     11  53.100      151.0    23.1670"
      ]
     },
     "execution_count": 18,
     "metadata": {},
     "output_type": "execute_result"
    }
   ],
   "source": [
    "tr = fesel.DropDuplicateFeatures()\n",
    "tr.fit(X_train_tr)\n",
    "X_train_tr = tr.transform(X_train_tr)\n",
    "X_train_tr.head()"
   ]
  },
  {
   "cell_type": "markdown",
   "id": "fc50f07c-5c0f-4ebe-93cc-659861ecd49a",
   "metadata": {},
   "source": [
    "^ Features that have the same values as other features are dropped. In this case, the transform drop `latitude`, which has the same values as `latabs`."
   ]
  },
  {
   "cell_type": "markdown",
   "id": "0df70e87-e210-4f95-a735-23c627c3b014",
   "metadata": {},
   "source": [
    "## Encoding categorical features"
   ]
  },
  {
   "cell_type": "markdown",
   "id": "c6be86b9-28cb-416b-8691-a09847b4c916",
   "metadata": {},
   "source": [
    "### One-hot encoding"
   ]
  },
  {
   "cell_type": "markdown",
   "id": "84226413-faef-409a-80d1-ebffaad6e367",
   "metadata": {},
   "source": [
    "One-hot encoding a features creates a binary vector for each value of that feature."
   ]
  },
  {
   "cell_type": "code",
   "execution_count": 20,
   "id": "70473518-9884-4517-8af9-51c896306920",
   "metadata": {
    "tags": []
   },
   "outputs": [],
   "source": [
    "import pandas as pd\n",
    "from feature_engine.encoding import OneHotEncoder\n",
    "from sklearn.model_selection import train_test_split\n",
    "from sklearn.preprocessing import OrdinalEncoder\n",
    "\n",
    "from data.load import load_nls97b"
   ]
  },
  {
   "cell_type": "code",
   "execution_count": 21,
   "id": "8298ffd6-b2bb-4b6a-b5ce-53b58514335c",
   "metadata": {
    "tags": []
   },
   "outputs": [],
   "source": [
    "nls97 = load_nls97b()"
   ]
  },
  {
   "cell_type": "code",
   "execution_count": 22,
   "id": "87c66b3b-8c08-42ff-8250-33b7e9792a69",
   "metadata": {
    "tags": []
   },
   "outputs": [],
   "source": [
    "feature_cols = [\"gender\", \"maritalstatus\", \"colenroct99\"]\n",
    "nls97_demo = nls97[[\"wageincome\"] + feature_cols].dropna()\n",
    "\n",
    "X_demo_train, X_demo_test, y_demo_train, y_demo_test = train_test_split(\n",
    "    nls97_demo[feature_cols], nls97_demo[[\"wageincome\"]], test_size=0.3, random_state=0\n",
    ")"
   ]
  },
  {
   "cell_type": "code",
   "execution_count": 23,
   "id": "96c4a569-bca6-45df-ba3e-10e0155b03ca",
   "metadata": {
    "tags": []
   },
   "outputs": [
    {
     "data": {
      "text/html": [
       "<div>\n",
       "<style scoped>\n",
       "    .dataframe tbody tr th:only-of-type {\n",
       "        vertical-align: middle;\n",
       "    }\n",
       "\n",
       "    .dataframe tbody tr th {\n",
       "        vertical-align: top;\n",
       "    }\n",
       "\n",
       "    .dataframe thead th {\n",
       "        text-align: right;\n",
       "    }\n",
       "</style>\n",
       "<table border=\"1\" class=\"dataframe\">\n",
       "  <thead>\n",
       "    <tr style=\"text-align: right;\">\n",
       "      <th>personid</th>\n",
       "      <th>736081</th>\n",
       "      <th>832734</th>\n",
       "    </tr>\n",
       "  </thead>\n",
       "  <tbody>\n",
       "    <tr>\n",
       "      <th>colenroct99</th>\n",
       "      <td>1. Not enrolled</td>\n",
       "      <td>1. Not enrolled</td>\n",
       "    </tr>\n",
       "    <tr>\n",
       "      <th>gender_Female</th>\n",
       "      <td>1</td>\n",
       "      <td>0</td>\n",
       "    </tr>\n",
       "    <tr>\n",
       "      <th>gender_Male</th>\n",
       "      <td>0</td>\n",
       "      <td>1</td>\n",
       "    </tr>\n",
       "    <tr>\n",
       "      <th>maritalstatus_Divorced</th>\n",
       "      <td>0</td>\n",
       "      <td>0</td>\n",
       "    </tr>\n",
       "    <tr>\n",
       "      <th>maritalstatus_Married</th>\n",
       "      <td>1</td>\n",
       "      <td>0</td>\n",
       "    </tr>\n",
       "    <tr>\n",
       "      <th>maritalstatus_Never-married</th>\n",
       "      <td>0</td>\n",
       "      <td>1</td>\n",
       "    </tr>\n",
       "    <tr>\n",
       "      <th>maritalstatus_Separated</th>\n",
       "      <td>0</td>\n",
       "      <td>0</td>\n",
       "    </tr>\n",
       "    <tr>\n",
       "      <th>maritalstatus_Widowed</th>\n",
       "      <td>0</td>\n",
       "      <td>0</td>\n",
       "    </tr>\n",
       "  </tbody>\n",
       "</table>\n",
       "</div>"
      ],
      "text/plain": [
       "personid                              736081           832734\n",
       "colenroct99                  1. Not enrolled  1. Not enrolled\n",
       "gender_Female                              1                0\n",
       "gender_Male                                0                1\n",
       "maritalstatus_Divorced                     0                0\n",
       "maritalstatus_Married                      1                0\n",
       "maritalstatus_Never-married                0                1\n",
       "maritalstatus_Separated                    0                0\n",
       "maritalstatus_Widowed                      0                0"
      ]
     },
     "execution_count": 23,
     "metadata": {},
     "output_type": "execute_result"
    }
   ],
   "source": [
    "pd.get_dummies(X_demo_train, columns=[\"gender\", \"maritalstatus\"]).head(2).T"
   ]
  },
  {
   "cell_type": "markdown",
   "id": "422f509f-be8c-444e-88ec-fd68275666ba",
   "metadata": {},
   "source": [
    "Typically, we create `k-1` dummy variables for `k` unique values for a feature."
   ]
  },
  {
   "cell_type": "code",
   "execution_count": 25,
   "id": "ddcbca06-3b5a-4ccd-bd10-dc4758fe29ef",
   "metadata": {
    "tags": []
   },
   "outputs": [
    {
     "data": {
      "text/html": [
       "<div>\n",
       "<style scoped>\n",
       "    .dataframe tbody tr th:only-of-type {\n",
       "        vertical-align: middle;\n",
       "    }\n",
       "\n",
       "    .dataframe tbody tr th {\n",
       "        vertical-align: top;\n",
       "    }\n",
       "\n",
       "    .dataframe thead th {\n",
       "        text-align: right;\n",
       "    }\n",
       "</style>\n",
       "<table border=\"1\" class=\"dataframe\">\n",
       "  <thead>\n",
       "    <tr style=\"text-align: right;\">\n",
       "      <th>personid</th>\n",
       "      <th>736081</th>\n",
       "      <th>832734</th>\n",
       "    </tr>\n",
       "  </thead>\n",
       "  <tbody>\n",
       "    <tr>\n",
       "      <th>colenroct99</th>\n",
       "      <td>1. Not enrolled</td>\n",
       "      <td>1. Not enrolled</td>\n",
       "    </tr>\n",
       "    <tr>\n",
       "      <th>gender_Male</th>\n",
       "      <td>0</td>\n",
       "      <td>1</td>\n",
       "    </tr>\n",
       "    <tr>\n",
       "      <th>maritalstatus_Married</th>\n",
       "      <td>1</td>\n",
       "      <td>0</td>\n",
       "    </tr>\n",
       "    <tr>\n",
       "      <th>maritalstatus_Never-married</th>\n",
       "      <td>0</td>\n",
       "      <td>1</td>\n",
       "    </tr>\n",
       "    <tr>\n",
       "      <th>maritalstatus_Separated</th>\n",
       "      <td>0</td>\n",
       "      <td>0</td>\n",
       "    </tr>\n",
       "    <tr>\n",
       "      <th>maritalstatus_Widowed</th>\n",
       "      <td>0</td>\n",
       "      <td>0</td>\n",
       "    </tr>\n",
       "  </tbody>\n",
       "</table>\n",
       "</div>"
      ],
      "text/plain": [
       "personid                              736081           832734\n",
       "colenroct99                  1. Not enrolled  1. Not enrolled\n",
       "gender_Male                                0                1\n",
       "maritalstatus_Married                      1                0\n",
       "maritalstatus_Never-married                0                1\n",
       "maritalstatus_Separated                    0                0\n",
       "maritalstatus_Widowed                      0                0"
      ]
     },
     "execution_count": 25,
     "metadata": {},
     "output_type": "execute_result"
    }
   ],
   "source": [
    "pd.get_dummies(X_demo_train, columns=[\"gender\", \"maritalstatus\"], drop_first=True).head(\n",
    "    2\n",
    ").T"
   ]
  },
  {
   "cell_type": "code",
   "execution_count": 26,
   "id": "00ef820b-3bb9-42dd-99ce-753b282db54e",
   "metadata": {
    "tags": []
   },
   "outputs": [
    {
     "data": {
      "text/html": [
       "<div>\n",
       "<style scoped>\n",
       "    .dataframe tbody tr th:only-of-type {\n",
       "        vertical-align: middle;\n",
       "    }\n",
       "\n",
       "    .dataframe tbody tr th {\n",
       "        vertical-align: top;\n",
       "    }\n",
       "\n",
       "    .dataframe thead th {\n",
       "        text-align: right;\n",
       "    }\n",
       "</style>\n",
       "<table border=\"1\" class=\"dataframe\">\n",
       "  <thead>\n",
       "    <tr style=\"text-align: right;\">\n",
       "      <th>personid</th>\n",
       "      <th>736081</th>\n",
       "      <th>832734</th>\n",
       "    </tr>\n",
       "  </thead>\n",
       "  <tbody>\n",
       "    <tr>\n",
       "      <th>gender_Female</th>\n",
       "      <td>1</td>\n",
       "      <td>0</td>\n",
       "    </tr>\n",
       "    <tr>\n",
       "      <th>maritalstatus_Married</th>\n",
       "      <td>1</td>\n",
       "      <td>0</td>\n",
       "    </tr>\n",
       "    <tr>\n",
       "      <th>maritalstatus_Never-married</th>\n",
       "      <td>0</td>\n",
       "      <td>1</td>\n",
       "    </tr>\n",
       "    <tr>\n",
       "      <th>maritalstatus_Divorced</th>\n",
       "      <td>0</td>\n",
       "      <td>0</td>\n",
       "    </tr>\n",
       "    <tr>\n",
       "      <th>maritalstatus_Separated</th>\n",
       "      <td>0</td>\n",
       "      <td>0</td>\n",
       "    </tr>\n",
       "  </tbody>\n",
       "</table>\n",
       "</div>"
      ],
      "text/plain": [
       "personid                     736081  832734\n",
       "gender_Female                     1       0\n",
       "maritalstatus_Married             1       0\n",
       "maritalstatus_Never-married       0       1\n",
       "maritalstatus_Divorced            0       0\n",
       "maritalstatus_Separated           0       0"
      ]
     },
     "execution_count": 26,
     "metadata": {},
     "output_type": "execute_result"
    }
   ],
   "source": [
    "ohe = OneHotEncoder(drop_last=True, variables=[\"gender\", \"maritalstatus\"])\n",
    "ohe.fit(X_demo_train)\n",
    "\n",
    "X_demo_train_ohe = ohe.transform(X_demo_train)\n",
    "X_demo_test_ohe = ohe.transform(X_demo_test)\n",
    "X_demo_train_ohe.filter(regex=\"gen|mar\", axis=\"columns\").head(2).T"
   ]
  }
 ],
 "metadata": {
  "kernelspec": {
   "display_name": "Python 3 (ipykernel)",
   "language": "python",
   "name": "python3"
  },
  "language_info": {
   "codemirror_mode": {
    "name": "ipython",
    "version": 3
   },
   "file_extension": ".py",
   "mimetype": "text/x-python",
   "name": "python",
   "nbconvert_exporter": "python",
   "pygments_lexer": "ipython3",
   "version": "3.9.16"
  }
 },
 "nbformat": 4,
 "nbformat_minor": 5
}
