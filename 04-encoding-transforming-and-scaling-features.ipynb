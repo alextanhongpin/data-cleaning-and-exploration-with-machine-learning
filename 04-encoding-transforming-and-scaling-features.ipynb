{
 "cells": [
  {
   "cell_type": "markdown",
   "id": "49fb44b4-a6a5-483a-b142-327b92b4b971",
   "metadata": {},
   "source": [
    "# Encoding, Transforming and Scaling Features"
   ]
  },
  {
   "cell_type": "markdown",
   "id": "b729ccf2-3906-4f22-820b-2823efad69bb",
   "metadata": {},
   "source": [
    "We will cover the following topics in this chapter:\n",
    "- creating training datasets and avoiding deep leakage\n",
    "- identifying irrelevant or redundant observations to be removed\n",
    "- encoding categorical features\n",
    "- encoding features with medium or high cardinality\n",
    "- transforming features\n",
    "- binning features\n",
    "- scaling features"
   ]
  },
  {
   "cell_type": "markdown",
   "id": "9c776251-2fbe-4793-bef5-378029560bb5",
   "metadata": {},
   "source": [
    "## Create training datasets and avoiding data leakage\n",
    "\n",
    "**Data leakage** occurs whenever our models are informed by data that is not in the training dataset. \n",
    "\n",
    "\n",
    "For example, if we have missing values for a feature, we might impute the mean across the whole dataset for those values. However, in order to validate our model, we subsequently split our data into training and testing data. We would have then accidentally introduced data leakage into our training dataset since the information from the full dataset (that is, global mean) would have been used."
   ]
  },
  {
   "cell_type": "markdown",
   "id": "6e43b1a6-70ee-45af-861b-617eb9b4f1a8",
   "metadata": {},
   "source": [
    "## Removing redundant or unhelpful features"
   ]
  },
  {
   "cell_type": "code",
   "execution_count": 1,
   "id": "9bead576-dbd6-4a49-9acd-6b97edc1b7c2",
   "metadata": {
    "tags": []
   },
   "outputs": [],
   "source": [
    "!pip install -qq feature-engine"
   ]
  },
  {
   "cell_type": "code",
   "execution_count": 7,
   "id": "930f7baf-fad1-4885-80b1-0f1b624a10e5",
   "metadata": {
    "tags": []
   },
   "outputs": [],
   "source": [
    "import feature_engine.selection as fesel\n",
    "from sklearn.model_selection import train_test_split\n",
    "\n",
    "from data.load import load_ltpoland, load_nls97b"
   ]
  },
  {
   "cell_type": "code",
   "execution_count": 8,
   "id": "71a9f1da-190f-47fd-ae42-c444905ff2e3",
   "metadata": {
    "tags": []
   },
   "outputs": [],
   "source": [
    "nls97 = load_nls97b()\n",
    "ltpoland = load_ltpoland()"
   ]
  },
  {
   "cell_type": "code",
   "execution_count": 9,
   "id": "fc2f59d9-344c-4dbb-bbd3-7ad838b128c7",
   "metadata": {
    "tags": []
   },
   "outputs": [],
   "source": [
    "feature_cols = [\n",
    "    \"satverbal\",\n",
    "    \"satmath\",\n",
    "    \"gpascience\",\n",
    "    \"gpaenglish\",\n",
    "    \"gpamath\",\n",
    "    \"gpaoverall\",\n",
    "]\n",
    "X_train, X_test, y_train, y_test = train_test_split(\n",
    "    nls97[feature_cols], nls97[[\"wageincome\"]], test_size=0.3, random_state=0\n",
    ")"
   ]
  },
  {
   "cell_type": "code",
   "execution_count": 10,
   "id": "ecb5573e-f928-402e-a914-250697cd7156",
   "metadata": {
    "tags": []
   },
   "outputs": [
    {
     "data": {
      "text/html": [
       "<div>\n",
       "<style scoped>\n",
       "    .dataframe tbody tr th:only-of-type {\n",
       "        vertical-align: middle;\n",
       "    }\n",
       "\n",
       "    .dataframe tbody tr th {\n",
       "        vertical-align: top;\n",
       "    }\n",
       "\n",
       "    .dataframe thead th {\n",
       "        text-align: right;\n",
       "    }\n",
       "</style>\n",
       "<table border=\"1\" class=\"dataframe\">\n",
       "  <thead>\n",
       "    <tr style=\"text-align: right;\">\n",
       "      <th></th>\n",
       "      <th>satverbal</th>\n",
       "      <th>satmath</th>\n",
       "      <th>gpascience</th>\n",
       "      <th>gpaenglish</th>\n",
       "      <th>gpamath</th>\n",
       "      <th>gpaoverall</th>\n",
       "    </tr>\n",
       "  </thead>\n",
       "  <tbody>\n",
       "    <tr>\n",
       "      <th>satverbal</th>\n",
       "      <td>1.000000</td>\n",
       "      <td>0.728890</td>\n",
       "      <td>0.438588</td>\n",
       "      <td>0.443692</td>\n",
       "      <td>0.375226</td>\n",
       "      <td>0.420707</td>\n",
       "    </tr>\n",
       "    <tr>\n",
       "      <th>satmath</th>\n",
       "      <td>0.728890</td>\n",
       "      <td>1.000000</td>\n",
       "      <td>0.479757</td>\n",
       "      <td>0.430359</td>\n",
       "      <td>0.517770</td>\n",
       "      <td>0.484701</td>\n",
       "    </tr>\n",
       "    <tr>\n",
       "      <th>gpascience</th>\n",
       "      <td>0.438588</td>\n",
       "      <td>0.479757</td>\n",
       "      <td>1.000000</td>\n",
       "      <td>0.671744</td>\n",
       "      <td>0.606340</td>\n",
       "      <td>0.792695</td>\n",
       "    </tr>\n",
       "    <tr>\n",
       "      <th>gpaenglish</th>\n",
       "      <td>0.443692</td>\n",
       "      <td>0.430359</td>\n",
       "      <td>0.671744</td>\n",
       "      <td>1.000000</td>\n",
       "      <td>0.599713</td>\n",
       "      <td>0.843816</td>\n",
       "    </tr>\n",
       "    <tr>\n",
       "      <th>gpamath</th>\n",
       "      <td>0.375226</td>\n",
       "      <td>0.517770</td>\n",
       "      <td>0.606340</td>\n",
       "      <td>0.599713</td>\n",
       "      <td>1.000000</td>\n",
       "      <td>0.750494</td>\n",
       "    </tr>\n",
       "    <tr>\n",
       "      <th>gpaoverall</th>\n",
       "      <td>0.420707</td>\n",
       "      <td>0.484701</td>\n",
       "      <td>0.792695</td>\n",
       "      <td>0.843816</td>\n",
       "      <td>0.750494</td>\n",
       "      <td>1.000000</td>\n",
       "    </tr>\n",
       "  </tbody>\n",
       "</table>\n",
       "</div>"
      ],
      "text/plain": [
       "            satverbal   satmath  gpascience  gpaenglish   gpamath  gpaoverall\n",
       "satverbal    1.000000  0.728890    0.438588    0.443692  0.375226    0.420707\n",
       "satmath      0.728890  1.000000    0.479757    0.430359  0.517770    0.484701\n",
       "gpascience   0.438588  0.479757    1.000000    0.671744  0.606340    0.792695\n",
       "gpaenglish   0.443692  0.430359    0.671744    1.000000  0.599713    0.843816\n",
       "gpamath      0.375226  0.517770    0.606340    0.599713  1.000000    0.750494\n",
       "gpaoverall   0.420707  0.484701    0.792695    0.843816  0.750494    1.000000"
      ]
     },
     "execution_count": 10,
     "metadata": {},
     "output_type": "execute_result"
    }
   ],
   "source": [
    "X_train.corr()"
   ]
  },
  {
   "cell_type": "markdown",
   "id": "a597f51a-468f-4609-97eb-a70107679641",
   "metadata": {},
   "source": [
    "^ Here, `gpaoverall` is highly correlated with `gpascience`, `gpaenglish` and `gpamath`. \n",
    "\n",
    "The `corr` method returns the `Pearson` coefficients by default. This is fine when we can assume a linear relationship with the features. However, when this assumption does not make sense, we should consider requesting `Spearman` coefficients instead. "
   ]
  },
  {
   "cell_type": "markdown",
   "id": "824154cd-1d3f-4d89-a6a0-2db39903db7c",
   "metadata": {},
   "source": [
    "Let's drop features that have a correlation higher than 0.75 with another feature."
   ]
  },
  {
   "cell_type": "code",
   "execution_count": 11,
   "id": "678988e8-fa46-4404-94ea-1ae9719af76f",
   "metadata": {
    "tags": []
   },
   "outputs": [
    {
     "name": "stdout",
     "output_type": "stream",
     "text": [
      "<class 'pandas.core.frame.DataFrame'>\n",
      "Int64Index: 6288 entries, 574974 to 370933\n",
      "Data columns (total 5 columns):\n",
      " #   Column      Non-Null Count  Dtype  \n",
      "---  ------      --------------  -----  \n",
      " 0   satverbal   1001 non-null   float64\n",
      " 1   satmath     1001 non-null   float64\n",
      " 2   gpascience  3998 non-null   float64\n",
      " 3   gpaenglish  4078 non-null   float64\n",
      " 4   gpamath     4056 non-null   float64\n",
      "dtypes: float64(5)\n",
      "memory usage: 294.8 KB\n"
     ]
    }
   ],
   "source": [
    "tr = fesel.DropCorrelatedFeatures(variables=None, method=\"pearson\", threshold=0.75)\n",
    "tr.fit(X_train)\n",
    "X_train_tr = tr.transform(X_train)\n",
    "X_test_tr = tr.transform(X_test)\n",
    "X_train_tr.info()"
   ]
  },
  {
   "cell_type": "markdown",
   "id": "5dcdd4d8-2a74-43c8-84c7-fdcda0857635",
   "metadata": {},
   "source": [
    "^ The column `gpaoverall` is dropped."
   ]
  },
  {
   "cell_type": "code",
   "execution_count": 12,
   "id": "b174c8fe-362c-4f77-9d7e-779938e5ee95",
   "metadata": {
    "tags": []
   },
   "outputs": [],
   "source": [
    "feature_cols = [\n",
    "    \"year\",\n",
    "    \"month\",\n",
    "    \"latabs\",\n",
    "    \"latitude\",\n",
    "    \"elevation\",\n",
    "    \"longitude\",\n",
    "    \"country\",\n",
    "]\n",
    "X_train, X_test, y_train, y_test = train_test_split(\n",
    "    ltpoland[feature_cols], ltpoland[[\"temperature\"]], test_size=0.3, random_state=0\n",
    ")"
   ]
  },
  {
   "cell_type": "code",
   "execution_count": 13,
   "id": "1c66c63c-855f-4aee-aaa9-8add28d2ffbd",
   "metadata": {
    "tags": []
   },
   "outputs": [
    {
     "data": {
      "text/html": [
       "<div>\n",
       "<style scoped>\n",
       "    .dataframe tbody tr th:only-of-type {\n",
       "        vertical-align: middle;\n",
       "    }\n",
       "\n",
       "    .dataframe tbody tr th {\n",
       "        vertical-align: top;\n",
       "    }\n",
       "\n",
       "    .dataframe thead th {\n",
       "        text-align: right;\n",
       "    }\n",
       "</style>\n",
       "<table border=\"1\" class=\"dataframe\">\n",
       "  <thead>\n",
       "    <tr style=\"text-align: right;\">\n",
       "      <th></th>\n",
       "      <th>year</th>\n",
       "      <th>month</th>\n",
       "      <th>latabs</th>\n",
       "      <th>latitude</th>\n",
       "      <th>elevation</th>\n",
       "      <th>longitude</th>\n",
       "      <th>country</th>\n",
       "    </tr>\n",
       "    <tr>\n",
       "      <th>station</th>\n",
       "      <th></th>\n",
       "      <th></th>\n",
       "      <th></th>\n",
       "      <th></th>\n",
       "      <th></th>\n",
       "      <th></th>\n",
       "      <th></th>\n",
       "    </tr>\n",
       "  </thead>\n",
       "  <tbody>\n",
       "    <tr>\n",
       "      <th>SIEDLCE</th>\n",
       "      <td>2019</td>\n",
       "      <td>11</td>\n",
       "      <td>52.250</td>\n",
       "      <td>52.250</td>\n",
       "      <td>152.0</td>\n",
       "      <td>22.250</td>\n",
       "      <td>Poland</td>\n",
       "    </tr>\n",
       "    <tr>\n",
       "      <th>OKECIE</th>\n",
       "      <td>2019</td>\n",
       "      <td>6</td>\n",
       "      <td>52.166</td>\n",
       "      <td>52.166</td>\n",
       "      <td>110.3</td>\n",
       "      <td>20.967</td>\n",
       "      <td>Poland</td>\n",
       "    </tr>\n",
       "    <tr>\n",
       "      <th>BALICE</th>\n",
       "      <td>2019</td>\n",
       "      <td>1</td>\n",
       "      <td>50.078</td>\n",
       "      <td>50.078</td>\n",
       "      <td>241.1</td>\n",
       "      <td>19.785</td>\n",
       "      <td>Poland</td>\n",
       "    </tr>\n",
       "    <tr>\n",
       "      <th>BALICE</th>\n",
       "      <td>2019</td>\n",
       "      <td>7</td>\n",
       "      <td>50.078</td>\n",
       "      <td>50.078</td>\n",
       "      <td>241.1</td>\n",
       "      <td>19.785</td>\n",
       "      <td>Poland</td>\n",
       "    </tr>\n",
       "    <tr>\n",
       "      <th>BIALYSTOK</th>\n",
       "      <td>2019</td>\n",
       "      <td>11</td>\n",
       "      <td>53.100</td>\n",
       "      <td>53.100</td>\n",
       "      <td>151.0</td>\n",
       "      <td>23.167</td>\n",
       "      <td>Poland</td>\n",
       "    </tr>\n",
       "  </tbody>\n",
       "</table>\n",
       "</div>"
      ],
      "text/plain": [
       "           year  month  latabs  latitude  elevation  longitude country\n",
       "station                                                               \n",
       "SIEDLCE    2019     11  52.250    52.250      152.0     22.250  Poland\n",
       "OKECIE     2019      6  52.166    52.166      110.3     20.967  Poland\n",
       "BALICE     2019      1  50.078    50.078      241.1     19.785  Poland\n",
       "BALICE     2019      7  50.078    50.078      241.1     19.785  Poland\n",
       "BIALYSTOK  2019     11  53.100    53.100      151.0     23.167  Poland"
      ]
     },
     "execution_count": 13,
     "metadata": {},
     "output_type": "execute_result"
    }
   ],
   "source": [
    "X_train.sample(5, random_state=99)"
   ]
  },
  {
   "cell_type": "code",
   "execution_count": 14,
   "id": "ebf86b41-a3d5-47b2-9903-2218f65235b1",
   "metadata": {
    "tags": []
   },
   "outputs": [
    {
     "data": {
      "text/plain": [
       "2019    84\n",
       "Name: year, dtype: int64"
      ]
     },
     "execution_count": 14,
     "metadata": {},
     "output_type": "execute_result"
    }
   ],
   "source": [
    "X_train.year.value_counts()"
   ]
  },
  {
   "cell_type": "code",
   "execution_count": 15,
   "id": "ff6b6644-20a1-4d49-b64b-7bf0dc3edb5b",
   "metadata": {
    "tags": []
   },
   "outputs": [
    {
     "data": {
      "text/plain": [
       "Poland    84\n",
       "Name: country, dtype: int64"
      ]
     },
     "execution_count": 15,
     "metadata": {},
     "output_type": "execute_result"
    }
   ],
   "source": [
    "X_train.country.value_counts()"
   ]
  },
  {
   "cell_type": "code",
   "execution_count": 16,
   "id": "75bb12b8-6769-4afc-aee2-e03a6d111ea2",
   "metadata": {
    "tags": []
   },
   "outputs": [
    {
     "data": {
      "text/plain": [
       "0"
      ]
     },
     "execution_count": 16,
     "metadata": {},
     "output_type": "execute_result"
    }
   ],
   "source": [
    "(X_train.latitude != X_train.latabs).sum()"
   ]
  },
  {
   "cell_type": "code",
   "execution_count": 17,
   "id": "f04c17b8-60cd-4f40-b157-baf9e37361ef",
   "metadata": {
    "tags": []
   },
   "outputs": [
    {
     "data": {
      "text/html": [
       "<div>\n",
       "<style scoped>\n",
       "    .dataframe tbody tr th:only-of-type {\n",
       "        vertical-align: middle;\n",
       "    }\n",
       "\n",
       "    .dataframe tbody tr th {\n",
       "        vertical-align: top;\n",
       "    }\n",
       "\n",
       "    .dataframe thead th {\n",
       "        text-align: right;\n",
       "    }\n",
       "</style>\n",
       "<table border=\"1\" class=\"dataframe\">\n",
       "  <thead>\n",
       "    <tr style=\"text-align: right;\">\n",
       "      <th></th>\n",
       "      <th>month</th>\n",
       "      <th>latabs</th>\n",
       "      <th>latitude</th>\n",
       "      <th>elevation</th>\n",
       "      <th>longitude</th>\n",
       "    </tr>\n",
       "    <tr>\n",
       "      <th>station</th>\n",
       "      <th></th>\n",
       "      <th></th>\n",
       "      <th></th>\n",
       "      <th></th>\n",
       "      <th></th>\n",
       "    </tr>\n",
       "  </thead>\n",
       "  <tbody>\n",
       "    <tr>\n",
       "      <th>OKECIE</th>\n",
       "      <td>1</td>\n",
       "      <td>52.166</td>\n",
       "      <td>52.166</td>\n",
       "      <td>110.3</td>\n",
       "      <td>20.9670</td>\n",
       "    </tr>\n",
       "    <tr>\n",
       "      <th>LAWICA</th>\n",
       "      <td>8</td>\n",
       "      <td>52.421</td>\n",
       "      <td>52.421</td>\n",
       "      <td>93.9</td>\n",
       "      <td>16.8260</td>\n",
       "    </tr>\n",
       "    <tr>\n",
       "      <th>LEBA</th>\n",
       "      <td>11</td>\n",
       "      <td>54.750</td>\n",
       "      <td>54.750</td>\n",
       "      <td>2.0</td>\n",
       "      <td>17.5331</td>\n",
       "    </tr>\n",
       "    <tr>\n",
       "      <th>SIEDLCE</th>\n",
       "      <td>10</td>\n",
       "      <td>52.250</td>\n",
       "      <td>52.250</td>\n",
       "      <td>152.0</td>\n",
       "      <td>22.2500</td>\n",
       "    </tr>\n",
       "    <tr>\n",
       "      <th>BIALYSTOK</th>\n",
       "      <td>11</td>\n",
       "      <td>53.100</td>\n",
       "      <td>53.100</td>\n",
       "      <td>151.0</td>\n",
       "      <td>23.1670</td>\n",
       "    </tr>\n",
       "  </tbody>\n",
       "</table>\n",
       "</div>"
      ],
      "text/plain": [
       "           month  latabs  latitude  elevation  longitude\n",
       "station                                                 \n",
       "OKECIE         1  52.166    52.166      110.3    20.9670\n",
       "LAWICA         8  52.421    52.421       93.9    16.8260\n",
       "LEBA          11  54.750    54.750        2.0    17.5331\n",
       "SIEDLCE       10  52.250    52.250      152.0    22.2500\n",
       "BIALYSTOK     11  53.100    53.100      151.0    23.1670"
      ]
     },
     "execution_count": 17,
     "metadata": {},
     "output_type": "execute_result"
    }
   ],
   "source": [
    "tr = fesel.DropConstantFeatures()\n",
    "tr.fit(X_train)\n",
    "X_train_tr = tr.transform(X_train)\n",
    "X_test_tr = tr.transform(X_test)\n",
    "X_train_tr.head()"
   ]
  },
  {
   "cell_type": "markdown",
   "id": "650a06d1-29b8-4304-a6ba-45d3df8d14d5",
   "metadata": {},
   "source": [
    "^ The feature `country` and `year` has been dropped."
   ]
  },
  {
   "cell_type": "code",
   "execution_count": 18,
   "id": "deb03998-cc58-4aea-bbcd-e0e828fbd88d",
   "metadata": {
    "tags": []
   },
   "outputs": [
    {
     "data": {
      "text/html": [
       "<div>\n",
       "<style scoped>\n",
       "    .dataframe tbody tr th:only-of-type {\n",
       "        vertical-align: middle;\n",
       "    }\n",
       "\n",
       "    .dataframe tbody tr th {\n",
       "        vertical-align: top;\n",
       "    }\n",
       "\n",
       "    .dataframe thead th {\n",
       "        text-align: right;\n",
       "    }\n",
       "</style>\n",
       "<table border=\"1\" class=\"dataframe\">\n",
       "  <thead>\n",
       "    <tr style=\"text-align: right;\">\n",
       "      <th></th>\n",
       "      <th>month</th>\n",
       "      <th>latabs</th>\n",
       "      <th>elevation</th>\n",
       "      <th>longitude</th>\n",
       "    </tr>\n",
       "    <tr>\n",
       "      <th>station</th>\n",
       "      <th></th>\n",
       "      <th></th>\n",
       "      <th></th>\n",
       "      <th></th>\n",
       "    </tr>\n",
       "  </thead>\n",
       "  <tbody>\n",
       "    <tr>\n",
       "      <th>OKECIE</th>\n",
       "      <td>1</td>\n",
       "      <td>52.166</td>\n",
       "      <td>110.3</td>\n",
       "      <td>20.9670</td>\n",
       "    </tr>\n",
       "    <tr>\n",
       "      <th>LAWICA</th>\n",
       "      <td>8</td>\n",
       "      <td>52.421</td>\n",
       "      <td>93.9</td>\n",
       "      <td>16.8260</td>\n",
       "    </tr>\n",
       "    <tr>\n",
       "      <th>LEBA</th>\n",
       "      <td>11</td>\n",
       "      <td>54.750</td>\n",
       "      <td>2.0</td>\n",
       "      <td>17.5331</td>\n",
       "    </tr>\n",
       "    <tr>\n",
       "      <th>SIEDLCE</th>\n",
       "      <td>10</td>\n",
       "      <td>52.250</td>\n",
       "      <td>152.0</td>\n",
       "      <td>22.2500</td>\n",
       "    </tr>\n",
       "    <tr>\n",
       "      <th>BIALYSTOK</th>\n",
       "      <td>11</td>\n",
       "      <td>53.100</td>\n",
       "      <td>151.0</td>\n",
       "      <td>23.1670</td>\n",
       "    </tr>\n",
       "  </tbody>\n",
       "</table>\n",
       "</div>"
      ],
      "text/plain": [
       "           month  latabs  elevation  longitude\n",
       "station                                       \n",
       "OKECIE         1  52.166      110.3    20.9670\n",
       "LAWICA         8  52.421       93.9    16.8260\n",
       "LEBA          11  54.750        2.0    17.5331\n",
       "SIEDLCE       10  52.250      152.0    22.2500\n",
       "BIALYSTOK     11  53.100      151.0    23.1670"
      ]
     },
     "execution_count": 18,
     "metadata": {},
     "output_type": "execute_result"
    }
   ],
   "source": [
    "tr = fesel.DropDuplicateFeatures()\n",
    "tr.fit(X_train_tr)\n",
    "X_train_tr = tr.transform(X_train_tr)\n",
    "X_train_tr.head()"
   ]
  },
  {
   "cell_type": "markdown",
   "id": "fc50f07c-5c0f-4ebe-93cc-659861ecd49a",
   "metadata": {},
   "source": [
    "^ Features that have the same values as other features are dropped. In this case, the transform drop `latitude`, which has the same values as `latabs`."
   ]
  },
  {
   "cell_type": "markdown",
   "id": "0df70e87-e210-4f95-a735-23c627c3b014",
   "metadata": {},
   "source": [
    "## Encoding categorical features"
   ]
  },
  {
   "cell_type": "markdown",
   "id": "c6be86b9-28cb-416b-8691-a09847b4c916",
   "metadata": {},
   "source": [
    "### One-hot encoding"
   ]
  },
  {
   "cell_type": "markdown",
   "id": "84226413-faef-409a-80d1-ebffaad6e367",
   "metadata": {},
   "source": [
    "One-hot encoding a features creates a binary vector for each value of that feature."
   ]
  },
  {
   "cell_type": "code",
   "execution_count": 3,
   "id": "70473518-9884-4517-8af9-51c896306920",
   "metadata": {
    "tags": []
   },
   "outputs": [],
   "source": [
    "import pandas as pd\n",
    "from feature_engine.encoding import OneHotEncoder\n",
    "from sklearn.model_selection import train_test_split\n",
    "from sklearn.preprocessing import OrdinalEncoder\n",
    "\n",
    "from data.load import load_nls97b"
   ]
  },
  {
   "cell_type": "code",
   "execution_count": 4,
   "id": "8298ffd6-b2bb-4b6a-b5ce-53b58514335c",
   "metadata": {
    "tags": []
   },
   "outputs": [],
   "source": [
    "nls97 = load_nls97b()"
   ]
  },
  {
   "cell_type": "code",
   "execution_count": 5,
   "id": "87c66b3b-8c08-42ff-8250-33b7e9792a69",
   "metadata": {
    "tags": []
   },
   "outputs": [],
   "source": [
    "feature_cols = [\"gender\", \"maritalstatus\", \"colenroct99\"]\n",
    "nls97_demo = nls97[[\"wageincome\"] + feature_cols].dropna()\n",
    "\n",
    "X_demo_train, X_demo_test, y_demo_train, y_demo_test = train_test_split(\n",
    "    nls97_demo[feature_cols], nls97_demo[[\"wageincome\"]], test_size=0.3, random_state=0\n",
    ")"
   ]
  },
  {
   "cell_type": "code",
   "execution_count": 68,
   "id": "96c4a569-bca6-45df-ba3e-10e0155b03ca",
   "metadata": {
    "tags": []
   },
   "outputs": [
    {
     "data": {
      "text/html": [
       "<div>\n",
       "<style scoped>\n",
       "    .dataframe tbody tr th:only-of-type {\n",
       "        vertical-align: middle;\n",
       "    }\n",
       "\n",
       "    .dataframe tbody tr th {\n",
       "        vertical-align: top;\n",
       "    }\n",
       "\n",
       "    .dataframe thead th {\n",
       "        text-align: right;\n",
       "    }\n",
       "</style>\n",
       "<table border=\"1\" class=\"dataframe\">\n",
       "  <thead>\n",
       "    <tr style=\"text-align: right;\">\n",
       "      <th>personid</th>\n",
       "      <th>736081</th>\n",
       "      <th>832734</th>\n",
       "    </tr>\n",
       "  </thead>\n",
       "  <tbody>\n",
       "    <tr>\n",
       "      <th>colenroct99</th>\n",
       "      <td>1. Not enrolled</td>\n",
       "      <td>1. Not enrolled</td>\n",
       "    </tr>\n",
       "    <tr>\n",
       "      <th>gender_Female</th>\n",
       "      <td>1</td>\n",
       "      <td>0</td>\n",
       "    </tr>\n",
       "    <tr>\n",
       "      <th>gender_Male</th>\n",
       "      <td>0</td>\n",
       "      <td>1</td>\n",
       "    </tr>\n",
       "    <tr>\n",
       "      <th>maritalstatus_Divorced</th>\n",
       "      <td>0</td>\n",
       "      <td>0</td>\n",
       "    </tr>\n",
       "    <tr>\n",
       "      <th>maritalstatus_Married</th>\n",
       "      <td>1</td>\n",
       "      <td>0</td>\n",
       "    </tr>\n",
       "    <tr>\n",
       "      <th>maritalstatus_Never-married</th>\n",
       "      <td>0</td>\n",
       "      <td>1</td>\n",
       "    </tr>\n",
       "    <tr>\n",
       "      <th>maritalstatus_Separated</th>\n",
       "      <td>0</td>\n",
       "      <td>0</td>\n",
       "    </tr>\n",
       "    <tr>\n",
       "      <th>maritalstatus_Widowed</th>\n",
       "      <td>0</td>\n",
       "      <td>0</td>\n",
       "    </tr>\n",
       "  </tbody>\n",
       "</table>\n",
       "</div>"
      ],
      "text/plain": [
       "personid                              736081           832734\n",
       "colenroct99                  1. Not enrolled  1. Not enrolled\n",
       "gender_Female                              1                0\n",
       "gender_Male                                0                1\n",
       "maritalstatus_Divorced                     0                0\n",
       "maritalstatus_Married                      1                0\n",
       "maritalstatus_Never-married                0                1\n",
       "maritalstatus_Separated                    0                0\n",
       "maritalstatus_Widowed                      0                0"
      ]
     },
     "execution_count": 68,
     "metadata": {},
     "output_type": "execute_result"
    }
   ],
   "source": [
    "pd.get_dummies(X_demo_train, columns=[\"gender\", \"maritalstatus\"]).head(2).T"
   ]
  },
  {
   "cell_type": "markdown",
   "id": "422f509f-be8c-444e-88ec-fd68275666ba",
   "metadata": {},
   "source": [
    "Typically, we create `k-1` dummy variables for `k` unique values for a feature."
   ]
  },
  {
   "cell_type": "code",
   "execution_count": 7,
   "id": "ddcbca06-3b5a-4ccd-bd10-dc4758fe29ef",
   "metadata": {
    "tags": []
   },
   "outputs": [
    {
     "data": {
      "text/html": [
       "<div>\n",
       "<style scoped>\n",
       "    .dataframe tbody tr th:only-of-type {\n",
       "        vertical-align: middle;\n",
       "    }\n",
       "\n",
       "    .dataframe tbody tr th {\n",
       "        vertical-align: top;\n",
       "    }\n",
       "\n",
       "    .dataframe thead th {\n",
       "        text-align: right;\n",
       "    }\n",
       "</style>\n",
       "<table border=\"1\" class=\"dataframe\">\n",
       "  <thead>\n",
       "    <tr style=\"text-align: right;\">\n",
       "      <th>personid</th>\n",
       "      <th>736081</th>\n",
       "      <th>832734</th>\n",
       "    </tr>\n",
       "  </thead>\n",
       "  <tbody>\n",
       "    <tr>\n",
       "      <th>colenroct99</th>\n",
       "      <td>1. Not enrolled</td>\n",
       "      <td>1. Not enrolled</td>\n",
       "    </tr>\n",
       "    <tr>\n",
       "      <th>gender_Male</th>\n",
       "      <td>0</td>\n",
       "      <td>1</td>\n",
       "    </tr>\n",
       "    <tr>\n",
       "      <th>maritalstatus_Married</th>\n",
       "      <td>1</td>\n",
       "      <td>0</td>\n",
       "    </tr>\n",
       "    <tr>\n",
       "      <th>maritalstatus_Never-married</th>\n",
       "      <td>0</td>\n",
       "      <td>1</td>\n",
       "    </tr>\n",
       "    <tr>\n",
       "      <th>maritalstatus_Separated</th>\n",
       "      <td>0</td>\n",
       "      <td>0</td>\n",
       "    </tr>\n",
       "    <tr>\n",
       "      <th>maritalstatus_Widowed</th>\n",
       "      <td>0</td>\n",
       "      <td>0</td>\n",
       "    </tr>\n",
       "  </tbody>\n",
       "</table>\n",
       "</div>"
      ],
      "text/plain": [
       "personid                              736081           832734\n",
       "colenroct99                  1. Not enrolled  1. Not enrolled\n",
       "gender_Male                                0                1\n",
       "maritalstatus_Married                      1                0\n",
       "maritalstatus_Never-married                0                1\n",
       "maritalstatus_Separated                    0                0\n",
       "maritalstatus_Widowed                      0                0"
      ]
     },
     "execution_count": 7,
     "metadata": {},
     "output_type": "execute_result"
    }
   ],
   "source": [
    "pd.get_dummies(X_demo_train, columns=[\"gender\", \"maritalstatus\"], drop_first=True).head(\n",
    "    2\n",
    ").T"
   ]
  },
  {
   "cell_type": "code",
   "execution_count": 8,
   "id": "00ef820b-3bb9-42dd-99ce-753b282db54e",
   "metadata": {
    "tags": []
   },
   "outputs": [
    {
     "data": {
      "text/html": [
       "<div>\n",
       "<style scoped>\n",
       "    .dataframe tbody tr th:only-of-type {\n",
       "        vertical-align: middle;\n",
       "    }\n",
       "\n",
       "    .dataframe tbody tr th {\n",
       "        vertical-align: top;\n",
       "    }\n",
       "\n",
       "    .dataframe thead th {\n",
       "        text-align: right;\n",
       "    }\n",
       "</style>\n",
       "<table border=\"1\" class=\"dataframe\">\n",
       "  <thead>\n",
       "    <tr style=\"text-align: right;\">\n",
       "      <th>personid</th>\n",
       "      <th>736081</th>\n",
       "      <th>832734</th>\n",
       "    </tr>\n",
       "  </thead>\n",
       "  <tbody>\n",
       "    <tr>\n",
       "      <th>gender_Female</th>\n",
       "      <td>1</td>\n",
       "      <td>0</td>\n",
       "    </tr>\n",
       "    <tr>\n",
       "      <th>maritalstatus_Married</th>\n",
       "      <td>1</td>\n",
       "      <td>0</td>\n",
       "    </tr>\n",
       "    <tr>\n",
       "      <th>maritalstatus_Never-married</th>\n",
       "      <td>0</td>\n",
       "      <td>1</td>\n",
       "    </tr>\n",
       "    <tr>\n",
       "      <th>maritalstatus_Divorced</th>\n",
       "      <td>0</td>\n",
       "      <td>0</td>\n",
       "    </tr>\n",
       "    <tr>\n",
       "      <th>maritalstatus_Separated</th>\n",
       "      <td>0</td>\n",
       "      <td>0</td>\n",
       "    </tr>\n",
       "  </tbody>\n",
       "</table>\n",
       "</div>"
      ],
      "text/plain": [
       "personid                     736081  832734\n",
       "gender_Female                     1       0\n",
       "maritalstatus_Married             1       0\n",
       "maritalstatus_Never-married       0       1\n",
       "maritalstatus_Divorced            0       0\n",
       "maritalstatus_Separated           0       0"
      ]
     },
     "execution_count": 8,
     "metadata": {},
     "output_type": "execute_result"
    }
   ],
   "source": [
    "ohe = OneHotEncoder(drop_last=True, variables=[\"gender\", \"maritalstatus\"])\n",
    "ohe.fit(X_demo_train)\n",
    "\n",
    "X_demo_train_ohe = ohe.transform(X_demo_train)\n",
    "X_demo_test_ohe = ohe.transform(X_demo_test)\n",
    "X_demo_train_ohe.filter(regex=\"gen|mar\", axis=\"columns\").head(2).T"
   ]
  },
  {
   "cell_type": "code",
   "execution_count": 36,
   "id": "ce893af7-a2b7-4d22-bc90-7512787b19fd",
   "metadata": {
    "tags": []
   },
   "outputs": [],
   "source": [
    "import numpy as np\n",
    "from sklearn.preprocessing import OneHotEncoder"
   ]
  },
  {
   "cell_type": "code",
   "execution_count": 61,
   "id": "e9a03083-83fe-45bd-8f83-a89ca0a1892d",
   "metadata": {
    "tags": []
   },
   "outputs": [
    {
     "data": {
      "text/html": [
       "<div>\n",
       "<style scoped>\n",
       "    .dataframe tbody tr th:only-of-type {\n",
       "        vertical-align: middle;\n",
       "    }\n",
       "\n",
       "    .dataframe tbody tr th {\n",
       "        vertical-align: top;\n",
       "    }\n",
       "\n",
       "    .dataframe thead th {\n",
       "        text-align: right;\n",
       "    }\n",
       "</style>\n",
       "<table border=\"1\" class=\"dataframe\">\n",
       "  <thead>\n",
       "    <tr style=\"text-align: right;\">\n",
       "      <th>personid</th>\n",
       "      <th>736081</th>\n",
       "      <th>832734</th>\n",
       "    </tr>\n",
       "  </thead>\n",
       "  <tbody>\n",
       "    <tr>\n",
       "      <th>gender_Male</th>\n",
       "      <td>0.0</td>\n",
       "      <td>1.0</td>\n",
       "    </tr>\n",
       "    <tr>\n",
       "      <th>maritalstatus_Married</th>\n",
       "      <td>1.0</td>\n",
       "      <td>0.0</td>\n",
       "    </tr>\n",
       "    <tr>\n",
       "      <th>maritalstatus_Never-married</th>\n",
       "      <td>0.0</td>\n",
       "      <td>1.0</td>\n",
       "    </tr>\n",
       "    <tr>\n",
       "      <th>maritalstatus_Separated</th>\n",
       "      <td>0.0</td>\n",
       "      <td>0.0</td>\n",
       "    </tr>\n",
       "    <tr>\n",
       "      <th>maritalstatus_Widowed</th>\n",
       "      <td>0.0</td>\n",
       "      <td>0.0</td>\n",
       "    </tr>\n",
       "  </tbody>\n",
       "</table>\n",
       "</div>"
      ],
      "text/plain": [
       "personid                     736081  832734\n",
       "gender_Male                     0.0     1.0\n",
       "maritalstatus_Married           1.0     0.0\n",
       "maritalstatus_Never-married     0.0     1.0\n",
       "maritalstatus_Separated         0.0     0.0\n",
       "maritalstatus_Widowed           0.0     0.0"
      ]
     },
     "execution_count": 61,
     "metadata": {},
     "output_type": "execute_result"
    }
   ],
   "source": [
    "columns = [\"gender\", \"maritalstatus\"]\n",
    "ohe = OneHotEncoder(drop=\"first\")\n",
    "ohe.fit(X_demo_train[columns])\n",
    "\n",
    "X_demo_train_ohe = ohe.transform(X_demo_train[columns])\n",
    "X_demo_train_ohe = pd.DataFrame(\n",
    "    X_demo_train_ohe.toarray(),\n",
    "    columns=ohe.get_feature_names_out(),\n",
    "    index=X_demo_train.index,\n",
    ")\n",
    "X_demo_train_ohe.filter(regex=\"gen|mar\", axis=\"columns\").head(2).T"
   ]
  },
  {
   "cell_type": "markdown",
   "id": "cb82ba1d-6de5-480b-9e77-a2a1a8419ee2",
   "metadata": {},
   "source": [
    "A better option is to use `ColumnTransformer` to transform perform one hot encoding on selected columns."
   ]
  },
  {
   "cell_type": "code",
   "execution_count": 66,
   "id": "5699eabd-fa0a-4906-ba15-9a8104218d51",
   "metadata": {
    "tags": []
   },
   "outputs": [
    {
     "data": {
      "text/html": [
       "<div>\n",
       "<style scoped>\n",
       "    .dataframe tbody tr th:only-of-type {\n",
       "        vertical-align: middle;\n",
       "    }\n",
       "\n",
       "    .dataframe tbody tr th {\n",
       "        vertical-align: top;\n",
       "    }\n",
       "\n",
       "    .dataframe thead th {\n",
       "        text-align: right;\n",
       "    }\n",
       "</style>\n",
       "<table border=\"1\" class=\"dataframe\">\n",
       "  <thead>\n",
       "    <tr style=\"text-align: right;\">\n",
       "      <th></th>\n",
       "      <th>gender_Female</th>\n",
       "      <th>gender_Male</th>\n",
       "      <th>maritalstatus_Divorced</th>\n",
       "      <th>maritalstatus_Married</th>\n",
       "      <th>maritalstatus_Never-married</th>\n",
       "      <th>maritalstatus_Separated</th>\n",
       "      <th>maritalstatus_Widowed</th>\n",
       "      <th>colenroct99</th>\n",
       "    </tr>\n",
       "    <tr>\n",
       "      <th>personid</th>\n",
       "      <th></th>\n",
       "      <th></th>\n",
       "      <th></th>\n",
       "      <th></th>\n",
       "      <th></th>\n",
       "      <th></th>\n",
       "      <th></th>\n",
       "      <th></th>\n",
       "    </tr>\n",
       "  </thead>\n",
       "  <tbody>\n",
       "    <tr>\n",
       "      <th>736081</th>\n",
       "      <td>1.0</td>\n",
       "      <td>0.0</td>\n",
       "      <td>0.0</td>\n",
       "      <td>1.0</td>\n",
       "      <td>0.0</td>\n",
       "      <td>0.0</td>\n",
       "      <td>0.0</td>\n",
       "      <td>1. Not enrolled</td>\n",
       "    </tr>\n",
       "    <tr>\n",
       "      <th>832734</th>\n",
       "      <td>0.0</td>\n",
       "      <td>1.0</td>\n",
       "      <td>0.0</td>\n",
       "      <td>0.0</td>\n",
       "      <td>1.0</td>\n",
       "      <td>0.0</td>\n",
       "      <td>0.0</td>\n",
       "      <td>1. Not enrolled</td>\n",
       "    </tr>\n",
       "    <tr>\n",
       "      <th>453537</th>\n",
       "      <td>0.0</td>\n",
       "      <td>1.0</td>\n",
       "      <td>0.0</td>\n",
       "      <td>1.0</td>\n",
       "      <td>0.0</td>\n",
       "      <td>0.0</td>\n",
       "      <td>0.0</td>\n",
       "      <td>1. Not enrolled</td>\n",
       "    </tr>\n",
       "    <tr>\n",
       "      <th>322059</th>\n",
       "      <td>1.0</td>\n",
       "      <td>0.0</td>\n",
       "      <td>1.0</td>\n",
       "      <td>0.0</td>\n",
       "      <td>0.0</td>\n",
       "      <td>0.0</td>\n",
       "      <td>0.0</td>\n",
       "      <td>1. Not enrolled</td>\n",
       "    </tr>\n",
       "    <tr>\n",
       "      <th>324323</th>\n",
       "      <td>1.0</td>\n",
       "      <td>0.0</td>\n",
       "      <td>0.0</td>\n",
       "      <td>1.0</td>\n",
       "      <td>0.0</td>\n",
       "      <td>0.0</td>\n",
       "      <td>0.0</td>\n",
       "      <td>2. 2-year college</td>\n",
       "    </tr>\n",
       "    <tr>\n",
       "      <th>...</th>\n",
       "      <td>...</td>\n",
       "      <td>...</td>\n",
       "      <td>...</td>\n",
       "      <td>...</td>\n",
       "      <td>...</td>\n",
       "      <td>...</td>\n",
       "      <td>...</td>\n",
       "      <td>...</td>\n",
       "    </tr>\n",
       "    <tr>\n",
       "      <th>975681</th>\n",
       "      <td>0.0</td>\n",
       "      <td>1.0</td>\n",
       "      <td>0.0</td>\n",
       "      <td>1.0</td>\n",
       "      <td>0.0</td>\n",
       "      <td>0.0</td>\n",
       "      <td>0.0</td>\n",
       "      <td>1. Not enrolled</td>\n",
       "    </tr>\n",
       "    <tr>\n",
       "      <th>686050</th>\n",
       "      <td>1.0</td>\n",
       "      <td>0.0</td>\n",
       "      <td>0.0</td>\n",
       "      <td>0.0</td>\n",
       "      <td>1.0</td>\n",
       "      <td>0.0</td>\n",
       "      <td>0.0</td>\n",
       "      <td>1. Not enrolled</td>\n",
       "    </tr>\n",
       "    <tr>\n",
       "      <th>393058</th>\n",
       "      <td>0.0</td>\n",
       "      <td>1.0</td>\n",
       "      <td>0.0</td>\n",
       "      <td>1.0</td>\n",
       "      <td>0.0</td>\n",
       "      <td>0.0</td>\n",
       "      <td>0.0</td>\n",
       "      <td>1. Not enrolled</td>\n",
       "    </tr>\n",
       "    <tr>\n",
       "      <th>565534</th>\n",
       "      <td>0.0</td>\n",
       "      <td>1.0</td>\n",
       "      <td>0.0</td>\n",
       "      <td>1.0</td>\n",
       "      <td>0.0</td>\n",
       "      <td>0.0</td>\n",
       "      <td>0.0</td>\n",
       "      <td>1. Not enrolled</td>\n",
       "    </tr>\n",
       "    <tr>\n",
       "      <th>587358</th>\n",
       "      <td>1.0</td>\n",
       "      <td>0.0</td>\n",
       "      <td>0.0</td>\n",
       "      <td>0.0</td>\n",
       "      <td>1.0</td>\n",
       "      <td>0.0</td>\n",
       "      <td>0.0</td>\n",
       "      <td>1. Not enrolled</td>\n",
       "    </tr>\n",
       "  </tbody>\n",
       "</table>\n",
       "<p>3542 rows × 8 columns</p>\n",
       "</div>"
      ],
      "text/plain": [
       "         gender_Female gender_Male maritalstatus_Divorced  \\\n",
       "personid                                                    \n",
       "736081             1.0         0.0                    0.0   \n",
       "832734             0.0         1.0                    0.0   \n",
       "453537             0.0         1.0                    0.0   \n",
       "322059             1.0         0.0                    1.0   \n",
       "324323             1.0         0.0                    0.0   \n",
       "...                ...         ...                    ...   \n",
       "975681             0.0         1.0                    0.0   \n",
       "686050             1.0         0.0                    0.0   \n",
       "393058             0.0         1.0                    0.0   \n",
       "565534             0.0         1.0                    0.0   \n",
       "587358             1.0         0.0                    0.0   \n",
       "\n",
       "         maritalstatus_Married maritalstatus_Never-married  \\\n",
       "personid                                                     \n",
       "736081                     1.0                         0.0   \n",
       "832734                     0.0                         1.0   \n",
       "453537                     1.0                         0.0   \n",
       "322059                     0.0                         0.0   \n",
       "324323                     1.0                         0.0   \n",
       "...                        ...                         ...   \n",
       "975681                     1.0                         0.0   \n",
       "686050                     0.0                         1.0   \n",
       "393058                     1.0                         0.0   \n",
       "565534                     1.0                         0.0   \n",
       "587358                     0.0                         1.0   \n",
       "\n",
       "         maritalstatus_Separated maritalstatus_Widowed         colenroct99  \n",
       "personid                                                                    \n",
       "736081                       0.0                   0.0     1. Not enrolled  \n",
       "832734                       0.0                   0.0     1. Not enrolled  \n",
       "453537                       0.0                   0.0     1. Not enrolled  \n",
       "322059                       0.0                   0.0     1. Not enrolled  \n",
       "324323                       0.0                   0.0  2. 2-year college   \n",
       "...                          ...                   ...                 ...  \n",
       "975681                       0.0                   0.0     1. Not enrolled  \n",
       "686050                       0.0                   0.0     1. Not enrolled  \n",
       "393058                       0.0                   0.0     1. Not enrolled  \n",
       "565534                       0.0                   0.0     1. Not enrolled  \n",
       "587358                       0.0                   0.0     1. Not enrolled  \n",
       "\n",
       "[3542 rows x 8 columns]"
      ]
     },
     "execution_count": 66,
     "metadata": {},
     "output_type": "execute_result"
    }
   ],
   "source": [
    "from sklearn.compose import make_column_transformer\n",
    "\n",
    "transformer = make_column_transformer(\n",
    "    (OneHotEncoder(), [\"gender\", \"maritalstatus\"]),\n",
    "    remainder=\"passthrough\",\n",
    "    verbose_feature_names_out=False,  # Prevent prefixing columns with `onehotencoder_` and `remainder_`.\n",
    ")\n",
    "transformed = transformer.fit_transform(X_demo_train)\n",
    "pd.DataFrame(\n",
    "    transformed, columns=transformer.get_feature_names_out(), index=X_demo_train.index\n",
    ")"
   ]
  },
  {
   "cell_type": "markdown",
   "id": "56ccd029-a973-4e57-a294-1698c90f4253",
   "metadata": {},
   "source": [
    "### Summary\n",
    "\n",
    "One-hot encoding is a fairly straightforward way to prepare nominal data for a machine learning algorithm."
   ]
  },
  {
   "cell_type": "markdown",
   "id": "4590b444-d328-4b80-afb3-2b5d1b82d634",
   "metadata": {},
   "source": [
    "## Ordinal encoding"
   ]
  },
  {
   "cell_type": "markdown",
   "id": "c021a821-7642-46f0-9466-9e2837c4ebcc",
   "metadata": {},
   "source": [
    "Categorical features can be either nominal or ordinal. Gender and marital status are norminal. Their values do not imply order.\n",
    "\n",
    "However, when a categorical feature is ordinal, we want the encoding to capture the ranking of the values. One-hot encoding will lose this ordering."
   ]
  },
  {
   "cell_type": "code",
   "execution_count": 74,
   "id": "da59dbaf-f60e-4f04-9636-cdca48d9a4fd",
   "metadata": {
    "tags": []
   },
   "outputs": [],
   "source": [
    "from sklearn.model_selection import train_test_split\n",
    "from sklearn.preprocessing import OrdinalEncoder\n",
    "\n",
    "from data.load import load_nls97b\n",
    "\n",
    "nls97 = load_nls97b()\n",
    "feature_cols = [\"gender\", \"maritalstatus\", \"colenroct99\"]\n",
    "nls97_demo = nls97[[\"wageincome\"] + feature_cols].dropna()\n",
    "\n",
    "X_demo_train, X_demo_test, y_demo_train, y_demo_test = train_test_split(\n",
    "    nls97_demo[feature_cols], nls97_demo[[\"wageincome\"]], test_size=0.3, random_state=0\n",
    ")"
   ]
  },
  {
   "cell_type": "markdown",
   "id": "1f8fc575-33e9-43e3-9e92-4d1a2089a679",
   "metadata": {},
   "source": [
    "The college enrollment for October 1999 can be considered an ordinal feature. The values are string, but there is an implied order."
   ]
  },
  {
   "cell_type": "code",
   "execution_count": 71,
   "id": "b104d5bf-6d6a-42f7-8375-ad1501a5918d",
   "metadata": {
    "tags": []
   },
   "outputs": [
    {
     "data": {
      "text/plain": [
       "array(['1. Not enrolled', '2. 2-year college ', '3. 4-year college'],\n",
       "      dtype=object)"
      ]
     },
     "execution_count": 71,
     "metadata": {},
     "output_type": "execute_result"
    }
   ],
   "source": [
    "X_demo_train.colenroct99.unique()"
   ]
  },
  {
   "cell_type": "code",
   "execution_count": 73,
   "id": "3a819393-8fcd-475c-b311-c4716a00651d",
   "metadata": {
    "tags": []
   },
   "outputs": [
    {
     "data": {
      "text/html": [
       "<div>\n",
       "<style scoped>\n",
       "    .dataframe tbody tr th:only-of-type {\n",
       "        vertical-align: middle;\n",
       "    }\n",
       "\n",
       "    .dataframe tbody tr th {\n",
       "        vertical-align: top;\n",
       "    }\n",
       "\n",
       "    .dataframe thead th {\n",
       "        text-align: right;\n",
       "    }\n",
       "</style>\n",
       "<table border=\"1\" class=\"dataframe\">\n",
       "  <thead>\n",
       "    <tr style=\"text-align: right;\">\n",
       "      <th></th>\n",
       "      <th>gender</th>\n",
       "      <th>maritalstatus</th>\n",
       "      <th>colenroct99</th>\n",
       "    </tr>\n",
       "    <tr>\n",
       "      <th>personid</th>\n",
       "      <th></th>\n",
       "      <th></th>\n",
       "      <th></th>\n",
       "    </tr>\n",
       "  </thead>\n",
       "  <tbody>\n",
       "    <tr>\n",
       "      <th>736081</th>\n",
       "      <td>Female</td>\n",
       "      <td>Married</td>\n",
       "      <td>1. Not enrolled</td>\n",
       "    </tr>\n",
       "    <tr>\n",
       "      <th>832734</th>\n",
       "      <td>Male</td>\n",
       "      <td>Never-married</td>\n",
       "      <td>1. Not enrolled</td>\n",
       "    </tr>\n",
       "    <tr>\n",
       "      <th>453537</th>\n",
       "      <td>Male</td>\n",
       "      <td>Married</td>\n",
       "      <td>1. Not enrolled</td>\n",
       "    </tr>\n",
       "    <tr>\n",
       "      <th>322059</th>\n",
       "      <td>Female</td>\n",
       "      <td>Divorced</td>\n",
       "      <td>1. Not enrolled</td>\n",
       "    </tr>\n",
       "    <tr>\n",
       "      <th>324323</th>\n",
       "      <td>Female</td>\n",
       "      <td>Married</td>\n",
       "      <td>2. 2-year college</td>\n",
       "    </tr>\n",
       "  </tbody>\n",
       "</table>\n",
       "</div>"
      ],
      "text/plain": [
       "          gender  maritalstatus         colenroct99\n",
       "personid                                           \n",
       "736081    Female        Married     1. Not enrolled\n",
       "832734      Male  Never-married     1. Not enrolled\n",
       "453537      Male        Married     1. Not enrolled\n",
       "322059    Female       Divorced     1. Not enrolled\n",
       "324323    Female        Married  2. 2-year college "
      ]
     },
     "execution_count": 73,
     "metadata": {},
     "output_type": "execute_result"
    }
   ],
   "source": [
    "X_demo_train.head()"
   ]
  },
  {
   "cell_type": "code",
   "execution_count": 75,
   "id": "89275edf-315c-4617-8d54-75be828bff24",
   "metadata": {
    "tags": []
   },
   "outputs": [
    {
     "data": {
      "text/html": [
       "<div>\n",
       "<style scoped>\n",
       "    .dataframe tbody tr th:only-of-type {\n",
       "        vertical-align: middle;\n",
       "    }\n",
       "\n",
       "    .dataframe tbody tr th {\n",
       "        vertical-align: top;\n",
       "    }\n",
       "\n",
       "    .dataframe thead th {\n",
       "        text-align: right;\n",
       "    }\n",
       "</style>\n",
       "<table border=\"1\" class=\"dataframe\">\n",
       "  <thead>\n",
       "    <tr style=\"text-align: right;\">\n",
       "      <th></th>\n",
       "      <th>colenroct99</th>\n",
       "    </tr>\n",
       "    <tr>\n",
       "      <th>personid</th>\n",
       "      <th></th>\n",
       "    </tr>\n",
       "  </thead>\n",
       "  <tbody>\n",
       "    <tr>\n",
       "      <th>736081</th>\n",
       "      <td>0.0</td>\n",
       "    </tr>\n",
       "    <tr>\n",
       "      <th>832734</th>\n",
       "      <td>0.0</td>\n",
       "    </tr>\n",
       "    <tr>\n",
       "      <th>453537</th>\n",
       "      <td>0.0</td>\n",
       "    </tr>\n",
       "    <tr>\n",
       "      <th>322059</th>\n",
       "      <td>0.0</td>\n",
       "    </tr>\n",
       "    <tr>\n",
       "      <th>324323</th>\n",
       "      <td>1.0</td>\n",
       "    </tr>\n",
       "    <tr>\n",
       "      <th>...</th>\n",
       "      <td>...</td>\n",
       "    </tr>\n",
       "    <tr>\n",
       "      <th>975681</th>\n",
       "      <td>0.0</td>\n",
       "    </tr>\n",
       "    <tr>\n",
       "      <th>686050</th>\n",
       "      <td>0.0</td>\n",
       "    </tr>\n",
       "    <tr>\n",
       "      <th>393058</th>\n",
       "      <td>0.0</td>\n",
       "    </tr>\n",
       "    <tr>\n",
       "      <th>565534</th>\n",
       "      <td>0.0</td>\n",
       "    </tr>\n",
       "    <tr>\n",
       "      <th>587358</th>\n",
       "      <td>0.0</td>\n",
       "    </tr>\n",
       "  </tbody>\n",
       "</table>\n",
       "<p>3542 rows × 1 columns</p>\n",
       "</div>"
      ],
      "text/plain": [
       "          colenroct99\n",
       "personid             \n",
       "736081            0.0\n",
       "832734            0.0\n",
       "453537            0.0\n",
       "322059            0.0\n",
       "324323            1.0\n",
       "...               ...\n",
       "975681            0.0\n",
       "686050            0.0\n",
       "393058            0.0\n",
       "565534            0.0\n",
       "587358            0.0\n",
       "\n",
       "[3542 rows x 1 columns]"
      ]
     },
     "execution_count": 75,
     "metadata": {},
     "output_type": "execute_result"
    }
   ],
   "source": [
    "oe = OrdinalEncoder(categories=[X_demo_train.colenroct99.unique()])\n",
    "colenr_enc = pd.DataFrame(\n",
    "    oe.fit_transform(X_demo_train[[\"colenroct99\"]]),\n",
    "    columns=[\"colenroct99\"],\n",
    "    index=X_demo_train.index,\n",
    ")\n",
    "colenr_enc"
   ]
  },
  {
   "cell_type": "code",
   "execution_count": 77,
   "id": "6764aabf-f555-40d6-b44a-60677703d9c3",
   "metadata": {
    "tags": []
   },
   "outputs": [
    {
     "data": {
      "text/html": [
       "<div>\n",
       "<style scoped>\n",
       "    .dataframe tbody tr th:only-of-type {\n",
       "        vertical-align: middle;\n",
       "    }\n",
       "\n",
       "    .dataframe tbody tr th {\n",
       "        vertical-align: top;\n",
       "    }\n",
       "\n",
       "    .dataframe thead th {\n",
       "        text-align: right;\n",
       "    }\n",
       "</style>\n",
       "<table border=\"1\" class=\"dataframe\">\n",
       "  <thead>\n",
       "    <tr style=\"text-align: right;\">\n",
       "      <th></th>\n",
       "      <th>gender</th>\n",
       "      <th>maritalstatus</th>\n",
       "      <th>colenroct99</th>\n",
       "    </tr>\n",
       "    <tr>\n",
       "      <th>personid</th>\n",
       "      <th></th>\n",
       "      <th></th>\n",
       "      <th></th>\n",
       "    </tr>\n",
       "  </thead>\n",
       "  <tbody>\n",
       "    <tr>\n",
       "      <th>736081</th>\n",
       "      <td>Female</td>\n",
       "      <td>Married</td>\n",
       "      <td>0.0</td>\n",
       "    </tr>\n",
       "    <tr>\n",
       "      <th>832734</th>\n",
       "      <td>Male</td>\n",
       "      <td>Never-married</td>\n",
       "      <td>0.0</td>\n",
       "    </tr>\n",
       "    <tr>\n",
       "      <th>453537</th>\n",
       "      <td>Male</td>\n",
       "      <td>Married</td>\n",
       "      <td>0.0</td>\n",
       "    </tr>\n",
       "    <tr>\n",
       "      <th>322059</th>\n",
       "      <td>Female</td>\n",
       "      <td>Divorced</td>\n",
       "      <td>0.0</td>\n",
       "    </tr>\n",
       "    <tr>\n",
       "      <th>324323</th>\n",
       "      <td>Female</td>\n",
       "      <td>Married</td>\n",
       "      <td>1.0</td>\n",
       "    </tr>\n",
       "    <tr>\n",
       "      <th>...</th>\n",
       "      <td>...</td>\n",
       "      <td>...</td>\n",
       "      <td>...</td>\n",
       "    </tr>\n",
       "    <tr>\n",
       "      <th>975681</th>\n",
       "      <td>Male</td>\n",
       "      <td>Married</td>\n",
       "      <td>0.0</td>\n",
       "    </tr>\n",
       "    <tr>\n",
       "      <th>686050</th>\n",
       "      <td>Female</td>\n",
       "      <td>Never-married</td>\n",
       "      <td>0.0</td>\n",
       "    </tr>\n",
       "    <tr>\n",
       "      <th>393058</th>\n",
       "      <td>Male</td>\n",
       "      <td>Married</td>\n",
       "      <td>0.0</td>\n",
       "    </tr>\n",
       "    <tr>\n",
       "      <th>565534</th>\n",
       "      <td>Male</td>\n",
       "      <td>Married</td>\n",
       "      <td>0.0</td>\n",
       "    </tr>\n",
       "    <tr>\n",
       "      <th>587358</th>\n",
       "      <td>Female</td>\n",
       "      <td>Never-married</td>\n",
       "      <td>0.0</td>\n",
       "    </tr>\n",
       "  </tbody>\n",
       "</table>\n",
       "<p>3542 rows × 3 columns</p>\n",
       "</div>"
      ],
      "text/plain": [
       "          gender  maritalstatus  colenroct99\n",
       "personid                                    \n",
       "736081    Female        Married          0.0\n",
       "832734      Male  Never-married          0.0\n",
       "453537      Male        Married          0.0\n",
       "322059    Female       Divorced          0.0\n",
       "324323    Female        Married          1.0\n",
       "...          ...            ...          ...\n",
       "975681      Male        Married          0.0\n",
       "686050    Female  Never-married          0.0\n",
       "393058      Male        Married          0.0\n",
       "565534      Male        Married          0.0\n",
       "587358    Female  Never-married          0.0\n",
       "\n",
       "[3542 rows x 3 columns]"
      ]
     },
     "execution_count": 77,
     "metadata": {},
     "output_type": "execute_result"
    }
   ],
   "source": [
    "X_demo_train_enc = X_demo_train[[\"gender\", \"maritalstatus\"]].join(colenr_enc)\n",
    "X_demo_train_enc"
   ]
  },
  {
   "cell_type": "code",
   "execution_count": 78,
   "id": "0e7a14dd-877c-45a8-9aff-7793807bdb6c",
   "metadata": {
    "tags": []
   },
   "outputs": [
    {
     "data": {
      "text/plain": [
       "1. Not enrolled       3050\n",
       "2. 2-year college      142\n",
       "3. 4-year college      350\n",
       "Name: colenroct99, dtype: int64"
      ]
     },
     "execution_count": 78,
     "metadata": {},
     "output_type": "execute_result"
    }
   ],
   "source": [
    "X_demo_train.colenroct99.value_counts().sort_index()"
   ]
  },
  {
   "cell_type": "code",
   "execution_count": 79,
   "id": "1e044828-f018-4be2-a09a-8a9eb10f7400",
   "metadata": {
    "tags": []
   },
   "outputs": [
    {
     "data": {
      "text/plain": [
       "0.0    3050\n",
       "1.0     142\n",
       "2.0     350\n",
       "Name: colenroct99, dtype: int64"
      ]
     },
     "execution_count": 79,
     "metadata": {},
     "output_type": "execute_result"
    }
   ],
   "source": [
    "X_demo_train_enc.colenroct99.value_counts().sort_index()"
   ]
  },
  {
   "cell_type": "markdown",
   "id": "c1583621-14bb-487f-8323-5c00aedb9f5a",
   "metadata": {},
   "source": [
    "### Summary\n",
    "\n",
    "The ordinal encoding replaces the initial values for `colenroct99` with numbers from 0 to 2. \n",
    "\n",
    "> Note: Ordinal encoding is appropriate for non-linear models such as decision trees. It might not make sense in a linear regression model because that would assume that the distance between values was equally meaningful across the whole distribution."
   ]
  },
  {
   "cell_type": "markdown",
   "id": "73673934-8b47-4b44-8ec7-410408904378",
   "metadata": {},
   "source": [
    "## Encoding categorical features with medium or high cardinality\n"
   ]
  },
  {
   "cell_type": "markdown",
   "id": "9d5dbaec-2b71-455a-803f-d79202af2c16",
   "metadata": {
    "tags": []
   },
   "source": [
    "It can be impractical to create a dummy variable for each value when working with a categorical feature that has many unique values. \n",
    "\n",
    "There are couple of ways to handle medium or high cardinality:\n",
    "- create dummies for the top k categories and group the remaining into an _other_ category\n",
    "- use feature hashing"
   ]
  },
  {
   "cell_type": "code",
   "execution_count": 83,
   "id": "9ad9e6de-36e3-4f03-8795-7e16d1d001d5",
   "metadata": {
    "tags": []
   },
   "outputs": [],
   "source": [
    "!pip install -qq category_encoders\n",
    "import pandas as pd\n",
    "from category_encoders.hashing import HashingEncoder\n",
    "from feature_engine.encoding import OneHotEncoder\n",
    "from sklearn.model_selection import train_test_split\n",
    "\n",
    "from data.load import load_covid"
   ]
  },
  {
   "cell_type": "code",
   "execution_count": 85,
   "id": "b59baf73-96d9-497c-be2b-37007b2b1cdd",
   "metadata": {
    "tags": []
   },
   "outputs": [],
   "source": [
    "covid = load_covid()\n",
    "feature_cols = [\n",
    "    \"location\",\n",
    "    \"population\",\n",
    "    \"aged_65_older\",\n",
    "    \"diabetes_prevalence\",\n",
    "    \"region\",\n",
    "]\n",
    "covid = covid[[\"total_cases\"] + feature_cols].dropna()"
   ]
  },
  {
   "cell_type": "code",
   "execution_count": 88,
   "id": "b9dc47ab-65d8-41cd-b620-98220d54d838",
   "metadata": {
    "tags": []
   },
   "outputs": [],
   "source": [
    "X_train, X_test, y_train, y_test = train_test_split(\n",
    "    covid[feature_cols], covid[[\"total_cases\"]], test_size=0.3, random_state=0\n",
    ")"
   ]
  },
  {
   "cell_type": "markdown",
   "id": "64840646-8b25-4dbd-991a-02692f274c72",
   "metadata": {},
   "source": [
    "The feature `region` has 16 unique values."
   ]
  },
  {
   "cell_type": "code",
   "execution_count": 89,
   "id": "f3d519bb-21ea-4134-8068-d5c5b0e49afc",
   "metadata": {
    "tags": []
   },
   "outputs": [
    {
     "data": {
      "text/plain": [
       "Eastern Europe     16\n",
       "East Asia          12\n",
       "Western Europe     12\n",
       "West Africa        11\n",
       "West Asia          10\n",
       "East Africa        10\n",
       "South Asia          7\n",
       "Southern Africa     7\n",
       "South America       7\n",
       "Central Africa      7\n",
       "Oceania / Aus       6\n",
       "Caribbean           6\n",
       "Central Asia        5\n",
       "North Africa        4\n",
       "Central America     3\n",
       "North America       3\n",
       "Name: region, dtype: int64"
      ]
     },
     "execution_count": 89,
     "metadata": {},
     "output_type": "execute_result"
    }
   ],
   "source": [
    "X_train.region.value_counts()"
   ]
  },
  {
   "cell_type": "markdown",
   "id": "62333cd7-0abf-4907-af5a-ca01da47e340",
   "metadata": {},
   "source": [
    "We use the `OneHotEncoder` module from `feature_engine` to encode the `region` feature. This time, we use the `top_categories` parameter to indicate that we only want to create dummmies for the top six category values. Any values that do not fall into the top six will have a 0 for all of the dummies."
   ]
  },
  {
   "cell_type": "code",
   "execution_count": 90,
   "id": "16c133b5-ff38-4759-8a4e-3c49c55a6f9d",
   "metadata": {
    "tags": []
   },
   "outputs": [
    {
     "data": {
      "text/html": [
       "<div>\n",
       "<style scoped>\n",
       "    .dataframe tbody tr th:only-of-type {\n",
       "        vertical-align: middle;\n",
       "    }\n",
       "\n",
       "    .dataframe tbody tr th {\n",
       "        vertical-align: top;\n",
       "    }\n",
       "\n",
       "    .dataframe thead th {\n",
       "        text-align: right;\n",
       "    }\n",
       "</style>\n",
       "<table border=\"1\" class=\"dataframe\">\n",
       "  <thead>\n",
       "    <tr style=\"text-align: right;\">\n",
       "      <th>iso_code</th>\n",
       "      <th>ISR</th>\n",
       "      <th>SEN</th>\n",
       "      <th>IDN</th>\n",
       "      <th>LKA</th>\n",
       "      <th>KEN</th>\n",
       "    </tr>\n",
       "  </thead>\n",
       "  <tbody>\n",
       "    <tr>\n",
       "      <th>location</th>\n",
       "      <td>Israel</td>\n",
       "      <td>Senegal</td>\n",
       "      <td>Indonesia</td>\n",
       "      <td>Sri Lanka</td>\n",
       "      <td>Kenya</td>\n",
       "    </tr>\n",
       "    <tr>\n",
       "      <th>region_Eastern Europe</th>\n",
       "      <td>0</td>\n",
       "      <td>0</td>\n",
       "      <td>0</td>\n",
       "      <td>0</td>\n",
       "      <td>0</td>\n",
       "    </tr>\n",
       "    <tr>\n",
       "      <th>region_Western Europe</th>\n",
       "      <td>0</td>\n",
       "      <td>0</td>\n",
       "      <td>0</td>\n",
       "      <td>0</td>\n",
       "      <td>0</td>\n",
       "    </tr>\n",
       "    <tr>\n",
       "      <th>region_West Africa</th>\n",
       "      <td>0</td>\n",
       "      <td>1</td>\n",
       "      <td>0</td>\n",
       "      <td>0</td>\n",
       "      <td>0</td>\n",
       "    </tr>\n",
       "    <tr>\n",
       "      <th>region_East Asia</th>\n",
       "      <td>0</td>\n",
       "      <td>0</td>\n",
       "      <td>1</td>\n",
       "      <td>0</td>\n",
       "      <td>0</td>\n",
       "    </tr>\n",
       "    <tr>\n",
       "      <th>region_West Asia</th>\n",
       "      <td>1</td>\n",
       "      <td>0</td>\n",
       "      <td>0</td>\n",
       "      <td>0</td>\n",
       "      <td>0</td>\n",
       "    </tr>\n",
       "    <tr>\n",
       "      <th>region_East Africa</th>\n",
       "      <td>0</td>\n",
       "      <td>0</td>\n",
       "      <td>0</td>\n",
       "      <td>0</td>\n",
       "      <td>1</td>\n",
       "    </tr>\n",
       "  </tbody>\n",
       "</table>\n",
       "</div>"
      ],
      "text/plain": [
       "iso_code                  ISR      SEN        IDN        LKA    KEN\n",
       "location               Israel  Senegal  Indonesia  Sri Lanka  Kenya\n",
       "region_Eastern Europe       0        0          0          0      0\n",
       "region_Western Europe       0        0          0          0      0\n",
       "region_West Africa          0        1          0          0      0\n",
       "region_East Asia            0        0          1          0      0\n",
       "region_West Asia            1        0          0          0      0\n",
       "region_East Africa          0        0          0          0      1"
      ]
     },
     "execution_count": 90,
     "metadata": {},
     "output_type": "execute_result"
    }
   ],
   "source": [
    "ohe = OneHotEncoder(top_categories=6, variables=[\"region\"])\n",
    "covid_ohe = ohe.fit_transform(covid)\n",
    "covid_ohe.filter(regex=\"location|region\", axis=\"columns\").sample(5, random_state=99).T"
   ]
  },
  {
   "cell_type": "markdown",
   "id": "140f3520-dba8-450b-9107-547296bba413",
   "metadata": {},
   "source": [
    "An alternative approach to one-hot encoding, when a _categorical feature_ has many unique values, is to use __feature hashing__."
   ]
  },
  {
   "cell_type": "code",
   "execution_count": null,
   "id": "f00a68c1-9f26-43f3-891a-c80beb041eac",
   "metadata": {},
   "outputs": [],
   "source": [
    "\n"
   ]
  }
 ],
 "metadata": {
  "kernelspec": {
   "display_name": "Python 3 (ipykernel)",
   "language": "python",
   "name": "python3"
  },
  "language_info": {
   "codemirror_mode": {
    "name": "ipython",
    "version": 3
   },
   "file_extension": ".py",
   "mimetype": "text/x-python",
   "name": "python",
   "nbconvert_exporter": "python",
   "pygments_lexer": "ipython3",
   "version": "3.9.16"
  }
 },
 "nbformat": 4,
 "nbformat_minor": 5
}
